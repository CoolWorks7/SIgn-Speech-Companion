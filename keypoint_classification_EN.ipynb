{
 "cells": [
  {
   "cell_type": "code",
   "execution_count": 72,
   "metadata": {
    "id": "igMyGnjE9hEp"
   },
   "outputs": [],
   "source": [
    "import csv\n",
    "\n",
    "import numpy as np\n",
    "import tensorflow as tf\n",
    "from sklearn.model_selection import train_test_split\n",
    "\n",
    "RANDOM_SEED = 42"
   ]
  },
  {
   "cell_type": "markdown",
   "metadata": {
    "id": "t2HDvhIu9hEr"
   },
   "source": [
    "# Specify each path"
   ]
  },
  {
   "cell_type": "code",
   "execution_count": 73,
   "metadata": {
    "id": "9NvZP2Zn9hEy"
   },
   "outputs": [],
   "source": [
    "dataset = 'model/keypoint_classifier/keypoint.csv'\n",
    "model_save_path = 'model/keypoint_classifier/keypoint_classifier.hdf5'\n",
    "tflite_save_path = 'model/keypoint_classifier/keypoint_classifier.tflite'"
   ]
  },
  {
   "cell_type": "markdown",
   "metadata": {
    "id": "s5oMH7x19hEz"
   },
   "source": [
    "# Set number of classes"
   ]
  },
  {
   "cell_type": "code",
   "execution_count": 74,
   "metadata": {
    "id": "du4kodXL9hEz"
   },
   "outputs": [],
   "source": [
    "NUM_CLASSES = 23"
   ]
  },
  {
   "cell_type": "markdown",
   "metadata": {
    "id": "XjnL0uso9hEz"
   },
   "source": [
    "# Dataset reading"
   ]
  },
  {
   "cell_type": "code",
   "execution_count": 75,
   "metadata": {
    "id": "QT5ZqtEz9hE0"
   },
   "outputs": [],
   "source": [
    "X_dataset = np.loadtxt(dataset, delimiter=',', dtype='float32', usecols=list(range(1, (21*2 + 21*2 + 2*1) + 1)))"
   ]
  },
  {
   "cell_type": "code",
   "execution_count": 76,
   "metadata": {
    "id": "QmoKFsp49hE0"
   },
   "outputs": [],
   "source": [
    "y_dataset = np.loadtxt(dataset, delimiter=',', dtype='int32', usecols=(0))"
   ]
  },
  {
   "cell_type": "code",
   "execution_count": 77,
   "metadata": {
    "id": "xQU7JTZ_9hE0"
   },
   "outputs": [],
   "source": [
    "X_train, X_test, y_train, y_test = train_test_split(X_dataset, y_dataset, train_size=0.75, random_state=RANDOM_SEED)"
   ]
  },
  {
   "cell_type": "markdown",
   "metadata": {
    "id": "mxK_lETT9hE0"
   },
   "source": [
    "# Model building"
   ]
  },
  {
   "cell_type": "code",
   "execution_count": 78,
   "metadata": {
    "id": "vHBmUf1t9hE1"
   },
   "outputs": [],
   "source": [
    "# model = tf.keras.models.Sequential([\n",
    "#     tf.keras.layers.Input((21*2 + 21*2 + 2*1 )),\n",
    "#     tf.keras.layers.Dropout(0.2),\n",
    "#     tf.keras.layers.Dense(20, activation='relu'),\n",
    "#     tf.keras.layers.Dropout(0.4),\n",
    "#     tf.keras.layers.Dense(10, activation='relu'),\n",
    "#     tf.keras.layers.Dense(NUM_CLASSES, activation='softmax')\n",
    "# ])"
   ]
  },
  {
   "cell_type": "code",
   "execution_count": 79,
   "metadata": {},
   "outputs": [],
   "source": [
    "model = tf.keras.models.Sequential([\n",
    "    tf.keras.layers.Input((21*2 + 21*2 + 2*1 )),\n",
    "#     tf.keras.layers.Dropout(0.2),\n",
    "    tf.keras.layers.Dense(80, activation='relu'),\n",
    "    tf.keras.layers.Dropout(0.2),\n",
    "    tf.keras.layers.Dense(100, activation='relu'),\n",
    "    tf.keras.layers.Dropout(0.4),\n",
    "    tf.keras.layers.Dense(50, activation='relu'),\n",
    "    tf.keras.layers.Dense(NUM_CLASSES, activation='softmax')\n",
    "])"
   ]
  },
  {
   "cell_type": "code",
   "execution_count": 80,
   "metadata": {},
   "outputs": [],
   "source": [
    "# model = tf.keras.models.Sequential([\n",
    "#     tf.keras.layers.Input((21*2 + 21*2 + 2*1 )),\n",
    "#     tf.keras.layers.Dropout(0.2),\n",
    "#     tf.keras.layers.Dense(100, activation='relu'),\n",
    "#     tf.keras.layers.Dropout(0.4),\n",
    "#     tf.keras.layers.Dense(50, activation='relu'),\n",
    "#     tf.keras.layers.Dense(NUM_CLASSES, activation='softmax')\n",
    "# ])"
   ]
  },
  {
   "cell_type": "code",
   "execution_count": 81,
   "metadata": {
    "colab": {
     "base_uri": "https://localhost:8080/"
    },
    "id": "ypqky9tc9hE1",
    "outputId": "5db082bb-30e3-4110-bf63-a1ee777ecd46"
   },
   "outputs": [
    {
     "name": "stdout",
     "output_type": "stream",
     "text": [
      "Model: \"sequential_3\"\n",
      "_________________________________________________________________\n",
      " Layer (type)                Output Shape              Param #   \n",
      "=================================================================\n",
      " dense_11 (Dense)            (None, 80)                6960      \n",
      "                                                                 \n",
      " dropout_7 (Dropout)         (None, 80)                0         \n",
      "                                                                 \n",
      " dense_12 (Dense)            (None, 100)               8100      \n",
      "                                                                 \n",
      " dropout_8 (Dropout)         (None, 100)               0         \n",
      "                                                                 \n",
      " dense_13 (Dense)            (None, 50)                5050      \n",
      "                                                                 \n",
      " dense_14 (Dense)            (None, 23)                1173      \n",
      "                                                                 \n",
      "=================================================================\n",
      "Total params: 21283 (83.14 KB)\n",
      "Trainable params: 21283 (83.14 KB)\n",
      "Non-trainable params: 0 (0.00 Byte)\n",
      "_________________________________________________________________\n"
     ]
    }
   ],
   "source": [
    "model.summary()  # tf.keras.utils.plot_model(model, show_shapes=True)"
   ]
  },
  {
   "cell_type": "code",
   "execution_count": 82,
   "metadata": {
    "id": "MbMjOflQ9hE1"
   },
   "outputs": [],
   "source": [
    "# Model checkpoint callback\n",
    "cp_callback = tf.keras.callbacks.ModelCheckpoint(\n",
    "    model_save_path, verbose=1, save_weights_only=False)\n",
    "# Callback for early stopping\n",
    "es_callback = tf.keras.callbacks.EarlyStopping(patience=20, verbose=1)"
   ]
  },
  {
   "cell_type": "code",
   "execution_count": 83,
   "metadata": {
    "id": "c3Dac0M_9hE2"
   },
   "outputs": [],
   "source": [
    "# Model compilation\n",
    "model.compile(\n",
    "    optimizer='adam',\n",
    "    loss='sparse_categorical_crossentropy',\n",
    "    metrics=['accuracy']\n",
    ")"
   ]
  },
  {
   "cell_type": "markdown",
   "metadata": {
    "id": "7XI0j1Iu9hE2"
   },
   "source": [
    "# Model training"
   ]
  },
  {
   "cell_type": "code",
   "execution_count": 84,
   "metadata": {
    "colab": {
     "base_uri": "https://localhost:8080/"
    },
    "id": "WirBl-JE9hE3",
    "outputId": "71b30ca2-8294-4d9d-8aa2-800d90d399de",
    "scrolled": true
   },
   "outputs": [
    {
     "name": "stdout",
     "output_type": "stream",
     "text": [
      "Epoch 1/2300\n",
      "14/17 [=======================>......] - ETA: 0s - loss: 3.0009 - accuracy: 0.1127 \n",
      "Epoch 1: saving model to model/keypoint_classifier\\keypoint_classifier.hdf5\n",
      "17/17 [==============================] - 1s 22ms/step - loss: 2.9766 - accuracy: 0.1178 - val_loss: 2.7578 - val_accuracy: 0.2331\n",
      "Epoch 2/2300\n",
      "13/17 [=====================>........] - ETA: 0s - loss: 2.6748 - accuracy: 0.1923\n",
      "Epoch 2: saving model to model/keypoint_classifier\\keypoint_classifier.hdf5\n",
      "17/17 [==============================] - 0s 9ms/step - loss: 2.6514 - accuracy: 0.1964 - val_loss: 2.4550 - val_accuracy: 0.2387\n"
     ]
    },
    {
     "name": "stderr",
     "output_type": "stream",
     "text": [
      "C:\\Users\\Sanjay\\AppData\\Local\\Programs\\Python\\Python39\\lib\\site-packages\\keras\\src\\engine\\training.py:3000: UserWarning: You are saving your model as an HDF5 file via `model.save()`. This file format is considered legacy. We recommend using instead the native Keras format, e.g. `model.save('my_model.keras')`.\n",
      "  saving_api.save_model(\n"
     ]
    },
    {
     "name": "stdout",
     "output_type": "stream",
     "text": [
      "Epoch 3/2300\n",
      "16/17 [===========================>..] - ETA: 0s - loss: 2.3811 - accuracy: 0.2480\n",
      "Epoch 3: saving model to model/keypoint_classifier\\keypoint_classifier.hdf5\n",
      "17/17 [==============================] - 0s 8ms/step - loss: 2.3771 - accuracy: 0.2482 - val_loss: 2.0550 - val_accuracy: 0.3460\n",
      "Epoch 4/2300\n",
      "16/17 [===========================>..] - ETA: 0s - loss: 2.0688 - accuracy: 0.3135\n",
      "Epoch 4: saving model to model/keypoint_classifier\\keypoint_classifier.hdf5\n",
      "17/17 [==============================] - 0s 8ms/step - loss: 2.0633 - accuracy: 0.3142 - val_loss: 1.7165 - val_accuracy: 0.4944\n",
      "Epoch 5/2300\n",
      "14/17 [=======================>......] - ETA: 0s - loss: 1.7935 - accuracy: 0.3856\n",
      "Epoch 5: saving model to model/keypoint_classifier\\keypoint_classifier.hdf5\n",
      "17/17 [==============================] - 0s 8ms/step - loss: 1.7679 - accuracy: 0.3943 - val_loss: 1.4177 - val_accuracy: 0.5607\n",
      "Epoch 6/2300\n",
      "14/17 [=======================>......] - ETA: 0s - loss: 1.5446 - accuracy: 0.4425\n",
      "Epoch 6: saving model to model/keypoint_classifier\\keypoint_classifier.hdf5\n",
      "17/17 [==============================] - 0s 9ms/step - loss: 1.5242 - accuracy: 0.4522 - val_loss: 1.1824 - val_accuracy: 0.6921\n",
      "Epoch 7/2300\n",
      "14/17 [=======================>......] - ETA: 0s - loss: 1.3461 - accuracy: 0.5301\n",
      "Epoch 7: saving model to model/keypoint_classifier\\keypoint_classifier.hdf5\n",
      "17/17 [==============================] - 0s 9ms/step - loss: 1.3298 - accuracy: 0.5356 - val_loss: 0.9833 - val_accuracy: 0.7458\n",
      "Epoch 8/2300\n",
      "15/17 [=========================>....] - ETA: 0s - loss: 1.1655 - accuracy: 0.5802\n",
      "Epoch 8: saving model to model/keypoint_classifier\\keypoint_classifier.hdf5\n",
      "17/17 [==============================] - 0s 9ms/step - loss: 1.1587 - accuracy: 0.5827 - val_loss: 0.8421 - val_accuracy: 0.8008\n",
      "Epoch 9/2300\n",
      "12/17 [====================>.........] - ETA: 0s - loss: 1.0506 - accuracy: 0.5996\n",
      "Epoch 9: saving model to model/keypoint_classifier\\keypoint_classifier.hdf5\n",
      "17/17 [==============================] - 0s 9ms/step - loss: 1.0245 - accuracy: 0.6213 - val_loss: 0.7240 - val_accuracy: 0.8051\n",
      "Epoch 10/2300\n",
      "15/17 [=========================>....] - ETA: 0s - loss: 0.9010 - accuracy: 0.6677\n",
      "Epoch 10: saving model to model/keypoint_classifier\\keypoint_classifier.hdf5\n",
      "17/17 [==============================] - 0s 10ms/step - loss: 0.8956 - accuracy: 0.6684 - val_loss: 0.6157 - val_accuracy: 0.8446\n",
      "Epoch 11/2300\n",
      "13/17 [=====================>........] - ETA: 0s - loss: 0.8088 - accuracy: 0.7266\n",
      "Epoch 11: saving model to model/keypoint_classifier\\keypoint_classifier.hdf5\n",
      "17/17 [==============================] - 0s 9ms/step - loss: 0.7997 - accuracy: 0.7226 - val_loss: 0.5459 - val_accuracy: 0.8249\n",
      "Epoch 12/2300\n",
      "13/17 [=====================>........] - ETA: 0s - loss: 0.7249 - accuracy: 0.7314\n",
      "Epoch 12: saving model to model/keypoint_classifier\\keypoint_classifier.hdf5\n",
      "17/17 [==============================] - 0s 10ms/step - loss: 0.7092 - accuracy: 0.7405 - val_loss: 0.4853 - val_accuracy: 0.8602\n",
      "Epoch 13/2300\n",
      "15/17 [=========================>....] - ETA: 0s - loss: 0.6357 - accuracy: 0.7646\n",
      "Epoch 13: saving model to model/keypoint_classifier\\keypoint_classifier.hdf5\n",
      "17/17 [==============================] - 0s 9ms/step - loss: 0.6325 - accuracy: 0.7659 - val_loss: 0.4418 - val_accuracy: 0.8559\n",
      "Epoch 14/2300\n",
      "16/17 [===========================>..] - ETA: 0s - loss: 0.5844 - accuracy: 0.7866\n",
      "Epoch 14: saving model to model/keypoint_classifier\\keypoint_classifier.hdf5\n",
      "17/17 [==============================] - 0s 8ms/step - loss: 0.5860 - accuracy: 0.7866 - val_loss: 0.3977 - val_accuracy: 0.8955\n",
      "Epoch 15/2300\n",
      "17/17 [==============================] - ETA: 0s - loss: 0.5403 - accuracy: 0.7918\n",
      "Epoch 15: saving model to model/keypoint_classifier\\keypoint_classifier.hdf5\n",
      "17/17 [==============================] - 0s 8ms/step - loss: 0.5403 - accuracy: 0.7918 - val_loss: 0.3826 - val_accuracy: 0.8630\n",
      "Epoch 16/2300\n",
      "16/17 [===========================>..] - ETA: 0s - loss: 0.5012 - accuracy: 0.8096\n",
      "Epoch 16: saving model to model/keypoint_classifier\\keypoint_classifier.hdf5\n",
      "17/17 [==============================] - 0s 8ms/step - loss: 0.5021 - accuracy: 0.8106 - val_loss: 0.3582 - val_accuracy: 0.8799\n",
      "Epoch 17/2300\n",
      " 1/17 [>.............................] - ETA: 0s - loss: 0.4891 - accuracy: 0.8203\n",
      "Epoch 17: saving model to model/keypoint_classifier\\keypoint_classifier.hdf5\n",
      "17/17 [==============================] - 0s 8ms/step - loss: 0.4586 - accuracy: 0.8384 - val_loss: 0.3294 - val_accuracy: 0.9011\n",
      "Epoch 18/2300\n",
      "16/17 [===========================>..] - ETA: 0s - loss: 0.4467 - accuracy: 0.8325\n",
      "Epoch 18: saving model to model/keypoint_classifier\\keypoint_classifier.hdf5\n",
      "17/17 [==============================] - 0s 8ms/step - loss: 0.4472 - accuracy: 0.8309 - val_loss: 0.3216 - val_accuracy: 0.8870\n",
      "Epoch 19/2300\n",
      "15/17 [=========================>....] - ETA: 0s - loss: 0.4367 - accuracy: 0.8250\n",
      "Epoch 19: saving model to model/keypoint_classifier\\keypoint_classifier.hdf5\n",
      "17/17 [==============================] - 0s 8ms/step - loss: 0.4341 - accuracy: 0.8248 - val_loss: 0.3016 - val_accuracy: 0.8912\n",
      "Epoch 20/2300\n",
      "15/17 [=========================>....] - ETA: 0s - loss: 0.3934 - accuracy: 0.8505\n",
      "Epoch 20: saving model to model/keypoint_classifier\\keypoint_classifier.hdf5\n",
      "17/17 [==============================] - 0s 8ms/step - loss: 0.3949 - accuracy: 0.8497 - val_loss: 0.2796 - val_accuracy: 0.8983\n",
      "Epoch 21/2300\n",
      " 1/17 [>.............................] - ETA: 0s - loss: 0.3226 - accuracy: 0.8828\n",
      "Epoch 21: saving model to model/keypoint_classifier\\keypoint_classifier.hdf5\n",
      "17/17 [==============================] - 0s 7ms/step - loss: 0.3925 - accuracy: 0.8384 - val_loss: 0.2785 - val_accuracy: 0.8884\n",
      "Epoch 22/2300\n",
      "17/17 [==============================] - ETA: 0s - loss: 0.3821 - accuracy: 0.8545\n",
      "Epoch 22: saving model to model/keypoint_classifier\\keypoint_classifier.hdf5\n",
      "17/17 [==============================] - 0s 8ms/step - loss: 0.3821 - accuracy: 0.8545 - val_loss: 0.2604 - val_accuracy: 0.9082\n",
      "Epoch 23/2300\n",
      "15/17 [=========================>....] - ETA: 0s - loss: 0.3465 - accuracy: 0.8599\n",
      "Epoch 23: saving model to model/keypoint_classifier\\keypoint_classifier.hdf5\n",
      "17/17 [==============================] - 0s 8ms/step - loss: 0.3461 - accuracy: 0.8601 - val_loss: 0.2509 - val_accuracy: 0.9040\n",
      "Epoch 24/2300\n",
      "16/17 [===========================>..] - ETA: 0s - loss: 0.3326 - accuracy: 0.8711\n",
      "Epoch 24: saving model to model/keypoint_classifier\\keypoint_classifier.hdf5\n",
      "17/17 [==============================] - 0s 8ms/step - loss: 0.3314 - accuracy: 0.8709 - val_loss: 0.2361 - val_accuracy: 0.9223\n",
      "Epoch 25/2300\n",
      "16/17 [===========================>..] - ETA: 0s - loss: 0.3235 - accuracy: 0.8730\n",
      "Epoch 25: saving model to model/keypoint_classifier\\keypoint_classifier.hdf5\n",
      "17/17 [==============================] - 0s 8ms/step - loss: 0.3278 - accuracy: 0.8724 - val_loss: 0.2393 - val_accuracy: 0.9138\n",
      "Epoch 26/2300\n",
      "15/17 [=========================>....] - ETA: 0s - loss: 0.3107 - accuracy: 0.8724\n",
      "Epoch 26: saving model to model/keypoint_classifier\\keypoint_classifier.hdf5\n",
      "17/17 [==============================] - 0s 9ms/step - loss: 0.3115 - accuracy: 0.8724 - val_loss: 0.2407 - val_accuracy: 0.9040\n",
      "Epoch 27/2300\n",
      "12/17 [====================>.........] - ETA: 0s - loss: 0.3181 - accuracy: 0.8678\n",
      "Epoch 27: saving model to model/keypoint_classifier\\keypoint_classifier.hdf5\n",
      "17/17 [==============================] - 0s 10ms/step - loss: 0.3151 - accuracy: 0.8681 - val_loss: 0.2216 - val_accuracy: 0.9110\n",
      "Epoch 28/2300\n",
      " 1/17 [>.............................] - ETA: 0s - loss: 0.3414 - accuracy: 0.8750\n",
      "Epoch 28: saving model to model/keypoint_classifier\\keypoint_classifier.hdf5\n",
      "17/17 [==============================] - 0s 7ms/step - loss: 0.2891 - accuracy: 0.8874 - val_loss: 0.2050 - val_accuracy: 0.9209\n",
      "Epoch 29/2300\n",
      "16/17 [===========================>..] - ETA: 0s - loss: 0.2976 - accuracy: 0.8779\n",
      "Epoch 29: saving model to model/keypoint_classifier\\keypoint_classifier.hdf5\n",
      "17/17 [==============================] - 0s 8ms/step - loss: 0.2961 - accuracy: 0.8785 - val_loss: 0.2205 - val_accuracy: 0.9082\n",
      "Epoch 30/2300\n"
     ]
    },
    {
     "name": "stdout",
     "output_type": "stream",
     "text": [
      "16/17 [===========================>..] - ETA: 0s - loss: 0.2862 - accuracy: 0.8818\n",
      "Epoch 30: saving model to model/keypoint_classifier\\keypoint_classifier.hdf5\n",
      "17/17 [==============================] - 0s 8ms/step - loss: 0.2848 - accuracy: 0.8818 - val_loss: 0.1919 - val_accuracy: 0.9223\n",
      "Epoch 31/2300\n",
      "15/17 [=========================>....] - ETA: 0s - loss: 0.2746 - accuracy: 0.8880\n",
      "Epoch 31: saving model to model/keypoint_classifier\\keypoint_classifier.hdf5\n",
      "17/17 [==============================] - 0s 8ms/step - loss: 0.2732 - accuracy: 0.8893 - val_loss: 0.1985 - val_accuracy: 0.9138\n",
      "Epoch 32/2300\n",
      " 1/17 [>.............................] - ETA: 0s - loss: 0.2835 - accuracy: 0.9141\n",
      "Epoch 32: saving model to model/keypoint_classifier\\keypoint_classifier.hdf5\n",
      "17/17 [==============================] - 0s 6ms/step - loss: 0.2673 - accuracy: 0.8898 - val_loss: 0.1905 - val_accuracy: 0.9167\n",
      "Epoch 33/2300\n",
      "16/17 [===========================>..] - ETA: 0s - loss: 0.2521 - accuracy: 0.8936\n",
      "Epoch 33: saving model to model/keypoint_classifier\\keypoint_classifier.hdf5\n",
      "17/17 [==============================] - 0s 8ms/step - loss: 0.2520 - accuracy: 0.8926 - val_loss: 0.1879 - val_accuracy: 0.9223\n",
      "Epoch 34/2300\n",
      "17/17 [==============================] - ETA: 0s - loss: 0.2526 - accuracy: 0.8822\n",
      "Epoch 34: saving model to model/keypoint_classifier\\keypoint_classifier.hdf5\n",
      "17/17 [==============================] - 0s 8ms/step - loss: 0.2526 - accuracy: 0.8822 - val_loss: 0.1768 - val_accuracy: 0.9605\n",
      "Epoch 35/2300\n",
      "16/17 [===========================>..] - ETA: 0s - loss: 0.2442 - accuracy: 0.9043\n",
      "Epoch 35: saving model to model/keypoint_classifier\\keypoint_classifier.hdf5\n",
      "17/17 [==============================] - 0s 8ms/step - loss: 0.2417 - accuracy: 0.9058 - val_loss: 0.1780 - val_accuracy: 0.9266\n",
      "Epoch 36/2300\n",
      " 1/17 [>.............................] - ETA: 0s - loss: 0.2962 - accuracy: 0.8828\n",
      "Epoch 36: saving model to model/keypoint_classifier\\keypoint_classifier.hdf5\n",
      "17/17 [==============================] - 0s 7ms/step - loss: 0.2510 - accuracy: 0.8931 - val_loss: 0.1678 - val_accuracy: 0.9294\n",
      "Epoch 37/2300\n",
      "16/17 [===========================>..] - ETA: 0s - loss: 0.2384 - accuracy: 0.8999\n",
      "Epoch 37: saving model to model/keypoint_classifier\\keypoint_classifier.hdf5\n",
      "17/17 [==============================] - 0s 8ms/step - loss: 0.2377 - accuracy: 0.9006 - val_loss: 0.1756 - val_accuracy: 0.9181\n",
      "Epoch 38/2300\n",
      "16/17 [===========================>..] - ETA: 0s - loss: 0.2293 - accuracy: 0.9038\n",
      "Epoch 38: saving model to model/keypoint_classifier\\keypoint_classifier.hdf5\n",
      "17/17 [==============================] - 0s 9ms/step - loss: 0.2271 - accuracy: 0.9044 - val_loss: 0.1666 - val_accuracy: 0.9266\n",
      "Epoch 39/2300\n",
      "15/17 [=========================>....] - ETA: 0s - loss: 0.2094 - accuracy: 0.9047\n",
      "Epoch 39: saving model to model/keypoint_classifier\\keypoint_classifier.hdf5\n",
      "17/17 [==============================] - 0s 8ms/step - loss: 0.2082 - accuracy: 0.9063 - val_loss: 0.1626 - val_accuracy: 0.9477\n",
      "Epoch 40/2300\n",
      "17/17 [==============================] - ETA: 0s - loss: 0.2158 - accuracy: 0.9100\n",
      "Epoch 40: saving model to model/keypoint_classifier\\keypoint_classifier.hdf5\n",
      "17/17 [==============================] - 0s 8ms/step - loss: 0.2158 - accuracy: 0.9100 - val_loss: 0.1640 - val_accuracy: 0.9181\n",
      "Epoch 41/2300\n",
      "15/17 [=========================>....] - ETA: 0s - loss: 0.2133 - accuracy: 0.9109\n",
      "Epoch 41: saving model to model/keypoint_classifier\\keypoint_classifier.hdf5\n",
      "17/17 [==============================] - 0s 8ms/step - loss: 0.2153 - accuracy: 0.9067 - val_loss: 0.1525 - val_accuracy: 0.9463\n",
      "Epoch 42/2300\n",
      " 1/17 [>.............................] - ETA: 0s - loss: 0.1688 - accuracy: 0.9219\n",
      "Epoch 42: saving model to model/keypoint_classifier\\keypoint_classifier.hdf5\n",
      "17/17 [==============================] - 0s 7ms/step - loss: 0.2045 - accuracy: 0.9086 - val_loss: 0.1500 - val_accuracy: 0.9605\n",
      "Epoch 43/2300\n",
      "16/17 [===========================>..] - ETA: 0s - loss: 0.2106 - accuracy: 0.9116\n",
      "Epoch 43: saving model to model/keypoint_classifier\\keypoint_classifier.hdf5\n",
      "17/17 [==============================] - 0s 8ms/step - loss: 0.2108 - accuracy: 0.9100 - val_loss: 0.1539 - val_accuracy: 0.9336\n",
      "Epoch 44/2300\n",
      " 1/17 [>.............................] - ETA: 0s - loss: 0.2333 - accuracy: 0.8906\n",
      "Epoch 44: saving model to model/keypoint_classifier\\keypoint_classifier.hdf5\n",
      "17/17 [==============================] - 0s 8ms/step - loss: 0.2004 - accuracy: 0.9096 - val_loss: 0.1498 - val_accuracy: 0.9322\n",
      "Epoch 45/2300\n",
      "15/17 [=========================>....] - ETA: 0s - loss: 0.1982 - accuracy: 0.9151\n",
      "Epoch 45: saving model to model/keypoint_classifier\\keypoint_classifier.hdf5\n",
      "17/17 [==============================] - 0s 8ms/step - loss: 0.1982 - accuracy: 0.9133 - val_loss: 0.1481 - val_accuracy: 0.9407\n",
      "Epoch 46/2300\n",
      " 1/17 [>.............................] - ETA: 0s - loss: 0.1655 - accuracy: 0.9297\n",
      "Epoch 46: saving model to model/keypoint_classifier\\keypoint_classifier.hdf5\n",
      "17/17 [==============================] - 0s 7ms/step - loss: 0.1804 - accuracy: 0.9312 - val_loss: 0.1456 - val_accuracy: 0.9308\n",
      "Epoch 47/2300\n",
      "17/17 [==============================] - ETA: 0s - loss: 0.1821 - accuracy: 0.9157\n",
      "Epoch 47: saving model to model/keypoint_classifier\\keypoint_classifier.hdf5\n",
      "17/17 [==============================] - 0s 8ms/step - loss: 0.1821 - accuracy: 0.9157 - val_loss: 0.1432 - val_accuracy: 0.9605\n",
      "Epoch 48/2300\n",
      "16/17 [===========================>..] - ETA: 0s - loss: 0.1671 - accuracy: 0.9346\n",
      "Epoch 48: saving model to model/keypoint_classifier\\keypoint_classifier.hdf5\n",
      "17/17 [==============================] - 0s 8ms/step - loss: 0.1688 - accuracy: 0.9326 - val_loss: 0.1443 - val_accuracy: 0.9562\n",
      "Epoch 49/2300\n",
      "17/17 [==============================] - ETA: 0s - loss: 0.1958 - accuracy: 0.9124\n",
      "Epoch 49: saving model to model/keypoint_classifier\\keypoint_classifier.hdf5\n",
      "17/17 [==============================] - 0s 8ms/step - loss: 0.1958 - accuracy: 0.9124 - val_loss: 0.1385 - val_accuracy: 0.9562\n",
      "Epoch 50/2300\n",
      "15/17 [=========================>....] - ETA: 0s - loss: 0.1751 - accuracy: 0.9250\n",
      "Epoch 50: saving model to model/keypoint_classifier\\keypoint_classifier.hdf5\n",
      "17/17 [==============================] - 0s 9ms/step - loss: 0.1773 - accuracy: 0.9228 - val_loss: 0.1375 - val_accuracy: 0.9435\n",
      "Epoch 51/2300\n",
      "13/17 [=====================>........] - ETA: 0s - loss: 0.1826 - accuracy: 0.9153\n",
      "Epoch 51: saving model to model/keypoint_classifier\\keypoint_classifier.hdf5\n",
      "17/17 [==============================] - 0s 10ms/step - loss: 0.1783 - accuracy: 0.9176 - val_loss: 0.1363 - val_accuracy: 0.9435\n",
      "Epoch 52/2300\n",
      "14/17 [=======================>......] - ETA: 0s - loss: 0.1734 - accuracy: 0.9163\n",
      "Epoch 52: saving model to model/keypoint_classifier\\keypoint_classifier.hdf5\n",
      "17/17 [==============================] - 0s 8ms/step - loss: 0.1743 - accuracy: 0.9166 - val_loss: 0.1398 - val_accuracy: 0.9336\n",
      "Epoch 53/2300\n",
      "16/17 [===========================>..] - ETA: 0s - loss: 0.1662 - accuracy: 0.9292\n",
      "Epoch 53: saving model to model/keypoint_classifier\\keypoint_classifier.hdf5\n",
      "17/17 [==============================] - 0s 8ms/step - loss: 0.1643 - accuracy: 0.9303 - val_loss: 0.1317 - val_accuracy: 0.9463\n",
      "Epoch 54/2300\n",
      "16/17 [===========================>..] - ETA: 0s - loss: 0.1656 - accuracy: 0.9253\n",
      "Epoch 54: saving model to model/keypoint_classifier\\keypoint_classifier.hdf5\n",
      "17/17 [==============================] - 0s 8ms/step - loss: 0.1643 - accuracy: 0.9246 - val_loss: 0.1350 - val_accuracy: 0.9605\n",
      "Epoch 55/2300\n",
      "16/17 [===========================>..] - ETA: 0s - loss: 0.1721 - accuracy: 0.9194\n",
      "Epoch 55: saving model to model/keypoint_classifier\\keypoint_classifier.hdf5\n",
      "17/17 [==============================] - 0s 8ms/step - loss: 0.1711 - accuracy: 0.9204 - val_loss: 0.1238 - val_accuracy: 0.9590\n",
      "Epoch 56/2300\n",
      "16/17 [===========================>..] - ETA: 0s - loss: 0.1681 - accuracy: 0.9243\n",
      "Epoch 56: saving model to model/keypoint_classifier\\keypoint_classifier.hdf5\n",
      "17/17 [==============================] - 0s 8ms/step - loss: 0.1654 - accuracy: 0.9260 - val_loss: 0.1250 - val_accuracy: 0.9562\n",
      "Epoch 57/2300\n"
     ]
    },
    {
     "name": "stdout",
     "output_type": "stream",
     "text": [
      "17/17 [==============================] - ETA: 0s - loss: 0.1701 - accuracy: 0.9270\n",
      "Epoch 57: saving model to model/keypoint_classifier\\keypoint_classifier.hdf5\n",
      "17/17 [==============================] - 0s 7ms/step - loss: 0.1701 - accuracy: 0.9270 - val_loss: 0.1257 - val_accuracy: 0.9732\n",
      "Epoch 58/2300\n",
      "17/17 [==============================] - ETA: 0s - loss: 0.1628 - accuracy: 0.9336\n",
      "Epoch 58: saving model to model/keypoint_classifier\\keypoint_classifier.hdf5\n",
      "17/17 [==============================] - 0s 8ms/step - loss: 0.1628 - accuracy: 0.9336 - val_loss: 0.1206 - val_accuracy: 0.9689\n",
      "Epoch 59/2300\n",
      "16/17 [===========================>..] - ETA: 0s - loss: 0.1584 - accuracy: 0.9282\n",
      "Epoch 59: saving model to model/keypoint_classifier\\keypoint_classifier.hdf5\n",
      "17/17 [==============================] - 0s 8ms/step - loss: 0.1581 - accuracy: 0.9284 - val_loss: 0.1304 - val_accuracy: 0.9421\n",
      "Epoch 60/2300\n",
      "16/17 [===========================>..] - ETA: 0s - loss: 0.1497 - accuracy: 0.9316\n",
      "Epoch 60: saving model to model/keypoint_classifier\\keypoint_classifier.hdf5\n",
      "17/17 [==============================] - 0s 8ms/step - loss: 0.1527 - accuracy: 0.9308 - val_loss: 0.1176 - val_accuracy: 0.9689\n",
      "Epoch 61/2300\n",
      " 1/17 [>.............................] - ETA: 0s - loss: 0.1149 - accuracy: 0.9688\n",
      "Epoch 61: saving model to model/keypoint_classifier\\keypoint_classifier.hdf5\n",
      "17/17 [==============================] - 0s 7ms/step - loss: 0.1453 - accuracy: 0.9336 - val_loss: 0.1198 - val_accuracy: 0.9633\n",
      "Epoch 62/2300\n",
      " 1/17 [>.............................] - ETA: 0s - loss: 0.1725 - accuracy: 0.9141\n",
      "Epoch 62: saving model to model/keypoint_classifier\\keypoint_classifier.hdf5\n",
      "17/17 [==============================] - 0s 8ms/step - loss: 0.1535 - accuracy: 0.9336 - val_loss: 0.1129 - val_accuracy: 0.9732\n",
      "Epoch 63/2300\n",
      "16/17 [===========================>..] - ETA: 0s - loss: 0.1422 - accuracy: 0.9404\n",
      "Epoch 63: saving model to model/keypoint_classifier\\keypoint_classifier.hdf5\n",
      "17/17 [==============================] - 0s 8ms/step - loss: 0.1443 - accuracy: 0.9392 - val_loss: 0.1190 - val_accuracy: 0.9506\n",
      "Epoch 64/2300\n",
      "15/17 [=========================>....] - ETA: 0s - loss: 0.1484 - accuracy: 0.9250\n",
      "Epoch 64: saving model to model/keypoint_classifier\\keypoint_classifier.hdf5\n",
      "17/17 [==============================] - 0s 9ms/step - loss: 0.1483 - accuracy: 0.9270 - val_loss: 0.1193 - val_accuracy: 0.9506\n",
      "Epoch 65/2300\n",
      "17/17 [==============================] - ETA: 0s - loss: 0.1431 - accuracy: 0.9444\n",
      "Epoch 65: saving model to model/keypoint_classifier\\keypoint_classifier.hdf5\n",
      "17/17 [==============================] - 0s 8ms/step - loss: 0.1431 - accuracy: 0.9444 - val_loss: 0.1149 - val_accuracy: 0.9718\n",
      "Epoch 66/2300\n",
      "16/17 [===========================>..] - ETA: 0s - loss: 0.1332 - accuracy: 0.9409\n",
      "Epoch 66: saving model to model/keypoint_classifier\\keypoint_classifier.hdf5\n",
      "17/17 [==============================] - 0s 8ms/step - loss: 0.1351 - accuracy: 0.9402 - val_loss: 0.1063 - val_accuracy: 0.9746\n",
      "Epoch 67/2300\n",
      " 1/17 [>.............................] - ETA: 0s - loss: 0.1342 - accuracy: 0.9297\n",
      "Epoch 67: saving model to model/keypoint_classifier\\keypoint_classifier.hdf5\n",
      "17/17 [==============================] - 0s 7ms/step - loss: 0.1317 - accuracy: 0.9458 - val_loss: 0.1080 - val_accuracy: 0.9732\n",
      "Epoch 68/2300\n",
      "16/17 [===========================>..] - ETA: 0s - loss: 0.1316 - accuracy: 0.9482\n",
      "Epoch 68: saving model to model/keypoint_classifier\\keypoint_classifier.hdf5\n",
      "17/17 [==============================] - 0s 9ms/step - loss: 0.1300 - accuracy: 0.9482 - val_loss: 0.1106 - val_accuracy: 0.9718\n",
      "Epoch 69/2300\n",
      "15/17 [=========================>....] - ETA: 0s - loss: 0.1282 - accuracy: 0.9448\n",
      "Epoch 69: saving model to model/keypoint_classifier\\keypoint_classifier.hdf5\n",
      "17/17 [==============================] - 0s 9ms/step - loss: 0.1267 - accuracy: 0.9458 - val_loss: 0.1082 - val_accuracy: 0.9732\n",
      "Epoch 70/2300\n",
      "12/17 [====================>.........] - ETA: 0s - loss: 0.1235 - accuracy: 0.9486\n",
      "Epoch 70: saving model to model/keypoint_classifier\\keypoint_classifier.hdf5\n",
      "17/17 [==============================] - 0s 10ms/step - loss: 0.1222 - accuracy: 0.9468 - val_loss: 0.1043 - val_accuracy: 0.9774\n",
      "Epoch 71/2300\n",
      "14/17 [=======================>......] - ETA: 0s - loss: 0.1218 - accuracy: 0.9475\n",
      "Epoch 71: saving model to model/keypoint_classifier\\keypoint_classifier.hdf5\n",
      "17/17 [==============================] - 0s 9ms/step - loss: 0.1256 - accuracy: 0.9454 - val_loss: 0.1035 - val_accuracy: 0.9746\n",
      "Epoch 72/2300\n",
      "14/17 [=======================>......] - ETA: 0s - loss: 0.1377 - accuracy: 0.9481\n",
      "Epoch 72: saving model to model/keypoint_classifier\\keypoint_classifier.hdf5\n",
      "17/17 [==============================] - 0s 10ms/step - loss: 0.1335 - accuracy: 0.9487 - val_loss: 0.1060 - val_accuracy: 0.9718\n",
      "Epoch 73/2300\n",
      "15/17 [=========================>....] - ETA: 0s - loss: 0.1275 - accuracy: 0.9505\n",
      "Epoch 73: saving model to model/keypoint_classifier\\keypoint_classifier.hdf5\n",
      "17/17 [==============================] - 0s 8ms/step - loss: 0.1258 - accuracy: 0.9496 - val_loss: 0.1307 - val_accuracy: 0.9506\n",
      "Epoch 74/2300\n",
      "12/17 [====================>.........] - ETA: 0s - loss: 0.1379 - accuracy: 0.9447\n",
      "Epoch 74: saving model to model/keypoint_classifier\\keypoint_classifier.hdf5\n",
      "17/17 [==============================] - 0s 9ms/step - loss: 0.1365 - accuracy: 0.9416 - val_loss: 0.1064 - val_accuracy: 0.9703\n",
      "Epoch 75/2300\n",
      "14/17 [=======================>......] - ETA: 0s - loss: 0.1098 - accuracy: 0.9531\n",
      "Epoch 75: saving model to model/keypoint_classifier\\keypoint_classifier.hdf5\n",
      "17/17 [==============================] - 0s 9ms/step - loss: 0.1088 - accuracy: 0.9548 - val_loss: 0.0999 - val_accuracy: 0.9760\n",
      "Epoch 76/2300\n",
      "16/17 [===========================>..] - ETA: 0s - loss: 0.1226 - accuracy: 0.9463\n",
      "Epoch 76: saving model to model/keypoint_classifier\\keypoint_classifier.hdf5\n",
      "17/17 [==============================] - 0s 8ms/step - loss: 0.1222 - accuracy: 0.9468 - val_loss: 0.0982 - val_accuracy: 0.9788\n",
      "Epoch 77/2300\n",
      "13/17 [=====================>........] - ETA: 0s - loss: 0.1122 - accuracy: 0.9531\n",
      "Epoch 77: saving model to model/keypoint_classifier\\keypoint_classifier.hdf5\n",
      "17/17 [==============================] - 0s 9ms/step - loss: 0.1204 - accuracy: 0.9472 - val_loss: 0.0971 - val_accuracy: 0.9802\n",
      "Epoch 78/2300\n",
      "13/17 [=====================>........] - ETA: 0s - loss: 0.1065 - accuracy: 0.9621\n",
      "Epoch 78: saving model to model/keypoint_classifier\\keypoint_classifier.hdf5\n",
      "17/17 [==============================] - 0s 10ms/step - loss: 0.1118 - accuracy: 0.9585 - val_loss: 0.0980 - val_accuracy: 0.9788\n",
      "Epoch 79/2300\n",
      "15/17 [=========================>....] - ETA: 0s - loss: 0.1007 - accuracy: 0.9594\n",
      "Epoch 79: saving model to model/keypoint_classifier\\keypoint_classifier.hdf5\n",
      "17/17 [==============================] - 0s 8ms/step - loss: 0.1013 - accuracy: 0.9600 - val_loss: 0.0957 - val_accuracy: 0.9831\n",
      "Epoch 80/2300\n",
      "17/17 [==============================] - ETA: 0s - loss: 0.1099 - accuracy: 0.9585\n",
      "Epoch 80: saving model to model/keypoint_classifier\\keypoint_classifier.hdf5\n",
      "17/17 [==============================] - 0s 8ms/step - loss: 0.1099 - accuracy: 0.9585 - val_loss: 0.0966 - val_accuracy: 0.9788\n",
      "Epoch 81/2300\n",
      "17/17 [==============================] - ETA: 0s - loss: 0.1076 - accuracy: 0.9604\n",
      "Epoch 81: saving model to model/keypoint_classifier\\keypoint_classifier.hdf5\n",
      "17/17 [==============================] - 0s 8ms/step - loss: 0.1076 - accuracy: 0.9604 - val_loss: 0.0895 - val_accuracy: 0.9788\n",
      "Epoch 82/2300\n",
      "17/17 [==============================] - ETA: 0s - loss: 0.1118 - accuracy: 0.9538\n",
      "Epoch 82: saving model to model/keypoint_classifier\\keypoint_classifier.hdf5\n",
      "17/17 [==============================] - 0s 8ms/step - loss: 0.1118 - accuracy: 0.9538 - val_loss: 0.0873 - val_accuracy: 0.9873\n",
      "Epoch 83/2300\n",
      "17/17 [==============================] - ETA: 0s - loss: 0.0982 - accuracy: 0.9637\n",
      "Epoch 83: saving model to model/keypoint_classifier\\keypoint_classifier.hdf5\n",
      "17/17 [==============================] - 0s 8ms/step - loss: 0.0982 - accuracy: 0.9637 - val_loss: 0.0927 - val_accuracy: 0.9760\n",
      "Epoch 84/2300\n"
     ]
    },
    {
     "name": "stdout",
     "output_type": "stream",
     "text": [
      " 1/17 [>.............................] - ETA: 0s - loss: 0.1188 - accuracy: 0.9531\n",
      "Epoch 84: saving model to model/keypoint_classifier\\keypoint_classifier.hdf5\n",
      "17/17 [==============================] - 0s 7ms/step - loss: 0.1018 - accuracy: 0.9543 - val_loss: 0.0895 - val_accuracy: 0.9774\n",
      "Epoch 85/2300\n",
      " 1/17 [>.............................] - ETA: 0s - loss: 0.0918 - accuracy: 0.9688\n",
      "Epoch 85: saving model to model/keypoint_classifier\\keypoint_classifier.hdf5\n",
      "17/17 [==============================] - 0s 8ms/step - loss: 0.0961 - accuracy: 0.9689 - val_loss: 0.0818 - val_accuracy: 0.9859\n",
      "Epoch 86/2300\n",
      " 1/17 [>.............................] - ETA: 0s - loss: 0.0978 - accuracy: 0.9688\n",
      "Epoch 86: saving model to model/keypoint_classifier\\keypoint_classifier.hdf5\n",
      "17/17 [==============================] - 0s 7ms/step - loss: 0.0979 - accuracy: 0.9628 - val_loss: 0.0813 - val_accuracy: 0.9887\n",
      "Epoch 87/2300\n",
      " 1/17 [>.............................] - ETA: 0s - loss: 0.0857 - accuracy: 0.9766\n",
      "Epoch 87: saving model to model/keypoint_classifier\\keypoint_classifier.hdf5\n",
      "17/17 [==============================] - 0s 8ms/step - loss: 0.0967 - accuracy: 0.9670 - val_loss: 0.0820 - val_accuracy: 0.9845\n",
      "Epoch 88/2300\n",
      "16/17 [===========================>..] - ETA: 0s - loss: 0.0919 - accuracy: 0.9668\n",
      "Epoch 88: saving model to model/keypoint_classifier\\keypoint_classifier.hdf5\n",
      "17/17 [==============================] - 0s 8ms/step - loss: 0.0915 - accuracy: 0.9670 - val_loss: 0.0779 - val_accuracy: 0.9831\n",
      "Epoch 89/2300\n",
      "17/17 [==============================] - ETA: 0s - loss: 0.0871 - accuracy: 0.9694\n",
      "Epoch 89: saving model to model/keypoint_classifier\\keypoint_classifier.hdf5\n",
      "17/17 [==============================] - 0s 8ms/step - loss: 0.0871 - accuracy: 0.9694 - val_loss: 0.0796 - val_accuracy: 0.9873\n",
      "Epoch 90/2300\n",
      "17/17 [==============================] - ETA: 0s - loss: 0.0818 - accuracy: 0.9680\n",
      "Epoch 90: saving model to model/keypoint_classifier\\keypoint_classifier.hdf5\n",
      "17/17 [==============================] - 0s 8ms/step - loss: 0.0818 - accuracy: 0.9680 - val_loss: 0.0749 - val_accuracy: 0.9915\n",
      "Epoch 91/2300\n",
      "15/17 [=========================>....] - ETA: 0s - loss: 0.0842 - accuracy: 0.9703\n",
      "Epoch 91: saving model to model/keypoint_classifier\\keypoint_classifier.hdf5\n",
      "17/17 [==============================] - 0s 8ms/step - loss: 0.0875 - accuracy: 0.9684 - val_loss: 0.0769 - val_accuracy: 0.9859\n",
      "Epoch 92/2300\n",
      " 1/17 [>.............................] - ETA: 0s - loss: 0.0540 - accuracy: 0.9766\n",
      "Epoch 92: saving model to model/keypoint_classifier\\keypoint_classifier.hdf5\n",
      "17/17 [==============================] - 0s 7ms/step - loss: 0.0836 - accuracy: 0.9713 - val_loss: 0.0746 - val_accuracy: 0.9944\n",
      "Epoch 93/2300\n",
      "17/17 [==============================] - ETA: 0s - loss: 0.0785 - accuracy: 0.9760\n",
      "Epoch 93: saving model to model/keypoint_classifier\\keypoint_classifier.hdf5\n",
      "17/17 [==============================] - 0s 8ms/step - loss: 0.0785 - accuracy: 0.9760 - val_loss: 0.0706 - val_accuracy: 0.9915\n",
      "Epoch 94/2300\n",
      "14/17 [=======================>......] - ETA: 0s - loss: 0.0799 - accuracy: 0.9710\n",
      "Epoch 94: saving model to model/keypoint_classifier\\keypoint_classifier.hdf5\n",
      "17/17 [==============================] - 0s 10ms/step - loss: 0.0801 - accuracy: 0.9703 - val_loss: 0.0677 - val_accuracy: 0.9958\n",
      "Epoch 95/2300\n",
      "12/17 [====================>.........] - ETA: 0s - loss: 0.0768 - accuracy: 0.9753\n",
      "Epoch 95: saving model to model/keypoint_classifier\\keypoint_classifier.hdf5\n",
      "17/17 [==============================] - 0s 10ms/step - loss: 0.0741 - accuracy: 0.9760 - val_loss: 0.0712 - val_accuracy: 0.9887\n",
      "Epoch 96/2300\n",
      " 1/17 [>.............................] - ETA: 0s - loss: 0.0743 - accuracy: 0.9766\n",
      "Epoch 96: saving model to model/keypoint_classifier\\keypoint_classifier.hdf5\n",
      "17/17 [==============================] - 0s 7ms/step - loss: 0.0664 - accuracy: 0.9812 - val_loss: 0.0636 - val_accuracy: 0.9958\n",
      "Epoch 97/2300\n",
      "16/17 [===========================>..] - ETA: 0s - loss: 0.0716 - accuracy: 0.9800\n",
      "Epoch 97: saving model to model/keypoint_classifier\\keypoint_classifier.hdf5\n",
      "17/17 [==============================] - 0s 8ms/step - loss: 0.0703 - accuracy: 0.9802 - val_loss: 0.0639 - val_accuracy: 0.9958\n",
      "Epoch 98/2300\n",
      "16/17 [===========================>..] - ETA: 0s - loss: 0.0656 - accuracy: 0.9795\n",
      "Epoch 98: saving model to model/keypoint_classifier\\keypoint_classifier.hdf5\n",
      "17/17 [==============================] - 0s 8ms/step - loss: 0.0650 - accuracy: 0.9797 - val_loss: 0.0622 - val_accuracy: 0.9958\n",
      "Epoch 99/2300\n",
      " 1/17 [>.............................] - ETA: 0s - loss: 0.0662 - accuracy: 0.9844\n",
      "Epoch 99: saving model to model/keypoint_classifier\\keypoint_classifier.hdf5\n",
      "17/17 [==============================] - 0s 8ms/step - loss: 0.0677 - accuracy: 0.9793 - val_loss: 0.0624 - val_accuracy: 0.9944\n",
      "Epoch 100/2300\n",
      "17/17 [==============================] - ETA: 0s - loss: 0.0568 - accuracy: 0.9826\n",
      "Epoch 100: saving model to model/keypoint_classifier\\keypoint_classifier.hdf5\n",
      "17/17 [==============================] - 0s 8ms/step - loss: 0.0568 - accuracy: 0.9826 - val_loss: 0.0627 - val_accuracy: 0.9958\n",
      "Epoch 101/2300\n",
      "17/17 [==============================] - ETA: 0s - loss: 0.0622 - accuracy: 0.9797\n",
      "Epoch 101: saving model to model/keypoint_classifier\\keypoint_classifier.hdf5\n",
      "17/17 [==============================] - 0s 8ms/step - loss: 0.0622 - accuracy: 0.9797 - val_loss: 0.0602 - val_accuracy: 0.9958\n",
      "Epoch 102/2300\n",
      "17/17 [==============================] - ETA: 0s - loss: 0.0592 - accuracy: 0.9797\n",
      "Epoch 102: saving model to model/keypoint_classifier\\keypoint_classifier.hdf5\n",
      "17/17 [==============================] - 0s 8ms/step - loss: 0.0592 - accuracy: 0.9797 - val_loss: 0.0622 - val_accuracy: 0.9929\n",
      "Epoch 103/2300\n",
      "16/17 [===========================>..] - ETA: 0s - loss: 0.0604 - accuracy: 0.9805\n",
      "Epoch 103: saving model to model/keypoint_classifier\\keypoint_classifier.hdf5\n",
      "17/17 [==============================] - 0s 8ms/step - loss: 0.0586 - accuracy: 0.9812 - val_loss: 0.0567 - val_accuracy: 0.9958\n",
      "Epoch 104/2300\n",
      "17/17 [==============================] - ETA: 0s - loss: 0.0557 - accuracy: 0.9840\n",
      "Epoch 104: saving model to model/keypoint_classifier\\keypoint_classifier.hdf5\n",
      "17/17 [==============================] - 0s 7ms/step - loss: 0.0557 - accuracy: 0.9840 - val_loss: 0.0599 - val_accuracy: 0.9944\n",
      "Epoch 105/2300\n",
      "16/17 [===========================>..] - ETA: 0s - loss: 0.0571 - accuracy: 0.9824\n",
      "Epoch 105: saving model to model/keypoint_classifier\\keypoint_classifier.hdf5\n",
      "17/17 [==============================] - 0s 8ms/step - loss: 0.0557 - accuracy: 0.9830 - val_loss: 0.0552 - val_accuracy: 0.9972\n",
      "Epoch 106/2300\n",
      " 1/17 [>.............................] - ETA: 0s - loss: 0.0447 - accuracy: 0.9844\n",
      "Epoch 106: saving model to model/keypoint_classifier\\keypoint_classifier.hdf5\n",
      "17/17 [==============================] - 0s 8ms/step - loss: 0.0580 - accuracy: 0.9854 - val_loss: 0.0545 - val_accuracy: 0.9972\n",
      "Epoch 107/2300\n",
      " 1/17 [>.............................] - ETA: 0s - loss: 0.0430 - accuracy: 0.9922\n",
      "Epoch 107: saving model to model/keypoint_classifier\\keypoint_classifier.hdf5\n",
      "17/17 [==============================] - 0s 7ms/step - loss: 0.0472 - accuracy: 0.9863 - val_loss: 0.0553 - val_accuracy: 0.9958\n",
      "Epoch 108/2300\n",
      "17/17 [==============================] - ETA: 0s - loss: 0.0443 - accuracy: 0.9892\n",
      "Epoch 108: saving model to model/keypoint_classifier\\keypoint_classifier.hdf5\n",
      "17/17 [==============================] - 0s 8ms/step - loss: 0.0443 - accuracy: 0.9892 - val_loss: 0.0543 - val_accuracy: 0.9929\n",
      "Epoch 109/2300\n",
      "16/17 [===========================>..] - ETA: 0s - loss: 0.0420 - accuracy: 0.9868\n",
      "Epoch 109: saving model to model/keypoint_classifier\\keypoint_classifier.hdf5\n",
      "17/17 [==============================] - 0s 8ms/step - loss: 0.0411 - accuracy: 0.9873 - val_loss: 0.0601 - val_accuracy: 0.9944\n",
      "Epoch 110/2300\n",
      "16/17 [===========================>..] - ETA: 0s - loss: 0.0423 - accuracy: 0.9873\n",
      "Epoch 110: saving model to model/keypoint_classifier\\keypoint_classifier.hdf5\n",
      "17/17 [==============================] - 0s 8ms/step - loss: 0.0415 - accuracy: 0.9878 - val_loss: 0.0576 - val_accuracy: 0.9958\n",
      "Epoch 111/2300\n"
     ]
    },
    {
     "name": "stdout",
     "output_type": "stream",
     "text": [
      "16/17 [===========================>..] - ETA: 0s - loss: 0.0421 - accuracy: 0.9878\n",
      "Epoch 111: saving model to model/keypoint_classifier\\keypoint_classifier.hdf5\n",
      "17/17 [==============================] - 0s 8ms/step - loss: 0.0439 - accuracy: 0.9859 - val_loss: 0.0562 - val_accuracy: 0.9972\n",
      "Epoch 112/2300\n",
      "17/17 [==============================] - ETA: 0s - loss: 0.0518 - accuracy: 0.9826\n",
      "Epoch 112: saving model to model/keypoint_classifier\\keypoint_classifier.hdf5\n",
      "17/17 [==============================] - 0s 8ms/step - loss: 0.0518 - accuracy: 0.9826 - val_loss: 0.0586 - val_accuracy: 0.9929\n",
      "Epoch 113/2300\n",
      "15/17 [=========================>....] - ETA: 0s - loss: 0.0426 - accuracy: 0.9854\n",
      "Epoch 113: saving model to model/keypoint_classifier\\keypoint_classifier.hdf5\n",
      "17/17 [==============================] - 0s 9ms/step - loss: 0.0433 - accuracy: 0.9859 - val_loss: 0.0547 - val_accuracy: 0.9929\n",
      "Epoch 114/2300\n",
      "15/17 [=========================>....] - ETA: 0s - loss: 0.0498 - accuracy: 0.9833\n",
      "Epoch 114: saving model to model/keypoint_classifier\\keypoint_classifier.hdf5\n",
      "17/17 [==============================] - 0s 9ms/step - loss: 0.0491 - accuracy: 0.9835 - val_loss: 0.0550 - val_accuracy: 0.9944\n",
      "Epoch 115/2300\n",
      "16/17 [===========================>..] - ETA: 0s - loss: 0.0399 - accuracy: 0.9888\n",
      "Epoch 115: saving model to model/keypoint_classifier\\keypoint_classifier.hdf5\n",
      "17/17 [==============================] - 0s 8ms/step - loss: 0.0402 - accuracy: 0.9882 - val_loss: 0.0542 - val_accuracy: 0.9958\n",
      "Epoch 116/2300\n",
      "16/17 [===========================>..] - ETA: 0s - loss: 0.0389 - accuracy: 0.9878\n",
      "Epoch 116: saving model to model/keypoint_classifier\\keypoint_classifier.hdf5\n",
      "17/17 [==============================] - 0s 8ms/step - loss: 0.0383 - accuracy: 0.9878 - val_loss: 0.0562 - val_accuracy: 0.9929\n",
      "Epoch 117/2300\n",
      "17/17 [==============================] - ETA: 0s - loss: 0.0353 - accuracy: 0.9906\n",
      "Epoch 117: saving model to model/keypoint_classifier\\keypoint_classifier.hdf5\n",
      "17/17 [==============================] - 0s 7ms/step - loss: 0.0353 - accuracy: 0.9906 - val_loss: 0.0559 - val_accuracy: 0.9972\n",
      "Epoch 118/2300\n",
      "17/17 [==============================] - ETA: 0s - loss: 0.0412 - accuracy: 0.9882\n",
      "Epoch 118: saving model to model/keypoint_classifier\\keypoint_classifier.hdf5\n",
      "17/17 [==============================] - 0s 8ms/step - loss: 0.0412 - accuracy: 0.9882 - val_loss: 0.0611 - val_accuracy: 0.9958\n",
      "Epoch 119/2300\n",
      "17/17 [==============================] - ETA: 0s - loss: 0.0449 - accuracy: 0.9840\n",
      "Epoch 119: saving model to model/keypoint_classifier\\keypoint_classifier.hdf5\n",
      "17/17 [==============================] - 0s 8ms/step - loss: 0.0449 - accuracy: 0.9840 - val_loss: 0.0565 - val_accuracy: 0.9958\n",
      "Epoch 120/2300\n",
      "17/17 [==============================] - ETA: 0s - loss: 0.0362 - accuracy: 0.9887\n",
      "Epoch 120: saving model to model/keypoint_classifier\\keypoint_classifier.hdf5\n",
      "17/17 [==============================] - 0s 8ms/step - loss: 0.0362 - accuracy: 0.9887 - val_loss: 0.0577 - val_accuracy: 0.9972\n",
      "Epoch 121/2300\n",
      "16/17 [===========================>..] - ETA: 0s - loss: 0.0353 - accuracy: 0.9912\n",
      "Epoch 121: saving model to model/keypoint_classifier\\keypoint_classifier.hdf5\n",
      "17/17 [==============================] - 0s 8ms/step - loss: 0.0354 - accuracy: 0.9911 - val_loss: 0.0597 - val_accuracy: 0.9944\n",
      "Epoch 122/2300\n",
      "16/17 [===========================>..] - ETA: 0s - loss: 0.0373 - accuracy: 0.9897\n",
      "Epoch 122: saving model to model/keypoint_classifier\\keypoint_classifier.hdf5\n",
      "17/17 [==============================] - 0s 8ms/step - loss: 0.0372 - accuracy: 0.9901 - val_loss: 0.0559 - val_accuracy: 0.9972\n",
      "Epoch 123/2300\n",
      " 1/17 [>.............................] - ETA: 0s - loss: 0.0178 - accuracy: 1.0000\n",
      "Epoch 123: saving model to model/keypoint_classifier\\keypoint_classifier.hdf5\n",
      "17/17 [==============================] - 0s 7ms/step - loss: 0.0317 - accuracy: 0.9906 - val_loss: 0.0556 - val_accuracy: 0.9958\n",
      "Epoch 124/2300\n",
      " 1/17 [>.............................] - ETA: 0s - loss: 0.0261 - accuracy: 0.9922\n",
      "Epoch 124: saving model to model/keypoint_classifier\\keypoint_classifier.hdf5\n",
      "17/17 [==============================] - 0s 8ms/step - loss: 0.0305 - accuracy: 0.9906 - val_loss: 0.0559 - val_accuracy: 0.9972\n",
      "Epoch 125/2300\n",
      "15/17 [=========================>....] - ETA: 0s - loss: 0.0366 - accuracy: 0.9891\n",
      "Epoch 125: saving model to model/keypoint_classifier\\keypoint_classifier.hdf5\n",
      "17/17 [==============================] - 0s 9ms/step - loss: 0.0343 - accuracy: 0.9901 - val_loss: 0.0568 - val_accuracy: 0.9944\n",
      "Epoch 126/2300\n",
      "13/17 [=====================>........] - ETA: 0s - loss: 0.0380 - accuracy: 0.9886\n",
      "Epoch 126: saving model to model/keypoint_classifier\\keypoint_classifier.hdf5\n",
      "17/17 [==============================] - 0s 10ms/step - loss: 0.0359 - accuracy: 0.9887 - val_loss: 0.0553 - val_accuracy: 0.9958\n",
      "Epoch 127/2300\n",
      "14/17 [=======================>......] - ETA: 0s - loss: 0.0345 - accuracy: 0.9905\n",
      "Epoch 127: saving model to model/keypoint_classifier\\keypoint_classifier.hdf5\n",
      "17/17 [==============================] - 0s 10ms/step - loss: 0.0336 - accuracy: 0.9911 - val_loss: 0.0530 - val_accuracy: 0.9944\n",
      "Epoch 128/2300\n",
      "14/17 [=======================>......] - ETA: 0s - loss: 0.0297 - accuracy: 0.9933\n",
      "Epoch 128: saving model to model/keypoint_classifier\\keypoint_classifier.hdf5\n",
      "17/17 [==============================] - 0s 9ms/step - loss: 0.0308 - accuracy: 0.9939 - val_loss: 0.0572 - val_accuracy: 0.9958\n",
      "Epoch 129/2300\n",
      "15/17 [=========================>....] - ETA: 0s - loss: 0.0302 - accuracy: 0.9896\n",
      "Epoch 129: saving model to model/keypoint_classifier\\keypoint_classifier.hdf5\n",
      "17/17 [==============================] - 0s 9ms/step - loss: 0.0334 - accuracy: 0.9887 - val_loss: 0.0774 - val_accuracy: 0.9873\n",
      "Epoch 130/2300\n",
      "16/17 [===========================>..] - ETA: 0s - loss: 0.0448 - accuracy: 0.9819\n",
      "Epoch 130: saving model to model/keypoint_classifier\\keypoint_classifier.hdf5\n",
      "17/17 [==============================] - 0s 8ms/step - loss: 0.0443 - accuracy: 0.9821 - val_loss: 0.0541 - val_accuracy: 0.9958\n",
      "Epoch 131/2300\n",
      "16/17 [===========================>..] - ETA: 0s - loss: 0.0352 - accuracy: 0.9883\n",
      "Epoch 131: saving model to model/keypoint_classifier\\keypoint_classifier.hdf5\n",
      "17/17 [==============================] - 0s 8ms/step - loss: 0.0344 - accuracy: 0.9887 - val_loss: 0.0572 - val_accuracy: 0.9958\n",
      "Epoch 132/2300\n",
      "17/17 [==============================] - ETA: 0s - loss: 0.0306 - accuracy: 0.9929\n",
      "Epoch 132: saving model to model/keypoint_classifier\\keypoint_classifier.hdf5\n",
      "17/17 [==============================] - 0s 8ms/step - loss: 0.0306 - accuracy: 0.9929 - val_loss: 0.0563 - val_accuracy: 0.9958\n",
      "Epoch 133/2300\n",
      "16/17 [===========================>..] - ETA: 0s - loss: 0.0321 - accuracy: 0.9902\n",
      "Epoch 133: saving model to model/keypoint_classifier\\keypoint_classifier.hdf5\n",
      "17/17 [==============================] - 0s 8ms/step - loss: 0.0320 - accuracy: 0.9901 - val_loss: 0.0602 - val_accuracy: 0.9929\n",
      "Epoch 134/2300\n",
      "17/17 [==============================] - ETA: 0s - loss: 0.0287 - accuracy: 0.9911\n",
      "Epoch 134: saving model to model/keypoint_classifier\\keypoint_classifier.hdf5\n",
      "17/17 [==============================] - 0s 8ms/step - loss: 0.0287 - accuracy: 0.9911 - val_loss: 0.0571 - val_accuracy: 0.9944\n",
      "Epoch 135/2300\n",
      "17/17 [==============================] - ETA: 0s - loss: 0.0350 - accuracy: 0.9854\n",
      "Epoch 135: saving model to model/keypoint_classifier\\keypoint_classifier.hdf5\n",
      "17/17 [==============================] - 0s 8ms/step - loss: 0.0350 - accuracy: 0.9854 - val_loss: 0.0643 - val_accuracy: 0.9944\n",
      "Epoch 136/2300\n",
      "16/17 [===========================>..] - ETA: 0s - loss: 0.0291 - accuracy: 0.9927\n",
      "Epoch 136: saving model to model/keypoint_classifier\\keypoint_classifier.hdf5\n",
      "17/17 [==============================] - 0s 9ms/step - loss: 0.0311 - accuracy: 0.9920 - val_loss: 0.0563 - val_accuracy: 0.9958\n",
      "Epoch 137/2300\n",
      "16/17 [===========================>..] - ETA: 0s - loss: 0.0343 - accuracy: 0.9897\n",
      "Epoch 137: saving model to model/keypoint_classifier\\keypoint_classifier.hdf5\n",
      "17/17 [==============================] - 0s 9ms/step - loss: 0.0346 - accuracy: 0.9896 - val_loss: 0.0592 - val_accuracy: 0.9958\n"
     ]
    },
    {
     "name": "stdout",
     "output_type": "stream",
     "text": [
      "Epoch 138/2300\n",
      "15/17 [=========================>....] - ETA: 0s - loss: 0.0305 - accuracy: 0.9911\n",
      "Epoch 138: saving model to model/keypoint_classifier\\keypoint_classifier.hdf5\n",
      "17/17 [==============================] - 0s 8ms/step - loss: 0.0304 - accuracy: 0.9906 - val_loss: 0.0511 - val_accuracy: 0.9972\n",
      "Epoch 139/2300\n",
      "16/17 [===========================>..] - ETA: 0s - loss: 0.0299 - accuracy: 0.9912\n",
      "Epoch 139: saving model to model/keypoint_classifier\\keypoint_classifier.hdf5\n",
      "17/17 [==============================] - 0s 8ms/step - loss: 0.0292 - accuracy: 0.9915 - val_loss: 0.0530 - val_accuracy: 0.9972\n",
      "Epoch 140/2300\n",
      "17/17 [==============================] - ETA: 0s - loss: 0.0261 - accuracy: 0.9934\n",
      "Epoch 140: saving model to model/keypoint_classifier\\keypoint_classifier.hdf5\n",
      "17/17 [==============================] - 0s 8ms/step - loss: 0.0261 - accuracy: 0.9934 - val_loss: 0.0562 - val_accuracy: 0.9944\n",
      "Epoch 141/2300\n",
      " 1/17 [>.............................] - ETA: 0s - loss: 0.0196 - accuracy: 1.0000\n",
      "Epoch 141: saving model to model/keypoint_classifier\\keypoint_classifier.hdf5\n",
      "17/17 [==============================] - 0s 8ms/step - loss: 0.0266 - accuracy: 0.9948 - val_loss: 0.0537 - val_accuracy: 0.9958\n",
      "Epoch 142/2300\n",
      "15/17 [=========================>....] - ETA: 0s - loss: 0.0180 - accuracy: 0.9958\n",
      "Epoch 142: saving model to model/keypoint_classifier\\keypoint_classifier.hdf5\n",
      "17/17 [==============================] - 0s 8ms/step - loss: 0.0196 - accuracy: 0.9953 - val_loss: 0.0546 - val_accuracy: 0.9958\n",
      "Epoch 143/2300\n",
      " 1/17 [>.............................] - ETA: 0s - loss: 0.0073 - accuracy: 1.0000\n",
      "Epoch 143: saving model to model/keypoint_classifier\\keypoint_classifier.hdf5\n",
      "17/17 [==============================] - 0s 8ms/step - loss: 0.0271 - accuracy: 0.9925 - val_loss: 0.0586 - val_accuracy: 0.9958\n",
      "Epoch 144/2300\n",
      "16/17 [===========================>..] - ETA: 0s - loss: 0.0237 - accuracy: 0.9932\n",
      "Epoch 144: saving model to model/keypoint_classifier\\keypoint_classifier.hdf5\n",
      "17/17 [==============================] - 0s 8ms/step - loss: 0.0248 - accuracy: 0.9929 - val_loss: 0.0585 - val_accuracy: 0.9958\n",
      "Epoch 145/2300\n",
      "15/17 [=========================>....] - ETA: 0s - loss: 0.0207 - accuracy: 0.9964\n",
      "Epoch 145: saving model to model/keypoint_classifier\\keypoint_classifier.hdf5\n",
      "17/17 [==============================] - 0s 9ms/step - loss: 0.0219 - accuracy: 0.9953 - val_loss: 0.0565 - val_accuracy: 0.9972\n",
      "Epoch 146/2300\n",
      "16/17 [===========================>..] - ETA: 0s - loss: 0.0199 - accuracy: 0.9956\n",
      "Epoch 146: saving model to model/keypoint_classifier\\keypoint_classifier.hdf5\n",
      "17/17 [==============================] - 0s 8ms/step - loss: 0.0195 - accuracy: 0.9958 - val_loss: 0.0595 - val_accuracy: 0.9972\n",
      "Epoch 147/2300\n",
      "16/17 [===========================>..] - ETA: 0s - loss: 0.0253 - accuracy: 0.9912\n",
      "Epoch 147: saving model to model/keypoint_classifier\\keypoint_classifier.hdf5\n",
      "17/17 [==============================] - 0s 8ms/step - loss: 0.0246 - accuracy: 0.9915 - val_loss: 0.0559 - val_accuracy: 0.9972\n",
      "Epoch 148/2300\n",
      "17/17 [==============================] - ETA: 0s - loss: 0.0263 - accuracy: 0.9911\n",
      "Epoch 148: saving model to model/keypoint_classifier\\keypoint_classifier.hdf5\n",
      "17/17 [==============================] - 0s 8ms/step - loss: 0.0263 - accuracy: 0.9911 - val_loss: 0.0546 - val_accuracy: 0.9958\n",
      "Epoch 149/2300\n",
      " 1/17 [>.............................] - ETA: 0s - loss: 0.0416 - accuracy: 0.9844\n",
      "Epoch 149: saving model to model/keypoint_classifier\\keypoint_classifier.hdf5\n",
      "17/17 [==============================] - 0s 7ms/step - loss: 0.0170 - accuracy: 0.9972 - val_loss: 0.0582 - val_accuracy: 0.9958\n",
      "Epoch 150/2300\n",
      "17/17 [==============================] - ETA: 0s - loss: 0.0242 - accuracy: 0.9943\n",
      "Epoch 150: saving model to model/keypoint_classifier\\keypoint_classifier.hdf5\n",
      "17/17 [==============================] - 0s 8ms/step - loss: 0.0242 - accuracy: 0.9943 - val_loss: 0.0575 - val_accuracy: 0.9972\n",
      "Epoch 151/2300\n",
      "16/17 [===========================>..] - ETA: 0s - loss: 0.0212 - accuracy: 0.9937\n",
      "Epoch 151: saving model to model/keypoint_classifier\\keypoint_classifier.hdf5\n",
      "17/17 [==============================] - 0s 9ms/step - loss: 0.0209 - accuracy: 0.9939 - val_loss: 0.0570 - val_accuracy: 0.9972\n",
      "Epoch 152/2300\n",
      "15/17 [=========================>....] - ETA: 0s - loss: 0.0194 - accuracy: 0.9943\n",
      "Epoch 152: saving model to model/keypoint_classifier\\keypoint_classifier.hdf5\n",
      "17/17 [==============================] - 0s 9ms/step - loss: 0.0199 - accuracy: 0.9939 - val_loss: 0.0594 - val_accuracy: 0.9958\n",
      "Epoch 153/2300\n",
      "11/17 [==================>...........] - ETA: 0s - loss: 0.0197 - accuracy: 0.9915\n",
      "Epoch 153: saving model to model/keypoint_classifier\\keypoint_classifier.hdf5\n",
      "17/17 [==============================] - 0s 9ms/step - loss: 0.0181 - accuracy: 0.9934 - val_loss: 0.0558 - val_accuracy: 0.9958\n",
      "Epoch 154/2300\n",
      "15/17 [=========================>....] - ETA: 0s - loss: 0.0201 - accuracy: 0.9969\n",
      "Epoch 154: saving model to model/keypoint_classifier\\keypoint_classifier.hdf5\n",
      "17/17 [==============================] - 0s 8ms/step - loss: 0.0197 - accuracy: 0.9967 - val_loss: 0.0569 - val_accuracy: 0.9944\n",
      "Epoch 155/2300\n",
      "14/17 [=======================>......] - ETA: 0s - loss: 0.0186 - accuracy: 0.9955\n",
      "Epoch 155: saving model to model/keypoint_classifier\\keypoint_classifier.hdf5\n",
      "17/17 [==============================] - 0s 9ms/step - loss: 0.0176 - accuracy: 0.9958 - val_loss: 0.0594 - val_accuracy: 0.9958\n",
      "Epoch 156/2300\n",
      " 6/17 [=========>....................] - ETA: 0s - loss: 0.0338 - accuracy: 0.9870\n",
      "Epoch 156: saving model to model/keypoint_classifier\\keypoint_classifier.hdf5\n",
      "17/17 [==============================] - 0s 10ms/step - loss: 0.0285 - accuracy: 0.9906 - val_loss: 0.0566 - val_accuracy: 0.9958\n",
      "Epoch 157/2300\n",
      " 1/17 [>.............................] - ETA: 0s - loss: 0.0189 - accuracy: 0.9922\n",
      "Epoch 157: saving model to model/keypoint_classifier\\keypoint_classifier.hdf5\n",
      "17/17 [==============================] - 0s 7ms/step - loss: 0.0211 - accuracy: 0.9934 - val_loss: 0.0590 - val_accuracy: 0.9958\n",
      "Epoch 158/2300\n",
      "17/17 [==============================] - ETA: 0s - loss: 0.0173 - accuracy: 0.9948\n",
      "Epoch 158: saving model to model/keypoint_classifier\\keypoint_classifier.hdf5\n",
      "17/17 [==============================] - 0s 8ms/step - loss: 0.0173 - accuracy: 0.9948 - val_loss: 0.0602 - val_accuracy: 0.9972\n",
      "Epoch 158: early stopping\n"
     ]
    },
    {
     "data": {
      "text/plain": [
       "<keras.src.callbacks.History at 0x26a76bd8f10>"
      ]
     },
     "execution_count": 84,
     "metadata": {},
     "output_type": "execute_result"
    }
   ],
   "source": [
    "model.fit(\n",
    "    X_train,\n",
    "    y_train,\n",
    "    epochs=100*NUM_CLASSES,\n",
    "    batch_size=128,\n",
    "    validation_data=(X_test, y_test),\n",
    "    callbacks=[cp_callback, es_callback]\n",
    ")"
   ]
  },
  {
   "cell_type": "code",
   "execution_count": 85,
   "metadata": {
    "colab": {
     "base_uri": "https://localhost:8080/"
    },
    "id": "pxvb2Y299hE3",
    "outputId": "59eb3185-2e37-4b9e-bc9d-ab1b8ac29b7f"
   },
   "outputs": [
    {
     "name": "stdout",
     "output_type": "stream",
     "text": [
      "6/6 [==============================] - 0s 3ms/step - loss: 0.0602 - accuracy: 0.9972\n"
     ]
    }
   ],
   "source": [
    "# Model evaluation\n",
    "val_loss, val_acc = model.evaluate(X_test, y_test, batch_size=128)"
   ]
  },
  {
   "cell_type": "code",
   "execution_count": 86,
   "metadata": {
    "id": "RBkmDeUW9hE4"
   },
   "outputs": [],
   "source": [
    "# Loading the saved model\n",
    "model = tf.keras.models.load_model(model_save_path)"
   ]
  },
  {
   "cell_type": "code",
   "execution_count": 87,
   "metadata": {
    "colab": {
     "base_uri": "https://localhost:8080/"
    },
    "id": "tFz9Tb0I9hE4",
    "outputId": "1c3b3528-54ae-4ee2-ab04-77429211cbef"
   },
   "outputs": [
    {
     "name": "stdout",
     "output_type": "stream",
     "text": [
      "1/1 [==============================] - 0s 72ms/step\n",
      "[2.22391092e-14 6.42439019e-11 4.59726863e-07 5.57284839e-05\n",
      " 1.64392409e-14 5.03793227e-17 1.61554084e-07 1.33490285e-11\n",
      " 5.07827238e-08 3.73523676e-07 1.06453043e-16 8.22018217e-11\n",
      " 1.07391966e-16 4.70521955e-10 1.57829056e-12 1.66239039e-12\n",
      " 9.99942780e-01 7.25938007e-18 6.28810494e-14 1.94306597e-14\n",
      " 5.10304915e-07 1.35477262e-17 8.15260748e-10]\n",
      "16\n"
     ]
    }
   ],
   "source": [
    "# Inference test\n",
    "predict_result = model.predict(np.array([X_test[0]]))\n",
    "print(np.squeeze(predict_result))\n",
    "print(np.argmax(np.squeeze(predict_result)))"
   ]
  },
  {
   "cell_type": "markdown",
   "metadata": {
    "id": "S3U4yNWx9hE4"
   },
   "source": [
    "# Confusion matrix"
   ]
  },
  {
   "cell_type": "code",
   "execution_count": 88,
   "metadata": {
    "colab": {
     "base_uri": "https://localhost:8080/",
     "height": 582
    },
    "id": "AP1V6SCk9hE5",
    "outputId": "08e41a80-7a4a-4619-8125-ecc371368d19"
   },
   "outputs": [
    {
     "name": "stdout",
     "output_type": "stream",
     "text": [
      "23/23 [==============================] - 0s 1ms/step\n"
     ]
    },
    {
     "data": {
      "image/png": "[encoded data removed]",
      "text/plain": [
       "<Figure size 700x600 with 2 Axes>"
      ]
     },
     "metadata": {},
     "output_type": "display_data"
    },
    {
     "name": "stdout",
     "output_type": "stream",
     "text": [
      "Classification Report\n",
      "              precision    recall  f1-score   support\n",
      "\n",
      "           0       1.00      1.00      1.00        18\n",
      "           1       1.00      1.00      1.00        38\n",
      "           2       0.97      1.00      0.99        37\n",
      "           3       1.00      1.00      1.00        48\n",
      "           4       1.00      1.00      1.00        54\n",
      "           5       1.00      0.97      0.99        39\n",
      "           6       1.00      1.00      1.00        27\n",
      "           7       1.00      1.00      1.00        22\n",
      "           8       1.00      1.00      1.00        23\n",
      "           9       1.00      1.00      1.00        22\n",
      "          10       1.00      1.00      1.00        25\n",
      "          11       1.00      1.00      1.00        24\n",
      "          12       1.00      1.00      1.00        33\n",
      "          13       1.00      1.00      1.00        30\n",
      "          14       1.00      1.00      1.00        26\n",
      "          15       1.00      0.97      0.99        38\n",
      "          16       1.00      1.00      1.00        27\n",
      "          17       1.00      1.00      1.00        33\n",
      "          18       1.00      1.00      1.00        31\n",
      "          19       0.96      1.00      0.98        24\n",
      "          20       1.00      1.00      1.00        29\n",
      "          21       1.00      1.00      1.00        32\n",
      "          22       1.00      1.00      1.00        28\n",
      "\n",
      "    accuracy                           1.00       708\n",
      "   macro avg       1.00      1.00      1.00       708\n",
      "weighted avg       1.00      1.00      1.00       708\n",
      "\n"
     ]
    }
   ],
   "source": [
    "import pandas as pd\n",
    "import seaborn as sns\n",
    "import matplotlib.pyplot as plt\n",
    "from sklearn.metrics import confusion_matrix, classification_report\n",
    "\n",
    "def print_confusion_matrix(y_true, y_pred, report=True):\n",
    "    labels = sorted(list(set(y_true)))\n",
    "    cmx_data = confusion_matrix(y_true, y_pred, labels=labels)\n",
    "    \n",
    "    df_cmx = pd.DataFrame(cmx_data, index=labels, columns=labels)\n",
    " \n",
    "    fig, ax = plt.subplots(figsize=(7, 6))\n",
    "    sns.heatmap(df_cmx, annot=True, fmt='g' ,square=False)\n",
    "    ax.set_ylim(len(set(y_true)), 0)\n",
    "    plt.show()\n",
    "    \n",
    "    if report:\n",
    "        print('Classification Report')\n",
    "        print(classification_report(y_test, y_pred))\n",
    "\n",
    "Y_pred = model.predict(X_test)\n",
    "y_pred = np.argmax(Y_pred, axis=1)\n",
    "\n",
    "print_confusion_matrix(y_test, y_pred)"
   ]
  },
  {
   "cell_type": "markdown",
   "metadata": {
    "id": "FNP6aqzc9hE5"
   },
   "source": [
    "# Convert to model for Tensorflow-Lite"
   ]
  },
  {
   "cell_type": "code",
   "execution_count": 89,
   "metadata": {
    "id": "ODjnYyld9hE6"
   },
   "outputs": [
    {
     "name": "stderr",
     "output_type": "stream",
     "text": [
      "C:\\Users\\Sanjay\\AppData\\Local\\Programs\\Python\\Python39\\lib\\site-packages\\keras\\src\\engine\\training.py:3000: UserWarning: You are saving your model as an HDF5 file via `model.save()`. This file format is considered legacy. We recommend using instead the native Keras format, e.g. `model.save('my_model.keras')`.\n",
      "  saving_api.save_model(\n"
     ]
    }
   ],
   "source": [
    "# Save as a model dedicated to inference\n",
    "model.save(model_save_path, include_optimizer=False)"
   ]
  },
  {
   "cell_type": "code",
   "execution_count": 90,
   "metadata": {
    "colab": {
     "base_uri": "https://localhost:8080/"
    },
    "id": "zRfuK8Y59hE6",
    "outputId": "a4ca585c-b5d5-4244-8291-8674063209bb"
   },
   "outputs": [
    {
     "name": "stdout",
     "output_type": "stream",
     "text": [
      "INFO:tensorflow:Assets written to: C:\\Users\\Sanjay\\AppData\\Local\\Temp\\tmpfkqrxouu\\assets\n"
     ]
    },
    {
     "name": "stderr",
     "output_type": "stream",
     "text": [
      "INFO:tensorflow:Assets written to: C:\\Users\\Sanjay\\AppData\\Local\\Temp\\tmpfkqrxouu\\assets\n"
     ]
    },
    {
     "data": {
      "text/plain": [
       "24832"
      ]
     },
     "execution_count": 90,
     "metadata": {},
     "output_type": "execute_result"
    }
   ],
   "source": [
    "# Transform model (quantization)\n",
    "\n",
    "converter = tf.lite.TFLiteConverter.from_keras_model(model)\n",
    "converter.optimizations = [tf.lite.Optimize.DEFAULT]\n",
    "tflite_quantized_model = converter.convert()\n",
    "\n",
    "open(tflite_save_path, 'wb').write(tflite_quantized_model)"
   ]
  },
  {
   "cell_type": "markdown",
   "metadata": {
    "id": "CHBPBXdx9hE6"
   },
   "source": [
    "# Inference test"
   ]
  },
  {
   "cell_type": "code",
   "execution_count": 91,
   "metadata": {
    "id": "mGAzLocO9hE7"
   },
   "outputs": [],
   "source": [
    "interpreter = tf.lite.Interpreter(model_path=tflite_save_path)\n",
    "interpreter.allocate_tensors()"
   ]
  },
  {
   "cell_type": "code",
   "execution_count": 92,
   "metadata": {
    "id": "oQuDK8YS9hE7"
   },
   "outputs": [],
   "source": [
    "# Get I / O tensor\n",
    "input_details = interpreter.get_input_details()\n",
    "output_details = interpreter.get_output_details()"
   ]
  },
  {
   "cell_type": "code",
   "execution_count": 93,
   "metadata": {
    "id": "2_ixAf_l9hE7"
   },
   "outputs": [],
   "source": [
    "interpreter.set_tensor(input_details[0]['index'], np.array([X_test[0]]))"
   ]
  },
  {
   "cell_type": "code",
   "execution_count": 94,
   "metadata": {
    "colab": {
     "base_uri": "https://localhost:8080/"
    },
    "id": "s4FoAnuc9hE7",
    "outputId": "91f18257-8d8b-4ef3-c558-e9b5f94fabbf",
    "scrolled": true
   },
   "outputs": [
    {
     "name": "stdout",
     "output_type": "stream",
     "text": [
      "CPU times: total: 0 ns\n",
      "Wall time: 0 ns\n"
     ]
    }
   ],
   "source": [
    "%%time\n",
    "# Inference implementation\n",
    "interpreter.invoke()\n",
    "tflite_results = interpreter.get_tensor(output_details[0]['index'])"
   ]
  },
  {
   "cell_type": "code",
   "execution_count": 95,
   "metadata": {
    "colab": {
     "base_uri": "https://localhost:8080/"
    },
    "id": "vONjp19J9hE8",
    "outputId": "77205e24-fd00-42c4-f7b6-e06e527c2cba"
   },
   "outputs": [
    {
     "name": "stdout",
     "output_type": "stream",
     "text": [
      "[2.3823142e-14 5.4811895e-11 4.9447635e-07 5.6223624e-05 1.4333547e-14\n",
      " 4.9581586e-17 1.7031719e-07 1.4767342e-11 5.0495441e-08 3.8958893e-07\n",
      " 1.2930534e-16 8.7858214e-11 9.6974248e-17 4.8151527e-10 1.8224166e-12\n",
      " 1.8024186e-12 9.9994218e-01 6.6493402e-18 6.6727304e-14 1.9347920e-14\n",
      " 4.8478660e-07 1.4328469e-17 8.7387952e-10]\n",
      "16\n"
     ]
    }
   ],
   "source": [
    "print(np.squeeze(tflite_results))\n",
    "print(np.argmax(np.squeeze(tflite_results)))"
   ]
  },
  {
   "cell_type": "code",
   "execution_count": null,
   "metadata": {},
   "outputs": [],
   "source": []
  },
  {
   "cell_type": "code",
   "execution_count": null,
   "metadata": {},
   "outputs": [],
   "source": []
  },
  {
   "cell_type": "code",
   "execution_count": null,
   "metadata": {},
   "outputs": [],
   "source": []
  }
 ],
 "metadata": {
  "accelerator": "GPU",
  "colab": {
   "collapsed_sections": [],
   "name": "keypoint_classification_EN.ipynb",
   "provenance": [],
   "toc_visible": true
  },
  "kernelspec": {
   "display_name": "Python 3 (ipykernel)",
   "language": "python",
   "name": "python3"
  },
  "language_info": {
   "codemirror_mode": {
    "name": "ipython",
    "version": 3
   },
   "file_extension": ".py",
   "mimetype": "text/x-python",
   "name": "python",
   "nbconvert_exporter": "python",
   "pygments_lexer": "ipython3",
   "version": "3.9.7"
  }
 },
 "nbformat": 4,
 "nbformat_minor": 1
}
