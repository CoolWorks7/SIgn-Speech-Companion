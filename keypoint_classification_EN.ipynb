{
 "cells": [
  {
   "cell_type": "code",
   "execution_count": 98,
   "metadata": {
    "id": "igMyGnjE9hEp"
   },
   "outputs": [],
   "source": [
    "import csv\n",
    "\n",
    "import numpy as np\n",
    "import tensorflow as tf\n",
    "from sklearn.model_selection import train_test_split\n",
    "\n",
    "RANDOM_SEED = 42"
   ]
  },
  {
   "cell_type": "markdown",
   "metadata": {
    "id": "t2HDvhIu9hEr"
   },
   "source": [
    "# Specify each path"
   ]
  },
  {
   "cell_type": "code",
   "execution_count": 99,
   "metadata": {
    "id": "9NvZP2Zn9hEy"
   },
   "outputs": [],
   "source": [
    "dataset = 'model/keypoint_classifier/keypoint.csv'\n",
    "model_save_path = 'model/keypoint_classifier/keypoint_classifier.hdf5'\n",
    "tflite_save_path = 'model/keypoint_classifier/keypoint_classifier.tflite'"
   ]
  },
  {
   "cell_type": "markdown",
   "metadata": {
    "id": "s5oMH7x19hEz"
   },
   "source": [
    "# Set number of classes"
   ]
  },
  {
   "cell_type": "code",
   "execution_count": 100,
   "metadata": {
    "id": "du4kodXL9hEz"
   },
   "outputs": [],
   "source": [
    "NUM_CLASSES = 34"
   ]
  },
  {
   "cell_type": "markdown",
   "metadata": {
    "id": "XjnL0uso9hEz"
   },
   "source": [
    "# Dataset reading"
   ]
  },
  {
   "cell_type": "code",
   "execution_count": 101,
   "metadata": {
    "id": "QT5ZqtEz9hE0"
   },
   "outputs": [],
   "source": [
    "X_dataset = np.loadtxt(dataset, delimiter=',', dtype='float32', usecols=list(range(1, (21*2 + 21*2 + 2*1) + 1)))"
   ]
  },
  {
   "cell_type": "code",
   "execution_count": 102,
   "metadata": {
    "id": "QmoKFsp49hE0"
   },
   "outputs": [],
   "source": [
    "y_dataset = np.loadtxt(dataset, delimiter=',', dtype='int32', usecols=(0))"
   ]
  },
  {
   "cell_type": "code",
   "execution_count": 103,
   "metadata": {
    "id": "xQU7JTZ_9hE0"
   },
   "outputs": [],
   "source": [
    "X_train, X_test, y_train, y_test = train_test_split(X_dataset, y_dataset, train_size=0.75, random_state=RANDOM_SEED)"
   ]
  },
  {
   "cell_type": "markdown",
   "metadata": {
    "id": "mxK_lETT9hE0"
   },
   "source": [
    "# Model building"
   ]
  },
  {
   "cell_type": "code",
   "execution_count": 104,
   "metadata": {
    "id": "vHBmUf1t9hE1"
   },
   "outputs": [],
   "source": [
    "# model = tf.keras.models.Sequential([\n",
    "#     tf.keras.layers.Input((21*2 + 21*2 + 2*1 )),\n",
    "#     tf.keras.layers.Dropout(0.2),\n",
    "#     tf.keras.layers.Dense(20, activation='relu'),\n",
    "#     tf.keras.layers.Dropout(0.4),\n",
    "#     tf.keras.layers.Dense(10, activation='relu'),\n",
    "#     tf.keras.layers.Dense(NUM_CLASSES, activation='softmax')\n",
    "# ])"
   ]
  },
  {
   "cell_type": "code",
   "execution_count": 105,
   "metadata": {},
   "outputs": [],
   "source": [
    "model = tf.keras.models.Sequential([\n",
    "    tf.keras.layers.Input((21*2 + 21*2 + 2*1 )),\n",
    "    tf.keras.layers.Dense(80, activation='relu'),\n",
    "    tf.keras.layers.Dropout(0.2),\n",
    "    tf.keras.layers.Dense(100, activation='relu'),\n",
    "    tf.keras.layers.Dropout(0.4),\n",
    "    tf.keras.layers.Dense(50, activation='relu'),\n",
    "    tf.keras.layers.Dense(NUM_CLASSES, activation='softmax')\n",
    "])"
   ]
  },
  {
   "cell_type": "code",
   "execution_count": 106,
   "metadata": {},
   "outputs": [],
   "source": [
    "# model = tf.keras.models.Sequential([\n",
    "#     tf.keras.layers.Input((21*2 + 21*2 + 2*1 )),\n",
    "#     tf.keras.layers.Dropout(0.2),\n",
    "#     tf.keras.layers.Dense(100, activation='relu'),\n",
    "#     tf.keras.layers.Dropout(0.4),\n",
    "#     tf.keras.layers.Dense(50, activation='relu'),\n",
    "#     tf.keras.layers.Dense(NUM_CLASSES, activation='softmax')\n",
    "# ])"
   ]
  },
  {
   "cell_type": "code",
   "execution_count": 107,
   "metadata": {
    "colab": {
     "base_uri": "https://localhost:8080/"
    },
    "id": "ypqky9tc9hE1",
    "outputId": "5db082bb-30e3-4110-bf63-a1ee777ecd46"
   },
   "outputs": [
    {
     "name": "stdout",
     "output_type": "stream",
     "text": [
      "Model: \"sequential_4\"\n",
      "_________________________________________________________________\n",
      " Layer (type)                Output Shape              Param #   \n",
      "=================================================================\n",
      " dense_16 (Dense)            (None, 80)                6960      \n",
      "                                                                 \n",
      " dropout_8 (Dropout)         (None, 80)                0         \n",
      "                                                                 \n",
      " dense_17 (Dense)            (None, 100)               8100      \n",
      "                                                                 \n",
      " dropout_9 (Dropout)         (None, 100)               0         \n",
      "                                                                 \n",
      " dense_18 (Dense)            (None, 50)                5050      \n",
      "                                                                 \n",
      " dense_19 (Dense)            (None, 34)                1734      \n",
      "                                                                 \n",
      "=================================================================\n",
      "Total params: 21844 (85.33 KB)\n",
      "Trainable params: 21844 (85.33 KB)\n",
      "Non-trainable params: 0 (0.00 Byte)\n",
      "_________________________________________________________________\n"
     ]
    }
   ],
   "source": [
    "model.summary()  # tf.keras.utils.plot_model(model, show_shapes=True)"
   ]
  },
  {
   "cell_type": "code",
   "execution_count": 108,
   "metadata": {
    "id": "MbMjOflQ9hE1"
   },
   "outputs": [],
   "source": [
    "# Model checkpoint callback\n",
    "cp_callback = tf.keras.callbacks.ModelCheckpoint(\n",
    "    model_save_path, verbose=1, save_weights_only=False)\n",
    "# Callback for early stopping\n",
    "es_callback = tf.keras.callbacks.EarlyStopping(patience=20, verbose=1)"
   ]
  },
  {
   "cell_type": "code",
   "execution_count": 109,
   "metadata": {
    "id": "c3Dac0M_9hE2"
   },
   "outputs": [],
   "source": [
    "# Model compilation\n",
    "model.compile(\n",
    "    optimizer='adam',\n",
    "    loss='sparse_categorical_crossentropy',\n",
    "    metrics=['accuracy']\n",
    ")"
   ]
  },
  {
   "cell_type": "markdown",
   "metadata": {
    "id": "7XI0j1Iu9hE2"
   },
   "source": [
    "# Model training"
   ]
  },
  {
   "cell_type": "code",
   "execution_count": 110,
   "metadata": {
    "colab": {
     "base_uri": "https://localhost:8080/"
    },
    "id": "WirBl-JE9hE3",
    "outputId": "71b30ca2-8294-4d9d-8aa2-800d90d399de",
    "scrolled": true
   },
   "outputs": [
    {
     "name": "stdout",
     "output_type": "stream",
     "text": [
      "Epoch 1/3400\n",
      "13/25 [==============>...............] - ETA: 0s - loss: 3.4768 - accuracy: 0.0613 \n",
      "Epoch 1: saving model to model/keypoint_classifier\\keypoint_classifier.hdf5\n",
      "25/25 [==============================] - 1s 18ms/step - loss: 3.3856 - accuracy: 0.0778 - val_loss: 3.0886 - val_accuracy: 0.0978\n",
      "Epoch 2/3400\n",
      "22/25 [=========================>....] - ETA: 0s - loss: 2.9121 - accuracy: 0.1314"
     ]
    },
    {
     "name": "stderr",
     "output_type": "stream",
     "text": [
      "C:\\Users\\Sanjay\\AppData\\Local\\Programs\\Python\\Python39\\lib\\site-packages\\keras\\src\\engine\\training.py:3000: UserWarning: You are saving your model as an HDF5 file via `model.save()`. This file format is considered legacy. We recommend using instead the native Keras format, e.g. `model.save('my_model.keras')`.\n",
      "  saving_api.save_model(\n"
     ]
    },
    {
     "name": "stdout",
     "output_type": "stream",
     "text": [
      "\n",
      "Epoch 2: saving model to model/keypoint_classifier\\keypoint_classifier.hdf5\n",
      "25/25 [==============================] - 0s 11ms/step - loss: 2.8941 - accuracy: 0.1378 - val_loss: 2.5496 - val_accuracy: 0.2449\n",
      "Epoch 3/3400\n",
      "16/25 [==================>...........] - ETA: 0s - loss: 2.5685 - accuracy: 0.1934\n",
      "Epoch 3: saving model to model/keypoint_classifier\\keypoint_classifier.hdf5\n",
      "25/25 [==============================] - 0s 8ms/step - loss: 2.5068 - accuracy: 0.2120 - val_loss: 2.1505 - val_accuracy: 0.3756\n",
      "Epoch 4/3400\n",
      "12/25 [=============>................] - ETA: 0s - loss: 2.2553 - accuracy: 0.2812\n",
      "Epoch 4: saving model to model/keypoint_classifier\\keypoint_classifier.hdf5\n",
      "25/25 [==============================] - 0s 8ms/step - loss: 2.1965 - accuracy: 0.2933 - val_loss: 1.8074 - val_accuracy: 0.5005\n",
      "Epoch 5/3400\n",
      "24/25 [===========================>..] - ETA: 0s - loss: 1.9080 - accuracy: 0.3678\n",
      "Epoch 5: saving model to model/keypoint_classifier\\keypoint_classifier.hdf5\n",
      "25/25 [==============================] - 0s 8ms/step - loss: 1.9040 - accuracy: 0.3698 - val_loss: 1.5469 - val_accuracy: 0.5750\n",
      "Epoch 6/3400\n",
      "16/25 [==================>...........] - ETA: 0s - loss: 1.6669 - accuracy: 0.4243\n",
      "Epoch 6: saving model to model/keypoint_classifier\\keypoint_classifier.hdf5\n",
      "25/25 [==============================] - 0s 8ms/step - loss: 1.6495 - accuracy: 0.4372 - val_loss: 1.2767 - val_accuracy: 0.6534\n",
      "Epoch 7/3400\n",
      "14/25 [===============>..............] - ETA: 0s - loss: 1.4771 - accuracy: 0.4950\n",
      "Epoch 7: saving model to model/keypoint_classifier\\keypoint_classifier.hdf5\n",
      "25/25 [==============================] - 0s 8ms/step - loss: 1.4314 - accuracy: 0.5073 - val_loss: 1.0592 - val_accuracy: 0.7193\n",
      "Epoch 8/3400\n",
      "16/25 [==================>...........] - ETA: 0s - loss: 1.3070 - accuracy: 0.5479\n",
      "Epoch 8: saving model to model/keypoint_classifier\\keypoint_classifier.hdf5\n",
      "25/25 [==============================] - 0s 8ms/step - loss: 1.2604 - accuracy: 0.5647 - val_loss: 0.9076 - val_accuracy: 0.7967\n",
      "Epoch 9/3400\n",
      "24/25 [===========================>..] - ETA: 0s - loss: 1.1305 - accuracy: 0.6100\n",
      "Epoch 9: saving model to model/keypoint_classifier\\keypoint_classifier.hdf5\n",
      "25/25 [==============================] - 0s 10ms/step - loss: 1.1283 - accuracy: 0.6112 - val_loss: 0.7855 - val_accuracy: 0.7851\n",
      "Epoch 10/3400\n",
      "24/25 [===========================>..] - ETA: 0s - loss: 1.0107 - accuracy: 0.6377\n",
      "Epoch 10: saving model to model/keypoint_classifier\\keypoint_classifier.hdf5\n",
      "25/25 [==============================] - 0s 9ms/step - loss: 1.0099 - accuracy: 0.6373 - val_loss: 0.6767 - val_accuracy: 0.8412\n",
      "Epoch 11/3400\n",
      "12/25 [=============>................] - ETA: 0s - loss: 0.9323 - accuracy: 0.6725\n",
      "Epoch 11: saving model to model/keypoint_classifier\\keypoint_classifier.hdf5\n",
      "25/25 [==============================] - 0s 10ms/step - loss: 0.9238 - accuracy: 0.6802 - val_loss: 0.6196 - val_accuracy: 0.8074\n",
      "Epoch 12/3400\n",
      "17/25 [===================>..........] - ETA: 0s - loss: 0.8443 - accuracy: 0.6893\n",
      "Epoch 12: saving model to model/keypoint_classifier\\keypoint_classifier.hdf5\n",
      "25/25 [==============================] - 0s 13ms/step - loss: 0.8485 - accuracy: 0.6905 - val_loss: 0.5620 - val_accuracy: 0.8470\n",
      "Epoch 13/3400\n",
      "19/25 [=====================>........] - ETA: 0s - loss: 0.7699 - accuracy: 0.7286\n",
      "Epoch 13: saving model to model/keypoint_classifier\\keypoint_classifier.hdf5\n",
      "25/25 [==============================] - 0s 9ms/step - loss: 0.7562 - accuracy: 0.7338 - val_loss: 0.5009 - val_accuracy: 0.8606\n",
      "Epoch 14/3400\n",
      "14/25 [===============>..............] - ETA: 0s - loss: 0.7054 - accuracy: 0.7578\n",
      "Epoch 14: saving model to model/keypoint_classifier\\keypoint_classifier.hdf5\n",
      "25/25 [==============================] - 0s 9ms/step - loss: 0.7155 - accuracy: 0.7586 - val_loss: 0.4698 - val_accuracy: 0.8558\n",
      "Epoch 15/3400\n",
      "23/25 [==========================>...] - ETA: 0s - loss: 0.6771 - accuracy: 0.7622\n",
      "Epoch 15: saving model to model/keypoint_classifier\\keypoint_classifier.hdf5\n",
      "25/25 [==============================] - 0s 12ms/step - loss: 0.6690 - accuracy: 0.7651 - val_loss: 0.4292 - val_accuracy: 0.8838\n",
      "Epoch 16/3400\n",
      "24/25 [===========================>..] - ETA: 0s - loss: 0.6438 - accuracy: 0.7705\n",
      "Epoch 16: saving model to model/keypoint_classifier\\keypoint_classifier.hdf5\n",
      "25/25 [==============================] - 0s 12ms/step - loss: 0.6421 - accuracy: 0.7715 - val_loss: 0.3953 - val_accuracy: 0.8955\n",
      "Epoch 17/3400\n",
      "17/25 [===================>..........] - ETA: 0s - loss: 0.6089 - accuracy: 0.7872\n",
      "Epoch 17: saving model to model/keypoint_classifier\\keypoint_classifier.hdf5\n",
      "25/25 [==============================] - 0s 11ms/step - loss: 0.5944 - accuracy: 0.7912 - val_loss: 0.3827 - val_accuracy: 0.8838\n",
      "Epoch 18/3400\n",
      "14/25 [===============>..............] - ETA: 0s - loss: 0.5647 - accuracy: 0.7997\n",
      "Epoch 18: saving model to model/keypoint_classifier\\keypoint_classifier.hdf5\n",
      "25/25 [==============================] - 0s 7ms/step - loss: 0.5503 - accuracy: 0.8028 - val_loss: 0.3656 - val_accuracy: 0.8674\n",
      "Epoch 19/3400\n",
      "15/25 [=================>............] - ETA: 0s - loss: 0.5007 - accuracy: 0.8250\n",
      "Epoch 19: saving model to model/keypoint_classifier\\keypoint_classifier.hdf5\n",
      "25/25 [==============================] - 0s 8ms/step - loss: 0.5136 - accuracy: 0.8199 - val_loss: 0.3411 - val_accuracy: 0.9003\n",
      "Epoch 20/3400\n",
      "17/25 [===================>..........] - ETA: 0s - loss: 0.5245 - accuracy: 0.8125\n",
      "Epoch 20: saving model to model/keypoint_classifier\\keypoint_classifier.hdf5\n",
      "25/25 [==============================] - 0s 6ms/step - loss: 0.5160 - accuracy: 0.8141 - val_loss: 0.3267 - val_accuracy: 0.8896\n",
      "Epoch 21/3400\n",
      "18/25 [====================>.........] - ETA: 0s - loss: 0.4905 - accuracy: 0.8194\n",
      "Epoch 21: saving model to model/keypoint_classifier\\keypoint_classifier.hdf5\n",
      "25/25 [==============================] - 0s 7ms/step - loss: 0.4805 - accuracy: 0.8254 - val_loss: 0.3026 - val_accuracy: 0.9109\n",
      "Epoch 22/3400\n",
      "25/25 [==============================] - ETA: 0s - loss: 0.4566 - accuracy: 0.8354\n",
      "Epoch 22: saving model to model/keypoint_classifier\\keypoint_classifier.hdf5\n",
      "25/25 [==============================] - 0s 8ms/step - loss: 0.4566 - accuracy: 0.8354 - val_loss: 0.2866 - val_accuracy: 0.9109\n",
      "Epoch 23/3400\n",
      "16/25 [==================>...........] - ETA: 0s - loss: 0.4426 - accuracy: 0.8418\n",
      "Epoch 23: saving model to model/keypoint_classifier\\keypoint_classifier.hdf5\n",
      "25/25 [==============================] - 0s 7ms/step - loss: 0.4275 - accuracy: 0.8461 - val_loss: 0.2777 - val_accuracy: 0.9187\n",
      "Epoch 24/3400\n",
      "17/25 [===================>..........] - ETA: 0s - loss: 0.4168 - accuracy: 0.8502\n",
      "Epoch 24: saving model to model/keypoint_classifier\\keypoint_classifier.hdf5\n",
      "25/25 [==============================] - 0s 7ms/step - loss: 0.4114 - accuracy: 0.8522 - val_loss: 0.2657 - val_accuracy: 0.9167\n",
      "Epoch 25/3400\n",
      "23/25 [==========================>...] - ETA: 0s - loss: 0.4045 - accuracy: 0.8573\n",
      "Epoch 25: saving model to model/keypoint_classifier\\keypoint_classifier.hdf5\n",
      "25/25 [==============================] - 0s 6ms/step - loss: 0.4033 - accuracy: 0.8567 - val_loss: 0.2657 - val_accuracy: 0.9100\n",
      "Epoch 26/3400\n",
      "14/25 [===============>..............] - ETA: 0s - loss: 0.4070 - accuracy: 0.8544\n",
      "Epoch 26: saving model to model/keypoint_classifier\\keypoint_classifier.hdf5\n",
      "25/25 [==============================] - 0s 7ms/step - loss: 0.3875 - accuracy: 0.8622 - val_loss: 0.2394 - val_accuracy: 0.9303\n",
      "Epoch 27/3400\n",
      "20/25 [=======================>......] - ETA: 0s - loss: 0.3746 - accuracy: 0.8625\n",
      "Epoch 27: saving model to model/keypoint_classifier\\keypoint_classifier.hdf5\n",
      "25/25 [==============================] - 0s 11ms/step - loss: 0.3798 - accuracy: 0.8587 - val_loss: 0.2369 - val_accuracy: 0.9216\n",
      "Epoch 28/3400\n",
      "25/25 [==============================] - ETA: 0s - loss: 0.3667 - accuracy: 0.8742\n",
      "Epoch 28: saving model to model/keypoint_classifier\\keypoint_classifier.hdf5\n",
      "25/25 [==============================] - 0s 13ms/step - loss: 0.3667 - accuracy: 0.8742 - val_loss: 0.2262 - val_accuracy: 0.9342\n",
      "Epoch 29/3400\n",
      "15/25 [=================>............] - ETA: 0s - loss: 0.3612 - accuracy: 0.8740\n",
      "Epoch 29: saving model to model/keypoint_classifier\\keypoint_classifier.hdf5\n"
     ]
    },
    {
     "name": "stdout",
     "output_type": "stream",
     "text": [
      "25/25 [==============================] - 0s 7ms/step - loss: 0.3474 - accuracy: 0.8800 - val_loss: 0.2303 - val_accuracy: 0.9351\n",
      "Epoch 30/3400\n",
      "14/25 [===============>..............] - ETA: 0s - loss: 0.3498 - accuracy: 0.8672\n",
      "Epoch 30: saving model to model/keypoint_classifier\\keypoint_classifier.hdf5\n",
      "25/25 [==============================] - 0s 7ms/step - loss: 0.3415 - accuracy: 0.8745 - val_loss: 0.2131 - val_accuracy: 0.9400\n",
      "Epoch 31/3400\n",
      "14/25 [===============>..............] - ETA: 0s - loss: 0.3460 - accuracy: 0.8739\n",
      "Epoch 31: saving model to model/keypoint_classifier\\keypoint_classifier.hdf5\n",
      "25/25 [==============================] - 0s 8ms/step - loss: 0.3361 - accuracy: 0.8780 - val_loss: 0.2084 - val_accuracy: 0.9322\n",
      "Epoch 32/3400\n",
      "15/25 [=================>............] - ETA: 0s - loss: 0.3455 - accuracy: 0.8714\n",
      "Epoch 32: saving model to model/keypoint_classifier\\keypoint_classifier.hdf5\n",
      "25/25 [==============================] - 0s 8ms/step - loss: 0.3315 - accuracy: 0.8751 - val_loss: 0.2113 - val_accuracy: 0.9322\n",
      "Epoch 33/3400\n",
      "17/25 [===================>..........] - ETA: 0s - loss: 0.3170 - accuracy: 0.8824\n",
      "Epoch 33: saving model to model/keypoint_classifier\\keypoint_classifier.hdf5\n",
      "25/25 [==============================] - 0s 7ms/step - loss: 0.3092 - accuracy: 0.8842 - val_loss: 0.2034 - val_accuracy: 0.9371\n",
      "Epoch 34/3400\n",
      "24/25 [===========================>..] - ETA: 0s - loss: 0.3000 - accuracy: 0.8939\n",
      "Epoch 34: saving model to model/keypoint_classifier\\keypoint_classifier.hdf5\n",
      "25/25 [==============================] - 0s 9ms/step - loss: 0.2987 - accuracy: 0.8948 - val_loss: 0.1912 - val_accuracy: 0.9448\n",
      "Epoch 35/3400\n",
      "15/25 [=================>............] - ETA: 0s - loss: 0.2970 - accuracy: 0.8891\n",
      "Epoch 35: saving model to model/keypoint_classifier\\keypoint_classifier.hdf5\n",
      "25/25 [==============================] - 0s 8ms/step - loss: 0.2995 - accuracy: 0.8887 - val_loss: 0.1938 - val_accuracy: 0.9313\n",
      "Epoch 36/3400\n",
      "25/25 [==============================] - ETA: 0s - loss: 0.2882 - accuracy: 0.8971\n",
      "Epoch 36: saving model to model/keypoint_classifier\\keypoint_classifier.hdf5\n",
      "25/25 [==============================] - 0s 8ms/step - loss: 0.2882 - accuracy: 0.8971 - val_loss: 0.1949 - val_accuracy: 0.9371\n",
      "Epoch 37/3400\n",
      "13/25 [==============>...............] - ETA: 0s - loss: 0.2877 - accuracy: 0.8930\n",
      "Epoch 37: saving model to model/keypoint_classifier\\keypoint_classifier.hdf5\n",
      "25/25 [==============================] - 0s 9ms/step - loss: 0.2799 - accuracy: 0.8987 - val_loss: 0.1837 - val_accuracy: 0.9429\n",
      "Epoch 38/3400\n",
      "13/25 [==============>...............] - ETA: 0s - loss: 0.2810 - accuracy: 0.9038\n",
      "Epoch 38: saving model to model/keypoint_classifier\\keypoint_classifier.hdf5\n",
      "25/25 [==============================] - 0s 8ms/step - loss: 0.2685 - accuracy: 0.9087 - val_loss: 0.2016 - val_accuracy: 0.9303\n",
      "Epoch 39/3400\n",
      "18/25 [====================>.........] - ETA: 0s - loss: 0.2693 - accuracy: 0.8945\n",
      "Epoch 39: saving model to model/keypoint_classifier\\keypoint_classifier.hdf5\n",
      "25/25 [==============================] - 0s 12ms/step - loss: 0.2639 - accuracy: 0.8990 - val_loss: 0.1734 - val_accuracy: 0.9477\n",
      "Epoch 40/3400\n",
      "21/25 [========================>.....] - ETA: 0s - loss: 0.2551 - accuracy: 0.9092\n",
      "Epoch 40: saving model to model/keypoint_classifier\\keypoint_classifier.hdf5\n",
      "25/25 [==============================] - 0s 12ms/step - loss: 0.2541 - accuracy: 0.9103 - val_loss: 0.1755 - val_accuracy: 0.9400\n",
      "Epoch 41/3400\n",
      "13/25 [==============>...............] - ETA: 0s - loss: 0.2347 - accuracy: 0.9129\n",
      "Epoch 41: saving model to model/keypoint_classifier\\keypoint_classifier.hdf5\n",
      "25/25 [==============================] - 0s 8ms/step - loss: 0.2378 - accuracy: 0.9106 - val_loss: 0.1626 - val_accuracy: 0.9487\n",
      "Epoch 42/3400\n",
      "23/25 [==========================>...] - ETA: 0s - loss: 0.2497 - accuracy: 0.9032\n",
      "Epoch 42: saving model to model/keypoint_classifier\\keypoint_classifier.hdf5\n",
      "25/25 [==============================] - 0s 8ms/step - loss: 0.2462 - accuracy: 0.9061 - val_loss: 0.1639 - val_accuracy: 0.9448\n",
      "Epoch 43/3400\n",
      "17/25 [===================>..........] - ETA: 0s - loss: 0.2419 - accuracy: 0.9076\n",
      "Epoch 43: saving model to model/keypoint_classifier\\keypoint_classifier.hdf5\n",
      "25/25 [==============================] - 0s 7ms/step - loss: 0.2431 - accuracy: 0.9080 - val_loss: 0.1663 - val_accuracy: 0.9380\n",
      "Epoch 44/3400\n",
      "17/25 [===================>..........] - ETA: 0s - loss: 0.2468 - accuracy: 0.9099\n",
      "Epoch 44: saving model to model/keypoint_classifier\\keypoint_classifier.hdf5\n",
      "25/25 [==============================] - 0s 7ms/step - loss: 0.2499 - accuracy: 0.9093 - val_loss: 0.1598 - val_accuracy: 0.9448\n",
      "Epoch 45/3400\n",
      "19/25 [=====================>........] - ETA: 0s - loss: 0.2363 - accuracy: 0.9161\n",
      "Epoch 45: saving model to model/keypoint_classifier\\keypoint_classifier.hdf5\n",
      "25/25 [==============================] - 0s 7ms/step - loss: 0.2294 - accuracy: 0.9203 - val_loss: 0.1544 - val_accuracy: 0.9468\n",
      "Epoch 46/3400\n",
      "14/25 [===============>..............] - ETA: 0s - loss: 0.2336 - accuracy: 0.9196\n",
      "Epoch 46: saving model to model/keypoint_classifier\\keypoint_classifier.hdf5\n",
      "25/25 [==============================] - 0s 7ms/step - loss: 0.2235 - accuracy: 0.9200 - val_loss: 0.1565 - val_accuracy: 0.9477\n",
      "Epoch 47/3400\n",
      "14/25 [===============>..............] - ETA: 0s - loss: 0.2263 - accuracy: 0.9191\n",
      "Epoch 47: saving model to model/keypoint_classifier\\keypoint_classifier.hdf5\n",
      "25/25 [==============================] - 0s 8ms/step - loss: 0.2235 - accuracy: 0.9213 - val_loss: 0.1530 - val_accuracy: 0.9409\n",
      "Epoch 48/3400\n",
      "14/25 [===============>..............] - ETA: 0s - loss: 0.2137 - accuracy: 0.9247\n",
      "Epoch 48: saving model to model/keypoint_classifier\\keypoint_classifier.hdf5\n",
      "25/25 [==============================] - 0s 7ms/step - loss: 0.2054 - accuracy: 0.9280 - val_loss: 0.1442 - val_accuracy: 0.9516\n",
      "Epoch 49/3400\n",
      "13/25 [==============>...............] - ETA: 0s - loss: 0.2002 - accuracy: 0.9267\n",
      "Epoch 49: saving model to model/keypoint_classifier\\keypoint_classifier.hdf5\n",
      "25/25 [==============================] - 0s 8ms/step - loss: 0.2003 - accuracy: 0.9271 - val_loss: 0.1413 - val_accuracy: 0.9584\n",
      "Epoch 50/3400\n",
      "14/25 [===============>..............] - ETA: 0s - loss: 0.2036 - accuracy: 0.9325\n",
      "Epoch 50: saving model to model/keypoint_classifier\\keypoint_classifier.hdf5\n",
      "25/25 [==============================] - 0s 7ms/step - loss: 0.2138 - accuracy: 0.9255 - val_loss: 0.1424 - val_accuracy: 0.9564\n",
      "Epoch 51/3400\n",
      "13/25 [==============>...............] - ETA: 0s - loss: 0.2006 - accuracy: 0.9243\n",
      "Epoch 51: saving model to model/keypoint_classifier\\keypoint_classifier.hdf5\n",
      "25/25 [==============================] - 0s 8ms/step - loss: 0.1967 - accuracy: 0.9284 - val_loss: 0.1375 - val_accuracy: 0.9652\n",
      "Epoch 52/3400\n",
      "21/25 [========================>.....] - ETA: 0s - loss: 0.1977 - accuracy: 0.9260\n",
      "Epoch 52: saving model to model/keypoint_classifier\\keypoint_classifier.hdf5\n",
      "25/25 [==============================] - 0s 12ms/step - loss: 0.1971 - accuracy: 0.9255 - val_loss: 0.1313 - val_accuracy: 0.9584\n",
      "Epoch 53/3400\n",
      "14/25 [===============>..............] - ETA: 0s - loss: 0.1977 - accuracy: 0.9252\n",
      "Epoch 53: saving model to model/keypoint_classifier\\keypoint_classifier.hdf5\n",
      "25/25 [==============================] - 0s 8ms/step - loss: 0.2060 - accuracy: 0.9213 - val_loss: 0.1324 - val_accuracy: 0.9584\n",
      "Epoch 54/3400\n",
      "14/25 [===============>..............] - ETA: 0s - loss: 0.1928 - accuracy: 0.9297\n",
      "Epoch 54: saving model to model/keypoint_classifier\\keypoint_classifier.hdf5\n",
      "25/25 [==============================] - 0s 7ms/step - loss: 0.1996 - accuracy: 0.9277 - val_loss: 0.1360 - val_accuracy: 0.9545\n",
      "Epoch 55/3400\n",
      "14/25 [===============>..............] - ETA: 0s - loss: 0.1885 - accuracy: 0.9297\n",
      "Epoch 55: saving model to model/keypoint_classifier\\keypoint_classifier.hdf5\n",
      "25/25 [==============================] - 0s 8ms/step - loss: 0.1804 - accuracy: 0.9313 - val_loss: 0.1460 - val_accuracy: 0.9400\n",
      "Epoch 56/3400\n",
      "16/25 [==================>...........] - ETA: 0s - loss: 0.1952 - accuracy: 0.9272\n",
      "Epoch 56: saving model to model/keypoint_classifier\\keypoint_classifier.hdf5\n",
      "25/25 [==============================] - 0s 7ms/step - loss: 0.1840 - accuracy: 0.9309 - val_loss: 0.1404 - val_accuracy: 0.9535\n"
     ]
    },
    {
     "name": "stdout",
     "output_type": "stream",
     "text": [
      "Epoch 57/3400\n",
      "14/25 [===============>..............] - ETA: 0s - loss: 0.1912 - accuracy: 0.9213\n",
      "Epoch 57: saving model to model/keypoint_classifier\\keypoint_classifier.hdf5\n",
      "25/25 [==============================] - 0s 8ms/step - loss: 0.1964 - accuracy: 0.9219 - val_loss: 0.1295 - val_accuracy: 0.9652\n",
      "Epoch 58/3400\n",
      "14/25 [===============>..............] - ETA: 0s - loss: 0.1749 - accuracy: 0.9347\n",
      "Epoch 58: saving model to model/keypoint_classifier\\keypoint_classifier.hdf5\n",
      "25/25 [==============================] - 0s 8ms/step - loss: 0.1744 - accuracy: 0.9403 - val_loss: 0.1218 - val_accuracy: 0.9642\n",
      "Epoch 59/3400\n",
      "13/25 [==============>...............] - ETA: 0s - loss: 0.1725 - accuracy: 0.9435\n",
      "Epoch 59: saving model to model/keypoint_classifier\\keypoint_classifier.hdf5\n",
      "25/25 [==============================] - 0s 8ms/step - loss: 0.1736 - accuracy: 0.9387 - val_loss: 0.1227 - val_accuracy: 0.9613\n",
      "Epoch 60/3400\n",
      "14/25 [===============>..............] - ETA: 0s - loss: 0.1810 - accuracy: 0.9263\n",
      "Epoch 60: saving model to model/keypoint_classifier\\keypoint_classifier.hdf5\n",
      "25/25 [==============================] - 0s 8ms/step - loss: 0.1771 - accuracy: 0.9313 - val_loss: 0.1215 - val_accuracy: 0.9555\n",
      "Epoch 61/3400\n",
      "14/25 [===============>..............] - ETA: 0s - loss: 0.1755 - accuracy: 0.9314\n",
      "Epoch 61: saving model to model/keypoint_classifier\\keypoint_classifier.hdf5\n",
      "25/25 [==============================] - 0s 8ms/step - loss: 0.1701 - accuracy: 0.9351 - val_loss: 0.1228 - val_accuracy: 0.9690\n",
      "Epoch 62/3400\n",
      "14/25 [===============>..............] - ETA: 0s - loss: 0.1783 - accuracy: 0.9353\n",
      "Epoch 62: saving model to model/keypoint_classifier\\keypoint_classifier.hdf5\n",
      "25/25 [==============================] - 0s 8ms/step - loss: 0.1767 - accuracy: 0.9355 - val_loss: 0.1213 - val_accuracy: 0.9690\n",
      "Epoch 63/3400\n",
      "16/25 [==================>...........] - ETA: 0s - loss: 0.1562 - accuracy: 0.9482\n",
      "Epoch 63: saving model to model/keypoint_classifier\\keypoint_classifier.hdf5\n",
      "25/25 [==============================] - 0s 8ms/step - loss: 0.1598 - accuracy: 0.9448 - val_loss: 0.1161 - val_accuracy: 0.9681\n",
      "Epoch 64/3400\n",
      "20/25 [=======================>......] - ETA: 0s - loss: 0.1472 - accuracy: 0.9484\n",
      "Epoch 64: saving model to model/keypoint_classifier\\keypoint_classifier.hdf5\n",
      "25/25 [==============================] - 0s 6ms/step - loss: 0.1474 - accuracy: 0.9484 - val_loss: 0.1134 - val_accuracy: 0.9719\n",
      "Epoch 65/3400\n",
      "15/25 [=================>............] - ETA: 0s - loss: 0.1700 - accuracy: 0.9333\n",
      "Epoch 65: saving model to model/keypoint_classifier\\keypoint_classifier.hdf5\n",
      "25/25 [==============================] - 0s 7ms/step - loss: 0.1582 - accuracy: 0.9397 - val_loss: 0.1127 - val_accuracy: 0.9593\n",
      "Epoch 66/3400\n",
      "18/25 [====================>.........] - ETA: 0s - loss: 0.1502 - accuracy: 0.9414\n",
      "Epoch 66: saving model to model/keypoint_classifier\\keypoint_classifier.hdf5\n",
      "25/25 [==============================] - 0s 6ms/step - loss: 0.1497 - accuracy: 0.9422 - val_loss: 0.1179 - val_accuracy: 0.9574\n",
      "Epoch 67/3400\n",
      "24/25 [===========================>..] - ETA: 0s - loss: 0.1524 - accuracy: 0.9408\n",
      "Epoch 67: saving model to model/keypoint_classifier\\keypoint_classifier.hdf5\n",
      "25/25 [==============================] - 0s 9ms/step - loss: 0.1521 - accuracy: 0.9406 - val_loss: 0.1070 - val_accuracy: 0.9681\n",
      "Epoch 68/3400\n",
      "20/25 [=======================>......] - ETA: 0s - loss: 0.1364 - accuracy: 0.9535\n",
      "Epoch 68: saving model to model/keypoint_classifier\\keypoint_classifier.hdf5\n",
      "25/25 [==============================] - 0s 7ms/step - loss: 0.1382 - accuracy: 0.9532 - val_loss: 0.1130 - val_accuracy: 0.9603\n",
      "Epoch 69/3400\n",
      "19/25 [=====================>........] - ETA: 0s - loss: 0.1636 - accuracy: 0.9350\n",
      "Epoch 69: saving model to model/keypoint_classifier\\keypoint_classifier.hdf5\n",
      "25/25 [==============================] - 0s 7ms/step - loss: 0.1576 - accuracy: 0.9390 - val_loss: 0.1189 - val_accuracy: 0.9584\n",
      "Epoch 70/3400\n",
      "21/25 [========================>.....] - ETA: 0s - loss: 0.1440 - accuracy: 0.9487\n",
      "Epoch 70: saving model to model/keypoint_classifier\\keypoint_classifier.hdf5\n",
      "25/25 [==============================] - 0s 6ms/step - loss: 0.1431 - accuracy: 0.9513 - val_loss: 0.1096 - val_accuracy: 0.9758\n",
      "Epoch 71/3400\n",
      "19/25 [=====================>........] - ETA: 0s - loss: 0.1380 - accuracy: 0.9511\n",
      "Epoch 71: saving model to model/keypoint_classifier\\keypoint_classifier.hdf5\n",
      "25/25 [==============================] - 0s 6ms/step - loss: 0.1329 - accuracy: 0.9519 - val_loss: 0.1031 - val_accuracy: 0.9777\n",
      "Epoch 72/3400\n",
      "23/25 [==========================>...] - ETA: 0s - loss: 0.1284 - accuracy: 0.9586\n",
      "Epoch 72: saving model to model/keypoint_classifier\\keypoint_classifier.hdf5\n",
      "25/25 [==============================] - 0s 6ms/step - loss: 0.1269 - accuracy: 0.9590 - val_loss: 0.1074 - val_accuracy: 0.9613\n",
      "Epoch 73/3400\n",
      "19/25 [=====================>........] - ETA: 0s - loss: 0.1383 - accuracy: 0.9511\n",
      "Epoch 73: saving model to model/keypoint_classifier\\keypoint_classifier.hdf5\n",
      "25/25 [==============================] - 0s 6ms/step - loss: 0.1401 - accuracy: 0.9477 - val_loss: 0.0990 - val_accuracy: 0.9719\n",
      "Epoch 74/3400\n",
      "22/25 [=========================>....] - ETA: 0s - loss: 0.1410 - accuracy: 0.9535\n",
      "Epoch 74: saving model to model/keypoint_classifier\\keypoint_classifier.hdf5\n",
      "25/25 [==============================] - 0s 6ms/step - loss: 0.1420 - accuracy: 0.9516 - val_loss: 0.0978 - val_accuracy: 0.9690\n",
      "Epoch 75/3400\n",
      "20/25 [=======================>......] - ETA: 0s - loss: 0.1298 - accuracy: 0.9559\n",
      "Epoch 75: saving model to model/keypoint_classifier\\keypoint_classifier.hdf5\n",
      "25/25 [==============================] - 0s 6ms/step - loss: 0.1312 - accuracy: 0.9532 - val_loss: 0.1063 - val_accuracy: 0.9613\n",
      "Epoch 76/3400\n",
      "15/25 [=================>............] - ETA: 0s - loss: 0.1465 - accuracy: 0.9453\n",
      "Epoch 76: saving model to model/keypoint_classifier\\keypoint_classifier.hdf5\n",
      "25/25 [==============================] - 0s 7ms/step - loss: 0.1397 - accuracy: 0.9510 - val_loss: 0.0989 - val_accuracy: 0.9700\n",
      "Epoch 77/3400\n",
      "18/25 [====================>.........] - ETA: 0s - loss: 0.1333 - accuracy: 0.9579\n",
      "Epoch 77: saving model to model/keypoint_classifier\\keypoint_classifier.hdf5\n",
      "25/25 [==============================] - 0s 7ms/step - loss: 0.1302 - accuracy: 0.9584 - val_loss: 0.0958 - val_accuracy: 0.9748\n",
      "Epoch 78/3400\n",
      "19/25 [=====================>........] - ETA: 0s - loss: 0.1277 - accuracy: 0.9539\n",
      "Epoch 78: saving model to model/keypoint_classifier\\keypoint_classifier.hdf5\n",
      "25/25 [==============================] - 0s 7ms/step - loss: 0.1275 - accuracy: 0.9545 - val_loss: 0.0959 - val_accuracy: 0.9777\n",
      "Epoch 79/3400\n",
      "17/25 [===================>..........] - ETA: 0s - loss: 0.1341 - accuracy: 0.9563\n",
      "Epoch 79: saving model to model/keypoint_classifier\\keypoint_classifier.hdf5\n",
      "25/25 [==============================] - 0s 6ms/step - loss: 0.1309 - accuracy: 0.9561 - val_loss: 0.0930 - val_accuracy: 0.9710\n",
      "Epoch 80/3400\n",
      "21/25 [========================>.....] - ETA: 0s - loss: 0.1261 - accuracy: 0.9576\n",
      "Epoch 80: saving model to model/keypoint_classifier\\keypoint_classifier.hdf5\n",
      "25/25 [==============================] - 0s 6ms/step - loss: 0.1277 - accuracy: 0.9568 - val_loss: 0.0952 - val_accuracy: 0.9739\n",
      "Epoch 81/3400\n",
      "16/25 [==================>...........] - ETA: 0s - loss: 0.1194 - accuracy: 0.9609\n",
      "Epoch 81: saving model to model/keypoint_classifier\\keypoint_classifier.hdf5\n",
      "25/25 [==============================] - 0s 8ms/step - loss: 0.1206 - accuracy: 0.9593 - val_loss: 0.0966 - val_accuracy: 0.9700\n",
      "Epoch 82/3400\n",
      "22/25 [=========================>....] - ETA: 0s - loss: 0.1176 - accuracy: 0.9570\n",
      "Epoch 82: saving model to model/keypoint_classifier\\keypoint_classifier.hdf5\n",
      "25/25 [==============================] - 0s 8ms/step - loss: 0.1192 - accuracy: 0.9558 - val_loss: 0.0892 - val_accuracy: 0.9806\n",
      "Epoch 83/3400\n",
      "18/25 [====================>.........] - ETA: 0s - loss: 0.1237 - accuracy: 0.9622\n",
      "Epoch 83: saving model to model/keypoint_classifier\\keypoint_classifier.hdf5\n",
      "25/25 [==============================] - 0s 6ms/step - loss: 0.1261 - accuracy: 0.9606 - val_loss: 0.0880 - val_accuracy: 0.9710\n",
      "Epoch 84/3400\n"
     ]
    },
    {
     "name": "stdout",
     "output_type": "stream",
     "text": [
      "22/25 [=========================>....] - ETA: 0s - loss: 0.1134 - accuracy: 0.9652\n",
      "Epoch 84: saving model to model/keypoint_classifier\\keypoint_classifier.hdf5\n",
      "25/25 [==============================] - 0s 5ms/step - loss: 0.1158 - accuracy: 0.9639 - val_loss: 0.0966 - val_accuracy: 0.9758\n",
      "Epoch 85/3400\n",
      "23/25 [==========================>...] - ETA: 0s - loss: 0.1117 - accuracy: 0.9609\n",
      "Epoch 85: saving model to model/keypoint_classifier\\keypoint_classifier.hdf5\n",
      "25/25 [==============================] - 0s 5ms/step - loss: 0.1106 - accuracy: 0.9613 - val_loss: 0.0915 - val_accuracy: 0.9864\n",
      "Epoch 86/3400\n",
      "22/25 [=========================>....] - ETA: 0s - loss: 0.1058 - accuracy: 0.9613\n",
      "Epoch 86: saving model to model/keypoint_classifier\\keypoint_classifier.hdf5\n",
      "25/25 [==============================] - 0s 6ms/step - loss: 0.1029 - accuracy: 0.9632 - val_loss: 0.0832 - val_accuracy: 0.9874\n",
      "Epoch 87/3400\n",
      "22/25 [=========================>....] - ETA: 0s - loss: 0.1044 - accuracy: 0.9659\n",
      "Epoch 87: saving model to model/keypoint_classifier\\keypoint_classifier.hdf5\n",
      "25/25 [==============================] - 0s 6ms/step - loss: 0.1067 - accuracy: 0.9655 - val_loss: 0.0903 - val_accuracy: 0.9758\n",
      "Epoch 88/3400\n",
      "22/25 [=========================>....] - ETA: 0s - loss: 0.1054 - accuracy: 0.9648\n",
      "Epoch 88: saving model to model/keypoint_classifier\\keypoint_classifier.hdf5\n",
      "25/25 [==============================] - 0s 7ms/step - loss: 0.1073 - accuracy: 0.9642 - val_loss: 0.0857 - val_accuracy: 0.9787\n",
      "Epoch 89/3400\n",
      "19/25 [=====================>........] - ETA: 0s - loss: 0.1030 - accuracy: 0.9630\n",
      "Epoch 89: saving model to model/keypoint_classifier\\keypoint_classifier.hdf5\n",
      "25/25 [==============================] - 0s 6ms/step - loss: 0.1028 - accuracy: 0.9613 - val_loss: 0.0827 - val_accuracy: 0.9806\n",
      "Epoch 90/3400\n",
      "22/25 [=========================>....] - ETA: 0s - loss: 0.1029 - accuracy: 0.9677\n",
      "Epoch 90: saving model to model/keypoint_classifier\\keypoint_classifier.hdf5\n",
      "25/25 [==============================] - 0s 6ms/step - loss: 0.1046 - accuracy: 0.9661 - val_loss: 0.0815 - val_accuracy: 0.9884\n",
      "Epoch 91/3400\n",
      "15/25 [=================>............] - ETA: 0s - loss: 0.0979 - accuracy: 0.9740\n",
      "Epoch 91: saving model to model/keypoint_classifier\\keypoint_classifier.hdf5\n",
      "25/25 [==============================] - 0s 7ms/step - loss: 0.0996 - accuracy: 0.9700 - val_loss: 0.0821 - val_accuracy: 0.9855\n",
      "Epoch 92/3400\n",
      "17/25 [===================>..........] - ETA: 0s - loss: 0.0913 - accuracy: 0.9720\n",
      "Epoch 92: saving model to model/keypoint_classifier\\keypoint_classifier.hdf5\n",
      "25/25 [==============================] - 0s 6ms/step - loss: 0.0960 - accuracy: 0.9693 - val_loss: 0.0725 - val_accuracy: 0.9884\n",
      "Epoch 93/3400\n",
      "21/25 [========================>.....] - ETA: 0s - loss: 0.1174 - accuracy: 0.9632\n",
      "Epoch 93: saving model to model/keypoint_classifier\\keypoint_classifier.hdf5\n",
      "25/25 [==============================] - 0s 7ms/step - loss: 0.1163 - accuracy: 0.9642 - val_loss: 0.0817 - val_accuracy: 0.9758\n",
      "Epoch 94/3400\n",
      "19/25 [=====================>........] - ETA: 0s - loss: 0.1042 - accuracy: 0.9667\n",
      "Epoch 94: saving model to model/keypoint_classifier\\keypoint_classifier.hdf5\n",
      "25/25 [==============================] - 0s 7ms/step - loss: 0.1021 - accuracy: 0.9655 - val_loss: 0.0811 - val_accuracy: 0.9768\n",
      "Epoch 95/3400\n",
      "15/25 [=================>............] - ETA: 0s - loss: 0.0982 - accuracy: 0.9688\n",
      "Epoch 95: saving model to model/keypoint_classifier\\keypoint_classifier.hdf5\n",
      "25/25 [==============================] - 0s 6ms/step - loss: 0.0894 - accuracy: 0.9703 - val_loss: 0.0762 - val_accuracy: 0.9835\n",
      "Epoch 96/3400\n",
      "20/25 [=======================>......] - ETA: 0s - loss: 0.0841 - accuracy: 0.9707\n",
      "Epoch 96: saving model to model/keypoint_classifier\\keypoint_classifier.hdf5\n",
      "25/25 [==============================] - 0s 6ms/step - loss: 0.0817 - accuracy: 0.9706 - val_loss: 0.0747 - val_accuracy: 0.9806\n",
      "Epoch 97/3400\n",
      "14/25 [===============>..............] - ETA: 0s - loss: 0.0877 - accuracy: 0.9682\n",
      "Epoch 97: saving model to model/keypoint_classifier\\keypoint_classifier.hdf5\n",
      "25/25 [==============================] - 0s 8ms/step - loss: 0.0887 - accuracy: 0.9703 - val_loss: 0.0681 - val_accuracy: 0.9884\n",
      "Epoch 98/3400\n",
      "15/25 [=================>............] - ETA: 0s - loss: 0.1016 - accuracy: 0.9641\n",
      "Epoch 98: saving model to model/keypoint_classifier\\keypoint_classifier.hdf5\n",
      "25/25 [==============================] - 0s 8ms/step - loss: 0.0904 - accuracy: 0.9700 - val_loss: 0.0703 - val_accuracy: 0.9894\n",
      "Epoch 99/3400\n",
      "16/25 [==================>...........] - ETA: 0s - loss: 0.0923 - accuracy: 0.9707\n",
      "Epoch 99: saving model to model/keypoint_classifier\\keypoint_classifier.hdf5\n",
      "25/25 [==============================] - 0s 7ms/step - loss: 0.0897 - accuracy: 0.9697 - val_loss: 0.0863 - val_accuracy: 0.9710\n",
      "Epoch 100/3400\n",
      "16/25 [==================>...........] - ETA: 0s - loss: 0.0970 - accuracy: 0.9658\n",
      "Epoch 100: saving model to model/keypoint_classifier\\keypoint_classifier.hdf5\n",
      "25/25 [==============================] - 0s 8ms/step - loss: 0.0907 - accuracy: 0.9687 - val_loss: 0.0753 - val_accuracy: 0.9835\n",
      "Epoch 101/3400\n",
      "22/25 [=========================>....] - ETA: 0s - loss: 0.0994 - accuracy: 0.9648\n",
      "Epoch 101: saving model to model/keypoint_classifier\\keypoint_classifier.hdf5\n",
      "25/25 [==============================] - 0s 11ms/step - loss: 0.0990 - accuracy: 0.9648 - val_loss: 0.0709 - val_accuracy: 0.9913\n",
      "Epoch 102/3400\n",
      "19/25 [=====================>........] - ETA: 0s - loss: 0.0950 - accuracy: 0.9716\n",
      "Epoch 102: saving model to model/keypoint_classifier\\keypoint_classifier.hdf5\n",
      "25/25 [==============================] - 0s 9ms/step - loss: 0.0945 - accuracy: 0.9710 - val_loss: 0.0707 - val_accuracy: 0.9874\n",
      "Epoch 103/3400\n",
      "22/25 [=========================>....] - ETA: 0s - loss: 0.0817 - accuracy: 0.9734\n",
      "Epoch 103: saving model to model/keypoint_classifier\\keypoint_classifier.hdf5\n",
      "25/25 [==============================] - 0s 5ms/step - loss: 0.0809 - accuracy: 0.9745 - val_loss: 0.0688 - val_accuracy: 0.9884\n",
      "Epoch 104/3400\n",
      "23/25 [==========================>...] - ETA: 0s - loss: 0.0749 - accuracy: 0.9738\n",
      "Epoch 104: saving model to model/keypoint_classifier\\keypoint_classifier.hdf5\n",
      "25/25 [==============================] - 0s 6ms/step - loss: 0.0734 - accuracy: 0.9745 - val_loss: 0.0663 - val_accuracy: 0.9894\n",
      "Epoch 105/3400\n",
      "20/25 [=======================>......] - ETA: 0s - loss: 0.0788 - accuracy: 0.9762\n",
      "Epoch 105: saving model to model/keypoint_classifier\\keypoint_classifier.hdf5\n",
      "25/25 [==============================] - 0s 5ms/step - loss: 0.0811 - accuracy: 0.9761 - val_loss: 0.0768 - val_accuracy: 0.9777\n",
      "Epoch 106/3400\n",
      "20/25 [=======================>......] - ETA: 0s - loss: 0.0823 - accuracy: 0.9727\n",
      "Epoch 106: saving model to model/keypoint_classifier\\keypoint_classifier.hdf5\n",
      "25/25 [==============================] - 0s 5ms/step - loss: 0.0864 - accuracy: 0.9722 - val_loss: 0.0683 - val_accuracy: 0.9894\n",
      "Epoch 107/3400\n",
      "20/25 [=======================>......] - ETA: 0s - loss: 0.0841 - accuracy: 0.9723\n",
      "Epoch 107: saving model to model/keypoint_classifier\\keypoint_classifier.hdf5\n",
      "25/25 [==============================] - 0s 6ms/step - loss: 0.0828 - accuracy: 0.9726 - val_loss: 0.0646 - val_accuracy: 0.9903\n",
      "Epoch 108/3400\n",
      "21/25 [========================>.....] - ETA: 0s - loss: 0.0757 - accuracy: 0.9781\n",
      "Epoch 108: saving model to model/keypoint_classifier\\keypoint_classifier.hdf5\n",
      "25/25 [==============================] - 0s 5ms/step - loss: 0.0753 - accuracy: 0.9787 - val_loss: 0.0621 - val_accuracy: 0.9903\n",
      "Epoch 109/3400\n",
      "24/25 [===========================>..] - ETA: 0s - loss: 0.0859 - accuracy: 0.9704\n",
      "Epoch 109: saving model to model/keypoint_classifier\\keypoint_classifier.hdf5\n",
      "25/25 [==============================] - 0s 5ms/step - loss: 0.0856 - accuracy: 0.9706 - val_loss: 0.0615 - val_accuracy: 0.9923\n",
      "Epoch 110/3400\n",
      "22/25 [=========================>....] - ETA: 0s - loss: 0.0845 - accuracy: 0.9712\n",
      "Epoch 110: saving model to model/keypoint_classifier\\keypoint_classifier.hdf5\n",
      "25/25 [==============================] - 0s 6ms/step - loss: 0.0831 - accuracy: 0.9719 - val_loss: 0.0660 - val_accuracy: 0.9855\n",
      "Epoch 111/3400\n"
     ]
    },
    {
     "name": "stdout",
     "output_type": "stream",
     "text": [
      "21/25 [========================>.....] - ETA: 0s - loss: 0.0719 - accuracy: 0.9769\n",
      "Epoch 111: saving model to model/keypoint_classifier\\keypoint_classifier.hdf5\n",
      "25/25 [==============================] - 0s 5ms/step - loss: 0.0708 - accuracy: 0.9774 - val_loss: 0.0631 - val_accuracy: 0.9894\n",
      "Epoch 112/3400\n",
      "21/25 [========================>.....] - ETA: 0s - loss: 0.0700 - accuracy: 0.9807\n",
      "Epoch 112: saving model to model/keypoint_classifier\\keypoint_classifier.hdf5\n",
      "25/25 [==============================] - 0s 5ms/step - loss: 0.0717 - accuracy: 0.9793 - val_loss: 0.0576 - val_accuracy: 0.9894\n",
      "Epoch 113/3400\n",
      "16/25 [==================>...........] - ETA: 0s - loss: 0.0672 - accuracy: 0.9756\n",
      "Epoch 113: saving model to model/keypoint_classifier\\keypoint_classifier.hdf5\n",
      "25/25 [==============================] - 0s 5ms/step - loss: 0.0659 - accuracy: 0.9771 - val_loss: 0.0603 - val_accuracy: 0.9913\n",
      "Epoch 114/3400\n",
      "19/25 [=====================>........] - ETA: 0s - loss: 0.0736 - accuracy: 0.9778\n",
      "Epoch 114: saving model to model/keypoint_classifier\\keypoint_classifier.hdf5\n",
      "25/25 [==============================] - 0s 6ms/step - loss: 0.0703 - accuracy: 0.9787 - val_loss: 0.0514 - val_accuracy: 0.9903\n",
      "Epoch 115/3400\n",
      "25/25 [==============================] - ETA: 0s - loss: 0.0666 - accuracy: 0.9797\n",
      "Epoch 115: saving model to model/keypoint_classifier\\keypoint_classifier.hdf5\n",
      "25/25 [==============================] - 0s 5ms/step - loss: 0.0666 - accuracy: 0.9797 - val_loss: 0.0569 - val_accuracy: 0.9903\n",
      "Epoch 116/3400\n",
      "17/25 [===================>..........] - ETA: 0s - loss: 0.0776 - accuracy: 0.9729\n",
      "Epoch 116: saving model to model/keypoint_classifier\\keypoint_classifier.hdf5\n",
      "25/25 [==============================] - 0s 6ms/step - loss: 0.0780 - accuracy: 0.9735 - val_loss: 0.0621 - val_accuracy: 0.9777\n",
      "Epoch 117/3400\n",
      "19/25 [=====================>........] - ETA: 0s - loss: 0.0790 - accuracy: 0.9770\n",
      "Epoch 117: saving model to model/keypoint_classifier\\keypoint_classifier.hdf5\n",
      "25/25 [==============================] - 0s 6ms/step - loss: 0.0752 - accuracy: 0.9787 - val_loss: 0.0522 - val_accuracy: 0.9874\n",
      "Epoch 118/3400\n",
      "16/25 [==================>...........] - ETA: 0s - loss: 0.0619 - accuracy: 0.9800\n",
      "Epoch 118: saving model to model/keypoint_classifier\\keypoint_classifier.hdf5\n",
      "25/25 [==============================] - 0s 7ms/step - loss: 0.0651 - accuracy: 0.9787 - val_loss: 0.0651 - val_accuracy: 0.9797\n",
      "Epoch 119/3400\n",
      "24/25 [===========================>..] - ETA: 0s - loss: 0.0818 - accuracy: 0.9714\n",
      "Epoch 119: saving model to model/keypoint_classifier\\keypoint_classifier.hdf5\n",
      "25/25 [==============================] - 0s 8ms/step - loss: 0.0835 - accuracy: 0.9706 - val_loss: 0.0719 - val_accuracy: 0.9787\n",
      "Epoch 120/3400\n",
      "16/25 [==================>...........] - ETA: 0s - loss: 0.0956 - accuracy: 0.9634\n",
      "Epoch 120: saving model to model/keypoint_classifier\\keypoint_classifier.hdf5\n",
      "25/25 [==============================] - 0s 9ms/step - loss: 0.0871 - accuracy: 0.9700 - val_loss: 0.0616 - val_accuracy: 0.9884\n",
      "Epoch 121/3400\n",
      "14/25 [===============>..............] - ETA: 0s - loss: 0.0723 - accuracy: 0.9766\n",
      "Epoch 121: saving model to model/keypoint_classifier\\keypoint_classifier.hdf5\n",
      "25/25 [==============================] - 0s 8ms/step - loss: 0.0725 - accuracy: 0.9774 - val_loss: 0.0566 - val_accuracy: 0.9903\n",
      "Epoch 122/3400\n",
      "21/25 [========================>.....] - ETA: 0s - loss: 0.0625 - accuracy: 0.9814\n",
      "Epoch 122: saving model to model/keypoint_classifier\\keypoint_classifier.hdf5\n",
      "25/25 [==============================] - 0s 10ms/step - loss: 0.0648 - accuracy: 0.9803 - val_loss: 0.0538 - val_accuracy: 0.9894\n",
      "Epoch 123/3400\n",
      "23/25 [==========================>...] - ETA: 0s - loss: 0.0592 - accuracy: 0.9803\n",
      "Epoch 123: saving model to model/keypoint_classifier\\keypoint_classifier.hdf5\n",
      "25/25 [==============================] - 0s 9ms/step - loss: 0.0587 - accuracy: 0.9806 - val_loss: 0.0502 - val_accuracy: 0.9894\n",
      "Epoch 124/3400\n",
      "19/25 [=====================>........] - ETA: 0s - loss: 0.0602 - accuracy: 0.9815\n",
      "Epoch 124: saving model to model/keypoint_classifier\\keypoint_classifier.hdf5\n",
      "25/25 [==============================] - 0s 13ms/step - loss: 0.0584 - accuracy: 0.9829 - val_loss: 0.0537 - val_accuracy: 0.9932\n",
      "Epoch 125/3400\n",
      "21/25 [========================>.....] - ETA: 0s - loss: 0.0522 - accuracy: 0.9855\n",
      "Epoch 125: saving model to model/keypoint_classifier\\keypoint_classifier.hdf5\n",
      "25/25 [==============================] - 0s 11ms/step - loss: 0.0524 - accuracy: 0.9848 - val_loss: 0.0510 - val_accuracy: 0.9923\n",
      "Epoch 126/3400\n",
      "14/25 [===============>..............] - ETA: 0s - loss: 0.0530 - accuracy: 0.9821\n",
      "Epoch 126: saving model to model/keypoint_classifier\\keypoint_classifier.hdf5\n",
      "25/25 [==============================] - 0s 8ms/step - loss: 0.0550 - accuracy: 0.9829 - val_loss: 0.0509 - val_accuracy: 0.9903\n",
      "Epoch 127/3400\n",
      "18/25 [====================>.........] - ETA: 0s - loss: 0.0489 - accuracy: 0.9861\n",
      "Epoch 127: saving model to model/keypoint_classifier\\keypoint_classifier.hdf5\n",
      "25/25 [==============================] - 0s 7ms/step - loss: 0.0501 - accuracy: 0.9858 - val_loss: 0.0493 - val_accuracy: 0.9923\n",
      "Epoch 128/3400\n",
      "16/25 [==================>...........] - ETA: 0s - loss: 0.0468 - accuracy: 0.9854\n",
      "Epoch 128: saving model to model/keypoint_classifier\\keypoint_classifier.hdf5\n",
      "25/25 [==============================] - 0s 7ms/step - loss: 0.0465 - accuracy: 0.9845 - val_loss: 0.0472 - val_accuracy: 0.9903\n",
      "Epoch 129/3400\n",
      "14/25 [===============>..............] - ETA: 0s - loss: 0.0544 - accuracy: 0.9833\n",
      "Epoch 129: saving model to model/keypoint_classifier\\keypoint_classifier.hdf5\n",
      "25/25 [==============================] - 0s 9ms/step - loss: 0.0546 - accuracy: 0.9852 - val_loss: 0.0544 - val_accuracy: 0.9913\n",
      "Epoch 130/3400\n",
      "20/25 [=======================>......] - ETA: 0s - loss: 0.0583 - accuracy: 0.9824\n",
      "Epoch 130: saving model to model/keypoint_classifier\\keypoint_classifier.hdf5\n",
      "25/25 [==============================] - 0s 11ms/step - loss: 0.0572 - accuracy: 0.9835 - val_loss: 0.0481 - val_accuracy: 0.9913\n",
      "Epoch 131/3400\n",
      "14/25 [===============>..............] - ETA: 0s - loss: 0.0675 - accuracy: 0.9749\n",
      "Epoch 131: saving model to model/keypoint_classifier\\keypoint_classifier.hdf5\n",
      "25/25 [==============================] - 0s 8ms/step - loss: 0.0668 - accuracy: 0.9752 - val_loss: 0.0578 - val_accuracy: 0.9874\n",
      "Epoch 132/3400\n",
      "22/25 [=========================>....] - ETA: 0s - loss: 0.0547 - accuracy: 0.9840\n",
      "Epoch 132: saving model to model/keypoint_classifier\\keypoint_classifier.hdf5\n",
      "25/25 [==============================] - 0s 8ms/step - loss: 0.0547 - accuracy: 0.9832 - val_loss: 0.0590 - val_accuracy: 0.9845\n",
      "Epoch 133/3400\n",
      "25/25 [==============================] - ETA: 0s - loss: 0.0610 - accuracy: 0.9793\n",
      "Epoch 133: saving model to model/keypoint_classifier\\keypoint_classifier.hdf5\n",
      "25/25 [==============================] - 0s 8ms/step - loss: 0.0610 - accuracy: 0.9793 - val_loss: 0.0491 - val_accuracy: 0.9932\n",
      "Epoch 134/3400\n",
      "18/25 [====================>.........] - ETA: 0s - loss: 0.0522 - accuracy: 0.9865\n",
      "Epoch 134: saving model to model/keypoint_classifier\\keypoint_classifier.hdf5\n",
      "25/25 [==============================] - 0s 7ms/step - loss: 0.0517 - accuracy: 0.9861 - val_loss: 0.0488 - val_accuracy: 0.9913\n",
      "Epoch 135/3400\n",
      "16/25 [==================>...........] - ETA: 0s - loss: 0.0608 - accuracy: 0.9790\n",
      "Epoch 135: saving model to model/keypoint_classifier\\keypoint_classifier.hdf5\n",
      "25/25 [==============================] - 0s 9ms/step - loss: 0.0562 - accuracy: 0.9813 - val_loss: 0.0521 - val_accuracy: 0.9913\n",
      "Epoch 136/3400\n",
      "23/25 [==========================>...] - ETA: 0s - loss: 0.0459 - accuracy: 0.9861\n",
      "Epoch 136: saving model to model/keypoint_classifier\\keypoint_classifier.hdf5\n",
      "25/25 [==============================] - 0s 8ms/step - loss: 0.0466 - accuracy: 0.9858 - val_loss: 0.0536 - val_accuracy: 0.9894\n",
      "Epoch 137/3400\n",
      "13/25 [==============>...............] - ETA: 0s - loss: 0.0490 - accuracy: 0.9868\n",
      "Epoch 137: saving model to model/keypoint_classifier\\keypoint_classifier.hdf5\n",
      "25/25 [==============================] - 0s 8ms/step - loss: 0.0483 - accuracy: 0.9871 - val_loss: 0.0521 - val_accuracy: 0.9903\n"
     ]
    },
    {
     "name": "stdout",
     "output_type": "stream",
     "text": [
      "Epoch 138/3400\n",
      "14/25 [===============>..............] - ETA: 0s - loss: 0.0425 - accuracy: 0.9888\n",
      "Epoch 138: saving model to model/keypoint_classifier\\keypoint_classifier.hdf5\n",
      "25/25 [==============================] - 0s 8ms/step - loss: 0.0492 - accuracy: 0.9848 - val_loss: 0.0496 - val_accuracy: 0.9913\n",
      "Epoch 139/3400\n",
      "13/25 [==============>...............] - ETA: 0s - loss: 0.0586 - accuracy: 0.9808\n",
      "Epoch 139: saving model to model/keypoint_classifier\\keypoint_classifier.hdf5\n",
      "25/25 [==============================] - 0s 7ms/step - loss: 0.0503 - accuracy: 0.9852 - val_loss: 0.0491 - val_accuracy: 0.9894\n",
      "Epoch 140/3400\n",
      "16/25 [==================>...........] - ETA: 0s - loss: 0.0464 - accuracy: 0.9854\n",
      "Epoch 140: saving model to model/keypoint_classifier\\keypoint_classifier.hdf5\n",
      "25/25 [==============================] - 0s 8ms/step - loss: 0.0461 - accuracy: 0.9858 - val_loss: 0.0570 - val_accuracy: 0.9913\n",
      "Epoch 141/3400\n",
      "14/25 [===============>..............] - ETA: 0s - loss: 0.0483 - accuracy: 0.9849\n",
      "Epoch 141: saving model to model/keypoint_classifier\\keypoint_classifier.hdf5\n",
      "25/25 [==============================] - 0s 8ms/step - loss: 0.0457 - accuracy: 0.9855 - val_loss: 0.0537 - val_accuracy: 0.9884\n",
      "Epoch 142/3400\n",
      "16/25 [==================>...........] - ETA: 0s - loss: 0.0478 - accuracy: 0.9854\n",
      "Epoch 142: saving model to model/keypoint_classifier\\keypoint_classifier.hdf5\n",
      "25/25 [==============================] - 0s 8ms/step - loss: 0.0476 - accuracy: 0.9845 - val_loss: 0.0533 - val_accuracy: 0.9913\n",
      "Epoch 143/3400\n",
      "14/25 [===============>..............] - ETA: 0s - loss: 0.0551 - accuracy: 0.9833\n",
      "Epoch 143: saving model to model/keypoint_classifier\\keypoint_classifier.hdf5\n",
      "25/25 [==============================] - 0s 7ms/step - loss: 0.0541 - accuracy: 0.9839 - val_loss: 0.0442 - val_accuracy: 0.9932\n",
      "Epoch 144/3400\n",
      "17/25 [===================>..........] - ETA: 0s - loss: 0.0478 - accuracy: 0.9839\n",
      "Epoch 144: saving model to model/keypoint_classifier\\keypoint_classifier.hdf5\n",
      "25/25 [==============================] - 0s 7ms/step - loss: 0.0489 - accuracy: 0.9835 - val_loss: 0.0525 - val_accuracy: 0.9903\n",
      "Epoch 145/3400\n",
      "15/25 [=================>............] - ETA: 0s - loss: 0.0491 - accuracy: 0.9854\n",
      "Epoch 145: saving model to model/keypoint_classifier\\keypoint_classifier.hdf5\n",
      "25/25 [==============================] - 0s 8ms/step - loss: 0.0458 - accuracy: 0.9858 - val_loss: 0.0450 - val_accuracy: 0.9913\n",
      "Epoch 146/3400\n",
      "16/25 [==================>...........] - ETA: 0s - loss: 0.0470 - accuracy: 0.9854\n",
      "Epoch 146: saving model to model/keypoint_classifier\\keypoint_classifier.hdf5\n",
      "25/25 [==============================] - 0s 6ms/step - loss: 0.0460 - accuracy: 0.9852 - val_loss: 0.0438 - val_accuracy: 0.9923\n",
      "Epoch 147/3400\n",
      "16/25 [==================>...........] - ETA: 0s - loss: 0.0444 - accuracy: 0.9854\n",
      "Epoch 147: saving model to model/keypoint_classifier\\keypoint_classifier.hdf5\n",
      "25/25 [==============================] - 0s 6ms/step - loss: 0.0476 - accuracy: 0.9855 - val_loss: 0.0496 - val_accuracy: 0.9903\n",
      "Epoch 148/3400\n",
      "17/25 [===================>..........] - ETA: 0s - loss: 0.0442 - accuracy: 0.9858\n",
      "Epoch 148: saving model to model/keypoint_classifier\\keypoint_classifier.hdf5\n",
      "25/25 [==============================] - 0s 6ms/step - loss: 0.0464 - accuracy: 0.9852 - val_loss: 0.0473 - val_accuracy: 0.9894\n",
      "Epoch 149/3400\n",
      "22/25 [=========================>....] - ETA: 0s - loss: 0.0488 - accuracy: 0.9840\n",
      "Epoch 149: saving model to model/keypoint_classifier\\keypoint_classifier.hdf5\n",
      "25/25 [==============================] - 0s 15ms/step - loss: 0.0507 - accuracy: 0.9839 - val_loss: 0.0484 - val_accuracy: 0.9913\n",
      "Epoch 150/3400\n",
      "25/25 [==============================] - ETA: 0s - loss: 0.0457 - accuracy: 0.9877\n",
      "Epoch 150: saving model to model/keypoint_classifier\\keypoint_classifier.hdf5\n",
      "25/25 [==============================] - 0s 18ms/step - loss: 0.0457 - accuracy: 0.9877 - val_loss: 0.0503 - val_accuracy: 0.9932\n",
      "Epoch 151/3400\n",
      "25/25 [==============================] - ETA: 0s - loss: 0.0560 - accuracy: 0.9813\n",
      "Epoch 151: saving model to model/keypoint_classifier\\keypoint_classifier.hdf5\n",
      "25/25 [==============================] - 0s 18ms/step - loss: 0.0560 - accuracy: 0.9813 - val_loss: 0.0510 - val_accuracy: 0.9923\n",
      "Epoch 152/3400\n",
      "21/25 [========================>.....] - ETA: 0s - loss: 0.0504 - accuracy: 0.9833\n",
      "Epoch 152: saving model to model/keypoint_classifier\\keypoint_classifier.hdf5\n",
      "25/25 [==============================] - 0s 18ms/step - loss: 0.0503 - accuracy: 0.9832 - val_loss: 0.0464 - val_accuracy: 0.9903\n",
      "Epoch 153/3400\n",
      "24/25 [===========================>..] - ETA: 0s - loss: 0.0371 - accuracy: 0.9906\n",
      "Epoch 153: saving model to model/keypoint_classifier\\keypoint_classifier.hdf5\n",
      "25/25 [==============================] - 0s 17ms/step - loss: 0.0371 - accuracy: 0.9906 - val_loss: 0.0442 - val_accuracy: 0.9932\n",
      "Epoch 154/3400\n",
      "19/25 [=====================>........] - ETA: 0s - loss: 0.0381 - accuracy: 0.9885\n",
      "Epoch 154: saving model to model/keypoint_classifier\\keypoint_classifier.hdf5\n",
      "25/25 [==============================] - 0s 16ms/step - loss: 0.0381 - accuracy: 0.9881 - val_loss: 0.0433 - val_accuracy: 0.9913\n",
      "Epoch 155/3400\n",
      "25/25 [==============================] - ETA: 0s - loss: 0.0415 - accuracy: 0.9881\n",
      "Epoch 155: saving model to model/keypoint_classifier\\keypoint_classifier.hdf5\n",
      "25/25 [==============================] - 0s 16ms/step - loss: 0.0415 - accuracy: 0.9881 - val_loss: 0.0432 - val_accuracy: 0.9923\n",
      "Epoch 156/3400\n",
      "21/25 [========================>.....] - ETA: 0s - loss: 0.0390 - accuracy: 0.9862\n",
      "Epoch 156: saving model to model/keypoint_classifier\\keypoint_classifier.hdf5\n",
      "25/25 [==============================] - 0s 16ms/step - loss: 0.0392 - accuracy: 0.9868 - val_loss: 0.0490 - val_accuracy: 0.9923\n",
      "Epoch 157/3400\n",
      "19/25 [=====================>........] - ETA: 0s - loss: 0.0441 - accuracy: 0.9864\n",
      "Epoch 157: saving model to model/keypoint_classifier\\keypoint_classifier.hdf5\n",
      "25/25 [==============================] - 0s 16ms/step - loss: 0.0414 - accuracy: 0.9874 - val_loss: 0.0508 - val_accuracy: 0.9884\n",
      "Epoch 158/3400\n",
      "24/25 [===========================>..] - ETA: 0s - loss: 0.0411 - accuracy: 0.9870\n",
      "Epoch 158: saving model to model/keypoint_classifier\\keypoint_classifier.hdf5\n",
      "25/25 [==============================] - 0s 15ms/step - loss: 0.0409 - accuracy: 0.9871 - val_loss: 0.0461 - val_accuracy: 0.9923\n",
      "Epoch 159/3400\n",
      "21/25 [========================>.....] - ETA: 0s - loss: 0.0393 - accuracy: 0.9870\n",
      "Epoch 159: saving model to model/keypoint_classifier\\keypoint_classifier.hdf5\n",
      "25/25 [==============================] - 0s 16ms/step - loss: 0.0393 - accuracy: 0.9874 - val_loss: 0.0475 - val_accuracy: 0.9913\n",
      "Epoch 160/3400\n",
      "19/25 [=====================>........] - ETA: 0s - loss: 0.0330 - accuracy: 0.9905\n",
      "Epoch 160: saving model to model/keypoint_classifier\\keypoint_classifier.hdf5\n",
      "25/25 [==============================] - 0s 16ms/step - loss: 0.0315 - accuracy: 0.9910 - val_loss: 0.0462 - val_accuracy: 0.9932\n",
      "Epoch 161/3400\n",
      "24/25 [===========================>..] - ETA: 0s - loss: 0.0413 - accuracy: 0.9886\n",
      "Epoch 161: saving model to model/keypoint_classifier\\keypoint_classifier.hdf5\n",
      "25/25 [==============================] - 0s 16ms/step - loss: 0.0412 - accuracy: 0.9887 - val_loss: 0.0456 - val_accuracy: 0.9932\n",
      "Epoch 162/3400\n",
      "21/25 [========================>.....] - ETA: 0s - loss: 0.0358 - accuracy: 0.9903\n",
      "Epoch 162: saving model to model/keypoint_classifier\\keypoint_classifier.hdf5\n",
      "25/25 [==============================] - 0s 16ms/step - loss: 0.0359 - accuracy: 0.9900 - val_loss: 0.0451 - val_accuracy: 0.9923\n",
      "Epoch 163/3400\n",
      "19/25 [=====================>........] - ETA: 0s - loss: 0.0351 - accuracy: 0.9893\n",
      "Epoch 163: saving model to model/keypoint_classifier\\keypoint_classifier.hdf5\n",
      "25/25 [==============================] - 0s 16ms/step - loss: 0.0349 - accuracy: 0.9906 - val_loss: 0.0413 - val_accuracy: 0.9932\n",
      "Epoch 164/3400\n",
      "21/25 [========================>.....] - ETA: 0s - loss: 0.0369 - accuracy: 0.9892\n",
      "Epoch 164: saving model to model/keypoint_classifier\\keypoint_classifier.hdf5\n",
      "25/25 [==============================] - 0s 16ms/step - loss: 0.0366 - accuracy: 0.9894 - val_loss: 0.0508 - val_accuracy: 0.9913\n"
     ]
    },
    {
     "name": "stdout",
     "output_type": "stream",
     "text": [
      "Epoch 165/3400\n",
      "20/25 [=======================>......] - ETA: 0s - loss: 0.0303 - accuracy: 0.9883\n",
      "Epoch 165: saving model to model/keypoint_classifier\\keypoint_classifier.hdf5\n",
      "25/25 [==============================] - 0s 16ms/step - loss: 0.0299 - accuracy: 0.9887 - val_loss: 0.0522 - val_accuracy: 0.9903\n",
      "Epoch 166/3400\n",
      "20/25 [=======================>......] - ETA: 0s - loss: 0.0339 - accuracy: 0.9883\n",
      "Epoch 166: saving model to model/keypoint_classifier\\keypoint_classifier.hdf5\n",
      "25/25 [==============================] - 0s 16ms/step - loss: 0.0347 - accuracy: 0.9884 - val_loss: 0.0602 - val_accuracy: 0.9884\n",
      "Epoch 167/3400\n",
      "20/25 [=======================>......] - ETA: 0s - loss: 0.0385 - accuracy: 0.9883\n",
      "Epoch 167: saving model to model/keypoint_classifier\\keypoint_classifier.hdf5\n",
      "25/25 [==============================] - 0s 16ms/step - loss: 0.0388 - accuracy: 0.9884 - val_loss: 0.0475 - val_accuracy: 0.9932\n",
      "Epoch 168/3400\n",
      "20/25 [=======================>......] - ETA: 0s - loss: 0.0282 - accuracy: 0.9918\n",
      "Epoch 168: saving model to model/keypoint_classifier\\keypoint_classifier.hdf5\n",
      "25/25 [==============================] - 0s 16ms/step - loss: 0.0289 - accuracy: 0.9919 - val_loss: 0.0510 - val_accuracy: 0.9894\n",
      "Epoch 169/3400\n",
      "21/25 [========================>.....] - ETA: 0s - loss: 0.0292 - accuracy: 0.9926\n",
      "Epoch 169: saving model to model/keypoint_classifier\\keypoint_classifier.hdf5\n",
      "25/25 [==============================] - 0s 17ms/step - loss: 0.0282 - accuracy: 0.9929 - val_loss: 0.0425 - val_accuracy: 0.9932\n",
      "Epoch 170/3400\n",
      "21/25 [========================>.....] - ETA: 0s - loss: 0.0286 - accuracy: 0.9918\n",
      "Epoch 170: saving model to model/keypoint_classifier\\keypoint_classifier.hdf5\n",
      "25/25 [==============================] - 0s 15ms/step - loss: 0.0284 - accuracy: 0.9916 - val_loss: 0.0426 - val_accuracy: 0.9913\n",
      "Epoch 171/3400\n",
      "20/25 [=======================>......] - ETA: 0s - loss: 0.0381 - accuracy: 0.9879\n",
      "Epoch 171: saving model to model/keypoint_classifier\\keypoint_classifier.hdf5\n",
      "25/25 [==============================] - 0s 16ms/step - loss: 0.0387 - accuracy: 0.9874 - val_loss: 0.0491 - val_accuracy: 0.9923\n",
      "Epoch 172/3400\n",
      "24/25 [===========================>..] - ETA: 0s - loss: 0.0421 - accuracy: 0.9840\n",
      "Epoch 172: saving model to model/keypoint_classifier\\keypoint_classifier.hdf5\n",
      "25/25 [==============================] - 0s 17ms/step - loss: 0.0427 - accuracy: 0.9839 - val_loss: 0.0454 - val_accuracy: 0.9923\n",
      "Epoch 173/3400\n",
      "19/25 [=====================>........] - ETA: 0s - loss: 0.0404 - accuracy: 0.9877\n",
      "Epoch 173: saving model to model/keypoint_classifier\\keypoint_classifier.hdf5\n",
      "25/25 [==============================] - 0s 16ms/step - loss: 0.0372 - accuracy: 0.9894 - val_loss: 0.0485 - val_accuracy: 0.9894\n",
      "Epoch 174/3400\n",
      "21/25 [========================>.....] - ETA: 0s - loss: 0.0336 - accuracy: 0.9881\n",
      "Epoch 174: saving model to model/keypoint_classifier\\keypoint_classifier.hdf5\n",
      "25/25 [==============================] - 0s 16ms/step - loss: 0.0333 - accuracy: 0.9884 - val_loss: 0.0434 - val_accuracy: 0.9894\n",
      "Epoch 175/3400\n",
      "21/25 [========================>.....] - ETA: 0s - loss: 0.0354 - accuracy: 0.9881\n",
      "Epoch 175: saving model to model/keypoint_classifier\\keypoint_classifier.hdf5\n",
      "25/25 [==============================] - 0s 16ms/step - loss: 0.0333 - accuracy: 0.9887 - val_loss: 0.0464 - val_accuracy: 0.9932\n",
      "Epoch 176/3400\n",
      "21/25 [========================>.....] - ETA: 0s - loss: 0.0315 - accuracy: 0.9900\n",
      "Epoch 176: saving model to model/keypoint_classifier\\keypoint_classifier.hdf5\n",
      "25/25 [==============================] - 0s 17ms/step - loss: 0.0313 - accuracy: 0.9900 - val_loss: 0.0460 - val_accuracy: 0.9913\n",
      "Epoch 177/3400\n",
      "21/25 [========================>.....] - ETA: 0s - loss: 0.0296 - accuracy: 0.9926\n",
      "Epoch 177: saving model to model/keypoint_classifier\\keypoint_classifier.hdf5\n",
      "25/25 [==============================] - 0s 17ms/step - loss: 0.0298 - accuracy: 0.9919 - val_loss: 0.0410 - val_accuracy: 0.9932\n",
      "Epoch 178/3400\n",
      "20/25 [=======================>......] - ETA: 0s - loss: 0.0223 - accuracy: 0.9949\n",
      "Epoch 178: saving model to model/keypoint_classifier\\keypoint_classifier.hdf5\n",
      "25/25 [==============================] - 0s 16ms/step - loss: 0.0222 - accuracy: 0.9948 - val_loss: 0.0429 - val_accuracy: 0.9932\n",
      "Epoch 179/3400\n",
      "21/25 [========================>.....] - ETA: 0s - loss: 0.0254 - accuracy: 0.9918\n",
      "Epoch 179: saving model to model/keypoint_classifier\\keypoint_classifier.hdf5\n",
      "25/25 [==============================] - 0s 15ms/step - loss: 0.0272 - accuracy: 0.9913 - val_loss: 0.0473 - val_accuracy: 0.9923\n",
      "Epoch 180/3400\n",
      "21/25 [========================>.....] - ETA: 0s - loss: 0.0326 - accuracy: 0.9888\n",
      "Epoch 180: saving model to model/keypoint_classifier\\keypoint_classifier.hdf5\n",
      "25/25 [==============================] - 0s 17ms/step - loss: 0.0322 - accuracy: 0.9884 - val_loss: 0.0444 - val_accuracy: 0.9913\n",
      "Epoch 181/3400\n",
      "21/25 [========================>.....] - ETA: 0s - loss: 0.0246 - accuracy: 0.9933\n",
      "Epoch 181: saving model to model/keypoint_classifier\\keypoint_classifier.hdf5\n",
      "25/25 [==============================] - 0s 16ms/step - loss: 0.0282 - accuracy: 0.9919 - val_loss: 0.0401 - val_accuracy: 0.9932\n",
      "Epoch 182/3400\n",
      "20/25 [=======================>......] - ETA: 0s - loss: 0.0284 - accuracy: 0.9887\n",
      "Epoch 182: saving model to model/keypoint_classifier\\keypoint_classifier.hdf5\n",
      "25/25 [==============================] - 0s 17ms/step - loss: 0.0261 - accuracy: 0.9900 - val_loss: 0.0476 - val_accuracy: 0.9913\n",
      "Epoch 183/3400\n",
      "25/25 [==============================] - ETA: 0s - loss: 0.0310 - accuracy: 0.9913\n",
      "Epoch 183: saving model to model/keypoint_classifier\\keypoint_classifier.hdf5\n",
      "25/25 [==============================] - 0s 17ms/step - loss: 0.0310 - accuracy: 0.9913 - val_loss: 0.0532 - val_accuracy: 0.9913\n",
      "Epoch 184/3400\n",
      "22/25 [=========================>....] - ETA: 0s - loss: 0.0411 - accuracy: 0.9890\n",
      "Epoch 184: saving model to model/keypoint_classifier\\keypoint_classifier.hdf5\n",
      "25/25 [==============================] - 0s 16ms/step - loss: 0.0422 - accuracy: 0.9881 - val_loss: 0.0461 - val_accuracy: 0.9932\n",
      "Epoch 185/3400\n",
      "19/25 [=====================>........] - ETA: 0s - loss: 0.0355 - accuracy: 0.9897\n",
      "Epoch 185: saving model to model/keypoint_classifier\\keypoint_classifier.hdf5\n",
      "25/25 [==============================] - 0s 16ms/step - loss: 0.0343 - accuracy: 0.9890 - val_loss: 0.0530 - val_accuracy: 0.9894\n",
      "Epoch 186/3400\n",
      "20/25 [=======================>......] - ETA: 0s - loss: 0.0379 - accuracy: 0.9887\n",
      "Epoch 186: saving model to model/keypoint_classifier\\keypoint_classifier.hdf5\n",
      "25/25 [==============================] - 0s 16ms/step - loss: 0.0368 - accuracy: 0.9894 - val_loss: 0.0435 - val_accuracy: 0.9923\n",
      "Epoch 187/3400\n",
      "20/25 [=======================>......] - ETA: 0s - loss: 0.0306 - accuracy: 0.9914\n",
      "Epoch 187: saving model to model/keypoint_classifier\\keypoint_classifier.hdf5\n",
      "25/25 [==============================] - 0s 16ms/step - loss: 0.0325 - accuracy: 0.9906 - val_loss: 0.0413 - val_accuracy: 0.9923\n",
      "Epoch 188/3400\n",
      "22/25 [=========================>....] - ETA: 0s - loss: 0.0351 - accuracy: 0.9879\n",
      "Epoch 188: saving model to model/keypoint_classifier\\keypoint_classifier.hdf5\n",
      "25/25 [==============================] - 0s 16ms/step - loss: 0.0354 - accuracy: 0.9884 - val_loss: 0.0483 - val_accuracy: 0.9913\n",
      "Epoch 189/3400\n",
      "20/25 [=======================>......] - ETA: 0s - loss: 0.0290 - accuracy: 0.9918\n",
      "Epoch 189: saving model to model/keypoint_classifier\\keypoint_classifier.hdf5\n",
      "25/25 [==============================] - 0s 15ms/step - loss: 0.0277 - accuracy: 0.9923 - val_loss: 0.0442 - val_accuracy: 0.9913\n",
      "Epoch 190/3400\n",
      "22/25 [=========================>....] - ETA: 0s - loss: 0.0268 - accuracy: 0.9933\n",
      "Epoch 190: saving model to model/keypoint_classifier\\keypoint_classifier.hdf5\n",
      "25/25 [==============================] - 0s 16ms/step - loss: 0.0285 - accuracy: 0.9926 - val_loss: 0.0446 - val_accuracy: 0.9923\n",
      "Epoch 191/3400\n",
      "19/25 [=====================>........] - ETA: 0s - loss: 0.0313 - accuracy: 0.9885\n",
      "Epoch 191: saving model to model/keypoint_classifier\\keypoint_classifier.hdf5\n",
      "25/25 [==============================] - 0s 16ms/step - loss: 0.0291 - accuracy: 0.9897 - val_loss: 0.0491 - val_accuracy: 0.9923\n"
     ]
    },
    {
     "name": "stdout",
     "output_type": "stream",
     "text": [
      "Epoch 192/3400\n",
      "19/25 [=====================>........] - ETA: 0s - loss: 0.0316 - accuracy: 0.9901\n",
      "Epoch 192: saving model to model/keypoint_classifier\\keypoint_classifier.hdf5\n",
      "25/25 [==============================] - 0s 16ms/step - loss: 0.0300 - accuracy: 0.9903 - val_loss: 0.0481 - val_accuracy: 0.9913\n",
      "Epoch 193/3400\n",
      "21/25 [========================>.....] - ETA: 0s - loss: 0.0278 - accuracy: 0.9929\n",
      "Epoch 193: saving model to model/keypoint_classifier\\keypoint_classifier.hdf5\n",
      "25/25 [==============================] - 0s 16ms/step - loss: 0.0286 - accuracy: 0.9929 - val_loss: 0.0484 - val_accuracy: 0.9932\n",
      "Epoch 194/3400\n",
      "21/25 [========================>.....] - ETA: 0s - loss: 0.0239 - accuracy: 0.9926\n",
      "Epoch 194: saving model to model/keypoint_classifier\\keypoint_classifier.hdf5\n",
      "25/25 [==============================] - 0s 16ms/step - loss: 0.0249 - accuracy: 0.9926 - val_loss: 0.0471 - val_accuracy: 0.9923\n",
      "Epoch 195/3400\n",
      "20/25 [=======================>......] - ETA: 0s - loss: 0.0312 - accuracy: 0.9891\n",
      "Epoch 195: saving model to model/keypoint_classifier\\keypoint_classifier.hdf5\n",
      "25/25 [==============================] - 0s 16ms/step - loss: 0.0286 - accuracy: 0.9906 - val_loss: 0.0507 - val_accuracy: 0.9903\n",
      "Epoch 196/3400\n",
      "20/25 [=======================>......] - ETA: 0s - loss: 0.0215 - accuracy: 0.9934\n",
      "Epoch 196: saving model to model/keypoint_classifier\\keypoint_classifier.hdf5\n",
      "25/25 [==============================] - 0s 17ms/step - loss: 0.0237 - accuracy: 0.9926 - val_loss: 0.0429 - val_accuracy: 0.9913\n",
      "Epoch 197/3400\n",
      "25/25 [==============================] - ETA: 0s - loss: 0.0255 - accuracy: 0.9903\n",
      "Epoch 197: saving model to model/keypoint_classifier\\keypoint_classifier.hdf5\n",
      "25/25 [==============================] - 0s 16ms/step - loss: 0.0255 - accuracy: 0.9903 - val_loss: 0.0531 - val_accuracy: 0.9932\n",
      "Epoch 198/3400\n",
      "23/25 [==========================>...] - ETA: 0s - loss: 0.0313 - accuracy: 0.9905\n",
      "Epoch 198: saving model to model/keypoint_classifier\\keypoint_classifier.hdf5\n",
      "25/25 [==============================] - 0s 16ms/step - loss: 0.0314 - accuracy: 0.9903 - val_loss: 0.0473 - val_accuracy: 0.9923\n",
      "Epoch 199/3400\n",
      "21/25 [========================>.....] - ETA: 0s - loss: 0.0229 - accuracy: 0.9940\n",
      "Epoch 199: saving model to model/keypoint_classifier\\keypoint_classifier.hdf5\n",
      "25/25 [==============================] - 0s 16ms/step - loss: 0.0254 - accuracy: 0.9929 - val_loss: 0.0484 - val_accuracy: 0.9913\n",
      "Epoch 200/3400\n",
      "20/25 [=======================>......] - ETA: 0s - loss: 0.0271 - accuracy: 0.9930\n",
      "Epoch 200: saving model to model/keypoint_classifier\\keypoint_classifier.hdf5\n",
      "25/25 [==============================] - 0s 17ms/step - loss: 0.0266 - accuracy: 0.9932 - val_loss: 0.0445 - val_accuracy: 0.9913\n",
      "Epoch 201/3400\n",
      "20/25 [=======================>......] - ETA: 0s - loss: 0.0220 - accuracy: 0.9949\n",
      "Epoch 201: saving model to model/keypoint_classifier\\keypoint_classifier.hdf5\n",
      "25/25 [==============================] - 0s 17ms/step - loss: 0.0231 - accuracy: 0.9935 - val_loss: 0.0475 - val_accuracy: 0.9932\n",
      "Epoch 201: early stopping\n"
     ]
    },
    {
     "data": {
      "text/plain": [
       "<keras.src.callbacks.History at 0x11eb7f516d0>"
      ]
     },
     "execution_count": 110,
     "metadata": {},
     "output_type": "execute_result"
    }
   ],
   "source": [
    "model.fit(\n",
    "    X_train,\n",
    "    y_train,\n",
    "    epochs=100*NUM_CLASSES,\n",
    "    batch_size=128,\n",
    "    validation_data=(X_test, y_test),\n",
    "    callbacks=[cp_callback, es_callback]\n",
    ")"
   ]
  },
  {
   "cell_type": "code",
   "execution_count": 111,
   "metadata": {
    "colab": {
     "base_uri": "https://localhost:8080/"
    },
    "id": "pxvb2Y299hE3",
    "outputId": "59eb3185-2e37-4b9e-bc9d-ab1b8ac29b7f"
   },
   "outputs": [
    {
     "name": "stdout",
     "output_type": "stream",
     "text": [
      "9/9 [==============================] - 0s 4ms/step - loss: 0.0475 - accuracy: 0.9932\n"
     ]
    }
   ],
   "source": [
    "# Model evaluation\n",
    "val_loss, val_acc = model.evaluate(X_test, y_test, batch_size=128)"
   ]
  },
  {
   "cell_type": "code",
   "execution_count": 112,
   "metadata": {
    "id": "RBkmDeUW9hE4"
   },
   "outputs": [],
   "source": [
    "# Loading the saved model\n",
    "model = tf.keras.models.load_model(model_save_path)"
   ]
  },
  {
   "cell_type": "code",
   "execution_count": 113,
   "metadata": {
    "colab": {
     "base_uri": "https://localhost:8080/"
    },
    "id": "tFz9Tb0I9hE4",
    "outputId": "1c3b3528-54ae-4ee2-ab04-77429211cbef"
   },
   "outputs": [
    {
     "name": "stdout",
     "output_type": "stream",
     "text": [
      "1/1 [==============================] - 0s 171ms/step\n",
      "[2.0447865e-14 9.8867838e-09 9.9666291e-01 1.5170581e-09 2.4383593e-16\n",
      " 6.3065559e-06 8.8804285e-12 1.1243562e-09 1.3684248e-08 1.7784010e-12\n",
      " 1.5595427e-14 1.0743674e-12 5.7484737e-12 2.3312373e-06 4.3723511e-11\n",
      " 3.3230367e-03 2.3341036e-09 3.0746016e-08 2.9533547e-08 3.8668090e-11\n",
      " 2.0937299e-09 2.3862725e-08 1.5603288e-06 1.7319378e-08 1.0813545e-06\n",
      " 8.6377270e-13 4.3326260e-08 2.1890469e-06 6.5068804e-09 2.0152850e-08\n",
      " 1.0382738e-13 8.3228573e-16 1.8944408e-09 4.9582104e-07]\n",
      "2\n"
     ]
    }
   ],
   "source": [
    "# Inference test\n",
    "predict_result = model.predict(np.array([X_test[0]]))\n",
    "print(np.squeeze(predict_result))\n",
    "print(np.argmax(np.squeeze(predict_result)))"
   ]
  },
  {
   "cell_type": "markdown",
   "metadata": {
    "id": "S3U4yNWx9hE4"
   },
   "source": [
    "# Confusion matrix"
   ]
  },
  {
   "cell_type": "code",
   "execution_count": 114,
   "metadata": {
    "colab": {
     "base_uri": "https://localhost:8080/",
     "height": 582
    },
    "id": "AP1V6SCk9hE5",
    "outputId": "08e41a80-7a4a-4619-8125-ecc371368d19"
   },
   "outputs": [
    {
     "name": "stdout",
     "output_type": "stream",
     "text": [
      "33/33 [==============================] - 0s 3ms/step\n"
     ]
    },
    {
     "data": {
      "image/png": "[encoded data removed]",
      "text/plain": [
       "<Figure size 700x600 with 2 Axes>"
      ]
     },
     "metadata": {},
     "output_type": "display_data"
    },
    {
     "name": "stdout",
     "output_type": "stream",
     "text": [
      "Classification Report\n",
      "              precision    recall  f1-score   support\n",
      "\n",
      "           0       0.97      1.00      0.98        30\n",
      "           1       1.00      1.00      1.00        43\n",
      "           2       0.94      1.00      0.97        50\n",
      "           3       0.98      1.00      0.99        48\n",
      "           4       1.00      0.98      0.99        45\n",
      "           5       1.00      1.00      1.00        34\n",
      "           6       1.00      1.00      1.00        32\n",
      "           7       1.00      1.00      1.00        20\n",
      "           8       1.00      1.00      1.00        28\n",
      "           9       1.00      1.00      1.00        33\n",
      "          10       0.96      1.00      0.98        26\n",
      "          11       0.96      1.00      0.98        24\n",
      "          12       1.00      1.00      1.00        33\n",
      "          13       1.00      1.00      1.00        30\n",
      "          14       1.00      1.00      1.00        22\n",
      "          15       1.00      0.97      0.99        34\n",
      "          16       1.00      0.97      0.99        35\n",
      "          17       1.00      1.00      1.00        29\n",
      "          18       1.00      0.93      0.96        29\n",
      "          19       1.00      1.00      1.00        29\n",
      "          20       1.00      0.97      0.98        29\n",
      "          21       1.00      1.00      1.00        23\n",
      "          22       1.00      1.00      1.00        24\n",
      "          23       1.00      1.00      1.00        22\n",
      "          24       1.00      0.97      0.98        29\n",
      "          25       1.00      1.00      1.00        25\n",
      "          26       1.00      1.00      1.00        27\n",
      "          27       1.00      1.00      1.00        25\n",
      "          28       1.00      1.00      1.00        26\n",
      "          29       1.00      1.00      1.00        39\n",
      "          30       1.00      1.00      1.00        34\n",
      "          31       1.00      1.00      1.00        26\n",
      "          32       1.00      1.00      1.00        25\n",
      "          33       1.00      1.00      1.00        25\n",
      "\n",
      "    accuracy                           0.99      1033\n",
      "   macro avg       0.99      0.99      0.99      1033\n",
      "weighted avg       0.99      0.99      0.99      1033\n",
      "\n"
     ]
    }
   ],
   "source": [
    "import pandas as pd\n",
    "import seaborn as sns\n",
    "import matplotlib.pyplot as plt\n",
    "from sklearn.metrics import confusion_matrix, classification_report\n",
    "\n",
    "def print_confusion_matrix(y_true, y_pred, report=True):\n",
    "    labels = sorted(list(set(y_true)))\n",
    "    cmx_data = confusion_matrix(y_true, y_pred, labels=labels)\n",
    "    \n",
    "    df_cmx = pd.DataFrame(cmx_data, index=labels, columns=labels)\n",
    " \n",
    "    fig, ax = plt.subplots(figsize=(7, 6))\n",
    "    sns.heatmap(df_cmx, annot=True, fmt='g' ,square=False)\n",
    "    ax.set_ylim(len(set(y_true)), 0)\n",
    "    plt.show()\n",
    "    \n",
    "    if report:\n",
    "        print('Classification Report')\n",
    "        print(classification_report(y_test, y_pred))\n",
    "\n",
    "Y_pred = model.predict(X_test)\n",
    "y_pred = np.argmax(Y_pred, axis=1)\n",
    "\n",
    "print_confusion_matrix(y_test, y_pred)"
   ]
  },
  {
   "cell_type": "markdown",
   "metadata": {
    "id": "FNP6aqzc9hE5"
   },
   "source": [
    "# Convert to model for Tensorflow-Lite"
   ]
  },
  {
   "cell_type": "code",
   "execution_count": 115,
   "metadata": {
    "id": "ODjnYyld9hE6"
   },
   "outputs": [
    {
     "name": "stderr",
     "output_type": "stream",
     "text": [
      "C:\\Users\\Sanjay\\AppData\\Local\\Programs\\Python\\Python39\\lib\\site-packages\\keras\\src\\engine\\training.py:3000: UserWarning: You are saving your model as an HDF5 file via `model.save()`. This file format is considered legacy. We recommend using instead the native Keras format, e.g. `model.save('my_model.keras')`.\n",
      "  saving_api.save_model(\n"
     ]
    }
   ],
   "source": [
    "# Save as a model dedicated to inference\n",
    "model.save(model_save_path, include_optimizer=False)"
   ]
  },
  {
   "cell_type": "code",
   "execution_count": 116,
   "metadata": {
    "colab": {
     "base_uri": "https://localhost:8080/"
    },
    "id": "zRfuK8Y59hE6",
    "outputId": "a4ca585c-b5d5-4244-8291-8674063209bb"
   },
   "outputs": [
    {
     "name": "stdout",
     "output_type": "stream",
     "text": [
      "INFO:tensorflow:Assets written to: C:\\Users\\Sanjay\\AppData\\Local\\Temp\\tmpkfsdpzqt\\assets\n"
     ]
    },
    {
     "name": "stderr",
     "output_type": "stream",
     "text": [
      "INFO:tensorflow:Assets written to: C:\\Users\\Sanjay\\AppData\\Local\\Temp\\tmpkfsdpzqt\\assets\n"
     ]
    },
    {
     "data": {
      "text/plain": [
       "25424"
      ]
     },
     "execution_count": 116,
     "metadata": {},
     "output_type": "execute_result"
    }
   ],
   "source": [
    "# Transform model (quantization)\n",
    "\n",
    "converter = tf.lite.TFLiteConverter.from_keras_model(model)\n",
    "converter.optimizations = [tf.lite.Optimize.DEFAULT]\n",
    "tflite_quantized_model = converter.convert()\n",
    "\n",
    "open(tflite_save_path, 'wb').write(tflite_quantized_model)"
   ]
  },
  {
   "cell_type": "markdown",
   "metadata": {
    "id": "CHBPBXdx9hE6"
   },
   "source": [
    "# Inference test"
   ]
  },
  {
   "cell_type": "code",
   "execution_count": 117,
   "metadata": {
    "id": "mGAzLocO9hE7"
   },
   "outputs": [],
   "source": [
    "interpreter = tf.lite.Interpreter(model_path=tflite_save_path)\n",
    "interpreter.allocate_tensors()"
   ]
  },
  {
   "cell_type": "code",
   "execution_count": 118,
   "metadata": {
    "id": "oQuDK8YS9hE7"
   },
   "outputs": [],
   "source": [
    "# Get I / O tensor\n",
    "input_details = interpreter.get_input_details()\n",
    "output_details = interpreter.get_output_details()"
   ]
  },
  {
   "cell_type": "code",
   "execution_count": 119,
   "metadata": {
    "id": "2_ixAf_l9hE7"
   },
   "outputs": [],
   "source": [
    "interpreter.set_tensor(input_details[0]['index'], np.array([X_test[0]]))"
   ]
  },
  {
   "cell_type": "code",
   "execution_count": 120,
   "metadata": {
    "colab": {
     "base_uri": "https://localhost:8080/"
    },
    "id": "s4FoAnuc9hE7",
    "outputId": "91f18257-8d8b-4ef3-c558-e9b5f94fabbf",
    "scrolled": true
   },
   "outputs": [
    {
     "name": "stdout",
     "output_type": "stream",
     "text": [
      "CPU times: total: 0 ns\n",
      "Wall time: 0 ns\n"
     ]
    }
   ],
   "source": [
    "%%time\n",
    "# Inference implementation\n",
    "interpreter.invoke()\n",
    "tflite_results = interpreter.get_tensor(output_details[0]['index'])"
   ]
  },
  {
   "cell_type": "code",
   "execution_count": 121,
   "metadata": {
    "colab": {
     "base_uri": "https://localhost:8080/"
    },
    "id": "vONjp19J9hE8",
    "outputId": "77205e24-fd00-42c4-f7b6-e06e527c2cba"
   },
   "outputs": [
    {
     "name": "stdout",
     "output_type": "stream",
     "text": [
      "[1.82978819e-14 1.22093189e-08 9.97840524e-01 2.01516870e-09\n",
      " 2.84757416e-16 4.64278992e-06 8.70429943e-12 1.38699729e-09\n",
      " 1.33790135e-08 1.82456914e-12 1.49825102e-14 1.03106738e-12\n",
      " 5.84303265e-12 2.09599671e-06 3.47059742e-11 2.14720564e-03\n",
      " 2.97510372e-09 3.18894990e-08 3.78977560e-08 3.51791686e-11\n",
      " 2.26058705e-09 2.08552482e-08 1.59676597e-06 1.50833142e-08\n",
      " 1.10451151e-06 1.01142749e-12 5.47032393e-08 2.31761351e-06\n",
      " 4.14910151e-09 1.81657231e-08 8.45008132e-14 8.95291379e-16\n",
      " 1.56882840e-09 4.83508472e-07]\n",
      "2\n"
     ]
    }
   ],
   "source": [
    "print(np.squeeze(tflite_results))\n",
    "print(np.argmax(np.squeeze(tflite_results)))"
   ]
  },
  {
   "cell_type": "code",
   "execution_count": null,
   "metadata": {},
   "outputs": [],
   "source": []
  },
  {
   "cell_type": "code",
   "execution_count": null,
   "metadata": {},
   "outputs": [],
   "source": []
  },
  {
   "cell_type": "code",
   "execution_count": null,
   "metadata": {},
   "outputs": [],
   "source": []
  }
 ],
 "metadata": {
  "accelerator": "GPU",
  "colab": {
   "collapsed_sections": [],
   "name": "keypoint_classification_EN.ipynb",
   "provenance": [],
   "toc_visible": true
  },
  "kernelspec": {
   "display_name": "Python 3 (ipykernel)",
   "language": "python",
   "name": "python3"
  },
  "language_info": {
   "codemirror_mode": {
    "name": "ipython",
    "version": 3
   },
   "file_extension": ".py",
   "mimetype": "text/x-python",
   "name": "python",
   "nbconvert_exporter": "python",
   "pygments_lexer": "ipython3",
   "version": "3.9.7"
  }
 },
 "nbformat": 4,
 "nbformat_minor": 1
}
