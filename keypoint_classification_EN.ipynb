{
 "cells": [
  {
   "cell_type": "code",
   "execution_count": 512,
   "metadata": {
    "id": "igMyGnjE9hEp"
   },
   "outputs": [],
   "source": [
    "import csv\n",
    "\n",
    "import numpy as np\n",
    "import tensorflow as tf\n",
    "from sklearn.model_selection import train_test_split\n",
    "\n",
    "RANDOM_SEED = 42"
   ]
  },
  {
   "cell_type": "markdown",
   "metadata": {
    "id": "t2HDvhIu9hEr"
   },
   "source": [
    "# Specify each path"
   ]
  },
  {
   "cell_type": "code",
   "execution_count": 513,
   "metadata": {
    "id": "9NvZP2Zn9hEy"
   },
   "outputs": [],
   "source": [
    "dataset = 'model/keypoint_classifier/keypoint.csv'\n",
    "model_save_path = 'model/keypoint_classifier/keypoint_classifier.hdf5'\n",
    "tflite_save_path = 'model/keypoint_classifier/keypoint_classifier.tflite'"
   ]
  },
  {
   "cell_type": "markdown",
   "metadata": {
    "id": "s5oMH7x19hEz"
   },
   "source": [
    "# Set number of classes"
   ]
  },
  {
   "cell_type": "code",
   "execution_count": 514,
   "metadata": {
    "id": "du4kodXL9hEz"
   },
   "outputs": [],
   "source": [
    "NUM_CLASSES = 21"
   ]
  },
  {
   "cell_type": "markdown",
   "metadata": {
    "id": "XjnL0uso9hEz"
   },
   "source": [
    "# Dataset reading"
   ]
  },
  {
   "cell_type": "code",
   "execution_count": 515,
   "metadata": {
    "id": "QT5ZqtEz9hE0"
   },
   "outputs": [],
   "source": [
    "X_dataset = np.loadtxt(dataset, delimiter=',', dtype='float32', usecols=list(range(1, (21*2 + 21*2 + 2*1) + 1)))"
   ]
  },
  {
   "cell_type": "code",
   "execution_count": 516,
   "metadata": {
    "id": "QmoKFsp49hE0"
   },
   "outputs": [],
   "source": [
    "y_dataset = np.loadtxt(dataset, delimiter=',', dtype='int32', usecols=(0))"
   ]
  },
  {
   "cell_type": "code",
   "execution_count": 517,
   "metadata": {
    "id": "xQU7JTZ_9hE0"
   },
   "outputs": [],
   "source": [
    "X_train, X_test, y_train, y_test = train_test_split(X_dataset, y_dataset, train_size=0.75, random_state=RANDOM_SEED)"
   ]
  },
  {
   "cell_type": "markdown",
   "metadata": {
    "id": "mxK_lETT9hE0"
   },
   "source": [
    "# Model building"
   ]
  },
  {
   "cell_type": "code",
   "execution_count": 518,
   "metadata": {
    "id": "vHBmUf1t9hE1"
   },
   "outputs": [],
   "source": [
    "# model = tf.keras.models.Sequential([\n",
    "#     tf.keras.layers.Input((21*2 + 21*2 + 2*1 )),\n",
    "#     tf.keras.layers.Dropout(0.2),\n",
    "#     tf.keras.layers.Dense(20, activation='relu'),\n",
    "#     tf.keras.layers.Dropout(0.4),\n",
    "#     tf.keras.layers.Dense(10, activation='relu'),\n",
    "#     tf.keras.layers.Dense(NUM_CLASSES, activation='softmax')\n",
    "# ])"
   ]
  },
  {
   "cell_type": "code",
   "execution_count": 519,
   "metadata": {},
   "outputs": [],
   "source": [
    "model = tf.keras.models.Sequential([\n",
    "    tf.keras.layers.Input((21*2 + 21*2 + 2*1 )),\n",
    "    tf.keras.layers.Dropout(0.2),\n",
    "    tf.keras.layers.Dense(100, activation='relu'),\n",
    "    tf.keras.layers.Dropout(0.4),\n",
    "    tf.keras.layers.Dense(50, activation='relu'),\n",
    "    tf.keras.layers.Dense(NUM_CLASSES, activation='softmax')\n",
    "])"
   ]
  },
  {
   "cell_type": "code",
   "execution_count": 520,
   "metadata": {
    "colab": {
     "base_uri": "https://localhost:8080/"
    },
    "id": "ypqky9tc9hE1",
    "outputId": "5db082bb-30e3-4110-bf63-a1ee777ecd46"
   },
   "outputs": [
    {
     "name": "stdout",
     "output_type": "stream",
     "text": [
      "Model: \"sequential_24\"\n",
      "_________________________________________________________________\n",
      " Layer (type)                Output Shape              Param #   \n",
      "=================================================================\n",
      " dropout_48 (Dropout)        (None, 86)                0         \n",
      "                                                                 \n",
      " dense_72 (Dense)            (None, 100)               8700      \n",
      "                                                                 \n",
      " dropout_49 (Dropout)        (None, 100)               0         \n",
      "                                                                 \n",
      " dense_73 (Dense)            (None, 50)                5050      \n",
      "                                                                 \n",
      " dense_74 (Dense)            (None, 21)                1071      \n",
      "                                                                 \n",
      "=================================================================\n",
      "Total params: 14821 (57.89 KB)\n",
      "Trainable params: 14821 (57.89 KB)\n",
      "Non-trainable params: 0 (0.00 Byte)\n",
      "_________________________________________________________________\n"
     ]
    }
   ],
   "source": [
    "model.summary()  # tf.keras.utils.plot_model(model, show_shapes=True)"
   ]
  },
  {
   "cell_type": "code",
   "execution_count": 521,
   "metadata": {
    "id": "MbMjOflQ9hE1"
   },
   "outputs": [],
   "source": [
    "# Model checkpoint callback\n",
    "cp_callback = tf.keras.callbacks.ModelCheckpoint(\n",
    "    model_save_path, verbose=1, save_weights_only=False)\n",
    "# Callback for early stopping\n",
    "es_callback = tf.keras.callbacks.EarlyStopping(patience=20, verbose=1)"
   ]
  },
  {
   "cell_type": "code",
   "execution_count": 522,
   "metadata": {
    "id": "c3Dac0M_9hE2"
   },
   "outputs": [],
   "source": [
    "# Model compilation\n",
    "model.compile(\n",
    "    optimizer='adam',\n",
    "    loss='sparse_categorical_crossentropy',\n",
    "    metrics=['accuracy']\n",
    ")"
   ]
  },
  {
   "cell_type": "markdown",
   "metadata": {
    "id": "7XI0j1Iu9hE2"
   },
   "source": [
    "# Model training"
   ]
  },
  {
   "cell_type": "code",
   "execution_count": 523,
   "metadata": {
    "colab": {
     "base_uri": "https://localhost:8080/"
    },
    "id": "WirBl-JE9hE3",
    "outputId": "71b30ca2-8294-4d9d-8aa2-800d90d399de",
    "scrolled": true
   },
   "outputs": [
    {
     "name": "stdout",
     "output_type": "stream",
     "text": [
      "Epoch 1/2100\n",
      "12/15 [=======================>......] - ETA: 0s - loss: 3.0317 - accuracy: 0.0742 \n",
      "Epoch 1: saving model to model/keypoint_classifier\\keypoint_classifier.hdf5\n",
      "15/15 [==============================] - 1s 27ms/step - loss: 3.0056 - accuracy: 0.0877 - val_loss: 2.7549 - val_accuracy: 0.2441\n",
      "Epoch 2/2100\n",
      "12/15 [=======================>......] - ETA: 0s - loss: 2.7321 - accuracy: 0.1895\n",
      "Epoch 2: saving model to model/keypoint_classifier\\keypoint_classifier.hdf5\n",
      "15/15 [==============================] - 0s 12ms/step - loss: 2.7067 - accuracy: 0.1907 - val_loss: 2.4588 - val_accuracy: 0.2647\n"
     ]
    },
    {
     "name": "stderr",
     "output_type": "stream",
     "text": [
      "C:\\Users\\Sanjay\\AppData\\Local\\Programs\\Python\\Python39\\lib\\site-packages\\keras\\src\\engine\\training.py:3000: UserWarning: You are saving your model as an HDF5 file via `model.save()`. This file format is considered legacy. We recommend using instead the native Keras format, e.g. `model.save('my_model.keras')`.\n",
      "  saving_api.save_model(\n"
     ]
    },
    {
     "name": "stdout",
     "output_type": "stream",
     "text": [
      "Epoch 3/2100\n",
      "11/15 [=====================>........] - ETA: 0s - loss: 2.4293 - accuracy: 0.2450\n",
      "Epoch 3: saving model to model/keypoint_classifier\\keypoint_classifier.hdf5\n",
      "15/15 [==============================] - 0s 11ms/step - loss: 2.4064 - accuracy: 0.2520 - val_loss: 2.1714 - val_accuracy: 0.4469\n",
      "Epoch 4/2100\n",
      "13/15 [=========================>....] - ETA: 0s - loss: 2.1998 - accuracy: 0.2885\n",
      "Epoch 4: saving model to model/keypoint_classifier\\keypoint_classifier.hdf5\n",
      "15/15 [==============================] - 0s 9ms/step - loss: 2.1874 - accuracy: 0.2911 - val_loss: 1.9545 - val_accuracy: 0.4628\n",
      "Epoch 5/2100\n",
      "14/15 [===========================>..] - ETA: 0s - loss: 2.0072 - accuracy: 0.3655\n",
      "Epoch 5: saving model to model/keypoint_classifier\\keypoint_classifier.hdf5\n",
      "15/15 [==============================] - 0s 11ms/step - loss: 1.9983 - accuracy: 0.3677 - val_loss: 1.7552 - val_accuracy: 0.5499\n",
      "Epoch 6/2100\n",
      " 1/15 [=>............................] - ETA: 0s - loss: 1.8980 - accuracy: 0.3359\n",
      "Epoch 6: saving model to model/keypoint_classifier\\keypoint_classifier.hdf5\n",
      "15/15 [==============================] - 0s 11ms/step - loss: 1.8298 - accuracy: 0.4025 - val_loss: 1.5708 - val_accuracy: 0.5975\n",
      "Epoch 7/2100\n",
      " 1/15 [=>............................] - ETA: 0s - loss: 1.7664 - accuracy: 0.4531\n",
      "Epoch 7: saving model to model/keypoint_classifier\\keypoint_classifier.hdf5\n",
      "15/15 [==============================] - 0s 11ms/step - loss: 1.6975 - accuracy: 0.4548 - val_loss: 1.3998 - val_accuracy: 0.6941\n",
      "Epoch 8/2100\n",
      "14/15 [===========================>..] - ETA: 0s - loss: 1.5621 - accuracy: 0.4911\n",
      "Epoch 8: saving model to model/keypoint_classifier\\keypoint_classifier.hdf5\n",
      "15/15 [==============================] - 0s 10ms/step - loss: 1.5571 - accuracy: 0.4929 - val_loss: 1.2180 - val_accuracy: 0.7670\n",
      "Epoch 9/2100\n",
      "14/15 [===========================>..] - ETA: 0s - loss: 1.4084 - accuracy: 0.5435\n",
      "Epoch 9: saving model to model/keypoint_classifier\\keypoint_classifier.hdf5\n",
      "15/15 [==============================] - 0s 9ms/step - loss: 1.4076 - accuracy: 0.5399 - val_loss: 1.0671 - val_accuracy: 0.7607\n",
      "Epoch 10/2100\n",
      "14/15 [===========================>..] - ETA: 0s - loss: 1.3085 - accuracy: 0.5675\n",
      "Epoch 10: saving model to model/keypoint_classifier\\keypoint_classifier.hdf5\n",
      "15/15 [==============================] - 0s 9ms/step - loss: 1.3078 - accuracy: 0.5689 - val_loss: 0.9463 - val_accuracy: 0.7971\n",
      "Epoch 11/2100\n",
      " 1/15 [=>............................] - ETA: 0s - loss: 1.3200 - accuracy: 0.5312\n",
      "Epoch 11: saving model to model/keypoint_classifier\\keypoint_classifier.hdf5\n",
      "15/15 [==============================] - 0s 8ms/step - loss: 1.2043 - accuracy: 0.6006 - val_loss: 0.8461 - val_accuracy: 0.8098\n",
      "Epoch 12/2100\n",
      " 1/15 [=>............................] - ETA: 0s - loss: 1.2088 - accuracy: 0.5859\n",
      "Epoch 12: saving model to model/keypoint_classifier\\keypoint_classifier.hdf5\n",
      "15/15 [==============================] - 0s 8ms/step - loss: 1.1190 - accuracy: 0.6117 - val_loss: 0.7531 - val_accuracy: 0.8780\n",
      "Epoch 13/2100\n",
      "15/15 [==============================] - ETA: 0s - loss: 1.0296 - accuracy: 0.6524\n",
      "Epoch 13: saving model to model/keypoint_classifier\\keypoint_classifier.hdf5\n",
      "15/15 [==============================] - 0s 9ms/step - loss: 1.0296 - accuracy: 0.6524 - val_loss: 0.6692 - val_accuracy: 0.8637\n",
      "Epoch 14/2100\n",
      " 1/15 [=>............................] - ETA: 0s - loss: 0.8555 - accuracy: 0.6953\n",
      "Epoch 14: saving model to model/keypoint_classifier\\keypoint_classifier.hdf5\n",
      "15/15 [==============================] - 0s 9ms/step - loss: 0.9594 - accuracy: 0.6661 - val_loss: 0.5983 - val_accuracy: 0.8954\n",
      "Epoch 15/2100\n",
      "14/15 [===========================>..] - ETA: 0s - loss: 0.8896 - accuracy: 0.7003\n",
      "Epoch 15: saving model to model/keypoint_classifier\\keypoint_classifier.hdf5\n",
      "15/15 [==============================] - 0s 10ms/step - loss: 0.8934 - accuracy: 0.6989 - val_loss: 0.5490 - val_accuracy: 0.8716\n",
      "Epoch 16/2100\n",
      " 1/15 [=>............................] - ETA: 0s - loss: 0.9499 - accuracy: 0.6719\n",
      "Epoch 16: saving model to model/keypoint_classifier\\keypoint_classifier.hdf5\n",
      "15/15 [==============================] - 0s 8ms/step - loss: 0.8521 - accuracy: 0.7221 - val_loss: 0.4933 - val_accuracy: 0.8811\n",
      "Epoch 17/2100\n",
      "14/15 [===========================>..] - ETA: 0s - loss: 0.8127 - accuracy: 0.7249\n",
      "Epoch 17: saving model to model/keypoint_classifier\\keypoint_classifier.hdf5\n",
      "15/15 [==============================] - 0s 11ms/step - loss: 0.8116 - accuracy: 0.7200 - val_loss: 0.4589 - val_accuracy: 0.8922\n",
      "Epoch 18/2100\n",
      " 1/15 [=>............................] - ETA: 0s - loss: 0.7921 - accuracy: 0.7188\n",
      "Epoch 18: saving model to model/keypoint_classifier\\keypoint_classifier.hdf5\n",
      "15/15 [==============================] - 0s 8ms/step - loss: 0.7754 - accuracy: 0.7184 - val_loss: 0.4317 - val_accuracy: 0.9081\n",
      "Epoch 19/2100\n",
      " 1/15 [=>............................] - ETA: 0s - loss: 0.8078 - accuracy: 0.7188\n",
      "Epoch 19: saving model to model/keypoint_classifier\\keypoint_classifier.hdf5\n",
      "15/15 [==============================] - 0s 8ms/step - loss: 0.7371 - accuracy: 0.7359 - val_loss: 0.4074 - val_accuracy: 0.8922\n",
      "Epoch 20/2100\n",
      " 1/15 [=>............................] - ETA: 0s - loss: 0.7998 - accuracy: 0.7422\n",
      "Epoch 20: saving model to model/keypoint_classifier\\keypoint_classifier.hdf5\n",
      "15/15 [==============================] - 0s 7ms/step - loss: 0.7230 - accuracy: 0.7390 - val_loss: 0.3706 - val_accuracy: 0.9271\n",
      "Epoch 21/2100\n",
      " 1/15 [=>............................] - ETA: 0s - loss: 0.5490 - accuracy: 0.8594\n",
      "Epoch 21: saving model to model/keypoint_classifier\\keypoint_classifier.hdf5\n",
      "15/15 [==============================] - 0s 8ms/step - loss: 0.6457 - accuracy: 0.7871 - val_loss: 0.3425 - val_accuracy: 0.9144\n",
      "Epoch 22/2100\n",
      " 1/15 [=>............................] - ETA: 0s - loss: 0.6077 - accuracy: 0.7656\n",
      "Epoch 22: saving model to model/keypoint_classifier\\keypoint_classifier.hdf5\n",
      "15/15 [==============================] - 0s 9ms/step - loss: 0.6565 - accuracy: 0.7517 - val_loss: 0.3315 - val_accuracy: 0.9176\n",
      "Epoch 23/2100\n",
      "14/15 [===========================>..] - ETA: 0s - loss: 0.6412 - accuracy: 0.7701\n",
      "Epoch 23: saving model to model/keypoint_classifier\\keypoint_classifier.hdf5\n",
      "15/15 [==============================] - 0s 10ms/step - loss: 0.6338 - accuracy: 0.7750 - val_loss: 0.3139 - val_accuracy: 0.9239\n",
      "Epoch 24/2100\n",
      " 9/15 [=================>............] - ETA: 0s - loss: 0.5883 - accuracy: 0.8030\n",
      "Epoch 24: saving model to model/keypoint_classifier\\keypoint_classifier.hdf5\n",
      "15/15 [==============================] - 0s 11ms/step - loss: 0.5972 - accuracy: 0.7903 - val_loss: 0.3027 - val_accuracy: 0.9128\n",
      "Epoch 25/2100\n",
      " 1/15 [=>............................] - ETA: 0s - loss: 0.5082 - accuracy: 0.8125\n",
      "Epoch 25: saving model to model/keypoint_classifier\\keypoint_classifier.hdf5\n",
      "15/15 [==============================] - 0s 12ms/step - loss: 0.5930 - accuracy: 0.7876 - val_loss: 0.2885 - val_accuracy: 0.9239\n",
      "Epoch 26/2100\n",
      "14/15 [===========================>..] - ETA: 0s - loss: 0.5576 - accuracy: 0.8013\n",
      "Epoch 26: saving model to model/keypoint_classifier\\keypoint_classifier.hdf5\n",
      "15/15 [==============================] - 0s 15ms/step - loss: 0.5575 - accuracy: 0.7987 - val_loss: 0.2742 - val_accuracy: 0.9192\n",
      "Epoch 27/2100\n",
      "11/15 [=====================>........] - ETA: 0s - loss: 0.5670 - accuracy: 0.7976\n",
      "Epoch 27: saving model to model/keypoint_classifier\\keypoint_classifier.hdf5\n",
      "15/15 [==============================] - 0s 12ms/step - loss: 0.5543 - accuracy: 0.8008 - val_loss: 0.2632 - val_accuracy: 0.9255\n",
      "Epoch 28/2100\n",
      "14/15 [===========================>..] - ETA: 0s - loss: 0.5438 - accuracy: 0.8075\n",
      "Epoch 28: saving model to model/keypoint_classifier\\keypoint_classifier.hdf5\n",
      "15/15 [==============================] - 0s 9ms/step - loss: 0.5420 - accuracy: 0.8093 - val_loss: 0.2495 - val_accuracy: 0.9208\n",
      "Epoch 29/2100\n",
      " 1/15 [=>............................] - ETA: 0s - loss: 0.5287 - accuracy: 0.7891\n",
      "Epoch 29: saving model to model/keypoint_classifier\\keypoint_classifier.hdf5\n",
      "15/15 [==============================] - 0s 7ms/step - loss: 0.5100 - accuracy: 0.8172 - val_loss: 0.2495 - val_accuracy: 0.9255\n",
      "Epoch 30/2100\n"
     ]
    },
    {
     "name": "stdout",
     "output_type": "stream",
     "text": [
      "12/15 [=======================>......] - ETA: 0s - loss: 0.5182 - accuracy: 0.8034\n",
      "Epoch 30: saving model to model/keypoint_classifier\\keypoint_classifier.hdf5\n",
      "15/15 [==============================] - 0s 11ms/step - loss: 0.5137 - accuracy: 0.8056 - val_loss: 0.2341 - val_accuracy: 0.9746\n",
      "Epoch 31/2100\n",
      "15/15 [==============================] - ETA: 0s - loss: 0.5022 - accuracy: 0.8236\n",
      "Epoch 31: saving model to model/keypoint_classifier\\keypoint_classifier.hdf5\n",
      "15/15 [==============================] - 0s 9ms/step - loss: 0.5022 - accuracy: 0.8236 - val_loss: 0.2277 - val_accuracy: 0.9651\n",
      "Epoch 32/2100\n",
      " 1/15 [=>............................] - ETA: 0s - loss: 0.4358 - accuracy: 0.8281\n",
      "Epoch 32: saving model to model/keypoint_classifier\\keypoint_classifier.hdf5\n",
      "15/15 [==============================] - 0s 8ms/step - loss: 0.4765 - accuracy: 0.8294 - val_loss: 0.2209 - val_accuracy: 0.9493\n",
      "Epoch 33/2100\n",
      " 1/15 [=>............................] - ETA: 0s - loss: 0.4535 - accuracy: 0.8359\n",
      "Epoch 33: saving model to model/keypoint_classifier\\keypoint_classifier.hdf5\n",
      "15/15 [==============================] - 0s 7ms/step - loss: 0.4660 - accuracy: 0.8246 - val_loss: 0.2152 - val_accuracy: 0.9683\n",
      "Epoch 34/2100\n",
      " 1/15 [=>............................] - ETA: 0s - loss: 0.4635 - accuracy: 0.7969\n",
      "Epoch 34: saving model to model/keypoint_classifier\\keypoint_classifier.hdf5\n",
      "15/15 [==============================] - 0s 8ms/step - loss: 0.4723 - accuracy: 0.8399 - val_loss: 0.2084 - val_accuracy: 0.9271\n",
      "Epoch 35/2100\n",
      " 1/15 [=>............................] - ETA: 0s - loss: 0.4077 - accuracy: 0.8438\n",
      "Epoch 35: saving model to model/keypoint_classifier\\keypoint_classifier.hdf5\n",
      "15/15 [==============================] - 0s 8ms/step - loss: 0.4414 - accuracy: 0.8420 - val_loss: 0.2049 - val_accuracy: 0.9398\n",
      "Epoch 36/2100\n",
      "14/15 [===========================>..] - ETA: 0s - loss: 0.4389 - accuracy: 0.8454\n",
      "Epoch 36: saving model to model/keypoint_classifier\\keypoint_classifier.hdf5\n",
      "15/15 [==============================] - 0s 9ms/step - loss: 0.4392 - accuracy: 0.8447 - val_loss: 0.1940 - val_accuracy: 0.9635\n",
      "Epoch 37/2100\n",
      "14/15 [===========================>..] - ETA: 0s - loss: 0.4469 - accuracy: 0.8315\n",
      "Epoch 37: saving model to model/keypoint_classifier\\keypoint_classifier.hdf5\n",
      "15/15 [==============================] - 0s 10ms/step - loss: 0.4432 - accuracy: 0.8325 - val_loss: 0.1887 - val_accuracy: 0.9635\n",
      "Epoch 38/2100\n",
      " 1/15 [=>............................] - ETA: 0s - loss: 0.5146 - accuracy: 0.8203\n",
      "Epoch 38: saving model to model/keypoint_classifier\\keypoint_classifier.hdf5\n",
      "15/15 [==============================] - 0s 10ms/step - loss: 0.4234 - accuracy: 0.8447 - val_loss: 0.1871 - val_accuracy: 0.9493\n",
      "Epoch 39/2100\n",
      "14/15 [===========================>..] - ETA: 0s - loss: 0.4017 - accuracy: 0.8421\n",
      "Epoch 39: saving model to model/keypoint_classifier\\keypoint_classifier.hdf5\n",
      "15/15 [==============================] - 0s 10ms/step - loss: 0.4023 - accuracy: 0.8426 - val_loss: 0.1833 - val_accuracy: 0.9635\n",
      "Epoch 40/2100\n",
      "13/15 [=========================>....] - ETA: 0s - loss: 0.4033 - accuracy: 0.8468\n",
      "Epoch 40: saving model to model/keypoint_classifier\\keypoint_classifier.hdf5\n",
      "15/15 [==============================] - 0s 12ms/step - loss: 0.4101 - accuracy: 0.8489 - val_loss: 0.1747 - val_accuracy: 0.9319\n",
      "Epoch 41/2100\n",
      "15/15 [==============================] - ETA: 0s - loss: 0.4189 - accuracy: 0.8368\n",
      "Epoch 41: saving model to model/keypoint_classifier\\keypoint_classifier.hdf5\n",
      "15/15 [==============================] - 0s 9ms/step - loss: 0.4189 - accuracy: 0.8368 - val_loss: 0.1695 - val_accuracy: 0.9715\n",
      "Epoch 42/2100\n",
      "13/15 [=========================>....] - ETA: 0s - loss: 0.4123 - accuracy: 0.8425\n",
      "Epoch 42: saving model to model/keypoint_classifier\\keypoint_classifier.hdf5\n",
      "15/15 [==============================] - 0s 9ms/step - loss: 0.4141 - accuracy: 0.8378 - val_loss: 0.1739 - val_accuracy: 0.9715\n",
      "Epoch 43/2100\n",
      " 1/15 [=>............................] - ETA: 0s - loss: 0.3069 - accuracy: 0.9141\n",
      "Epoch 43: saving model to model/keypoint_classifier\\keypoint_classifier.hdf5\n",
      "15/15 [==============================] - 0s 9ms/step - loss: 0.3854 - accuracy: 0.8542 - val_loss: 0.1679 - val_accuracy: 0.9683\n",
      "Epoch 44/2100\n",
      " 1/15 [=>............................] - ETA: 0s - loss: 0.3058 - accuracy: 0.8906\n",
      "Epoch 44: saving model to model/keypoint_classifier\\keypoint_classifier.hdf5\n",
      "15/15 [==============================] - 0s 11ms/step - loss: 0.3734 - accuracy: 0.8632 - val_loss: 0.1620 - val_accuracy: 0.9414\n",
      "Epoch 45/2100\n",
      "14/15 [===========================>..] - ETA: 0s - loss: 0.3710 - accuracy: 0.8571\n",
      "Epoch 45: saving model to model/keypoint_classifier\\keypoint_classifier.hdf5\n",
      "15/15 [==============================] - 0s 10ms/step - loss: 0.3718 - accuracy: 0.8558 - val_loss: 0.1628 - val_accuracy: 0.9414\n",
      "Epoch 46/2100\n",
      " 1/15 [=>............................] - ETA: 0s - loss: 0.4627 - accuracy: 0.8047\n",
      "Epoch 46: saving model to model/keypoint_classifier\\keypoint_classifier.hdf5\n",
      "15/15 [==============================] - 0s 9ms/step - loss: 0.4001 - accuracy: 0.8542 - val_loss: 0.1558 - val_accuracy: 0.9620\n",
      "Epoch 47/2100\n",
      "11/15 [=====================>........] - ETA: 0s - loss: 0.3780 - accuracy: 0.8523\n",
      "Epoch 47: saving model to model/keypoint_classifier\\keypoint_classifier.hdf5\n",
      "15/15 [==============================] - 0s 11ms/step - loss: 0.3627 - accuracy: 0.8595 - val_loss: 0.1606 - val_accuracy: 0.9398\n",
      "Epoch 48/2100\n",
      "15/15 [==============================] - ETA: 0s - loss: 0.3832 - accuracy: 0.8531\n",
      "Epoch 48: saving model to model/keypoint_classifier\\keypoint_classifier.hdf5\n",
      "15/15 [==============================] - 0s 9ms/step - loss: 0.3832 - accuracy: 0.8531 - val_loss: 0.1573 - val_accuracy: 0.9715\n",
      "Epoch 49/2100\n",
      "14/15 [===========================>..] - ETA: 0s - loss: 0.3628 - accuracy: 0.8622\n",
      "Epoch 49: saving model to model/keypoint_classifier\\keypoint_classifier.hdf5\n",
      "15/15 [==============================] - 0s 10ms/step - loss: 0.3702 - accuracy: 0.8584 - val_loss: 0.1511 - val_accuracy: 0.9715\n",
      "Epoch 50/2100\n",
      " 1/15 [=>............................] - ETA: 0s - loss: 0.3068 - accuracy: 0.8750\n",
      "Epoch 50: saving model to model/keypoint_classifier\\keypoint_classifier.hdf5\n",
      "15/15 [==============================] - 0s 8ms/step - loss: 0.3654 - accuracy: 0.8611 - val_loss: 0.1545 - val_accuracy: 0.9366\n",
      "Epoch 51/2100\n",
      " 1/15 [=>............................] - ETA: 0s - loss: 0.3389 - accuracy: 0.8906\n",
      "Epoch 51: saving model to model/keypoint_classifier\\keypoint_classifier.hdf5\n",
      "15/15 [==============================] - 0s 8ms/step - loss: 0.3460 - accuracy: 0.8737 - val_loss: 0.1500 - val_accuracy: 0.9572\n",
      "Epoch 52/2100\n",
      "14/15 [===========================>..] - ETA: 0s - loss: 0.3528 - accuracy: 0.8666\n",
      "Epoch 52: saving model to model/keypoint_classifier\\keypoint_classifier.hdf5\n",
      "15/15 [==============================] - 0s 10ms/step - loss: 0.3524 - accuracy: 0.8658 - val_loss: 0.1424 - val_accuracy: 0.9715\n",
      "Epoch 53/2100\n",
      " 1/15 [=>............................] - ETA: 0s - loss: 0.6114 - accuracy: 0.7656\n",
      "Epoch 53: saving model to model/keypoint_classifier\\keypoint_classifier.hdf5\n",
      "15/15 [==============================] - 0s 8ms/step - loss: 0.3752 - accuracy: 0.8516 - val_loss: 0.1485 - val_accuracy: 0.9398\n",
      "Epoch 54/2100\n",
      "14/15 [===========================>..] - ETA: 0s - loss: 0.3328 - accuracy: 0.8761\n",
      "Epoch 54: saving model to model/keypoint_classifier\\keypoint_classifier.hdf5\n",
      "15/15 [==============================] - 0s 9ms/step - loss: 0.3353 - accuracy: 0.8748 - val_loss: 0.1452 - val_accuracy: 0.9604\n",
      "Epoch 55/2100\n",
      " 1/15 [=>............................] - ETA: 0s - loss: 0.2553 - accuracy: 0.9375\n",
      "Epoch 55: saving model to model/keypoint_classifier\\keypoint_classifier.hdf5\n",
      "15/15 [==============================] - 0s 8ms/step - loss: 0.3160 - accuracy: 0.8848 - val_loss: 0.1400 - val_accuracy: 0.9715\n",
      "Epoch 56/2100\n",
      "15/15 [==============================] - ETA: 0s - loss: 0.3430 - accuracy: 0.8743\n",
      "Epoch 56: saving model to model/keypoint_classifier\\keypoint_classifier.hdf5\n",
      "15/15 [==============================] - 0s 9ms/step - loss: 0.3430 - accuracy: 0.8743 - val_loss: 0.1370 - val_accuracy: 0.9731\n",
      "Epoch 57/2100\n"
     ]
    },
    {
     "name": "stdout",
     "output_type": "stream",
     "text": [
      "12/15 [=======================>......] - ETA: 0s - loss: 0.3404 - accuracy: 0.8646\n",
      "Epoch 57: saving model to model/keypoint_classifier\\keypoint_classifier.hdf5\n",
      "15/15 [==============================] - 0s 11ms/step - loss: 0.3335 - accuracy: 0.8669 - val_loss: 0.1342 - val_accuracy: 0.9683\n",
      "Epoch 58/2100\n",
      " 1/15 [=>............................] - ETA: 0s - loss: 0.3664 - accuracy: 0.8672\n",
      "Epoch 58: saving model to model/keypoint_classifier\\keypoint_classifier.hdf5\n",
      "15/15 [==============================] - 0s 8ms/step - loss: 0.3218 - accuracy: 0.8774 - val_loss: 0.1315 - val_accuracy: 0.9699\n",
      "Epoch 59/2100\n",
      "13/15 [=========================>....] - ETA: 0s - loss: 0.3335 - accuracy: 0.8696\n",
      "Epoch 59: saving model to model/keypoint_classifier\\keypoint_classifier.hdf5\n",
      "15/15 [==============================] - 0s 10ms/step - loss: 0.3232 - accuracy: 0.8743 - val_loss: 0.1402 - val_accuracy: 0.9271\n",
      "Epoch 60/2100\n",
      " 1/15 [=>............................] - ETA: 0s - loss: 0.3379 - accuracy: 0.8281\n",
      "Epoch 60: saving model to model/keypoint_classifier\\keypoint_classifier.hdf5\n",
      "15/15 [==============================] - 0s 7ms/step - loss: 0.3409 - accuracy: 0.8627 - val_loss: 0.1289 - val_accuracy: 0.9540\n",
      "Epoch 61/2100\n",
      " 1/15 [=>............................] - ETA: 0s - loss: 0.1799 - accuracy: 0.9531\n",
      "Epoch 61: saving model to model/keypoint_classifier\\keypoint_classifier.hdf5\n",
      "15/15 [==============================] - 0s 8ms/step - loss: 0.3055 - accuracy: 0.8870 - val_loss: 0.1357 - val_accuracy: 0.9572\n",
      "Epoch 62/2100\n",
      " 1/15 [=>............................] - ETA: 0s - loss: 0.3475 - accuracy: 0.8516\n",
      "Epoch 62: saving model to model/keypoint_classifier\\keypoint_classifier.hdf5\n",
      "15/15 [==============================] - 0s 8ms/step - loss: 0.3170 - accuracy: 0.8748 - val_loss: 0.1292 - val_accuracy: 0.9731\n",
      "Epoch 63/2100\n",
      " 1/15 [=>............................] - ETA: 0s - loss: 0.3835 - accuracy: 0.8516\n",
      "Epoch 63: saving model to model/keypoint_classifier\\keypoint_classifier.hdf5\n",
      "15/15 [==============================] - 0s 8ms/step - loss: 0.3122 - accuracy: 0.8848 - val_loss: 0.1289 - val_accuracy: 0.9731\n",
      "Epoch 64/2100\n",
      " 1/15 [=>............................] - ETA: 0s - loss: 0.3161 - accuracy: 0.9062\n",
      "Epoch 64: saving model to model/keypoint_classifier\\keypoint_classifier.hdf5\n",
      "15/15 [==============================] - 0s 10ms/step - loss: 0.3120 - accuracy: 0.8748 - val_loss: 0.1259 - val_accuracy: 0.9699\n",
      "Epoch 65/2100\n",
      " 1/15 [=>............................] - ETA: 0s - loss: 0.2375 - accuracy: 0.9141\n",
      "Epoch 65: saving model to model/keypoint_classifier\\keypoint_classifier.hdf5\n",
      "15/15 [==============================] - 0s 10ms/step - loss: 0.3074 - accuracy: 0.8843 - val_loss: 0.1272 - val_accuracy: 0.9715\n",
      "Epoch 66/2100\n",
      "14/15 [===========================>..] - ETA: 0s - loss: 0.3051 - accuracy: 0.8884\n",
      "Epoch 66: saving model to model/keypoint_classifier\\keypoint_classifier.hdf5\n",
      "15/15 [==============================] - 0s 9ms/step - loss: 0.3041 - accuracy: 0.8870 - val_loss: 0.1221 - val_accuracy: 0.9667\n",
      "Epoch 67/2100\n",
      "13/15 [=========================>....] - ETA: 0s - loss: 0.2994 - accuracy: 0.8906\n",
      "Epoch 67: saving model to model/keypoint_classifier\\keypoint_classifier.hdf5\n",
      "15/15 [==============================] - 0s 10ms/step - loss: 0.2982 - accuracy: 0.8880 - val_loss: 0.1225 - val_accuracy: 0.9461\n",
      "Epoch 68/2100\n",
      "14/15 [===========================>..] - ETA: 0s - loss: 0.2920 - accuracy: 0.8929\n",
      "Epoch 68: saving model to model/keypoint_classifier\\keypoint_classifier.hdf5\n",
      "15/15 [==============================] - 0s 10ms/step - loss: 0.2978 - accuracy: 0.8912 - val_loss: 0.1221 - val_accuracy: 0.9715\n",
      "Epoch 69/2100\n",
      " 1/15 [=>............................] - ETA: 0s - loss: 0.3303 - accuracy: 0.8750\n",
      "Epoch 69: saving model to model/keypoint_classifier\\keypoint_classifier.hdf5\n",
      "15/15 [==============================] - 0s 9ms/step - loss: 0.3093 - accuracy: 0.8885 - val_loss: 0.1169 - val_accuracy: 0.9731\n",
      "Epoch 70/2100\n",
      " 1/15 [=>............................] - ETA: 0s - loss: 0.1957 - accuracy: 0.9453\n",
      "Epoch 70: saving model to model/keypoint_classifier\\keypoint_classifier.hdf5\n",
      "15/15 [==============================] - 0s 8ms/step - loss: 0.2964 - accuracy: 0.8959 - val_loss: 0.1240 - val_accuracy: 0.9461\n",
      "Epoch 71/2100\n",
      "14/15 [===========================>..] - ETA: 0s - loss: 0.3010 - accuracy: 0.8800\n",
      "Epoch 71: saving model to model/keypoint_classifier\\keypoint_classifier.hdf5\n",
      "15/15 [==============================] - 0s 10ms/step - loss: 0.3013 - accuracy: 0.8796 - val_loss: 0.1162 - val_accuracy: 0.9746\n",
      "Epoch 72/2100\n",
      " 1/15 [=>............................] - ETA: 0s - loss: 0.2708 - accuracy: 0.8750\n",
      "Epoch 72: saving model to model/keypoint_classifier\\keypoint_classifier.hdf5\n",
      "15/15 [==============================] - 0s 9ms/step - loss: 0.2905 - accuracy: 0.8928 - val_loss: 0.1138 - val_accuracy: 0.9731\n",
      "Epoch 73/2100\n",
      " 1/15 [=>............................] - ETA: 0s - loss: 0.3142 - accuracy: 0.8516\n",
      "Epoch 73: saving model to model/keypoint_classifier\\keypoint_classifier.hdf5\n",
      "15/15 [==============================] - 0s 8ms/step - loss: 0.2873 - accuracy: 0.8906 - val_loss: 0.1159 - val_accuracy: 0.9810\n",
      "Epoch 74/2100\n",
      "15/15 [==============================] - ETA: 0s - loss: 0.2693 - accuracy: 0.9002\n",
      "Epoch 74: saving model to model/keypoint_classifier\\keypoint_classifier.hdf5\n",
      "15/15 [==============================] - 0s 9ms/step - loss: 0.2693 - accuracy: 0.9002 - val_loss: 0.1117 - val_accuracy: 0.9762\n",
      "Epoch 75/2100\n",
      " 1/15 [=>............................] - ETA: 0s - loss: 0.2803 - accuracy: 0.9062\n",
      "Epoch 75: saving model to model/keypoint_classifier\\keypoint_classifier.hdf5\n",
      "15/15 [==============================] - 0s 10ms/step - loss: 0.2989 - accuracy: 0.8843 - val_loss: 0.1115 - val_accuracy: 0.9731\n",
      "Epoch 76/2100\n",
      "15/15 [==============================] - ETA: 0s - loss: 0.2856 - accuracy: 0.8975\n",
      "Epoch 76: saving model to model/keypoint_classifier\\keypoint_classifier.hdf5\n",
      "15/15 [==============================] - 0s 9ms/step - loss: 0.2856 - accuracy: 0.8975 - val_loss: 0.1150 - val_accuracy: 0.9651\n",
      "Epoch 77/2100\n",
      "12/15 [=======================>......] - ETA: 0s - loss: 0.2913 - accuracy: 0.8978\n",
      "Epoch 77: saving model to model/keypoint_classifier\\keypoint_classifier.hdf5\n",
      "15/15 [==============================] - 0s 11ms/step - loss: 0.2872 - accuracy: 0.8996 - val_loss: 0.1110 - val_accuracy: 0.9778\n",
      "Epoch 78/2100\n",
      "14/15 [===========================>..] - ETA: 0s - loss: 0.2589 - accuracy: 0.9090\n",
      "Epoch 78: saving model to model/keypoint_classifier\\keypoint_classifier.hdf5\n",
      "15/15 [==============================] - 0s 9ms/step - loss: 0.2637 - accuracy: 0.9070 - val_loss: 0.1135 - val_accuracy: 0.9810\n",
      "Epoch 79/2100\n",
      " 1/15 [=>............................] - ETA: 0s - loss: 0.2724 - accuracy: 0.8516\n",
      "Epoch 79: saving model to model/keypoint_classifier\\keypoint_classifier.hdf5\n",
      "15/15 [==============================] - 0s 9ms/step - loss: 0.2636 - accuracy: 0.8965 - val_loss: 0.1090 - val_accuracy: 0.9778\n",
      "Epoch 80/2100\n",
      "15/15 [==============================] - ETA: 0s - loss: 0.2791 - accuracy: 0.8906\n",
      "Epoch 80: saving model to model/keypoint_classifier\\keypoint_classifier.hdf5\n",
      "15/15 [==============================] - 0s 9ms/step - loss: 0.2791 - accuracy: 0.8906 - val_loss: 0.1123 - val_accuracy: 0.9731\n",
      "Epoch 81/2100\n",
      " 1/15 [=>............................] - ETA: 0s - loss: 0.4050 - accuracy: 0.8594\n",
      "Epoch 81: saving model to model/keypoint_classifier\\keypoint_classifier.hdf5\n",
      "15/15 [==============================] - 0s 8ms/step - loss: 0.2746 - accuracy: 0.8917 - val_loss: 0.1085 - val_accuracy: 0.9683\n",
      "Epoch 82/2100\n",
      "13/15 [=========================>....] - ETA: 0s - loss: 0.2699 - accuracy: 0.8918\n",
      "Epoch 82: saving model to model/keypoint_classifier\\keypoint_classifier.hdf5\n",
      "15/15 [==============================] - 0s 12ms/step - loss: 0.2749 - accuracy: 0.8906 - val_loss: 0.1075 - val_accuracy: 0.9731\n",
      "Epoch 83/2100\n",
      "14/15 [===========================>..] - ETA: 0s - loss: 0.2629 - accuracy: 0.8934\n",
      "Epoch 83: saving model to model/keypoint_classifier\\keypoint_classifier.hdf5\n",
      "15/15 [==============================] - 0s 9ms/step - loss: 0.2588 - accuracy: 0.8965 - val_loss: 0.1072 - val_accuracy: 0.9667\n",
      "Epoch 84/2100\n"
     ]
    },
    {
     "name": "stdout",
     "output_type": "stream",
     "text": [
      " 1/15 [=>............................] - ETA: 0s - loss: 0.3189 - accuracy: 0.8516\n",
      "Epoch 84: saving model to model/keypoint_classifier\\keypoint_classifier.hdf5\n",
      "15/15 [==============================] - 0s 9ms/step - loss: 0.2807 - accuracy: 0.8896 - val_loss: 0.1067 - val_accuracy: 0.9794\n",
      "Epoch 85/2100\n",
      "12/15 [=======================>......] - ETA: 0s - loss: 0.2608 - accuracy: 0.8997\n",
      "Epoch 85: saving model to model/keypoint_classifier\\keypoint_classifier.hdf5\n",
      "15/15 [==============================] - 0s 12ms/step - loss: 0.2633 - accuracy: 0.8986 - val_loss: 0.1036 - val_accuracy: 0.9762\n",
      "Epoch 86/2100\n",
      "14/15 [===========================>..] - ETA: 0s - loss: 0.2653 - accuracy: 0.9012\n",
      "Epoch 86: saving model to model/keypoint_classifier\\keypoint_classifier.hdf5\n",
      "15/15 [==============================] - 0s 10ms/step - loss: 0.2659 - accuracy: 0.9007 - val_loss: 0.1025 - val_accuracy: 0.9731\n",
      "Epoch 87/2100\n",
      "14/15 [===========================>..] - ETA: 0s - loss: 0.2541 - accuracy: 0.8934\n",
      "Epoch 87: saving model to model/keypoint_classifier\\keypoint_classifier.hdf5\n",
      "15/15 [==============================] - 0s 13ms/step - loss: 0.2560 - accuracy: 0.8917 - val_loss: 0.1062 - val_accuracy: 0.9699\n",
      "Epoch 88/2100\n",
      "11/15 [=====================>........] - ETA: 0s - loss: 0.2678 - accuracy: 0.8970\n",
      "Epoch 88: saving model to model/keypoint_classifier\\keypoint_classifier.hdf5\n",
      "15/15 [==============================] - 0s 11ms/step - loss: 0.2607 - accuracy: 0.8943 - val_loss: 0.1019 - val_accuracy: 0.9794\n",
      "Epoch 89/2100\n",
      " 1/15 [=>............................] - ETA: 0s - loss: 0.2017 - accuracy: 0.9219\n",
      "Epoch 89: saving model to model/keypoint_classifier\\keypoint_classifier.hdf5\n",
      "15/15 [==============================] - 0s 8ms/step - loss: 0.2566 - accuracy: 0.9002 - val_loss: 0.1009 - val_accuracy: 0.9683\n",
      "Epoch 90/2100\n",
      " 1/15 [=>............................] - ETA: 0s - loss: 0.2440 - accuracy: 0.9453\n",
      "Epoch 90: saving model to model/keypoint_classifier\\keypoint_classifier.hdf5\n",
      "15/15 [==============================] - 0s 8ms/step - loss: 0.2350 - accuracy: 0.9091 - val_loss: 0.1005 - val_accuracy: 0.9667\n",
      "Epoch 91/2100\n",
      "15/15 [==============================] - ETA: 0s - loss: 0.2531 - accuracy: 0.9054\n",
      "Epoch 91: saving model to model/keypoint_classifier\\keypoint_classifier.hdf5\n",
      "15/15 [==============================] - 0s 9ms/step - loss: 0.2531 - accuracy: 0.9054 - val_loss: 0.0978 - val_accuracy: 0.9826\n",
      "Epoch 92/2100\n",
      " 1/15 [=>............................] - ETA: 0s - loss: 0.2488 - accuracy: 0.8984\n",
      "Epoch 92: saving model to model/keypoint_classifier\\keypoint_classifier.hdf5\n",
      "15/15 [==============================] - 0s 9ms/step - loss: 0.2401 - accuracy: 0.9155 - val_loss: 0.0985 - val_accuracy: 0.9842\n",
      "Epoch 93/2100\n",
      "15/15 [==============================] - ETA: 0s - loss: 0.2466 - accuracy: 0.9060\n",
      "Epoch 93: saving model to model/keypoint_classifier\\keypoint_classifier.hdf5\n",
      "15/15 [==============================] - 0s 9ms/step - loss: 0.2466 - accuracy: 0.9060 - val_loss: 0.0955 - val_accuracy: 0.9731\n",
      "Epoch 94/2100\n",
      " 1/15 [=>............................] - ETA: 0s - loss: 0.2689 - accuracy: 0.8984\n",
      "Epoch 94: saving model to model/keypoint_classifier\\keypoint_classifier.hdf5\n",
      "15/15 [==============================] - 0s 8ms/step - loss: 0.2544 - accuracy: 0.9054 - val_loss: 0.0981 - val_accuracy: 0.9731\n",
      "Epoch 95/2100\n",
      " 1/15 [=>............................] - ETA: 0s - loss: 0.3268 - accuracy: 0.8516\n",
      "Epoch 95: saving model to model/keypoint_classifier\\keypoint_classifier.hdf5\n",
      "15/15 [==============================] - 0s 10ms/step - loss: 0.2693 - accuracy: 0.8928 - val_loss: 0.1011 - val_accuracy: 0.9731\n",
      "Epoch 96/2100\n",
      "15/15 [==============================] - ETA: 0s - loss: 0.2573 - accuracy: 0.9065\n",
      "Epoch 96: saving model to model/keypoint_classifier\\keypoint_classifier.hdf5\n",
      "15/15 [==============================] - 0s 8ms/step - loss: 0.2573 - accuracy: 0.9065 - val_loss: 0.0936 - val_accuracy: 0.9826\n",
      "Epoch 97/2100\n",
      "15/15 [==============================] - ETA: 0s - loss: 0.2304 - accuracy: 0.9160\n",
      "Epoch 97: saving model to model/keypoint_classifier\\keypoint_classifier.hdf5\n",
      "15/15 [==============================] - 0s 11ms/step - loss: 0.2304 - accuracy: 0.9160 - val_loss: 0.0936 - val_accuracy: 0.9810\n",
      "Epoch 98/2100\n",
      "13/15 [=========================>....] - ETA: 0s - loss: 0.2693 - accuracy: 0.8918\n",
      "Epoch 98: saving model to model/keypoint_classifier\\keypoint_classifier.hdf5\n",
      "15/15 [==============================] - 0s 9ms/step - loss: 0.2585 - accuracy: 0.8965 - val_loss: 0.0949 - val_accuracy: 0.9651\n",
      "Epoch 99/2100\n",
      " 1/15 [=>............................] - ETA: 0s - loss: 0.1774 - accuracy: 0.9531\n",
      "Epoch 99: saving model to model/keypoint_classifier\\keypoint_classifier.hdf5\n",
      "15/15 [==============================] - 0s 12ms/step - loss: 0.2243 - accuracy: 0.9181 - val_loss: 0.0935 - val_accuracy: 0.9762\n",
      "Epoch 100/2100\n",
      " 1/15 [=>............................] - ETA: 0s - loss: 0.2238 - accuracy: 0.9141\n",
      "Epoch 100: saving model to model/keypoint_classifier\\keypoint_classifier.hdf5\n",
      "15/15 [==============================] - 0s 9ms/step - loss: 0.2432 - accuracy: 0.9033 - val_loss: 0.0886 - val_accuracy: 0.9810\n",
      "Epoch 101/2100\n",
      "14/15 [===========================>..] - ETA: 0s - loss: 0.2354 - accuracy: 0.9152\n",
      "Epoch 101: saving model to model/keypoint_classifier\\keypoint_classifier.hdf5\n",
      "15/15 [==============================] - 0s 10ms/step - loss: 0.2333 - accuracy: 0.9171 - val_loss: 0.0906 - val_accuracy: 0.9826\n",
      "Epoch 102/2100\n",
      "13/15 [=========================>....] - ETA: 0s - loss: 0.2438 - accuracy: 0.9044\n",
      "Epoch 102: saving model to model/keypoint_classifier\\keypoint_classifier.hdf5\n",
      "15/15 [==============================] - 0s 11ms/step - loss: 0.2476 - accuracy: 0.9028 - val_loss: 0.0917 - val_accuracy: 0.9699\n",
      "Epoch 103/2100\n",
      "14/15 [===========================>..] - ETA: 0s - loss: 0.2376 - accuracy: 0.9129\n",
      "Epoch 103: saving model to model/keypoint_classifier\\keypoint_classifier.hdf5\n",
      "15/15 [==============================] - 0s 9ms/step - loss: 0.2363 - accuracy: 0.9123 - val_loss: 0.0878 - val_accuracy: 0.9810\n",
      "Epoch 104/2100\n",
      "15/15 [==============================] - ETA: 0s - loss: 0.2341 - accuracy: 0.9134\n",
      "Epoch 104: saving model to model/keypoint_classifier\\keypoint_classifier.hdf5\n",
      "15/15 [==============================] - 0s 10ms/step - loss: 0.2341 - accuracy: 0.9134 - val_loss: 0.0941 - val_accuracy: 0.9842\n",
      "Epoch 105/2100\n",
      "13/15 [=========================>....] - ETA: 0s - loss: 0.2283 - accuracy: 0.9105\n",
      "Epoch 105: saving model to model/keypoint_classifier\\keypoint_classifier.hdf5\n",
      "15/15 [==============================] - 0s 11ms/step - loss: 0.2362 - accuracy: 0.9097 - val_loss: 0.0883 - val_accuracy: 0.9810\n",
      "Epoch 106/2100\n",
      "14/15 [===========================>..] - ETA: 0s - loss: 0.2386 - accuracy: 0.9124\n",
      "Epoch 106: saving model to model/keypoint_classifier\\keypoint_classifier.hdf5\n",
      "15/15 [==============================] - 0s 13ms/step - loss: 0.2379 - accuracy: 0.9128 - val_loss: 0.0939 - val_accuracy: 0.9699\n",
      "Epoch 107/2100\n",
      "15/15 [==============================] - ETA: 0s - loss: 0.2233 - accuracy: 0.9134\n",
      "Epoch 107: saving model to model/keypoint_classifier\\keypoint_classifier.hdf5\n",
      "15/15 [==============================] - 0s 12ms/step - loss: 0.2233 - accuracy: 0.9134 - val_loss: 0.0873 - val_accuracy: 0.9746\n",
      "Epoch 108/2100\n",
      " 1/15 [=>............................] - ETA: 0s - loss: 0.2284 - accuracy: 0.9141\n",
      "Epoch 108: saving model to model/keypoint_classifier\\keypoint_classifier.hdf5\n",
      "15/15 [==============================] - 0s 10ms/step - loss: 0.2424 - accuracy: 0.9070 - val_loss: 0.0926 - val_accuracy: 0.9715\n",
      "Epoch 109/2100\n",
      " 1/15 [=>............................] - ETA: 0s - loss: 0.1983 - accuracy: 0.9375\n",
      "Epoch 109: saving model to model/keypoint_classifier\\keypoint_classifier.hdf5\n",
      "15/15 [==============================] - 0s 8ms/step - loss: 0.2401 - accuracy: 0.9097 - val_loss: 0.0879 - val_accuracy: 0.9810\n",
      "Epoch 110/2100\n",
      " 1/15 [=>............................] - ETA: 0s - loss: 0.2239 - accuracy: 0.9219\n",
      "Epoch 110: saving model to model/keypoint_classifier\\keypoint_classifier.hdf5\n",
      "15/15 [==============================] - 0s 9ms/step - loss: 0.2382 - accuracy: 0.9176 - val_loss: 0.0885 - val_accuracy: 0.9826\n"
     ]
    },
    {
     "name": "stdout",
     "output_type": "stream",
     "text": [
      "Epoch 111/2100\n",
      " 1/15 [=>............................] - ETA: 0s - loss: 0.2570 - accuracy: 0.9219\n",
      "Epoch 111: saving model to model/keypoint_classifier\\keypoint_classifier.hdf5\n",
      "15/15 [==============================] - 0s 9ms/step - loss: 0.2480 - accuracy: 0.9049 - val_loss: 0.0942 - val_accuracy: 0.9635\n",
      "Epoch 112/2100\n",
      "15/15 [==============================] - ETA: 0s - loss: 0.2266 - accuracy: 0.9165\n",
      "Epoch 112: saving model to model/keypoint_classifier\\keypoint_classifier.hdf5\n",
      "15/15 [==============================] - 0s 11ms/step - loss: 0.2266 - accuracy: 0.9165 - val_loss: 0.0834 - val_accuracy: 0.9794\n",
      "Epoch 113/2100\n",
      "15/15 [==============================] - ETA: 0s - loss: 0.2309 - accuracy: 0.9113\n",
      "Epoch 113: saving model to model/keypoint_classifier\\keypoint_classifier.hdf5\n",
      "15/15 [==============================] - 0s 9ms/step - loss: 0.2309 - accuracy: 0.9113 - val_loss: 0.0851 - val_accuracy: 0.9842\n",
      "Epoch 114/2100\n",
      " 1/15 [=>............................] - ETA: 0s - loss: 0.1683 - accuracy: 0.9375\n",
      "Epoch 114: saving model to model/keypoint_classifier\\keypoint_classifier.hdf5\n",
      "15/15 [==============================] - 0s 7ms/step - loss: 0.2264 - accuracy: 0.9091 - val_loss: 0.0856 - val_accuracy: 0.9810\n",
      "Epoch 115/2100\n",
      " 1/15 [=>............................] - ETA: 0s - loss: 0.2047 - accuracy: 0.9219\n",
      "Epoch 115: saving model to model/keypoint_classifier\\keypoint_classifier.hdf5\n",
      "15/15 [==============================] - 0s 10ms/step - loss: 0.2352 - accuracy: 0.9118 - val_loss: 0.0827 - val_accuracy: 0.9778\n",
      "Epoch 116/2100\n",
      " 1/15 [=>............................] - ETA: 0s - loss: 0.1852 - accuracy: 0.9297\n",
      "Epoch 116: saving model to model/keypoint_classifier\\keypoint_classifier.hdf5\n",
      "15/15 [==============================] - 0s 9ms/step - loss: 0.2357 - accuracy: 0.9060 - val_loss: 0.0884 - val_accuracy: 0.9794\n",
      "Epoch 117/2100\n",
      " 1/15 [=>............................] - ETA: 0s - loss: 0.1520 - accuracy: 0.9375\n",
      "Epoch 117: saving model to model/keypoint_classifier\\keypoint_classifier.hdf5\n",
      "15/15 [==============================] - 0s 11ms/step - loss: 0.2092 - accuracy: 0.9149 - val_loss: 0.0836 - val_accuracy: 0.9842\n",
      "Epoch 118/2100\n",
      "15/15 [==============================] - ETA: 0s - loss: 0.2304 - accuracy: 0.9144\n",
      "Epoch 118: saving model to model/keypoint_classifier\\keypoint_classifier.hdf5\n",
      "15/15 [==============================] - 0s 9ms/step - loss: 0.2304 - accuracy: 0.9144 - val_loss: 0.0850 - val_accuracy: 0.9857\n",
      "Epoch 119/2100\n",
      " 1/15 [=>............................] - ETA: 0s - loss: 0.2032 - accuracy: 0.9219\n",
      "Epoch 119: saving model to model/keypoint_classifier\\keypoint_classifier.hdf5\n",
      "15/15 [==============================] - 0s 10ms/step - loss: 0.2291 - accuracy: 0.9134 - val_loss: 0.0813 - val_accuracy: 0.9794\n",
      "Epoch 120/2100\n",
      "14/15 [===========================>..] - ETA: 0s - loss: 0.2240 - accuracy: 0.9180\n",
      "Epoch 120: saving model to model/keypoint_classifier\\keypoint_classifier.hdf5\n",
      "15/15 [==============================] - 0s 11ms/step - loss: 0.2214 - accuracy: 0.9192 - val_loss: 0.0818 - val_accuracy: 0.9842\n",
      "Epoch 121/2100\n",
      " 9/15 [=================>............] - ETA: 0s - loss: 0.2133 - accuracy: 0.9227\n",
      "Epoch 121: saving model to model/keypoint_classifier\\keypoint_classifier.hdf5\n",
      "15/15 [==============================] - 0s 16ms/step - loss: 0.2051 - accuracy: 0.9266 - val_loss: 0.0786 - val_accuracy: 0.9873\n",
      "Epoch 122/2100\n",
      "10/15 [===================>..........] - ETA: 0s - loss: 0.2102 - accuracy: 0.9203\n",
      "Epoch 122: saving model to model/keypoint_classifier\\keypoint_classifier.hdf5\n",
      "15/15 [==============================] - 0s 15ms/step - loss: 0.2272 - accuracy: 0.9160 - val_loss: 0.0812 - val_accuracy: 0.9842\n",
      "Epoch 123/2100\n",
      "10/15 [===================>..........] - ETA: 0s - loss: 0.2220 - accuracy: 0.9172\n",
      "Epoch 123: saving model to model/keypoint_classifier\\keypoint_classifier.hdf5\n",
      "15/15 [==============================] - 0s 15ms/step - loss: 0.2148 - accuracy: 0.9192 - val_loss: 0.0801 - val_accuracy: 0.9873\n",
      "Epoch 124/2100\n",
      " 9/15 [=================>............] - ETA: 0s - loss: 0.2316 - accuracy: 0.9227\n",
      "Epoch 124: saving model to model/keypoint_classifier\\keypoint_classifier.hdf5\n",
      "15/15 [==============================] - 0s 17ms/step - loss: 0.2273 - accuracy: 0.9181 - val_loss: 0.0813 - val_accuracy: 0.9842\n",
      "Epoch 125/2100\n",
      "10/15 [===================>..........] - ETA: 0s - loss: 0.2299 - accuracy: 0.9109\n",
      "Epoch 125: saving model to model/keypoint_classifier\\keypoint_classifier.hdf5\n",
      "15/15 [==============================] - 0s 16ms/step - loss: 0.2315 - accuracy: 0.9102 - val_loss: 0.0801 - val_accuracy: 0.9778\n",
      "Epoch 126/2100\n",
      "10/15 [===================>..........] - ETA: 0s - loss: 0.2300 - accuracy: 0.9156\n",
      "Epoch 126: saving model to model/keypoint_classifier\\keypoint_classifier.hdf5\n",
      "15/15 [==============================] - 0s 17ms/step - loss: 0.2253 - accuracy: 0.9149 - val_loss: 0.0773 - val_accuracy: 0.9842\n",
      "Epoch 127/2100\n",
      " 6/15 [===========>..................] - ETA: 0s - loss: 0.1969 - accuracy: 0.9219\n",
      "Epoch 127: saving model to model/keypoint_classifier\\keypoint_classifier.hdf5\n",
      "15/15 [==============================] - 0s 16ms/step - loss: 0.2123 - accuracy: 0.9192 - val_loss: 0.0789 - val_accuracy: 0.9889\n",
      "Epoch 128/2100\n",
      " 8/15 [===============>..............] - ETA: 0s - loss: 0.2048 - accuracy: 0.9268\n",
      "Epoch 128: saving model to model/keypoint_classifier\\keypoint_classifier.hdf5\n",
      "15/15 [==============================] - 0s 16ms/step - loss: 0.2240 - accuracy: 0.9197 - val_loss: 0.0822 - val_accuracy: 0.9842\n",
      "Epoch 129/2100\n",
      "12/15 [=======================>......] - ETA: 0s - loss: 0.2050 - accuracy: 0.9303\n",
      "Epoch 129: saving model to model/keypoint_classifier\\keypoint_classifier.hdf5\n",
      "15/15 [==============================] - 0s 13ms/step - loss: 0.2049 - accuracy: 0.9308 - val_loss: 0.0770 - val_accuracy: 0.9778\n",
      "Epoch 130/2100\n",
      "14/15 [===========================>..] - ETA: 0s - loss: 0.2222 - accuracy: 0.9090\n",
      "Epoch 130: saving model to model/keypoint_classifier\\keypoint_classifier.hdf5\n",
      "15/15 [==============================] - 0s 12ms/step - loss: 0.2176 - accuracy: 0.9128 - val_loss: 0.0784 - val_accuracy: 0.9873\n",
      "Epoch 131/2100\n",
      " 9/15 [=================>............] - ETA: 0s - loss: 0.1997 - accuracy: 0.9236\n",
      "Epoch 131: saving model to model/keypoint_classifier\\keypoint_classifier.hdf5\n",
      "15/15 [==============================] - 0s 16ms/step - loss: 0.2025 - accuracy: 0.9234 - val_loss: 0.0770 - val_accuracy: 0.9873\n",
      "Epoch 132/2100\n",
      "10/15 [===================>..........] - ETA: 0s - loss: 0.1951 - accuracy: 0.9250\n",
      "Epoch 132: saving model to model/keypoint_classifier\\keypoint_classifier.hdf5\n",
      "15/15 [==============================] - 0s 15ms/step - loss: 0.2059 - accuracy: 0.9197 - val_loss: 0.0795 - val_accuracy: 0.9715\n",
      "Epoch 133/2100\n",
      " 9/15 [=================>............] - ETA: 0s - loss: 0.2254 - accuracy: 0.9175\n",
      "Epoch 133: saving model to model/keypoint_classifier\\keypoint_classifier.hdf5\n",
      "15/15 [==============================] - 0s 17ms/step - loss: 0.2141 - accuracy: 0.9266 - val_loss: 0.0786 - val_accuracy: 0.9857\n",
      "Epoch 134/2100\n",
      " 9/15 [=================>............] - ETA: 0s - loss: 0.1937 - accuracy: 0.9219\n",
      "Epoch 134: saving model to model/keypoint_classifier\\keypoint_classifier.hdf5\n",
      "15/15 [==============================] - 0s 17ms/step - loss: 0.1957 - accuracy: 0.9208 - val_loss: 0.0726 - val_accuracy: 0.9889\n",
      "Epoch 135/2100\n",
      "10/15 [===================>..........] - ETA: 0s - loss: 0.2034 - accuracy: 0.9211\n",
      "Epoch 135: saving model to model/keypoint_classifier\\keypoint_classifier.hdf5\n",
      "15/15 [==============================] - 0s 16ms/step - loss: 0.1919 - accuracy: 0.9266 - val_loss: 0.0758 - val_accuracy: 0.9778\n",
      "Epoch 136/2100\n",
      "14/15 [===========================>..] - ETA: 0s - loss: 0.2084 - accuracy: 0.9213\n",
      "Epoch 136: saving model to model/keypoint_classifier\\keypoint_classifier.hdf5\n",
      "15/15 [==============================] - 0s 11ms/step - loss: 0.2114 - accuracy: 0.9197 - val_loss: 0.0770 - val_accuracy: 0.9746\n",
      "Epoch 137/2100\n",
      "11/15 [=====================>........] - ETA: 0s - loss: 0.2137 - accuracy: 0.9112\n",
      "Epoch 137: saving model to model/keypoint_classifier\\keypoint_classifier.hdf5\n",
      "15/15 [==============================] - 0s 12ms/step - loss: 0.2154 - accuracy: 0.9165 - val_loss: 0.0768 - val_accuracy: 0.9842\n"
     ]
    },
    {
     "name": "stdout",
     "output_type": "stream",
     "text": [
      "Epoch 138/2100\n",
      " 1/15 [=>............................] - ETA: 0s - loss: 0.2499 - accuracy: 0.9062\n",
      "Epoch 138: saving model to model/keypoint_classifier\\keypoint_classifier.hdf5\n",
      "15/15 [==============================] - 0s 10ms/step - loss: 0.1934 - accuracy: 0.9276 - val_loss: 0.0739 - val_accuracy: 0.9873\n",
      "Epoch 139/2100\n",
      "10/15 [===================>..........] - ETA: 0s - loss: 0.2352 - accuracy: 0.9141\n",
      "Epoch 139: saving model to model/keypoint_classifier\\keypoint_classifier.hdf5\n",
      "15/15 [==============================] - 0s 15ms/step - loss: 0.2173 - accuracy: 0.9197 - val_loss: 0.0729 - val_accuracy: 0.9778\n",
      "Epoch 140/2100\n",
      " 9/15 [=================>............] - ETA: 0s - loss: 0.2209 - accuracy: 0.9227\n",
      "Epoch 140: saving model to model/keypoint_classifier\\keypoint_classifier.hdf5\n",
      "15/15 [==============================] - 0s 15ms/step - loss: 0.2119 - accuracy: 0.9239 - val_loss: 0.0680 - val_accuracy: 0.9873\n",
      "Epoch 141/2100\n",
      "13/15 [=========================>....] - ETA: 0s - loss: 0.2043 - accuracy: 0.9141\n",
      "Epoch 141: saving model to model/keypoint_classifier\\keypoint_classifier.hdf5\n",
      "15/15 [==============================] - 0s 11ms/step - loss: 0.2025 - accuracy: 0.9160 - val_loss: 0.0727 - val_accuracy: 0.9778\n",
      "Epoch 142/2100\n",
      "11/15 [=====================>........] - ETA: 0s - loss: 0.2058 - accuracy: 0.9240\n",
      "Epoch 142: saving model to model/keypoint_classifier\\keypoint_classifier.hdf5\n",
      "15/15 [==============================] - 0s 13ms/step - loss: 0.1979 - accuracy: 0.9250 - val_loss: 0.0704 - val_accuracy: 0.9889\n",
      "Epoch 143/2100\n",
      " 1/15 [=>............................] - ETA: 0s - loss: 0.1606 - accuracy: 0.9297\n",
      "Epoch 143: saving model to model/keypoint_classifier\\keypoint_classifier.hdf5\n",
      "15/15 [==============================] - 0s 11ms/step - loss: 0.1888 - accuracy: 0.9255 - val_loss: 0.0680 - val_accuracy: 0.9889\n",
      "Epoch 144/2100\n",
      "15/15 [==============================] - ETA: 0s - loss: 0.1949 - accuracy: 0.9282\n",
      "Epoch 144: saving model to model/keypoint_classifier\\keypoint_classifier.hdf5\n",
      "15/15 [==============================] - 0s 13ms/step - loss: 0.1949 - accuracy: 0.9282 - val_loss: 0.0678 - val_accuracy: 0.9873\n",
      "Epoch 145/2100\n",
      "11/15 [=====================>........] - ETA: 0s - loss: 0.1990 - accuracy: 0.9169\n",
      "Epoch 145: saving model to model/keypoint_classifier\\keypoint_classifier.hdf5\n",
      "15/15 [==============================] - 0s 9ms/step - loss: 0.1961 - accuracy: 0.9202 - val_loss: 0.0691 - val_accuracy: 0.9889\n",
      "Epoch 146/2100\n",
      "15/15 [==============================] - ETA: 0s - loss: 0.1946 - accuracy: 0.9356\n",
      "Epoch 146: saving model to model/keypoint_classifier\\keypoint_classifier.hdf5\n",
      "15/15 [==============================] - 0s 13ms/step - loss: 0.1946 - accuracy: 0.9356 - val_loss: 0.0750 - val_accuracy: 0.9762\n",
      "Epoch 147/2100\n",
      " 9/15 [=================>............] - ETA: 0s - loss: 0.2187 - accuracy: 0.9184\n",
      "Epoch 147: saving model to model/keypoint_classifier\\keypoint_classifier.hdf5\n",
      "15/15 [==============================] - 0s 13ms/step - loss: 0.2103 - accuracy: 0.9229 - val_loss: 0.0741 - val_accuracy: 0.9873\n",
      "Epoch 148/2100\n",
      " 1/15 [=>............................] - ETA: 0s - loss: 0.2091 - accuracy: 0.9141\n",
      "Epoch 148: saving model to model/keypoint_classifier\\keypoint_classifier.hdf5\n",
      "15/15 [==============================] - 0s 8ms/step - loss: 0.2065 - accuracy: 0.9229 - val_loss: 0.0687 - val_accuracy: 0.9905\n",
      "Epoch 149/2100\n",
      " 1/15 [=>............................] - ETA: 0s - loss: 0.2062 - accuracy: 0.9453\n",
      "Epoch 149: saving model to model/keypoint_classifier\\keypoint_classifier.hdf5\n",
      "15/15 [==============================] - 0s 7ms/step - loss: 0.2032 - accuracy: 0.9255 - val_loss: 0.0700 - val_accuracy: 0.9842\n",
      "Epoch 150/2100\n",
      " 1/15 [=>............................] - ETA: 0s - loss: 0.1742 - accuracy: 0.9375\n",
      "Epoch 150: saving model to model/keypoint_classifier\\keypoint_classifier.hdf5\n",
      "15/15 [==============================] - 0s 8ms/step - loss: 0.1883 - accuracy: 0.9329 - val_loss: 0.0675 - val_accuracy: 0.9794\n",
      "Epoch 151/2100\n",
      "14/15 [===========================>..] - ETA: 0s - loss: 0.2035 - accuracy: 0.9174\n",
      "Epoch 151: saving model to model/keypoint_classifier\\keypoint_classifier.hdf5\n",
      "15/15 [==============================] - 0s 11ms/step - loss: 0.2002 - accuracy: 0.9192 - val_loss: 0.0684 - val_accuracy: 0.9842\n",
      "Epoch 152/2100\n",
      " 9/15 [=================>............] - ETA: 0s - loss: 0.2082 - accuracy: 0.9306\n",
      "Epoch 152: saving model to model/keypoint_classifier\\keypoint_classifier.hdf5\n",
      "15/15 [==============================] - 0s 14ms/step - loss: 0.2037 - accuracy: 0.9255 - val_loss: 0.0762 - val_accuracy: 0.9746\n",
      "Epoch 153/2100\n",
      "14/15 [===========================>..] - ETA: 0s - loss: 0.1881 - accuracy: 0.9247\n",
      "Epoch 153: saving model to model/keypoint_classifier\\keypoint_classifier.hdf5\n",
      "15/15 [==============================] - 0s 12ms/step - loss: 0.1901 - accuracy: 0.9234 - val_loss: 0.0701 - val_accuracy: 0.9778\n",
      "Epoch 154/2100\n",
      "13/15 [=========================>....] - ETA: 0s - loss: 0.2071 - accuracy: 0.9243\n",
      "Epoch 154: saving model to model/keypoint_classifier\\keypoint_classifier.hdf5\n",
      "15/15 [==============================] - 0s 12ms/step - loss: 0.2056 - accuracy: 0.9239 - val_loss: 0.0730 - val_accuracy: 0.9873\n",
      "Epoch 155/2100\n",
      "13/15 [=========================>....] - ETA: 0s - loss: 0.1994 - accuracy: 0.9297\n",
      "Epoch 155: saving model to model/keypoint_classifier\\keypoint_classifier.hdf5\n",
      "15/15 [==============================] - 0s 10ms/step - loss: 0.2084 - accuracy: 0.9229 - val_loss: 0.0700 - val_accuracy: 0.9889\n",
      "Epoch 156/2100\n",
      " 1/15 [=>............................] - ETA: 0s - loss: 0.2781 - accuracy: 0.8828\n",
      "Epoch 156: saving model to model/keypoint_classifier\\keypoint_classifier.hdf5\n",
      "15/15 [==============================] - 0s 11ms/step - loss: 0.2019 - accuracy: 0.9202 - val_loss: 0.0690 - val_accuracy: 0.9873\n",
      "Epoch 157/2100\n",
      " 1/15 [=>............................] - ETA: 0s - loss: 0.1819 - accuracy: 0.9141\n",
      "Epoch 157: saving model to model/keypoint_classifier\\keypoint_classifier.hdf5\n",
      "15/15 [==============================] - 0s 9ms/step - loss: 0.1996 - accuracy: 0.9276 - val_loss: 0.0705 - val_accuracy: 0.9873\n",
      "Epoch 158/2100\n",
      " 1/15 [=>............................] - ETA: 0s - loss: 0.1890 - accuracy: 0.9297\n",
      "Epoch 158: saving model to model/keypoint_classifier\\keypoint_classifier.hdf5\n",
      "15/15 [==============================] - 0s 9ms/step - loss: 0.1890 - accuracy: 0.9276 - val_loss: 0.0697 - val_accuracy: 0.9810\n",
      "Epoch 159/2100\n",
      " 1/15 [=>............................] - ETA: 0s - loss: 0.1551 - accuracy: 0.9375\n",
      "Epoch 159: saving model to model/keypoint_classifier\\keypoint_classifier.hdf5\n",
      "15/15 [==============================] - 0s 7ms/step - loss: 0.2137 - accuracy: 0.9186 - val_loss: 0.0753 - val_accuracy: 0.9778\n",
      "Epoch 160/2100\n",
      " 1/15 [=>............................] - ETA: 0s - loss: 0.2901 - accuracy: 0.8828\n",
      "Epoch 160: saving model to model/keypoint_classifier\\keypoint_classifier.hdf5\n",
      "15/15 [==============================] - 0s 7ms/step - loss: 0.1950 - accuracy: 0.9282 - val_loss: 0.0713 - val_accuracy: 0.9905\n",
      "Epoch 161/2100\n",
      " 1/15 [=>............................] - ETA: 0s - loss: 0.1397 - accuracy: 0.9531\n",
      "Epoch 161: saving model to model/keypoint_classifier\\keypoint_classifier.hdf5\n",
      "15/15 [==============================] - 0s 7ms/step - loss: 0.1904 - accuracy: 0.9260 - val_loss: 0.0686 - val_accuracy: 0.9762\n",
      "Epoch 162/2100\n",
      " 1/15 [=>............................] - ETA: 0s - loss: 0.1468 - accuracy: 0.9375\n",
      "Epoch 162: saving model to model/keypoint_classifier\\keypoint_classifier.hdf5\n",
      "15/15 [==============================] - 0s 7ms/step - loss: 0.2078 - accuracy: 0.9197 - val_loss: 0.0696 - val_accuracy: 0.9921\n",
      "Epoch 163/2100\n",
      " 1/15 [=>............................] - ETA: 0s - loss: 0.1905 - accuracy: 0.9062\n",
      "Epoch 163: saving model to model/keypoint_classifier\\keypoint_classifier.hdf5\n",
      "15/15 [==============================] - 0s 8ms/step - loss: 0.1909 - accuracy: 0.9334 - val_loss: 0.0667 - val_accuracy: 0.9889\n",
      "Epoch 164/2100\n",
      " 1/15 [=>............................] - ETA: 0s - loss: 0.2217 - accuracy: 0.9141\n",
      "Epoch 164: saving model to model/keypoint_classifier\\keypoint_classifier.hdf5\n",
      "15/15 [==============================] - 0s 9ms/step - loss: 0.1981 - accuracy: 0.9234 - val_loss: 0.0728 - val_accuracy: 0.9873\n"
     ]
    },
    {
     "name": "stdout",
     "output_type": "stream",
     "text": [
      "Epoch 165/2100\n",
      "13/15 [=========================>....] - ETA: 0s - loss: 0.1896 - accuracy: 0.9303\n",
      "Epoch 165: saving model to model/keypoint_classifier\\keypoint_classifier.hdf5\n",
      "15/15 [==============================] - 0s 13ms/step - loss: 0.1909 - accuracy: 0.9297 - val_loss: 0.0667 - val_accuracy: 0.9905\n",
      "Epoch 166/2100\n",
      "11/15 [=====================>........] - ETA: 0s - loss: 0.1970 - accuracy: 0.9226\n",
      "Epoch 166: saving model to model/keypoint_classifier\\keypoint_classifier.hdf5\n",
      "15/15 [==============================] - 0s 10ms/step - loss: 0.1950 - accuracy: 0.9229 - val_loss: 0.0678 - val_accuracy: 0.9937\n",
      "Epoch 167/2100\n",
      "15/15 [==============================] - ETA: 0s - loss: 0.1992 - accuracy: 0.9234\n",
      "Epoch 167: saving model to model/keypoint_classifier\\keypoint_classifier.hdf5\n",
      "15/15 [==============================] - 0s 9ms/step - loss: 0.1992 - accuracy: 0.9234 - val_loss: 0.0691 - val_accuracy: 0.9905\n",
      "Epoch 168/2100\n",
      "15/15 [==============================] - ETA: 0s - loss: 0.1853 - accuracy: 0.9297\n",
      "Epoch 168: saving model to model/keypoint_classifier\\keypoint_classifier.hdf5\n",
      "15/15 [==============================] - 0s 9ms/step - loss: 0.1853 - accuracy: 0.9297 - val_loss: 0.0677 - val_accuracy: 0.9889\n",
      "Epoch 169/2100\n",
      " 1/15 [=>............................] - ETA: 0s - loss: 0.2095 - accuracy: 0.9141\n",
      "Epoch 169: saving model to model/keypoint_classifier\\keypoint_classifier.hdf5\n",
      "15/15 [==============================] - 0s 7ms/step - loss: 0.1794 - accuracy: 0.9340 - val_loss: 0.0632 - val_accuracy: 0.9905\n",
      "Epoch 170/2100\n",
      " 1/15 [=>............................] - ETA: 0s - loss: 0.1516 - accuracy: 0.9453\n",
      "Epoch 170: saving model to model/keypoint_classifier\\keypoint_classifier.hdf5\n",
      "15/15 [==============================] - 0s 7ms/step - loss: 0.1859 - accuracy: 0.9287 - val_loss: 0.0641 - val_accuracy: 0.9873\n",
      "Epoch 171/2100\n",
      " 1/15 [=>............................] - ETA: 0s - loss: 0.1671 - accuracy: 0.9219\n",
      "Epoch 171: saving model to model/keypoint_classifier\\keypoint_classifier.hdf5\n",
      "15/15 [==============================] - 0s 9ms/step - loss: 0.1881 - accuracy: 0.9287 - val_loss: 0.0631 - val_accuracy: 0.9905\n",
      "Epoch 172/2100\n",
      "12/15 [=======================>......] - ETA: 0s - loss: 0.1786 - accuracy: 0.9310\n",
      "Epoch 172: saving model to model/keypoint_classifier\\keypoint_classifier.hdf5\n",
      "15/15 [==============================] - 0s 12ms/step - loss: 0.1819 - accuracy: 0.9356 - val_loss: 0.0686 - val_accuracy: 0.9842\n",
      "Epoch 173/2100\n",
      " 1/15 [=>............................] - ETA: 0s - loss: 0.1008 - accuracy: 0.9688\n",
      "Epoch 173: saving model to model/keypoint_classifier\\keypoint_classifier.hdf5\n",
      "15/15 [==============================] - 0s 7ms/step - loss: 0.1828 - accuracy: 0.9345 - val_loss: 0.0689 - val_accuracy: 0.9889\n",
      "Epoch 174/2100\n",
      " 1/15 [=>............................] - ETA: 0s - loss: 0.1185 - accuracy: 0.9688\n",
      "Epoch 174: saving model to model/keypoint_classifier\\keypoint_classifier.hdf5\n",
      "15/15 [==============================] - 0s 7ms/step - loss: 0.1910 - accuracy: 0.9282 - val_loss: 0.0686 - val_accuracy: 0.9905\n",
      "Epoch 175/2100\n",
      " 1/15 [=>............................] - ETA: 0s - loss: 0.2135 - accuracy: 0.9375\n",
      "Epoch 175: saving model to model/keypoint_classifier\\keypoint_classifier.hdf5\n",
      "15/15 [==============================] - 0s 8ms/step - loss: 0.2102 - accuracy: 0.9234 - val_loss: 0.0643 - val_accuracy: 0.9905\n",
      "Epoch 176/2100\n",
      " 1/15 [=>............................] - ETA: 0s - loss: 0.2182 - accuracy: 0.9219\n",
      "Epoch 176: saving model to model/keypoint_classifier\\keypoint_classifier.hdf5\n",
      "15/15 [==============================] - 0s 8ms/step - loss: 0.1890 - accuracy: 0.9276 - val_loss: 0.0645 - val_accuracy: 0.9873\n",
      "Epoch 177/2100\n",
      " 1/15 [=>............................] - ETA: 0s - loss: 0.2214 - accuracy: 0.9062\n",
      "Epoch 177: saving model to model/keypoint_classifier\\keypoint_classifier.hdf5\n",
      "15/15 [==============================] - 0s 8ms/step - loss: 0.1983 - accuracy: 0.9245 - val_loss: 0.0654 - val_accuracy: 0.9857\n",
      "Epoch 178/2100\n",
      " 1/15 [=>............................] - ETA: 0s - loss: 0.1861 - accuracy: 0.9453\n",
      "Epoch 178: saving model to model/keypoint_classifier\\keypoint_classifier.hdf5\n",
      "15/15 [==============================] - 0s 8ms/step - loss: 0.1744 - accuracy: 0.9398 - val_loss: 0.0634 - val_accuracy: 0.9905\n",
      "Epoch 179/2100\n",
      "15/15 [==============================] - ETA: 0s - loss: 0.1928 - accuracy: 0.9250\n",
      "Epoch 179: saving model to model/keypoint_classifier\\keypoint_classifier.hdf5\n",
      "15/15 [==============================] - 0s 9ms/step - loss: 0.1928 - accuracy: 0.9250 - val_loss: 0.0656 - val_accuracy: 0.9889\n",
      "Epoch 180/2100\n",
      " 1/15 [=>............................] - ETA: 0s - loss: 0.1401 - accuracy: 0.9531\n",
      "Epoch 180: saving model to model/keypoint_classifier\\keypoint_classifier.hdf5\n",
      "15/15 [==============================] - 0s 8ms/step - loss: 0.1749 - accuracy: 0.9371 - val_loss: 0.0639 - val_accuracy: 0.9921\n",
      "Epoch 181/2100\n",
      "11/15 [=====================>........] - ETA: 0s - loss: 0.1842 - accuracy: 0.9311\n",
      "Epoch 181: saving model to model/keypoint_classifier\\keypoint_classifier.hdf5\n",
      "15/15 [==============================] - 0s 10ms/step - loss: 0.1800 - accuracy: 0.9345 - val_loss: 0.0683 - val_accuracy: 0.9778\n",
      "Epoch 182/2100\n",
      " 1/15 [=>............................] - ETA: 0s - loss: 0.1731 - accuracy: 0.9219\n",
      "Epoch 182: saving model to model/keypoint_classifier\\keypoint_classifier.hdf5\n",
      "15/15 [==============================] - 0s 7ms/step - loss: 0.1928 - accuracy: 0.9245 - val_loss: 0.0668 - val_accuracy: 0.9857\n",
      "Epoch 183/2100\n",
      " 1/15 [=>............................] - ETA: 0s - loss: 0.2838 - accuracy: 0.9062\n",
      "Epoch 183: saving model to model/keypoint_classifier\\keypoint_classifier.hdf5\n",
      "15/15 [==============================] - 0s 8ms/step - loss: 0.1743 - accuracy: 0.9403 - val_loss: 0.0622 - val_accuracy: 0.9937\n",
      "Epoch 184/2100\n",
      " 1/15 [=>............................] - ETA: 0s - loss: 0.1938 - accuracy: 0.9297\n",
      "Epoch 184: saving model to model/keypoint_classifier\\keypoint_classifier.hdf5\n",
      "15/15 [==============================] - 0s 8ms/step - loss: 0.1746 - accuracy: 0.9361 - val_loss: 0.0641 - val_accuracy: 0.9905\n",
      "Epoch 185/2100\n",
      " 1/15 [=>............................] - ETA: 0s - loss: 0.2347 - accuracy: 0.9219\n",
      "Epoch 185: saving model to model/keypoint_classifier\\keypoint_classifier.hdf5\n",
      "15/15 [==============================] - 0s 8ms/step - loss: 0.1814 - accuracy: 0.9366 - val_loss: 0.0624 - val_accuracy: 0.9937\n",
      "Epoch 186/2100\n",
      " 1/15 [=>............................] - ETA: 0s - loss: 0.1743 - accuracy: 0.9297\n",
      "Epoch 186: saving model to model/keypoint_classifier\\keypoint_classifier.hdf5\n",
      "15/15 [==============================] - 0s 8ms/step - loss: 0.1753 - accuracy: 0.9366 - val_loss: 0.0647 - val_accuracy: 0.9857\n",
      "Epoch 187/2100\n",
      " 1/15 [=>............................] - ETA: 0s - loss: 0.1882 - accuracy: 0.9375\n",
      "Epoch 187: saving model to model/keypoint_classifier\\keypoint_classifier.hdf5\n",
      "15/15 [==============================] - 0s 7ms/step - loss: 0.1787 - accuracy: 0.9324 - val_loss: 0.0646 - val_accuracy: 0.9905\n",
      "Epoch 188/2100\n",
      " 1/15 [=>............................] - ETA: 0s - loss: 0.1730 - accuracy: 0.9219\n",
      "Epoch 188: saving model to model/keypoint_classifier\\keypoint_classifier.hdf5\n",
      "15/15 [==============================] - 0s 9ms/step - loss: 0.2159 - accuracy: 0.9223 - val_loss: 0.0613 - val_accuracy: 0.9905\n",
      "Epoch 189/2100\n",
      "14/15 [===========================>..] - ETA: 0s - loss: 0.1703 - accuracy: 0.9353\n",
      "Epoch 189: saving model to model/keypoint_classifier\\keypoint_classifier.hdf5\n",
      "15/15 [==============================] - 0s 10ms/step - loss: 0.1681 - accuracy: 0.9350 - val_loss: 0.0596 - val_accuracy: 0.9952\n",
      "Epoch 190/2100\n",
      "14/15 [===========================>..] - ETA: 0s - loss: 0.1753 - accuracy: 0.9386\n",
      "Epoch 190: saving model to model/keypoint_classifier\\keypoint_classifier.hdf5\n",
      "15/15 [==============================] - 0s 9ms/step - loss: 0.1802 - accuracy: 0.9345 - val_loss: 0.0567 - val_accuracy: 0.9937\n",
      "Epoch 191/2100\n",
      " 1/15 [=>............................] - ETA: 0s - loss: 0.1196 - accuracy: 0.9688\n",
      "Epoch 191: saving model to model/keypoint_classifier\\keypoint_classifier.hdf5\n",
      "15/15 [==============================] - 0s 8ms/step - loss: 0.1674 - accuracy: 0.9382 - val_loss: 0.0589 - val_accuracy: 0.9937\n"
     ]
    },
    {
     "name": "stdout",
     "output_type": "stream",
     "text": [
      "Epoch 192/2100\n",
      " 1/15 [=>............................] - ETA: 0s - loss: 0.1820 - accuracy: 0.9141\n",
      "Epoch 192: saving model to model/keypoint_classifier\\keypoint_classifier.hdf5\n",
      "15/15 [==============================] - 0s 8ms/step - loss: 0.1740 - accuracy: 0.9361 - val_loss: 0.0605 - val_accuracy: 0.9810\n",
      "Epoch 193/2100\n",
      " 1/15 [=>............................] - ETA: 0s - loss: 0.1679 - accuracy: 0.9531\n",
      "Epoch 193: saving model to model/keypoint_classifier\\keypoint_classifier.hdf5\n",
      "15/15 [==============================] - 0s 8ms/step - loss: 0.1789 - accuracy: 0.9366 - val_loss: 0.0614 - val_accuracy: 0.9921\n",
      "Epoch 194/2100\n",
      " 1/15 [=>............................] - ETA: 0s - loss: 0.2751 - accuracy: 0.8750\n",
      "Epoch 194: saving model to model/keypoint_classifier\\keypoint_classifier.hdf5\n",
      "15/15 [==============================] - 0s 7ms/step - loss: 0.1856 - accuracy: 0.9266 - val_loss: 0.0592 - val_accuracy: 0.9889\n",
      "Epoch 195/2100\n",
      " 1/15 [=>............................] - ETA: 0s - loss: 0.1940 - accuracy: 0.9219\n",
      "Epoch 195: saving model to model/keypoint_classifier\\keypoint_classifier.hdf5\n",
      "15/15 [==============================] - 0s 7ms/step - loss: 0.1648 - accuracy: 0.9377 - val_loss: 0.0624 - val_accuracy: 0.9905\n",
      "Epoch 196/2100\n",
      " 1/15 [=>............................] - ETA: 0s - loss: 0.2255 - accuracy: 0.9062\n",
      "Epoch 196: saving model to model/keypoint_classifier\\keypoint_classifier.hdf5\n",
      "15/15 [==============================] - 0s 10ms/step - loss: 0.1687 - accuracy: 0.9387 - val_loss: 0.0584 - val_accuracy: 0.9810\n",
      "Epoch 197/2100\n",
      " 1/15 [=>............................] - ETA: 0s - loss: 0.1280 - accuracy: 0.9531\n",
      "Epoch 197: saving model to model/keypoint_classifier\\keypoint_classifier.hdf5\n",
      "15/15 [==============================] - 0s 7ms/step - loss: 0.1779 - accuracy: 0.9329 - val_loss: 0.0570 - val_accuracy: 0.9905\n",
      "Epoch 198/2100\n",
      " 1/15 [=>............................] - ETA: 0s - loss: 0.2225 - accuracy: 0.8906\n",
      "Epoch 198: saving model to model/keypoint_classifier\\keypoint_classifier.hdf5\n",
      "15/15 [==============================] - 0s 9ms/step - loss: 0.1803 - accuracy: 0.9245 - val_loss: 0.0596 - val_accuracy: 0.9937\n",
      "Epoch 199/2100\n",
      "14/15 [===========================>..] - ETA: 0s - loss: 0.1685 - accuracy: 0.9414\n",
      "Epoch 199: saving model to model/keypoint_classifier\\keypoint_classifier.hdf5\n",
      "15/15 [==============================] - 0s 11ms/step - loss: 0.1741 - accuracy: 0.9398 - val_loss: 0.0546 - val_accuracy: 0.9937\n",
      "Epoch 200/2100\n",
      "14/15 [===========================>..] - ETA: 0s - loss: 0.1656 - accuracy: 0.9453\n",
      "Epoch 200: saving model to model/keypoint_classifier\\keypoint_classifier.hdf5\n",
      "15/15 [==============================] - 0s 12ms/step - loss: 0.1667 - accuracy: 0.9451 - val_loss: 0.0564 - val_accuracy: 0.9937\n",
      "Epoch 201/2100\n",
      " 1/15 [=>............................] - ETA: 0s - loss: 0.2837 - accuracy: 0.8828\n",
      "Epoch 201: saving model to model/keypoint_classifier\\keypoint_classifier.hdf5\n",
      "15/15 [==============================] - 0s 7ms/step - loss: 0.1815 - accuracy: 0.9324 - val_loss: 0.0579 - val_accuracy: 0.9905\n",
      "Epoch 202/2100\n",
      " 1/15 [=>............................] - ETA: 0s - loss: 0.2818 - accuracy: 0.9219\n",
      "Epoch 202: saving model to model/keypoint_classifier\\keypoint_classifier.hdf5\n",
      "15/15 [==============================] - 0s 7ms/step - loss: 0.1758 - accuracy: 0.9366 - val_loss: 0.0568 - val_accuracy: 0.9921\n",
      "Epoch 203/2100\n",
      " 1/15 [=>............................] - ETA: 0s - loss: 0.1181 - accuracy: 0.9531\n",
      "Epoch 203: saving model to model/keypoint_classifier\\keypoint_classifier.hdf5\n",
      "15/15 [==============================] - 0s 11ms/step - loss: 0.1800 - accuracy: 0.9213 - val_loss: 0.0621 - val_accuracy: 0.9826\n",
      "Epoch 204/2100\n",
      "10/15 [===================>..........] - ETA: 0s - loss: 0.1735 - accuracy: 0.9320\n",
      "Epoch 204: saving model to model/keypoint_classifier\\keypoint_classifier.hdf5\n",
      "15/15 [==============================] - 0s 11ms/step - loss: 0.1707 - accuracy: 0.9371 - val_loss: 0.0631 - val_accuracy: 0.9937\n",
      "Epoch 205/2100\n",
      " 1/15 [=>............................] - ETA: 0s - loss: 0.1157 - accuracy: 0.9531\n",
      "Epoch 205: saving model to model/keypoint_classifier\\keypoint_classifier.hdf5\n",
      "15/15 [==============================] - 0s 7ms/step - loss: 0.1852 - accuracy: 0.9276 - val_loss: 0.0654 - val_accuracy: 0.9889\n",
      "Epoch 206/2100\n",
      " 1/15 [=>............................] - ETA: 0s - loss: 0.1240 - accuracy: 0.9453\n",
      "Epoch 206: saving model to model/keypoint_classifier\\keypoint_classifier.hdf5\n",
      "15/15 [==============================] - 0s 7ms/step - loss: 0.1760 - accuracy: 0.9334 - val_loss: 0.0632 - val_accuracy: 0.9794\n",
      "Epoch 207/2100\n",
      " 1/15 [=>............................] - ETA: 0s - loss: 0.2009 - accuracy: 0.9297\n",
      "Epoch 207: saving model to model/keypoint_classifier\\keypoint_classifier.hdf5\n",
      "15/15 [==============================] - 0s 8ms/step - loss: 0.1662 - accuracy: 0.9324 - val_loss: 0.0638 - val_accuracy: 0.9921\n",
      "Epoch 208/2100\n",
      " 1/15 [=>............................] - ETA: 0s - loss: 0.1993 - accuracy: 0.9219\n",
      "Epoch 208: saving model to model/keypoint_classifier\\keypoint_classifier.hdf5\n",
      "15/15 [==============================] - 0s 11ms/step - loss: 0.1606 - accuracy: 0.9408 - val_loss: 0.0639 - val_accuracy: 0.9952\n",
      "Epoch 209/2100\n",
      " 1/15 [=>............................] - ETA: 0s - loss: 0.1433 - accuracy: 0.9375\n",
      "Epoch 209: saving model to model/keypoint_classifier\\keypoint_classifier.hdf5\n",
      "15/15 [==============================] - 0s 8ms/step - loss: 0.1692 - accuracy: 0.9371 - val_loss: 0.0589 - val_accuracy: 0.9826\n",
      "Epoch 210/2100\n",
      " 1/15 [=>............................] - ETA: 0s - loss: 0.1616 - accuracy: 0.9219\n",
      "Epoch 210: saving model to model/keypoint_classifier\\keypoint_classifier.hdf5\n",
      "15/15 [==============================] - 0s 7ms/step - loss: 0.1781 - accuracy: 0.9313 - val_loss: 0.0568 - val_accuracy: 0.9937\n",
      "Epoch 211/2100\n",
      " 1/15 [=>............................] - ETA: 0s - loss: 0.1264 - accuracy: 0.9531\n",
      "Epoch 211: saving model to model/keypoint_classifier\\keypoint_classifier.hdf5\n",
      "15/15 [==============================] - 0s 7ms/step - loss: 0.1743 - accuracy: 0.9345 - val_loss: 0.0509 - val_accuracy: 0.9937\n",
      "Epoch 212/2100\n",
      " 1/15 [=>............................] - ETA: 0s - loss: 0.2233 - accuracy: 0.9375\n",
      "Epoch 212: saving model to model/keypoint_classifier\\keypoint_classifier.hdf5\n",
      "15/15 [==============================] - 0s 8ms/step - loss: 0.1780 - accuracy: 0.9324 - val_loss: 0.0565 - val_accuracy: 0.9921\n",
      "Epoch 213/2100\n",
      " 1/15 [=>............................] - ETA: 0s - loss: 0.2266 - accuracy: 0.9141\n",
      "Epoch 213: saving model to model/keypoint_classifier\\keypoint_classifier.hdf5\n",
      "15/15 [==============================] - 0s 8ms/step - loss: 0.1773 - accuracy: 0.9356 - val_loss: 0.0563 - val_accuracy: 0.9921\n",
      "Epoch 214/2100\n",
      " 1/15 [=>............................] - ETA: 0s - loss: 0.1318 - accuracy: 0.9453\n",
      "Epoch 214: saving model to model/keypoint_classifier\\keypoint_classifier.hdf5\n",
      "15/15 [==============================] - 0s 8ms/step - loss: 0.1702 - accuracy: 0.9366 - val_loss: 0.0532 - val_accuracy: 0.9921\n",
      "Epoch 215/2100\n",
      " 1/15 [=>............................] - ETA: 0s - loss: 0.1451 - accuracy: 0.9531\n",
      "Epoch 215: saving model to model/keypoint_classifier\\keypoint_classifier.hdf5\n",
      "15/15 [==============================] - 0s 8ms/step - loss: 0.1653 - accuracy: 0.9398 - val_loss: 0.0620 - val_accuracy: 0.9889\n",
      "Epoch 216/2100\n",
      " 1/15 [=>............................] - ETA: 0s - loss: 0.1808 - accuracy: 0.9453\n",
      "Epoch 216: saving model to model/keypoint_classifier\\keypoint_classifier.hdf5\n",
      "15/15 [==============================] - 0s 7ms/step - loss: 0.1863 - accuracy: 0.9324 - val_loss: 0.0595 - val_accuracy: 0.9952\n",
      "Epoch 217/2100\n",
      " 1/15 [=>............................] - ETA: 0s - loss: 0.1224 - accuracy: 0.9531\n",
      "Epoch 217: saving model to model/keypoint_classifier\\keypoint_classifier.hdf5\n",
      "15/15 [==============================] - 0s 7ms/step - loss: 0.1834 - accuracy: 0.9303 - val_loss: 0.0583 - val_accuracy: 0.9889\n",
      "Epoch 218/2100\n",
      " 1/15 [=>............................] - ETA: 0s - loss: 0.2451 - accuracy: 0.8984\n",
      "Epoch 218: saving model to model/keypoint_classifier\\keypoint_classifier.hdf5\n",
      "15/15 [==============================] - 0s 8ms/step - loss: 0.1732 - accuracy: 0.9366 - val_loss: 0.0548 - val_accuracy: 0.9921\n"
     ]
    },
    {
     "name": "stdout",
     "output_type": "stream",
     "text": [
      "Epoch 219/2100\n",
      " 1/15 [=>............................] - ETA: 0s - loss: 0.2203 - accuracy: 0.9297\n",
      "Epoch 219: saving model to model/keypoint_classifier\\keypoint_classifier.hdf5\n",
      "15/15 [==============================] - 0s 9ms/step - loss: 0.1699 - accuracy: 0.9366 - val_loss: 0.0546 - val_accuracy: 0.9937\n",
      "Epoch 220/2100\n",
      "14/15 [===========================>..] - ETA: 0s - loss: 0.1621 - accuracy: 0.9392\n",
      "Epoch 220: saving model to model/keypoint_classifier\\keypoint_classifier.hdf5\n",
      "15/15 [==============================] - 0s 8ms/step - loss: 0.1615 - accuracy: 0.9387 - val_loss: 0.0575 - val_accuracy: 0.9889\n",
      "Epoch 221/2100\n",
      " 1/15 [=>............................] - ETA: 0s - loss: 0.1763 - accuracy: 0.8984\n",
      "Epoch 221: saving model to model/keypoint_classifier\\keypoint_classifier.hdf5\n",
      "15/15 [==============================] - 0s 9ms/step - loss: 0.1684 - accuracy: 0.9303 - val_loss: 0.0586 - val_accuracy: 0.9921\n",
      "Epoch 222/2100\n",
      " 1/15 [=>............................] - ETA: 0s - loss: 0.1233 - accuracy: 0.9609\n",
      "Epoch 222: saving model to model/keypoint_classifier\\keypoint_classifier.hdf5\n",
      "15/15 [==============================] - 0s 8ms/step - loss: 0.1785 - accuracy: 0.9313 - val_loss: 0.0636 - val_accuracy: 0.9921\n",
      "Epoch 223/2100\n",
      " 1/15 [=>............................] - ETA: 0s - loss: 0.1670 - accuracy: 0.9453\n",
      "Epoch 223: saving model to model/keypoint_classifier\\keypoint_classifier.hdf5\n",
      "15/15 [==============================] - 0s 8ms/step - loss: 0.1767 - accuracy: 0.9387 - val_loss: 0.0615 - val_accuracy: 0.9921\n",
      "Epoch 224/2100\n",
      " 1/15 [=>............................] - ETA: 0s - loss: 0.1793 - accuracy: 0.9141\n",
      "Epoch 224: saving model to model/keypoint_classifier\\keypoint_classifier.hdf5\n",
      "15/15 [==============================] - 0s 7ms/step - loss: 0.1630 - accuracy: 0.9435 - val_loss: 0.0556 - val_accuracy: 0.9905\n",
      "Epoch 225/2100\n",
      " 1/15 [=>............................] - ETA: 0s - loss: 0.1563 - accuracy: 0.9375\n",
      "Epoch 225: saving model to model/keypoint_classifier\\keypoint_classifier.hdf5\n",
      "15/15 [==============================] - 0s 7ms/step - loss: 0.1593 - accuracy: 0.9424 - val_loss: 0.0541 - val_accuracy: 0.9905\n",
      "Epoch 226/2100\n",
      " 1/15 [=>............................] - ETA: 0s - loss: 0.1705 - accuracy: 0.9531\n",
      "Epoch 226: saving model to model/keypoint_classifier\\keypoint_classifier.hdf5\n",
      "15/15 [==============================] - 0s 8ms/step - loss: 0.1555 - accuracy: 0.9392 - val_loss: 0.0597 - val_accuracy: 0.9921\n",
      "Epoch 227/2100\n",
      " 1/15 [=>............................] - ETA: 0s - loss: 0.1173 - accuracy: 0.9531\n",
      "Epoch 227: saving model to model/keypoint_classifier\\keypoint_classifier.hdf5\n",
      "15/15 [==============================] - 0s 8ms/step - loss: 0.1699 - accuracy: 0.9319 - val_loss: 0.0626 - val_accuracy: 0.9905\n",
      "Epoch 228/2100\n",
      " 1/15 [=>............................] - ETA: 0s - loss: 0.2505 - accuracy: 0.9141\n",
      "Epoch 228: saving model to model/keypoint_classifier\\keypoint_classifier.hdf5\n",
      "15/15 [==============================] - 0s 10ms/step - loss: 0.1862 - accuracy: 0.9313 - val_loss: 0.0696 - val_accuracy: 0.9731\n",
      "Epoch 229/2100\n",
      " 1/15 [=>............................] - ETA: 0s - loss: 0.0944 - accuracy: 0.9688\n",
      "Epoch 229: saving model to model/keypoint_classifier\\keypoint_classifier.hdf5\n",
      "15/15 [==============================] - 0s 8ms/step - loss: 0.1616 - accuracy: 0.9361 - val_loss: 0.0715 - val_accuracy: 0.9683\n",
      "Epoch 230/2100\n",
      " 1/15 [=>............................] - ETA: 0s - loss: 0.1374 - accuracy: 0.9453\n",
      "Epoch 230: saving model to model/keypoint_classifier\\keypoint_classifier.hdf5\n",
      "15/15 [==============================] - 0s 7ms/step - loss: 0.1806 - accuracy: 0.9223 - val_loss: 0.0596 - val_accuracy: 0.9937\n",
      "Epoch 231/2100\n",
      " 1/15 [=>............................] - ETA: 0s - loss: 0.1374 - accuracy: 0.9453\n",
      "Epoch 231: saving model to model/keypoint_classifier\\keypoint_classifier.hdf5\n",
      "15/15 [==============================] - 0s 8ms/step - loss: 0.1478 - accuracy: 0.9461 - val_loss: 0.0580 - val_accuracy: 0.9905\n",
      "Epoch 231: early stopping\n"
     ]
    },
    {
     "data": {
      "text/plain": [
       "<keras.src.callbacks.History at 0x2266070cfd0>"
      ]
     },
     "execution_count": 523,
     "metadata": {},
     "output_type": "execute_result"
    }
   ],
   "source": [
    "model.fit(\n",
    "    X_train,\n",
    "    y_train,\n",
    "    epochs=100*NUM_CLASSES,\n",
    "    batch_size=128,\n",
    "    validation_data=(X_test, y_test),\n",
    "    callbacks=[cp_callback, es_callback]\n",
    ")"
   ]
  },
  {
   "cell_type": "code",
   "execution_count": 524,
   "metadata": {
    "colab": {
     "base_uri": "https://localhost:8080/"
    },
    "id": "pxvb2Y299hE3",
    "outputId": "59eb3185-2e37-4b9e-bc9d-ab1b8ac29b7f"
   },
   "outputs": [
    {
     "name": "stdout",
     "output_type": "stream",
     "text": [
      "5/5 [==============================] - 0s 4ms/step - loss: 0.0580 - accuracy: 0.9905\n"
     ]
    }
   ],
   "source": [
    "# Model evaluation\n",
    "val_loss, val_acc = model.evaluate(X_test, y_test, batch_size=128)"
   ]
  },
  {
   "cell_type": "code",
   "execution_count": 525,
   "metadata": {
    "id": "RBkmDeUW9hE4"
   },
   "outputs": [],
   "source": [
    "# Loading the saved model\n",
    "model = tf.keras.models.load_model(model_save_path)"
   ]
  },
  {
   "cell_type": "code",
   "execution_count": 526,
   "metadata": {
    "colab": {
     "base_uri": "https://localhost:8080/"
    },
    "id": "tFz9Tb0I9hE4",
    "outputId": "1c3b3528-54ae-4ee2-ab04-77429211cbef"
   },
   "outputs": [
    {
     "name": "stdout",
     "output_type": "stream",
     "text": [
      "1/1 [==============================] - 0s 44ms/step\n",
      "[1.2311868e-09 1.5850854e-11 6.4056971e-05 1.5499832e-11 6.5978565e-09\n",
      " 2.4688505e-09 2.1652108e-05 1.6584590e-06 1.0749897e-12 1.4177083e-10\n",
      " 1.8399261e-07 1.2929885e-15 3.8663018e-12 1.5931943e-10 3.4628418e-09\n",
      " 1.9728186e-06 7.4144274e-11 6.6684741e-10 1.3823998e-10 9.9991047e-01\n",
      " 3.2641954e-09]\n",
      "19\n"
     ]
    }
   ],
   "source": [
    "# Inference test\n",
    "predict_result = model.predict(np.array([X_test[0]]))\n",
    "print(np.squeeze(predict_result))\n",
    "print(np.argmax(np.squeeze(predict_result)))"
   ]
  },
  {
   "cell_type": "markdown",
   "metadata": {
    "id": "S3U4yNWx9hE4"
   },
   "source": [
    "# Confusion matrix"
   ]
  },
  {
   "cell_type": "code",
   "execution_count": 527,
   "metadata": {
    "colab": {
     "base_uri": "https://localhost:8080/",
     "height": 582
    },
    "id": "AP1V6SCk9hE5",
    "outputId": "08e41a80-7a4a-4619-8125-ecc371368d19"
   },
   "outputs": [
    {
     "name": "stdout",
     "output_type": "stream",
     "text": [
      "20/20 [==============================] - 0s 824us/step\n"
     ]
    },
    {
     "data": {
      "image/png": "[encoded data removed]",
      "text/plain": [
       "<Figure size 700x600 with 2 Axes>"
      ]
     },
     "metadata": {},
     "output_type": "display_data"
    },
    {
     "name": "stdout",
     "output_type": "stream",
     "text": [
      "Classification Report\n",
      "              precision    recall  f1-score   support\n",
      "\n",
      "           0       1.00      1.00      1.00        16\n",
      "           1       1.00      1.00      1.00        40\n",
      "           2       0.93      1.00      0.97        42\n",
      "           3       1.00      0.97      0.99        34\n",
      "           4       1.00      1.00      1.00        46\n",
      "           5       1.00      1.00      1.00        40\n",
      "           6       1.00      1.00      1.00        27\n",
      "           7       0.96      1.00      0.98        23\n",
      "           8       1.00      0.95      0.98        22\n",
      "           9       1.00      1.00      1.00        35\n",
      "          10       1.00      1.00      1.00        25\n",
      "          11       1.00      1.00      1.00        28\n",
      "          12       1.00      1.00      1.00        26\n",
      "          13       1.00      1.00      1.00        29\n",
      "          14       1.00      1.00      1.00        28\n",
      "          15       1.00      0.92      0.96        37\n",
      "          16       0.97      1.00      0.98        30\n",
      "          17       1.00      1.00      1.00        28\n",
      "          18       1.00      0.96      0.98        25\n",
      "          19       0.96      1.00      0.98        24\n",
      "          20       1.00      1.00      1.00        26\n",
      "\n",
      "    accuracy                           0.99       631\n",
      "   macro avg       0.99      0.99      0.99       631\n",
      "weighted avg       0.99      0.99      0.99       631\n",
      "\n"
     ]
    }
   ],
   "source": [
    "import pandas as pd\n",
    "import seaborn as sns\n",
    "import matplotlib.pyplot as plt\n",
    "from sklearn.metrics import confusion_matrix, classification_report\n",
    "\n",
    "def print_confusion_matrix(y_true, y_pred, report=True):\n",
    "    labels = sorted(list(set(y_true)))\n",
    "    cmx_data = confusion_matrix(y_true, y_pred, labels=labels)\n",
    "    \n",
    "    df_cmx = pd.DataFrame(cmx_data, index=labels, columns=labels)\n",
    " \n",
    "    fig, ax = plt.subplots(figsize=(7, 6))\n",
    "    sns.heatmap(df_cmx, annot=True, fmt='g' ,square=False)\n",
    "    ax.set_ylim(len(set(y_true)), 0)\n",
    "    plt.show()\n",
    "    \n",
    "    if report:\n",
    "        print('Classification Report')\n",
    "        print(classification_report(y_test, y_pred))\n",
    "\n",
    "Y_pred = model.predict(X_test)\n",
    "y_pred = np.argmax(Y_pred, axis=1)\n",
    "\n",
    "print_confusion_matrix(y_test, y_pred)"
   ]
  },
  {
   "cell_type": "markdown",
   "metadata": {
    "id": "FNP6aqzc9hE5"
   },
   "source": [
    "# Convert to model for Tensorflow-Lite"
   ]
  },
  {
   "cell_type": "code",
   "execution_count": 528,
   "metadata": {
    "id": "ODjnYyld9hE6"
   },
   "outputs": [
    {
     "name": "stderr",
     "output_type": "stream",
     "text": [
      "C:\\Users\\Sanjay\\AppData\\Local\\Programs\\Python\\Python39\\lib\\site-packages\\keras\\src\\engine\\training.py:3000: UserWarning: You are saving your model as an HDF5 file via `model.save()`. This file format is considered legacy. We recommend using instead the native Keras format, e.g. `model.save('my_model.keras')`.\n",
      "  saving_api.save_model(\n"
     ]
    }
   ],
   "source": [
    "# Save as a model dedicated to inference\n",
    "model.save(model_save_path, include_optimizer=False)"
   ]
  },
  {
   "cell_type": "code",
   "execution_count": 529,
   "metadata": {
    "colab": {
     "base_uri": "https://localhost:8080/"
    },
    "id": "zRfuK8Y59hE6",
    "outputId": "a4ca585c-b5d5-4244-8291-8674063209bb"
   },
   "outputs": [
    {
     "name": "stdout",
     "output_type": "stream",
     "text": [
      "INFO:tensorflow:Assets written to: C:\\Users\\Sanjay\\AppData\\Local\\Temp\\tmpu5mannw7\\assets\n"
     ]
    },
    {
     "name": "stderr",
     "output_type": "stream",
     "text": [
      "INFO:tensorflow:Assets written to: C:\\Users\\Sanjay\\AppData\\Local\\Temp\\tmpu5mannw7\\assets\n"
     ]
    },
    {
     "data": {
      "text/plain": [
       "17680"
      ]
     },
     "execution_count": 529,
     "metadata": {},
     "output_type": "execute_result"
    }
   ],
   "source": [
    "# Transform model (quantization)\n",
    "\n",
    "converter = tf.lite.TFLiteConverter.from_keras_model(model)\n",
    "converter.optimizations = [tf.lite.Optimize.DEFAULT]\n",
    "tflite_quantized_model = converter.convert()\n",
    "\n",
    "open(tflite_save_path, 'wb').write(tflite_quantized_model)"
   ]
  },
  {
   "cell_type": "markdown",
   "metadata": {
    "id": "CHBPBXdx9hE6"
   },
   "source": [
    "# Inference test"
   ]
  },
  {
   "cell_type": "code",
   "execution_count": 530,
   "metadata": {
    "id": "mGAzLocO9hE7"
   },
   "outputs": [],
   "source": [
    "interpreter = tf.lite.Interpreter(model_path=tflite_save_path)\n",
    "interpreter.allocate_tensors()"
   ]
  },
  {
   "cell_type": "code",
   "execution_count": 531,
   "metadata": {
    "id": "oQuDK8YS9hE7"
   },
   "outputs": [],
   "source": [
    "# Get I / O tensor\n",
    "input_details = interpreter.get_input_details()\n",
    "output_details = interpreter.get_output_details()"
   ]
  },
  {
   "cell_type": "code",
   "execution_count": 532,
   "metadata": {
    "id": "2_ixAf_l9hE7"
   },
   "outputs": [],
   "source": [
    "interpreter.set_tensor(input_details[0]['index'], np.array([X_test[0]]))"
   ]
  },
  {
   "cell_type": "code",
   "execution_count": 533,
   "metadata": {
    "colab": {
     "base_uri": "https://localhost:8080/"
    },
    "id": "s4FoAnuc9hE7",
    "outputId": "91f18257-8d8b-4ef3-c558-e9b5f94fabbf",
    "scrolled": true
   },
   "outputs": [
    {
     "name": "stdout",
     "output_type": "stream",
     "text": [
      "CPU times: total: 0 ns\n",
      "Wall time: 0 ns\n"
     ]
    }
   ],
   "source": [
    "%%time\n",
    "# Inference implementation\n",
    "interpreter.invoke()\n",
    "tflite_results = interpreter.get_tensor(output_details[0]['index'])"
   ]
  },
  {
   "cell_type": "code",
   "execution_count": 534,
   "metadata": {
    "colab": {
     "base_uri": "https://localhost:8080/"
    },
    "id": "vONjp19J9hE8",
    "outputId": "77205e24-fd00-42c4-f7b6-e06e527c2cba"
   },
   "outputs": [
    {
     "name": "stdout",
     "output_type": "stream",
     "text": [
      "[1.1628025e-09 1.6831465e-11 6.2211177e-05 1.4353121e-11 6.7517476e-09\n",
      " 2.0620241e-09 1.9581556e-05 1.4901598e-06 9.2975540e-13 1.2409165e-10\n",
      " 1.7322984e-07 1.2739684e-15 3.4070331e-12 1.4515950e-10 3.2850582e-09\n",
      " 1.5817470e-06 6.8460806e-11 5.9929633e-10 1.3469584e-10 9.9991488e-01\n",
      " 2.7581253e-09]\n",
      "19\n"
     ]
    }
   ],
   "source": [
    "print(np.squeeze(tflite_results))\n",
    "print(np.argmax(np.squeeze(tflite_results)))"
   ]
  },
  {
   "cell_type": "code",
   "execution_count": null,
   "metadata": {},
   "outputs": [],
   "source": []
  },
  {
   "cell_type": "code",
   "execution_count": null,
   "metadata": {},
   "outputs": [],
   "source": []
  },
  {
   "cell_type": "code",
   "execution_count": null,
   "metadata": {},
   "outputs": [],
   "source": []
  }
 ],
 "metadata": {
  "accelerator": "GPU",
  "colab": {
   "collapsed_sections": [],
   "name": "keypoint_classification_EN.ipynb",
   "provenance": [],
   "toc_visible": true
  },
  "kernelspec": {
   "display_name": "Python 3 (ipykernel)",
   "language": "python",
   "name": "python3"
  },
  "language_info": {
   "codemirror_mode": {
    "name": "ipython",
    "version": 3
   },
   "file_extension": ".py",
   "mimetype": "text/x-python",
   "name": "python",
   "nbconvert_exporter": "python",
   "pygments_lexer": "ipython3",
   "version": "3.9.7"
  }
 },
 "nbformat": 4,
 "nbformat_minor": 1
}
