{
 "cells": [
  {
   "cell_type": "code",
   "execution_count": 442,
   "metadata": {
    "id": "igMyGnjE9hEp"
   },
   "outputs": [],
   "source": [
    "import csv\n",
    "\n",
    "import numpy as np\n",
    "import tensorflow as tf\n",
    "from sklearn.model_selection import train_test_split\n",
    "\n",
    "RANDOM_SEED = 42"
   ]
  },
  {
   "cell_type": "markdown",
   "metadata": {
    "id": "t2HDvhIu9hEr"
   },
   "source": [
    "# Specify each path"
   ]
  },
  {
   "cell_type": "code",
   "execution_count": 443,
   "metadata": {
    "id": "9NvZP2Zn9hEy"
   },
   "outputs": [],
   "source": [
    "dataset = 'model/keypoint_classifier/keypoint.csv'\n",
    "model_save_path = 'model/keypoint_classifier/keypoint_classifier.hdf5'\n",
    "tflite_save_path = 'model/keypoint_classifier/keypoint_classifier.tflite'"
   ]
  },
  {
   "cell_type": "markdown",
   "metadata": {
    "id": "s5oMH7x19hEz"
   },
   "source": [
    "# Set number of classes"
   ]
  },
  {
   "cell_type": "code",
   "execution_count": 444,
   "metadata": {
    "id": "du4kodXL9hEz"
   },
   "outputs": [],
   "source": [
    "NUM_CLASSES = 16"
   ]
  },
  {
   "cell_type": "markdown",
   "metadata": {
    "id": "XjnL0uso9hEz"
   },
   "source": [
    "# Dataset reading"
   ]
  },
  {
   "cell_type": "code",
   "execution_count": 445,
   "metadata": {
    "id": "QT5ZqtEz9hE0"
   },
   "outputs": [],
   "source": [
    "X_dataset = np.loadtxt(dataset, delimiter=',', dtype='float32', usecols=list(range(1, (21*2 + 21*2 + 2*1) + 1)))"
   ]
  },
  {
   "cell_type": "code",
   "execution_count": 446,
   "metadata": {
    "id": "QmoKFsp49hE0"
   },
   "outputs": [],
   "source": [
    "y_dataset = np.loadtxt(dataset, delimiter=',', dtype='int32', usecols=(0))"
   ]
  },
  {
   "cell_type": "code",
   "execution_count": 447,
   "metadata": {
    "id": "xQU7JTZ_9hE0"
   },
   "outputs": [],
   "source": [
    "X_train, X_test, y_train, y_test = train_test_split(X_dataset, y_dataset, train_size=0.75, random_state=RANDOM_SEED)"
   ]
  },
  {
   "cell_type": "markdown",
   "metadata": {
    "id": "mxK_lETT9hE0"
   },
   "source": [
    "# Model building"
   ]
  },
  {
   "cell_type": "code",
   "execution_count": 448,
   "metadata": {
    "id": "vHBmUf1t9hE1"
   },
   "outputs": [],
   "source": [
    "# model = tf.keras.models.Sequential([\n",
    "#     tf.keras.layers.Input((21*2 + 21*2 + 2*1 )),\n",
    "#     tf.keras.layers.Dropout(0.2),\n",
    "#     tf.keras.layers.Dense(20, activation='relu'),\n",
    "#     tf.keras.layers.Dropout(0.4),\n",
    "#     tf.keras.layers.Dense(10, activation='relu'),\n",
    "#     tf.keras.layers.Dense(NUM_CLASSES, activation='softmax')\n",
    "# ])"
   ]
  },
  {
   "cell_type": "code",
   "execution_count": 449,
   "metadata": {},
   "outputs": [],
   "source": [
    "model = tf.keras.models.Sequential([\n",
    "    tf.keras.layers.Input((21*2 + 21*2 + 2*1 )),\n",
    "    tf.keras.layers.Dropout(0.2),\n",
    "    tf.keras.layers.Dense(100, activation='relu'),\n",
    "    tf.keras.layers.Dropout(0.4),\n",
    "    tf.keras.layers.Dense(50, activation='relu'),\n",
    "    tf.keras.layers.Dense(NUM_CLASSES, activation='softmax')\n",
    "])"
   ]
  },
  {
   "cell_type": "code",
   "execution_count": 450,
   "metadata": {
    "colab": {
     "base_uri": "https://localhost:8080/"
    },
    "id": "ypqky9tc9hE1",
    "outputId": "5db082bb-30e3-4110-bf63-a1ee777ecd46"
   },
   "outputs": [
    {
     "name": "stdout",
     "output_type": "stream",
     "text": [
      "Model: \"sequential_20\"\n",
      "_________________________________________________________________\n",
      " Layer (type)                Output Shape              Param #   \n",
      "=================================================================\n",
      " dropout_40 (Dropout)        (None, 86)                0         \n",
      "                                                                 \n",
      " dense_60 (Dense)            (None, 100)               8700      \n",
      "                                                                 \n",
      " dropout_41 (Dropout)        (None, 100)               0         \n",
      "                                                                 \n",
      " dense_61 (Dense)            (None, 50)                5050      \n",
      "                                                                 \n",
      " dense_62 (Dense)            (None, 16)                816       \n",
      "                                                                 \n",
      "=================================================================\n",
      "Total params: 14566 (56.90 KB)\n",
      "Trainable params: 14566 (56.90 KB)\n",
      "Non-trainable params: 0 (0.00 Byte)\n",
      "_________________________________________________________________\n"
     ]
    }
   ],
   "source": [
    "model.summary()  # tf.keras.utils.plot_model(model, show_shapes=True)"
   ]
  },
  {
   "cell_type": "code",
   "execution_count": 451,
   "metadata": {
    "id": "MbMjOflQ9hE1"
   },
   "outputs": [],
   "source": [
    "# Model checkpoint callback\n",
    "cp_callback = tf.keras.callbacks.ModelCheckpoint(\n",
    "    model_save_path, verbose=1, save_weights_only=False)\n",
    "# Callback for early stopping\n",
    "es_callback = tf.keras.callbacks.EarlyStopping(patience=20, verbose=1)"
   ]
  },
  {
   "cell_type": "code",
   "execution_count": 452,
   "metadata": {
    "id": "c3Dac0M_9hE2"
   },
   "outputs": [],
   "source": [
    "# Model compilation\n",
    "model.compile(\n",
    "    optimizer='adam',\n",
    "    loss='sparse_categorical_crossentropy',\n",
    "    metrics=['accuracy']\n",
    ")"
   ]
  },
  {
   "cell_type": "markdown",
   "metadata": {
    "id": "7XI0j1Iu9hE2"
   },
   "source": [
    "# Model training"
   ]
  },
  {
   "cell_type": "code",
   "execution_count": 453,
   "metadata": {
    "colab": {
     "base_uri": "https://localhost:8080/"
    },
    "id": "WirBl-JE9hE3",
    "outputId": "71b30ca2-8294-4d9d-8aa2-800d90d399de",
    "scrolled": true
   },
   "outputs": [
    {
     "name": "stdout",
     "output_type": "stream",
     "text": [
      "Epoch 1/1600\n",
      " 7/12 [================>.............] - ETA: 0s - loss: 2.7100 - accuracy: 0.1440 \n",
      "Epoch 1: saving model to model/keypoint_classifier\\keypoint_classifier.hdf5\n",
      "12/12 [==============================] - 2s 62ms/step - loss: 2.6472 - accuracy: 0.1599 - val_loss: 2.4058 - val_accuracy: 0.2601\n",
      "Epoch 2/1600\n",
      " 8/12 [===================>..........] - ETA: 0s - loss: 2.3853 - accuracy: 0.2148"
     ]
    },
    {
     "name": "stderr",
     "output_type": "stream",
     "text": [
      "C:\\Users\\Sanjay\\AppData\\Local\\Programs\\Python\\Python39\\lib\\site-packages\\keras\\src\\engine\\training.py:3000: UserWarning: You are saving your model as an HDF5 file via `model.save()`. This file format is considered legacy. We recommend using instead the native Keras format, e.g. `model.save('my_model.keras')`.\n",
      "  saving_api.save_model(\n"
     ]
    },
    {
     "name": "stdout",
     "output_type": "stream",
     "text": [
      "\n",
      "Epoch 2: saving model to model/keypoint_classifier\\keypoint_classifier.hdf5\n",
      "12/12 [==============================] - 0s 24ms/step - loss: 2.3431 - accuracy: 0.2245 - val_loss: 2.1394 - val_accuracy: 0.2621\n",
      "Epoch 3/1600\n",
      " 8/12 [===================>..........] - ETA: 0s - loss: 2.1717 - accuracy: 0.2490\n",
      "Epoch 3: saving model to model/keypoint_classifier\\keypoint_classifier.hdf5\n",
      "12/12 [==============================] - 0s 24ms/step - loss: 2.1468 - accuracy: 0.2574 - val_loss: 1.9356 - val_accuracy: 0.4375\n",
      "Epoch 4/1600\n",
      " 7/12 [================>.............] - ETA: 0s - loss: 1.9814 - accuracy: 0.3281\n",
      "Epoch 4: saving model to model/keypoint_classifier\\keypoint_classifier.hdf5\n",
      "12/12 [==============================] - 0s 24ms/step - loss: 1.9658 - accuracy: 0.3313 - val_loss: 1.7427 - val_accuracy: 0.4496\n",
      "Epoch 5/1600\n",
      " 7/12 [================>.............] - ETA: 0s - loss: 1.9000 - accuracy: 0.3415\n",
      "Epoch 5: saving model to model/keypoint_classifier\\keypoint_classifier.hdf5\n",
      "12/12 [==============================] - 0s 24ms/step - loss: 1.8466 - accuracy: 0.3575 - val_loss: 1.5296 - val_accuracy: 0.6331\n",
      "Epoch 6/1600\n",
      "12/12 [==============================] - ETA: 0s - loss: 1.6670 - accuracy: 0.4435\n",
      "Epoch 6: saving model to model/keypoint_classifier\\keypoint_classifier.hdf5\n",
      "12/12 [==============================] - 0s 25ms/step - loss: 1.6670 - accuracy: 0.4435 - val_loss: 1.3412 - val_accuracy: 0.6976\n",
      "Epoch 7/1600\n",
      " 7/12 [================>.............] - ETA: 0s - loss: 1.5231 - accuracy: 0.5000\n",
      "Epoch 7: saving model to model/keypoint_classifier\\keypoint_classifier.hdf5\n",
      "12/12 [==============================] - 0s 24ms/step - loss: 1.5190 - accuracy: 0.4852 - val_loss: 1.1516 - val_accuracy: 0.7782\n",
      "Epoch 8/1600\n",
      "12/12 [==============================] - ETA: 0s - loss: 1.3656 - accuracy: 0.5504\n",
      "Epoch 8: saving model to model/keypoint_classifier\\keypoint_classifier.hdf5\n",
      "12/12 [==============================] - 0s 24ms/step - loss: 1.3656 - accuracy: 0.5504 - val_loss: 1.0057 - val_accuracy: 0.7661\n",
      "Epoch 9/1600\n",
      " 8/12 [===================>..........] - ETA: 0s - loss: 1.2777 - accuracy: 0.5547\n",
      "Epoch 9: saving model to model/keypoint_classifier\\keypoint_classifier.hdf5\n",
      "12/12 [==============================] - 0s 22ms/step - loss: 1.2560 - accuracy: 0.5605 - val_loss: 0.8741 - val_accuracy: 0.7984\n",
      "Epoch 10/1600\n",
      " 8/12 [===================>..........] - ETA: 0s - loss: 1.1387 - accuracy: 0.5986\n",
      "Epoch 10: saving model to model/keypoint_classifier\\keypoint_classifier.hdf5\n",
      "12/12 [==============================] - 0s 21ms/step - loss: 1.1372 - accuracy: 0.6001 - val_loss: 0.7748 - val_accuracy: 0.8327\n",
      "Epoch 11/1600\n",
      " 8/12 [===================>..........] - ETA: 0s - loss: 1.0431 - accuracy: 0.6299\n",
      "Epoch 11: saving model to model/keypoint_classifier\\keypoint_classifier.hdf5\n",
      "12/12 [==============================] - 0s 22ms/step - loss: 1.0323 - accuracy: 0.6351 - val_loss: 0.6707 - val_accuracy: 0.8669\n",
      "Epoch 12/1600\n",
      " 7/12 [================>.............] - ETA: 0s - loss: 0.9832 - accuracy: 0.6473\n",
      "Epoch 12: saving model to model/keypoint_classifier\\keypoint_classifier.hdf5\n",
      "12/12 [==============================] - 0s 23ms/step - loss: 0.9755 - accuracy: 0.6606 - val_loss: 0.6145 - val_accuracy: 0.8286\n",
      "Epoch 13/1600\n",
      " 7/12 [================>.............] - ETA: 0s - loss: 0.8905 - accuracy: 0.7009\n",
      "Epoch 13: saving model to model/keypoint_classifier\\keypoint_classifier.hdf5\n",
      "12/12 [==============================] - 0s 22ms/step - loss: 0.8689 - accuracy: 0.6956 - val_loss: 0.5326 - val_accuracy: 0.8911\n",
      "Epoch 14/1600\n",
      " 8/12 [===================>..........] - ETA: 0s - loss: 0.8564 - accuracy: 0.6855\n",
      "Epoch 14: saving model to model/keypoint_classifier\\keypoint_classifier.hdf5\n",
      "12/12 [==============================] - 0s 21ms/step - loss: 0.8539 - accuracy: 0.6868 - val_loss: 0.4933 - val_accuracy: 0.8508\n",
      "Epoch 15/1600\n",
      " 7/12 [================>.............] - ETA: 0s - loss: 0.8100 - accuracy: 0.7299\n",
      "Epoch 15: saving model to model/keypoint_classifier\\keypoint_classifier.hdf5\n",
      "12/12 [==============================] - 0s 20ms/step - loss: 0.7973 - accuracy: 0.7184 - val_loss: 0.4401 - val_accuracy: 0.9153\n",
      "Epoch 16/1600\n",
      " 7/12 [================>.............] - ETA: 0s - loss: 0.7363 - accuracy: 0.7333\n",
      "Epoch 16: saving model to model/keypoint_classifier\\keypoint_classifier.hdf5\n",
      "12/12 [==============================] - 0s 21ms/step - loss: 0.7379 - accuracy: 0.7392 - val_loss: 0.4220 - val_accuracy: 0.8629\n",
      "Epoch 17/1600\n",
      " 7/12 [================>.............] - ETA: 0s - loss: 0.7190 - accuracy: 0.7411\n",
      "Epoch 17: saving model to model/keypoint_classifier\\keypoint_classifier.hdf5\n",
      "12/12 [==============================] - 0s 21ms/step - loss: 0.7090 - accuracy: 0.7433 - val_loss: 0.3757 - val_accuracy: 0.9153\n",
      "Epoch 18/1600\n",
      " 8/12 [===================>..........] - ETA: 0s - loss: 0.6846 - accuracy: 0.7422\n",
      "Epoch 18: saving model to model/keypoint_classifier\\keypoint_classifier.hdf5\n",
      "12/12 [==============================] - 0s 21ms/step - loss: 0.6882 - accuracy: 0.7319 - val_loss: 0.3562 - val_accuracy: 0.9234\n",
      "Epoch 19/1600\n",
      " 8/12 [===================>..........] - ETA: 0s - loss: 0.6664 - accuracy: 0.7695\n",
      "Epoch 19: saving model to model/keypoint_classifier\\keypoint_classifier.hdf5\n",
      "12/12 [==============================] - 0s 21ms/step - loss: 0.6559 - accuracy: 0.7648 - val_loss: 0.3364 - val_accuracy: 0.9234\n",
      "Epoch 20/1600\n",
      " 7/12 [================>.............] - ETA: 0s - loss: 0.6285 - accuracy: 0.7679\n",
      "Epoch 20: saving model to model/keypoint_classifier\\keypoint_classifier.hdf5\n",
      "12/12 [==============================] - 0s 22ms/step - loss: 0.6109 - accuracy: 0.7695 - val_loss: 0.3168 - val_accuracy: 0.8851\n",
      "Epoch 21/1600\n",
      " 8/12 [===================>..........] - ETA: 0s - loss: 0.6017 - accuracy: 0.7715\n",
      "Epoch 21: saving model to model/keypoint_classifier\\keypoint_classifier.hdf5\n",
      "12/12 [==============================] - 0s 22ms/step - loss: 0.6096 - accuracy: 0.7668 - val_loss: 0.3095 - val_accuracy: 0.9133\n",
      "Epoch 22/1600\n",
      " 8/12 [===================>..........] - ETA: 0s - loss: 0.5906 - accuracy: 0.7871\n",
      "Epoch 22: saving model to model/keypoint_classifier\\keypoint_classifier.hdf5\n",
      "12/12 [==============================] - 0s 22ms/step - loss: 0.5780 - accuracy: 0.7876 - val_loss: 0.2978 - val_accuracy: 0.9194\n",
      "Epoch 23/1600\n",
      " 8/12 [===================>..........] - ETA: 0s - loss: 0.5619 - accuracy: 0.7861\n",
      "Epoch 23: saving model to model/keypoint_classifier\\keypoint_classifier.hdf5\n",
      "12/12 [==============================] - 0s 22ms/step - loss: 0.5697 - accuracy: 0.7836 - val_loss: 0.2946 - val_accuracy: 0.8629\n",
      "Epoch 24/1600\n",
      " 7/12 [================>.............] - ETA: 0s - loss: 0.5247 - accuracy: 0.7958\n",
      "Epoch 24: saving model to model/keypoint_classifier\\keypoint_classifier.hdf5\n",
      "12/12 [==============================] - 0s 21ms/step - loss: 0.5504 - accuracy: 0.7856 - val_loss: 0.2761 - val_accuracy: 0.9536\n",
      "Epoch 25/1600\n",
      " 8/12 [===================>..........] - ETA: 0s - loss: 0.5294 - accuracy: 0.7812\n",
      "Epoch 25: saving model to model/keypoint_classifier\\keypoint_classifier.hdf5\n",
      "12/12 [==============================] - 0s 21ms/step - loss: 0.5298 - accuracy: 0.7923 - val_loss: 0.2729 - val_accuracy: 0.9032\n",
      "Epoch 26/1600\n",
      " 8/12 [===================>..........] - ETA: 0s - loss: 0.4889 - accuracy: 0.7949\n",
      "Epoch 26: saving model to model/keypoint_classifier\\keypoint_classifier.hdf5\n",
      "12/12 [==============================] - 0s 21ms/step - loss: 0.5060 - accuracy: 0.7802 - val_loss: 0.2505 - val_accuracy: 0.9435\n",
      "Epoch 27/1600\n",
      " 8/12 [===================>..........] - ETA: 0s - loss: 0.5027 - accuracy: 0.8037\n",
      "Epoch 27: saving model to model/keypoint_classifier\\keypoint_classifier.hdf5\n",
      "12/12 [==============================] - 0s 23ms/step - loss: 0.5153 - accuracy: 0.7991 - val_loss: 0.2595 - val_accuracy: 0.8750\n",
      "Epoch 28/1600\n",
      " 8/12 [===================>..........] - ETA: 0s - loss: 0.4773 - accuracy: 0.8086\n",
      "Epoch 28: saving model to model/keypoint_classifier\\keypoint_classifier.hdf5\n",
      "12/12 [==============================] - 0s 21ms/step - loss: 0.4882 - accuracy: 0.8038 - val_loss: 0.2388 - val_accuracy: 0.9617\n",
      "Epoch 29/1600\n"
     ]
    },
    {
     "name": "stdout",
     "output_type": "stream",
     "text": [
      " 8/12 [===================>..........] - ETA: 0s - loss: 0.4609 - accuracy: 0.8223\n",
      "Epoch 29: saving model to model/keypoint_classifier\\keypoint_classifier.hdf5\n",
      "12/12 [==============================] - 0s 22ms/step - loss: 0.4743 - accuracy: 0.8206 - val_loss: 0.2361 - val_accuracy: 0.9194\n",
      "Epoch 30/1600\n",
      " 7/12 [================>.............] - ETA: 0s - loss: 0.4719 - accuracy: 0.8304\n",
      "Epoch 30: saving model to model/keypoint_classifier\\keypoint_classifier.hdf5\n",
      "12/12 [==============================] - 0s 21ms/step - loss: 0.4586 - accuracy: 0.8306 - val_loss: 0.2338 - val_accuracy: 0.9214\n",
      "Epoch 31/1600\n",
      " 8/12 [===================>..........] - ETA: 0s - loss: 0.4549 - accuracy: 0.8223\n",
      "Epoch 31: saving model to model/keypoint_classifier\\keypoint_classifier.hdf5\n",
      "12/12 [==============================] - 0s 21ms/step - loss: 0.4622 - accuracy: 0.8165 - val_loss: 0.2263 - val_accuracy: 0.9456\n",
      "Epoch 32/1600\n",
      " 8/12 [===================>..........] - ETA: 0s - loss: 0.4349 - accuracy: 0.8438\n",
      "Epoch 32: saving model to model/keypoint_classifier\\keypoint_classifier.hdf5\n",
      "12/12 [==============================] - 0s 22ms/step - loss: 0.4376 - accuracy: 0.8306 - val_loss: 0.2157 - val_accuracy: 0.9617\n",
      "Epoch 33/1600\n",
      " 7/12 [================>.............] - ETA: 0s - loss: 0.4537 - accuracy: 0.8292\n",
      "Epoch 33: saving model to model/keypoint_classifier\\keypoint_classifier.hdf5\n",
      "12/12 [==============================] - 0s 23ms/step - loss: 0.4626 - accuracy: 0.8152 - val_loss: 0.2148 - val_accuracy: 0.9637\n",
      "Epoch 34/1600\n",
      " 9/12 [=====================>........] - ETA: 0s - loss: 0.4450 - accuracy: 0.8021\n",
      "Epoch 34: saving model to model/keypoint_classifier\\keypoint_classifier.hdf5\n",
      "12/12 [==============================] - 0s 22ms/step - loss: 0.4442 - accuracy: 0.8071 - val_loss: 0.2174 - val_accuracy: 0.9234\n",
      "Epoch 35/1600\n",
      " 7/12 [================>.............] - ETA: 0s - loss: 0.4495 - accuracy: 0.8248\n",
      "Epoch 35: saving model to model/keypoint_classifier\\keypoint_classifier.hdf5\n",
      "12/12 [==============================] - 0s 22ms/step - loss: 0.4290 - accuracy: 0.8293 - val_loss: 0.2024 - val_accuracy: 0.9536\n",
      "Epoch 36/1600\n",
      " 8/12 [===================>..........] - ETA: 0s - loss: 0.4166 - accuracy: 0.8291\n",
      "Epoch 36: saving model to model/keypoint_classifier\\keypoint_classifier.hdf5\n",
      "12/12 [==============================] - 0s 22ms/step - loss: 0.4302 - accuracy: 0.8266 - val_loss: 0.2048 - val_accuracy: 0.9335\n",
      "Epoch 37/1600\n",
      " 6/12 [==============>...............] - ETA: 0s - loss: 0.4116 - accuracy: 0.8268\n",
      "Epoch 37: saving model to model/keypoint_classifier\\keypoint_classifier.hdf5\n",
      "12/12 [==============================] - 0s 22ms/step - loss: 0.4143 - accuracy: 0.8360 - val_loss: 0.2057 - val_accuracy: 0.9315\n",
      "Epoch 38/1600\n",
      " 8/12 [===================>..........] - ETA: 0s - loss: 0.3665 - accuracy: 0.8643\n",
      "Epoch 38: saving model to model/keypoint_classifier\\keypoint_classifier.hdf5\n",
      "12/12 [==============================] - 0s 20ms/step - loss: 0.3801 - accuracy: 0.8582 - val_loss: 0.1855 - val_accuracy: 0.9617\n",
      "Epoch 39/1600\n",
      " 8/12 [===================>..........] - ETA: 0s - loss: 0.3950 - accuracy: 0.8379\n",
      "Epoch 39: saving model to model/keypoint_classifier\\keypoint_classifier.hdf5\n",
      "12/12 [==============================] - 0s 21ms/step - loss: 0.3890 - accuracy: 0.8434 - val_loss: 0.1900 - val_accuracy: 0.9496\n",
      "Epoch 40/1600\n",
      " 8/12 [===================>..........] - ETA: 0s - loss: 0.3854 - accuracy: 0.8467\n",
      "Epoch 40: saving model to model/keypoint_classifier\\keypoint_classifier.hdf5\n",
      "12/12 [==============================] - 0s 21ms/step - loss: 0.3956 - accuracy: 0.8421 - val_loss: 0.1838 - val_accuracy: 0.9556\n",
      "Epoch 41/1600\n",
      " 9/12 [=====================>........] - ETA: 0s - loss: 0.3969 - accuracy: 0.8464\n",
      "Epoch 41: saving model to model/keypoint_classifier\\keypoint_classifier.hdf5\n",
      "12/12 [==============================] - 0s 20ms/step - loss: 0.3824 - accuracy: 0.8535 - val_loss: 0.1797 - val_accuracy: 0.9698\n",
      "Epoch 42/1600\n",
      " 9/12 [=====================>........] - ETA: 0s - loss: 0.3866 - accuracy: 0.8481\n",
      "Epoch 42: saving model to model/keypoint_classifier\\keypoint_classifier.hdf5\n",
      "12/12 [==============================] - 0s 22ms/step - loss: 0.3825 - accuracy: 0.8448 - val_loss: 0.1880 - val_accuracy: 0.9113\n",
      "Epoch 43/1600\n",
      " 8/12 [===================>..........] - ETA: 0s - loss: 0.3952 - accuracy: 0.8291\n",
      "Epoch 43: saving model to model/keypoint_classifier\\keypoint_classifier.hdf5\n",
      "12/12 [==============================] - 0s 22ms/step - loss: 0.3867 - accuracy: 0.8347 - val_loss: 0.1726 - val_accuracy: 0.9496\n",
      "Epoch 44/1600\n",
      " 9/12 [=====================>........] - ETA: 0s - loss: 0.3790 - accuracy: 0.8481\n",
      "Epoch 44: saving model to model/keypoint_classifier\\keypoint_classifier.hdf5\n",
      "12/12 [==============================] - 0s 22ms/step - loss: 0.3631 - accuracy: 0.8528 - val_loss: 0.1883 - val_accuracy: 0.9254\n",
      "Epoch 45/1600\n",
      " 8/12 [===================>..........] - ETA: 0s - loss: 0.3585 - accuracy: 0.8555\n",
      "Epoch 45: saving model to model/keypoint_classifier\\keypoint_classifier.hdf5\n",
      "12/12 [==============================] - 0s 21ms/step - loss: 0.3646 - accuracy: 0.8515 - val_loss: 0.1655 - val_accuracy: 0.9657\n",
      "Epoch 46/1600\n",
      " 9/12 [=====================>........] - ETA: 0s - loss: 0.3607 - accuracy: 0.8507\n",
      "Epoch 46: saving model to model/keypoint_classifier\\keypoint_classifier.hdf5\n",
      "12/12 [==============================] - 0s 21ms/step - loss: 0.3527 - accuracy: 0.8535 - val_loss: 0.1664 - val_accuracy: 0.9657\n",
      "Epoch 47/1600\n",
      " 8/12 [===================>..........] - ETA: 0s - loss: 0.3341 - accuracy: 0.8721\n",
      "Epoch 47: saving model to model/keypoint_classifier\\keypoint_classifier.hdf5\n",
      "12/12 [==============================] - 0s 21ms/step - loss: 0.3445 - accuracy: 0.8649 - val_loss: 0.1829 - val_accuracy: 0.9315\n",
      "Epoch 48/1600\n",
      "11/12 [==========================>...] - ETA: 0s - loss: 0.3481 - accuracy: 0.8544\n",
      "Epoch 48: saving model to model/keypoint_classifier\\keypoint_classifier.hdf5\n",
      "12/12 [==============================] - 0s 19ms/step - loss: 0.3494 - accuracy: 0.8562 - val_loss: 0.1562 - val_accuracy: 0.9637\n",
      "Epoch 49/1600\n",
      " 8/12 [===================>..........] - ETA: 0s - loss: 0.3557 - accuracy: 0.8486\n",
      "Epoch 49: saving model to model/keypoint_classifier\\keypoint_classifier.hdf5\n",
      "12/12 [==============================] - 0s 20ms/step - loss: 0.3483 - accuracy: 0.8535 - val_loss: 0.1705 - val_accuracy: 0.9294\n",
      "Epoch 50/1600\n",
      " 9/12 [=====================>........] - ETA: 0s - loss: 0.3650 - accuracy: 0.8559\n",
      "Epoch 50: saving model to model/keypoint_classifier\\keypoint_classifier.hdf5\n",
      "12/12 [==============================] - 0s 20ms/step - loss: 0.3636 - accuracy: 0.8548 - val_loss: 0.1545 - val_accuracy: 0.9637\n",
      "Epoch 51/1600\n",
      " 8/12 [===================>..........] - ETA: 0s - loss: 0.3299 - accuracy: 0.8691\n",
      "Epoch 51: saving model to model/keypoint_classifier\\keypoint_classifier.hdf5\n",
      "12/12 [==============================] - 0s 21ms/step - loss: 0.3353 - accuracy: 0.8649 - val_loss: 0.1711 - val_accuracy: 0.9294\n",
      "Epoch 52/1600\n",
      " 8/12 [===================>..........] - ETA: 0s - loss: 0.3278 - accuracy: 0.8613\n",
      "Epoch 52: saving model to model/keypoint_classifier\\keypoint_classifier.hdf5\n",
      "12/12 [==============================] - 0s 21ms/step - loss: 0.3333 - accuracy: 0.8636 - val_loss: 0.1555 - val_accuracy: 0.9556\n",
      "Epoch 53/1600\n",
      " 8/12 [===================>..........] - ETA: 0s - loss: 0.3361 - accuracy: 0.8662\n",
      "Epoch 53: saving model to model/keypoint_classifier\\keypoint_classifier.hdf5\n",
      "12/12 [==============================] - 0s 21ms/step - loss: 0.3391 - accuracy: 0.8676 - val_loss: 0.1480 - val_accuracy: 0.9738\n",
      "Epoch 54/1600\n",
      " 8/12 [===================>..........] - ETA: 0s - loss: 0.3187 - accuracy: 0.8779\n",
      "Epoch 54: saving model to model/keypoint_classifier\\keypoint_classifier.hdf5\n",
      "12/12 [==============================] - 0s 20ms/step - loss: 0.3260 - accuracy: 0.8710 - val_loss: 0.1552 - val_accuracy: 0.9597\n",
      "Epoch 55/1600\n",
      " 8/12 [===================>..........] - ETA: 0s - loss: 0.3502 - accuracy: 0.8564\n",
      "Epoch 55: saving model to model/keypoint_classifier\\keypoint_classifier.hdf5\n",
      "12/12 [==============================] - 0s 22ms/step - loss: 0.3276 - accuracy: 0.8703 - val_loss: 0.1517 - val_accuracy: 0.9597\n"
     ]
    },
    {
     "name": "stdout",
     "output_type": "stream",
     "text": [
      "Epoch 56/1600\n",
      " 7/12 [================>.............] - ETA: 0s - loss: 0.3142 - accuracy: 0.8761\n",
      "Epoch 56: saving model to model/keypoint_classifier\\keypoint_classifier.hdf5\n",
      "12/12 [==============================] - 0s 22ms/step - loss: 0.3115 - accuracy: 0.8770 - val_loss: 0.1427 - val_accuracy: 0.9677\n",
      "Epoch 57/1600\n",
      " 8/12 [===================>..........] - ETA: 0s - loss: 0.3303 - accuracy: 0.8682\n",
      "Epoch 57: saving model to model/keypoint_classifier\\keypoint_classifier.hdf5\n",
      "12/12 [==============================] - 0s 21ms/step - loss: 0.3283 - accuracy: 0.8683 - val_loss: 0.1550 - val_accuracy: 0.9375\n",
      "Epoch 58/1600\n",
      " 8/12 [===================>..........] - ETA: 0s - loss: 0.3106 - accuracy: 0.8760\n",
      "Epoch 58: saving model to model/keypoint_classifier\\keypoint_classifier.hdf5\n",
      "12/12 [==============================] - 0s 22ms/step - loss: 0.3092 - accuracy: 0.8824 - val_loss: 0.1363 - val_accuracy: 0.9698\n",
      "Epoch 59/1600\n",
      " 7/12 [================>.............] - ETA: 0s - loss: 0.3074 - accuracy: 0.8806\n",
      "Epoch 59: saving model to model/keypoint_classifier\\keypoint_classifier.hdf5\n",
      "12/12 [==============================] - 0s 22ms/step - loss: 0.3098 - accuracy: 0.8737 - val_loss: 0.1417 - val_accuracy: 0.9577\n",
      "Epoch 60/1600\n",
      " 9/12 [=====================>........] - ETA: 0s - loss: 0.3021 - accuracy: 0.8837\n",
      "Epoch 60: saving model to model/keypoint_classifier\\keypoint_classifier.hdf5\n",
      "12/12 [==============================] - 0s 19ms/step - loss: 0.3061 - accuracy: 0.8837 - val_loss: 0.1335 - val_accuracy: 0.9718\n",
      "Epoch 61/1600\n",
      " 8/12 [===================>..........] - ETA: 0s - loss: 0.3207 - accuracy: 0.8809\n",
      "Epoch 61: saving model to model/keypoint_classifier\\keypoint_classifier.hdf5\n",
      "12/12 [==============================] - 0s 21ms/step - loss: 0.3061 - accuracy: 0.8831 - val_loss: 0.1304 - val_accuracy: 0.9677\n",
      "Epoch 62/1600\n",
      " 8/12 [===================>..........] - ETA: 0s - loss: 0.2806 - accuracy: 0.8906\n",
      "Epoch 62: saving model to model/keypoint_classifier\\keypoint_classifier.hdf5\n",
      "12/12 [==============================] - 0s 21ms/step - loss: 0.2842 - accuracy: 0.8905 - val_loss: 0.1270 - val_accuracy: 0.9738\n",
      "Epoch 63/1600\n",
      " 7/12 [================>.............] - ETA: 0s - loss: 0.2885 - accuracy: 0.8828\n",
      "Epoch 63: saving model to model/keypoint_classifier\\keypoint_classifier.hdf5\n",
      "12/12 [==============================] - 0s 21ms/step - loss: 0.2959 - accuracy: 0.8817 - val_loss: 0.1320 - val_accuracy: 0.9738\n",
      "Epoch 64/1600\n",
      " 8/12 [===================>..........] - ETA: 0s - loss: 0.2714 - accuracy: 0.8896\n",
      "Epoch 64: saving model to model/keypoint_classifier\\keypoint_classifier.hdf5\n",
      "12/12 [==============================] - 0s 21ms/step - loss: 0.2817 - accuracy: 0.8878 - val_loss: 0.1209 - val_accuracy: 0.9758\n",
      "Epoch 65/1600\n",
      " 8/12 [===================>..........] - ETA: 0s - loss: 0.2808 - accuracy: 0.8887\n",
      "Epoch 65: saving model to model/keypoint_classifier\\keypoint_classifier.hdf5\n",
      "12/12 [==============================] - 0s 21ms/step - loss: 0.2703 - accuracy: 0.8972 - val_loss: 0.1235 - val_accuracy: 0.9738\n",
      "Epoch 66/1600\n",
      " 7/12 [================>.............] - ETA: 0s - loss: 0.2921 - accuracy: 0.8906\n",
      "Epoch 66: saving model to model/keypoint_classifier\\keypoint_classifier.hdf5\n",
      "12/12 [==============================] - 0s 21ms/step - loss: 0.2811 - accuracy: 0.8898 - val_loss: 0.1233 - val_accuracy: 0.9677\n",
      "Epoch 67/1600\n",
      " 8/12 [===================>..........] - ETA: 0s - loss: 0.2971 - accuracy: 0.8818\n",
      "Epoch 67: saving model to model/keypoint_classifier\\keypoint_classifier.hdf5\n",
      "12/12 [==============================] - 0s 21ms/step - loss: 0.3053 - accuracy: 0.8770 - val_loss: 0.1179 - val_accuracy: 0.9778\n",
      "Epoch 68/1600\n",
      " 8/12 [===================>..........] - ETA: 0s - loss: 0.2624 - accuracy: 0.8926\n",
      "Epoch 68: saving model to model/keypoint_classifier\\keypoint_classifier.hdf5\n",
      "12/12 [==============================] - 0s 21ms/step - loss: 0.2578 - accuracy: 0.8985 - val_loss: 0.1307 - val_accuracy: 0.9617\n",
      "Epoch 69/1600\n",
      " 9/12 [=====================>........] - ETA: 0s - loss: 0.2776 - accuracy: 0.8915\n",
      "Epoch 69: saving model to model/keypoint_classifier\\keypoint_classifier.hdf5\n",
      "12/12 [==============================] - 0s 21ms/step - loss: 0.2742 - accuracy: 0.8925 - val_loss: 0.1183 - val_accuracy: 0.9758\n",
      "Epoch 70/1600\n",
      " 8/12 [===================>..........] - ETA: 0s - loss: 0.2910 - accuracy: 0.8760\n",
      "Epoch 70: saving model to model/keypoint_classifier\\keypoint_classifier.hdf5\n",
      "12/12 [==============================] - 0s 21ms/step - loss: 0.2784 - accuracy: 0.8797 - val_loss: 0.1192 - val_accuracy: 0.9758\n",
      "Epoch 71/1600\n",
      " 8/12 [===================>..........] - ETA: 0s - loss: 0.2628 - accuracy: 0.8965\n",
      "Epoch 71: saving model to model/keypoint_classifier\\keypoint_classifier.hdf5\n",
      "12/12 [==============================] - 0s 21ms/step - loss: 0.2761 - accuracy: 0.8925 - val_loss: 0.1261 - val_accuracy: 0.9597\n",
      "Epoch 72/1600\n",
      " 9/12 [=====================>........] - ETA: 0s - loss: 0.2871 - accuracy: 0.8854\n",
      "Epoch 72: saving model to model/keypoint_classifier\\keypoint_classifier.hdf5\n",
      "12/12 [==============================] - 0s 22ms/step - loss: 0.2956 - accuracy: 0.8851 - val_loss: 0.1124 - val_accuracy: 0.9738\n",
      "Epoch 73/1600\n",
      " 9/12 [=====================>........] - ETA: 0s - loss: 0.2585 - accuracy: 0.8915\n",
      "Epoch 73: saving model to model/keypoint_classifier\\keypoint_classifier.hdf5\n",
      "12/12 [==============================] - 0s 21ms/step - loss: 0.2649 - accuracy: 0.8884 - val_loss: 0.1169 - val_accuracy: 0.9637\n",
      "Epoch 74/1600\n",
      " 8/12 [===================>..........] - ETA: 0s - loss: 0.2713 - accuracy: 0.8867\n",
      "Epoch 74: saving model to model/keypoint_classifier\\keypoint_classifier.hdf5\n",
      "12/12 [==============================] - 0s 22ms/step - loss: 0.2743 - accuracy: 0.8878 - val_loss: 0.1043 - val_accuracy: 0.9778\n",
      "Epoch 75/1600\n",
      " 8/12 [===================>..........] - ETA: 0s - loss: 0.2630 - accuracy: 0.8945\n",
      "Epoch 75: saving model to model/keypoint_classifier\\keypoint_classifier.hdf5\n",
      "12/12 [==============================] - 0s 21ms/step - loss: 0.2579 - accuracy: 0.9026 - val_loss: 0.1069 - val_accuracy: 0.9778\n",
      "Epoch 76/1600\n",
      " 8/12 [===================>..........] - ETA: 0s - loss: 0.2558 - accuracy: 0.9023\n",
      "Epoch 76: saving model to model/keypoint_classifier\\keypoint_classifier.hdf5\n",
      "12/12 [==============================] - 0s 21ms/step - loss: 0.2589 - accuracy: 0.8958 - val_loss: 0.1089 - val_accuracy: 0.9778\n",
      "Epoch 77/1600\n",
      " 9/12 [=====================>........] - ETA: 0s - loss: 0.2520 - accuracy: 0.9062\n",
      "Epoch 77: saving model to model/keypoint_classifier\\keypoint_classifier.hdf5\n",
      "12/12 [==============================] - 0s 20ms/step - loss: 0.2559 - accuracy: 0.8972 - val_loss: 0.1002 - val_accuracy: 0.9778\n",
      "Epoch 78/1600\n",
      " 8/12 [===================>..........] - ETA: 0s - loss: 0.2682 - accuracy: 0.8926\n",
      "Epoch 78: saving model to model/keypoint_classifier\\keypoint_classifier.hdf5\n",
      "12/12 [==============================] - 0s 20ms/step - loss: 0.2655 - accuracy: 0.8938 - val_loss: 0.1067 - val_accuracy: 0.9758\n",
      "Epoch 79/1600\n",
      " 9/12 [=====================>........] - ETA: 0s - loss: 0.2608 - accuracy: 0.8880\n",
      "Epoch 79: saving model to model/keypoint_classifier\\keypoint_classifier.hdf5\n",
      "12/12 [==============================] - 0s 20ms/step - loss: 0.2607 - accuracy: 0.8911 - val_loss: 0.1076 - val_accuracy: 0.9778\n",
      "Epoch 80/1600\n",
      " 8/12 [===================>..........] - ETA: 0s - loss: 0.2580 - accuracy: 0.9004\n",
      "Epoch 80: saving model to model/keypoint_classifier\\keypoint_classifier.hdf5\n",
      "12/12 [==============================] - 0s 19ms/step - loss: 0.2657 - accuracy: 0.8992 - val_loss: 0.0971 - val_accuracy: 0.9798\n",
      "Epoch 81/1600\n",
      " 8/12 [===================>..........] - ETA: 0s - loss: 0.2570 - accuracy: 0.8955\n",
      "Epoch 81: saving model to model/keypoint_classifier\\keypoint_classifier.hdf5\n",
      "12/12 [==============================] - 0s 19ms/step - loss: 0.2615 - accuracy: 0.8972 - val_loss: 0.1115 - val_accuracy: 0.9738\n",
      "Epoch 82/1600\n",
      " 8/12 [===================>..........] - ETA: 0s - loss: 0.2366 - accuracy: 0.9131\n",
      "Epoch 82: saving model to model/keypoint_classifier\\keypoint_classifier.hdf5\n",
      "12/12 [==============================] - 0s 22ms/step - loss: 0.2481 - accuracy: 0.9046 - val_loss: 0.0998 - val_accuracy: 0.9839\n"
     ]
    },
    {
     "name": "stdout",
     "output_type": "stream",
     "text": [
      "Epoch 83/1600\n",
      " 8/12 [===================>..........] - ETA: 0s - loss: 0.2504 - accuracy: 0.9092\n",
      "Epoch 83: saving model to model/keypoint_classifier\\keypoint_classifier.hdf5\n",
      "12/12 [==============================] - 0s 21ms/step - loss: 0.2464 - accuracy: 0.9073 - val_loss: 0.0928 - val_accuracy: 0.9798\n",
      "Epoch 84/1600\n",
      " 8/12 [===================>..........] - ETA: 0s - loss: 0.2307 - accuracy: 0.9082\n",
      "Epoch 84: saving model to model/keypoint_classifier\\keypoint_classifier.hdf5\n",
      "12/12 [==============================] - 0s 21ms/step - loss: 0.2322 - accuracy: 0.9059 - val_loss: 0.0971 - val_accuracy: 0.9778\n",
      "Epoch 85/1600\n",
      " 8/12 [===================>..........] - ETA: 0s - loss: 0.2358 - accuracy: 0.8984\n",
      "Epoch 85: saving model to model/keypoint_classifier\\keypoint_classifier.hdf5\n",
      "12/12 [==============================] - 0s 21ms/step - loss: 0.2451 - accuracy: 0.8952 - val_loss: 0.0967 - val_accuracy: 0.9778\n",
      "Epoch 86/1600\n",
      " 7/12 [================>.............] - ETA: 0s - loss: 0.2467 - accuracy: 0.9007\n",
      "Epoch 86: saving model to model/keypoint_classifier\\keypoint_classifier.hdf5\n",
      "12/12 [==============================] - 0s 21ms/step - loss: 0.2436 - accuracy: 0.8985 - val_loss: 0.0896 - val_accuracy: 0.9798\n",
      "Epoch 87/1600\n",
      " 8/12 [===================>..........] - ETA: 0s - loss: 0.2534 - accuracy: 0.8994\n",
      "Epoch 87: saving model to model/keypoint_classifier\\keypoint_classifier.hdf5\n",
      "12/12 [==============================] - 0s 21ms/step - loss: 0.2509 - accuracy: 0.9005 - val_loss: 0.1051 - val_accuracy: 0.9698\n",
      "Epoch 88/1600\n",
      " 8/12 [===================>..........] - ETA: 0s - loss: 0.2479 - accuracy: 0.8994\n",
      "Epoch 88: saving model to model/keypoint_classifier\\keypoint_classifier.hdf5\n",
      "12/12 [==============================] - 0s 21ms/step - loss: 0.2391 - accuracy: 0.9052 - val_loss: 0.0963 - val_accuracy: 0.9819\n",
      "Epoch 89/1600\n",
      " 8/12 [===================>..........] - ETA: 0s - loss: 0.2329 - accuracy: 0.9062\n",
      "Epoch 89: saving model to model/keypoint_classifier\\keypoint_classifier.hdf5\n",
      "12/12 [==============================] - 0s 21ms/step - loss: 0.2244 - accuracy: 0.9126 - val_loss: 0.0950 - val_accuracy: 0.9839\n",
      "Epoch 90/1600\n",
      " 9/12 [=====================>........] - ETA: 0s - loss: 0.2498 - accuracy: 0.9045\n",
      "Epoch 90: saving model to model/keypoint_classifier\\keypoint_classifier.hdf5\n",
      "12/12 [==============================] - 0s 20ms/step - loss: 0.2457 - accuracy: 0.9066 - val_loss: 0.0899 - val_accuracy: 0.9798\n",
      "Epoch 91/1600\n",
      " 9/12 [=====================>........] - ETA: 0s - loss: 0.2220 - accuracy: 0.9123\n",
      "Epoch 91: saving model to model/keypoint_classifier\\keypoint_classifier.hdf5\n",
      "12/12 [==============================] - 0s 20ms/step - loss: 0.2336 - accuracy: 0.9066 - val_loss: 0.0901 - val_accuracy: 0.9758\n",
      "Epoch 92/1600\n",
      "10/12 [========================>.....] - ETA: 0s - loss: 0.2485 - accuracy: 0.9023\n",
      "Epoch 92: saving model to model/keypoint_classifier\\keypoint_classifier.hdf5\n",
      "12/12 [==============================] - 0s 20ms/step - loss: 0.2405 - accuracy: 0.9059 - val_loss: 0.0974 - val_accuracy: 0.9839\n",
      "Epoch 93/1600\n",
      " 9/12 [=====================>........] - ETA: 0s - loss: 0.2275 - accuracy: 0.9132\n",
      "Epoch 93: saving model to model/keypoint_classifier\\keypoint_classifier.hdf5\n",
      "12/12 [==============================] - 0s 21ms/step - loss: 0.2322 - accuracy: 0.9086 - val_loss: 0.0856 - val_accuracy: 0.9798\n",
      "Epoch 94/1600\n",
      " 9/12 [=====================>........] - ETA: 0s - loss: 0.2295 - accuracy: 0.9141\n",
      "Epoch 94: saving model to model/keypoint_classifier\\keypoint_classifier.hdf5\n",
      "12/12 [==============================] - 0s 21ms/step - loss: 0.2342 - accuracy: 0.9106 - val_loss: 0.1021 - val_accuracy: 0.9798\n",
      "Epoch 95/1600\n",
      " 9/12 [=====================>........] - ETA: 0s - loss: 0.2377 - accuracy: 0.9062\n",
      "Epoch 95: saving model to model/keypoint_classifier\\keypoint_classifier.hdf5\n",
      "12/12 [==============================] - 0s 20ms/step - loss: 0.2355 - accuracy: 0.9052 - val_loss: 0.0862 - val_accuracy: 0.9798\n",
      "Epoch 96/1600\n",
      " 9/12 [=====================>........] - ETA: 0s - loss: 0.2313 - accuracy: 0.9115\n",
      "Epoch 96: saving model to model/keypoint_classifier\\keypoint_classifier.hdf5\n",
      "12/12 [==============================] - 0s 19ms/step - loss: 0.2299 - accuracy: 0.9059 - val_loss: 0.0909 - val_accuracy: 0.9839\n",
      "Epoch 97/1600\n",
      " 8/12 [===================>..........] - ETA: 0s - loss: 0.2098 - accuracy: 0.9121\n",
      "Epoch 97: saving model to model/keypoint_classifier\\keypoint_classifier.hdf5\n",
      "12/12 [==============================] - 0s 19ms/step - loss: 0.2174 - accuracy: 0.9066 - val_loss: 0.0808 - val_accuracy: 0.9798\n",
      "Epoch 98/1600\n",
      " 8/12 [===================>..........] - ETA: 0s - loss: 0.2307 - accuracy: 0.9033\n",
      "Epoch 98: saving model to model/keypoint_classifier\\keypoint_classifier.hdf5\n",
      "12/12 [==============================] - 0s 19ms/step - loss: 0.2255 - accuracy: 0.9120 - val_loss: 0.0966 - val_accuracy: 0.9738\n",
      "Epoch 99/1600\n",
      " 7/12 [================>.............] - ETA: 0s - loss: 0.2541 - accuracy: 0.8929\n",
      "Epoch 99: saving model to model/keypoint_classifier\\keypoint_classifier.hdf5\n",
      "12/12 [==============================] - 0s 22ms/step - loss: 0.2386 - accuracy: 0.9086 - val_loss: 0.0871 - val_accuracy: 0.9859\n",
      "Epoch 100/1600\n",
      " 7/12 [================>.............] - ETA: 0s - loss: 0.2125 - accuracy: 0.9107\n",
      "Epoch 100: saving model to model/keypoint_classifier\\keypoint_classifier.hdf5\n",
      "12/12 [==============================] - 0s 20ms/step - loss: 0.2126 - accuracy: 0.9180 - val_loss: 0.0852 - val_accuracy: 0.9839\n",
      "Epoch 101/1600\n",
      " 8/12 [===================>..........] - ETA: 0s - loss: 0.2100 - accuracy: 0.9287\n",
      "Epoch 101: saving model to model/keypoint_classifier\\keypoint_classifier.hdf5\n",
      "12/12 [==============================] - 0s 21ms/step - loss: 0.2061 - accuracy: 0.9267 - val_loss: 0.0894 - val_accuracy: 0.9819\n",
      "Epoch 102/1600\n",
      " 8/12 [===================>..........] - ETA: 0s - loss: 0.2195 - accuracy: 0.9082\n",
      "Epoch 102: saving model to model/keypoint_classifier\\keypoint_classifier.hdf5\n",
      "12/12 [==============================] - 0s 21ms/step - loss: 0.2173 - accuracy: 0.9106 - val_loss: 0.0797 - val_accuracy: 0.9839\n",
      "Epoch 103/1600\n",
      " 7/12 [================>.............] - ETA: 0s - loss: 0.2006 - accuracy: 0.9185\n",
      "Epoch 103: saving model to model/keypoint_classifier\\keypoint_classifier.hdf5\n",
      "12/12 [==============================] - 0s 21ms/step - loss: 0.2124 - accuracy: 0.9120 - val_loss: 0.0751 - val_accuracy: 0.9819\n",
      "Epoch 104/1600\n",
      " 9/12 [=====================>........] - ETA: 0s - loss: 0.2487 - accuracy: 0.9045\n",
      "Epoch 104: saving model to model/keypoint_classifier\\keypoint_classifier.hdf5\n",
      "12/12 [==============================] - 0s 21ms/step - loss: 0.2425 - accuracy: 0.9059 - val_loss: 0.0993 - val_accuracy: 0.9738\n",
      "Epoch 105/1600\n",
      " 9/12 [=====================>........] - ETA: 0s - loss: 0.2047 - accuracy: 0.9219\n",
      "Epoch 105: saving model to model/keypoint_classifier\\keypoint_classifier.hdf5\n",
      "12/12 [==============================] - 0s 22ms/step - loss: 0.2108 - accuracy: 0.9200 - val_loss: 0.0811 - val_accuracy: 0.9859\n",
      "Epoch 106/1600\n",
      " 9/12 [=====================>........] - ETA: 0s - loss: 0.2216 - accuracy: 0.9089\n",
      "Epoch 106: saving model to model/keypoint_classifier\\keypoint_classifier.hdf5\n",
      "12/12 [==============================] - 0s 21ms/step - loss: 0.2163 - accuracy: 0.9099 - val_loss: 0.0780 - val_accuracy: 0.9819\n",
      "Epoch 107/1600\n",
      " 9/12 [=====================>........] - ETA: 0s - loss: 0.2080 - accuracy: 0.9097\n",
      "Epoch 107: saving model to model/keypoint_classifier\\keypoint_classifier.hdf5\n",
      "12/12 [==============================] - 0s 21ms/step - loss: 0.2164 - accuracy: 0.9079 - val_loss: 0.0754 - val_accuracy: 0.9839\n",
      "Epoch 108/1600\n",
      "11/12 [==========================>...] - ETA: 0s - loss: 0.1873 - accuracy: 0.9283\n",
      "Epoch 108: saving model to model/keypoint_classifier\\keypoint_classifier.hdf5\n",
      "12/12 [==============================] - 0s 20ms/step - loss: 0.1874 - accuracy: 0.9288 - val_loss: 0.0844 - val_accuracy: 0.9798\n",
      "Epoch 109/1600\n",
      " 8/12 [===================>..........] - ETA: 0s - loss: 0.2263 - accuracy: 0.9268\n",
      "Epoch 109: saving model to model/keypoint_classifier\\keypoint_classifier.hdf5\n",
      "12/12 [==============================] - 0s 21ms/step - loss: 0.2284 - accuracy: 0.9214 - val_loss: 0.0704 - val_accuracy: 0.9839\n"
     ]
    },
    {
     "name": "stdout",
     "output_type": "stream",
     "text": [
      "Epoch 110/1600\n",
      " 9/12 [=====================>........] - ETA: 0s - loss: 0.2206 - accuracy: 0.9184\n",
      "Epoch 110: saving model to model/keypoint_classifier\\keypoint_classifier.hdf5\n",
      "12/12 [==============================] - 0s 21ms/step - loss: 0.2284 - accuracy: 0.9167 - val_loss: 0.0751 - val_accuracy: 0.9839\n",
      "Epoch 111/1600\n",
      " 9/12 [=====================>........] - ETA: 0s - loss: 0.2056 - accuracy: 0.9175\n",
      "Epoch 111: saving model to model/keypoint_classifier\\keypoint_classifier.hdf5\n",
      "12/12 [==============================] - 0s 20ms/step - loss: 0.2160 - accuracy: 0.9153 - val_loss: 0.0734 - val_accuracy: 0.9899\n",
      "Epoch 112/1600\n",
      " 8/12 [===================>..........] - ETA: 0s - loss: 0.2031 - accuracy: 0.9160\n",
      "Epoch 112: saving model to model/keypoint_classifier\\keypoint_classifier.hdf5\n",
      "12/12 [==============================] - 0s 21ms/step - loss: 0.2052 - accuracy: 0.9173 - val_loss: 0.0714 - val_accuracy: 0.9879\n",
      "Epoch 113/1600\n",
      " 8/12 [===================>..........] - ETA: 0s - loss: 0.2387 - accuracy: 0.9141\n",
      "Epoch 113: saving model to model/keypoint_classifier\\keypoint_classifier.hdf5\n",
      "12/12 [==============================] - 0s 21ms/step - loss: 0.2290 - accuracy: 0.9147 - val_loss: 0.0748 - val_accuracy: 0.9879\n",
      "Epoch 114/1600\n",
      " 7/12 [================>.............] - ETA: 0s - loss: 0.2126 - accuracy: 0.9230\n",
      "Epoch 114: saving model to model/keypoint_classifier\\keypoint_classifier.hdf5\n",
      "12/12 [==============================] - 0s 18ms/step - loss: 0.2205 - accuracy: 0.9173 - val_loss: 0.0798 - val_accuracy: 0.9859\n",
      "Epoch 115/1600\n",
      " 8/12 [===================>..........] - ETA: 0s - loss: 0.2064 - accuracy: 0.9199\n",
      "Epoch 115: saving model to model/keypoint_classifier\\keypoint_classifier.hdf5\n",
      "12/12 [==============================] - 0s 18ms/step - loss: 0.2194 - accuracy: 0.9133 - val_loss: 0.0757 - val_accuracy: 0.9859\n",
      "Epoch 116/1600\n",
      " 8/12 [===================>..........] - ETA: 0s - loss: 0.2108 - accuracy: 0.9160\n",
      "Epoch 116: saving model to model/keypoint_classifier\\keypoint_classifier.hdf5\n",
      "12/12 [==============================] - 0s 19ms/step - loss: 0.2035 - accuracy: 0.9187 - val_loss: 0.0706 - val_accuracy: 0.9899\n",
      "Epoch 117/1600\n",
      " 8/12 [===================>..........] - ETA: 0s - loss: 0.1804 - accuracy: 0.9277\n",
      "Epoch 117: saving model to model/keypoint_classifier\\keypoint_classifier.hdf5\n",
      "12/12 [==============================] - 0s 21ms/step - loss: 0.1869 - accuracy: 0.9294 - val_loss: 0.0686 - val_accuracy: 0.9879\n",
      "Epoch 118/1600\n",
      " 9/12 [=====================>........] - ETA: 0s - loss: 0.2082 - accuracy: 0.9201\n",
      "Epoch 118: saving model to model/keypoint_classifier\\keypoint_classifier.hdf5\n",
      "12/12 [==============================] - 0s 20ms/step - loss: 0.2076 - accuracy: 0.9180 - val_loss: 0.0758 - val_accuracy: 0.9859\n",
      "Epoch 119/1600\n",
      " 9/12 [=====================>........] - ETA: 0s - loss: 0.2237 - accuracy: 0.9123\n",
      "Epoch 119: saving model to model/keypoint_classifier\\keypoint_classifier.hdf5\n",
      "12/12 [==============================] - 0s 21ms/step - loss: 0.2187 - accuracy: 0.9140 - val_loss: 0.0734 - val_accuracy: 0.9879\n",
      "Epoch 120/1600\n",
      " 9/12 [=====================>........] - ETA: 0s - loss: 0.1985 - accuracy: 0.9245\n",
      "Epoch 120: saving model to model/keypoint_classifier\\keypoint_classifier.hdf5\n",
      "12/12 [==============================] - 0s 21ms/step - loss: 0.1978 - accuracy: 0.9261 - val_loss: 0.0697 - val_accuracy: 0.9899\n",
      "Epoch 121/1600\n",
      " 8/12 [===================>..........] - ETA: 0s - loss: 0.2043 - accuracy: 0.9180\n",
      "Epoch 121: saving model to model/keypoint_classifier\\keypoint_classifier.hdf5\n",
      "12/12 [==============================] - 0s 21ms/step - loss: 0.2076 - accuracy: 0.9180 - val_loss: 0.0685 - val_accuracy: 0.9899\n",
      "Epoch 122/1600\n",
      " 9/12 [=====================>........] - ETA: 0s - loss: 0.2049 - accuracy: 0.9201\n",
      "Epoch 122: saving model to model/keypoint_classifier\\keypoint_classifier.hdf5\n",
      "12/12 [==============================] - 0s 21ms/step - loss: 0.2012 - accuracy: 0.9214 - val_loss: 0.0756 - val_accuracy: 0.9899\n",
      "Epoch 123/1600\n",
      " 9/12 [=====================>........] - ETA: 0s - loss: 0.2070 - accuracy: 0.9227\n",
      "Epoch 123: saving model to model/keypoint_classifier\\keypoint_classifier.hdf5\n",
      "12/12 [==============================] - 0s 21ms/step - loss: 0.2161 - accuracy: 0.9187 - val_loss: 0.0703 - val_accuracy: 0.9940\n",
      "Epoch 124/1600\n",
      " 9/12 [=====================>........] - ETA: 0s - loss: 0.2010 - accuracy: 0.9193\n",
      "Epoch 124: saving model to model/keypoint_classifier\\keypoint_classifier.hdf5\n",
      "12/12 [==============================] - 0s 21ms/step - loss: 0.1961 - accuracy: 0.9227 - val_loss: 0.0751 - val_accuracy: 0.9879\n",
      "Epoch 125/1600\n",
      " 9/12 [=====================>........] - ETA: 0s - loss: 0.1770 - accuracy: 0.9314\n",
      "Epoch 125: saving model to model/keypoint_classifier\\keypoint_classifier.hdf5\n",
      "12/12 [==============================] - 0s 21ms/step - loss: 0.1912 - accuracy: 0.9254 - val_loss: 0.0611 - val_accuracy: 0.9839\n",
      "Epoch 126/1600\n",
      " 8/12 [===================>..........] - ETA: 0s - loss: 0.2046 - accuracy: 0.9160\n",
      "Epoch 126: saving model to model/keypoint_classifier\\keypoint_classifier.hdf5\n",
      "12/12 [==============================] - 0s 21ms/step - loss: 0.1934 - accuracy: 0.9288 - val_loss: 0.0653 - val_accuracy: 0.9940\n",
      "Epoch 127/1600\n",
      " 8/12 [===================>..........] - ETA: 0s - loss: 0.1904 - accuracy: 0.9248\n",
      "Epoch 127: saving model to model/keypoint_classifier\\keypoint_classifier.hdf5\n",
      "12/12 [==============================] - 0s 22ms/step - loss: 0.2047 - accuracy: 0.9133 - val_loss: 0.0725 - val_accuracy: 0.9839\n",
      "Epoch 128/1600\n",
      " 9/12 [=====================>........] - ETA: 0s - loss: 0.1996 - accuracy: 0.9236\n",
      "Epoch 128: saving model to model/keypoint_classifier\\keypoint_classifier.hdf5\n",
      "12/12 [==============================] - 0s 21ms/step - loss: 0.2040 - accuracy: 0.9227 - val_loss: 0.0650 - val_accuracy: 0.9919\n",
      "Epoch 129/1600\n",
      " 8/12 [===================>..........] - ETA: 0s - loss: 0.1963 - accuracy: 0.9287\n",
      "Epoch 129: saving model to model/keypoint_classifier\\keypoint_classifier.hdf5\n",
      "12/12 [==============================] - 0s 21ms/step - loss: 0.1940 - accuracy: 0.9301 - val_loss: 0.0687 - val_accuracy: 0.9919\n",
      "Epoch 130/1600\n",
      " 8/12 [===================>..........] - ETA: 0s - loss: 0.2165 - accuracy: 0.9180\n",
      "Epoch 130: saving model to model/keypoint_classifier\\keypoint_classifier.hdf5\n",
      "12/12 [==============================] - 0s 27ms/step - loss: 0.2051 - accuracy: 0.9234 - val_loss: 0.0597 - val_accuracy: 0.9919\n",
      "Epoch 131/1600\n",
      " 9/12 [=====================>........] - ETA: 0s - loss: 0.1780 - accuracy: 0.9332\n",
      "Epoch 131: saving model to model/keypoint_classifier\\keypoint_classifier.hdf5\n",
      "12/12 [==============================] - 0s 21ms/step - loss: 0.1947 - accuracy: 0.9301 - val_loss: 0.0625 - val_accuracy: 0.9919\n",
      "Epoch 132/1600\n",
      " 9/12 [=====================>........] - ETA: 0s - loss: 0.2017 - accuracy: 0.9167\n",
      "Epoch 132: saving model to model/keypoint_classifier\\keypoint_classifier.hdf5\n",
      "12/12 [==============================] - 0s 21ms/step - loss: 0.2052 - accuracy: 0.9160 - val_loss: 0.0683 - val_accuracy: 0.9919\n",
      "Epoch 133/1600\n",
      " 8/12 [===================>..........] - ETA: 0s - loss: 0.2130 - accuracy: 0.9268\n",
      "Epoch 133: saving model to model/keypoint_classifier\\keypoint_classifier.hdf5\n",
      "12/12 [==============================] - 0s 21ms/step - loss: 0.2047 - accuracy: 0.9281 - val_loss: 0.0618 - val_accuracy: 0.9819\n",
      "Epoch 134/1600\n",
      "10/12 [========================>.....] - ETA: 0s - loss: 0.2185 - accuracy: 0.9156\n",
      "Epoch 134: saving model to model/keypoint_classifier\\keypoint_classifier.hdf5\n",
      "12/12 [==============================] - 0s 20ms/step - loss: 0.2194 - accuracy: 0.9140 - val_loss: 0.0642 - val_accuracy: 0.9899\n",
      "Epoch 135/1600\n",
      " 9/12 [=====================>........] - ETA: 0s - loss: 0.1995 - accuracy: 0.9193\n",
      "Epoch 135: saving model to model/keypoint_classifier\\keypoint_classifier.hdf5\n",
      "12/12 [==============================] - 0s 20ms/step - loss: 0.2119 - accuracy: 0.9106 - val_loss: 0.0722 - val_accuracy: 0.9879\n",
      "Epoch 136/1600\n",
      " 8/12 [===================>..........] - ETA: 0s - loss: 0.2013 - accuracy: 0.9092\n",
      "Epoch 136: saving model to model/keypoint_classifier\\keypoint_classifier.hdf5\n",
      "12/12 [==============================] - 0s 21ms/step - loss: 0.1985 - accuracy: 0.9147 - val_loss: 0.0657 - val_accuracy: 0.9899\n"
     ]
    },
    {
     "name": "stdout",
     "output_type": "stream",
     "text": [
      "Epoch 137/1600\n",
      " 8/12 [===================>..........] - ETA: 0s - loss: 0.1872 - accuracy: 0.9268\n",
      "Epoch 137: saving model to model/keypoint_classifier\\keypoint_classifier.hdf5\n",
      "12/12 [==============================] - 0s 21ms/step - loss: 0.1797 - accuracy: 0.9301 - val_loss: 0.0616 - val_accuracy: 0.9899\n",
      "Epoch 138/1600\n",
      " 8/12 [===================>..........] - ETA: 0s - loss: 0.1975 - accuracy: 0.9268\n",
      "Epoch 138: saving model to model/keypoint_classifier\\keypoint_classifier.hdf5\n",
      "12/12 [==============================] - 0s 21ms/step - loss: 0.1918 - accuracy: 0.9288 - val_loss: 0.0689 - val_accuracy: 0.9879\n",
      "Epoch 139/1600\n",
      " 9/12 [=====================>........] - ETA: 0s - loss: 0.1909 - accuracy: 0.9245\n",
      "Epoch 139: saving model to model/keypoint_classifier\\keypoint_classifier.hdf5\n",
      "12/12 [==============================] - 0s 20ms/step - loss: 0.1904 - accuracy: 0.9241 - val_loss: 0.0611 - val_accuracy: 0.9919\n",
      "Epoch 140/1600\n",
      " 8/12 [===================>..........] - ETA: 0s - loss: 0.2089 - accuracy: 0.9150\n",
      "Epoch 140: saving model to model/keypoint_classifier\\keypoint_classifier.hdf5\n",
      "12/12 [==============================] - 0s 18ms/step - loss: 0.1971 - accuracy: 0.9220 - val_loss: 0.0632 - val_accuracy: 0.9940\n",
      "Epoch 141/1600\n",
      " 9/12 [=====================>........] - ETA: 0s - loss: 0.1958 - accuracy: 0.9262\n",
      "Epoch 141: saving model to model/keypoint_classifier\\keypoint_classifier.hdf5\n",
      "12/12 [==============================] - 0s 20ms/step - loss: 0.1931 - accuracy: 0.9281 - val_loss: 0.0589 - val_accuracy: 0.9919\n",
      "Epoch 142/1600\n",
      " 8/12 [===================>..........] - ETA: 0s - loss: 0.1813 - accuracy: 0.9404\n",
      "Epoch 142: saving model to model/keypoint_classifier\\keypoint_classifier.hdf5\n",
      "12/12 [==============================] - 0s 21ms/step - loss: 0.1843 - accuracy: 0.9335 - val_loss: 0.0608 - val_accuracy: 0.9919\n",
      "Epoch 143/1600\n",
      " 9/12 [=====================>........] - ETA: 0s - loss: 0.1882 - accuracy: 0.9280\n",
      "Epoch 143: saving model to model/keypoint_classifier\\keypoint_classifier.hdf5\n",
      "12/12 [==============================] - 0s 20ms/step - loss: 0.1883 - accuracy: 0.9288 - val_loss: 0.0587 - val_accuracy: 0.9919\n",
      "Epoch 144/1600\n",
      " 8/12 [===================>..........] - ETA: 0s - loss: 0.1940 - accuracy: 0.9297\n",
      "Epoch 144: saving model to model/keypoint_classifier\\keypoint_classifier.hdf5\n",
      "12/12 [==============================] - 0s 20ms/step - loss: 0.1887 - accuracy: 0.9288 - val_loss: 0.0794 - val_accuracy: 0.9879\n",
      "Epoch 145/1600\n",
      " 9/12 [=====================>........] - ETA: 0s - loss: 0.2140 - accuracy: 0.9297\n",
      "Epoch 145: saving model to model/keypoint_classifier\\keypoint_classifier.hdf5\n",
      "12/12 [==============================] - 0s 21ms/step - loss: 0.1968 - accuracy: 0.9335 - val_loss: 0.0599 - val_accuracy: 0.9819\n",
      "Epoch 146/1600\n",
      " 8/12 [===================>..........] - ETA: 0s - loss: 0.1692 - accuracy: 0.9316\n",
      "Epoch 146: saving model to model/keypoint_classifier\\keypoint_classifier.hdf5\n",
      "12/12 [==============================] - 0s 21ms/step - loss: 0.1751 - accuracy: 0.9281 - val_loss: 0.0640 - val_accuracy: 0.9899\n",
      "Epoch 147/1600\n",
      " 8/12 [===================>..........] - ETA: 0s - loss: 0.1953 - accuracy: 0.9209\n",
      "Epoch 147: saving model to model/keypoint_classifier\\keypoint_classifier.hdf5\n",
      "12/12 [==============================] - 0s 21ms/step - loss: 0.2133 - accuracy: 0.9140 - val_loss: 0.0555 - val_accuracy: 0.9899\n",
      "Epoch 148/1600\n",
      " 8/12 [===================>..........] - ETA: 0s - loss: 0.1757 - accuracy: 0.9307\n",
      "Epoch 148: saving model to model/keypoint_classifier\\keypoint_classifier.hdf5\n",
      "12/12 [==============================] - 0s 20ms/step - loss: 0.1793 - accuracy: 0.9321 - val_loss: 0.0658 - val_accuracy: 0.9919\n",
      "Epoch 149/1600\n",
      " 8/12 [===================>..........] - ETA: 0s - loss: 0.1829 - accuracy: 0.9287\n",
      "Epoch 149: saving model to model/keypoint_classifier\\keypoint_classifier.hdf5\n",
      "12/12 [==============================] - 0s 21ms/step - loss: 0.1887 - accuracy: 0.9301 - val_loss: 0.0556 - val_accuracy: 0.9919\n",
      "Epoch 150/1600\n",
      " 9/12 [=====================>........] - ETA: 0s - loss: 0.1843 - accuracy: 0.9340\n",
      "Epoch 150: saving model to model/keypoint_classifier\\keypoint_classifier.hdf5\n",
      "12/12 [==============================] - 0s 21ms/step - loss: 0.1868 - accuracy: 0.9294 - val_loss: 0.0614 - val_accuracy: 0.9940\n",
      "Epoch 151/1600\n",
      " 9/12 [=====================>........] - ETA: 0s - loss: 0.1791 - accuracy: 0.9366\n",
      "Epoch 151: saving model to model/keypoint_classifier\\keypoint_classifier.hdf5\n",
      "12/12 [==============================] - 0s 19ms/step - loss: 0.1807 - accuracy: 0.9328 - val_loss: 0.0576 - val_accuracy: 0.9940\n",
      "Epoch 152/1600\n",
      " 8/12 [===================>..........] - ETA: 0s - loss: 0.1510 - accuracy: 0.9414\n",
      "Epoch 152: saving model to model/keypoint_classifier\\keypoint_classifier.hdf5\n",
      "12/12 [==============================] - 0s 21ms/step - loss: 0.1617 - accuracy: 0.9355 - val_loss: 0.0520 - val_accuracy: 0.9919\n",
      "Epoch 153/1600\n",
      " 8/12 [===================>..........] - ETA: 0s - loss: 0.1794 - accuracy: 0.9316\n",
      "Epoch 153: saving model to model/keypoint_classifier\\keypoint_classifier.hdf5\n",
      "12/12 [==============================] - 0s 22ms/step - loss: 0.1677 - accuracy: 0.9388 - val_loss: 0.0628 - val_accuracy: 0.9919\n",
      "Epoch 154/1600\n",
      " 8/12 [===================>..........] - ETA: 0s - loss: 0.1638 - accuracy: 0.9424\n",
      "Epoch 154: saving model to model/keypoint_classifier\\keypoint_classifier.hdf5\n",
      "12/12 [==============================] - 0s 20ms/step - loss: 0.1610 - accuracy: 0.9415 - val_loss: 0.0518 - val_accuracy: 0.9940\n",
      "Epoch 155/1600\n",
      " 9/12 [=====================>........] - ETA: 0s - loss: 0.1889 - accuracy: 0.9280\n",
      "Epoch 155: saving model to model/keypoint_classifier\\keypoint_classifier.hdf5\n",
      "12/12 [==============================] - 0s 19ms/step - loss: 0.1950 - accuracy: 0.9234 - val_loss: 0.0645 - val_accuracy: 0.9899\n",
      "Epoch 156/1600\n",
      " 8/12 [===================>..........] - ETA: 0s - loss: 0.1675 - accuracy: 0.9375\n",
      "Epoch 156: saving model to model/keypoint_classifier\\keypoint_classifier.hdf5\n",
      "12/12 [==============================] - 0s 19ms/step - loss: 0.1693 - accuracy: 0.9415 - val_loss: 0.0522 - val_accuracy: 0.9940\n",
      "Epoch 157/1600\n",
      " 8/12 [===================>..........] - ETA: 0s - loss: 0.2041 - accuracy: 0.9209\n",
      "Epoch 157: saving model to model/keypoint_classifier\\keypoint_classifier.hdf5\n",
      "12/12 [==============================] - 0s 21ms/step - loss: 0.1909 - accuracy: 0.9241 - val_loss: 0.0557 - val_accuracy: 0.9940\n",
      "Epoch 158/1600\n",
      " 8/12 [===================>..........] - ETA: 0s - loss: 0.1829 - accuracy: 0.9287\n",
      "Epoch 158: saving model to model/keypoint_classifier\\keypoint_classifier.hdf5\n",
      "12/12 [==============================] - 0s 20ms/step - loss: 0.1842 - accuracy: 0.9241 - val_loss: 0.0567 - val_accuracy: 0.9919\n",
      "Epoch 159/1600\n",
      " 8/12 [===================>..........] - ETA: 0s - loss: 0.1725 - accuracy: 0.9307\n",
      "Epoch 159: saving model to model/keypoint_classifier\\keypoint_classifier.hdf5\n",
      "12/12 [==============================] - 0s 21ms/step - loss: 0.1786 - accuracy: 0.9274 - val_loss: 0.0605 - val_accuracy: 0.9940\n",
      "Epoch 160/1600\n",
      " 8/12 [===================>..........] - ETA: 0s - loss: 0.1861 - accuracy: 0.9316\n",
      "Epoch 160: saving model to model/keypoint_classifier\\keypoint_classifier.hdf5\n",
      "12/12 [==============================] - 0s 21ms/step - loss: 0.1765 - accuracy: 0.9301 - val_loss: 0.0607 - val_accuracy: 0.9940\n",
      "Epoch 161/1600\n",
      " 8/12 [===================>..........] - ETA: 0s - loss: 0.1806 - accuracy: 0.9277\n",
      "Epoch 161: saving model to model/keypoint_classifier\\keypoint_classifier.hdf5\n",
      "12/12 [==============================] - 0s 22ms/step - loss: 0.1656 - accuracy: 0.9328 - val_loss: 0.0566 - val_accuracy: 0.9940\n",
      "Epoch 162/1600\n",
      " 8/12 [===================>..........] - ETA: 0s - loss: 0.1903 - accuracy: 0.9238\n",
      "Epoch 162: saving model to model/keypoint_classifier\\keypoint_classifier.hdf5\n",
      "12/12 [==============================] - 0s 22ms/step - loss: 0.1802 - accuracy: 0.9261 - val_loss: 0.0681 - val_accuracy: 0.9879\n",
      "Epoch 163/1600\n",
      " 9/12 [=====================>........] - ETA: 0s - loss: 0.1960 - accuracy: 0.9314\n",
      "Epoch 163: saving model to model/keypoint_classifier\\keypoint_classifier.hdf5\n",
      "12/12 [==============================] - 0s 21ms/step - loss: 0.1952 - accuracy: 0.9267 - val_loss: 0.0535 - val_accuracy: 0.9899\n"
     ]
    },
    {
     "name": "stdout",
     "output_type": "stream",
     "text": [
      "Epoch 164/1600\n",
      " 8/12 [===================>..........] - ETA: 0s - loss: 0.1799 - accuracy: 0.9297\n",
      "Epoch 164: saving model to model/keypoint_classifier\\keypoint_classifier.hdf5\n",
      "12/12 [==============================] - 0s 22ms/step - loss: 0.1732 - accuracy: 0.9288 - val_loss: 0.0643 - val_accuracy: 0.9940\n",
      "Epoch 165/1600\n",
      " 8/12 [===================>..........] - ETA: 0s - loss: 0.1525 - accuracy: 0.9434\n",
      "Epoch 165: saving model to model/keypoint_classifier\\keypoint_classifier.hdf5\n",
      "12/12 [==============================] - 0s 22ms/step - loss: 0.1662 - accuracy: 0.9382 - val_loss: 0.0585 - val_accuracy: 0.9940\n",
      "Epoch 166/1600\n",
      " 7/12 [================>.............] - ETA: 0s - loss: 0.1933 - accuracy: 0.9185\n",
      "Epoch 166: saving model to model/keypoint_classifier\\keypoint_classifier.hdf5\n",
      "12/12 [==============================] - 0s 23ms/step - loss: 0.1886 - accuracy: 0.9241 - val_loss: 0.0585 - val_accuracy: 0.9899\n",
      "Epoch 167/1600\n",
      " 7/12 [================>.............] - ETA: 0s - loss: 0.1562 - accuracy: 0.9420\n",
      "Epoch 167: saving model to model/keypoint_classifier\\keypoint_classifier.hdf5\n",
      "12/12 [==============================] - 0s 22ms/step - loss: 0.1712 - accuracy: 0.9328 - val_loss: 0.0557 - val_accuracy: 0.9899\n",
      "Epoch 168/1600\n",
      " 8/12 [===================>..........] - ETA: 0s - loss: 0.1849 - accuracy: 0.9268\n",
      "Epoch 168: saving model to model/keypoint_classifier\\keypoint_classifier.hdf5\n",
      "12/12 [==============================] - 0s 22ms/step - loss: 0.1785 - accuracy: 0.9308 - val_loss: 0.0559 - val_accuracy: 0.9899\n",
      "Epoch 169/1600\n",
      " 8/12 [===================>..........] - ETA: 0s - loss: 0.1663 - accuracy: 0.9395\n",
      "Epoch 169: saving model to model/keypoint_classifier\\keypoint_classifier.hdf5\n",
      "12/12 [==============================] - 0s 22ms/step - loss: 0.1738 - accuracy: 0.9375 - val_loss: 0.0624 - val_accuracy: 0.9899\n",
      "Epoch 170/1600\n",
      " 7/12 [================>.............] - ETA: 0s - loss: 0.1714 - accuracy: 0.9330\n",
      "Epoch 170: saving model to model/keypoint_classifier\\keypoint_classifier.hdf5\n",
      "12/12 [==============================] - 0s 24ms/step - loss: 0.1599 - accuracy: 0.9355 - val_loss: 0.0501 - val_accuracy: 0.9899\n",
      "Epoch 171/1600\n",
      " 7/12 [================>.............] - ETA: 0s - loss: 0.1655 - accuracy: 0.9464\n",
      "Epoch 171: saving model to model/keypoint_classifier\\keypoint_classifier.hdf5\n",
      "12/12 [==============================] - 0s 24ms/step - loss: 0.1593 - accuracy: 0.9449 - val_loss: 0.0572 - val_accuracy: 0.9940\n",
      "Epoch 172/1600\n",
      " 7/12 [================>.............] - ETA: 0s - loss: 0.1924 - accuracy: 0.9252\n",
      "Epoch 172: saving model to model/keypoint_classifier\\keypoint_classifier.hdf5\n",
      "12/12 [==============================] - 0s 24ms/step - loss: 0.1713 - accuracy: 0.9315 - val_loss: 0.0542 - val_accuracy: 0.9919\n",
      "Epoch 173/1600\n",
      " 8/12 [===================>..........] - ETA: 0s - loss: 0.1615 - accuracy: 0.9326\n",
      "Epoch 173: saving model to model/keypoint_classifier\\keypoint_classifier.hdf5\n",
      "12/12 [==============================] - 0s 24ms/step - loss: 0.1604 - accuracy: 0.9348 - val_loss: 0.0574 - val_accuracy: 0.9940\n",
      "Epoch 174/1600\n",
      " 7/12 [================>.............] - ETA: 0s - loss: 0.2146 - accuracy: 0.9252\n",
      "Epoch 174: saving model to model/keypoint_classifier\\keypoint_classifier.hdf5\n",
      "12/12 [==============================] - 0s 25ms/step - loss: 0.1849 - accuracy: 0.9341 - val_loss: 0.0560 - val_accuracy: 0.9940\n",
      "Epoch 175/1600\n",
      " 7/12 [================>.............] - ETA: 0s - loss: 0.2072 - accuracy: 0.9174\n",
      "Epoch 175: saving model to model/keypoint_classifier\\keypoint_classifier.hdf5\n",
      "12/12 [==============================] - 0s 25ms/step - loss: 0.1850 - accuracy: 0.9288 - val_loss: 0.0585 - val_accuracy: 0.9940\n",
      "Epoch 176/1600\n",
      " 8/12 [===================>..........] - ETA: 0s - loss: 0.1707 - accuracy: 0.9336\n",
      "Epoch 176: saving model to model/keypoint_classifier\\keypoint_classifier.hdf5\n",
      "12/12 [==============================] - 0s 20ms/step - loss: 0.1724 - accuracy: 0.9301 - val_loss: 0.0466 - val_accuracy: 0.9940\n",
      "Epoch 177/1600\n",
      " 7/12 [================>.............] - ETA: 0s - loss: 0.1796 - accuracy: 0.9386\n",
      "Epoch 177: saving model to model/keypoint_classifier\\keypoint_classifier.hdf5\n",
      "12/12 [==============================] - 0s 24ms/step - loss: 0.1965 - accuracy: 0.9335 - val_loss: 0.0505 - val_accuracy: 0.9940\n",
      "Epoch 178/1600\n",
      " 8/12 [===================>..........] - ETA: 0s - loss: 0.1551 - accuracy: 0.9414\n",
      "Epoch 178: saving model to model/keypoint_classifier\\keypoint_classifier.hdf5\n",
      "12/12 [==============================] - 0s 23ms/step - loss: 0.1606 - accuracy: 0.9395 - val_loss: 0.0535 - val_accuracy: 0.9919\n",
      "Epoch 179/1600\n",
      " 8/12 [===================>..........] - ETA: 0s - loss: 0.1709 - accuracy: 0.9375\n",
      "Epoch 179: saving model to model/keypoint_classifier\\keypoint_classifier.hdf5\n",
      "12/12 [==============================] - 0s 24ms/step - loss: 0.1755 - accuracy: 0.9341 - val_loss: 0.0532 - val_accuracy: 0.9960\n",
      "Epoch 180/1600\n",
      " 8/12 [===================>..........] - ETA: 0s - loss: 0.1555 - accuracy: 0.9482\n",
      "Epoch 180: saving model to model/keypoint_classifier\\keypoint_classifier.hdf5\n",
      "12/12 [==============================] - 0s 23ms/step - loss: 0.1584 - accuracy: 0.9462 - val_loss: 0.0443 - val_accuracy: 0.9879\n",
      "Epoch 181/1600\n",
      " 7/12 [================>.............] - ETA: 0s - loss: 0.1668 - accuracy: 0.9375\n",
      "Epoch 181: saving model to model/keypoint_classifier\\keypoint_classifier.hdf5\n",
      "12/12 [==============================] - 0s 30ms/step - loss: 0.1767 - accuracy: 0.9315 - val_loss: 0.0616 - val_accuracy: 0.9879\n",
      "Epoch 182/1600\n",
      " 8/12 [===================>..........] - ETA: 0s - loss: 0.1758 - accuracy: 0.9326\n",
      "Epoch 182: saving model to model/keypoint_classifier\\keypoint_classifier.hdf5\n",
      "12/12 [==============================] - 0s 23ms/step - loss: 0.1674 - accuracy: 0.9368 - val_loss: 0.0453 - val_accuracy: 0.9919\n",
      "Epoch 183/1600\n",
      " 7/12 [================>.............] - ETA: 0s - loss: 0.1699 - accuracy: 0.9308\n",
      "Epoch 183: saving model to model/keypoint_classifier\\keypoint_classifier.hdf5\n",
      "12/12 [==============================] - 0s 23ms/step - loss: 0.1601 - accuracy: 0.9375 - val_loss: 0.0512 - val_accuracy: 0.9960\n",
      "Epoch 184/1600\n",
      " 7/12 [================>.............] - ETA: 0s - loss: 0.1726 - accuracy: 0.9342\n",
      "Epoch 184: saving model to model/keypoint_classifier\\keypoint_classifier.hdf5\n",
      "12/12 [==============================] - 0s 24ms/step - loss: 0.1640 - accuracy: 0.9409 - val_loss: 0.0493 - val_accuracy: 0.9940\n",
      "Epoch 185/1600\n",
      " 7/12 [================>.............] - ETA: 0s - loss: 0.1579 - accuracy: 0.9364\n",
      "Epoch 185: saving model to model/keypoint_classifier\\keypoint_classifier.hdf5\n",
      "12/12 [==============================] - 0s 22ms/step - loss: 0.1525 - accuracy: 0.9395 - val_loss: 0.0505 - val_accuracy: 0.9919\n",
      "Epoch 186/1600\n",
      " 7/12 [================>.............] - ETA: 0s - loss: 0.1712 - accuracy: 0.9308\n",
      "Epoch 186: saving model to model/keypoint_classifier\\keypoint_classifier.hdf5\n",
      "12/12 [==============================] - 0s 24ms/step - loss: 0.1824 - accuracy: 0.9281 - val_loss: 0.0511 - val_accuracy: 0.9859\n",
      "Epoch 187/1600\n",
      " 6/12 [==============>...............] - ETA: 0s - loss: 0.1507 - accuracy: 0.9427\n",
      "Epoch 187: saving model to model/keypoint_classifier\\keypoint_classifier.hdf5\n",
      "12/12 [==============================] - 0s 25ms/step - loss: 0.1510 - accuracy: 0.9449 - val_loss: 0.0584 - val_accuracy: 0.9940\n",
      "Epoch 188/1600\n",
      " 7/12 [================>.............] - ETA: 0s - loss: 0.1545 - accuracy: 0.9408\n",
      "Epoch 188: saving model to model/keypoint_classifier\\keypoint_classifier.hdf5\n",
      "12/12 [==============================] - 0s 24ms/step - loss: 0.1612 - accuracy: 0.9375 - val_loss: 0.0475 - val_accuracy: 0.9919\n",
      "Epoch 189/1600\n",
      " 8/12 [===================>..........] - ETA: 0s - loss: 0.1567 - accuracy: 0.9414\n",
      "Epoch 189: saving model to model/keypoint_classifier\\keypoint_classifier.hdf5\n",
      "12/12 [==============================] - 0s 24ms/step - loss: 0.1556 - accuracy: 0.9462 - val_loss: 0.0581 - val_accuracy: 0.9919\n",
      "Epoch 190/1600\n",
      "12/12 [==============================] - ETA: 0s - loss: 0.1661 - accuracy: 0.9267\n",
      "Epoch 190: saving model to model/keypoint_classifier\\keypoint_classifier.hdf5\n",
      "12/12 [==============================] - 0s 24ms/step - loss: 0.1661 - accuracy: 0.9267 - val_loss: 0.0457 - val_accuracy: 0.9919\n"
     ]
    },
    {
     "name": "stdout",
     "output_type": "stream",
     "text": [
      "Epoch 191/1600\n",
      "12/12 [==============================] - ETA: 0s - loss: 0.1433 - accuracy: 0.9496\n",
      "Epoch 191: saving model to model/keypoint_classifier\\keypoint_classifier.hdf5\n",
      "12/12 [==============================] - 0s 25ms/step - loss: 0.1433 - accuracy: 0.9496 - val_loss: 0.0478 - val_accuracy: 0.9940\n",
      "Epoch 192/1600\n",
      " 7/12 [================>.............] - ETA: 0s - loss: 0.1365 - accuracy: 0.9565\n",
      "Epoch 192: saving model to model/keypoint_classifier\\keypoint_classifier.hdf5\n",
      "12/12 [==============================] - 0s 22ms/step - loss: 0.1476 - accuracy: 0.9509 - val_loss: 0.0457 - val_accuracy: 0.9940\n",
      "Epoch 193/1600\n",
      " 7/12 [================>.............] - ETA: 0s - loss: 0.1777 - accuracy: 0.9375\n",
      "Epoch 193: saving model to model/keypoint_classifier\\keypoint_classifier.hdf5\n",
      "12/12 [==============================] - 0s 24ms/step - loss: 0.1588 - accuracy: 0.9422 - val_loss: 0.0457 - val_accuracy: 0.9940\n",
      "Epoch 194/1600\n",
      " 7/12 [================>.............] - ETA: 0s - loss: 0.1469 - accuracy: 0.9375\n",
      "Epoch 194: saving model to model/keypoint_classifier\\keypoint_classifier.hdf5\n",
      "12/12 [==============================] - 0s 24ms/step - loss: 0.1485 - accuracy: 0.9409 - val_loss: 0.0430 - val_accuracy: 0.9919\n",
      "Epoch 195/1600\n",
      " 7/12 [================>.............] - ETA: 0s - loss: 0.2026 - accuracy: 0.9074\n",
      "Epoch 195: saving model to model/keypoint_classifier\\keypoint_classifier.hdf5\n",
      "12/12 [==============================] - 0s 23ms/step - loss: 0.1827 - accuracy: 0.9200 - val_loss: 0.0546 - val_accuracy: 0.9940\n",
      "Epoch 196/1600\n",
      " 7/12 [================>.............] - ETA: 0s - loss: 0.1674 - accuracy: 0.9252\n",
      "Epoch 196: saving model to model/keypoint_classifier\\keypoint_classifier.hdf5\n",
      "12/12 [==============================] - 0s 22ms/step - loss: 0.1701 - accuracy: 0.9254 - val_loss: 0.0548 - val_accuracy: 0.9940\n",
      "Epoch 197/1600\n",
      " 8/12 [===================>..........] - ETA: 0s - loss: 0.1459 - accuracy: 0.9395\n",
      "Epoch 197: saving model to model/keypoint_classifier\\keypoint_classifier.hdf5\n",
      "12/12 [==============================] - 0s 20ms/step - loss: 0.1484 - accuracy: 0.9442 - val_loss: 0.0430 - val_accuracy: 0.9940\n",
      "Epoch 198/1600\n",
      " 7/12 [================>.............] - ETA: 0s - loss: 0.1484 - accuracy: 0.9431\n",
      "Epoch 198: saving model to model/keypoint_classifier\\keypoint_classifier.hdf5\n",
      "12/12 [==============================] - 0s 21ms/step - loss: 0.1508 - accuracy: 0.9402 - val_loss: 0.0509 - val_accuracy: 0.9940\n",
      "Epoch 199/1600\n",
      " 8/12 [===================>..........] - ETA: 0s - loss: 0.1629 - accuracy: 0.9375\n",
      "Epoch 199: saving model to model/keypoint_classifier\\keypoint_classifier.hdf5\n",
      "12/12 [==============================] - 0s 20ms/step - loss: 0.1622 - accuracy: 0.9362 - val_loss: 0.0439 - val_accuracy: 0.9940\n",
      "Epoch 200/1600\n",
      " 9/12 [=====================>........] - ETA: 0s - loss: 0.1830 - accuracy: 0.9340\n",
      "Epoch 200: saving model to model/keypoint_classifier\\keypoint_classifier.hdf5\n",
      "12/12 [==============================] - 0s 20ms/step - loss: 0.1762 - accuracy: 0.9348 - val_loss: 0.0503 - val_accuracy: 0.9940\n",
      "Epoch 201/1600\n",
      " 7/12 [================>.............] - ETA: 0s - loss: 0.1446 - accuracy: 0.9420\n",
      "Epoch 201: saving model to model/keypoint_classifier\\keypoint_classifier.hdf5\n",
      "12/12 [==============================] - 0s 23ms/step - loss: 0.1403 - accuracy: 0.9449 - val_loss: 0.0426 - val_accuracy: 0.9960\n",
      "Epoch 202/1600\n",
      " 7/12 [================>.............] - ETA: 0s - loss: 0.1675 - accuracy: 0.9386\n",
      "Epoch 202: saving model to model/keypoint_classifier\\keypoint_classifier.hdf5\n",
      "12/12 [==============================] - 0s 23ms/step - loss: 0.1522 - accuracy: 0.9435 - val_loss: 0.0470 - val_accuracy: 0.9940\n",
      "Epoch 203/1600\n",
      " 8/12 [===================>..........] - ETA: 0s - loss: 0.1627 - accuracy: 0.9375\n",
      "Epoch 203: saving model to model/keypoint_classifier\\keypoint_classifier.hdf5\n",
      "12/12 [==============================] - 0s 21ms/step - loss: 0.1660 - accuracy: 0.9409 - val_loss: 0.0460 - val_accuracy: 0.9940\n",
      "Epoch 204/1600\n",
      " 8/12 [===================>..........] - ETA: 0s - loss: 0.1777 - accuracy: 0.9316\n",
      "Epoch 204: saving model to model/keypoint_classifier\\keypoint_classifier.hdf5\n",
      "12/12 [==============================] - 0s 20ms/step - loss: 0.1706 - accuracy: 0.9375 - val_loss: 0.0466 - val_accuracy: 0.9960\n",
      "Epoch 205/1600\n",
      " 8/12 [===================>..........] - ETA: 0s - loss: 0.1652 - accuracy: 0.9404\n",
      "Epoch 205: saving model to model/keypoint_classifier\\keypoint_classifier.hdf5\n",
      "12/12 [==============================] - 0s 21ms/step - loss: 0.1647 - accuracy: 0.9402 - val_loss: 0.0453 - val_accuracy: 0.9919\n",
      "Epoch 206/1600\n",
      " 9/12 [=====================>........] - ETA: 0s - loss: 0.1507 - accuracy: 0.9427\n",
      "Epoch 206: saving model to model/keypoint_classifier\\keypoint_classifier.hdf5\n",
      "12/12 [==============================] - 0s 22ms/step - loss: 0.1581 - accuracy: 0.9395 - val_loss: 0.0591 - val_accuracy: 0.9940\n",
      "Epoch 207/1600\n",
      " 8/12 [===================>..........] - ETA: 0s - loss: 0.1568 - accuracy: 0.9404\n",
      "Epoch 207: saving model to model/keypoint_classifier\\keypoint_classifier.hdf5\n",
      "12/12 [==============================] - 0s 21ms/step - loss: 0.1510 - accuracy: 0.9402 - val_loss: 0.0446 - val_accuracy: 0.9940\n",
      "Epoch 208/1600\n",
      " 8/12 [===================>..........] - ETA: 0s - loss: 0.1519 - accuracy: 0.9395\n",
      "Epoch 208: saving model to model/keypoint_classifier\\keypoint_classifier.hdf5\n",
      "12/12 [==============================] - 0s 21ms/step - loss: 0.1615 - accuracy: 0.9355 - val_loss: 0.0427 - val_accuracy: 0.9940\n",
      "Epoch 209/1600\n",
      " 8/12 [===================>..........] - ETA: 0s - loss: 0.1396 - accuracy: 0.9492\n",
      "Epoch 209: saving model to model/keypoint_classifier\\keypoint_classifier.hdf5\n",
      "12/12 [==============================] - 0s 23ms/step - loss: 0.1359 - accuracy: 0.9530 - val_loss: 0.0467 - val_accuracy: 0.9940\n",
      "Epoch 210/1600\n",
      " 7/12 [================>.............] - ETA: 0s - loss: 0.1480 - accuracy: 0.9319\n",
      "Epoch 210: saving model to model/keypoint_classifier\\keypoint_classifier.hdf5\n",
      "12/12 [==============================] - 0s 24ms/step - loss: 0.1507 - accuracy: 0.9362 - val_loss: 0.0432 - val_accuracy: 0.9919\n",
      "Epoch 211/1600\n",
      " 8/12 [===================>..........] - ETA: 0s - loss: 0.1471 - accuracy: 0.9414\n",
      "Epoch 211: saving model to model/keypoint_classifier\\keypoint_classifier.hdf5\n",
      "12/12 [==============================] - 0s 23ms/step - loss: 0.1424 - accuracy: 0.9435 - val_loss: 0.0399 - val_accuracy: 0.9919\n",
      "Epoch 212/1600\n",
      " 7/12 [================>.............] - ETA: 0s - loss: 0.1679 - accuracy: 0.9364\n",
      "Epoch 212: saving model to model/keypoint_classifier\\keypoint_classifier.hdf5\n",
      "12/12 [==============================] - 0s 22ms/step - loss: 0.1636 - accuracy: 0.9388 - val_loss: 0.0455 - val_accuracy: 0.9940\n",
      "Epoch 213/1600\n",
      " 7/12 [================>.............] - ETA: 0s - loss: 0.1478 - accuracy: 0.9442\n",
      "Epoch 213: saving model to model/keypoint_classifier\\keypoint_classifier.hdf5\n",
      "12/12 [==============================] - 0s 24ms/step - loss: 0.1569 - accuracy: 0.9395 - val_loss: 0.0463 - val_accuracy: 0.9940\n",
      "Epoch 214/1600\n",
      " 6/12 [==============>...............] - ETA: 0s - loss: 0.1464 - accuracy: 0.9531\n",
      "Epoch 214: saving model to model/keypoint_classifier\\keypoint_classifier.hdf5\n",
      "12/12 [==============================] - 0s 23ms/step - loss: 0.1610 - accuracy: 0.9415 - val_loss: 0.0422 - val_accuracy: 0.9940\n",
      "Epoch 215/1600\n",
      " 7/12 [================>.............] - ETA: 0s - loss: 0.1598 - accuracy: 0.9386\n",
      "Epoch 215: saving model to model/keypoint_classifier\\keypoint_classifier.hdf5\n",
      "12/12 [==============================] - 0s 24ms/step - loss: 0.1456 - accuracy: 0.9456 - val_loss: 0.0486 - val_accuracy: 0.9919\n",
      "Epoch 216/1600\n",
      " 8/12 [===================>..........] - ETA: 0s - loss: 0.1472 - accuracy: 0.9473\n",
      "Epoch 216: saving model to model/keypoint_classifier\\keypoint_classifier.hdf5\n",
      "12/12 [==============================] - 0s 23ms/step - loss: 0.1403 - accuracy: 0.9509 - val_loss: 0.0400 - val_accuracy: 0.9899\n",
      "Epoch 217/1600\n",
      " 7/12 [================>.............] - ETA: 0s - loss: 0.1578 - accuracy: 0.9330\n",
      "Epoch 217: saving model to model/keypoint_classifier\\keypoint_classifier.hdf5\n",
      "12/12 [==============================] - 0s 23ms/step - loss: 0.1460 - accuracy: 0.9442 - val_loss: 0.0511 - val_accuracy: 0.9940\n"
     ]
    },
    {
     "name": "stdout",
     "output_type": "stream",
     "text": [
      "Epoch 218/1600\n",
      " 7/12 [================>.............] - ETA: 0s - loss: 0.1925 - accuracy: 0.9263\n",
      "Epoch 218: saving model to model/keypoint_classifier\\keypoint_classifier.hdf5\n",
      "12/12 [==============================] - 0s 24ms/step - loss: 0.1836 - accuracy: 0.9294 - val_loss: 0.0482 - val_accuracy: 0.9940\n",
      "Epoch 219/1600\n",
      " 8/12 [===================>..........] - ETA: 0s - loss: 0.1584 - accuracy: 0.9385\n",
      "Epoch 219: saving model to model/keypoint_classifier\\keypoint_classifier.hdf5\n",
      "12/12 [==============================] - 0s 22ms/step - loss: 0.1525 - accuracy: 0.9409 - val_loss: 0.0434 - val_accuracy: 0.9940\n",
      "Epoch 220/1600\n",
      " 8/12 [===================>..........] - ETA: 0s - loss: 0.1508 - accuracy: 0.9395\n",
      "Epoch 220: saving model to model/keypoint_classifier\\keypoint_classifier.hdf5\n",
      "12/12 [==============================] - 0s 21ms/step - loss: 0.1411 - accuracy: 0.9442 - val_loss: 0.0459 - val_accuracy: 0.9940\n",
      "Epoch 221/1600\n",
      " 8/12 [===================>..........] - ETA: 0s - loss: 0.1828 - accuracy: 0.9287\n",
      "Epoch 221: saving model to model/keypoint_classifier\\keypoint_classifier.hdf5\n",
      "12/12 [==============================] - 0s 22ms/step - loss: 0.1595 - accuracy: 0.9382 - val_loss: 0.0388 - val_accuracy: 0.9940\n",
      "Epoch 222/1600\n",
      " 8/12 [===================>..........] - ETA: 0s - loss: 0.1677 - accuracy: 0.9385\n",
      "Epoch 222: saving model to model/keypoint_classifier\\keypoint_classifier.hdf5\n",
      "12/12 [==============================] - 0s 23ms/step - loss: 0.1583 - accuracy: 0.9415 - val_loss: 0.0450 - val_accuracy: 0.9960\n",
      "Epoch 223/1600\n",
      " 9/12 [=====================>........] - ETA: 0s - loss: 0.1613 - accuracy: 0.9349\n",
      "Epoch 223: saving model to model/keypoint_classifier\\keypoint_classifier.hdf5\n",
      "12/12 [==============================] - 0s 23ms/step - loss: 0.1645 - accuracy: 0.9362 - val_loss: 0.0460 - val_accuracy: 0.9940\n",
      "Epoch 224/1600\n",
      " 9/12 [=====================>........] - ETA: 0s - loss: 0.1722 - accuracy: 0.9358\n",
      "Epoch 224: saving model to model/keypoint_classifier\\keypoint_classifier.hdf5\n",
      "12/12 [==============================] - 0s 22ms/step - loss: 0.1624 - accuracy: 0.9422 - val_loss: 0.0459 - val_accuracy: 0.9940\n",
      "Epoch 225/1600\n",
      " 7/12 [================>.............] - ETA: 0s - loss: 0.1351 - accuracy: 0.9475\n",
      "Epoch 225: saving model to model/keypoint_classifier\\keypoint_classifier.hdf5\n",
      "12/12 [==============================] - 0s 22ms/step - loss: 0.1368 - accuracy: 0.9483 - val_loss: 0.0446 - val_accuracy: 0.9919\n",
      "Epoch 226/1600\n",
      " 8/12 [===================>..........] - ETA: 0s - loss: 0.1579 - accuracy: 0.9404\n",
      "Epoch 226: saving model to model/keypoint_classifier\\keypoint_classifier.hdf5\n",
      "12/12 [==============================] - 0s 21ms/step - loss: 0.1535 - accuracy: 0.9382 - val_loss: 0.0477 - val_accuracy: 0.9839\n",
      "Epoch 227/1600\n",
      " 9/12 [=====================>........] - ETA: 0s - loss: 0.1497 - accuracy: 0.9375\n",
      "Epoch 227: saving model to model/keypoint_classifier\\keypoint_classifier.hdf5\n",
      "12/12 [==============================] - 0s 22ms/step - loss: 0.1534 - accuracy: 0.9348 - val_loss: 0.0640 - val_accuracy: 0.9899\n",
      "Epoch 228/1600\n",
      " 9/12 [=====================>........] - ETA: 0s - loss: 0.1446 - accuracy: 0.9418\n",
      "Epoch 228: saving model to model/keypoint_classifier\\keypoint_classifier.hdf5\n",
      "12/12 [==============================] - 0s 23ms/step - loss: 0.1438 - accuracy: 0.9382 - val_loss: 0.0403 - val_accuracy: 0.9899\n",
      "Epoch 229/1600\n",
      " 8/12 [===================>..........] - ETA: 0s - loss: 0.1427 - accuracy: 0.9434\n",
      "Epoch 229: saving model to model/keypoint_classifier\\keypoint_classifier.hdf5\n",
      "12/12 [==============================] - 0s 24ms/step - loss: 0.1561 - accuracy: 0.9395 - val_loss: 0.0468 - val_accuracy: 0.9940\n",
      "Epoch 230/1600\n",
      " 8/12 [===================>..........] - ETA: 0s - loss: 0.1546 - accuracy: 0.9385\n",
      "Epoch 230: saving model to model/keypoint_classifier\\keypoint_classifier.hdf5\n",
      "12/12 [==============================] - 0s 23ms/step - loss: 0.1509 - accuracy: 0.9402 - val_loss: 0.0427 - val_accuracy: 0.9919\n",
      "Epoch 231/1600\n",
      " 7/12 [================>.............] - ETA: 0s - loss: 0.1368 - accuracy: 0.9464\n",
      "Epoch 231: saving model to model/keypoint_classifier\\keypoint_classifier.hdf5\n",
      "12/12 [==============================] - 0s 23ms/step - loss: 0.1478 - accuracy: 0.9483 - val_loss: 0.0511 - val_accuracy: 0.9940\n",
      "Epoch 232/1600\n",
      " 7/12 [================>.............] - ETA: 0s - loss: 0.1543 - accuracy: 0.9375\n",
      "Epoch 232: saving model to model/keypoint_classifier\\keypoint_classifier.hdf5\n",
      "12/12 [==============================] - 0s 24ms/step - loss: 0.1389 - accuracy: 0.9462 - val_loss: 0.0415 - val_accuracy: 0.9899\n",
      "Epoch 233/1600\n",
      " 8/12 [===================>..........] - ETA: 0s - loss: 0.1492 - accuracy: 0.9473\n",
      "Epoch 233: saving model to model/keypoint_classifier\\keypoint_classifier.hdf5\n",
      "12/12 [==============================] - 0s 23ms/step - loss: 0.1533 - accuracy: 0.9435 - val_loss: 0.0541 - val_accuracy: 0.9940\n",
      "Epoch 234/1600\n",
      " 7/12 [================>.............] - ETA: 0s - loss: 0.1401 - accuracy: 0.9509\n",
      "Epoch 234: saving model to model/keypoint_classifier\\keypoint_classifier.hdf5\n",
      "12/12 [==============================] - 0s 23ms/step - loss: 0.1436 - accuracy: 0.9462 - val_loss: 0.0430 - val_accuracy: 0.9919\n",
      "Epoch 235/1600\n",
      " 7/12 [================>.............] - ETA: 0s - loss: 0.1638 - accuracy: 0.9330\n",
      "Epoch 235: saving model to model/keypoint_classifier\\keypoint_classifier.hdf5\n",
      "12/12 [==============================] - 0s 21ms/step - loss: 0.1594 - accuracy: 0.9355 - val_loss: 0.0522 - val_accuracy: 0.9899\n",
      "Epoch 236/1600\n",
      " 9/12 [=====================>........] - ETA: 0s - loss: 0.1611 - accuracy: 0.9332\n",
      "Epoch 236: saving model to model/keypoint_classifier\\keypoint_classifier.hdf5\n",
      "12/12 [==============================] - 0s 20ms/step - loss: 0.1550 - accuracy: 0.9375 - val_loss: 0.0630 - val_accuracy: 0.9879\n",
      "Epoch 237/1600\n",
      " 8/12 [===================>..........] - ETA: 0s - loss: 0.1471 - accuracy: 0.9385\n",
      "Epoch 237: saving model to model/keypoint_classifier\\keypoint_classifier.hdf5\n",
      "12/12 [==============================] - 0s 21ms/step - loss: 0.1420 - accuracy: 0.9409 - val_loss: 0.0510 - val_accuracy: 0.9859\n",
      "Epoch 238/1600\n",
      " 8/12 [===================>..........] - ETA: 0s - loss: 0.1564 - accuracy: 0.9316\n",
      "Epoch 238: saving model to model/keypoint_classifier\\keypoint_classifier.hdf5\n",
      "12/12 [==============================] - 0s 21ms/step - loss: 0.1582 - accuracy: 0.9315 - val_loss: 0.0494 - val_accuracy: 0.9919\n",
      "Epoch 239/1600\n",
      " 8/12 [===================>..........] - ETA: 0s - loss: 0.1504 - accuracy: 0.9385\n",
      "Epoch 239: saving model to model/keypoint_classifier\\keypoint_classifier.hdf5\n",
      "12/12 [==============================] - 0s 20ms/step - loss: 0.1418 - accuracy: 0.9402 - val_loss: 0.0426 - val_accuracy: 0.9919\n",
      "Epoch 240/1600\n",
      " 8/12 [===================>..........] - ETA: 0s - loss: 0.1348 - accuracy: 0.9395\n",
      "Epoch 240: saving model to model/keypoint_classifier\\keypoint_classifier.hdf5\n",
      "12/12 [==============================] - 0s 21ms/step - loss: 0.1403 - accuracy: 0.9382 - val_loss: 0.0406 - val_accuracy: 0.9899\n",
      "Epoch 241/1600\n",
      " 9/12 [=====================>........] - ETA: 0s - loss: 0.1401 - accuracy: 0.9401\n",
      "Epoch 241: saving model to model/keypoint_classifier\\keypoint_classifier.hdf5\n",
      "12/12 [==============================] - 0s 22ms/step - loss: 0.1416 - accuracy: 0.9409 - val_loss: 0.0459 - val_accuracy: 0.9919\n",
      "Epoch 241: early stopping\n"
     ]
    },
    {
     "data": {
      "text/plain": [
       "<keras.src.callbacks.History at 0x2265f157e80>"
      ]
     },
     "execution_count": 453,
     "metadata": {},
     "output_type": "execute_result"
    }
   ],
   "source": [
    "model.fit(\n",
    "    X_train,\n",
    "    y_train,\n",
    "    epochs=100*NUM_CLASSES,\n",
    "    batch_size=128,\n",
    "    validation_data=(X_test, y_test),\n",
    "    callbacks=[cp_callback, es_callback]\n",
    ")"
   ]
  },
  {
   "cell_type": "code",
   "execution_count": 454,
   "metadata": {
    "colab": {
     "base_uri": "https://localhost:8080/"
    },
    "id": "pxvb2Y299hE3",
    "outputId": "59eb3185-2e37-4b9e-bc9d-ab1b8ac29b7f"
   },
   "outputs": [
    {
     "name": "stdout",
     "output_type": "stream",
     "text": [
      "4/4 [==============================] - 0s 5ms/step - loss: 0.0459 - accuracy: 0.9919\n"
     ]
    }
   ],
   "source": [
    "# Model evaluation\n",
    "val_loss, val_acc = model.evaluate(X_test, y_test, batch_size=128)"
   ]
  },
  {
   "cell_type": "code",
   "execution_count": 455,
   "metadata": {
    "id": "RBkmDeUW9hE4"
   },
   "outputs": [],
   "source": [
    "# Loading the saved model\n",
    "model = tf.keras.models.load_model(model_save_path)"
   ]
  },
  {
   "cell_type": "code",
   "execution_count": 456,
   "metadata": {
    "colab": {
     "base_uri": "https://localhost:8080/"
    },
    "id": "tFz9Tb0I9hE4",
    "outputId": "1c3b3528-54ae-4ee2-ab04-77429211cbef"
   },
   "outputs": [
    {
     "name": "stdout",
     "output_type": "stream",
     "text": [
      "1/1 [==============================] - 0s 135ms/step\n",
      "[1.4932846e-07 1.4823569e-10 3.5897611e-11 4.7168749e-09 3.3478688e-08\n",
      " 9.9999976e-01 1.5467890e-20 1.0518410e-20 1.9971368e-12 5.1147340e-23\n",
      " 2.7368162e-12 1.8562045e-15 2.3753033e-08 1.6145524e-10 4.0698335e-08\n",
      " 3.9920877e-13]\n",
      "5\n"
     ]
    }
   ],
   "source": [
    "# Inference test\n",
    "predict_result = model.predict(np.array([X_test[0]]))\n",
    "print(np.squeeze(predict_result))\n",
    "print(np.argmax(np.squeeze(predict_result)))"
   ]
  },
  {
   "cell_type": "markdown",
   "metadata": {
    "id": "S3U4yNWx9hE4"
   },
   "source": [
    "# Confusion matrix"
   ]
  },
  {
   "cell_type": "code",
   "execution_count": 457,
   "metadata": {
    "colab": {
     "base_uri": "https://localhost:8080/",
     "height": 582
    },
    "id": "AP1V6SCk9hE5",
    "outputId": "08e41a80-7a4a-4619-8125-ecc371368d19"
   },
   "outputs": [
    {
     "name": "stdout",
     "output_type": "stream",
     "text": [
      "16/16 [==============================] - 0s 4ms/step\n"
     ]
    },
    {
     "data": {
      "image/png": "[encoded data removed]",
      "text/plain": [
       "<Figure size 700x600 with 2 Axes>"
      ]
     },
     "metadata": {},
     "output_type": "display_data"
    },
    {
     "name": "stdout",
     "output_type": "stream",
     "text": [
      "Classification Report\n",
      "              precision    recall  f1-score   support\n",
      "\n",
      "           0       1.00      1.00      1.00        20\n",
      "           1       1.00      1.00      1.00        41\n",
      "           2       0.98      0.96      0.97        53\n",
      "           3       1.00      1.00      1.00        34\n",
      "           4       0.98      1.00      0.99        40\n",
      "           5       1.00      1.00      1.00        41\n",
      "           6       1.00      1.00      1.00        23\n",
      "           7       1.00      1.00      1.00        26\n",
      "           8       1.00      1.00      1.00        24\n",
      "           9       1.00      1.00      1.00        19\n",
      "          10       1.00      0.96      0.98        23\n",
      "          11       1.00      1.00      1.00        32\n",
      "          12       1.00      1.00      1.00        35\n",
      "          13       1.00      1.00      1.00        31\n",
      "          14       1.00      1.00      1.00        25\n",
      "          15       0.93      0.97      0.95        29\n",
      "\n",
      "    accuracy                           0.99       496\n",
      "   macro avg       0.99      0.99      0.99       496\n",
      "weighted avg       0.99      0.99      0.99       496\n",
      "\n"
     ]
    }
   ],
   "source": [
    "import pandas as pd\n",
    "import seaborn as sns\n",
    "import matplotlib.pyplot as plt\n",
    "from sklearn.metrics import confusion_matrix, classification_report\n",
    "\n",
    "def print_confusion_matrix(y_true, y_pred, report=True):\n",
    "    labels = sorted(list(set(y_true)))\n",
    "    cmx_data = confusion_matrix(y_true, y_pred, labels=labels)\n",
    "    \n",
    "    df_cmx = pd.DataFrame(cmx_data, index=labels, columns=labels)\n",
    " \n",
    "    fig, ax = plt.subplots(figsize=(7, 6))\n",
    "    sns.heatmap(df_cmx, annot=True, fmt='g' ,square=False)\n",
    "    ax.set_ylim(len(set(y_true)), 0)\n",
    "    plt.show()\n",
    "    \n",
    "    if report:\n",
    "        print('Classification Report')\n",
    "        print(classification_report(y_test, y_pred))\n",
    "\n",
    "Y_pred = model.predict(X_test)\n",
    "y_pred = np.argmax(Y_pred, axis=1)\n",
    "\n",
    "print_confusion_matrix(y_test, y_pred)"
   ]
  },
  {
   "cell_type": "markdown",
   "metadata": {
    "id": "FNP6aqzc9hE5"
   },
   "source": [
    "# Convert to model for Tensorflow-Lite"
   ]
  },
  {
   "cell_type": "code",
   "execution_count": 458,
   "metadata": {
    "id": "ODjnYyld9hE6"
   },
   "outputs": [
    {
     "name": "stderr",
     "output_type": "stream",
     "text": [
      "C:\\Users\\Sanjay\\AppData\\Local\\Programs\\Python\\Python39\\lib\\site-packages\\keras\\src\\engine\\training.py:3000: UserWarning: You are saving your model as an HDF5 file via `model.save()`. This file format is considered legacy. We recommend using instead the native Keras format, e.g. `model.save('my_model.keras')`.\n",
      "  saving_api.save_model(\n"
     ]
    }
   ],
   "source": [
    "# Save as a model dedicated to inference\n",
    "model.save(model_save_path, include_optimizer=False)"
   ]
  },
  {
   "cell_type": "code",
   "execution_count": 459,
   "metadata": {
    "colab": {
     "base_uri": "https://localhost:8080/"
    },
    "id": "zRfuK8Y59hE6",
    "outputId": "a4ca585c-b5d5-4244-8291-8674063209bb"
   },
   "outputs": [
    {
     "name": "stdout",
     "output_type": "stream",
     "text": [
      "INFO:tensorflow:Assets written to: C:\\Users\\Sanjay\\AppData\\Local\\Temp\\tmpvosyvv9c\\assets\n"
     ]
    },
    {
     "name": "stderr",
     "output_type": "stream",
     "text": [
      "INFO:tensorflow:Assets written to: C:\\Users\\Sanjay\\AppData\\Local\\Temp\\tmpvosyvv9c\\assets\n"
     ]
    },
    {
     "data": {
      "text/plain": [
       "19752"
      ]
     },
     "execution_count": 459,
     "metadata": {},
     "output_type": "execute_result"
    }
   ],
   "source": [
    "# Transform model (quantization)\n",
    "\n",
    "converter = tf.lite.TFLiteConverter.from_keras_model(model)\n",
    "converter.optimizations = [tf.lite.Optimize.DEFAULT]\n",
    "tflite_quantized_model = converter.convert()\n",
    "\n",
    "open(tflite_save_path, 'wb').write(tflite_quantized_model)"
   ]
  },
  {
   "cell_type": "markdown",
   "metadata": {
    "id": "CHBPBXdx9hE6"
   },
   "source": [
    "# Inference test"
   ]
  },
  {
   "cell_type": "code",
   "execution_count": 460,
   "metadata": {
    "id": "mGAzLocO9hE7"
   },
   "outputs": [],
   "source": [
    "interpreter = tf.lite.Interpreter(model_path=tflite_save_path)\n",
    "interpreter.allocate_tensors()"
   ]
  },
  {
   "cell_type": "code",
   "execution_count": 461,
   "metadata": {
    "id": "oQuDK8YS9hE7"
   },
   "outputs": [],
   "source": [
    "# Get I / O tensor\n",
    "input_details = interpreter.get_input_details()\n",
    "output_details = interpreter.get_output_details()"
   ]
  },
  {
   "cell_type": "code",
   "execution_count": 462,
   "metadata": {
    "id": "2_ixAf_l9hE7"
   },
   "outputs": [],
   "source": [
    "interpreter.set_tensor(input_details[0]['index'], np.array([X_test[0]]))"
   ]
  },
  {
   "cell_type": "code",
   "execution_count": 463,
   "metadata": {
    "colab": {
     "base_uri": "https://localhost:8080/"
    },
    "id": "s4FoAnuc9hE7",
    "outputId": "91f18257-8d8b-4ef3-c558-e9b5f94fabbf",
    "scrolled": true
   },
   "outputs": [
    {
     "name": "stdout",
     "output_type": "stream",
     "text": [
      "CPU times: total: 0 ns\n",
      "Wall time: 0 ns\n"
     ]
    }
   ],
   "source": [
    "%%time\n",
    "# Inference implementation\n",
    "interpreter.invoke()\n",
    "tflite_results = interpreter.get_tensor(output_details[0]['index'])"
   ]
  },
  {
   "cell_type": "code",
   "execution_count": 464,
   "metadata": {
    "colab": {
     "base_uri": "https://localhost:8080/"
    },
    "id": "vONjp19J9hE8",
    "outputId": "77205e24-fd00-42c4-f7b6-e06e527c2cba"
   },
   "outputs": [
    {
     "name": "stdout",
     "output_type": "stream",
     "text": [
      "[1.4322563e-07 1.7071004e-10 3.8243287e-11 4.3134807e-09 3.6144243e-08\n",
      " 9.9999976e-01 1.5452614e-20 1.3686133e-20 2.5172609e-12 5.6286759e-23\n",
      " 2.7642222e-12 1.6701738e-15 2.7026571e-08 1.9483354e-10 4.6941075e-08\n",
      " 4.1542746e-13]\n",
      "5\n"
     ]
    }
   ],
   "source": [
    "print(np.squeeze(tflite_results))\n",
    "print(np.argmax(np.squeeze(tflite_results)))"
   ]
  },
  {
   "cell_type": "code",
   "execution_count": null,
   "metadata": {},
   "outputs": [],
   "source": []
  },
  {
   "cell_type": "code",
   "execution_count": null,
   "metadata": {},
   "outputs": [],
   "source": []
  },
  {
   "cell_type": "code",
   "execution_count": null,
   "metadata": {},
   "outputs": [],
   "source": []
  }
 ],
 "metadata": {
  "accelerator": "GPU",
  "colab": {
   "collapsed_sections": [],
   "name": "keypoint_classification_EN.ipynb",
   "provenance": [],
   "toc_visible": true
  },
  "kernelspec": {
   "display_name": "Python 3 (ipykernel)",
   "language": "python",
   "name": "python3"
  },
  "language_info": {
   "codemirror_mode": {
    "name": "ipython",
    "version": 3
   },
   "file_extension": ".py",
   "mimetype": "text/x-python",
   "name": "python",
   "nbconvert_exporter": "python",
   "pygments_lexer": "ipython3",
   "version": "3.9.7"
  }
 },
 "nbformat": 4,
 "nbformat_minor": 1
}
