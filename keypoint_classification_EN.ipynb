{
 "cells": [
  {
   "cell_type": "code",
   "execution_count": 1,
   "metadata": {
    "id": "igMyGnjE9hEp"
   },
   "outputs": [],
   "source": [
    "import csv\n",
    "\n",
    "import numpy as np\n",
    "import tensorflow as tf\n",
    "from sklearn.model_selection import train_test_split\n",
    "\n",
    "RANDOM_SEED = 42"
   ]
  },
  {
   "cell_type": "markdown",
   "metadata": {
    "id": "t2HDvhIu9hEr"
   },
   "source": [
    "# Specify each path"
   ]
  },
  {
   "cell_type": "code",
   "execution_count": 2,
   "metadata": {
    "id": "9NvZP2Zn9hEy"
   },
   "outputs": [],
   "source": [
    "dataset = 'model/keypoint_classifier/keypoint.csv'\n",
    "model_save_path = 'model/keypoint_classifier/keypoint_classifier.hdf5'\n",
    "tflite_save_path = 'model/keypoint_classifier/keypoint_classifier.tflite'"
   ]
  },
  {
   "cell_type": "markdown",
   "metadata": {
    "id": "s5oMH7x19hEz"
   },
   "source": [
    "# Set number of classes"
   ]
  },
  {
   "cell_type": "code",
   "execution_count": 3,
   "metadata": {
    "id": "du4kodXL9hEz"
   },
   "outputs": [],
   "source": [
    "NUM_CLASSES = 2"
   ]
  },
  {
   "cell_type": "markdown",
   "metadata": {
    "id": "XjnL0uso9hEz"
   },
   "source": [
    "# Dataset reading"
   ]
  },
  {
   "cell_type": "code",
   "execution_count": 4,
   "metadata": {
    "id": "QT5ZqtEz9hE0"
   },
   "outputs": [],
   "source": [
    "X_dataset = np.loadtxt(dataset, delimiter=',', dtype='float32', usecols=list(range(1, (21 * 2) + 1)))"
   ]
  },
  {
   "cell_type": "code",
   "execution_count": 5,
   "metadata": {
    "id": "QmoKFsp49hE0"
   },
   "outputs": [],
   "source": [
    "y_dataset = np.loadtxt(dataset, delimiter=',', dtype='int32', usecols=(0))"
   ]
  },
  {
   "cell_type": "code",
   "execution_count": 6,
   "metadata": {
    "id": "xQU7JTZ_9hE0"
   },
   "outputs": [],
   "source": [
    "X_train, X_test, y_train, y_test = train_test_split(X_dataset, y_dataset, train_size=0.75, random_state=RANDOM_SEED)"
   ]
  },
  {
   "cell_type": "markdown",
   "metadata": {
    "id": "mxK_lETT9hE0"
   },
   "source": [
    "# Model building"
   ]
  },
  {
   "cell_type": "code",
   "execution_count": 7,
   "metadata": {
    "id": "vHBmUf1t9hE1"
   },
   "outputs": [],
   "source": [
    "model = tf.keras.models.Sequential([\n",
    "    tf.keras.layers.Input((21 * 2, )),\n",
    "    tf.keras.layers.Dropout(0.2),\n",
    "    tf.keras.layers.Dense(20, activation='relu'),\n",
    "    tf.keras.layers.Dropout(0.4),\n",
    "    tf.keras.layers.Dense(10, activation='relu'),\n",
    "    tf.keras.layers.Dense(NUM_CLASSES, activation='softmax')\n",
    "])"
   ]
  },
  {
   "cell_type": "code",
   "execution_count": 8,
   "metadata": {
    "colab": {
     "base_uri": "https://localhost:8080/"
    },
    "id": "ypqky9tc9hE1",
    "outputId": "5db082bb-30e3-4110-bf63-a1ee777ecd46"
   },
   "outputs": [
    {
     "name": "stdout",
     "output_type": "stream",
     "text": [
      "Model: \"sequential\"\n",
      "_________________________________________________________________\n",
      " Layer (type)                Output Shape              Param #   \n",
      "=================================================================\n",
      " dropout (Dropout)           (None, 42)                0         \n",
      "                                                                 \n",
      " dense (Dense)               (None, 20)                860       \n",
      "                                                                 \n",
      " dropout_1 (Dropout)         (None, 20)                0         \n",
      "                                                                 \n",
      " dense_1 (Dense)             (None, 10)                210       \n",
      "                                                                 \n",
      " dense_2 (Dense)             (None, 2)                 22        \n",
      "                                                                 \n",
      "=================================================================\n",
      "Total params: 1092 (4.27 KB)\n",
      "Trainable params: 1092 (4.27 KB)\n",
      "Non-trainable params: 0 (0.00 Byte)\n",
      "_________________________________________________________________\n"
     ]
    }
   ],
   "source": [
    "model.summary()  # tf.keras.utils.plot_model(model, show_shapes=True)"
   ]
  },
  {
   "cell_type": "code",
   "execution_count": 9,
   "metadata": {
    "id": "MbMjOflQ9hE1"
   },
   "outputs": [],
   "source": [
    "# Model checkpoint callback\n",
    "cp_callback = tf.keras.callbacks.ModelCheckpoint(\n",
    "    model_save_path, verbose=1, save_weights_only=False)\n",
    "# Callback for early stopping\n",
    "es_callback = tf.keras.callbacks.EarlyStopping(patience=20, verbose=1)"
   ]
  },
  {
   "cell_type": "code",
   "execution_count": 10,
   "metadata": {
    "id": "c3Dac0M_9hE2"
   },
   "outputs": [],
   "source": [
    "# Model compilation\n",
    "model.compile(\n",
    "    optimizer='adam',\n",
    "    loss='sparse_categorical_crossentropy',\n",
    "    metrics=['accuracy']\n",
    ")"
   ]
  },
  {
   "cell_type": "markdown",
   "metadata": {
    "id": "7XI0j1Iu9hE2"
   },
   "source": [
    "# Model training"
   ]
  },
  {
   "cell_type": "code",
   "execution_count": 11,
   "metadata": {
    "colab": {
     "base_uri": "https://localhost:8080/"
    },
    "id": "WirBl-JE9hE3",
    "outputId": "71b30ca2-8294-4d9d-8aa2-800d90d399de",
    "scrolled": true
   },
   "outputs": [
    {
     "name": "stdout",
     "output_type": "stream",
     "text": [
      "Epoch 1/1000\n",
      "1/2 [==============>...............] - ETA: 2s - loss: 1.0268 - accuracy: 0.4062\n",
      "Epoch 1: saving model to model/keypoint_classifier\\keypoint_classifier.hdf5\n",
      "2/2 [==============================] - 3s 700ms/step - loss: 0.9965 - accuracy: 0.4400 - val_loss: 0.9018 - val_accuracy: 0.5400\n",
      "Epoch 2/1000\n",
      "1/2 [==============>...............] - ETA: 0s - loss: 0.9515 - accuracy: 0.4766\n",
      "Epoch 2: saving model to model/keypoint_classifier\\keypoint_classifier.hdf5\n"
     ]
    },
    {
     "name": "stderr",
     "output_type": "stream",
     "text": [
      "C:\\Users\\Sanjay\\AppData\\Local\\Programs\\Python\\Python39\\lib\\site-packages\\keras\\src\\engine\\training.py:3000: UserWarning: You are saving your model as an HDF5 file via `model.save()`. This file format is considered legacy. We recommend using instead the native Keras format, e.g. `model.save('my_model.keras')`.\n",
      "  saving_api.save_model(\n"
     ]
    },
    {
     "name": "stdout",
     "output_type": "stream",
     "text": [
      "2/2 [==============================] - 0s 152ms/step - loss: 0.9458 - accuracy: 0.4600 - val_loss: 0.8586 - val_accuracy: 0.5400\n",
      "Epoch 3/1000\n",
      "1/2 [==============>...............] - ETA: 0s - loss: 0.9062 - accuracy: 0.4609\n",
      "Epoch 3: saving model to model/keypoint_classifier\\keypoint_classifier.hdf5\n",
      "2/2 [==============================] - 0s 150ms/step - loss: 0.8992 - accuracy: 0.4467 - val_loss: 0.8202 - val_accuracy: 0.5400\n",
      "Epoch 4/1000\n",
      "1/2 [==============>...............] - ETA: 0s - loss: 0.8652 - accuracy: 0.4609\n",
      "Epoch 4: saving model to model/keypoint_classifier\\keypoint_classifier.hdf5\n",
      "2/2 [==============================] - 0s 150ms/step - loss: 0.8867 - accuracy: 0.4600 - val_loss: 0.7872 - val_accuracy: 0.5400\n",
      "Epoch 5/1000\n",
      "1/2 [==============>...............] - ETA: 0s - loss: 0.7838 - accuracy: 0.5156\n",
      "Epoch 5: saving model to model/keypoint_classifier\\keypoint_classifier.hdf5\n",
      "2/2 [==============================] - 0s 144ms/step - loss: 0.8134 - accuracy: 0.4800 - val_loss: 0.7590 - val_accuracy: 0.5400\n",
      "Epoch 6/1000\n",
      "1/2 [==============>...............] - ETA: 0s - loss: 0.8303 - accuracy: 0.4609\n",
      "Epoch 6: saving model to model/keypoint_classifier\\keypoint_classifier.hdf5\n",
      "2/2 [==============================] - 0s 147ms/step - loss: 0.8124 - accuracy: 0.4667 - val_loss: 0.7335 - val_accuracy: 0.5400\n",
      "Epoch 7/1000\n",
      "1/2 [==============>...............] - ETA: 0s - loss: 0.8149 - accuracy: 0.4375\n",
      "Epoch 7: saving model to model/keypoint_classifier\\keypoint_classifier.hdf5\n",
      "2/2 [==============================] - 0s 149ms/step - loss: 0.8173 - accuracy: 0.4400 - val_loss: 0.7112 - val_accuracy: 0.5400\n",
      "Epoch 8/1000\n",
      "1/2 [==============>...............] - ETA: 0s - loss: 0.8166 - accuracy: 0.5078\n",
      "Epoch 8: saving model to model/keypoint_classifier\\keypoint_classifier.hdf5\n",
      "2/2 [==============================] - 0s 150ms/step - loss: 0.8034 - accuracy: 0.5267 - val_loss: 0.7029 - val_accuracy: 0.5400\n",
      "Epoch 9/1000\n",
      "1/2 [==============>...............] - ETA: 0s - loss: 0.7826 - accuracy: 0.4609\n",
      "Epoch 9: saving model to model/keypoint_classifier\\keypoint_classifier.hdf5\n",
      "2/2 [==============================] - 0s 152ms/step - loss: 0.7962 - accuracy: 0.4733 - val_loss: 0.6959 - val_accuracy: 0.5600\n",
      "Epoch 10/1000\n",
      "1/2 [==============>...............] - ETA: 0s - loss: 0.7704 - accuracy: 0.4688\n",
      "Epoch 10: saving model to model/keypoint_classifier\\keypoint_classifier.hdf5\n",
      "2/2 [==============================] - 0s 150ms/step - loss: 0.7696 - accuracy: 0.4800 - val_loss: 0.6896 - val_accuracy: 0.5600\n",
      "Epoch 11/1000\n",
      "1/2 [==============>...............] - ETA: 0s - loss: 0.7314 - accuracy: 0.5234\n",
      "Epoch 11: saving model to model/keypoint_classifier\\keypoint_classifier.hdf5\n",
      "2/2 [==============================] - 0s 157ms/step - loss: 0.7374 - accuracy: 0.5067 - val_loss: 0.6841 - val_accuracy: 0.5800\n",
      "Epoch 12/1000\n",
      "1/2 [==============>...............] - ETA: 0s - loss: 0.7214 - accuracy: 0.5000\n",
      "Epoch 12: saving model to model/keypoint_classifier\\keypoint_classifier.hdf5\n",
      "2/2 [==============================] - 0s 150ms/step - loss: 0.7207 - accuracy: 0.4933 - val_loss: 0.6794 - val_accuracy: 0.8400\n",
      "Epoch 13/1000\n",
      "1/2 [==============>...............] - ETA: 0s - loss: 0.7458 - accuracy: 0.4219\n",
      "Epoch 13: saving model to model/keypoint_classifier\\keypoint_classifier.hdf5\n",
      "2/2 [==============================] - 0s 164ms/step - loss: 0.7395 - accuracy: 0.4467 - val_loss: 0.6747 - val_accuracy: 0.6400\n",
      "Epoch 14/1000\n",
      "1/2 [==============>...............] - ETA: 0s - loss: 0.7340 - accuracy: 0.5000\n",
      "Epoch 14: saving model to model/keypoint_classifier\\keypoint_classifier.hdf5\n",
      "2/2 [==============================] - 0s 150ms/step - loss: 0.7204 - accuracy: 0.5267 - val_loss: 0.6699 - val_accuracy: 0.5000\n",
      "Epoch 15/1000\n",
      "1/2 [==============>...............] - ETA: 0s - loss: 0.6895 - accuracy: 0.5391\n",
      "Epoch 15: saving model to model/keypoint_classifier\\keypoint_classifier.hdf5\n",
      "2/2 [==============================] - 0s 151ms/step - loss: 0.6886 - accuracy: 0.5467 - val_loss: 0.6652 - val_accuracy: 0.4800\n",
      "Epoch 16/1000\n",
      "1/2 [==============>...............] - ETA: 0s - loss: 0.6714 - accuracy: 0.5859\n",
      "Epoch 16: saving model to model/keypoint_classifier\\keypoint_classifier.hdf5\n",
      "2/2 [==============================] - 0s 152ms/step - loss: 0.6702 - accuracy: 0.5800 - val_loss: 0.6604 - val_accuracy: 0.4800\n",
      "Epoch 17/1000\n",
      "1/2 [==============>...............] - ETA: 0s - loss: 0.6916 - accuracy: 0.5938\n",
      "Epoch 17: saving model to model/keypoint_classifier\\keypoint_classifier.hdf5\n",
      "2/2 [==============================] - 0s 150ms/step - loss: 0.6859 - accuracy: 0.6133 - val_loss: 0.6557 - val_accuracy: 0.4800\n",
      "Epoch 18/1000\n",
      "1/2 [==============>...............] - ETA: 0s - loss: 0.6908 - accuracy: 0.5156\n",
      "Epoch 18: saving model to model/keypoint_classifier\\keypoint_classifier.hdf5\n",
      "2/2 [==============================] - 0s 150ms/step - loss: 0.6895 - accuracy: 0.5267 - val_loss: 0.6510 - val_accuracy: 0.4800\n",
      "Epoch 19/1000\n",
      "1/2 [==============>...............] - ETA: 0s - loss: 0.6684 - accuracy: 0.6328\n",
      "Epoch 19: saving model to model/keypoint_classifier\\keypoint_classifier.hdf5\n",
      "2/2 [==============================] - 0s 171ms/step - loss: 0.6770 - accuracy: 0.6067 - val_loss: 0.6462 - val_accuracy: 0.5200\n",
      "Epoch 20/1000\n",
      "1/2 [==============>...............] - ETA: 0s - loss: 0.6259 - accuracy: 0.6094\n",
      "Epoch 20: saving model to model/keypoint_classifier\\keypoint_classifier.hdf5\n",
      "2/2 [==============================] - 0s 147ms/step - loss: 0.6351 - accuracy: 0.6067 - val_loss: 0.6412 - val_accuracy: 0.5400\n",
      "Epoch 21/1000\n",
      "1/2 [==============>...............] - ETA: 0s - loss: 0.6801 - accuracy: 0.5547\n",
      "Epoch 21: saving model to model/keypoint_classifier\\keypoint_classifier.hdf5\n",
      "2/2 [==============================] - 0s 147ms/step - loss: 0.6875 - accuracy: 0.5333 - val_loss: 0.6357 - val_accuracy: 0.6400\n",
      "Epoch 22/1000\n",
      "1/2 [==============>...............] - ETA: 0s - loss: 0.6709 - accuracy: 0.5781\n",
      "Epoch 22: saving model to model/keypoint_classifier\\keypoint_classifier.hdf5\n",
      "2/2 [==============================] - 0s 167ms/step - loss: 0.6671 - accuracy: 0.5933 - val_loss: 0.6296 - val_accuracy: 0.8000\n",
      "Epoch 23/1000\n",
      "1/2 [==============>...............] - ETA: 0s - loss: 0.6126 - accuracy: 0.7578\n",
      "Epoch 23: saving model to model/keypoint_classifier\\keypoint_classifier.hdf5\n",
      "2/2 [==============================] - 0s 152ms/step - loss: 0.6189 - accuracy: 0.7533 - val_loss: 0.6233 - val_accuracy: 0.9200\n",
      "Epoch 24/1000\n",
      "1/2 [==============>...............] - ETA: 0s - loss: 0.6841 - accuracy: 0.5234\n",
      "Epoch 24: saving model to model/keypoint_classifier\\keypoint_classifier.hdf5\n",
      "2/2 [==============================] - 0s 147ms/step - loss: 0.6704 - accuracy: 0.5467 - val_loss: 0.6172 - val_accuracy: 0.9400\n",
      "Epoch 25/1000\n",
      "1/2 [==============>...............] - ETA: 0s - loss: 0.6125 - accuracy: 0.7109\n",
      "Epoch 25: saving model to model/keypoint_classifier\\keypoint_classifier.hdf5\n",
      "2/2 [==============================] - 0s 140ms/step - loss: 0.6240 - accuracy: 0.6933 - val_loss: 0.6108 - val_accuracy: 0.9800\n",
      "Epoch 26/1000\n",
      "1/2 [==============>...............] - ETA: 0s - loss: 0.6531 - accuracy: 0.5781\n",
      "Epoch 26: saving model to model/keypoint_classifier\\keypoint_classifier.hdf5\n",
      "2/2 [==============================] - 0s 144ms/step - loss: 0.6499 - accuracy: 0.5933 - val_loss: 0.6044 - val_accuracy: 1.0000\n",
      "Epoch 27/1000\n",
      "1/2 [==============>...............] - ETA: 0s - loss: 0.6242 - accuracy: 0.7266\n",
      "Epoch 27: saving model to model/keypoint_classifier\\keypoint_classifier.hdf5\n",
      "2/2 [==============================] - 0s 154ms/step - loss: 0.6340 - accuracy: 0.7000 - val_loss: 0.5984 - val_accuracy: 1.0000\n",
      "Epoch 28/1000\n",
      "1/2 [==============>...............] - ETA: 0s - loss: 0.6433 - accuracy: 0.6562\n",
      "Epoch 28: saving model to model/keypoint_classifier\\keypoint_classifier.hdf5\n",
      "2/2 [==============================] - 0s 143ms/step - loss: 0.6491 - accuracy: 0.6267 - val_loss: 0.5925 - val_accuracy: 1.0000\n",
      "Epoch 29/1000\n",
      "1/2 [==============>...............] - ETA: 0s - loss: 0.6074 - accuracy: 0.7266\n",
      "Epoch 29: saving model to model/keypoint_classifier\\keypoint_classifier.hdf5\n",
      "2/2 [==============================] - 0s 136ms/step - loss: 0.6210 - accuracy: 0.6933 - val_loss: 0.5865 - val_accuracy: 1.0000\n"
     ]
    },
    {
     "name": "stdout",
     "output_type": "stream",
     "text": [
      "Epoch 30/1000\n",
      "1/2 [==============>...............] - ETA: 0s - loss: 0.6234 - accuracy: 0.7031\n",
      "Epoch 30: saving model to model/keypoint_classifier\\keypoint_classifier.hdf5\n",
      "2/2 [==============================] - 0s 148ms/step - loss: 0.6212 - accuracy: 0.6933 - val_loss: 0.5805 - val_accuracy: 1.0000\n",
      "Epoch 31/1000\n",
      "1/2 [==============>...............] - ETA: 0s - loss: 0.6277 - accuracy: 0.6719\n",
      "Epoch 31: saving model to model/keypoint_classifier\\keypoint_classifier.hdf5\n",
      "2/2 [==============================] - 0s 150ms/step - loss: 0.6243 - accuracy: 0.6800 - val_loss: 0.5745 - val_accuracy: 1.0000\n",
      "Epoch 32/1000\n",
      "1/2 [==============>...............] - ETA: 0s - loss: 0.6208 - accuracy: 0.6875\n",
      "Epoch 32: saving model to model/keypoint_classifier\\keypoint_classifier.hdf5\n",
      "2/2 [==============================] - 0s 150ms/step - loss: 0.6212 - accuracy: 0.6867 - val_loss: 0.5683 - val_accuracy: 1.0000\n",
      "Epoch 33/1000\n",
      "1/2 [==============>...............] - ETA: 0s - loss: 0.6128 - accuracy: 0.7422\n",
      "Epoch 33: saving model to model/keypoint_classifier\\keypoint_classifier.hdf5\n",
      "2/2 [==============================] - 0s 145ms/step - loss: 0.6169 - accuracy: 0.7467 - val_loss: 0.5625 - val_accuracy: 1.0000\n",
      "Epoch 34/1000\n",
      "1/2 [==============>...............] - ETA: 0s - loss: 0.6150 - accuracy: 0.6953\n",
      "Epoch 34: saving model to model/keypoint_classifier\\keypoint_classifier.hdf5\n",
      "2/2 [==============================] - 0s 155ms/step - loss: 0.6088 - accuracy: 0.7200 - val_loss: 0.5569 - val_accuracy: 1.0000\n",
      "Epoch 35/1000\n",
      "1/2 [==============>...............] - ETA: 0s - loss: 0.5927 - accuracy: 0.7422\n",
      "Epoch 35: saving model to model/keypoint_classifier\\keypoint_classifier.hdf5\n",
      "2/2 [==============================] - 0s 150ms/step - loss: 0.5993 - accuracy: 0.7267 - val_loss: 0.5511 - val_accuracy: 1.0000\n",
      "Epoch 36/1000\n",
      "1/2 [==============>...............] - ETA: 0s - loss: 0.5954 - accuracy: 0.7266\n",
      "Epoch 36: saving model to model/keypoint_classifier\\keypoint_classifier.hdf5\n",
      "2/2 [==============================] - 0s 151ms/step - loss: 0.5892 - accuracy: 0.7333 - val_loss: 0.5453 - val_accuracy: 1.0000\n",
      "Epoch 37/1000\n",
      "1/2 [==============>...............] - ETA: 0s - loss: 0.5817 - accuracy: 0.7656\n",
      "Epoch 37: saving model to model/keypoint_classifier\\keypoint_classifier.hdf5\n",
      "2/2 [==============================] - 0s 140ms/step - loss: 0.5809 - accuracy: 0.7800 - val_loss: 0.5393 - val_accuracy: 1.0000\n",
      "Epoch 38/1000\n",
      "1/2 [==============>...............] - ETA: 0s - loss: 0.5734 - accuracy: 0.7891\n",
      "Epoch 38: saving model to model/keypoint_classifier\\keypoint_classifier.hdf5\n",
      "2/2 [==============================] - 0s 152ms/step - loss: 0.5754 - accuracy: 0.7867 - val_loss: 0.5333 - val_accuracy: 1.0000\n",
      "Epoch 39/1000\n",
      "1/2 [==============>...............] - ETA: 0s - loss: 0.5569 - accuracy: 0.7734\n",
      "Epoch 39: saving model to model/keypoint_classifier\\keypoint_classifier.hdf5\n",
      "2/2 [==============================] - 0s 155ms/step - loss: 0.5611 - accuracy: 0.7733 - val_loss: 0.5273 - val_accuracy: 1.0000\n",
      "Epoch 40/1000\n",
      "1/2 [==============>...............] - ETA: 0s - loss: 0.5557 - accuracy: 0.8125\n",
      "Epoch 40: saving model to model/keypoint_classifier\\keypoint_classifier.hdf5\n",
      "2/2 [==============================] - 0s 157ms/step - loss: 0.5715 - accuracy: 0.7733 - val_loss: 0.5212 - val_accuracy: 1.0000\n",
      "Epoch 41/1000\n",
      "1/2 [==============>...............] - ETA: 0s - loss: 0.5644 - accuracy: 0.7500\n",
      "Epoch 41: saving model to model/keypoint_classifier\\keypoint_classifier.hdf5\n",
      "2/2 [==============================] - 0s 140ms/step - loss: 0.5596 - accuracy: 0.7533 - val_loss: 0.5154 - val_accuracy: 1.0000\n",
      "Epoch 42/1000\n",
      "1/2 [==============>...............] - ETA: 0s - loss: 0.5656 - accuracy: 0.8047\n",
      "Epoch 42: saving model to model/keypoint_classifier\\keypoint_classifier.hdf5\n",
      "2/2 [==============================] - 0s 147ms/step - loss: 0.5720 - accuracy: 0.7867 - val_loss: 0.5091 - val_accuracy: 1.0000\n",
      "Epoch 43/1000\n",
      "1/2 [==============>...............] - ETA: 0s - loss: 0.5580 - accuracy: 0.7500\n",
      "Epoch 43: saving model to model/keypoint_classifier\\keypoint_classifier.hdf5\n",
      "2/2 [==============================] - 0s 155ms/step - loss: 0.5583 - accuracy: 0.7467 - val_loss: 0.5019 - val_accuracy: 1.0000\n",
      "Epoch 44/1000\n",
      "1/2 [==============>...............] - ETA: 0s - loss: 0.5785 - accuracy: 0.7422\n",
      "Epoch 44: saving model to model/keypoint_classifier\\keypoint_classifier.hdf5\n",
      "2/2 [==============================] - 0s 152ms/step - loss: 0.5839 - accuracy: 0.7400 - val_loss: 0.4939 - val_accuracy: 1.0000\n",
      "Epoch 45/1000\n",
      "1/2 [==============>...............] - ETA: 0s - loss: 0.5619 - accuracy: 0.7500\n",
      "Epoch 45: saving model to model/keypoint_classifier\\keypoint_classifier.hdf5\n",
      "2/2 [==============================] - 0s 154ms/step - loss: 0.5664 - accuracy: 0.7333 - val_loss: 0.4845 - val_accuracy: 1.0000\n",
      "Epoch 46/1000\n",
      "1/2 [==============>...............] - ETA: 0s - loss: 0.5038 - accuracy: 0.8281\n",
      "Epoch 46: saving model to model/keypoint_classifier\\keypoint_classifier.hdf5\n",
      "2/2 [==============================] - 0s 144ms/step - loss: 0.5032 - accuracy: 0.8200 - val_loss: 0.4731 - val_accuracy: 1.0000\n",
      "Epoch 47/1000\n",
      "1/2 [==============>...............] - ETA: 0s - loss: 0.5647 - accuracy: 0.7578\n",
      "Epoch 47: saving model to model/keypoint_classifier\\keypoint_classifier.hdf5\n",
      "2/2 [==============================] - 0s 151ms/step - loss: 0.5661 - accuracy: 0.7533 - val_loss: 0.4601 - val_accuracy: 1.0000\n",
      "Epoch 48/1000\n",
      "1/2 [==============>...............] - ETA: 0s - loss: 0.5331 - accuracy: 0.8047\n",
      "Epoch 48: saving model to model/keypoint_classifier\\keypoint_classifier.hdf5\n",
      "2/2 [==============================] - 0s 149ms/step - loss: 0.5250 - accuracy: 0.8133 - val_loss: 0.4457 - val_accuracy: 1.0000\n",
      "Epoch 49/1000\n",
      "1/2 [==============>...............] - ETA: 0s - loss: 0.5058 - accuracy: 0.8359\n",
      "Epoch 49: saving model to model/keypoint_classifier\\keypoint_classifier.hdf5\n",
      "2/2 [==============================] - 0s 148ms/step - loss: 0.5017 - accuracy: 0.8333 - val_loss: 0.4314 - val_accuracy: 1.0000\n",
      "Epoch 50/1000\n",
      "1/2 [==============>...............] - ETA: 0s - loss: 0.5281 - accuracy: 0.7969\n",
      "Epoch 50: saving model to model/keypoint_classifier\\keypoint_classifier.hdf5\n",
      "2/2 [==============================] - 0s 141ms/step - loss: 0.5094 - accuracy: 0.8200 - val_loss: 0.4170 - val_accuracy: 1.0000\n",
      "Epoch 51/1000\n",
      "1/2 [==============>...............] - ETA: 0s - loss: 0.4998 - accuracy: 0.8047\n",
      "Epoch 51: saving model to model/keypoint_classifier\\keypoint_classifier.hdf5\n",
      "2/2 [==============================] - 0s 157ms/step - loss: 0.4940 - accuracy: 0.8200 - val_loss: 0.4020 - val_accuracy: 1.0000\n",
      "Epoch 52/1000\n",
      "1/2 [==============>...............] - ETA: 0s - loss: 0.4741 - accuracy: 0.8672\n",
      "Epoch 52: saving model to model/keypoint_classifier\\keypoint_classifier.hdf5\n",
      "2/2 [==============================] - 0s 155ms/step - loss: 0.4941 - accuracy: 0.8400 - val_loss: 0.3872 - val_accuracy: 1.0000\n",
      "Epoch 53/1000\n",
      "1/2 [==============>...............] - ETA: 0s - loss: 0.4558 - accuracy: 0.8359\n",
      "Epoch 53: saving model to model/keypoint_classifier\\keypoint_classifier.hdf5\n",
      "2/2 [==============================] - 0s 128ms/step - loss: 0.4665 - accuracy: 0.8133 - val_loss: 0.3741 - val_accuracy: 1.0000\n",
      "Epoch 54/1000\n",
      "1/2 [==============>...............] - ETA: 0s - loss: 0.4666 - accuracy: 0.8281\n",
      "Epoch 54: saving model to model/keypoint_classifier\\keypoint_classifier.hdf5\n",
      "2/2 [==============================] - 0s 147ms/step - loss: 0.4511 - accuracy: 0.8467 - val_loss: 0.3614 - val_accuracy: 1.0000\n",
      "Epoch 55/1000\n",
      "1/2 [==============>...............] - ETA: 0s - loss: 0.4550 - accuracy: 0.8359\n",
      "Epoch 55: saving model to model/keypoint_classifier\\keypoint_classifier.hdf5\n",
      "2/2 [==============================] - 0s 135ms/step - loss: 0.4438 - accuracy: 0.8533 - val_loss: 0.3478 - val_accuracy: 1.0000\n",
      "Epoch 56/1000\n",
      "1/2 [==============>...............] - ETA: 0s - loss: 0.4636 - accuracy: 0.7891\n",
      "Epoch 56: saving model to model/keypoint_classifier\\keypoint_classifier.hdf5\n",
      "2/2 [==============================] - 0s 150ms/step - loss: 0.4580 - accuracy: 0.8000 - val_loss: 0.3339 - val_accuracy: 1.0000\n",
      "Epoch 57/1000\n"
     ]
    },
    {
     "name": "stdout",
     "output_type": "stream",
     "text": [
      "1/2 [==============>...............] - ETA: 0s - loss: 0.4622 - accuracy: 0.8438\n",
      "Epoch 57: saving model to model/keypoint_classifier\\keypoint_classifier.hdf5\n",
      "2/2 [==============================] - 0s 152ms/step - loss: 0.4580 - accuracy: 0.8267 - val_loss: 0.3202 - val_accuracy: 1.0000\n",
      "Epoch 58/1000\n",
      "1/2 [==============>...............] - ETA: 0s - loss: 0.4163 - accuracy: 0.8594\n",
      "Epoch 58: saving model to model/keypoint_classifier\\keypoint_classifier.hdf5\n",
      "2/2 [==============================] - 0s 140ms/step - loss: 0.4205 - accuracy: 0.8600 - val_loss: 0.3078 - val_accuracy: 1.0000\n",
      "Epoch 59/1000\n",
      "1/2 [==============>...............] - ETA: 0s - loss: 0.4284 - accuracy: 0.8438\n",
      "Epoch 59: saving model to model/keypoint_classifier\\keypoint_classifier.hdf5\n",
      "2/2 [==============================] - 0s 138ms/step - loss: 0.4334 - accuracy: 0.8333 - val_loss: 0.2959 - val_accuracy: 1.0000\n",
      "Epoch 60/1000\n",
      "1/2 [==============>...............] - ETA: 0s - loss: 0.3592 - accuracy: 0.9062\n",
      "Epoch 60: saving model to model/keypoint_classifier\\keypoint_classifier.hdf5\n",
      "2/2 [==============================] - 0s 143ms/step - loss: 0.3503 - accuracy: 0.9200 - val_loss: 0.2833 - val_accuracy: 1.0000\n",
      "Epoch 61/1000\n",
      "1/2 [==============>...............] - ETA: 0s - loss: 0.3874 - accuracy: 0.8828\n",
      "Epoch 61: saving model to model/keypoint_classifier\\keypoint_classifier.hdf5\n",
      "2/2 [==============================] - 0s 142ms/step - loss: 0.3982 - accuracy: 0.8667 - val_loss: 0.2710 - val_accuracy: 1.0000\n",
      "Epoch 62/1000\n",
      "1/2 [==============>...............] - ETA: 0s - loss: 0.4088 - accuracy: 0.8359\n",
      "Epoch 62: saving model to model/keypoint_classifier\\keypoint_classifier.hdf5\n",
      "2/2 [==============================] - 0s 150ms/step - loss: 0.4190 - accuracy: 0.8333 - val_loss: 0.2600 - val_accuracy: 1.0000\n",
      "Epoch 63/1000\n",
      "1/2 [==============>...............] - ETA: 0s - loss: 0.3988 - accuracy: 0.8359\n",
      "Epoch 63: saving model to model/keypoint_classifier\\keypoint_classifier.hdf5\n",
      "2/2 [==============================] - 0s 138ms/step - loss: 0.4149 - accuracy: 0.8133 - val_loss: 0.2501 - val_accuracy: 1.0000\n",
      "Epoch 64/1000\n",
      "1/2 [==============>...............] - ETA: 0s - loss: 0.3811 - accuracy: 0.8594\n",
      "Epoch 64: saving model to model/keypoint_classifier\\keypoint_classifier.hdf5\n",
      "2/2 [==============================] - 0s 145ms/step - loss: 0.3866 - accuracy: 0.8467 - val_loss: 0.2398 - val_accuracy: 1.0000\n",
      "Epoch 65/1000\n",
      "1/2 [==============>...............] - ETA: 0s - loss: 0.3925 - accuracy: 0.8516\n",
      "Epoch 65: saving model to model/keypoint_classifier\\keypoint_classifier.hdf5\n",
      "2/2 [==============================] - 0s 153ms/step - loss: 0.3952 - accuracy: 0.8467 - val_loss: 0.2296 - val_accuracy: 1.0000\n",
      "Epoch 66/1000\n",
      "1/2 [==============>...............] - ETA: 0s - loss: 0.3670 - accuracy: 0.9141\n",
      "Epoch 66: saving model to model/keypoint_classifier\\keypoint_classifier.hdf5\n",
      "2/2 [==============================] - 0s 149ms/step - loss: 0.3709 - accuracy: 0.9133 - val_loss: 0.2192 - val_accuracy: 1.0000\n",
      "Epoch 67/1000\n",
      "1/2 [==============>...............] - ETA: 0s - loss: 0.3559 - accuracy: 0.8906\n",
      "Epoch 67: saving model to model/keypoint_classifier\\keypoint_classifier.hdf5\n",
      "2/2 [==============================] - 0s 142ms/step - loss: 0.3571 - accuracy: 0.9000 - val_loss: 0.2092 - val_accuracy: 1.0000\n",
      "Epoch 68/1000\n",
      "1/2 [==============>...............] - ETA: 0s - loss: 0.3317 - accuracy: 0.9297\n",
      "Epoch 68: saving model to model/keypoint_classifier\\keypoint_classifier.hdf5\n",
      "2/2 [==============================] - 0s 128ms/step - loss: 0.3292 - accuracy: 0.9267 - val_loss: 0.1994 - val_accuracy: 1.0000\n",
      "Epoch 69/1000\n",
      "1/2 [==============>...............] - ETA: 0s - loss: 0.3309 - accuracy: 0.8672\n",
      "Epoch 69: saving model to model/keypoint_classifier\\keypoint_classifier.hdf5\n",
      "2/2 [==============================] - 0s 132ms/step - loss: 0.3315 - accuracy: 0.8733 - val_loss: 0.1906 - val_accuracy: 1.0000\n",
      "Epoch 70/1000\n",
      "1/2 [==============>...............] - ETA: 0s - loss: 0.3053 - accuracy: 0.8750\n",
      "Epoch 70: saving model to model/keypoint_classifier\\keypoint_classifier.hdf5\n",
      "2/2 [==============================] - 0s 139ms/step - loss: 0.3135 - accuracy: 0.8800 - val_loss: 0.1813 - val_accuracy: 1.0000\n",
      "Epoch 71/1000\n",
      "1/2 [==============>...............] - ETA: 0s - loss: 0.3205 - accuracy: 0.8984\n",
      "Epoch 71: saving model to model/keypoint_classifier\\keypoint_classifier.hdf5\n",
      "2/2 [==============================] - 0s 128ms/step - loss: 0.3067 - accuracy: 0.9067 - val_loss: 0.1713 - val_accuracy: 1.0000\n",
      "Epoch 72/1000\n",
      "1/2 [==============>...............] - ETA: 0s - loss: 0.2989 - accuracy: 0.9062\n",
      "Epoch 72: saving model to model/keypoint_classifier\\keypoint_classifier.hdf5\n",
      "2/2 [==============================] - 0s 131ms/step - loss: 0.3163 - accuracy: 0.8933 - val_loss: 0.1625 - val_accuracy: 1.0000\n",
      "Epoch 73/1000\n",
      "1/2 [==============>...............] - ETA: 0s - loss: 0.3277 - accuracy: 0.8828\n",
      "Epoch 73: saving model to model/keypoint_classifier\\keypoint_classifier.hdf5\n",
      "2/2 [==============================] - 0s 143ms/step - loss: 0.3218 - accuracy: 0.8800 - val_loss: 0.1551 - val_accuracy: 1.0000\n",
      "Epoch 74/1000\n",
      "1/2 [==============>...............] - ETA: 0s - loss: 0.3024 - accuracy: 0.8828\n",
      "Epoch 74: saving model to model/keypoint_classifier\\keypoint_classifier.hdf5\n",
      "2/2 [==============================] - 0s 151ms/step - loss: 0.3118 - accuracy: 0.8800 - val_loss: 0.1491 - val_accuracy: 1.0000\n",
      "Epoch 75/1000\n",
      "1/2 [==============>...............] - ETA: 0s - loss: 0.2734 - accuracy: 0.9297\n",
      "Epoch 75: saving model to model/keypoint_classifier\\keypoint_classifier.hdf5\n",
      "2/2 [==============================] - 0s 145ms/step - loss: 0.2890 - accuracy: 0.9267 - val_loss: 0.1444 - val_accuracy: 1.0000\n",
      "Epoch 76/1000\n",
      "1/2 [==============>...............] - ETA: 0s - loss: 0.2929 - accuracy: 0.9062\n",
      "Epoch 76: saving model to model/keypoint_classifier\\keypoint_classifier.hdf5\n",
      "2/2 [==============================] - 0s 139ms/step - loss: 0.2827 - accuracy: 0.9133 - val_loss: 0.1391 - val_accuracy: 1.0000\n",
      "Epoch 77/1000\n",
      "1/2 [==============>...............] - ETA: 0s - loss: 0.3056 - accuracy: 0.8750\n",
      "Epoch 77: saving model to model/keypoint_classifier\\keypoint_classifier.hdf5\n",
      "2/2 [==============================] - 0s 136ms/step - loss: 0.3027 - accuracy: 0.8800 - val_loss: 0.1339 - val_accuracy: 1.0000\n",
      "Epoch 78/1000\n",
      "1/2 [==============>...............] - ETA: 0s - loss: 0.2697 - accuracy: 0.8906\n",
      "Epoch 78: saving model to model/keypoint_classifier\\keypoint_classifier.hdf5\n",
      "2/2 [==============================] - 0s 142ms/step - loss: 0.2706 - accuracy: 0.9000 - val_loss: 0.1280 - val_accuracy: 1.0000\n",
      "Epoch 79/1000\n",
      "1/2 [==============>...............] - ETA: 0s - loss: 0.2730 - accuracy: 0.9297\n",
      "Epoch 79: saving model to model/keypoint_classifier\\keypoint_classifier.hdf5\n",
      "2/2 [==============================] - 0s 129ms/step - loss: 0.2647 - accuracy: 0.9267 - val_loss: 0.1222 - val_accuracy: 1.0000\n",
      "Epoch 80/1000\n",
      "1/2 [==============>...............] - ETA: 0s - loss: 0.2888 - accuracy: 0.8906\n",
      "Epoch 80: saving model to model/keypoint_classifier\\keypoint_classifier.hdf5\n",
      "2/2 [==============================] - 0s 144ms/step - loss: 0.3160 - accuracy: 0.8800 - val_loss: 0.1168 - val_accuracy: 1.0000\n",
      "Epoch 81/1000\n",
      "1/2 [==============>...............] - ETA: 0s - loss: 0.2228 - accuracy: 0.9297\n",
      "Epoch 81: saving model to model/keypoint_classifier\\keypoint_classifier.hdf5\n",
      "2/2 [==============================] - 0s 148ms/step - loss: 0.2279 - accuracy: 0.9200 - val_loss: 0.1119 - val_accuracy: 1.0000\n",
      "Epoch 82/1000\n",
      "1/2 [==============>...............] - ETA: 0s - loss: 0.2509 - accuracy: 0.9062\n",
      "Epoch 82: saving model to model/keypoint_classifier\\keypoint_classifier.hdf5\n",
      "2/2 [==============================] - 0s 133ms/step - loss: 0.2530 - accuracy: 0.9067 - val_loss: 0.1066 - val_accuracy: 1.0000\n",
      "Epoch 83/1000\n",
      "1/2 [==============>...............] - ETA: 0s - loss: 0.2856 - accuracy: 0.9141\n",
      "Epoch 83: saving model to model/keypoint_classifier\\keypoint_classifier.hdf5\n",
      "2/2 [==============================] - 0s 142ms/step - loss: 0.2988 - accuracy: 0.8933 - val_loss: 0.1016 - val_accuracy: 1.0000\n",
      "Epoch 84/1000\n"
     ]
    },
    {
     "name": "stdout",
     "output_type": "stream",
     "text": [
      "1/2 [==============>...............] - ETA: 0s - loss: 0.2363 - accuracy: 0.9531\n",
      "Epoch 84: saving model to model/keypoint_classifier\\keypoint_classifier.hdf5\n",
      "2/2 [==============================] - 0s 137ms/step - loss: 0.2458 - accuracy: 0.9467 - val_loss: 0.0970 - val_accuracy: 1.0000\n",
      "Epoch 85/1000\n",
      "1/2 [==============>...............] - ETA: 0s - loss: 0.2627 - accuracy: 0.9141\n",
      "Epoch 85: saving model to model/keypoint_classifier\\keypoint_classifier.hdf5\n",
      "2/2 [==============================] - 0s 135ms/step - loss: 0.2437 - accuracy: 0.9267 - val_loss: 0.0926 - val_accuracy: 1.0000\n",
      "Epoch 86/1000\n",
      "1/2 [==============>...............] - ETA: 0s - loss: 0.2115 - accuracy: 0.9297\n",
      "Epoch 86: saving model to model/keypoint_classifier\\keypoint_classifier.hdf5\n",
      "2/2 [==============================] - 0s 140ms/step - loss: 0.2417 - accuracy: 0.9133 - val_loss: 0.0890 - val_accuracy: 1.0000\n",
      "Epoch 87/1000\n",
      "1/2 [==============>...............] - ETA: 0s - loss: 0.2081 - accuracy: 0.9453\n",
      "Epoch 87: saving model to model/keypoint_classifier\\keypoint_classifier.hdf5\n",
      "2/2 [==============================] - 0s 136ms/step - loss: 0.2170 - accuracy: 0.9400 - val_loss: 0.0860 - val_accuracy: 1.0000\n",
      "Epoch 88/1000\n",
      "1/2 [==============>...............] - ETA: 0s - loss: 0.2593 - accuracy: 0.9297\n",
      "Epoch 88: saving model to model/keypoint_classifier\\keypoint_classifier.hdf5\n",
      "2/2 [==============================] - 0s 139ms/step - loss: 0.2440 - accuracy: 0.9333 - val_loss: 0.0836 - val_accuracy: 1.0000\n",
      "Epoch 89/1000\n",
      "1/2 [==============>...............] - ETA: 0s - loss: 0.2414 - accuracy: 0.9297\n",
      "Epoch 89: saving model to model/keypoint_classifier\\keypoint_classifier.hdf5\n",
      "2/2 [==============================] - 0s 140ms/step - loss: 0.2516 - accuracy: 0.9267 - val_loss: 0.0810 - val_accuracy: 1.0000\n",
      "Epoch 90/1000\n",
      "1/2 [==============>...............] - ETA: 0s - loss: 0.2708 - accuracy: 0.9062\n",
      "Epoch 90: saving model to model/keypoint_classifier\\keypoint_classifier.hdf5\n",
      "2/2 [==============================] - 0s 134ms/step - loss: 0.2540 - accuracy: 0.9200 - val_loss: 0.0782 - val_accuracy: 1.0000\n",
      "Epoch 91/1000\n",
      "1/2 [==============>...............] - ETA: 0s - loss: 0.1997 - accuracy: 0.9531\n",
      "Epoch 91: saving model to model/keypoint_classifier\\keypoint_classifier.hdf5\n",
      "2/2 [==============================] - 0s 132ms/step - loss: 0.2067 - accuracy: 0.9467 - val_loss: 0.0759 - val_accuracy: 1.0000\n",
      "Epoch 92/1000\n",
      "1/2 [==============>...............] - ETA: 0s - loss: 0.2341 - accuracy: 0.9219\n",
      "Epoch 92: saving model to model/keypoint_classifier\\keypoint_classifier.hdf5\n",
      "2/2 [==============================] - 0s 146ms/step - loss: 0.2266 - accuracy: 0.9267 - val_loss: 0.0744 - val_accuracy: 1.0000\n",
      "Epoch 93/1000\n",
      "1/2 [==============>...............] - ETA: 0s - loss: 0.2181 - accuracy: 0.8906\n",
      "Epoch 93: saving model to model/keypoint_classifier\\keypoint_classifier.hdf5\n",
      "2/2 [==============================] - 0s 137ms/step - loss: 0.2163 - accuracy: 0.9000 - val_loss: 0.0731 - val_accuracy: 1.0000\n",
      "Epoch 94/1000\n",
      "1/2 [==============>...............] - ETA: 0s - loss: 0.2563 - accuracy: 0.8984\n",
      "Epoch 94: saving model to model/keypoint_classifier\\keypoint_classifier.hdf5\n",
      "2/2 [==============================] - 0s 143ms/step - loss: 0.2453 - accuracy: 0.9067 - val_loss: 0.0723 - val_accuracy: 1.0000\n",
      "Epoch 95/1000\n",
      "1/2 [==============>...............] - ETA: 0s - loss: 0.1767 - accuracy: 0.9531\n",
      "Epoch 95: saving model to model/keypoint_classifier\\keypoint_classifier.hdf5\n",
      "2/2 [==============================] - 0s 141ms/step - loss: 0.1809 - accuracy: 0.9533 - val_loss: 0.0719 - val_accuracy: 1.0000\n",
      "Epoch 96/1000\n",
      "1/2 [==============>...............] - ETA: 0s - loss: 0.2099 - accuracy: 0.9375\n",
      "Epoch 96: saving model to model/keypoint_classifier\\keypoint_classifier.hdf5\n",
      "2/2 [==============================] - 0s 141ms/step - loss: 0.1999 - accuracy: 0.9467 - val_loss: 0.0711 - val_accuracy: 1.0000\n",
      "Epoch 97/1000\n",
      "1/2 [==============>...............] - ETA: 0s - loss: 0.1700 - accuracy: 0.9609\n",
      "Epoch 97: saving model to model/keypoint_classifier\\keypoint_classifier.hdf5\n",
      "2/2 [==============================] - 0s 143ms/step - loss: 0.1764 - accuracy: 0.9467 - val_loss: 0.0692 - val_accuracy: 1.0000\n",
      "Epoch 98/1000\n",
      "1/2 [==============>...............] - ETA: 0s - loss: 0.2355 - accuracy: 0.9141\n",
      "Epoch 98: saving model to model/keypoint_classifier\\keypoint_classifier.hdf5\n",
      "2/2 [==============================] - 0s 124ms/step - loss: 0.2361 - accuracy: 0.9067 - val_loss: 0.0661 - val_accuracy: 1.0000\n",
      "Epoch 99/1000\n",
      "1/2 [==============>...............] - ETA: 0s - loss: 0.1812 - accuracy: 0.9453\n",
      "Epoch 99: saving model to model/keypoint_classifier\\keypoint_classifier.hdf5\n",
      "2/2 [==============================] - 0s 140ms/step - loss: 0.1844 - accuracy: 0.9467 - val_loss: 0.0626 - val_accuracy: 1.0000\n",
      "Epoch 100/1000\n",
      "1/2 [==============>...............] - ETA: 0s - loss: 0.1892 - accuracy: 0.9453\n",
      "Epoch 100: saving model to model/keypoint_classifier\\keypoint_classifier.hdf5\n",
      "2/2 [==============================] - 0s 135ms/step - loss: 0.1758 - accuracy: 0.9533 - val_loss: 0.0589 - val_accuracy: 1.0000\n",
      "Epoch 101/1000\n",
      "1/2 [==============>...............] - ETA: 0s - loss: 0.1624 - accuracy: 0.9531\n",
      "Epoch 101: saving model to model/keypoint_classifier\\keypoint_classifier.hdf5\n",
      "2/2 [==============================] - 0s 149ms/step - loss: 0.1560 - accuracy: 0.9600 - val_loss: 0.0557 - val_accuracy: 1.0000\n",
      "Epoch 102/1000\n",
      "1/2 [==============>...............] - ETA: 0s - loss: 0.1789 - accuracy: 0.9453\n",
      "Epoch 102: saving model to model/keypoint_classifier\\keypoint_classifier.hdf5\n",
      "2/2 [==============================] - 0s 149ms/step - loss: 0.1935 - accuracy: 0.9333 - val_loss: 0.0531 - val_accuracy: 1.0000\n",
      "Epoch 103/1000\n",
      "1/2 [==============>...............] - ETA: 0s - loss: 0.1811 - accuracy: 0.9453\n",
      "Epoch 103: saving model to model/keypoint_classifier\\keypoint_classifier.hdf5\n",
      "2/2 [==============================] - 0s 133ms/step - loss: 0.1724 - accuracy: 0.9467 - val_loss: 0.0511 - val_accuracy: 1.0000\n",
      "Epoch 104/1000\n",
      "1/2 [==============>...............] - ETA: 0s - loss: 0.1887 - accuracy: 0.9375\n",
      "Epoch 104: saving model to model/keypoint_classifier\\keypoint_classifier.hdf5\n",
      "2/2 [==============================] - 0s 130ms/step - loss: 0.1887 - accuracy: 0.9400 - val_loss: 0.0493 - val_accuracy: 1.0000\n",
      "Epoch 105/1000\n",
      "1/2 [==============>...............] - ETA: 0s - loss: 0.1723 - accuracy: 0.9375\n",
      "Epoch 105: saving model to model/keypoint_classifier\\keypoint_classifier.hdf5\n",
      "2/2 [==============================] - 0s 130ms/step - loss: 0.1710 - accuracy: 0.9467 - val_loss: 0.0475 - val_accuracy: 1.0000\n",
      "Epoch 106/1000\n",
      "1/2 [==============>...............] - ETA: 0s - loss: 0.1637 - accuracy: 0.9609\n",
      "Epoch 106: saving model to model/keypoint_classifier\\keypoint_classifier.hdf5\n",
      "2/2 [==============================] - 0s 131ms/step - loss: 0.1690 - accuracy: 0.9533 - val_loss: 0.0460 - val_accuracy: 1.0000\n",
      "Epoch 107/1000\n",
      "1/2 [==============>...............] - ETA: 0s - loss: 0.1672 - accuracy: 0.9453\n",
      "Epoch 107: saving model to model/keypoint_classifier\\keypoint_classifier.hdf5\n",
      "2/2 [==============================] - 0s 140ms/step - loss: 0.1674 - accuracy: 0.9400 - val_loss: 0.0449 - val_accuracy: 1.0000\n",
      "Epoch 108/1000\n",
      "1/2 [==============>...............] - ETA: 0s - loss: 0.1414 - accuracy: 0.9688\n",
      "Epoch 108: saving model to model/keypoint_classifier\\keypoint_classifier.hdf5\n",
      "2/2 [==============================] - 0s 151ms/step - loss: 0.1300 - accuracy: 0.9733 - val_loss: 0.0438 - val_accuracy: 1.0000\n",
      "Epoch 109/1000\n",
      "1/2 [==============>...............] - ETA: 0s - loss: 0.1153 - accuracy: 0.9766\n",
      "Epoch 109: saving model to model/keypoint_classifier\\keypoint_classifier.hdf5\n",
      "2/2 [==============================] - 0s 146ms/step - loss: 0.1133 - accuracy: 0.9733 - val_loss: 0.0429 - val_accuracy: 1.0000\n",
      "Epoch 110/1000\n",
      "1/2 [==============>...............] - ETA: 0s - loss: 0.1389 - accuracy: 0.9688\n",
      "Epoch 110: saving model to model/keypoint_classifier\\keypoint_classifier.hdf5\n",
      "2/2 [==============================] - 0s 140ms/step - loss: 0.1653 - accuracy: 0.9533 - val_loss: 0.0421 - val_accuracy: 1.0000\n",
      "Epoch 111/1000\n"
     ]
    },
    {
     "name": "stdout",
     "output_type": "stream",
     "text": [
      "1/2 [==============>...............] - ETA: 0s - loss: 0.1078 - accuracy: 0.9844\n",
      "Epoch 111: saving model to model/keypoint_classifier\\keypoint_classifier.hdf5\n",
      "2/2 [==============================] - 0s 124ms/step - loss: 0.1164 - accuracy: 0.9733 - val_loss: 0.0411 - val_accuracy: 1.0000\n",
      "Epoch 112/1000\n",
      "1/2 [==============>...............] - ETA: 0s - loss: 0.1636 - accuracy: 0.9297\n",
      "Epoch 112: saving model to model/keypoint_classifier\\keypoint_classifier.hdf5\n",
      "2/2 [==============================] - 0s 134ms/step - loss: 0.1559 - accuracy: 0.9333 - val_loss: 0.0405 - val_accuracy: 1.0000\n",
      "Epoch 113/1000\n",
      "1/2 [==============>...............] - ETA: 0s - loss: 0.1824 - accuracy: 0.8984\n",
      "Epoch 113: saving model to model/keypoint_classifier\\keypoint_classifier.hdf5\n",
      "2/2 [==============================] - 0s 128ms/step - loss: 0.1826 - accuracy: 0.9000 - val_loss: 0.0399 - val_accuracy: 0.9800\n",
      "Epoch 114/1000\n",
      "1/2 [==============>...............] - ETA: 0s - loss: 0.2132 - accuracy: 0.9141\n",
      "Epoch 114: saving model to model/keypoint_classifier\\keypoint_classifier.hdf5\n",
      "2/2 [==============================] - 0s 144ms/step - loss: 0.2146 - accuracy: 0.9000 - val_loss: 0.0386 - val_accuracy: 0.9800\n",
      "Epoch 115/1000\n",
      "1/2 [==============>...............] - ETA: 0s - loss: 0.1382 - accuracy: 0.9609\n",
      "Epoch 115: saving model to model/keypoint_classifier\\keypoint_classifier.hdf5\n",
      "2/2 [==============================] - 0s 146ms/step - loss: 0.1270 - accuracy: 0.9667 - val_loss: 0.0372 - val_accuracy: 1.0000\n",
      "Epoch 116/1000\n",
      "1/2 [==============>...............] - ETA: 0s - loss: 0.1453 - accuracy: 0.9609\n",
      "Epoch 116: saving model to model/keypoint_classifier\\keypoint_classifier.hdf5\n",
      "2/2 [==============================] - 0s 156ms/step - loss: 0.1528 - accuracy: 0.9533 - val_loss: 0.0356 - val_accuracy: 1.0000\n",
      "Epoch 117/1000\n",
      "1/2 [==============>...............] - ETA: 0s - loss: 0.1429 - accuracy: 0.9297\n",
      "Epoch 117: saving model to model/keypoint_classifier\\keypoint_classifier.hdf5\n",
      "2/2 [==============================] - 0s 146ms/step - loss: 0.1424 - accuracy: 0.9333 - val_loss: 0.0341 - val_accuracy: 1.0000\n",
      "Epoch 118/1000\n",
      "1/2 [==============>...............] - ETA: 0s - loss: 0.1401 - accuracy: 0.9766\n",
      "Epoch 118: saving model to model/keypoint_classifier\\keypoint_classifier.hdf5\n",
      "2/2 [==============================] - 0s 138ms/step - loss: 0.1342 - accuracy: 0.9800 - val_loss: 0.0327 - val_accuracy: 1.0000\n",
      "Epoch 119/1000\n",
      "1/2 [==============>...............] - ETA: 0s - loss: 0.1369 - accuracy: 0.9453\n",
      "Epoch 119: saving model to model/keypoint_classifier\\keypoint_classifier.hdf5\n",
      "2/2 [==============================] - 0s 144ms/step - loss: 0.1369 - accuracy: 0.9467 - val_loss: 0.0317 - val_accuracy: 1.0000\n",
      "Epoch 120/1000\n",
      "1/2 [==============>...............] - ETA: 0s - loss: 0.1654 - accuracy: 0.9531\n",
      "Epoch 120: saving model to model/keypoint_classifier\\keypoint_classifier.hdf5\n",
      "2/2 [==============================] - 0s 159ms/step - loss: 0.1538 - accuracy: 0.9533 - val_loss: 0.0310 - val_accuracy: 1.0000\n",
      "Epoch 121/1000\n",
      "1/2 [==============>...............] - ETA: 0s - loss: 0.1286 - accuracy: 0.9531\n",
      "Epoch 121: saving model to model/keypoint_classifier\\keypoint_classifier.hdf5\n",
      "2/2 [==============================] - 0s 157ms/step - loss: 0.1238 - accuracy: 0.9600 - val_loss: 0.0299 - val_accuracy: 1.0000\n",
      "Epoch 122/1000\n",
      "1/2 [==============>...............] - ETA: 0s - loss: 0.1490 - accuracy: 0.9531\n",
      "Epoch 122: saving model to model/keypoint_classifier\\keypoint_classifier.hdf5\n",
      "2/2 [==============================] - 0s 145ms/step - loss: 0.1495 - accuracy: 0.9467 - val_loss: 0.0286 - val_accuracy: 1.0000\n",
      "Epoch 123/1000\n",
      "1/2 [==============>...............] - ETA: 0s - loss: 0.1244 - accuracy: 0.9609\n",
      "Epoch 123: saving model to model/keypoint_classifier\\keypoint_classifier.hdf5\n",
      "2/2 [==============================] - 0s 144ms/step - loss: 0.1153 - accuracy: 0.9667 - val_loss: 0.0274 - val_accuracy: 1.0000\n",
      "Epoch 124/1000\n",
      "1/2 [==============>...............] - ETA: 0s - loss: 0.1380 - accuracy: 0.9531\n",
      "Epoch 124: saving model to model/keypoint_classifier\\keypoint_classifier.hdf5\n",
      "2/2 [==============================] - 0s 159ms/step - loss: 0.1429 - accuracy: 0.9400 - val_loss: 0.0266 - val_accuracy: 1.0000\n",
      "Epoch 125/1000\n",
      "1/2 [==============>...............] - ETA: 0s - loss: 0.0956 - accuracy: 0.9844\n",
      "Epoch 125: saving model to model/keypoint_classifier\\keypoint_classifier.hdf5\n",
      "2/2 [==============================] - 0s 141ms/step - loss: 0.0958 - accuracy: 0.9867 - val_loss: 0.0259 - val_accuracy: 1.0000\n",
      "Epoch 126/1000\n",
      "1/2 [==============>...............] - ETA: 0s - loss: 0.1034 - accuracy: 0.9609\n",
      "Epoch 126: saving model to model/keypoint_classifier\\keypoint_classifier.hdf5\n",
      "2/2 [==============================] - 0s 136ms/step - loss: 0.0985 - accuracy: 0.9667 - val_loss: 0.0252 - val_accuracy: 1.0000\n",
      "Epoch 127/1000\n",
      "1/2 [==============>...............] - ETA: 0s - loss: 0.1277 - accuracy: 0.9375\n",
      "Epoch 127: saving model to model/keypoint_classifier\\keypoint_classifier.hdf5\n",
      "2/2 [==============================] - 0s 146ms/step - loss: 0.1222 - accuracy: 0.9400 - val_loss: 0.0247 - val_accuracy: 1.0000\n",
      "Epoch 128/1000\n",
      "1/2 [==============>...............] - ETA: 0s - loss: 0.1374 - accuracy: 0.9609\n",
      "Epoch 128: saving model to model/keypoint_classifier\\keypoint_classifier.hdf5\n",
      "2/2 [==============================] - 0s 140ms/step - loss: 0.1481 - accuracy: 0.9533 - val_loss: 0.0243 - val_accuracy: 1.0000\n",
      "Epoch 129/1000\n",
      "1/2 [==============>...............] - ETA: 0s - loss: 0.1078 - accuracy: 0.9688\n",
      "Epoch 129: saving model to model/keypoint_classifier\\keypoint_classifier.hdf5\n",
      "2/2 [==============================] - 0s 145ms/step - loss: 0.1019 - accuracy: 0.9733 - val_loss: 0.0237 - val_accuracy: 1.0000\n",
      "Epoch 130/1000\n",
      "1/2 [==============>...............] - ETA: 0s - loss: 0.1800 - accuracy: 0.9297\n",
      "Epoch 130: saving model to model/keypoint_classifier\\keypoint_classifier.hdf5\n",
      "2/2 [==============================] - 0s 140ms/step - loss: 0.1626 - accuracy: 0.9400 - val_loss: 0.0231 - val_accuracy: 1.0000\n",
      "Epoch 131/1000\n",
      "1/2 [==============>...............] - ETA: 0s - loss: 0.1189 - accuracy: 0.9609\n",
      "Epoch 131: saving model to model/keypoint_classifier\\keypoint_classifier.hdf5\n",
      "2/2 [==============================] - 0s 151ms/step - loss: 0.1198 - accuracy: 0.9600 - val_loss: 0.0228 - val_accuracy: 1.0000\n",
      "Epoch 132/1000\n",
      "1/2 [==============>...............] - ETA: 0s - loss: 0.0729 - accuracy: 0.9922\n",
      "Epoch 132: saving model to model/keypoint_classifier\\keypoint_classifier.hdf5\n",
      "2/2 [==============================] - 0s 147ms/step - loss: 0.0783 - accuracy: 0.9933 - val_loss: 0.0226 - val_accuracy: 1.0000\n",
      "Epoch 133/1000\n",
      "1/2 [==============>...............] - ETA: 0s - loss: 0.1513 - accuracy: 0.9609\n",
      "Epoch 133: saving model to model/keypoint_classifier\\keypoint_classifier.hdf5\n",
      "2/2 [==============================] - 0s 136ms/step - loss: 0.1934 - accuracy: 0.9267 - val_loss: 0.0228 - val_accuracy: 1.0000\n",
      "Epoch 134/1000\n",
      "1/2 [==============>...............] - ETA: 0s - loss: 0.1082 - accuracy: 0.9688\n",
      "Epoch 134: saving model to model/keypoint_classifier\\keypoint_classifier.hdf5\n",
      "2/2 [==============================] - 0s 146ms/step - loss: 0.0994 - accuracy: 0.9733 - val_loss: 0.0232 - val_accuracy: 1.0000\n",
      "Epoch 135/1000\n",
      "1/2 [==============>...............] - ETA: 0s - loss: 0.1320 - accuracy: 0.9375\n",
      "Epoch 135: saving model to model/keypoint_classifier\\keypoint_classifier.hdf5\n",
      "2/2 [==============================] - 0s 140ms/step - loss: 0.1284 - accuracy: 0.9400 - val_loss: 0.0234 - val_accuracy: 1.0000\n",
      "Epoch 136/1000\n",
      "1/2 [==============>...............] - ETA: 0s - loss: 0.0866 - accuracy: 0.9688\n",
      "Epoch 136: saving model to model/keypoint_classifier\\keypoint_classifier.hdf5\n",
      "2/2 [==============================] - 0s 147ms/step - loss: 0.0826 - accuracy: 0.9733 - val_loss: 0.0232 - val_accuracy: 1.0000\n",
      "Epoch 137/1000\n",
      "1/2 [==============>...............] - ETA: 0s - loss: 0.1006 - accuracy: 0.9922\n",
      "Epoch 137: saving model to model/keypoint_classifier\\keypoint_classifier.hdf5\n",
      "2/2 [==============================] - 0s 153ms/step - loss: 0.0946 - accuracy: 0.9933 - val_loss: 0.0230 - val_accuracy: 1.0000\n",
      "Epoch 138/1000\n"
     ]
    },
    {
     "name": "stdout",
     "output_type": "stream",
     "text": [
      "1/2 [==============>...............] - ETA: 0s - loss: 0.1045 - accuracy: 0.9688\n",
      "Epoch 138: saving model to model/keypoint_classifier\\keypoint_classifier.hdf5\n",
      "2/2 [==============================] - 0s 132ms/step - loss: 0.0966 - accuracy: 0.9733 - val_loss: 0.0230 - val_accuracy: 1.0000\n",
      "Epoch 139/1000\n",
      "1/2 [==============>...............] - ETA: 0s - loss: 0.1151 - accuracy: 0.9766\n",
      "Epoch 139: saving model to model/keypoint_classifier\\keypoint_classifier.hdf5\n",
      "2/2 [==============================] - 0s 144ms/step - loss: 0.1082 - accuracy: 0.9800 - val_loss: 0.0227 - val_accuracy: 1.0000\n",
      "Epoch 140/1000\n",
      "1/2 [==============>...............] - ETA: 0s - loss: 0.1075 - accuracy: 0.9609\n",
      "Epoch 140: saving model to model/keypoint_classifier\\keypoint_classifier.hdf5\n",
      "2/2 [==============================] - 0s 141ms/step - loss: 0.1227 - accuracy: 0.9533 - val_loss: 0.0219 - val_accuracy: 1.0000\n",
      "Epoch 141/1000\n",
      "1/2 [==============>...............] - ETA: 0s - loss: 0.1324 - accuracy: 0.9609\n",
      "Epoch 141: saving model to model/keypoint_classifier\\keypoint_classifier.hdf5\n",
      "2/2 [==============================] - 0s 142ms/step - loss: 0.1168 - accuracy: 0.9667 - val_loss: 0.0213 - val_accuracy: 1.0000\n",
      "Epoch 142/1000\n",
      "1/2 [==============>...............] - ETA: 0s - loss: 0.0908 - accuracy: 0.9844\n",
      "Epoch 142: saving model to model/keypoint_classifier\\keypoint_classifier.hdf5\n",
      "2/2 [==============================] - 0s 149ms/step - loss: 0.1077 - accuracy: 0.9667 - val_loss: 0.0204 - val_accuracy: 1.0000\n",
      "Epoch 143/1000\n",
      "1/2 [==============>...............] - ETA: 0s - loss: 0.1294 - accuracy: 0.9375\n",
      "Epoch 143: saving model to model/keypoint_classifier\\keypoint_classifier.hdf5\n",
      "2/2 [==============================] - 0s 157ms/step - loss: 0.1292 - accuracy: 0.9400 - val_loss: 0.0193 - val_accuracy: 1.0000\n",
      "Epoch 144/1000\n",
      "1/2 [==============>...............] - ETA: 0s - loss: 0.0819 - accuracy: 0.9688\n",
      "Epoch 144: saving model to model/keypoint_classifier\\keypoint_classifier.hdf5\n",
      "2/2 [==============================] - 0s 154ms/step - loss: 0.0780 - accuracy: 0.9733 - val_loss: 0.0191 - val_accuracy: 1.0000\n",
      "Epoch 145/1000\n",
      "1/2 [==============>...............] - ETA: 0s - loss: 0.0773 - accuracy: 0.9766\n",
      "Epoch 145: saving model to model/keypoint_classifier\\keypoint_classifier.hdf5\n",
      "2/2 [==============================] - 0s 134ms/step - loss: 0.0770 - accuracy: 0.9800 - val_loss: 0.0188 - val_accuracy: 1.0000\n",
      "Epoch 146/1000\n",
      "1/2 [==============>...............] - ETA: 0s - loss: 0.0847 - accuracy: 0.9766\n",
      "Epoch 146: saving model to model/keypoint_classifier\\keypoint_classifier.hdf5\n",
      "2/2 [==============================] - 0s 151ms/step - loss: 0.0844 - accuracy: 0.9733 - val_loss: 0.0188 - val_accuracy: 1.0000\n",
      "Epoch 147/1000\n",
      "1/2 [==============>...............] - ETA: 0s - loss: 0.1090 - accuracy: 0.9688\n",
      "Epoch 147: saving model to model/keypoint_classifier\\keypoint_classifier.hdf5\n",
      "2/2 [==============================] - 0s 142ms/step - loss: 0.1053 - accuracy: 0.9667 - val_loss: 0.0192 - val_accuracy: 1.0000\n",
      "Epoch 148/1000\n",
      "1/2 [==============>...............] - ETA: 0s - loss: 0.1090 - accuracy: 0.9609\n",
      "Epoch 148: saving model to model/keypoint_classifier\\keypoint_classifier.hdf5\n",
      "2/2 [==============================] - 0s 144ms/step - loss: 0.1105 - accuracy: 0.9600 - val_loss: 0.0193 - val_accuracy: 1.0000\n",
      "Epoch 149/1000\n",
      "1/2 [==============>...............] - ETA: 0s - loss: 0.1076 - accuracy: 0.9609\n",
      "Epoch 149: saving model to model/keypoint_classifier\\keypoint_classifier.hdf5\n",
      "2/2 [==============================] - 0s 147ms/step - loss: 0.1171 - accuracy: 0.9533 - val_loss: 0.0186 - val_accuracy: 1.0000\n",
      "Epoch 150/1000\n",
      "1/2 [==============>...............] - ETA: 0s - loss: 0.1358 - accuracy: 0.9609\n",
      "Epoch 150: saving model to model/keypoint_classifier\\keypoint_classifier.hdf5\n",
      "2/2 [==============================] - 0s 142ms/step - loss: 0.1229 - accuracy: 0.9667 - val_loss: 0.0177 - val_accuracy: 1.0000\n",
      "Epoch 151/1000\n",
      "1/2 [==============>...............] - ETA: 0s - loss: 0.0617 - accuracy: 0.9766\n",
      "Epoch 151: saving model to model/keypoint_classifier\\keypoint_classifier.hdf5\n",
      "2/2 [==============================] - 0s 141ms/step - loss: 0.0680 - accuracy: 0.9733 - val_loss: 0.0168 - val_accuracy: 1.0000\n",
      "Epoch 152/1000\n",
      "1/2 [==============>...............] - ETA: 0s - loss: 0.0960 - accuracy: 0.9844\n",
      "Epoch 152: saving model to model/keypoint_classifier\\keypoint_classifier.hdf5\n",
      "2/2 [==============================] - 0s 149ms/step - loss: 0.0905 - accuracy: 0.9867 - val_loss: 0.0161 - val_accuracy: 1.0000\n",
      "Epoch 153/1000\n",
      "1/2 [==============>...............] - ETA: 0s - loss: 0.0613 - accuracy: 0.9844\n",
      "Epoch 153: saving model to model/keypoint_classifier\\keypoint_classifier.hdf5\n",
      "2/2 [==============================] - 0s 154ms/step - loss: 0.0837 - accuracy: 0.9733 - val_loss: 0.0158 - val_accuracy: 1.0000\n",
      "Epoch 154/1000\n",
      "1/2 [==============>...............] - ETA: 0s - loss: 0.0999 - accuracy: 0.9688\n",
      "Epoch 154: saving model to model/keypoint_classifier\\keypoint_classifier.hdf5\n",
      "2/2 [==============================] - 0s 135ms/step - loss: 0.0931 - accuracy: 0.9733 - val_loss: 0.0158 - val_accuracy: 1.0000\n",
      "Epoch 155/1000\n",
      "1/2 [==============>...............] - ETA: 0s - loss: 0.0999 - accuracy: 0.9609\n",
      "Epoch 155: saving model to model/keypoint_classifier\\keypoint_classifier.hdf5\n",
      "2/2 [==============================] - 0s 144ms/step - loss: 0.1065 - accuracy: 0.9600 - val_loss: 0.0162 - val_accuracy: 1.0000\n",
      "Epoch 156/1000\n",
      "1/2 [==============>...............] - ETA: 0s - loss: 0.0867 - accuracy: 0.9922\n",
      "Epoch 156: saving model to model/keypoint_classifier\\keypoint_classifier.hdf5\n",
      "2/2 [==============================] - 0s 139ms/step - loss: 0.0849 - accuracy: 0.9933 - val_loss: 0.0166 - val_accuracy: 1.0000\n",
      "Epoch 157/1000\n",
      "1/2 [==============>...............] - ETA: 0s - loss: 0.0720 - accuracy: 0.9766\n",
      "Epoch 157: saving model to model/keypoint_classifier\\keypoint_classifier.hdf5\n",
      "2/2 [==============================] - 0s 147ms/step - loss: 0.0739 - accuracy: 0.9733 - val_loss: 0.0173 - val_accuracy: 1.0000\n",
      "Epoch 158/1000\n",
      "1/2 [==============>...............] - ETA: 0s - loss: 0.0725 - accuracy: 0.9844\n",
      "Epoch 158: saving model to model/keypoint_classifier\\keypoint_classifier.hdf5\n",
      "2/2 [==============================] - 0s 142ms/step - loss: 0.0923 - accuracy: 0.9733 - val_loss: 0.0177 - val_accuracy: 1.0000\n",
      "Epoch 159/1000\n",
      "1/2 [==============>...............] - ETA: 0s - loss: 0.0675 - accuracy: 0.9922\n",
      "Epoch 159: saving model to model/keypoint_classifier\\keypoint_classifier.hdf5\n",
      "2/2 [==============================] - 0s 146ms/step - loss: 0.0965 - accuracy: 0.9800 - val_loss: 0.0179 - val_accuracy: 1.0000\n",
      "Epoch 160/1000\n",
      "1/2 [==============>...............] - ETA: 0s - loss: 0.0862 - accuracy: 0.9688\n",
      "Epoch 160: saving model to model/keypoint_classifier\\keypoint_classifier.hdf5\n",
      "2/2 [==============================] - 0s 148ms/step - loss: 0.0866 - accuracy: 0.9733 - val_loss: 0.0182 - val_accuracy: 1.0000\n",
      "Epoch 161/1000\n",
      "1/2 [==============>...............] - ETA: 0s - loss: 0.0903 - accuracy: 0.9844\n",
      "Epoch 161: saving model to model/keypoint_classifier\\keypoint_classifier.hdf5\n",
      "2/2 [==============================] - 0s 155ms/step - loss: 0.0838 - accuracy: 0.9867 - val_loss: 0.0183 - val_accuracy: 1.0000\n",
      "Epoch 162/1000\n",
      "1/2 [==============>...............] - ETA: 0s - loss: 0.0832 - accuracy: 0.9844\n",
      "Epoch 162: saving model to model/keypoint_classifier\\keypoint_classifier.hdf5\n",
      "2/2 [==============================] - 0s 141ms/step - loss: 0.0839 - accuracy: 0.9800 - val_loss: 0.0178 - val_accuracy: 1.0000\n",
      "Epoch 163/1000\n",
      "1/2 [==============>...............] - ETA: 0s - loss: 0.0847 - accuracy: 0.9688\n",
      "Epoch 163: saving model to model/keypoint_classifier\\keypoint_classifier.hdf5\n",
      "2/2 [==============================] - 0s 151ms/step - loss: 0.0903 - accuracy: 0.9667 - val_loss: 0.0171 - val_accuracy: 1.0000\n",
      "Epoch 164/1000\n",
      "1/2 [==============>...............] - ETA: 0s - loss: 0.0615 - accuracy: 0.9922\n",
      "Epoch 164: saving model to model/keypoint_classifier\\keypoint_classifier.hdf5\n",
      "2/2 [==============================] - 0s 138ms/step - loss: 0.0563 - accuracy: 0.9933 - val_loss: 0.0163 - val_accuracy: 1.0000\n",
      "Epoch 165/1000\n"
     ]
    },
    {
     "name": "stdout",
     "output_type": "stream",
     "text": [
      "1/2 [==============>...............] - ETA: 0s - loss: 0.0669 - accuracy: 0.9844\n",
      "Epoch 165: saving model to model/keypoint_classifier\\keypoint_classifier.hdf5\n",
      "2/2 [==============================] - 0s 148ms/step - loss: 0.0737 - accuracy: 0.9800 - val_loss: 0.0153 - val_accuracy: 1.0000\n",
      "Epoch 166/1000\n",
      "1/2 [==============>...............] - ETA: 0s - loss: 0.0785 - accuracy: 0.9609\n",
      "Epoch 166: saving model to model/keypoint_classifier\\keypoint_classifier.hdf5\n",
      "2/2 [==============================] - 0s 141ms/step - loss: 0.1063 - accuracy: 0.9400 - val_loss: 0.0148 - val_accuracy: 1.0000\n",
      "Epoch 167/1000\n",
      "1/2 [==============>...............] - ETA: 0s - loss: 0.1075 - accuracy: 0.9531\n",
      "Epoch 167: saving model to model/keypoint_classifier\\keypoint_classifier.hdf5\n",
      "2/2 [==============================] - 0s 132ms/step - loss: 0.0963 - accuracy: 0.9600 - val_loss: 0.0147 - val_accuracy: 1.0000\n",
      "Epoch 168/1000\n",
      "1/2 [==============>...............] - ETA: 0s - loss: 0.1148 - accuracy: 0.9609\n",
      "Epoch 168: saving model to model/keypoint_classifier\\keypoint_classifier.hdf5\n",
      "2/2 [==============================] - 0s 153ms/step - loss: 0.1058 - accuracy: 0.9667 - val_loss: 0.0150 - val_accuracy: 1.0000\n",
      "Epoch 169/1000\n",
      "1/2 [==============>...............] - ETA: 0s - loss: 0.1104 - accuracy: 0.9609\n",
      "Epoch 169: saving model to model/keypoint_classifier\\keypoint_classifier.hdf5\n",
      "2/2 [==============================] - 0s 157ms/step - loss: 0.1044 - accuracy: 0.9600 - val_loss: 0.0154 - val_accuracy: 1.0000\n",
      "Epoch 170/1000\n",
      "1/2 [==============>...............] - ETA: 0s - loss: 0.0542 - accuracy: 1.0000\n",
      "Epoch 170: saving model to model/keypoint_classifier\\keypoint_classifier.hdf5\n",
      "2/2 [==============================] - 0s 152ms/step - loss: 0.0527 - accuracy: 1.0000 - val_loss: 0.0153 - val_accuracy: 1.0000\n",
      "Epoch 171/1000\n",
      "1/2 [==============>...............] - ETA: 0s - loss: 0.0702 - accuracy: 0.9844\n",
      "Epoch 171: saving model to model/keypoint_classifier\\keypoint_classifier.hdf5\n",
      "2/2 [==============================] - 0s 169ms/step - loss: 0.0798 - accuracy: 0.9800 - val_loss: 0.0156 - val_accuracy: 1.0000\n",
      "Epoch 172/1000\n",
      "1/2 [==============>...............] - ETA: 0s - loss: 0.0499 - accuracy: 0.9844\n",
      "Epoch 172: saving model to model/keypoint_classifier\\keypoint_classifier.hdf5\n",
      "2/2 [==============================] - 0s 154ms/step - loss: 0.0459 - accuracy: 0.9867 - val_loss: 0.0161 - val_accuracy: 1.0000\n",
      "Epoch 173/1000\n",
      "1/2 [==============>...............] - ETA: 0s - loss: 0.1083 - accuracy: 0.9688\n",
      "Epoch 173: saving model to model/keypoint_classifier\\keypoint_classifier.hdf5\n",
      "2/2 [==============================] - 0s 147ms/step - loss: 0.1225 - accuracy: 0.9600 - val_loss: 0.0174 - val_accuracy: 1.0000\n",
      "Epoch 174/1000\n",
      "1/2 [==============>...............] - ETA: 0s - loss: 0.0885 - accuracy: 0.9531\n",
      "Epoch 174: saving model to model/keypoint_classifier\\keypoint_classifier.hdf5\n",
      "2/2 [==============================] - 0s 156ms/step - loss: 0.0841 - accuracy: 0.9533 - val_loss: 0.0189 - val_accuracy: 1.0000\n",
      "Epoch 175/1000\n",
      "1/2 [==============>...............] - ETA: 0s - loss: 0.0553 - accuracy: 0.9844\n",
      "Epoch 175: saving model to model/keypoint_classifier\\keypoint_classifier.hdf5\n",
      "2/2 [==============================] - 0s 151ms/step - loss: 0.0519 - accuracy: 0.9867 - val_loss: 0.0196 - val_accuracy: 0.9800\n",
      "Epoch 176/1000\n",
      "1/2 [==============>...............] - ETA: 0s - loss: 0.0983 - accuracy: 0.9531\n",
      "Epoch 176: saving model to model/keypoint_classifier\\keypoint_classifier.hdf5\n",
      "2/2 [==============================] - 0s 151ms/step - loss: 0.0986 - accuracy: 0.9533 - val_loss: 0.0197 - val_accuracy: 0.9800\n",
      "Epoch 177/1000\n",
      "1/2 [==============>...............] - ETA: 0s - loss: 0.0538 - accuracy: 0.9922\n",
      "Epoch 177: saving model to model/keypoint_classifier\\keypoint_classifier.hdf5\n",
      "2/2 [==============================] - 0s 148ms/step - loss: 0.0494 - accuracy: 0.9933 - val_loss: 0.0193 - val_accuracy: 0.9800\n",
      "Epoch 178/1000\n",
      "1/2 [==============>...............] - ETA: 0s - loss: 0.0693 - accuracy: 0.9844\n",
      "Epoch 178: saving model to model/keypoint_classifier\\keypoint_classifier.hdf5\n",
      "2/2 [==============================] - 0s 139ms/step - loss: 0.0832 - accuracy: 0.9733 - val_loss: 0.0181 - val_accuracy: 1.0000\n",
      "Epoch 179/1000\n",
      "1/2 [==============>...............] - ETA: 0s - loss: 0.1415 - accuracy: 0.9375\n",
      "Epoch 179: saving model to model/keypoint_classifier\\keypoint_classifier.hdf5\n",
      "2/2 [==============================] - 0s 142ms/step - loss: 0.1492 - accuracy: 0.9333 - val_loss: 0.0166 - val_accuracy: 1.0000\n",
      "Epoch 180/1000\n",
      "1/2 [==============>...............] - ETA: 0s - loss: 0.0706 - accuracy: 0.9766\n",
      "Epoch 180: saving model to model/keypoint_classifier\\keypoint_classifier.hdf5\n",
      "2/2 [==============================] - 0s 142ms/step - loss: 0.0799 - accuracy: 0.9667 - val_loss: 0.0150 - val_accuracy: 1.0000\n",
      "Epoch 181/1000\n",
      "1/2 [==============>...............] - ETA: 0s - loss: 0.0809 - accuracy: 0.9453\n",
      "Epoch 181: saving model to model/keypoint_classifier\\keypoint_classifier.hdf5\n",
      "2/2 [==============================] - 0s 149ms/step - loss: 0.0859 - accuracy: 0.9467 - val_loss: 0.0139 - val_accuracy: 1.0000\n",
      "Epoch 182/1000\n",
      "1/2 [==============>...............] - ETA: 0s - loss: 0.0717 - accuracy: 0.9766\n",
      "Epoch 182: saving model to model/keypoint_classifier\\keypoint_classifier.hdf5\n",
      "2/2 [==============================] - 0s 133ms/step - loss: 0.0664 - accuracy: 0.9800 - val_loss: 0.0133 - val_accuracy: 1.0000\n",
      "Epoch 183/1000\n",
      "1/2 [==============>...............] - ETA: 0s - loss: 0.0752 - accuracy: 0.9688\n",
      "Epoch 183: saving model to model/keypoint_classifier\\keypoint_classifier.hdf5\n",
      "2/2 [==============================] - 0s 147ms/step - loss: 0.0777 - accuracy: 0.9667 - val_loss: 0.0129 - val_accuracy: 1.0000\n",
      "Epoch 184/1000\n",
      "1/2 [==============>...............] - ETA: 0s - loss: 0.0359 - accuracy: 1.0000\n",
      "Epoch 184: saving model to model/keypoint_classifier\\keypoint_classifier.hdf5\n",
      "2/2 [==============================] - 0s 167ms/step - loss: 0.0458 - accuracy: 0.9933 - val_loss: 0.0122 - val_accuracy: 1.0000\n",
      "Epoch 185/1000\n",
      "1/2 [==============>...............] - ETA: 0s - loss: 0.1239 - accuracy: 0.9609\n",
      "Epoch 185: saving model to model/keypoint_classifier\\keypoint_classifier.hdf5\n",
      "2/2 [==============================] - 0s 154ms/step - loss: 0.1215 - accuracy: 0.9533 - val_loss: 0.0113 - val_accuracy: 1.0000\n",
      "Epoch 186/1000\n",
      "1/2 [==============>...............] - ETA: 0s - loss: 0.0570 - accuracy: 0.9766\n",
      "Epoch 186: saving model to model/keypoint_classifier\\keypoint_classifier.hdf5\n",
      "2/2 [==============================] - 0s 159ms/step - loss: 0.0577 - accuracy: 0.9733 - val_loss: 0.0107 - val_accuracy: 1.0000\n",
      "Epoch 187/1000\n",
      "1/2 [==============>...............] - ETA: 0s - loss: 0.0751 - accuracy: 0.9766\n",
      "Epoch 187: saving model to model/keypoint_classifier\\keypoint_classifier.hdf5\n",
      "2/2 [==============================] - 0s 142ms/step - loss: 0.0805 - accuracy: 0.9733 - val_loss: 0.0105 - val_accuracy: 1.0000\n",
      "Epoch 188/1000\n",
      "1/2 [==============>...............] - ETA: 0s - loss: 0.0868 - accuracy: 0.9688\n",
      "Epoch 188: saving model to model/keypoint_classifier\\keypoint_classifier.hdf5\n",
      "2/2 [==============================] - 0s 147ms/step - loss: 0.0849 - accuracy: 0.9733 - val_loss: 0.0108 - val_accuracy: 1.0000\n",
      "Epoch 189/1000\n",
      "1/2 [==============>...............] - ETA: 0s - loss: 0.0548 - accuracy: 0.9844\n",
      "Epoch 189: saving model to model/keypoint_classifier\\keypoint_classifier.hdf5\n",
      "2/2 [==============================] - 0s 138ms/step - loss: 0.0520 - accuracy: 0.9867 - val_loss: 0.0115 - val_accuracy: 1.0000\n",
      "Epoch 190/1000\n",
      "1/2 [==============>...............] - ETA: 0s - loss: 0.0488 - accuracy: 0.9922\n",
      "Epoch 190: saving model to model/keypoint_classifier\\keypoint_classifier.hdf5\n",
      "2/2 [==============================] - 0s 147ms/step - loss: 0.0610 - accuracy: 0.9800 - val_loss: 0.0125 - val_accuracy: 1.0000\n",
      "Epoch 191/1000\n",
      "1/2 [==============>...............] - ETA: 0s - loss: 0.0664 - accuracy: 0.9766\n",
      "Epoch 191: saving model to model/keypoint_classifier\\keypoint_classifier.hdf5\n",
      "2/2 [==============================] - 0s 136ms/step - loss: 0.0744 - accuracy: 0.9733 - val_loss: 0.0138 - val_accuracy: 1.0000\n",
      "Epoch 192/1000\n"
     ]
    },
    {
     "name": "stdout",
     "output_type": "stream",
     "text": [
      "1/2 [==============>...............] - ETA: 0s - loss: 0.0415 - accuracy: 0.9922\n",
      "Epoch 192: saving model to model/keypoint_classifier\\keypoint_classifier.hdf5\n",
      "2/2 [==============================] - 0s 148ms/step - loss: 0.0431 - accuracy: 0.9867 - val_loss: 0.0155 - val_accuracy: 1.0000\n",
      "Epoch 193/1000\n",
      "1/2 [==============>...............] - ETA: 0s - loss: 0.1179 - accuracy: 0.9531\n",
      "Epoch 193: saving model to model/keypoint_classifier\\keypoint_classifier.hdf5\n",
      "2/2 [==============================] - 0s 138ms/step - loss: 0.1272 - accuracy: 0.9533 - val_loss: 0.0174 - val_accuracy: 0.9800\n",
      "Epoch 194/1000\n",
      "1/2 [==============>...............] - ETA: 0s - loss: 0.0571 - accuracy: 0.9766\n",
      "Epoch 194: saving model to model/keypoint_classifier\\keypoint_classifier.hdf5\n",
      "2/2 [==============================] - 0s 141ms/step - loss: 0.0568 - accuracy: 0.9733 - val_loss: 0.0191 - val_accuracy: 0.9800\n",
      "Epoch 195/1000\n",
      "1/2 [==============>...............] - ETA: 0s - loss: 0.1200 - accuracy: 0.9531\n",
      "Epoch 195: saving model to model/keypoint_classifier\\keypoint_classifier.hdf5\n",
      "2/2 [==============================] - 0s 147ms/step - loss: 0.1156 - accuracy: 0.9533 - val_loss: 0.0200 - val_accuracy: 0.9800\n",
      "Epoch 196/1000\n",
      "1/2 [==============>...............] - ETA: 0s - loss: 0.0606 - accuracy: 0.9844\n",
      "Epoch 196: saving model to model/keypoint_classifier\\keypoint_classifier.hdf5\n",
      "2/2 [==============================] - 0s 150ms/step - loss: 0.0740 - accuracy: 0.9733 - val_loss: 0.0201 - val_accuracy: 0.9800\n",
      "Epoch 197/1000\n",
      "1/2 [==============>...............] - ETA: 0s - loss: 0.1021 - accuracy: 0.9766\n",
      "Epoch 197: saving model to model/keypoint_classifier\\keypoint_classifier.hdf5\n",
      "2/2 [==============================] - 0s 148ms/step - loss: 0.1083 - accuracy: 0.9667 - val_loss: 0.0192 - val_accuracy: 0.9800\n",
      "Epoch 198/1000\n",
      "1/2 [==============>...............] - ETA: 0s - loss: 0.1144 - accuracy: 0.9609\n",
      "Epoch 198: saving model to model/keypoint_classifier\\keypoint_classifier.hdf5\n",
      "2/2 [==============================] - 0s 144ms/step - loss: 0.1046 - accuracy: 0.9600 - val_loss: 0.0176 - val_accuracy: 0.9800\n",
      "Epoch 199/1000\n",
      "1/2 [==============>...............] - ETA: 0s - loss: 0.0691 - accuracy: 0.9766\n",
      "Epoch 199: saving model to model/keypoint_classifier\\keypoint_classifier.hdf5\n",
      "2/2 [==============================] - 0s 151ms/step - loss: 0.0748 - accuracy: 0.9733 - val_loss: 0.0160 - val_accuracy: 1.0000\n",
      "Epoch 200/1000\n",
      "1/2 [==============>...............] - ETA: 0s - loss: 0.0842 - accuracy: 0.9688\n",
      "Epoch 200: saving model to model/keypoint_classifier\\keypoint_classifier.hdf5\n",
      "2/2 [==============================] - 0s 145ms/step - loss: 0.0789 - accuracy: 0.9733 - val_loss: 0.0146 - val_accuracy: 1.0000\n",
      "Epoch 201/1000\n",
      "1/2 [==============>...............] - ETA: 0s - loss: 0.1205 - accuracy: 0.9453\n",
      "Epoch 201: saving model to model/keypoint_classifier\\keypoint_classifier.hdf5\n",
      "2/2 [==============================] - 0s 139ms/step - loss: 0.1273 - accuracy: 0.9333 - val_loss: 0.0133 - val_accuracy: 1.0000\n",
      "Epoch 202/1000\n",
      "1/2 [==============>...............] - ETA: 0s - loss: 0.0522 - accuracy: 0.9844\n",
      "Epoch 202: saving model to model/keypoint_classifier\\keypoint_classifier.hdf5\n",
      "2/2 [==============================] - 0s 149ms/step - loss: 0.0461 - accuracy: 0.9867 - val_loss: 0.0125 - val_accuracy: 1.0000\n",
      "Epoch 203/1000\n",
      "1/2 [==============>...............] - ETA: 0s - loss: 0.0662 - accuracy: 0.9766\n",
      "Epoch 203: saving model to model/keypoint_classifier\\keypoint_classifier.hdf5\n",
      "2/2 [==============================] - 0s 145ms/step - loss: 0.0610 - accuracy: 0.9800 - val_loss: 0.0118 - val_accuracy: 1.0000\n",
      "Epoch 204/1000\n",
      "1/2 [==============>...............] - ETA: 0s - loss: 0.1046 - accuracy: 0.9766\n",
      "Epoch 204: saving model to model/keypoint_classifier\\keypoint_classifier.hdf5\n",
      "2/2 [==============================] - 0s 140ms/step - loss: 0.1017 - accuracy: 0.9733 - val_loss: 0.0118 - val_accuracy: 1.0000\n",
      "Epoch 205/1000\n",
      "1/2 [==============>...............] - ETA: 0s - loss: 0.0712 - accuracy: 0.9688\n",
      "Epoch 205: saving model to model/keypoint_classifier\\keypoint_classifier.hdf5\n",
      "2/2 [==============================] - 0s 146ms/step - loss: 0.0730 - accuracy: 0.9667 - val_loss: 0.0120 - val_accuracy: 1.0000\n",
      "Epoch 206/1000\n",
      "1/2 [==============>...............] - ETA: 0s - loss: 0.1300 - accuracy: 0.9609\n",
      "Epoch 206: saving model to model/keypoint_classifier\\keypoint_classifier.hdf5\n",
      "2/2 [==============================] - 0s 139ms/step - loss: 0.1343 - accuracy: 0.9600 - val_loss: 0.0119 - val_accuracy: 1.0000\n",
      "Epoch 207/1000\n",
      "1/2 [==============>...............] - ETA: 0s - loss: 0.0829 - accuracy: 0.9609\n",
      "Epoch 207: saving model to model/keypoint_classifier\\keypoint_classifier.hdf5\n",
      "2/2 [==============================] - 0s 140ms/step - loss: 0.0733 - accuracy: 0.9667 - val_loss: 0.0111 - val_accuracy: 1.0000\n",
      "Epoch 207: early stopping\n"
     ]
    },
    {
     "data": {
      "text/plain": [
       "<keras.src.callbacks.History at 0x13839ea11f0>"
      ]
     },
     "execution_count": 11,
     "metadata": {},
     "output_type": "execute_result"
    }
   ],
   "source": [
    "model.fit(\n",
    "    X_train,\n",
    "    y_train,\n",
    "    epochs=1000,\n",
    "    batch_size=128,\n",
    "    validation_data=(X_test, y_test),\n",
    "    callbacks=[cp_callback, es_callback]\n",
    ")"
   ]
  },
  {
   "cell_type": "code",
   "execution_count": 12,
   "metadata": {
    "colab": {
     "base_uri": "https://localhost:8080/"
    },
    "id": "pxvb2Y299hE3",
    "outputId": "59eb3185-2e37-4b9e-bc9d-ab1b8ac29b7f"
   },
   "outputs": [
    {
     "name": "stdout",
     "output_type": "stream",
     "text": [
      "1/1 [==============================] - 0s 66ms/step - loss: 0.0111 - accuracy: 1.0000\n"
     ]
    }
   ],
   "source": [
    "# Model evaluation\n",
    "val_loss, val_acc = model.evaluate(X_test, y_test, batch_size=128)"
   ]
  },
  {
   "cell_type": "code",
   "execution_count": 13,
   "metadata": {
    "id": "RBkmDeUW9hE4"
   },
   "outputs": [],
   "source": [
    "# Loading the saved model\n",
    "model = tf.keras.models.load_model(model_save_path)"
   ]
  },
  {
   "cell_type": "code",
   "execution_count": 14,
   "metadata": {
    "colab": {
     "base_uri": "https://localhost:8080/"
    },
    "id": "tFz9Tb0I9hE4",
    "outputId": "1c3b3528-54ae-4ee2-ab04-77429211cbef"
   },
   "outputs": [
    {
     "name": "stdout",
     "output_type": "stream",
     "text": [
      "1/1 [==============================] - 0s 246ms/step\n",
      "[0.99885714 0.00114288]\n",
      "0\n"
     ]
    }
   ],
   "source": [
    "# Inference test\n",
    "predict_result = model.predict(np.array([X_test[0]]))\n",
    "print(np.squeeze(predict_result))\n",
    "print(np.argmax(np.squeeze(predict_result)))"
   ]
  },
  {
   "cell_type": "markdown",
   "metadata": {
    "id": "S3U4yNWx9hE4"
   },
   "source": [
    "# Confusion matrix"
   ]
  },
  {
   "cell_type": "code",
   "execution_count": 15,
   "metadata": {
    "colab": {
     "base_uri": "https://localhost:8080/",
     "height": 582
    },
    "id": "AP1V6SCk9hE5",
    "outputId": "08e41a80-7a4a-4619-8125-ecc371368d19"
   },
   "outputs": [
    {
     "name": "stdout",
     "output_type": "stream",
     "text": [
      "2/2 [==============================] - 0s 8ms/step\n"
     ]
    },
    {
     "data": {
      "image/png": "[encoded data removed]",
      "text/plain": [
       "<Figure size 700x600 with 2 Axes>"
      ]
     },
     "metadata": {},
     "output_type": "display_data"
    },
    {
     "name": "stdout",
     "output_type": "stream",
     "text": [
      "Classification Report\n",
      "              precision    recall  f1-score   support\n",
      "\n",
      "           0       1.00      1.00      1.00        27\n",
      "           1       1.00      1.00      1.00        23\n",
      "\n",
      "    accuracy                           1.00        50\n",
      "   macro avg       1.00      1.00      1.00        50\n",
      "weighted avg       1.00      1.00      1.00        50\n",
      "\n"
     ]
    }
   ],
   "source": [
    "import pandas as pd\n",
    "import seaborn as sns\n",
    "import matplotlib.pyplot as plt\n",
    "from sklearn.metrics import confusion_matrix, classification_report\n",
    "\n",
    "def print_confusion_matrix(y_true, y_pred, report=True):\n",
    "    labels = sorted(list(set(y_true)))\n",
    "    cmx_data = confusion_matrix(y_true, y_pred, labels=labels)\n",
    "    \n",
    "    df_cmx = pd.DataFrame(cmx_data, index=labels, columns=labels)\n",
    " \n",
    "    fig, ax = plt.subplots(figsize=(7, 6))\n",
    "    sns.heatmap(df_cmx, annot=True, fmt='g' ,square=False)\n",
    "    ax.set_ylim(len(set(y_true)), 0)\n",
    "    plt.show()\n",
    "    \n",
    "    if report:\n",
    "        print('Classification Report')\n",
    "        print(classification_report(y_test, y_pred))\n",
    "\n",
    "Y_pred = model.predict(X_test)\n",
    "y_pred = np.argmax(Y_pred, axis=1)\n",
    "\n",
    "print_confusion_matrix(y_test, y_pred)"
   ]
  },
  {
   "cell_type": "markdown",
   "metadata": {
    "id": "FNP6aqzc9hE5"
   },
   "source": [
    "# Convert to model for Tensorflow-Lite"
   ]
  },
  {
   "cell_type": "code",
   "execution_count": 16,
   "metadata": {
    "id": "ODjnYyld9hE6"
   },
   "outputs": [
    {
     "name": "stderr",
     "output_type": "stream",
     "text": [
      "C:\\Users\\Sanjay\\AppData\\Local\\Programs\\Python\\Python39\\lib\\site-packages\\keras\\src\\engine\\training.py:3000: UserWarning: You are saving your model as an HDF5 file via `model.save()`. This file format is considered legacy. We recommend using instead the native Keras format, e.g. `model.save('my_model.keras')`.\n",
      "  saving_api.save_model(\n"
     ]
    }
   ],
   "source": [
    "# Save as a model dedicated to inference\n",
    "model.save(model_save_path, include_optimizer=False)"
   ]
  },
  {
   "cell_type": "code",
   "execution_count": 17,
   "metadata": {
    "colab": {
     "base_uri": "https://localhost:8080/"
    },
    "id": "zRfuK8Y59hE6",
    "outputId": "a4ca585c-b5d5-4244-8291-8674063209bb"
   },
   "outputs": [
    {
     "name": "stdout",
     "output_type": "stream",
     "text": [
      "INFO:tensorflow:Assets written to: C:\\Users\\Sanjay\\AppData\\Local\\Temp\\tmpkn36s84x\\assets\n"
     ]
    },
    {
     "name": "stderr",
     "output_type": "stream",
     "text": [
      "INFO:tensorflow:Assets written to: C:\\Users\\Sanjay\\AppData\\Local\\Temp\\tmpkn36s84x\\assets\n"
     ]
    },
    {
     "data": {
      "text/plain": [
       "6456"
      ]
     },
     "execution_count": 17,
     "metadata": {},
     "output_type": "execute_result"
    }
   ],
   "source": [
    "# Transform model (quantization)\n",
    "\n",
    "converter = tf.lite.TFLiteConverter.from_keras_model(model)\n",
    "converter.optimizations = [tf.lite.Optimize.DEFAULT]\n",
    "tflite_quantized_model = converter.convert()\n",
    "\n",
    "open(tflite_save_path, 'wb').write(tflite_quantized_model)"
   ]
  },
  {
   "cell_type": "markdown",
   "metadata": {
    "id": "CHBPBXdx9hE6"
   },
   "source": [
    "# Inference test"
   ]
  },
  {
   "cell_type": "code",
   "execution_count": 18,
   "metadata": {
    "id": "mGAzLocO9hE7"
   },
   "outputs": [],
   "source": [
    "interpreter = tf.lite.Interpreter(model_path=tflite_save_path)\n",
    "interpreter.allocate_tensors()"
   ]
  },
  {
   "cell_type": "code",
   "execution_count": 19,
   "metadata": {
    "id": "oQuDK8YS9hE7"
   },
   "outputs": [],
   "source": [
    "# Get I / O tensor\n",
    "input_details = interpreter.get_input_details()\n",
    "output_details = interpreter.get_output_details()"
   ]
  },
  {
   "cell_type": "code",
   "execution_count": 20,
   "metadata": {
    "id": "2_ixAf_l9hE7"
   },
   "outputs": [],
   "source": [
    "interpreter.set_tensor(input_details[0]['index'], np.array([X_test[0]]))"
   ]
  },
  {
   "cell_type": "code",
   "execution_count": 21,
   "metadata": {
    "colab": {
     "base_uri": "https://localhost:8080/"
    },
    "id": "s4FoAnuc9hE7",
    "outputId": "91f18257-8d8b-4ef3-c558-e9b5f94fabbf",
    "scrolled": true
   },
   "outputs": [
    {
     "name": "stdout",
     "output_type": "stream",
     "text": [
      "CPU times: total: 0 ns\n",
      "Wall time: 0 ns\n"
     ]
    }
   ],
   "source": [
    "%%time\n",
    "# Inference implementation\n",
    "interpreter.invoke()\n",
    "tflite_results = interpreter.get_tensor(output_details[0]['index'])"
   ]
  },
  {
   "cell_type": "code",
   "execution_count": 22,
   "metadata": {
    "colab": {
     "base_uri": "https://localhost:8080/"
    },
    "id": "vONjp19J9hE8",
    "outputId": "77205e24-fd00-42c4-f7b6-e06e527c2cba"
   },
   "outputs": [
    {
     "name": "stdout",
     "output_type": "stream",
     "text": [
      "[0.99885714 0.00114288]\n",
      "0\n"
     ]
    }
   ],
   "source": [
    "print(np.squeeze(tflite_results))\n",
    "print(np.argmax(np.squeeze(tflite_results)))"
   ]
  }
 ],
 "metadata": {
  "accelerator": "GPU",
  "colab": {
   "collapsed_sections": [],
   "name": "keypoint_classification_EN.ipynb",
   "provenance": [],
   "toc_visible": true
  },
  "kernelspec": {
   "display_name": "Python 3 (ipykernel)",
   "language": "python",
   "name": "python3"
  },
  "language_info": {
   "codemirror_mode": {
    "name": "ipython",
    "version": 3
   },
   "file_extension": ".py",
   "mimetype": "text/x-python",
   "name": "python",
   "nbconvert_exporter": "python",
   "pygments_lexer": "ipython3",
   "version": "3.9.7"
  }
 },
 "nbformat": 4,
 "nbformat_minor": 1
}
