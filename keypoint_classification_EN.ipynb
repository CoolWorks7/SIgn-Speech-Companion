{
 "cells": [
  {
   "cell_type": "code",
   "execution_count": 46,
   "metadata": {
    "id": "igMyGnjE9hEp"
   },
   "outputs": [],
   "source": [
    "import csv\n",
    "\n",
    "import numpy as np\n",
    "import tensorflow as tf\n",
    "from sklearn.model_selection import train_test_split\n",
    "\n",
    "RANDOM_SEED = 42"
   ]
  },
  {
   "cell_type": "markdown",
   "metadata": {
    "id": "t2HDvhIu9hEr"
   },
   "source": [
    "# Specify each path"
   ]
  },
  {
   "cell_type": "code",
   "execution_count": 47,
   "metadata": {
    "id": "9NvZP2Zn9hEy"
   },
   "outputs": [],
   "source": [
    "dataset = 'model/keypoint_classifier/keypoint.csv'\n",
    "model_save_path = 'model/keypoint_classifier/keypoint_classifier.hdf5'\n",
    "tflite_save_path = 'model/keypoint_classifier/keypoint_classifier.tflite'"
   ]
  },
  {
   "cell_type": "markdown",
   "metadata": {
    "id": "s5oMH7x19hEz"
   },
   "source": [
    "# Set number of classes"
   ]
  },
  {
   "cell_type": "code",
   "execution_count": 48,
   "metadata": {
    "id": "du4kodXL9hEz"
   },
   "outputs": [],
   "source": [
    "NUM_CLASSES = 2"
   ]
  },
  {
   "cell_type": "markdown",
   "metadata": {
    "id": "XjnL0uso9hEz"
   },
   "source": [
    "# Dataset reading"
   ]
  },
  {
   "cell_type": "code",
   "execution_count": 49,
   "metadata": {
    "id": "QT5ZqtEz9hE0"
   },
   "outputs": [],
   "source": [
    "X_dataset = np.loadtxt(dataset, delimiter=',', dtype='float32', usecols=list(range(1, (21 * 2 * 2) + 1)))"
   ]
  },
  {
   "cell_type": "code",
   "execution_count": 50,
   "metadata": {
    "id": "QmoKFsp49hE0"
   },
   "outputs": [],
   "source": [
    "y_dataset = np.loadtxt(dataset, delimiter=',', dtype='int32', usecols=(0))"
   ]
  },
  {
   "cell_type": "code",
   "execution_count": 51,
   "metadata": {
    "id": "xQU7JTZ_9hE0"
   },
   "outputs": [],
   "source": [
    "X_train, X_test, y_train, y_test = train_test_split(X_dataset, y_dataset, train_size=0.75, random_state=RANDOM_SEED)"
   ]
  },
  {
   "cell_type": "markdown",
   "metadata": {
    "id": "mxK_lETT9hE0"
   },
   "source": [
    "# Model building"
   ]
  },
  {
   "cell_type": "code",
   "execution_count": 52,
   "metadata": {
    "id": "vHBmUf1t9hE1"
   },
   "outputs": [],
   "source": [
    "model = tf.keras.models.Sequential([\n",
    "    tf.keras.layers.Input((21 * 2 * 2, )),\n",
    "    tf.keras.layers.Dropout(0.2),\n",
    "    tf.keras.layers.Dense(20, activation='relu'),\n",
    "    tf.keras.layers.Dropout(0.4),\n",
    "    tf.keras.layers.Dense(10, activation='relu'),\n",
    "    tf.keras.layers.Dense(NUM_CLASSES, activation='softmax')\n",
    "])"
   ]
  },
  {
   "cell_type": "code",
   "execution_count": 53,
   "metadata": {
    "colab": {
     "base_uri": "https://localhost:8080/"
    },
    "id": "ypqky9tc9hE1",
    "outputId": "5db082bb-30e3-4110-bf63-a1ee777ecd46"
   },
   "outputs": [
    {
     "name": "stdout",
     "output_type": "stream",
     "text": [
      "Model: \"sequential_2\"\n",
      "_________________________________________________________________\n",
      " Layer (type)                Output Shape              Param #   \n",
      "=================================================================\n",
      " dropout_4 (Dropout)         (None, 84)                0         \n",
      "                                                                 \n",
      " dense_6 (Dense)             (None, 20)                1700      \n",
      "                                                                 \n",
      " dropout_5 (Dropout)         (None, 20)                0         \n",
      "                                                                 \n",
      " dense_7 (Dense)             (None, 10)                210       \n",
      "                                                                 \n",
      " dense_8 (Dense)             (None, 2)                 22        \n",
      "                                                                 \n",
      "=================================================================\n",
      "Total params: 1932 (7.55 KB)\n",
      "Trainable params: 1932 (7.55 KB)\n",
      "Non-trainable params: 0 (0.00 Byte)\n",
      "_________________________________________________________________\n"
     ]
    }
   ],
   "source": [
    "model.summary()  # tf.keras.utils.plot_model(model, show_shapes=True)"
   ]
  },
  {
   "cell_type": "code",
   "execution_count": 54,
   "metadata": {
    "id": "MbMjOflQ9hE1"
   },
   "outputs": [],
   "source": [
    "# Model checkpoint callback\n",
    "cp_callback = tf.keras.callbacks.ModelCheckpoint(\n",
    "    model_save_path, verbose=1, save_weights_only=False)\n",
    "# Callback for early stopping\n",
    "es_callback = tf.keras.callbacks.EarlyStopping(patience=20, verbose=1)"
   ]
  },
  {
   "cell_type": "code",
   "execution_count": 55,
   "metadata": {
    "id": "c3Dac0M_9hE2"
   },
   "outputs": [],
   "source": [
    "# Model compilation\n",
    "model.compile(\n",
    "    optimizer='adam',\n",
    "    loss='sparse_categorical_crossentropy',\n",
    "    metrics=['accuracy']\n",
    ")"
   ]
  },
  {
   "cell_type": "markdown",
   "metadata": {
    "id": "7XI0j1Iu9hE2"
   },
   "source": [
    "# Model training"
   ]
  },
  {
   "cell_type": "code",
   "execution_count": 56,
   "metadata": {
    "colab": {
     "base_uri": "https://localhost:8080/"
    },
    "id": "WirBl-JE9hE3",
    "outputId": "71b30ca2-8294-4d9d-8aa2-800d90d399de",
    "scrolled": true
   },
   "outputs": [
    {
     "name": "stdout",
     "output_type": "stream",
     "text": [
      "Epoch 1/100\n",
      "1/2 [==============>...............] - ETA: 1s - loss: 0.6976 - accuracy: 0.4688\n",
      "Epoch 1: saving model to model/keypoint_classifier\\keypoint_classifier.hdf5\n",
      "2/2 [==============================] - 2s 552ms/step - loss: 0.6891 - accuracy: 0.4800 - val_loss: 0.5317 - val_accuracy: 0.6078\n",
      "Epoch 2/100\n",
      "1/2 [==============>...............] - ETA: 0s - loss: 0.6676 - accuracy: 0.5078\n",
      "Epoch 2: saving model to model/keypoint_classifier\\keypoint_classifier.hdf5\n"
     ]
    },
    {
     "name": "stderr",
     "output_type": "stream",
     "text": [
      "C:\\Users\\Sanjay\\AppData\\Local\\Programs\\Python\\Python39\\lib\\site-packages\\keras\\src\\engine\\training.py:3000: UserWarning: You are saving your model as an HDF5 file via `model.save()`. This file format is considered legacy. We recommend using instead the native Keras format, e.g. `model.save('my_model.keras')`.\n",
      "  saving_api.save_model(\n"
     ]
    },
    {
     "name": "stdout",
     "output_type": "stream",
     "text": [
      "2/2 [==============================] - 0s 151ms/step - loss: 0.6625 - accuracy: 0.5267 - val_loss: 0.5032 - val_accuracy: 0.6078\n",
      "Epoch 3/100\n",
      "1/2 [==============>...............] - ETA: 0s - loss: 0.6252 - accuracy: 0.5547\n",
      "Epoch 3: saving model to model/keypoint_classifier\\keypoint_classifier.hdf5\n",
      "2/2 [==============================] - 0s 149ms/step - loss: 0.6178 - accuracy: 0.5533 - val_loss: 0.4761 - val_accuracy: 0.6275\n",
      "Epoch 4/100\n",
      "1/2 [==============>...............] - ETA: 0s - loss: 0.6106 - accuracy: 0.5859\n",
      "Epoch 4: saving model to model/keypoint_classifier\\keypoint_classifier.hdf5\n",
      "2/2 [==============================] - 0s 157ms/step - loss: 0.6055 - accuracy: 0.6000 - val_loss: 0.4495 - val_accuracy: 0.6667\n",
      "Epoch 5/100\n",
      "1/2 [==============>...............] - ETA: 0s - loss: 0.5611 - accuracy: 0.6562\n",
      "Epoch 5: saving model to model/keypoint_classifier\\keypoint_classifier.hdf5\n",
      "2/2 [==============================] - 0s 138ms/step - loss: 0.5530 - accuracy: 0.6600 - val_loss: 0.4244 - val_accuracy: 0.7647\n",
      "Epoch 6/100\n",
      "1/2 [==============>...............] - ETA: 0s - loss: 0.5463 - accuracy: 0.6641\n",
      "Epoch 6: saving model to model/keypoint_classifier\\keypoint_classifier.hdf5\n",
      "2/2 [==============================] - 0s 151ms/step - loss: 0.5460 - accuracy: 0.6467 - val_loss: 0.4011 - val_accuracy: 0.8039\n",
      "Epoch 7/100\n",
      "1/2 [==============>...............] - ETA: 0s - loss: 0.4930 - accuracy: 0.6953\n",
      "Epoch 7: saving model to model/keypoint_classifier\\keypoint_classifier.hdf5\n",
      "2/2 [==============================] - 0s 151ms/step - loss: 0.5161 - accuracy: 0.6800 - val_loss: 0.3784 - val_accuracy: 0.8824\n",
      "Epoch 8/100\n",
      "1/2 [==============>...............] - ETA: 0s - loss: 0.4903 - accuracy: 0.7656\n",
      "Epoch 8: saving model to model/keypoint_classifier\\keypoint_classifier.hdf5\n",
      "2/2 [==============================] - 0s 156ms/step - loss: 0.5069 - accuracy: 0.7467 - val_loss: 0.3574 - val_accuracy: 0.9216\n",
      "Epoch 9/100\n",
      "1/2 [==============>...............] - ETA: 0s - loss: 0.4420 - accuracy: 0.8281\n",
      "Epoch 9: saving model to model/keypoint_classifier\\keypoint_classifier.hdf5\n",
      "2/2 [==============================] - 0s 151ms/step - loss: 0.4506 - accuracy: 0.8133 - val_loss: 0.3389 - val_accuracy: 0.9412\n",
      "Epoch 10/100\n",
      "1/2 [==============>...............] - ETA: 0s - loss: 0.4517 - accuracy: 0.8203\n",
      "Epoch 10: saving model to model/keypoint_classifier\\keypoint_classifier.hdf5\n",
      "2/2 [==============================] - 0s 152ms/step - loss: 0.4359 - accuracy: 0.8467 - val_loss: 0.3215 - val_accuracy: 0.9804\n",
      "Epoch 11/100\n",
      "1/2 [==============>...............] - ETA: 0s - loss: 0.4225 - accuracy: 0.8516\n",
      "Epoch 11: saving model to model/keypoint_classifier\\keypoint_classifier.hdf5\n",
      "2/2 [==============================] - 0s 142ms/step - loss: 0.4239 - accuracy: 0.8400 - val_loss: 0.3036 - val_accuracy: 0.9804\n",
      "Epoch 12/100\n",
      "1/2 [==============>...............] - ETA: 0s - loss: 0.4041 - accuracy: 0.8594\n",
      "Epoch 12: saving model to model/keypoint_classifier\\keypoint_classifier.hdf5\n",
      "2/2 [==============================] - 0s 148ms/step - loss: 0.3978 - accuracy: 0.8733 - val_loss: 0.2859 - val_accuracy: 0.9804\n",
      "Epoch 13/100\n",
      "1/2 [==============>...............] - ETA: 0s - loss: 0.3735 - accuracy: 0.8906\n",
      "Epoch 13: saving model to model/keypoint_classifier\\keypoint_classifier.hdf5\n",
      "2/2 [==============================] - 0s 147ms/step - loss: 0.3701 - accuracy: 0.9000 - val_loss: 0.2675 - val_accuracy: 0.9804\n",
      "Epoch 14/100\n",
      "1/2 [==============>...............] - ETA: 0s - loss: 0.3711 - accuracy: 0.8906\n",
      "Epoch 14: saving model to model/keypoint_classifier\\keypoint_classifier.hdf5\n",
      "2/2 [==============================] - 0s 141ms/step - loss: 0.3656 - accuracy: 0.9067 - val_loss: 0.2491 - val_accuracy: 1.0000\n",
      "Epoch 15/100\n",
      "1/2 [==============>...............] - ETA: 0s - loss: 0.3352 - accuracy: 0.9453\n",
      "Epoch 15: saving model to model/keypoint_classifier\\keypoint_classifier.hdf5\n",
      "2/2 [==============================] - 0s 143ms/step - loss: 0.3430 - accuracy: 0.9133 - val_loss: 0.2306 - val_accuracy: 1.0000\n",
      "Epoch 16/100\n",
      "1/2 [==============>...............] - ETA: 0s - loss: 0.3087 - accuracy: 0.9453\n",
      "Epoch 16: saving model to model/keypoint_classifier\\keypoint_classifier.hdf5\n",
      "2/2 [==============================] - 0s 143ms/step - loss: 0.3086 - accuracy: 0.9333 - val_loss: 0.2119 - val_accuracy: 1.0000\n",
      "Epoch 17/100\n",
      "1/2 [==============>...............] - ETA: 0s - loss: 0.2875 - accuracy: 0.9375\n",
      "Epoch 17: saving model to model/keypoint_classifier\\keypoint_classifier.hdf5\n",
      "2/2 [==============================] - 0s 150ms/step - loss: 0.2928 - accuracy: 0.9333 - val_loss: 0.1940 - val_accuracy: 1.0000\n",
      "Epoch 18/100\n",
      "1/2 [==============>...............] - ETA: 0s - loss: 0.2794 - accuracy: 0.9688\n",
      "Epoch 18: saving model to model/keypoint_classifier\\keypoint_classifier.hdf5\n",
      "2/2 [==============================] - 0s 131ms/step - loss: 0.2713 - accuracy: 0.9667 - val_loss: 0.1766 - val_accuracy: 1.0000\n",
      "Epoch 19/100\n",
      "1/2 [==============>...............] - ETA: 0s - loss: 0.2769 - accuracy: 0.9375\n",
      "Epoch 19: saving model to model/keypoint_classifier\\keypoint_classifier.hdf5\n",
      "2/2 [==============================] - 0s 142ms/step - loss: 0.2780 - accuracy: 0.9267 - val_loss: 0.1603 - val_accuracy: 1.0000\n",
      "Epoch 20/100\n",
      "1/2 [==============>...............] - ETA: 0s - loss: 0.2678 - accuracy: 0.9453\n",
      "Epoch 20: saving model to model/keypoint_classifier\\keypoint_classifier.hdf5\n",
      "2/2 [==============================] - 0s 151ms/step - loss: 0.2619 - accuracy: 0.9467 - val_loss: 0.1448 - val_accuracy: 1.0000\n",
      "Epoch 21/100\n",
      "1/2 [==============>...............] - ETA: 0s - loss: 0.2173 - accuracy: 1.0000\n",
      "Epoch 21: saving model to model/keypoint_classifier\\keypoint_classifier.hdf5\n",
      "2/2 [==============================] - 0s 159ms/step - loss: 0.2211 - accuracy: 0.9933 - val_loss: 0.1298 - val_accuracy: 1.0000\n",
      "Epoch 22/100\n",
      "1/2 [==============>...............] - ETA: 0s - loss: 0.1977 - accuracy: 0.9766\n",
      "Epoch 22: saving model to model/keypoint_classifier\\keypoint_classifier.hdf5\n",
      "2/2 [==============================] - 0s 154ms/step - loss: 0.2101 - accuracy: 0.9667 - val_loss: 0.1157 - val_accuracy: 1.0000\n",
      "Epoch 23/100\n",
      "1/2 [==============>...............] - ETA: 0s - loss: 0.1904 - accuracy: 0.9922\n",
      "Epoch 23: saving model to model/keypoint_classifier\\keypoint_classifier.hdf5\n",
      "2/2 [==============================] - 0s 155ms/step - loss: 0.1980 - accuracy: 0.9867 - val_loss: 0.1028 - val_accuracy: 1.0000\n",
      "Epoch 24/100\n",
      "1/2 [==============>...............] - ETA: 0s - loss: 0.1952 - accuracy: 0.9688\n",
      "Epoch 24: saving model to model/keypoint_classifier\\keypoint_classifier.hdf5\n",
      "2/2 [==============================] - 0s 140ms/step - loss: 0.1981 - accuracy: 0.9533 - val_loss: 0.0916 - val_accuracy: 1.0000\n",
      "Epoch 25/100\n",
      "1/2 [==============>...............] - ETA: 0s - loss: 0.1786 - accuracy: 0.9766\n",
      "Epoch 25: saving model to model/keypoint_classifier\\keypoint_classifier.hdf5\n",
      "2/2 [==============================] - 0s 141ms/step - loss: 0.1780 - accuracy: 0.9800 - val_loss: 0.0816 - val_accuracy: 1.0000\n",
      "Epoch 26/100\n",
      "1/2 [==============>...............] - ETA: 0s - loss: 0.1744 - accuracy: 0.9766\n",
      "Epoch 26: saving model to model/keypoint_classifier\\keypoint_classifier.hdf5\n",
      "2/2 [==============================] - 0s 146ms/step - loss: 0.1705 - accuracy: 0.9800 - val_loss: 0.0724 - val_accuracy: 1.0000\n",
      "Epoch 27/100\n",
      "1/2 [==============>...............] - ETA: 0s - loss: 0.1680 - accuracy: 0.9844\n",
      "Epoch 27: saving model to model/keypoint_classifier\\keypoint_classifier.hdf5\n",
      "2/2 [==============================] - 0s 150ms/step - loss: 0.1690 - accuracy: 0.9867 - val_loss: 0.0640 - val_accuracy: 1.0000\n",
      "Epoch 28/100\n",
      "1/2 [==============>...............] - ETA: 0s - loss: 0.1470 - accuracy: 0.9766\n",
      "Epoch 28: saving model to model/keypoint_classifier\\keypoint_classifier.hdf5\n",
      "2/2 [==============================] - 0s 148ms/step - loss: 0.1410 - accuracy: 0.9800 - val_loss: 0.0566 - val_accuracy: 1.0000\n",
      "Epoch 29/100\n",
      "1/2 [==============>...............] - ETA: 0s - loss: 0.1748 - accuracy: 0.9688\n",
      "Epoch 29: saving model to model/keypoint_classifier\\keypoint_classifier.hdf5\n",
      "2/2 [==============================] - 0s 162ms/step - loss: 0.1650 - accuracy: 0.9733 - val_loss: 0.0502 - val_accuracy: 1.0000\n"
     ]
    },
    {
     "name": "stdout",
     "output_type": "stream",
     "text": [
      "Epoch 30/100\n",
      "1/2 [==============>...............] - ETA: 0s - loss: 0.1468 - accuracy: 0.9688\n",
      "Epoch 30: saving model to model/keypoint_classifier\\keypoint_classifier.hdf5\n",
      "2/2 [==============================] - 0s 144ms/step - loss: 0.1421 - accuracy: 0.9733 - val_loss: 0.0446 - val_accuracy: 1.0000\n",
      "Epoch 31/100\n",
      "1/2 [==============>...............] - ETA: 0s - loss: 0.1427 - accuracy: 0.9844\n",
      "Epoch 31: saving model to model/keypoint_classifier\\keypoint_classifier.hdf5\n",
      "2/2 [==============================] - 0s 138ms/step - loss: 0.1489 - accuracy: 0.9800 - val_loss: 0.0396 - val_accuracy: 1.0000\n",
      "Epoch 32/100\n",
      "1/2 [==============>...............] - ETA: 0s - loss: 0.1334 - accuracy: 0.9766\n",
      "Epoch 32: saving model to model/keypoint_classifier\\keypoint_classifier.hdf5\n",
      "2/2 [==============================] - 0s 152ms/step - loss: 0.1278 - accuracy: 0.9800 - val_loss: 0.0354 - val_accuracy: 1.0000\n",
      "Epoch 33/100\n",
      "1/2 [==============>...............] - ETA: 0s - loss: 0.0983 - accuracy: 0.9922\n",
      "Epoch 33: saving model to model/keypoint_classifier\\keypoint_classifier.hdf5\n",
      "2/2 [==============================] - 0s 127ms/step - loss: 0.0952 - accuracy: 0.9933 - val_loss: 0.0318 - val_accuracy: 1.0000\n",
      "Epoch 34/100\n",
      "1/2 [==============>...............] - ETA: 0s - loss: 0.1027 - accuracy: 0.9844\n",
      "Epoch 34: saving model to model/keypoint_classifier\\keypoint_classifier.hdf5\n",
      "2/2 [==============================] - 0s 139ms/step - loss: 0.0963 - accuracy: 0.9867 - val_loss: 0.0286 - val_accuracy: 1.0000\n",
      "Epoch 35/100\n",
      "1/2 [==============>...............] - ETA: 0s - loss: 0.1094 - accuracy: 0.9766\n",
      "Epoch 35: saving model to model/keypoint_classifier\\keypoint_classifier.hdf5\n",
      "2/2 [==============================] - 0s 137ms/step - loss: 0.1066 - accuracy: 0.9800 - val_loss: 0.0258 - val_accuracy: 1.0000\n",
      "Epoch 36/100\n",
      "1/2 [==============>...............] - ETA: 0s - loss: 0.0975 - accuracy: 0.9844\n",
      "Epoch 36: saving model to model/keypoint_classifier\\keypoint_classifier.hdf5\n",
      "2/2 [==============================] - 0s 143ms/step - loss: 0.0994 - accuracy: 0.9800 - val_loss: 0.0233 - val_accuracy: 1.0000\n",
      "Epoch 37/100\n",
      "1/2 [==============>...............] - ETA: 0s - loss: 0.1053 - accuracy: 0.9844\n",
      "Epoch 37: saving model to model/keypoint_classifier\\keypoint_classifier.hdf5\n",
      "2/2 [==============================] - 0s 146ms/step - loss: 0.1067 - accuracy: 0.9800 - val_loss: 0.0209 - val_accuracy: 1.0000\n",
      "Epoch 38/100\n",
      "1/2 [==============>...............] - ETA: 0s - loss: 0.0964 - accuracy: 0.9844\n",
      "Epoch 38: saving model to model/keypoint_classifier\\keypoint_classifier.hdf5\n",
      "2/2 [==============================] - 0s 152ms/step - loss: 0.0971 - accuracy: 0.9867 - val_loss: 0.0187 - val_accuracy: 1.0000\n",
      "Epoch 39/100\n",
      "1/2 [==============>...............] - ETA: 0s - loss: 0.0711 - accuracy: 0.9922\n",
      "Epoch 39: saving model to model/keypoint_classifier\\keypoint_classifier.hdf5\n",
      "2/2 [==============================] - 0s 135ms/step - loss: 0.0771 - accuracy: 0.9867 - val_loss: 0.0168 - val_accuracy: 1.0000\n",
      "Epoch 40/100\n",
      "1/2 [==============>...............] - ETA: 0s - loss: 0.0695 - accuracy: 0.9844\n",
      "Epoch 40: saving model to model/keypoint_classifier\\keypoint_classifier.hdf5\n",
      "2/2 [==============================] - 0s 131ms/step - loss: 0.0648 - accuracy: 0.9867 - val_loss: 0.0151 - val_accuracy: 1.0000\n",
      "Epoch 41/100\n",
      "1/2 [==============>...............] - ETA: 0s - loss: 0.0623 - accuracy: 0.9922\n",
      "Epoch 41: saving model to model/keypoint_classifier\\keypoint_classifier.hdf5\n",
      "2/2 [==============================] - 0s 139ms/step - loss: 0.0690 - accuracy: 0.9867 - val_loss: 0.0136 - val_accuracy: 1.0000\n",
      "Epoch 42/100\n",
      "1/2 [==============>...............] - ETA: 0s - loss: 0.0668 - accuracy: 1.0000\n",
      "Epoch 42: saving model to model/keypoint_classifier\\keypoint_classifier.hdf5\n",
      "2/2 [==============================] - 0s 135ms/step - loss: 0.0660 - accuracy: 1.0000 - val_loss: 0.0123 - val_accuracy: 1.0000\n",
      "Epoch 43/100\n",
      "1/2 [==============>...............] - ETA: 0s - loss: 0.0676 - accuracy: 0.9922\n",
      "Epoch 43: saving model to model/keypoint_classifier\\keypoint_classifier.hdf5\n",
      "2/2 [==============================] - 0s 151ms/step - loss: 0.0666 - accuracy: 0.9933 - val_loss: 0.0112 - val_accuracy: 1.0000\n",
      "Epoch 44/100\n",
      "1/2 [==============>...............] - ETA: 0s - loss: 0.0732 - accuracy: 0.9844\n",
      "Epoch 44: saving model to model/keypoint_classifier\\keypoint_classifier.hdf5\n",
      "2/2 [==============================] - 0s 140ms/step - loss: 0.0738 - accuracy: 0.9867 - val_loss: 0.0103 - val_accuracy: 1.0000\n",
      "Epoch 45/100\n",
      "1/2 [==============>...............] - ETA: 0s - loss: 0.0499 - accuracy: 1.0000\n",
      "Epoch 45: saving model to model/keypoint_classifier\\keypoint_classifier.hdf5\n",
      "2/2 [==============================] - 0s 145ms/step - loss: 0.0665 - accuracy: 0.9867 - val_loss: 0.0095 - val_accuracy: 1.0000\n",
      "Epoch 46/100\n",
      "1/2 [==============>...............] - ETA: 0s - loss: 0.0883 - accuracy: 0.9609\n",
      "Epoch 46: saving model to model/keypoint_classifier\\keypoint_classifier.hdf5\n",
      "2/2 [==============================] - 0s 146ms/step - loss: 0.0843 - accuracy: 0.9667 - val_loss: 0.0088 - val_accuracy: 1.0000\n",
      "Epoch 47/100\n",
      "1/2 [==============>...............] - ETA: 0s - loss: 0.0424 - accuracy: 0.9922\n",
      "Epoch 47: saving model to model/keypoint_classifier\\keypoint_classifier.hdf5\n",
      "2/2 [==============================] - 0s 150ms/step - loss: 0.0525 - accuracy: 0.9867 - val_loss: 0.0083 - val_accuracy: 1.0000\n",
      "Epoch 48/100\n",
      "1/2 [==============>...............] - ETA: 0s - loss: 0.0515 - accuracy: 0.9922\n",
      "Epoch 48: saving model to model/keypoint_classifier\\keypoint_classifier.hdf5\n",
      "2/2 [==============================] - 0s 145ms/step - loss: 0.0495 - accuracy: 0.9933 - val_loss: 0.0079 - val_accuracy: 1.0000\n",
      "Epoch 49/100\n",
      "1/2 [==============>...............] - ETA: 0s - loss: 0.0429 - accuracy: 1.0000\n",
      "Epoch 49: saving model to model/keypoint_classifier\\keypoint_classifier.hdf5\n",
      "2/2 [==============================] - 0s 146ms/step - loss: 0.0426 - accuracy: 1.0000 - val_loss: 0.0074 - val_accuracy: 1.0000\n",
      "Epoch 50/100\n",
      "1/2 [==============>...............] - ETA: 0s - loss: 0.0284 - accuracy: 1.0000\n",
      "Epoch 50: saving model to model/keypoint_classifier\\keypoint_classifier.hdf5\n",
      "2/2 [==============================] - 0s 150ms/step - loss: 0.0311 - accuracy: 1.0000 - val_loss: 0.0070 - val_accuracy: 1.0000\n",
      "Epoch 51/100\n",
      "1/2 [==============>...............] - ETA: 0s - loss: 0.0490 - accuracy: 0.9844\n",
      "Epoch 51: saving model to model/keypoint_classifier\\keypoint_classifier.hdf5\n",
      "2/2 [==============================] - 0s 141ms/step - loss: 0.0504 - accuracy: 0.9867 - val_loss: 0.0066 - val_accuracy: 1.0000\n",
      "Epoch 52/100\n",
      "1/2 [==============>...............] - ETA: 0s - loss: 0.0538 - accuracy: 0.9922\n",
      "Epoch 52: saving model to model/keypoint_classifier\\keypoint_classifier.hdf5\n",
      "2/2 [==============================] - 0s 147ms/step - loss: 0.0558 - accuracy: 0.9867 - val_loss: 0.0062 - val_accuracy: 1.0000\n",
      "Epoch 53/100\n",
      "1/2 [==============>...............] - ETA: 0s - loss: 0.0654 - accuracy: 0.9766\n",
      "Epoch 53: saving model to model/keypoint_classifier\\keypoint_classifier.hdf5\n",
      "2/2 [==============================] - 0s 150ms/step - loss: 0.0619 - accuracy: 0.9800 - val_loss: 0.0058 - val_accuracy: 1.0000\n",
      "Epoch 54/100\n",
      "1/2 [==============>...............] - ETA: 0s - loss: 0.0396 - accuracy: 1.0000\n",
      "Epoch 54: saving model to model/keypoint_classifier\\keypoint_classifier.hdf5\n",
      "2/2 [==============================] - 0s 146ms/step - loss: 0.0378 - accuracy: 1.0000 - val_loss: 0.0054 - val_accuracy: 1.0000\n",
      "Epoch 55/100\n",
      "1/2 [==============>...............] - ETA: 0s - loss: 0.0508 - accuracy: 0.9922\n",
      "Epoch 55: saving model to model/keypoint_classifier\\keypoint_classifier.hdf5\n",
      "2/2 [==============================] - 0s 143ms/step - loss: 0.0527 - accuracy: 0.9933 - val_loss: 0.0051 - val_accuracy: 1.0000\n",
      "Epoch 56/100\n",
      "1/2 [==============>...............] - ETA: 0s - loss: 0.0332 - accuracy: 0.9922\n",
      "Epoch 56: saving model to model/keypoint_classifier\\keypoint_classifier.hdf5\n",
      "2/2 [==============================] - 0s 157ms/step - loss: 0.0386 - accuracy: 0.9867 - val_loss: 0.0047 - val_accuracy: 1.0000\n",
      "Epoch 57/100\n"
     ]
    },
    {
     "name": "stdout",
     "output_type": "stream",
     "text": [
      "1/2 [==============>...............] - ETA: 0s - loss: 0.0193 - accuracy: 1.0000\n",
      "Epoch 57: saving model to model/keypoint_classifier\\keypoint_classifier.hdf5\n",
      "2/2 [==============================] - 0s 152ms/step - loss: 0.0212 - accuracy: 1.0000 - val_loss: 0.0044 - val_accuracy: 1.0000\n",
      "Epoch 58/100\n",
      "1/2 [==============>...............] - ETA: 0s - loss: 0.0351 - accuracy: 1.0000\n",
      "Epoch 58: saving model to model/keypoint_classifier\\keypoint_classifier.hdf5\n",
      "2/2 [==============================] - 0s 178ms/step - loss: 0.0353 - accuracy: 1.0000 - val_loss: 0.0041 - val_accuracy: 1.0000\n",
      "Epoch 59/100\n",
      "1/2 [==============>...............] - ETA: 0s - loss: 0.0332 - accuracy: 0.9922\n",
      "Epoch 59: saving model to model/keypoint_classifier\\keypoint_classifier.hdf5\n",
      "2/2 [==============================] - 0s 145ms/step - loss: 0.0338 - accuracy: 0.9933 - val_loss: 0.0038 - val_accuracy: 1.0000\n",
      "Epoch 60/100\n",
      "1/2 [==============>...............] - ETA: 0s - loss: 0.0276 - accuracy: 1.0000\n",
      "Epoch 60: saving model to model/keypoint_classifier\\keypoint_classifier.hdf5\n",
      "2/2 [==============================] - 0s 150ms/step - loss: 0.0329 - accuracy: 0.9933 - val_loss: 0.0036 - val_accuracy: 1.0000\n",
      "Epoch 61/100\n",
      "1/2 [==============>...............] - ETA: 0s - loss: 0.0257 - accuracy: 0.9922\n",
      "Epoch 61: saving model to model/keypoint_classifier\\keypoint_classifier.hdf5\n",
      "2/2 [==============================] - 0s 144ms/step - loss: 0.0282 - accuracy: 0.9933 - val_loss: 0.0033 - val_accuracy: 1.0000\n",
      "Epoch 62/100\n",
      "1/2 [==============>...............] - ETA: 0s - loss: 0.0275 - accuracy: 0.9922\n",
      "Epoch 62: saving model to model/keypoint_classifier\\keypoint_classifier.hdf5\n",
      "2/2 [==============================] - 0s 144ms/step - loss: 0.0252 - accuracy: 0.9933 - val_loss: 0.0031 - val_accuracy: 1.0000\n",
      "Epoch 63/100\n",
      "1/2 [==============>...............] - ETA: 0s - loss: 0.0451 - accuracy: 0.9922\n",
      "Epoch 63: saving model to model/keypoint_classifier\\keypoint_classifier.hdf5\n",
      "2/2 [==============================] - 0s 163ms/step - loss: 0.0429 - accuracy: 0.9933 - val_loss: 0.0028 - val_accuracy: 1.0000\n",
      "Epoch 64/100\n",
      "1/2 [==============>...............] - ETA: 0s - loss: 0.0317 - accuracy: 0.9922\n",
      "Epoch 64: saving model to model/keypoint_classifier\\keypoint_classifier.hdf5\n",
      "2/2 [==============================] - 0s 156ms/step - loss: 0.0279 - accuracy: 0.9933 - val_loss: 0.0026 - val_accuracy: 1.0000\n",
      "Epoch 65/100\n",
      "1/2 [==============>...............] - ETA: 0s - loss: 0.0232 - accuracy: 0.9922\n",
      "Epoch 65: saving model to model/keypoint_classifier\\keypoint_classifier.hdf5\n",
      "2/2 [==============================] - 0s 166ms/step - loss: 0.0234 - accuracy: 0.9933 - val_loss: 0.0025 - val_accuracy: 1.0000\n",
      "Epoch 66/100\n",
      "1/2 [==============>...............] - ETA: 0s - loss: 0.0414 - accuracy: 0.9922\n",
      "Epoch 66: saving model to model/keypoint_classifier\\keypoint_classifier.hdf5\n",
      "2/2 [==============================] - 0s 148ms/step - loss: 0.0417 - accuracy: 0.9933 - val_loss: 0.0023 - val_accuracy: 1.0000\n",
      "Epoch 67/100\n",
      "1/2 [==============>...............] - ETA: 0s - loss: 0.0198 - accuracy: 1.0000\n",
      "Epoch 67: saving model to model/keypoint_classifier\\keypoint_classifier.hdf5\n",
      "2/2 [==============================] - 0s 145ms/step - loss: 0.0203 - accuracy: 1.0000 - val_loss: 0.0022 - val_accuracy: 1.0000\n",
      "Epoch 68/100\n",
      "1/2 [==============>...............] - ETA: 0s - loss: 0.0404 - accuracy: 0.9844\n",
      "Epoch 68: saving model to model/keypoint_classifier\\keypoint_classifier.hdf5\n",
      "2/2 [==============================] - 0s 141ms/step - loss: 0.0364 - accuracy: 0.9867 - val_loss: 0.0021 - val_accuracy: 1.0000\n",
      "Epoch 69/100\n",
      "1/2 [==============>...............] - ETA: 0s - loss: 0.0250 - accuracy: 1.0000\n",
      "Epoch 69: saving model to model/keypoint_classifier\\keypoint_classifier.hdf5\n",
      "2/2 [==============================] - 0s 141ms/step - loss: 0.0288 - accuracy: 1.0000 - val_loss: 0.0020 - val_accuracy: 1.0000\n",
      "Epoch 70/100\n",
      "1/2 [==============>...............] - ETA: 0s - loss: 0.0327 - accuracy: 0.9922\n",
      "Epoch 70: saving model to model/keypoint_classifier\\keypoint_classifier.hdf5\n",
      "2/2 [==============================] - 0s 150ms/step - loss: 0.0318 - accuracy: 0.9933 - val_loss: 0.0019 - val_accuracy: 1.0000\n",
      "Epoch 71/100\n",
      "1/2 [==============>...............] - ETA: 0s - loss: 0.0229 - accuracy: 1.0000\n",
      "Epoch 71: saving model to model/keypoint_classifier\\keypoint_classifier.hdf5\n",
      "2/2 [==============================] - 0s 134ms/step - loss: 0.0212 - accuracy: 1.0000 - val_loss: 0.0018 - val_accuracy: 1.0000\n",
      "Epoch 72/100\n",
      "1/2 [==============>...............] - ETA: 0s - loss: 0.0406 - accuracy: 0.9844\n",
      "Epoch 72: saving model to model/keypoint_classifier\\keypoint_classifier.hdf5\n",
      "2/2 [==============================] - 0s 153ms/step - loss: 0.0368 - accuracy: 0.9867 - val_loss: 0.0017 - val_accuracy: 1.0000\n",
      "Epoch 73/100\n",
      "1/2 [==============>...............] - ETA: 0s - loss: 0.0257 - accuracy: 1.0000\n",
      "Epoch 73: saving model to model/keypoint_classifier\\keypoint_classifier.hdf5\n",
      "2/2 [==============================] - 0s 145ms/step - loss: 0.0266 - accuracy: 1.0000 - val_loss: 0.0016 - val_accuracy: 1.0000\n",
      "Epoch 74/100\n",
      "1/2 [==============>...............] - ETA: 0s - loss: 0.0300 - accuracy: 0.9922\n",
      "Epoch 74: saving model to model/keypoint_classifier\\keypoint_classifier.hdf5\n",
      "2/2 [==============================] - 0s 141ms/step - loss: 0.0298 - accuracy: 0.9933 - val_loss: 0.0015 - val_accuracy: 1.0000\n",
      "Epoch 75/100\n",
      "1/2 [==============>...............] - ETA: 0s - loss: 0.0273 - accuracy: 0.9922\n",
      "Epoch 75: saving model to model/keypoint_classifier\\keypoint_classifier.hdf5\n",
      "2/2 [==============================] - 0s 134ms/step - loss: 0.0241 - accuracy: 0.9933 - val_loss: 0.0014 - val_accuracy: 1.0000\n",
      "Epoch 76/100\n",
      "1/2 [==============>...............] - ETA: 0s - loss: 0.0236 - accuracy: 0.9922\n",
      "Epoch 76: saving model to model/keypoint_classifier\\keypoint_classifier.hdf5\n",
      "2/2 [==============================] - 0s 149ms/step - loss: 0.0206 - accuracy: 0.9933 - val_loss: 0.0014 - val_accuracy: 1.0000\n",
      "Epoch 77/100\n",
      "1/2 [==============>...............] - ETA: 0s - loss: 0.0135 - accuracy: 1.0000\n",
      "Epoch 77: saving model to model/keypoint_classifier\\keypoint_classifier.hdf5\n",
      "2/2 [==============================] - 0s 166ms/step - loss: 0.0123 - accuracy: 1.0000 - val_loss: 0.0013 - val_accuracy: 1.0000\n",
      "Epoch 78/100\n",
      "1/2 [==============>...............] - ETA: 0s - loss: 0.0279 - accuracy: 0.9922\n",
      "Epoch 78: saving model to model/keypoint_classifier\\keypoint_classifier.hdf5\n",
      "2/2 [==============================] - 0s 148ms/step - loss: 0.0284 - accuracy: 0.9933 - val_loss: 0.0012 - val_accuracy: 1.0000\n",
      "Epoch 79/100\n",
      "1/2 [==============>...............] - ETA: 0s - loss: 0.0321 - accuracy: 0.9922\n",
      "Epoch 79: saving model to model/keypoint_classifier\\keypoint_classifier.hdf5\n",
      "2/2 [==============================] - 0s 147ms/step - loss: 0.0289 - accuracy: 0.9933 - val_loss: 0.0012 - val_accuracy: 1.0000\n",
      "Epoch 80/100\n",
      "1/2 [==============>...............] - ETA: 0s - loss: 0.0199 - accuracy: 1.0000\n",
      "Epoch 80: saving model to model/keypoint_classifier\\keypoint_classifier.hdf5\n",
      "2/2 [==============================] - 0s 148ms/step - loss: 0.0191 - accuracy: 1.0000 - val_loss: 0.0011 - val_accuracy: 1.0000\n",
      "Epoch 81/100\n",
      "1/2 [==============>...............] - ETA: 0s - loss: 0.0267 - accuracy: 0.9922\n",
      "Epoch 81: saving model to model/keypoint_classifier\\keypoint_classifier.hdf5\n",
      "2/2 [==============================] - 0s 157ms/step - loss: 0.0244 - accuracy: 0.9933 - val_loss: 0.0010 - val_accuracy: 1.0000\n",
      "Epoch 82/100\n",
      "1/2 [==============>...............] - ETA: 0s - loss: 0.0318 - accuracy: 0.9922\n",
      "Epoch 82: saving model to model/keypoint_classifier\\keypoint_classifier.hdf5\n",
      "2/2 [==============================] - 0s 150ms/step - loss: 0.0296 - accuracy: 0.9933 - val_loss: 0.0010 - val_accuracy: 1.0000\n",
      "Epoch 83/100\n",
      "1/2 [==============>...............] - ETA: 0s - loss: 0.0310 - accuracy: 0.9922\n",
      "Epoch 83: saving model to model/keypoint_classifier\\keypoint_classifier.hdf5\n",
      "2/2 [==============================] - 0s 144ms/step - loss: 0.0274 - accuracy: 0.9933 - val_loss: 9.5633e-04 - val_accuracy: 1.0000\n",
      "Epoch 84/100\n",
      "1/2 [==============>...............] - ETA: 0s - loss: 0.0258 - accuracy: 0.9922\n",
      "Epoch 84: saving model to model/keypoint_classifier\\keypoint_classifier.hdf5\n"
     ]
    },
    {
     "name": "stdout",
     "output_type": "stream",
     "text": [
      "2/2 [==============================] - 0s 145ms/step - loss: 0.0276 - accuracy: 0.9933 - val_loss: 9.1184e-04 - val_accuracy: 1.0000\n",
      "Epoch 85/100\n",
      "1/2 [==============>...............] - ETA: 0s - loss: 0.0297 - accuracy: 0.9844\n",
      "Epoch 85: saving model to model/keypoint_classifier\\keypoint_classifier.hdf5\n",
      "2/2 [==============================] - 0s 148ms/step - loss: 0.0271 - accuracy: 0.9867 - val_loss: 8.6488e-04 - val_accuracy: 1.0000\n",
      "Epoch 86/100\n",
      "1/2 [==============>...............] - ETA: 0s - loss: 0.0302 - accuracy: 0.9922\n",
      "Epoch 86: saving model to model/keypoint_classifier\\keypoint_classifier.hdf5\n",
      "2/2 [==============================] - 0s 144ms/step - loss: 0.0292 - accuracy: 0.9933 - val_loss: 8.2323e-04 - val_accuracy: 1.0000\n",
      "Epoch 87/100\n",
      "1/2 [==============>...............] - ETA: 0s - loss: 0.0236 - accuracy: 0.9922\n",
      "Epoch 87: saving model to model/keypoint_classifier\\keypoint_classifier.hdf5\n",
      "2/2 [==============================] - 0s 142ms/step - loss: 0.0212 - accuracy: 0.9933 - val_loss: 7.8507e-04 - val_accuracy: 1.0000\n",
      "Epoch 88/100\n",
      "1/2 [==============>...............] - ETA: 0s - loss: 0.0371 - accuracy: 0.9844\n",
      "Epoch 88: saving model to model/keypoint_classifier\\keypoint_classifier.hdf5\n",
      "2/2 [==============================] - 0s 146ms/step - loss: 0.0390 - accuracy: 0.9867 - val_loss: 7.5223e-04 - val_accuracy: 1.0000\n",
      "Epoch 89/100\n",
      "1/2 [==============>...............] - ETA: 0s - loss: 0.0335 - accuracy: 0.9922\n",
      "Epoch 89: saving model to model/keypoint_classifier\\keypoint_classifier.hdf5\n",
      "2/2 [==============================] - 0s 141ms/step - loss: 0.0305 - accuracy: 0.9933 - val_loss: 7.2285e-04 - val_accuracy: 1.0000\n",
      "Epoch 90/100\n",
      "1/2 [==============>...............] - ETA: 0s - loss: 0.0144 - accuracy: 1.0000\n",
      "Epoch 90: saving model to model/keypoint_classifier\\keypoint_classifier.hdf5\n",
      "2/2 [==============================] - 0s 160ms/step - loss: 0.0135 - accuracy: 1.0000 - val_loss: 6.9697e-04 - val_accuracy: 1.0000\n",
      "Epoch 91/100\n",
      "1/2 [==============>...............] - ETA: 0s - loss: 0.0153 - accuracy: 1.0000\n",
      "Epoch 91: saving model to model/keypoint_classifier\\keypoint_classifier.hdf5\n",
      "2/2 [==============================] - 0s 151ms/step - loss: 0.0152 - accuracy: 1.0000 - val_loss: 6.7044e-04 - val_accuracy: 1.0000\n",
      "Epoch 92/100\n",
      "1/2 [==============>...............] - ETA: 0s - loss: 0.0325 - accuracy: 0.9922\n",
      "Epoch 92: saving model to model/keypoint_classifier\\keypoint_classifier.hdf5\n",
      "2/2 [==============================] - 0s 149ms/step - loss: 0.0341 - accuracy: 0.9933 - val_loss: 6.4993e-04 - val_accuracy: 1.0000\n",
      "Epoch 93/100\n",
      "1/2 [==============>...............] - ETA: 0s - loss: 0.0336 - accuracy: 0.9922\n",
      "Epoch 93: saving model to model/keypoint_classifier\\keypoint_classifier.hdf5\n",
      "2/2 [==============================] - 0s 141ms/step - loss: 0.0307 - accuracy: 0.9933 - val_loss: 6.3505e-04 - val_accuracy: 1.0000\n",
      "Epoch 94/100\n",
      "1/2 [==============>...............] - ETA: 0s - loss: 0.0334 - accuracy: 0.9844\n",
      "Epoch 94: saving model to model/keypoint_classifier\\keypoint_classifier.hdf5\n",
      "2/2 [==============================] - 0s 136ms/step - loss: 0.0298 - accuracy: 0.9867 - val_loss: 6.1793e-04 - val_accuracy: 1.0000\n",
      "Epoch 95/100\n",
      "1/2 [==============>...............] - ETA: 0s - loss: 0.0212 - accuracy: 0.9922\n",
      "Epoch 95: saving model to model/keypoint_classifier\\keypoint_classifier.hdf5\n",
      "2/2 [==============================] - 0s 144ms/step - loss: 0.0188 - accuracy: 0.9933 - val_loss: 5.9980e-04 - val_accuracy: 1.0000\n",
      "Epoch 96/100\n",
      "1/2 [==============>...............] - ETA: 0s - loss: 0.0063 - accuracy: 1.0000\n",
      "Epoch 96: saving model to model/keypoint_classifier\\keypoint_classifier.hdf5\n",
      "2/2 [==============================] - 0s 149ms/step - loss: 0.0060 - accuracy: 1.0000 - val_loss: 5.8262e-04 - val_accuracy: 1.0000\n",
      "Epoch 97/100\n",
      "1/2 [==============>...............] - ETA: 0s - loss: 0.0189 - accuracy: 0.9844\n",
      "Epoch 97: saving model to model/keypoint_classifier\\keypoint_classifier.hdf5\n",
      "2/2 [==============================] - 0s 145ms/step - loss: 0.0167 - accuracy: 0.9867 - val_loss: 5.7046e-04 - val_accuracy: 1.0000\n",
      "Epoch 98/100\n",
      "1/2 [==============>...............] - ETA: 0s - loss: 0.0129 - accuracy: 1.0000\n",
      "Epoch 98: saving model to model/keypoint_classifier\\keypoint_classifier.hdf5\n",
      "2/2 [==============================] - 0s 142ms/step - loss: 0.0114 - accuracy: 1.0000 - val_loss: 5.5755e-04 - val_accuracy: 1.0000\n",
      "Epoch 99/100\n",
      "1/2 [==============>...............] - ETA: 0s - loss: 0.0181 - accuracy: 1.0000\n",
      "Epoch 99: saving model to model/keypoint_classifier\\keypoint_classifier.hdf5\n",
      "2/2 [==============================] - 0s 149ms/step - loss: 0.0235 - accuracy: 0.9933 - val_loss: 5.4381e-04 - val_accuracy: 1.0000\n",
      "Epoch 100/100\n",
      "1/2 [==============>...............] - ETA: 0s - loss: 0.0194 - accuracy: 0.9922\n",
      "Epoch 100: saving model to model/keypoint_classifier\\keypoint_classifier.hdf5\n",
      "2/2 [==============================] - 0s 135ms/step - loss: 0.0176 - accuracy: 0.9933 - val_loss: 5.2817e-04 - val_accuracy: 1.0000\n"
     ]
    },
    {
     "data": {
      "text/plain": [
       "<keras.src.callbacks.History at 0x13221e3f7f0>"
      ]
     },
     "execution_count": 56,
     "metadata": {},
     "output_type": "execute_result"
    }
   ],
   "source": [
    "model.fit(\n",
    "    X_train,\n",
    "    y_train,\n",
    "    epochs=100,\n",
    "    batch_size=128,\n",
    "    validation_data=(X_test, y_test),\n",
    "    callbacks=[cp_callback, es_callback]\n",
    ")"
   ]
  },
  {
   "cell_type": "code",
   "execution_count": 57,
   "metadata": {
    "colab": {
     "base_uri": "https://localhost:8080/"
    },
    "id": "pxvb2Y299hE3",
    "outputId": "59eb3185-2e37-4b9e-bc9d-ab1b8ac29b7f"
   },
   "outputs": [
    {
     "name": "stdout",
     "output_type": "stream",
     "text": [
      "1/1 [==============================] - 0s 62ms/step - loss: 5.2817e-04 - accuracy: 1.0000\n"
     ]
    }
   ],
   "source": [
    "# Model evaluation\n",
    "val_loss, val_acc = model.evaluate(X_test, y_test, batch_size=128)"
   ]
  },
  {
   "cell_type": "code",
   "execution_count": 58,
   "metadata": {
    "id": "RBkmDeUW9hE4"
   },
   "outputs": [],
   "source": [
    "# Loading the saved model\n",
    "model = tf.keras.models.load_model(model_save_path)"
   ]
  },
  {
   "cell_type": "code",
   "execution_count": 59,
   "metadata": {
    "colab": {
     "base_uri": "https://localhost:8080/"
    },
    "id": "tFz9Tb0I9hE4",
    "outputId": "1c3b3528-54ae-4ee2-ab04-77429211cbef"
   },
   "outputs": [
    {
     "name": "stdout",
     "output_type": "stream",
     "text": [
      "1/1 [==============================] - 0s 168ms/step\n",
      "[8.2724349e-05 9.9991727e-01]\n",
      "1\n"
     ]
    }
   ],
   "source": [
    "# Inference test\n",
    "predict_result = model.predict(np.array([X_test[0]]))\n",
    "print(np.squeeze(predict_result))\n",
    "print(np.argmax(np.squeeze(predict_result)))"
   ]
  },
  {
   "cell_type": "markdown",
   "metadata": {
    "id": "S3U4yNWx9hE4"
   },
   "source": [
    "# Confusion matrix"
   ]
  },
  {
   "cell_type": "code",
   "execution_count": 60,
   "metadata": {
    "colab": {
     "base_uri": "https://localhost:8080/",
     "height": 582
    },
    "id": "AP1V6SCk9hE5",
    "outputId": "08e41a80-7a4a-4619-8125-ecc371368d19"
   },
   "outputs": [
    {
     "name": "stdout",
     "output_type": "stream",
     "text": [
      "2/2 [==============================] - 0s 3ms/step\n"
     ]
    },
    {
     "data": {
      "image/png": "[encoded data removed]",
      "text/plain": [
       "<Figure size 700x600 with 2 Axes>"
      ]
     },
     "metadata": {},
     "output_type": "display_data"
    },
    {
     "name": "stdout",
     "output_type": "stream",
     "text": [
      "Classification Report\n",
      "              precision    recall  f1-score   support\n",
      "\n",
      "           0       1.00      1.00      1.00        21\n",
      "           1       1.00      1.00      1.00        30\n",
      "\n",
      "    accuracy                           1.00        51\n",
      "   macro avg       1.00      1.00      1.00        51\n",
      "weighted avg       1.00      1.00      1.00        51\n",
      "\n"
     ]
    }
   ],
   "source": [
    "import pandas as pd\n",
    "import seaborn as sns\n",
    "import matplotlib.pyplot as plt\n",
    "from sklearn.metrics import confusion_matrix, classification_report\n",
    "\n",
    "def print_confusion_matrix(y_true, y_pred, report=True):\n",
    "    labels = sorted(list(set(y_true)))\n",
    "    cmx_data = confusion_matrix(y_true, y_pred, labels=labels)\n",
    "    \n",
    "    df_cmx = pd.DataFrame(cmx_data, index=labels, columns=labels)\n",
    " \n",
    "    fig, ax = plt.subplots(figsize=(7, 6))\n",
    "    sns.heatmap(df_cmx, annot=True, fmt='g' ,square=False)\n",
    "    ax.set_ylim(len(set(y_true)), 0)\n",
    "    plt.show()\n",
    "    \n",
    "    if report:\n",
    "        print('Classification Report')\n",
    "        print(classification_report(y_test, y_pred))\n",
    "\n",
    "Y_pred = model.predict(X_test)\n",
    "y_pred = np.argmax(Y_pred, axis=1)\n",
    "\n",
    "print_confusion_matrix(y_test, y_pred)"
   ]
  },
  {
   "cell_type": "markdown",
   "metadata": {
    "id": "FNP6aqzc9hE5"
   },
   "source": [
    "# Convert to model for Tensorflow-Lite"
   ]
  },
  {
   "cell_type": "code",
   "execution_count": 61,
   "metadata": {
    "id": "ODjnYyld9hE6"
   },
   "outputs": [
    {
     "name": "stderr",
     "output_type": "stream",
     "text": [
      "C:\\Users\\Sanjay\\AppData\\Local\\Programs\\Python\\Python39\\lib\\site-packages\\keras\\src\\engine\\training.py:3000: UserWarning: You are saving your model as an HDF5 file via `model.save()`. This file format is considered legacy. We recommend using instead the native Keras format, e.g. `model.save('my_model.keras')`.\n",
      "  saving_api.save_model(\n"
     ]
    }
   ],
   "source": [
    "# Save as a model dedicated to inference\n",
    "model.save(model_save_path, include_optimizer=False)"
   ]
  },
  {
   "cell_type": "code",
   "execution_count": 62,
   "metadata": {
    "colab": {
     "base_uri": "https://localhost:8080/"
    },
    "id": "zRfuK8Y59hE6",
    "outputId": "a4ca585c-b5d5-4244-8291-8674063209bb"
   },
   "outputs": [
    {
     "name": "stdout",
     "output_type": "stream",
     "text": [
      "INFO:tensorflow:Assets written to: C:\\Users\\Sanjay\\AppData\\Local\\Temp\\tmpgxgb36ga\\assets\n"
     ]
    },
    {
     "name": "stderr",
     "output_type": "stream",
     "text": [
      "INFO:tensorflow:Assets written to: C:\\Users\\Sanjay\\AppData\\Local\\Temp\\tmpgxgb36ga\\assets\n"
     ]
    },
    {
     "data": {
      "text/plain": [
       "4904"
      ]
     },
     "execution_count": 62,
     "metadata": {},
     "output_type": "execute_result"
    }
   ],
   "source": [
    "# Transform model (quantization)\n",
    "\n",
    "converter = tf.lite.TFLiteConverter.from_keras_model(model)\n",
    "converter.optimizations = [tf.lite.Optimize.DEFAULT]\n",
    "tflite_quantized_model = converter.convert()\n",
    "\n",
    "open(tflite_save_path, 'wb').write(tflite_quantized_model)"
   ]
  },
  {
   "cell_type": "markdown",
   "metadata": {
    "id": "CHBPBXdx9hE6"
   },
   "source": [
    "# Inference test"
   ]
  },
  {
   "cell_type": "code",
   "execution_count": 63,
   "metadata": {
    "id": "mGAzLocO9hE7"
   },
   "outputs": [],
   "source": [
    "interpreter = tf.lite.Interpreter(model_path=tflite_save_path)\n",
    "interpreter.allocate_tensors()"
   ]
  },
  {
   "cell_type": "code",
   "execution_count": 64,
   "metadata": {
    "id": "oQuDK8YS9hE7"
   },
   "outputs": [],
   "source": [
    "# Get I / O tensor\n",
    "input_details = interpreter.get_input_details()\n",
    "output_details = interpreter.get_output_details()"
   ]
  },
  {
   "cell_type": "code",
   "execution_count": 65,
   "metadata": {
    "id": "2_ixAf_l9hE7"
   },
   "outputs": [],
   "source": [
    "interpreter.set_tensor(input_details[0]['index'], np.array([X_test[0]]))"
   ]
  },
  {
   "cell_type": "code",
   "execution_count": 66,
   "metadata": {
    "colab": {
     "base_uri": "https://localhost:8080/"
    },
    "id": "s4FoAnuc9hE7",
    "outputId": "91f18257-8d8b-4ef3-c558-e9b5f94fabbf",
    "scrolled": true
   },
   "outputs": [
    {
     "name": "stdout",
     "output_type": "stream",
     "text": [
      "CPU times: total: 0 ns\n",
      "Wall time: 0 ns\n"
     ]
    }
   ],
   "source": [
    "%%time\n",
    "# Inference implementation\n",
    "interpreter.invoke()\n",
    "tflite_results = interpreter.get_tensor(output_details[0]['index'])"
   ]
  },
  {
   "cell_type": "code",
   "execution_count": 67,
   "metadata": {
    "colab": {
     "base_uri": "https://localhost:8080/"
    },
    "id": "vONjp19J9hE8",
    "outputId": "77205e24-fd00-42c4-f7b6-e06e527c2cba"
   },
   "outputs": [
    {
     "name": "stdout",
     "output_type": "stream",
     "text": [
      "[8.2944578e-05 9.9991703e-01]\n",
      "1\n"
     ]
    }
   ],
   "source": [
    "print(np.squeeze(tflite_results))\n",
    "print(np.argmax(np.squeeze(tflite_results)))"
   ]
  },
  {
   "cell_type": "code",
   "execution_count": null,
   "metadata": {},
   "outputs": [],
   "source": []
  }
 ],
 "metadata": {
  "accelerator": "GPU",
  "colab": {
   "collapsed_sections": [],
   "name": "keypoint_classification_EN.ipynb",
   "provenance": [],
   "toc_visible": true
  },
  "kernelspec": {
   "display_name": "Python 3 (ipykernel)",
   "language": "python",
   "name": "python3"
  },
  "language_info": {
   "codemirror_mode": {
    "name": "ipython",
    "version": 3
   },
   "file_extension": ".py",
   "mimetype": "text/x-python",
   "name": "python",
   "nbconvert_exporter": "python",
   "pygments_lexer": "ipython3",
   "version": "3.9.7"
  }
 },
 "nbformat": 4,
 "nbformat_minor": 1
}
