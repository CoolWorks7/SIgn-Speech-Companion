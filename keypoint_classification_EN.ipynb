{
 "cells": [
  {
   "cell_type": "code",
   "execution_count": 26,
   "metadata": {
    "id": "igMyGnjE9hEp"
   },
   "outputs": [],
   "source": [
    "import csv\n",
    "\n",
    "import numpy as np\n",
    "import tensorflow as tf\n",
    "from sklearn.model_selection import train_test_split\n",
    "\n",
    "RANDOM_SEED = 42"
   ]
  },
  {
   "cell_type": "markdown",
   "metadata": {
    "id": "t2HDvhIu9hEr"
   },
   "source": [
    "# Specify each path"
   ]
  },
  {
   "cell_type": "code",
   "execution_count": 27,
   "metadata": {
    "id": "9NvZP2Zn9hEy"
   },
   "outputs": [],
   "source": [
    "dataset = 'model/keypoint_classifier/keypoint.csv'\n",
    "model_save_path = 'model/keypoint_classifier/keypoint_classifier.hdf5'\n",
    "tflite_save_path = 'model/keypoint_classifier/keypoint_classifier.tflite'"
   ]
  },
  {
   "cell_type": "markdown",
   "metadata": {
    "id": "s5oMH7x19hEz"
   },
   "source": [
    "# Set number of classes"
   ]
  },
  {
   "cell_type": "code",
   "execution_count": 28,
   "metadata": {
    "id": "du4kodXL9hEz"
   },
   "outputs": [],
   "source": [
    "NUM_CLASSES = 53"
   ]
  },
  {
   "cell_type": "markdown",
   "metadata": {
    "id": "XjnL0uso9hEz"
   },
   "source": [
    "# Dataset reading"
   ]
  },
  {
   "cell_type": "code",
   "execution_count": 29,
   "metadata": {
    "id": "QT5ZqtEz9hE0"
   },
   "outputs": [],
   "source": [
    "X_dataset = np.loadtxt(dataset, delimiter=',', dtype='float32', usecols=list(range(1, (21*2 + 21*2 + 2*1) + 1)))"
   ]
  },
  {
   "cell_type": "code",
   "execution_count": 30,
   "metadata": {
    "id": "QmoKFsp49hE0"
   },
   "outputs": [],
   "source": [
    "y_dataset = np.loadtxt(dataset, delimiter=',', dtype='int32', usecols=(0))"
   ]
  },
  {
   "cell_type": "code",
   "execution_count": 31,
   "metadata": {
    "id": "xQU7JTZ_9hE0"
   },
   "outputs": [],
   "source": [
    "X_train, X_test, y_train, y_test = train_test_split(X_dataset, y_dataset, train_size=0.75, random_state=RANDOM_SEED)"
   ]
  },
  {
   "cell_type": "markdown",
   "metadata": {
    "id": "mxK_lETT9hE0"
   },
   "source": [
    "# Model building"
   ]
  },
  {
   "cell_type": "code",
   "execution_count": 32,
   "metadata": {
    "id": "vHBmUf1t9hE1"
   },
   "outputs": [],
   "source": [
    "# model = tf.keras.models.Sequential([\n",
    "#     tf.keras.layers.Input((21*2 + 21*2 + 2*1 )),\n",
    "#     tf.keras.layers.Dropout(0.2),\n",
    "#     tf.keras.layers.Dense(20, activation='relu'),\n",
    "#     tf.keras.layers.Dropout(0.4),\n",
    "#     tf.keras.layers.Dense(10, activation='relu'),\n",
    "#     tf.keras.layers.Dense(NUM_CLASSES, activation='softmax')\n",
    "# ])"
   ]
  },
  {
   "cell_type": "code",
   "execution_count": 33,
   "metadata": {},
   "outputs": [],
   "source": [
    "model = tf.keras.models.Sequential([\n",
    "    tf.keras.layers.Input((21*2 + 21*2 + 2*1 )),\n",
    "    tf.keras.layers.Dense(80, activation='relu'),\n",
    "    tf.keras.layers.Dropout(0.2),\n",
    "    tf.keras.layers.Dense(100, activation='relu'),\n",
    "    tf.keras.layers.Dropout(0.4),\n",
    "    tf.keras.layers.Dense(50, activation='relu'),\n",
    "    tf.keras.layers.Dense(NUM_CLASSES, activation='softmax')\n",
    "])"
   ]
  },
  {
   "cell_type": "code",
   "execution_count": 34,
   "metadata": {},
   "outputs": [],
   "source": [
    "# model = tf.keras.models.Sequential([\n",
    "#     tf.keras.layers.Input((21*2 + 21*2 + 2*1 )),\n",
    "#     tf.keras.layers.Dropout(0.2),\n",
    "#     tf.keras.layers.Dense(100, activation='relu'),\n",
    "#     tf.keras.layers.Dropout(0.4),\n",
    "#     tf.keras.layers.Dense(50, activation='relu'),\n",
    "#     tf.keras.layers.Dense(NUM_CLASSES, activation='softmax')\n",
    "# ])"
   ]
  },
  {
   "cell_type": "code",
   "execution_count": 35,
   "metadata": {
    "colab": {
     "base_uri": "https://localhost:8080/"
    },
    "id": "ypqky9tc9hE1",
    "outputId": "5db082bb-30e3-4110-bf63-a1ee777ecd46"
   },
   "outputs": [
    {
     "name": "stdout",
     "output_type": "stream",
     "text": [
      "Model: \"sequential_1\"\n",
      "_________________________________________________________________\n",
      " Layer (type)                Output Shape              Param #   \n",
      "=================================================================\n",
      " dense_4 (Dense)             (None, 80)                6960      \n",
      "                                                                 \n",
      " dropout_2 (Dropout)         (None, 80)                0         \n",
      "                                                                 \n",
      " dense_5 (Dense)             (None, 100)               8100      \n",
      "                                                                 \n",
      " dropout_3 (Dropout)         (None, 100)               0         \n",
      "                                                                 \n",
      " dense_6 (Dense)             (None, 50)                5050      \n",
      "                                                                 \n",
      " dense_7 (Dense)             (None, 53)                2703      \n",
      "                                                                 \n",
      "=================================================================\n",
      "Total params: 22813 (89.11 KB)\n",
      "Trainable params: 22813 (89.11 KB)\n",
      "Non-trainable params: 0 (0.00 Byte)\n",
      "_________________________________________________________________\n"
     ]
    }
   ],
   "source": [
    "model.summary()  # tf.keras.utils.plot_model(model, show_shapes=True)"
   ]
  },
  {
   "cell_type": "code",
   "execution_count": 36,
   "metadata": {
    "id": "MbMjOflQ9hE1"
   },
   "outputs": [],
   "source": [
    "# Model checkpoint callback\n",
    "cp_callback = tf.keras.callbacks.ModelCheckpoint(\n",
    "    model_save_path, verbose=1, save_weights_only=False)\n",
    "# Callback for early stopping\n",
    "es_callback = tf.keras.callbacks.EarlyStopping(patience=20, verbose=1)"
   ]
  },
  {
   "cell_type": "code",
   "execution_count": 37,
   "metadata": {
    "id": "c3Dac0M_9hE2"
   },
   "outputs": [],
   "source": [
    "# Model compilation\n",
    "model.compile(\n",
    "    optimizer='adam',\n",
    "    loss='sparse_categorical_crossentropy',\n",
    "    metrics=['accuracy']\n",
    ")"
   ]
  },
  {
   "cell_type": "markdown",
   "metadata": {
    "id": "7XI0j1Iu9hE2"
   },
   "source": [
    "# Model training"
   ]
  },
  {
   "cell_type": "code",
   "execution_count": 38,
   "metadata": {
    "colab": {
     "base_uri": "https://localhost:8080/"
    },
    "id": "WirBl-JE9hE3",
    "outputId": "71b30ca2-8294-4d9d-8aa2-800d90d399de",
    "scrolled": true
   },
   "outputs": [
    {
     "name": "stdout",
     "output_type": "stream",
     "text": [
      "Epoch 1/5300\n",
      "38/38 [==============================] - ETA: 0s - loss: 3.8382 - accuracy: 0.0587\n",
      "Epoch 1: saving model to model/keypoint_classifier\\keypoint_classifier.hdf5\n",
      "38/38 [==============================] - 3s 28ms/step - loss: 3.8382 - accuracy: 0.0587 - val_loss: 3.4574 - val_accuracy: 0.1193\n",
      "Epoch 2/5300\n",
      " 7/38 [====>.........................] - ETA: 0s - loss: 3.4466 - accuracy: 0.1038"
     ]
    },
    {
     "name": "stderr",
     "output_type": "stream",
     "text": [
      "C:\\Users\\Sanjay\\AppData\\Local\\Programs\\Python\\Python39\\lib\\site-packages\\keras\\src\\engine\\training.py:3000: UserWarning: You are saving your model as an HDF5 file via `model.save()`. This file format is considered legacy. We recommend using instead the native Keras format, e.g. `model.save('my_model.keras')`.\n",
      "  saving_api.save_model(\n"
     ]
    },
    {
     "name": "stdout",
     "output_type": "stream",
     "text": [
      "37/38 [============================>.] - ETA: 0s - loss: 3.2124 - accuracy: 0.1193\n",
      "Epoch 2: saving model to model/keypoint_classifier\\keypoint_classifier.hdf5\n",
      "38/38 [==============================] - 1s 15ms/step - loss: 3.2084 - accuracy: 0.1197 - val_loss: 2.6590 - val_accuracy: 0.2780\n",
      "Epoch 3/5300\n",
      "38/38 [==============================] - ETA: 0s - loss: 2.6301 - accuracy: 0.2092\n",
      "Epoch 3: saving model to model/keypoint_classifier\\keypoint_classifier.hdf5\n",
      "38/38 [==============================] - 1s 15ms/step - loss: 2.6301 - accuracy: 0.2092 - val_loss: 2.1372 - val_accuracy: 0.4172\n",
      "Epoch 4/5300\n",
      "33/38 [=========================>....] - ETA: 0s - loss: 2.2348 - accuracy: 0.2940\n",
      "Epoch 4: saving model to model/keypoint_classifier\\keypoint_classifier.hdf5\n",
      "38/38 [==============================] - 1s 14ms/step - loss: 2.2148 - accuracy: 0.3011 - val_loss: 1.7528 - val_accuracy: 0.5284\n",
      "Epoch 5/5300\n",
      "33/38 [=========================>....] - ETA: 0s - loss: 1.9117 - accuracy: 0.3674\n",
      "Epoch 5: saving model to model/keypoint_classifier\\keypoint_classifier.hdf5\n",
      "38/38 [==============================] - 1s 14ms/step - loss: 1.9031 - accuracy: 0.3710 - val_loss: 1.4507 - val_accuracy: 0.6327\n",
      "Epoch 6/5300\n",
      "32/38 [========================>.....] - ETA: 0s - loss: 1.6945 - accuracy: 0.4429\n",
      "Epoch 6: saving model to model/keypoint_classifier\\keypoint_classifier.hdf5\n",
      "38/38 [==============================] - 1s 14ms/step - loss: 1.6832 - accuracy: 0.4462 - val_loss: 1.2448 - val_accuracy: 0.7002\n",
      "Epoch 7/5300\n",
      "38/38 [==============================] - ETA: 0s - loss: 1.4926 - accuracy: 0.5011\n",
      "Epoch 7: saving model to model/keypoint_classifier\\keypoint_classifier.hdf5\n",
      "38/38 [==============================] - 1s 14ms/step - loss: 1.4926 - accuracy: 0.5011 - val_loss: 1.0941 - val_accuracy: 0.7289\n",
      "Epoch 8/5300\n",
      "37/38 [============================>.] - ETA: 0s - loss: 1.3729 - accuracy: 0.5420\n",
      "Epoch 8: saving model to model/keypoint_classifier\\keypoint_classifier.hdf5\n",
      "38/38 [==============================] - 1s 15ms/step - loss: 1.3690 - accuracy: 0.5426 - val_loss: 0.9742 - val_accuracy: 0.7589\n",
      "Epoch 9/5300\n",
      "32/38 [========================>.....] - ETA: 0s - loss: 1.2247 - accuracy: 0.5886\n",
      "Epoch 9: saving model to model/keypoint_classifier\\keypoint_classifier.hdf5\n",
      "38/38 [==============================] - 1s 14ms/step - loss: 1.2159 - accuracy: 0.5894 - val_loss: 0.8720 - val_accuracy: 0.7539\n",
      "Epoch 10/5300\n",
      "36/38 [===========================>..] - ETA: 0s - loss: 1.1625 - accuracy: 0.5985\n",
      "Epoch 10: saving model to model/keypoint_classifier\\keypoint_classifier.hdf5\n",
      "38/38 [==============================] - 1s 15ms/step - loss: 1.1636 - accuracy: 0.5978 - val_loss: 0.8183 - val_accuracy: 0.7670\n",
      "Epoch 11/5300\n",
      "32/38 [========================>.....] - ETA: 0s - loss: 1.0717 - accuracy: 0.6414\n",
      "Epoch 11: saving model to model/keypoint_classifier\\keypoint_classifier.hdf5\n",
      "38/38 [==============================] - 1s 14ms/step - loss: 1.0646 - accuracy: 0.6400 - val_loss: 0.7458 - val_accuracy: 0.7801\n",
      "Epoch 12/5300\n",
      "35/38 [==========================>...] - ETA: 0s - loss: 1.0182 - accuracy: 0.6504\n",
      "Epoch 12: saving model to model/keypoint_classifier\\keypoint_classifier.hdf5\n",
      "38/38 [==============================] - 1s 14ms/step - loss: 1.0098 - accuracy: 0.6546 - val_loss: 0.7121 - val_accuracy: 0.7889\n",
      "Epoch 13/5300\n",
      "34/38 [=========================>....] - ETA: 0s - loss: 0.9480 - accuracy: 0.6682\n",
      "Epoch 13: saving model to model/keypoint_classifier\\keypoint_classifier.hdf5\n",
      "38/38 [==============================] - 1s 13ms/step - loss: 0.9429 - accuracy: 0.6710 - val_loss: 0.6592 - val_accuracy: 0.8207\n",
      "Epoch 14/5300\n",
      "37/38 [============================>.] - ETA: 0s - loss: 0.9149 - accuracy: 0.6862\n",
      "Epoch 14: saving model to model/keypoint_classifier\\keypoint_classifier.hdf5\n",
      "38/38 [==============================] - 1s 14ms/step - loss: 0.9114 - accuracy: 0.6871 - val_loss: 0.6391 - val_accuracy: 0.8245\n",
      "Epoch 15/5300\n",
      "38/38 [==============================] - ETA: 0s - loss: 0.8548 - accuracy: 0.7012\n",
      "Epoch 15: saving model to model/keypoint_classifier\\keypoint_classifier.hdf5\n",
      "38/38 [==============================] - 1s 14ms/step - loss: 0.8548 - accuracy: 0.7012 - val_loss: 0.5994 - val_accuracy: 0.8076\n",
      "Epoch 16/5300\n",
      "32/38 [========================>.....] - ETA: 0s - loss: 0.7934 - accuracy: 0.7222\n",
      "Epoch 16: saving model to model/keypoint_classifier\\keypoint_classifier.hdf5\n",
      "38/38 [==============================] - 1s 14ms/step - loss: 0.8010 - accuracy: 0.7208 - val_loss: 0.5755 - val_accuracy: 0.8276\n",
      "Epoch 17/5300\n",
      "32/38 [========================>.....] - ETA: 0s - loss: 0.7711 - accuracy: 0.7324\n",
      "Epoch 17: saving model to model/keypoint_classifier\\keypoint_classifier.hdf5\n",
      "38/38 [==============================] - 1s 14ms/step - loss: 0.7794 - accuracy: 0.7300 - val_loss: 0.5566 - val_accuracy: 0.8157\n",
      "Epoch 18/5300\n",
      "33/38 [=========================>....] - ETA: 0s - loss: 0.7349 - accuracy: 0.7500\n",
      "Epoch 18: saving model to model/keypoint_classifier\\keypoint_classifier.hdf5\n",
      "38/38 [==============================] - 1s 14ms/step - loss: 0.7390 - accuracy: 0.7495 - val_loss: 0.5184 - val_accuracy: 0.8476\n",
      "Epoch 19/5300\n",
      "32/38 [========================>.....] - ETA: 0s - loss: 0.7146 - accuracy: 0.7542\n",
      "Epoch 19: saving model to model/keypoint_classifier\\keypoint_classifier.hdf5\n",
      "38/38 [==============================] - 1s 14ms/step - loss: 0.7149 - accuracy: 0.7506 - val_loss: 0.4909 - val_accuracy: 0.8476\n",
      "Epoch 20/5300\n",
      "38/38 [==============================] - ETA: 0s - loss: 0.6987 - accuracy: 0.7556\n",
      "Epoch 20: saving model to model/keypoint_classifier\\keypoint_classifier.hdf5\n",
      "38/38 [==============================] - 1s 15ms/step - loss: 0.6987 - accuracy: 0.7556 - val_loss: 0.4767 - val_accuracy: 0.8513\n",
      "Epoch 21/5300\n",
      "38/38 [==============================] - ETA: 0s - loss: 0.6613 - accuracy: 0.7629\n",
      "Epoch 21: saving model to model/keypoint_classifier\\keypoint_classifier.hdf5\n",
      "38/38 [==============================] - 1s 14ms/step - loss: 0.6613 - accuracy: 0.7629 - val_loss: 0.4741 - val_accuracy: 0.8563\n",
      "Epoch 22/5300\n",
      "37/38 [============================>.] - ETA: 0s - loss: 0.6393 - accuracy: 0.7749\n",
      "Epoch 22: saving model to model/keypoint_classifier\\keypoint_classifier.hdf5\n",
      "38/38 [==============================] - 1s 15ms/step - loss: 0.6394 - accuracy: 0.7751 - val_loss: 0.4437 - val_accuracy: 0.8651\n",
      "Epoch 23/5300\n",
      "37/38 [============================>.] - ETA: 0s - loss: 0.6041 - accuracy: 0.7876\n",
      "Epoch 23: saving model to model/keypoint_classifier\\keypoint_classifier.hdf5\n",
      "38/38 [==============================] - 1s 15ms/step - loss: 0.6028 - accuracy: 0.7870 - val_loss: 0.4255 - val_accuracy: 0.8713\n",
      "Epoch 24/5300\n",
      "38/38 [==============================] - ETA: 0s - loss: 0.5873 - accuracy: 0.7995\n",
      "Epoch 24: saving model to model/keypoint_classifier\\keypoint_classifier.hdf5\n",
      "38/38 [==============================] - 1s 15ms/step - loss: 0.5873 - accuracy: 0.7995 - val_loss: 0.4164 - val_accuracy: 0.8638\n",
      "Epoch 25/5300\n",
      "34/38 [=========================>....] - ETA: 0s - loss: 0.5936 - accuracy: 0.7847\n",
      "Epoch 25: saving model to model/keypoint_classifier\\keypoint_classifier.hdf5\n",
      "38/38 [==============================] - 1s 15ms/step - loss: 0.5891 - accuracy: 0.7876 - val_loss: 0.3911 - val_accuracy: 0.8869\n",
      "Epoch 26/5300\n",
      "32/38 [========================>.....] - ETA: 0s - loss: 0.5563 - accuracy: 0.7981\n",
      "Epoch 26: saving model to model/keypoint_classifier\\keypoint_classifier.hdf5\n",
      "38/38 [==============================] - 1s 14ms/step - loss: 0.5576 - accuracy: 0.7989 - val_loss: 0.3848 - val_accuracy: 0.8595\n",
      "Epoch 27/5300\n",
      "36/38 [===========================>..] - ETA: 0s - loss: 0.5359 - accuracy: 0.8125\n",
      "Epoch 27: saving model to model/keypoint_classifier\\keypoint_classifier.hdf5\n",
      "38/38 [==============================] - 1s 15ms/step - loss: 0.5384 - accuracy: 0.8112 - val_loss: 0.3768 - val_accuracy: 0.8670\n",
      "Epoch 28/5300\n",
      "34/38 [=========================>....] - ETA: 0s - loss: 0.5221 - accuracy: 0.8164\n",
      "Epoch 28: saving model to model/keypoint_classifier\\keypoint_classifier.hdf5\n",
      "38/38 [==============================] - 1s 14ms/step - loss: 0.5201 - accuracy: 0.8166 - val_loss: 0.3572 - val_accuracy: 0.8863\n",
      "Epoch 29/5300\n"
     ]
    },
    {
     "name": "stdout",
     "output_type": "stream",
     "text": [
      "33/38 [=========================>....] - ETA: 0s - loss: 0.5057 - accuracy: 0.8205\n",
      "Epoch 29: saving model to model/keypoint_classifier\\keypoint_classifier.hdf5\n",
      "38/38 [==============================] - 1s 14ms/step - loss: 0.5156 - accuracy: 0.8166 - val_loss: 0.3340 - val_accuracy: 0.9026\n",
      "Epoch 30/5300\n",
      "37/38 [============================>.] - ETA: 0s - loss: 0.4845 - accuracy: 0.8281\n",
      "Epoch 30: saving model to model/keypoint_classifier\\keypoint_classifier.hdf5\n",
      "38/38 [==============================] - 1s 15ms/step - loss: 0.4860 - accuracy: 0.8272 - val_loss: 0.3355 - val_accuracy: 0.8938\n",
      "Epoch 31/5300\n",
      "37/38 [============================>.] - ETA: 0s - loss: 0.4798 - accuracy: 0.8237\n",
      "Epoch 31: saving model to model/keypoint_classifier\\keypoint_classifier.hdf5\n",
      "38/38 [==============================] - 1s 15ms/step - loss: 0.4804 - accuracy: 0.8234 - val_loss: 0.3196 - val_accuracy: 0.8938\n",
      "Epoch 32/5300\n",
      "36/38 [===========================>..] - ETA: 0s - loss: 0.4731 - accuracy: 0.8316\n",
      "Epoch 32: saving model to model/keypoint_classifier\\keypoint_classifier.hdf5\n",
      "38/38 [==============================] - 1s 15ms/step - loss: 0.4754 - accuracy: 0.8309 - val_loss: 0.3268 - val_accuracy: 0.8869\n",
      "Epoch 33/5300\n",
      "35/38 [==========================>...] - ETA: 0s - loss: 0.4420 - accuracy: 0.8444\n",
      "Epoch 33: saving model to model/keypoint_classifier\\keypoint_classifier.hdf5\n",
      "38/38 [==============================] - 1s 15ms/step - loss: 0.4477 - accuracy: 0.8445 - val_loss: 0.3031 - val_accuracy: 0.8988\n",
      "Epoch 34/5300\n",
      "38/38 [==============================] - ETA: 0s - loss: 0.4452 - accuracy: 0.8397\n",
      "Epoch 34: saving model to model/keypoint_classifier\\keypoint_classifier.hdf5\n",
      "38/38 [==============================] - 1s 15ms/step - loss: 0.4452 - accuracy: 0.8397 - val_loss: 0.3006 - val_accuracy: 0.9132\n",
      "Epoch 35/5300\n",
      "37/38 [============================>.] - ETA: 0s - loss: 0.4213 - accuracy: 0.8486\n",
      "Epoch 35: saving model to model/keypoint_classifier\\keypoint_classifier.hdf5\n",
      "38/38 [==============================] - 1s 15ms/step - loss: 0.4245 - accuracy: 0.8484 - val_loss: 0.2850 - val_accuracy: 0.9094\n",
      "Epoch 36/5300\n",
      "33/38 [=========================>....] - ETA: 0s - loss: 0.4164 - accuracy: 0.8549\n",
      "Epoch 36: saving model to model/keypoint_classifier\\keypoint_classifier.hdf5\n",
      "38/38 [==============================] - 1s 14ms/step - loss: 0.4231 - accuracy: 0.8538 - val_loss: 0.2679 - val_accuracy: 0.9219\n",
      "Epoch 37/5300\n",
      "38/38 [==============================] - ETA: 0s - loss: 0.4133 - accuracy: 0.8570\n",
      "Epoch 37: saving model to model/keypoint_classifier\\keypoint_classifier.hdf5\n",
      "38/38 [==============================] - 1s 14ms/step - loss: 0.4133 - accuracy: 0.8570 - val_loss: 0.2583 - val_accuracy: 0.9325\n",
      "Epoch 38/5300\n",
      "32/38 [========================>.....] - ETA: 0s - loss: 0.3940 - accuracy: 0.8628\n",
      "Epoch 38: saving model to model/keypoint_classifier\\keypoint_classifier.hdf5\n",
      "38/38 [==============================] - 1s 14ms/step - loss: 0.3963 - accuracy: 0.8599 - val_loss: 0.2777 - val_accuracy: 0.8994\n",
      "Epoch 39/5300\n",
      "33/38 [=========================>....] - ETA: 0s - loss: 0.3996 - accuracy: 0.8577\n",
      "Epoch 39: saving model to model/keypoint_classifier\\keypoint_classifier.hdf5\n",
      "38/38 [==============================] - 1s 15ms/step - loss: 0.4014 - accuracy: 0.8576 - val_loss: 0.2649 - val_accuracy: 0.9076\n",
      "Epoch 40/5300\n",
      "33/38 [=========================>....] - ETA: 0s - loss: 0.3776 - accuracy: 0.8691\n",
      "Epoch 40: saving model to model/keypoint_classifier\\keypoint_classifier.hdf5\n",
      "38/38 [==============================] - 1s 13ms/step - loss: 0.3778 - accuracy: 0.8680 - val_loss: 0.2414 - val_accuracy: 0.9250\n",
      "Epoch 41/5300\n",
      "32/38 [========================>.....] - ETA: 0s - loss: 0.3755 - accuracy: 0.8655\n",
      "Epoch 41: saving model to model/keypoint_classifier\\keypoint_classifier.hdf5\n",
      "38/38 [==============================] - 1s 14ms/step - loss: 0.3686 - accuracy: 0.8688 - val_loss: 0.2459 - val_accuracy: 0.9300\n",
      "Epoch 42/5300\n",
      "33/38 [=========================>....] - ETA: 0s - loss: 0.3726 - accuracy: 0.8655\n",
      "Epoch 42: saving model to model/keypoint_classifier\\keypoint_classifier.hdf5\n",
      "38/38 [==============================] - 1s 14ms/step - loss: 0.3706 - accuracy: 0.8655 - val_loss: 0.2315 - val_accuracy: 0.9313\n",
      "Epoch 43/5300\n",
      "38/38 [==============================] - ETA: 0s - loss: 0.3497 - accuracy: 0.8799\n",
      "Epoch 43: saving model to model/keypoint_classifier\\keypoint_classifier.hdf5\n",
      "38/38 [==============================] - 1s 14ms/step - loss: 0.3497 - accuracy: 0.8799 - val_loss: 0.2183 - val_accuracy: 0.9425\n",
      "Epoch 44/5300\n",
      "34/38 [=========================>....] - ETA: 0s - loss: 0.3579 - accuracy: 0.8741\n",
      "Epoch 44: saving model to model/keypoint_classifier\\keypoint_classifier.hdf5\n",
      "38/38 [==============================] - 1s 14ms/step - loss: 0.3567 - accuracy: 0.8755 - val_loss: 0.2173 - val_accuracy: 0.9300\n",
      "Epoch 45/5300\n",
      "33/38 [=========================>....] - ETA: 0s - loss: 0.3538 - accuracy: 0.8750\n",
      "Epoch 45: saving model to model/keypoint_classifier\\keypoint_classifier.hdf5\n",
      "38/38 [==============================] - 1s 13ms/step - loss: 0.3489 - accuracy: 0.8784 - val_loss: 0.2115 - val_accuracy: 0.9375\n",
      "Epoch 46/5300\n",
      "32/38 [========================>.....] - ETA: 0s - loss: 0.3290 - accuracy: 0.8894\n",
      "Epoch 46: saving model to model/keypoint_classifier\\keypoint_classifier.hdf5\n",
      "38/38 [==============================] - 1s 14ms/step - loss: 0.3281 - accuracy: 0.8882 - val_loss: 0.2104 - val_accuracy: 0.9394\n",
      "Epoch 47/5300\n",
      "34/38 [=========================>....] - ETA: 0s - loss: 0.3135 - accuracy: 0.8943\n",
      "Epoch 47: saving model to model/keypoint_classifier\\keypoint_classifier.hdf5\n",
      "38/38 [==============================] - 1s 14ms/step - loss: 0.3212 - accuracy: 0.8903 - val_loss: 0.1974 - val_accuracy: 0.9550\n",
      "Epoch 48/5300\n",
      "34/38 [=========================>....] - ETA: 0s - loss: 0.3224 - accuracy: 0.8837\n",
      "Epoch 48: saving model to model/keypoint_classifier\\keypoint_classifier.hdf5\n",
      "38/38 [==============================] - 1s 14ms/step - loss: 0.3214 - accuracy: 0.8842 - val_loss: 0.2089 - val_accuracy: 0.9294\n",
      "Epoch 49/5300\n",
      "33/38 [=========================>....] - ETA: 0s - loss: 0.3283 - accuracy: 0.8866\n",
      "Epoch 49: saving model to model/keypoint_classifier\\keypoint_classifier.hdf5\n",
      "38/38 [==============================] - 1s 14ms/step - loss: 0.3299 - accuracy: 0.8851 - val_loss: 0.1933 - val_accuracy: 0.9432\n",
      "Epoch 50/5300\n",
      "33/38 [=========================>....] - ETA: 0s - loss: 0.3180 - accuracy: 0.8958\n",
      "Epoch 50: saving model to model/keypoint_classifier\\keypoint_classifier.hdf5\n",
      "38/38 [==============================] - 1s 14ms/step - loss: 0.3159 - accuracy: 0.8963 - val_loss: 0.1878 - val_accuracy: 0.9507\n",
      "Epoch 51/5300\n",
      "38/38 [==============================] - ETA: 0s - loss: 0.3059 - accuracy: 0.8965\n",
      "Epoch 51: saving model to model/keypoint_classifier\\keypoint_classifier.hdf5\n",
      "38/38 [==============================] - 1s 14ms/step - loss: 0.3059 - accuracy: 0.8965 - val_loss: 0.1915 - val_accuracy: 0.9463\n",
      "Epoch 52/5300\n",
      "35/38 [==========================>...] - ETA: 0s - loss: 0.3041 - accuracy: 0.8904\n",
      "Epoch 52: saving model to model/keypoint_classifier\\keypoint_classifier.hdf5\n",
      "38/38 [==============================] - 1s 14ms/step - loss: 0.3036 - accuracy: 0.8897 - val_loss: 0.1832 - val_accuracy: 0.9525\n",
      "Epoch 53/5300\n",
      "32/38 [========================>.....] - ETA: 0s - loss: 0.2801 - accuracy: 0.9016\n",
      "Epoch 53: saving model to model/keypoint_classifier\\keypoint_classifier.hdf5\n",
      "38/38 [==============================] - 1s 14ms/step - loss: 0.2814 - accuracy: 0.9030 - val_loss: 0.1853 - val_accuracy: 0.9475\n",
      "Epoch 54/5300\n",
      "34/38 [=========================>....] - ETA: 0s - loss: 0.2841 - accuracy: 0.9019\n",
      "Epoch 54: saving model to model/keypoint_classifier\\keypoint_classifier.hdf5\n",
      "38/38 [==============================] - 1s 13ms/step - loss: 0.2854 - accuracy: 0.8996 - val_loss: 0.1767 - val_accuracy: 0.9500\n",
      "Epoch 55/5300\n",
      "33/38 [=========================>....] - ETA: 0s - loss: 0.2888 - accuracy: 0.8994\n",
      "Epoch 55: saving model to model/keypoint_classifier\\keypoint_classifier.hdf5\n",
      "38/38 [==============================] - 1s 13ms/step - loss: 0.2820 - accuracy: 0.9030 - val_loss: 0.1816 - val_accuracy: 0.9482\n"
     ]
    },
    {
     "name": "stdout",
     "output_type": "stream",
     "text": [
      "Epoch 56/5300\n",
      "34/38 [=========================>....] - ETA: 0s - loss: 0.2806 - accuracy: 0.9012\n",
      "Epoch 56: saving model to model/keypoint_classifier\\keypoint_classifier.hdf5\n",
      "38/38 [==============================] - 1s 14ms/step - loss: 0.2829 - accuracy: 0.9001 - val_loss: 0.1693 - val_accuracy: 0.9538\n",
      "Epoch 57/5300\n",
      "32/38 [========================>.....] - ETA: 0s - loss: 0.2650 - accuracy: 0.9082\n",
      "Epoch 57: saving model to model/keypoint_classifier\\keypoint_classifier.hdf5\n",
      "38/38 [==============================] - 1s 14ms/step - loss: 0.2606 - accuracy: 0.9117 - val_loss: 0.1605 - val_accuracy: 0.9532\n",
      "Epoch 58/5300\n",
      "33/38 [=========================>....] - ETA: 0s - loss: 0.2814 - accuracy: 0.9003\n",
      "Epoch 58: saving model to model/keypoint_classifier\\keypoint_classifier.hdf5\n",
      "38/38 [==============================] - 1s 16ms/step - loss: 0.2788 - accuracy: 0.9009 - val_loss: 0.1735 - val_accuracy: 0.9513\n",
      "Epoch 59/5300\n",
      "34/38 [=========================>....] - ETA: 0s - loss: 0.2576 - accuracy: 0.9072\n",
      "Epoch 59: saving model to model/keypoint_classifier\\keypoint_classifier.hdf5\n",
      "38/38 [==============================] - 1s 17ms/step - loss: 0.2538 - accuracy: 0.9090 - val_loss: 0.1612 - val_accuracy: 0.9513\n",
      "Epoch 60/5300\n",
      "37/38 [============================>.] - ETA: 0s - loss: 0.2589 - accuracy: 0.9065\n",
      "Epoch 60: saving model to model/keypoint_classifier\\keypoint_classifier.hdf5\n",
      "38/38 [==============================] - 1s 20ms/step - loss: 0.2605 - accuracy: 0.9059 - val_loss: 0.1524 - val_accuracy: 0.9532\n",
      "Epoch 61/5300\n",
      "36/38 [===========================>..] - ETA: 0s - loss: 0.2476 - accuracy: 0.9112\n",
      "Epoch 61: saving model to model/keypoint_classifier\\keypoint_classifier.hdf5\n",
      "38/38 [==============================] - 1s 16ms/step - loss: 0.2458 - accuracy: 0.9119 - val_loss: 0.1456 - val_accuracy: 0.9650\n",
      "Epoch 62/5300\n",
      "37/38 [============================>.] - ETA: 0s - loss: 0.2412 - accuracy: 0.9162\n",
      "Epoch 62: saving model to model/keypoint_classifier\\keypoint_classifier.hdf5\n",
      "38/38 [==============================] - 1s 14ms/step - loss: 0.2396 - accuracy: 0.9169 - val_loss: 0.1528 - val_accuracy: 0.9569\n",
      "Epoch 63/5300\n",
      "37/38 [============================>.] - ETA: 0s - loss: 0.2427 - accuracy: 0.9210\n",
      "Epoch 63: saving model to model/keypoint_classifier\\keypoint_classifier.hdf5\n",
      "38/38 [==============================] - 1s 15ms/step - loss: 0.2437 - accuracy: 0.9207 - val_loss: 0.1423 - val_accuracy: 0.9663\n",
      "Epoch 64/5300\n",
      "32/38 [========================>.....] - ETA: 0s - loss: 0.2479 - accuracy: 0.9092\n",
      "Epoch 64: saving model to model/keypoint_classifier\\keypoint_classifier.hdf5\n",
      "38/38 [==============================] - 1s 14ms/step - loss: 0.2456 - accuracy: 0.9107 - val_loss: 0.1468 - val_accuracy: 0.9631\n",
      "Epoch 65/5300\n",
      "37/38 [============================>.] - ETA: 0s - loss: 0.2379 - accuracy: 0.9096\n",
      "Epoch 65: saving model to model/keypoint_classifier\\keypoint_classifier.hdf5\n",
      "38/38 [==============================] - 1s 15ms/step - loss: 0.2378 - accuracy: 0.9103 - val_loss: 0.1377 - val_accuracy: 0.9650\n",
      "Epoch 66/5300\n",
      "34/38 [=========================>....] - ETA: 0s - loss: 0.2314 - accuracy: 0.9180\n",
      "Epoch 66: saving model to model/keypoint_classifier\\keypoint_classifier.hdf5\n",
      "38/38 [==============================] - 0s 12ms/step - loss: 0.2320 - accuracy: 0.9176 - val_loss: 0.1473 - val_accuracy: 0.9513\n",
      "Epoch 67/5300\n",
      "33/38 [=========================>....] - ETA: 0s - loss: 0.2169 - accuracy: 0.9257\n",
      "Epoch 67: saving model to model/keypoint_classifier\\keypoint_classifier.hdf5\n",
      "38/38 [==============================] - 0s 11ms/step - loss: 0.2224 - accuracy: 0.9221 - val_loss: 0.1350 - val_accuracy: 0.9650\n",
      "Epoch 68/5300\n",
      "28/38 [=====================>........] - ETA: 0s - loss: 0.2326 - accuracy: 0.9177\n",
      "Epoch 68: saving model to model/keypoint_classifier\\keypoint_classifier.hdf5\n",
      "38/38 [==============================] - 0s 7ms/step - loss: 0.2317 - accuracy: 0.9188 - val_loss: 0.1329 - val_accuracy: 0.9644\n",
      "Epoch 69/5300\n",
      "26/38 [===================>..........] - ETA: 0s - loss: 0.2316 - accuracy: 0.9207\n",
      "Epoch 69: saving model to model/keypoint_classifier\\keypoint_classifier.hdf5\n",
      "38/38 [==============================] - 0s 6ms/step - loss: 0.2207 - accuracy: 0.9228 - val_loss: 0.1331 - val_accuracy: 0.9650\n",
      "Epoch 70/5300\n",
      "26/38 [===================>..........] - ETA: 0s - loss: 0.2141 - accuracy: 0.9243\n",
      "Epoch 70: saving model to model/keypoint_classifier\\keypoint_classifier.hdf5\n",
      "38/38 [==============================] - 0s 7ms/step - loss: 0.2141 - accuracy: 0.9238 - val_loss: 0.1295 - val_accuracy: 0.9644\n",
      "Epoch 71/5300\n",
      "29/38 [=====================>........] - ETA: 0s - loss: 0.2121 - accuracy: 0.9286\n",
      "Epoch 71: saving model to model/keypoint_classifier\\keypoint_classifier.hdf5\n",
      "38/38 [==============================] - 0s 7ms/step - loss: 0.2141 - accuracy: 0.9298 - val_loss: 0.1337 - val_accuracy: 0.9681\n",
      "Epoch 72/5300\n",
      "38/38 [==============================] - ETA: 0s - loss: 0.2214 - accuracy: 0.9238\n",
      "Epoch 72: saving model to model/keypoint_classifier\\keypoint_classifier.hdf5\n",
      "38/38 [==============================] - 0s 10ms/step - loss: 0.2214 - accuracy: 0.9238 - val_loss: 0.1297 - val_accuracy: 0.9644\n",
      "Epoch 73/5300\n",
      "30/38 [======================>.......] - ETA: 0s - loss: 0.2070 - accuracy: 0.9242\n",
      "Epoch 73: saving model to model/keypoint_classifier\\keypoint_classifier.hdf5\n",
      "38/38 [==============================] - 0s 10ms/step - loss: 0.2110 - accuracy: 0.9230 - val_loss: 0.1258 - val_accuracy: 0.9675\n",
      "Epoch 74/5300\n",
      "36/38 [===========================>..] - ETA: 0s - loss: 0.2219 - accuracy: 0.9225\n",
      "Epoch 74: saving model to model/keypoint_classifier\\keypoint_classifier.hdf5\n",
      "38/38 [==============================] - 0s 7ms/step - loss: 0.2187 - accuracy: 0.9232 - val_loss: 0.1245 - val_accuracy: 0.9694\n",
      "Epoch 75/5300\n",
      "38/38 [==============================] - ETA: 0s - loss: 0.2000 - accuracy: 0.9259\n",
      "Epoch 75: saving model to model/keypoint_classifier\\keypoint_classifier.hdf5\n",
      "38/38 [==============================] - 0s 7ms/step - loss: 0.2000 - accuracy: 0.9259 - val_loss: 0.1214 - val_accuracy: 0.9663\n",
      "Epoch 76/5300\n",
      "38/38 [==============================] - ETA: 0s - loss: 0.2056 - accuracy: 0.9288\n",
      "Epoch 76: saving model to model/keypoint_classifier\\keypoint_classifier.hdf5\n",
      "38/38 [==============================] - 0s 7ms/step - loss: 0.2056 - accuracy: 0.9288 - val_loss: 0.1213 - val_accuracy: 0.9669\n",
      "Epoch 77/5300\n",
      "35/38 [==========================>...] - ETA: 0s - loss: 0.1990 - accuracy: 0.9308\n",
      "Epoch 77: saving model to model/keypoint_classifier\\keypoint_classifier.hdf5\n",
      "38/38 [==============================] - 0s 7ms/step - loss: 0.1975 - accuracy: 0.9309 - val_loss: 0.1201 - val_accuracy: 0.9675\n",
      "Epoch 78/5300\n",
      "27/38 [====================>.........] - ETA: 0s - loss: 0.1906 - accuracy: 0.9306\n",
      "Epoch 78: saving model to model/keypoint_classifier\\keypoint_classifier.hdf5\n",
      "38/38 [==============================] - 0s 7ms/step - loss: 0.1856 - accuracy: 0.9321 - val_loss: 0.1174 - val_accuracy: 0.9688\n",
      "Epoch 79/5300\n",
      "31/38 [=======================>......] - ETA: 0s - loss: 0.1948 - accuracy: 0.9325\n",
      "Epoch 79: saving model to model/keypoint_classifier\\keypoint_classifier.hdf5\n",
      "38/38 [==============================] - 0s 9ms/step - loss: 0.1976 - accuracy: 0.9303 - val_loss: 0.1294 - val_accuracy: 0.9582\n",
      "Epoch 80/5300\n",
      "29/38 [=====================>........] - ETA: 0s - loss: 0.1931 - accuracy: 0.9281\n",
      "Epoch 80: saving model to model/keypoint_classifier\\keypoint_classifier.hdf5\n",
      "38/38 [==============================] - 0s 7ms/step - loss: 0.1900 - accuracy: 0.9294 - val_loss: 0.1158 - val_accuracy: 0.9700\n",
      "Epoch 81/5300\n",
      "32/38 [========================>.....] - ETA: 0s - loss: 0.1866 - accuracy: 0.9412\n",
      "Epoch 81: saving model to model/keypoint_classifier\\keypoint_classifier.hdf5\n",
      "38/38 [==============================] - 0s 9ms/step - loss: 0.1870 - accuracy: 0.9400 - val_loss: 0.1311 - val_accuracy: 0.9525\n",
      "Epoch 82/5300\n",
      "33/38 [=========================>....] - ETA: 0s - loss: 0.1659 - accuracy: 0.9377\n",
      "Epoch 82: saving model to model/keypoint_classifier\\keypoint_classifier.hdf5\n",
      "38/38 [==============================] - 0s 12ms/step - loss: 0.1688 - accuracy: 0.9375 - val_loss: 0.1027 - val_accuracy: 0.9756\n"
     ]
    },
    {
     "name": "stdout",
     "output_type": "stream",
     "text": [
      "Epoch 83/5300\n",
      "34/38 [=========================>....] - ETA: 0s - loss: 0.1801 - accuracy: 0.9343\n",
      "Epoch 83: saving model to model/keypoint_classifier\\keypoint_classifier.hdf5\n",
      "38/38 [==============================] - 0s 12ms/step - loss: 0.1768 - accuracy: 0.9365 - val_loss: 0.1085 - val_accuracy: 0.9725\n",
      "Epoch 84/5300\n",
      "28/38 [=====================>........] - ETA: 0s - loss: 0.1907 - accuracy: 0.9339\n",
      "Epoch 84: saving model to model/keypoint_classifier\\keypoint_classifier.hdf5\n",
      "38/38 [==============================] - 0s 9ms/step - loss: 0.1889 - accuracy: 0.9338 - val_loss: 0.1215 - val_accuracy: 0.9694\n",
      "Epoch 85/5300\n",
      "31/38 [=======================>......] - ETA: 0s - loss: 0.1803 - accuracy: 0.9325\n",
      "Epoch 85: saving model to model/keypoint_classifier\\keypoint_classifier.hdf5\n",
      "38/38 [==============================] - 0s 10ms/step - loss: 0.1794 - accuracy: 0.9344 - val_loss: 0.1099 - val_accuracy: 0.9681\n",
      "Epoch 86/5300\n",
      "31/38 [=======================>......] - ETA: 0s - loss: 0.1805 - accuracy: 0.9317\n",
      "Epoch 86: saving model to model/keypoint_classifier\\keypoint_classifier.hdf5\n",
      "38/38 [==============================] - 0s 8ms/step - loss: 0.1803 - accuracy: 0.9338 - val_loss: 0.1122 - val_accuracy: 0.9706\n",
      "Epoch 87/5300\n",
      "28/38 [=====================>........] - ETA: 0s - loss: 0.1787 - accuracy: 0.9378\n",
      "Epoch 87: saving model to model/keypoint_classifier\\keypoint_classifier.hdf5\n",
      "38/38 [==============================] - 0s 6ms/step - loss: 0.1748 - accuracy: 0.9394 - val_loss: 0.1116 - val_accuracy: 0.9675\n",
      "Epoch 88/5300\n",
      "32/38 [========================>.....] - ETA: 0s - loss: 0.1645 - accuracy: 0.9424\n",
      "Epoch 88: saving model to model/keypoint_classifier\\keypoint_classifier.hdf5\n",
      "38/38 [==============================] - 0s 6ms/step - loss: 0.1685 - accuracy: 0.9409 - val_loss: 0.1046 - val_accuracy: 0.9713\n",
      "Epoch 89/5300\n",
      "29/38 [=====================>........] - ETA: 0s - loss: 0.1649 - accuracy: 0.9434\n",
      "Epoch 89: saving model to model/keypoint_classifier\\keypoint_classifier.hdf5\n",
      "38/38 [==============================] - 0s 6ms/step - loss: 0.1738 - accuracy: 0.9407 - val_loss: 0.1089 - val_accuracy: 0.9713\n",
      "Epoch 90/5300\n",
      "31/38 [=======================>......] - ETA: 0s - loss: 0.1584 - accuracy: 0.9461\n",
      "Epoch 90: saving model to model/keypoint_classifier\\keypoint_classifier.hdf5\n",
      "38/38 [==============================] - 0s 9ms/step - loss: 0.1618 - accuracy: 0.9444 - val_loss: 0.0999 - val_accuracy: 0.9731\n",
      "Epoch 91/5300\n",
      "28/38 [=====================>........] - ETA: 0s - loss: 0.1665 - accuracy: 0.9375\n",
      "Epoch 91: saving model to model/keypoint_classifier\\keypoint_classifier.hdf5\n",
      "38/38 [==============================] - 0s 6ms/step - loss: 0.1657 - accuracy: 0.9380 - val_loss: 0.1048 - val_accuracy: 0.9769\n",
      "Epoch 92/5300\n",
      "31/38 [=======================>......] - ETA: 0s - loss: 0.1792 - accuracy: 0.9355\n",
      "Epoch 92: saving model to model/keypoint_classifier\\keypoint_classifier.hdf5\n",
      "38/38 [==============================] - 0s 6ms/step - loss: 0.1787 - accuracy: 0.9350 - val_loss: 0.1065 - val_accuracy: 0.9700\n",
      "Epoch 93/5300\n",
      "26/38 [===================>..........] - ETA: 0s - loss: 0.1542 - accuracy: 0.9435\n",
      "Epoch 93: saving model to model/keypoint_classifier\\keypoint_classifier.hdf5\n",
      "38/38 [==============================] - 0s 7ms/step - loss: 0.1637 - accuracy: 0.9407 - val_loss: 0.1062 - val_accuracy: 0.9731\n",
      "Epoch 94/5300\n",
      "34/38 [=========================>....] - ETA: 0s - loss: 0.1682 - accuracy: 0.9380\n",
      "Epoch 94: saving model to model/keypoint_classifier\\keypoint_classifier.hdf5\n",
      "38/38 [==============================] - 0s 8ms/step - loss: 0.1666 - accuracy: 0.9394 - val_loss: 0.1055 - val_accuracy: 0.9719\n",
      "Epoch 95/5300\n",
      "27/38 [====================>.........] - ETA: 0s - loss: 0.1578 - accuracy: 0.9465\n",
      "Epoch 95: saving model to model/keypoint_classifier\\keypoint_classifier.hdf5\n",
      "38/38 [==============================] - 0s 7ms/step - loss: 0.1558 - accuracy: 0.9465 - val_loss: 0.1055 - val_accuracy: 0.9706\n",
      "Epoch 96/5300\n",
      "38/38 [==============================] - ETA: 0s - loss: 0.1600 - accuracy: 0.9459\n",
      "Epoch 96: saving model to model/keypoint_classifier\\keypoint_classifier.hdf5\n",
      "38/38 [==============================] - 0s 11ms/step - loss: 0.1600 - accuracy: 0.9459 - val_loss: 0.1015 - val_accuracy: 0.9769\n",
      "Epoch 97/5300\n",
      "37/38 [============================>.] - ETA: 0s - loss: 0.1533 - accuracy: 0.9443\n",
      "Epoch 97: saving model to model/keypoint_classifier\\keypoint_classifier.hdf5\n",
      "38/38 [==============================] - 0s 11ms/step - loss: 0.1531 - accuracy: 0.9442 - val_loss: 0.1031 - val_accuracy: 0.9738\n",
      "Epoch 98/5300\n",
      "36/38 [===========================>..] - ETA: 0s - loss: 0.1561 - accuracy: 0.9455\n",
      "Epoch 98: saving model to model/keypoint_classifier\\keypoint_classifier.hdf5\n",
      "38/38 [==============================] - 0s 10ms/step - loss: 0.1562 - accuracy: 0.9457 - val_loss: 0.1032 - val_accuracy: 0.9756\n",
      "Epoch 99/5300\n",
      "30/38 [======================>.......] - ETA: 0s - loss: 0.1576 - accuracy: 0.9430\n",
      "Epoch 99: saving model to model/keypoint_classifier\\keypoint_classifier.hdf5\n",
      "38/38 [==============================] - 0s 6ms/step - loss: 0.1559 - accuracy: 0.9446 - val_loss: 0.1034 - val_accuracy: 0.9731\n",
      "Epoch 100/5300\n",
      "31/38 [=======================>......] - ETA: 0s - loss: 0.1561 - accuracy: 0.9481\n",
      "Epoch 100: saving model to model/keypoint_classifier\\keypoint_classifier.hdf5\n",
      "38/38 [==============================] - 0s 6ms/step - loss: 0.1561 - accuracy: 0.9467 - val_loss: 0.1006 - val_accuracy: 0.9750\n",
      "Epoch 101/5300\n",
      "30/38 [======================>.......] - ETA: 0s - loss: 0.1462 - accuracy: 0.9477\n",
      "Epoch 101: saving model to model/keypoint_classifier\\keypoint_classifier.hdf5\n",
      "38/38 [==============================] - 0s 6ms/step - loss: 0.1415 - accuracy: 0.9494 - val_loss: 0.0951 - val_accuracy: 0.9775\n",
      "Epoch 102/5300\n",
      "33/38 [=========================>....] - ETA: 0s - loss: 0.1515 - accuracy: 0.9470\n",
      "Epoch 102: saving model to model/keypoint_classifier\\keypoint_classifier.hdf5\n",
      "38/38 [==============================] - 0s 6ms/step - loss: 0.1541 - accuracy: 0.9467 - val_loss: 0.0989 - val_accuracy: 0.9731\n",
      "Epoch 103/5300\n",
      "31/38 [=======================>......] - ETA: 0s - loss: 0.1547 - accuracy: 0.9483\n",
      "Epoch 103: saving model to model/keypoint_classifier\\keypoint_classifier.hdf5\n",
      "38/38 [==============================] - 0s 6ms/step - loss: 0.1509 - accuracy: 0.9486 - val_loss: 0.0981 - val_accuracy: 0.9731\n",
      "Epoch 104/5300\n",
      "33/38 [=========================>....] - ETA: 0s - loss: 0.1648 - accuracy: 0.9441\n",
      "Epoch 104: saving model to model/keypoint_classifier\\keypoint_classifier.hdf5\n",
      "38/38 [==============================] - 0s 6ms/step - loss: 0.1617 - accuracy: 0.9446 - val_loss: 0.0955 - val_accuracy: 0.9706\n",
      "Epoch 105/5300\n",
      "28/38 [=====================>........] - ETA: 0s - loss: 0.1486 - accuracy: 0.9517\n",
      "Epoch 105: saving model to model/keypoint_classifier\\keypoint_classifier.hdf5\n",
      "38/38 [==============================] - 0s 7ms/step - loss: 0.1490 - accuracy: 0.9496 - val_loss: 0.0892 - val_accuracy: 0.9794\n",
      "Epoch 106/5300\n",
      "36/38 [===========================>..] - ETA: 0s - loss: 0.1415 - accuracy: 0.9501\n",
      "Epoch 106: saving model to model/keypoint_classifier\\keypoint_classifier.hdf5\n",
      "38/38 [==============================] - 0s 8ms/step - loss: 0.1410 - accuracy: 0.9507 - val_loss: 0.0923 - val_accuracy: 0.9794\n",
      "Epoch 107/5300\n",
      "38/38 [==============================] - ETA: 0s - loss: 0.1379 - accuracy: 0.9515\n",
      "Epoch 107: saving model to model/keypoint_classifier\\keypoint_classifier.hdf5\n",
      "38/38 [==============================] - 0s 8ms/step - loss: 0.1379 - accuracy: 0.9515 - val_loss: 0.0906 - val_accuracy: 0.9756\n",
      "Epoch 108/5300\n",
      "29/38 [=====================>........] - ETA: 0s - loss: 0.1316 - accuracy: 0.9547\n",
      "Epoch 108: saving model to model/keypoint_classifier\\keypoint_classifier.hdf5\n",
      "38/38 [==============================] - 0s 6ms/step - loss: 0.1296 - accuracy: 0.9563 - val_loss: 0.0881 - val_accuracy: 0.9794\n",
      "Epoch 109/5300\n",
      "29/38 [=====================>........] - ETA: 0s - loss: 0.1484 - accuracy: 0.9507\n",
      "Epoch 109: saving model to model/keypoint_classifier\\keypoint_classifier.hdf5\n",
      "38/38 [==============================] - 0s 7ms/step - loss: 0.1449 - accuracy: 0.9519 - val_loss: 0.0887 - val_accuracy: 0.9813\n"
     ]
    },
    {
     "name": "stdout",
     "output_type": "stream",
     "text": [
      "Epoch 110/5300\n",
      "29/38 [=====================>........] - ETA: 0s - loss: 0.1341 - accuracy: 0.9569\n",
      "Epoch 110: saving model to model/keypoint_classifier\\keypoint_classifier.hdf5\n",
      "38/38 [==============================] - 0s 7ms/step - loss: 0.1341 - accuracy: 0.9565 - val_loss: 0.0936 - val_accuracy: 0.9813\n",
      "Epoch 111/5300\n",
      "37/38 [============================>.] - ETA: 0s - loss: 0.1264 - accuracy: 0.9580\n",
      "Epoch 111: saving model to model/keypoint_classifier\\keypoint_classifier.hdf5\n",
      "38/38 [==============================] - 0s 8ms/step - loss: 0.1261 - accuracy: 0.9579 - val_loss: 0.0962 - val_accuracy: 0.9763\n",
      "Epoch 112/5300\n",
      "30/38 [======================>.......] - ETA: 0s - loss: 0.1334 - accuracy: 0.9609\n",
      "Epoch 112: saving model to model/keypoint_classifier\\keypoint_classifier.hdf5\n",
      "38/38 [==============================] - 0s 6ms/step - loss: 0.1357 - accuracy: 0.9582 - val_loss: 0.0901 - val_accuracy: 0.9813\n",
      "Epoch 113/5300\n",
      "31/38 [=======================>......] - ETA: 0s - loss: 0.1413 - accuracy: 0.9529\n",
      "Epoch 113: saving model to model/keypoint_classifier\\keypoint_classifier.hdf5\n",
      "38/38 [==============================] - 0s 6ms/step - loss: 0.1403 - accuracy: 0.9542 - val_loss: 0.0875 - val_accuracy: 0.9819\n",
      "Epoch 114/5300\n",
      "32/38 [========================>.....] - ETA: 0s - loss: 0.1183 - accuracy: 0.9612\n",
      "Epoch 114: saving model to model/keypoint_classifier\\keypoint_classifier.hdf5\n",
      "38/38 [==============================] - 0s 8ms/step - loss: 0.1190 - accuracy: 0.9602 - val_loss: 0.0901 - val_accuracy: 0.9825\n",
      "Epoch 115/5300\n",
      "31/38 [=======================>......] - ETA: 0s - loss: 0.1350 - accuracy: 0.9511\n",
      "Epoch 115: saving model to model/keypoint_classifier\\keypoint_classifier.hdf5\n",
      "38/38 [==============================] - 0s 6ms/step - loss: 0.1334 - accuracy: 0.9521 - val_loss: 0.0802 - val_accuracy: 0.9838\n",
      "Epoch 116/5300\n",
      "31/38 [=======================>......] - ETA: 0s - loss: 0.1280 - accuracy: 0.9564\n",
      "Epoch 116: saving model to model/keypoint_classifier\\keypoint_classifier.hdf5\n",
      "38/38 [==============================] - 0s 7ms/step - loss: 0.1287 - accuracy: 0.9550 - val_loss: 0.0846 - val_accuracy: 0.9831\n",
      "Epoch 117/5300\n",
      "36/38 [===========================>..] - ETA: 0s - loss: 0.1222 - accuracy: 0.9590\n",
      "Epoch 117: saving model to model/keypoint_classifier\\keypoint_classifier.hdf5\n",
      "38/38 [==============================] - 1s 14ms/step - loss: 0.1241 - accuracy: 0.9584 - val_loss: 0.0864 - val_accuracy: 0.9794\n",
      "Epoch 118/5300\n",
      "34/38 [=========================>....] - ETA: 0s - loss: 0.1330 - accuracy: 0.9527\n",
      "Epoch 118: saving model to model/keypoint_classifier\\keypoint_classifier.hdf5\n",
      "38/38 [==============================] - 1s 14ms/step - loss: 0.1331 - accuracy: 0.9529 - val_loss: 0.0863 - val_accuracy: 0.9844\n",
      "Epoch 119/5300\n",
      "32/38 [========================>.....] - ETA: 0s - loss: 0.1361 - accuracy: 0.9502\n",
      "Epoch 119: saving model to model/keypoint_classifier\\keypoint_classifier.hdf5\n",
      "38/38 [==============================] - 1s 14ms/step - loss: 0.1322 - accuracy: 0.9525 - val_loss: 0.0836 - val_accuracy: 0.9838\n",
      "Epoch 120/5300\n",
      "33/38 [=========================>....] - ETA: 0s - loss: 0.1228 - accuracy: 0.9557\n",
      "Epoch 120: saving model to model/keypoint_classifier\\keypoint_classifier.hdf5\n",
      "38/38 [==============================] - 1s 14ms/step - loss: 0.1259 - accuracy: 0.9550 - val_loss: 0.0866 - val_accuracy: 0.9838\n",
      "Epoch 121/5300\n",
      "38/38 [==============================] - ETA: 0s - loss: 0.1162 - accuracy: 0.9623\n",
      "Epoch 121: saving model to model/keypoint_classifier\\keypoint_classifier.hdf5\n",
      "38/38 [==============================] - 1s 16ms/step - loss: 0.1162 - accuracy: 0.9623 - val_loss: 0.0802 - val_accuracy: 0.9838\n",
      "Epoch 122/5300\n",
      "35/38 [==========================>...] - ETA: 0s - loss: 0.1232 - accuracy: 0.9563\n",
      "Epoch 122: saving model to model/keypoint_classifier\\keypoint_classifier.hdf5\n",
      "38/38 [==============================] - 1s 15ms/step - loss: 0.1220 - accuracy: 0.9571 - val_loss: 0.0825 - val_accuracy: 0.9838\n",
      "Epoch 123/5300\n",
      "37/38 [============================>.] - ETA: 0s - loss: 0.1220 - accuracy: 0.9588\n",
      "Epoch 123: saving model to model/keypoint_classifier\\keypoint_classifier.hdf5\n",
      "38/38 [==============================] - 1s 15ms/step - loss: 0.1218 - accuracy: 0.9590 - val_loss: 0.0761 - val_accuracy: 0.9869\n",
      "Epoch 124/5300\n",
      "37/38 [============================>.] - ETA: 0s - loss: 0.1163 - accuracy: 0.9656\n",
      "Epoch 124: saving model to model/keypoint_classifier\\keypoint_classifier.hdf5\n",
      "38/38 [==============================] - 1s 14ms/step - loss: 0.1156 - accuracy: 0.9659 - val_loss: 0.0758 - val_accuracy: 0.9844\n",
      "Epoch 125/5300\n",
      "36/38 [===========================>..] - ETA: 0s - loss: 0.1222 - accuracy: 0.9609\n",
      "Epoch 125: saving model to model/keypoint_classifier\\keypoint_classifier.hdf5\n",
      "38/38 [==============================] - 1s 15ms/step - loss: 0.1222 - accuracy: 0.9609 - val_loss: 0.0719 - val_accuracy: 0.9906\n",
      "Epoch 126/5300\n",
      "36/38 [===========================>..] - ETA: 0s - loss: 0.1179 - accuracy: 0.9633\n",
      "Epoch 126: saving model to model/keypoint_classifier\\keypoint_classifier.hdf5\n",
      "38/38 [==============================] - 1s 17ms/step - loss: 0.1171 - accuracy: 0.9631 - val_loss: 0.0760 - val_accuracy: 0.9856\n",
      "Epoch 127/5300\n",
      "34/38 [=========================>....] - ETA: 0s - loss: 0.1189 - accuracy: 0.9614\n",
      "Epoch 127: saving model to model/keypoint_classifier\\keypoint_classifier.hdf5\n",
      "38/38 [==============================] - 1s 17ms/step - loss: 0.1230 - accuracy: 0.9598 - val_loss: 0.0723 - val_accuracy: 0.9856\n",
      "Epoch 128/5300\n",
      "37/38 [============================>.] - ETA: 0s - loss: 0.1104 - accuracy: 0.9645\n",
      "Epoch 128: saving model to model/keypoint_classifier\\keypoint_classifier.hdf5\n",
      "38/38 [==============================] - 1s 14ms/step - loss: 0.1115 - accuracy: 0.9644 - val_loss: 0.0721 - val_accuracy: 0.9850\n",
      "Epoch 129/5300\n",
      "33/38 [=========================>....] - ETA: 0s - loss: 0.1168 - accuracy: 0.9628\n",
      "Epoch 129: saving model to model/keypoint_classifier\\keypoint_classifier.hdf5\n",
      "38/38 [==============================] - 0s 13ms/step - loss: 0.1142 - accuracy: 0.9636 - val_loss: 0.0739 - val_accuracy: 0.9881\n",
      "Epoch 130/5300\n",
      "37/38 [============================>.] - ETA: 0s - loss: 0.1083 - accuracy: 0.9618\n",
      "Epoch 130: saving model to model/keypoint_classifier\\keypoint_classifier.hdf5\n",
      "38/38 [==============================] - 0s 9ms/step - loss: 0.1080 - accuracy: 0.9621 - val_loss: 0.0753 - val_accuracy: 0.9863\n",
      "Epoch 131/5300\n",
      "34/38 [=========================>....] - ETA: 0s - loss: 0.1109 - accuracy: 0.9662\n",
      "Epoch 131: saving model to model/keypoint_classifier\\keypoint_classifier.hdf5\n",
      "38/38 [==============================] - 0s 10ms/step - loss: 0.1102 - accuracy: 0.9654 - val_loss: 0.0696 - val_accuracy: 0.9906\n",
      "Epoch 132/5300\n",
      "38/38 [==============================] - ETA: 0s - loss: 0.1082 - accuracy: 0.9667\n",
      "Epoch 132: saving model to model/keypoint_classifier\\keypoint_classifier.hdf5\n",
      "38/38 [==============================] - 0s 10ms/step - loss: 0.1082 - accuracy: 0.9667 - val_loss: 0.0677 - val_accuracy: 0.9900\n",
      "Epoch 133/5300\n",
      "30/38 [======================>.......] - ETA: 0s - loss: 0.1066 - accuracy: 0.9659\n",
      "Epoch 133: saving model to model/keypoint_classifier\\keypoint_classifier.hdf5\n",
      "38/38 [==============================] - 0s 6ms/step - loss: 0.1072 - accuracy: 0.9650 - val_loss: 0.0688 - val_accuracy: 0.9888\n",
      "Epoch 134/5300\n",
      "21/38 [===============>..............] - ETA: 0s - loss: 0.1162 - accuracy: 0.9669\n",
      "Epoch 134: saving model to model/keypoint_classifier\\keypoint_classifier.hdf5\n",
      "38/38 [==============================] - 0s 5ms/step - loss: 0.1124 - accuracy: 0.9648 - val_loss: 0.0763 - val_accuracy: 0.9869\n",
      "Epoch 135/5300\n",
      "38/38 [==============================] - ETA: 0s - loss: 0.1022 - accuracy: 0.9673\n",
      "Epoch 135: saving model to model/keypoint_classifier\\keypoint_classifier.hdf5\n",
      "38/38 [==============================] - 0s 10ms/step - loss: 0.1022 - accuracy: 0.9673 - val_loss: 0.0689 - val_accuracy: 0.9900\n",
      "Epoch 136/5300\n",
      "30/38 [======================>.......] - ETA: 0s - loss: 0.1032 - accuracy: 0.9659\n",
      "Epoch 136: saving model to model/keypoint_classifier\\keypoint_classifier.hdf5\n",
      "38/38 [==============================] - 0s 6ms/step - loss: 0.1011 - accuracy: 0.9673 - val_loss: 0.0649 - val_accuracy: 0.9919\n"
     ]
    },
    {
     "name": "stdout",
     "output_type": "stream",
     "text": [
      "Epoch 137/5300\n",
      "30/38 [======================>.......] - ETA: 0s - loss: 0.1010 - accuracy: 0.9703\n",
      "Epoch 137: saving model to model/keypoint_classifier\\keypoint_classifier.hdf5\n",
      "38/38 [==============================] - 0s 9ms/step - loss: 0.0996 - accuracy: 0.9700 - val_loss: 0.0639 - val_accuracy: 0.9913\n",
      "Epoch 138/5300\n",
      "30/38 [======================>.......] - ETA: 0s - loss: 0.1101 - accuracy: 0.9656\n",
      "Epoch 138: saving model to model/keypoint_classifier\\keypoint_classifier.hdf5\n",
      "38/38 [==============================] - 0s 6ms/step - loss: 0.1072 - accuracy: 0.9646 - val_loss: 0.0644 - val_accuracy: 0.9894\n",
      "Epoch 139/5300\n",
      "36/38 [===========================>..] - ETA: 0s - loss: 0.0932 - accuracy: 0.9698\n",
      "Epoch 139: saving model to model/keypoint_classifier\\keypoint_classifier.hdf5\n",
      "38/38 [==============================] - 0s 5ms/step - loss: 0.0940 - accuracy: 0.9696 - val_loss: 0.0647 - val_accuracy: 0.9925\n",
      "Epoch 140/5300\n",
      "35/38 [==========================>...] - ETA: 0s - loss: 0.0933 - accuracy: 0.9683\n",
      "Epoch 140: saving model to model/keypoint_classifier\\keypoint_classifier.hdf5\n",
      "38/38 [==============================] - 0s 5ms/step - loss: 0.0946 - accuracy: 0.9686 - val_loss: 0.0623 - val_accuracy: 0.9900\n",
      "Epoch 141/5300\n",
      "29/38 [=====================>........] - ETA: 0s - loss: 0.0875 - accuracy: 0.9706\n",
      "Epoch 141: saving model to model/keypoint_classifier\\keypoint_classifier.hdf5\n",
      "38/38 [==============================] - 0s 6ms/step - loss: 0.0862 - accuracy: 0.9717 - val_loss: 0.0601 - val_accuracy: 0.9925\n",
      "Epoch 142/5300\n",
      "27/38 [====================>.........] - ETA: 0s - loss: 0.0913 - accuracy: 0.9737\n",
      "Epoch 142: saving model to model/keypoint_classifier\\keypoint_classifier.hdf5\n",
      "38/38 [==============================] - 0s 7ms/step - loss: 0.0923 - accuracy: 0.9723 - val_loss: 0.0672 - val_accuracy: 0.9894\n",
      "Epoch 143/5300\n",
      "26/38 [===================>..........] - ETA: 0s - loss: 0.0915 - accuracy: 0.9721\n",
      "Epoch 143: saving model to model/keypoint_classifier\\keypoint_classifier.hdf5\n",
      "38/38 [==============================] - 0s 7ms/step - loss: 0.0912 - accuracy: 0.9719 - val_loss: 0.0606 - val_accuracy: 0.9938\n",
      "Epoch 144/5300\n",
      "28/38 [=====================>........] - ETA: 0s - loss: 0.0944 - accuracy: 0.9715\n",
      "Epoch 144: saving model to model/keypoint_classifier\\keypoint_classifier.hdf5\n",
      "38/38 [==============================] - 0s 7ms/step - loss: 0.0921 - accuracy: 0.9717 - val_loss: 0.0662 - val_accuracy: 0.9869\n",
      "Epoch 145/5300\n",
      "36/38 [===========================>..] - ETA: 0s - loss: 0.0956 - accuracy: 0.9685\n",
      "Epoch 145: saving model to model/keypoint_classifier\\keypoint_classifier.hdf5\n",
      "38/38 [==============================] - 0s 8ms/step - loss: 0.0956 - accuracy: 0.9686 - val_loss: 0.0735 - val_accuracy: 0.9863\n",
      "Epoch 146/5300\n",
      "34/38 [=========================>....] - ETA: 0s - loss: 0.0993 - accuracy: 0.9669\n",
      "Epoch 146: saving model to model/keypoint_classifier\\keypoint_classifier.hdf5\n",
      "38/38 [==============================] - 0s 11ms/step - loss: 0.1008 - accuracy: 0.9669 - val_loss: 0.0611 - val_accuracy: 0.9906\n",
      "Epoch 147/5300\n",
      "38/38 [==============================] - ETA: 0s - loss: 0.0924 - accuracy: 0.9706\n",
      "Epoch 147: saving model to model/keypoint_classifier\\keypoint_classifier.hdf5\n",
      "38/38 [==============================] - 0s 7ms/step - loss: 0.0924 - accuracy: 0.9706 - val_loss: 0.0601 - val_accuracy: 0.9913\n",
      "Epoch 148/5300\n",
      "37/38 [============================>.] - ETA: 0s - loss: 0.0831 - accuracy: 0.9759\n",
      "Epoch 148: saving model to model/keypoint_classifier\\keypoint_classifier.hdf5\n",
      "38/38 [==============================] - 0s 8ms/step - loss: 0.0840 - accuracy: 0.9754 - val_loss: 0.0598 - val_accuracy: 0.9931\n",
      "Epoch 149/5300\n",
      "32/38 [========================>.....] - ETA: 0s - loss: 0.0893 - accuracy: 0.9722\n",
      "Epoch 149: saving model to model/keypoint_classifier\\keypoint_classifier.hdf5\n",
      "38/38 [==============================] - 0s 6ms/step - loss: 0.0901 - accuracy: 0.9709 - val_loss: 0.0625 - val_accuracy: 0.9925\n",
      "Epoch 150/5300\n",
      "31/38 [=======================>......] - ETA: 0s - loss: 0.0910 - accuracy: 0.9700\n",
      "Epoch 150: saving model to model/keypoint_classifier\\keypoint_classifier.hdf5\n",
      "38/38 [==============================] - 0s 6ms/step - loss: 0.0927 - accuracy: 0.9702 - val_loss: 0.0621 - val_accuracy: 0.9925\n",
      "Epoch 151/5300\n",
      "37/38 [============================>.] - ETA: 0s - loss: 0.0844 - accuracy: 0.9734\n",
      "Epoch 151: saving model to model/keypoint_classifier\\keypoint_classifier.hdf5\n",
      "38/38 [==============================] - 0s 7ms/step - loss: 0.0836 - accuracy: 0.9736 - val_loss: 0.0610 - val_accuracy: 0.9925\n",
      "Epoch 152/5300\n",
      "36/38 [===========================>..] - ETA: 0s - loss: 0.0862 - accuracy: 0.9731\n",
      "Epoch 152: saving model to model/keypoint_classifier\\keypoint_classifier.hdf5\n",
      "38/38 [==============================] - 0s 7ms/step - loss: 0.0878 - accuracy: 0.9723 - val_loss: 0.0565 - val_accuracy: 0.9919\n",
      "Epoch 153/5300\n",
      "35/38 [==========================>...] - ETA: 0s - loss: 0.0847 - accuracy: 0.9739\n",
      "Epoch 153: saving model to model/keypoint_classifier\\keypoint_classifier.hdf5\n",
      "38/38 [==============================] - 0s 10ms/step - loss: 0.0901 - accuracy: 0.9723 - val_loss: 0.0626 - val_accuracy: 0.9888\n",
      "Epoch 154/5300\n",
      "35/38 [==========================>...] - ETA: 0s - loss: 0.0900 - accuracy: 0.9712\n",
      "Epoch 154: saving model to model/keypoint_classifier\\keypoint_classifier.hdf5\n",
      "38/38 [==============================] - 0s 9ms/step - loss: 0.0883 - accuracy: 0.9717 - val_loss: 0.0651 - val_accuracy: 0.9913\n",
      "Epoch 155/5300\n",
      "26/38 [===================>..........] - ETA: 0s - loss: 0.0941 - accuracy: 0.9715\n",
      "Epoch 155: saving model to model/keypoint_classifier\\keypoint_classifier.hdf5\n",
      "38/38 [==============================] - 0s 8ms/step - loss: 0.0900 - accuracy: 0.9731 - val_loss: 0.0583 - val_accuracy: 0.9944\n",
      "Epoch 156/5300\n",
      "29/38 [=====================>........] - ETA: 0s - loss: 0.0790 - accuracy: 0.9760\n",
      "Epoch 156: saving model to model/keypoint_classifier\\keypoint_classifier.hdf5\n",
      "38/38 [==============================] - 0s 6ms/step - loss: 0.0812 - accuracy: 0.9763 - val_loss: 0.0567 - val_accuracy: 0.9931\n",
      "Epoch 157/5300\n",
      "31/38 [=======================>......] - ETA: 0s - loss: 0.0816 - accuracy: 0.9751\n",
      "Epoch 157: saving model to model/keypoint_classifier\\keypoint_classifier.hdf5\n",
      "38/38 [==============================] - 0s 7ms/step - loss: 0.0863 - accuracy: 0.9736 - val_loss: 0.0535 - val_accuracy: 0.9931\n",
      "Epoch 158/5300\n",
      "37/38 [============================>.] - ETA: 0s - loss: 0.0810 - accuracy: 0.9738\n",
      "Epoch 158: saving model to model/keypoint_classifier\\keypoint_classifier.hdf5\n",
      "38/38 [==============================] - 0s 9ms/step - loss: 0.0815 - accuracy: 0.9736 - val_loss: 0.0582 - val_accuracy: 0.9931\n",
      "Epoch 159/5300\n",
      "32/38 [========================>.....] - ETA: 0s - loss: 0.0762 - accuracy: 0.9744\n",
      "Epoch 159: saving model to model/keypoint_classifier\\keypoint_classifier.hdf5\n",
      "38/38 [==============================] - 0s 11ms/step - loss: 0.0759 - accuracy: 0.9740 - val_loss: 0.0599 - val_accuracy: 0.9944\n",
      "Epoch 160/5300\n",
      "33/38 [=========================>....] - ETA: 0s - loss: 0.0813 - accuracy: 0.9714\n",
      "Epoch 160: saving model to model/keypoint_classifier\\keypoint_classifier.hdf5\n",
      "38/38 [==============================] - 0s 13ms/step - loss: 0.0814 - accuracy: 0.9717 - val_loss: 0.0561 - val_accuracy: 0.9938\n",
      "Epoch 161/5300\n",
      "37/38 [============================>.] - ETA: 0s - loss: 0.0893 - accuracy: 0.9719\n",
      "Epoch 161: saving model to model/keypoint_classifier\\keypoint_classifier.hdf5\n",
      "38/38 [==============================] - 0s 13ms/step - loss: 0.0893 - accuracy: 0.9717 - val_loss: 0.0564 - val_accuracy: 0.9938\n",
      "Epoch 162/5300\n",
      "37/38 [============================>.] - ETA: 0s - loss: 0.0868 - accuracy: 0.9736\n",
      "Epoch 162: saving model to model/keypoint_classifier\\keypoint_classifier.hdf5\n",
      "38/38 [==============================] - 0s 10ms/step - loss: 0.0869 - accuracy: 0.9733 - val_loss: 0.0527 - val_accuracy: 0.9925\n",
      "Epoch 163/5300\n",
      "30/38 [======================>.......] - ETA: 0s - loss: 0.0890 - accuracy: 0.9719\n",
      "Epoch 163: saving model to model/keypoint_classifier\\keypoint_classifier.hdf5\n",
      "38/38 [==============================] - 0s 7ms/step - loss: 0.0862 - accuracy: 0.9723 - val_loss: 0.0513 - val_accuracy: 0.9950\n"
     ]
    },
    {
     "name": "stdout",
     "output_type": "stream",
     "text": [
      "Epoch 164/5300\n",
      "35/38 [==========================>...] - ETA: 0s - loss: 0.0797 - accuracy: 0.9748\n",
      "Epoch 164: saving model to model/keypoint_classifier\\keypoint_classifier.hdf5\n",
      "38/38 [==============================] - 0s 12ms/step - loss: 0.0812 - accuracy: 0.9744 - val_loss: 0.0537 - val_accuracy: 0.9925\n",
      "Epoch 165/5300\n",
      "32/38 [========================>.....] - ETA: 0s - loss: 0.0835 - accuracy: 0.9756\n",
      "Epoch 165: saving model to model/keypoint_classifier\\keypoint_classifier.hdf5\n",
      "38/38 [==============================] - 0s 11ms/step - loss: 0.0822 - accuracy: 0.9754 - val_loss: 0.0537 - val_accuracy: 0.9925\n",
      "Epoch 166/5300\n",
      "36/38 [===========================>..] - ETA: 0s - loss: 0.0773 - accuracy: 0.9766\n",
      "Epoch 166: saving model to model/keypoint_classifier\\keypoint_classifier.hdf5\n",
      "38/38 [==============================] - 0s 8ms/step - loss: 0.0776 - accuracy: 0.9765 - val_loss: 0.0534 - val_accuracy: 0.9944\n",
      "Epoch 167/5300\n",
      "28/38 [=====================>........] - ETA: 0s - loss: 0.0748 - accuracy: 0.9774\n",
      "Epoch 167: saving model to model/keypoint_classifier\\keypoint_classifier.hdf5\n",
      "38/38 [==============================] - 0s 11ms/step - loss: 0.0740 - accuracy: 0.9769 - val_loss: 0.0550 - val_accuracy: 0.9938\n",
      "Epoch 168/5300\n",
      "29/38 [=====================>........] - ETA: 0s - loss: 0.0812 - accuracy: 0.9758\n",
      "Epoch 168: saving model to model/keypoint_classifier\\keypoint_classifier.hdf5\n",
      "38/38 [==============================] - 0s 10ms/step - loss: 0.0819 - accuracy: 0.9740 - val_loss: 0.0613 - val_accuracy: 0.9925\n",
      "Epoch 169/5300\n",
      "33/38 [=========================>....] - ETA: 0s - loss: 0.0851 - accuracy: 0.9699\n",
      "Epoch 169: saving model to model/keypoint_classifier\\keypoint_classifier.hdf5\n",
      "38/38 [==============================] - 0s 11ms/step - loss: 0.0822 - accuracy: 0.9717 - val_loss: 0.0527 - val_accuracy: 0.9919\n",
      "Epoch 170/5300\n",
      "36/38 [===========================>..] - ETA: 0s - loss: 0.0785 - accuracy: 0.9731\n",
      "Epoch 170: saving model to model/keypoint_classifier\\keypoint_classifier.hdf5\n",
      "38/38 [==============================] - 0s 5ms/step - loss: 0.0764 - accuracy: 0.9742 - val_loss: 0.0533 - val_accuracy: 0.9950\n",
      "Epoch 171/5300\n",
      "38/38 [==============================] - ETA: 0s - loss: 0.0719 - accuracy: 0.9783\n",
      "Epoch 171: saving model to model/keypoint_classifier\\keypoint_classifier.hdf5\n",
      "38/38 [==============================] - 0s 7ms/step - loss: 0.0719 - accuracy: 0.9783 - val_loss: 0.0672 - val_accuracy: 0.9913\n",
      "Epoch 172/5300\n",
      "28/38 [=====================>........] - ETA: 0s - loss: 0.0727 - accuracy: 0.9757\n",
      "Epoch 172: saving model to model/keypoint_classifier\\keypoint_classifier.hdf5\n",
      "38/38 [==============================] - 0s 7ms/step - loss: 0.0738 - accuracy: 0.9750 - val_loss: 0.0541 - val_accuracy: 0.9913\n",
      "Epoch 173/5300\n",
      "38/38 [==============================] - ETA: 0s - loss: 0.0712 - accuracy: 0.9790\n",
      "Epoch 173: saving model to model/keypoint_classifier\\keypoint_classifier.hdf5\n",
      "38/38 [==============================] - 0s 7ms/step - loss: 0.0712 - accuracy: 0.9790 - val_loss: 0.0480 - val_accuracy: 0.9944\n",
      "Epoch 174/5300\n",
      "31/38 [=======================>......] - ETA: 0s - loss: 0.0671 - accuracy: 0.9801\n",
      "Epoch 174: saving model to model/keypoint_classifier\\keypoint_classifier.hdf5\n",
      "38/38 [==============================] - 0s 8ms/step - loss: 0.0665 - accuracy: 0.9808 - val_loss: 0.0495 - val_accuracy: 0.9931\n",
      "Epoch 175/5300\n",
      "33/38 [=========================>....] - ETA: 0s - loss: 0.0676 - accuracy: 0.9792\n",
      "Epoch 175: saving model to model/keypoint_classifier\\keypoint_classifier.hdf5\n",
      "38/38 [==============================] - 1s 14ms/step - loss: 0.0665 - accuracy: 0.9798 - val_loss: 0.0493 - val_accuracy: 0.9919\n",
      "Epoch 176/5300\n",
      "37/38 [============================>.] - ETA: 0s - loss: 0.0770 - accuracy: 0.9734\n",
      "Epoch 176: saving model to model/keypoint_classifier\\keypoint_classifier.hdf5\n",
      "38/38 [==============================] - 1s 15ms/step - loss: 0.0773 - accuracy: 0.9731 - val_loss: 0.0533 - val_accuracy: 0.9938\n",
      "Epoch 177/5300\n",
      "38/38 [==============================] - ETA: 0s - loss: 0.0708 - accuracy: 0.9790\n",
      "Epoch 177: saving model to model/keypoint_classifier\\keypoint_classifier.hdf5\n",
      "38/38 [==============================] - 1s 15ms/step - loss: 0.0708 - accuracy: 0.9790 - val_loss: 0.0499 - val_accuracy: 0.9944\n",
      "Epoch 178/5300\n",
      "34/38 [=========================>....] - ETA: 0s - loss: 0.0733 - accuracy: 0.9759\n",
      "Epoch 178: saving model to model/keypoint_classifier\\keypoint_classifier.hdf5\n",
      "38/38 [==============================] - 1s 18ms/step - loss: 0.0718 - accuracy: 0.9767 - val_loss: 0.0502 - val_accuracy: 0.9938\n",
      "Epoch 179/5300\n",
      "34/38 [=========================>....] - ETA: 0s - loss: 0.0733 - accuracy: 0.9763\n",
      "Epoch 179: saving model to model/keypoint_classifier\\keypoint_classifier.hdf5\n",
      "38/38 [==============================] - 1s 16ms/step - loss: 0.0715 - accuracy: 0.9773 - val_loss: 0.0552 - val_accuracy: 0.9894\n",
      "Epoch 180/5300\n",
      "38/38 [==============================] - ETA: 0s - loss: 0.0717 - accuracy: 0.9767\n",
      "Epoch 180: saving model to model/keypoint_classifier\\keypoint_classifier.hdf5\n",
      "38/38 [==============================] - 1s 16ms/step - loss: 0.0717 - accuracy: 0.9767 - val_loss: 0.0535 - val_accuracy: 0.9931\n",
      "Epoch 181/5300\n",
      "36/38 [===========================>..] - ETA: 0s - loss: 0.0677 - accuracy: 0.9811\n",
      "Epoch 181: saving model to model/keypoint_classifier\\keypoint_classifier.hdf5\n",
      "38/38 [==============================] - 1s 15ms/step - loss: 0.0668 - accuracy: 0.9815 - val_loss: 0.0472 - val_accuracy: 0.9931\n",
      "Epoch 182/5300\n",
      "37/38 [============================>.] - ETA: 0s - loss: 0.0716 - accuracy: 0.9785\n",
      "Epoch 182: saving model to model/keypoint_classifier\\keypoint_classifier.hdf5\n",
      "38/38 [==============================] - 1s 14ms/step - loss: 0.0719 - accuracy: 0.9786 - val_loss: 0.0529 - val_accuracy: 0.9913\n",
      "Epoch 183/5300\n",
      "38/38 [==============================] - ETA: 0s - loss: 0.0643 - accuracy: 0.9804\n",
      "Epoch 183: saving model to model/keypoint_classifier\\keypoint_classifier.hdf5\n",
      "38/38 [==============================] - 1s 14ms/step - loss: 0.0643 - accuracy: 0.9804 - val_loss: 0.0499 - val_accuracy: 0.9938\n",
      "Epoch 184/5300\n",
      "32/38 [========================>.....] - ETA: 0s - loss: 0.0650 - accuracy: 0.9795\n",
      "Epoch 184: saving model to model/keypoint_classifier\\keypoint_classifier.hdf5\n",
      "38/38 [==============================] - 1s 14ms/step - loss: 0.0671 - accuracy: 0.9786 - val_loss: 0.0584 - val_accuracy: 0.9913\n",
      "Epoch 185/5300\n",
      "36/38 [===========================>..] - ETA: 0s - loss: 0.0671 - accuracy: 0.9798\n",
      "Epoch 185: saving model to model/keypoint_classifier\\keypoint_classifier.hdf5\n",
      "38/38 [==============================] - 1s 15ms/step - loss: 0.0675 - accuracy: 0.9796 - val_loss: 0.0483 - val_accuracy: 0.9944\n",
      "Epoch 186/5300\n",
      "33/38 [=========================>....] - ETA: 0s - loss: 0.0704 - accuracy: 0.9766\n",
      "Epoch 186: saving model to model/keypoint_classifier\\keypoint_classifier.hdf5\n",
      "38/38 [==============================] - 0s 13ms/step - loss: 0.0687 - accuracy: 0.9769 - val_loss: 0.0536 - val_accuracy: 0.9950\n",
      "Epoch 187/5300\n",
      "30/38 [======================>.......] - ETA: 0s - loss: 0.0697 - accuracy: 0.9781\n",
      "Epoch 187: saving model to model/keypoint_classifier\\keypoint_classifier.hdf5\n",
      "38/38 [==============================] - 0s 6ms/step - loss: 0.0693 - accuracy: 0.9786 - val_loss: 0.0529 - val_accuracy: 0.9919\n",
      "Epoch 188/5300\n",
      "29/38 [=====================>........] - ETA: 0s - loss: 0.0605 - accuracy: 0.9830\n",
      "Epoch 188: saving model to model/keypoint_classifier\\keypoint_classifier.hdf5\n",
      "38/38 [==============================] - 0s 6ms/step - loss: 0.0605 - accuracy: 0.9829 - val_loss: 0.0441 - val_accuracy: 0.9956\n",
      "Epoch 189/5300\n",
      "37/38 [============================>.] - ETA: 0s - loss: 0.0722 - accuracy: 0.9785\n",
      "Epoch 189: saving model to model/keypoint_classifier\\keypoint_classifier.hdf5\n",
      "38/38 [==============================] - 0s 7ms/step - loss: 0.0723 - accuracy: 0.9786 - val_loss: 0.0444 - val_accuracy: 0.9950\n",
      "Epoch 190/5300\n",
      "32/38 [========================>.....] - ETA: 0s - loss: 0.0691 - accuracy: 0.9807\n",
      "Epoch 190: saving model to model/keypoint_classifier\\keypoint_classifier.hdf5\n",
      "38/38 [==============================] - 0s 6ms/step - loss: 0.0703 - accuracy: 0.9798 - val_loss: 0.0539 - val_accuracy: 0.9925\n"
     ]
    },
    {
     "name": "stdout",
     "output_type": "stream",
     "text": [
      "Epoch 191/5300\n",
      "38/38 [==============================] - ETA: 0s - loss: 0.0709 - accuracy: 0.9786\n",
      "Epoch 191: saving model to model/keypoint_classifier\\keypoint_classifier.hdf5\n",
      "38/38 [==============================] - 0s 8ms/step - loss: 0.0709 - accuracy: 0.9786 - val_loss: 0.0515 - val_accuracy: 0.9931\n",
      "Epoch 192/5300\n",
      "33/38 [=========================>....] - ETA: 0s - loss: 0.0680 - accuracy: 0.9785\n",
      "Epoch 192: saving model to model/keypoint_classifier\\keypoint_classifier.hdf5\n",
      "38/38 [==============================] - 0s 7ms/step - loss: 0.0723 - accuracy: 0.9773 - val_loss: 0.0475 - val_accuracy: 0.9938\n",
      "Epoch 193/5300\n",
      "31/38 [=======================>......] - ETA: 0s - loss: 0.0600 - accuracy: 0.9831\n",
      "Epoch 193: saving model to model/keypoint_classifier\\keypoint_classifier.hdf5\n",
      "38/38 [==============================] - 0s 10ms/step - loss: 0.0607 - accuracy: 0.9819 - val_loss: 0.0528 - val_accuracy: 0.9944\n",
      "Epoch 194/5300\n",
      "37/38 [============================>.] - ETA: 0s - loss: 0.0685 - accuracy: 0.9804\n",
      "Epoch 194: saving model to model/keypoint_classifier\\keypoint_classifier.hdf5\n",
      "38/38 [==============================] - 0s 7ms/step - loss: 0.0681 - accuracy: 0.9806 - val_loss: 0.0446 - val_accuracy: 0.9950\n",
      "Epoch 195/5300\n",
      "31/38 [=======================>......] - ETA: 0s - loss: 0.0644 - accuracy: 0.9798\n",
      "Epoch 195: saving model to model/keypoint_classifier\\keypoint_classifier.hdf5\n",
      "38/38 [==============================] - 0s 11ms/step - loss: 0.0686 - accuracy: 0.9771 - val_loss: 0.0506 - val_accuracy: 0.9938\n",
      "Epoch 196/5300\n",
      "36/38 [===========================>..] - ETA: 0s - loss: 0.0688 - accuracy: 0.9792\n",
      "Epoch 196: saving model to model/keypoint_classifier\\keypoint_classifier.hdf5\n",
      "38/38 [==============================] - 1s 13ms/step - loss: 0.0701 - accuracy: 0.9790 - val_loss: 0.0516 - val_accuracy: 0.9931\n",
      "Epoch 197/5300\n",
      "33/38 [=========================>....] - ETA: 0s - loss: 0.0736 - accuracy: 0.9787\n",
      "Epoch 197: saving model to model/keypoint_classifier\\keypoint_classifier.hdf5\n",
      "38/38 [==============================] - 0s 12ms/step - loss: 0.0735 - accuracy: 0.9783 - val_loss: 0.0462 - val_accuracy: 0.9944\n",
      "Epoch 198/5300\n",
      "37/38 [============================>.] - ETA: 0s - loss: 0.0629 - accuracy: 0.9802\n",
      "Epoch 198: saving model to model/keypoint_classifier\\keypoint_classifier.hdf5\n",
      "38/38 [==============================] - 0s 13ms/step - loss: 0.0632 - accuracy: 0.9800 - val_loss: 0.0459 - val_accuracy: 0.9956\n",
      "Epoch 199/5300\n",
      "30/38 [======================>.......] - ETA: 0s - loss: 0.0687 - accuracy: 0.9776\n",
      "Epoch 199: saving model to model/keypoint_classifier\\keypoint_classifier.hdf5\n",
      "38/38 [==============================] - 0s 9ms/step - loss: 0.0711 - accuracy: 0.9763 - val_loss: 0.0469 - val_accuracy: 0.9944\n",
      "Epoch 200/5300\n",
      "28/38 [=====================>........] - ETA: 0s - loss: 0.0611 - accuracy: 0.9824\n",
      "Epoch 200: saving model to model/keypoint_classifier\\keypoint_classifier.hdf5\n",
      "38/38 [==============================] - 0s 8ms/step - loss: 0.0605 - accuracy: 0.9819 - val_loss: 0.0475 - val_accuracy: 0.9931\n",
      "Epoch 201/5300\n",
      "27/38 [====================>.........] - ETA: 0s - loss: 0.0612 - accuracy: 0.9823\n",
      "Epoch 201: saving model to model/keypoint_classifier\\keypoint_classifier.hdf5\n",
      "38/38 [==============================] - 0s 8ms/step - loss: 0.0556 - accuracy: 0.9838 - val_loss: 0.0476 - val_accuracy: 0.9950\n",
      "Epoch 202/5300\n",
      "32/38 [========================>.....] - ETA: 0s - loss: 0.0521 - accuracy: 0.9822\n",
      "Epoch 202: saving model to model/keypoint_classifier\\keypoint_classifier.hdf5\n",
      "38/38 [==============================] - 0s 10ms/step - loss: 0.0514 - accuracy: 0.9823 - val_loss: 0.0516 - val_accuracy: 0.9925\n",
      "Epoch 203/5300\n",
      "33/38 [=========================>....] - ETA: 0s - loss: 0.0613 - accuracy: 0.9832\n",
      "Epoch 203: saving model to model/keypoint_classifier\\keypoint_classifier.hdf5\n",
      "38/38 [==============================] - 0s 10ms/step - loss: 0.0593 - accuracy: 0.9838 - val_loss: 0.0491 - val_accuracy: 0.9944\n",
      "Epoch 204/5300\n",
      "29/38 [=====================>........] - ETA: 0s - loss: 0.0618 - accuracy: 0.9776\n",
      "Epoch 204: saving model to model/keypoint_classifier\\keypoint_classifier.hdf5\n",
      "38/38 [==============================] - 0s 6ms/step - loss: 0.0604 - accuracy: 0.9781 - val_loss: 0.0512 - val_accuracy: 0.9944\n",
      "Epoch 205/5300\n",
      "38/38 [==============================] - ETA: 0s - loss: 0.0565 - accuracy: 0.9825\n",
      "Epoch 205: saving model to model/keypoint_classifier\\keypoint_classifier.hdf5\n",
      "38/38 [==============================] - 0s 8ms/step - loss: 0.0565 - accuracy: 0.9825 - val_loss: 0.0470 - val_accuracy: 0.9931\n",
      "Epoch 206/5300\n",
      "32/38 [========================>.....] - ETA: 0s - loss: 0.0636 - accuracy: 0.9814\n",
      "Epoch 206: saving model to model/keypoint_classifier\\keypoint_classifier.hdf5\n",
      "38/38 [==============================] - 0s 9ms/step - loss: 0.0624 - accuracy: 0.9823 - val_loss: 0.0489 - val_accuracy: 0.9938\n",
      "Epoch 207/5300\n",
      "27/38 [====================>.........] - ETA: 0s - loss: 0.0559 - accuracy: 0.9829\n",
      "Epoch 207: saving model to model/keypoint_classifier\\keypoint_classifier.hdf5\n",
      "38/38 [==============================] - 0s 7ms/step - loss: 0.0545 - accuracy: 0.9840 - val_loss: 0.0429 - val_accuracy: 0.9956\n",
      "Epoch 208/5300\n",
      "37/38 [============================>.] - ETA: 0s - loss: 0.0759 - accuracy: 0.9776\n",
      "Epoch 208: saving model to model/keypoint_classifier\\keypoint_classifier.hdf5\n",
      "38/38 [==============================] - 0s 7ms/step - loss: 0.0758 - accuracy: 0.9777 - val_loss: 0.0500 - val_accuracy: 0.9938\n",
      "Epoch 209/5300\n",
      "38/38 [==============================] - ETA: 0s - loss: 0.0631 - accuracy: 0.9800\n",
      "Epoch 209: saving model to model/keypoint_classifier\\keypoint_classifier.hdf5\n",
      "38/38 [==============================] - 0s 13ms/step - loss: 0.0631 - accuracy: 0.9800 - val_loss: 0.0505 - val_accuracy: 0.9919\n",
      "Epoch 210/5300\n",
      "33/38 [=========================>....] - ETA: 0s - loss: 0.0714 - accuracy: 0.9742\n",
      "Epoch 210: saving model to model/keypoint_classifier\\keypoint_classifier.hdf5\n",
      "38/38 [==============================] - 1s 14ms/step - loss: 0.0692 - accuracy: 0.9748 - val_loss: 0.0542 - val_accuracy: 0.9938\n",
      "Epoch 211/5300\n",
      "35/38 [==========================>...] - ETA: 0s - loss: 0.0674 - accuracy: 0.9788\n",
      "Epoch 211: saving model to model/keypoint_classifier\\keypoint_classifier.hdf5\n",
      "38/38 [==============================] - 1s 17ms/step - loss: 0.0658 - accuracy: 0.9796 - val_loss: 0.0508 - val_accuracy: 0.9944\n",
      "Epoch 212/5300\n",
      "36/38 [===========================>..] - ETA: 0s - loss: 0.0650 - accuracy: 0.9796\n",
      "Epoch 212: saving model to model/keypoint_classifier\\keypoint_classifier.hdf5\n",
      "38/38 [==============================] - 1s 15ms/step - loss: 0.0648 - accuracy: 0.9796 - val_loss: 0.0463 - val_accuracy: 0.9944\n",
      "Epoch 213/5300\n",
      "35/38 [==========================>...] - ETA: 0s - loss: 0.0546 - accuracy: 0.9815\n",
      "Epoch 213: saving model to model/keypoint_classifier\\keypoint_classifier.hdf5\n",
      "38/38 [==============================] - 1s 15ms/step - loss: 0.0544 - accuracy: 0.9821 - val_loss: 0.0474 - val_accuracy: 0.9931\n",
      "Epoch 214/5300\n",
      "37/38 [============================>.] - ETA: 0s - loss: 0.0573 - accuracy: 0.9810\n",
      "Epoch 214: saving model to model/keypoint_classifier\\keypoint_classifier.hdf5\n",
      "38/38 [==============================] - 1s 15ms/step - loss: 0.0582 - accuracy: 0.9806 - val_loss: 0.0509 - val_accuracy: 0.9938\n",
      "Epoch 215/5300\n",
      "32/38 [========================>.....] - ETA: 0s - loss: 0.0639 - accuracy: 0.9783\n",
      "Epoch 215: saving model to model/keypoint_classifier\\keypoint_classifier.hdf5\n",
      "38/38 [==============================] - 1s 14ms/step - loss: 0.0616 - accuracy: 0.9798 - val_loss: 0.0586 - val_accuracy: 0.9913\n",
      "Epoch 216/5300\n",
      "32/38 [========================>.....] - ETA: 0s - loss: 0.0643 - accuracy: 0.9790\n",
      "Epoch 216: saving model to model/keypoint_classifier\\keypoint_classifier.hdf5\n",
      "38/38 [==============================] - 1s 16ms/step - loss: 0.0679 - accuracy: 0.9788 - val_loss: 0.0504 - val_accuracy: 0.9944\n",
      "Epoch 217/5300\n",
      "38/38 [==============================] - ETA: 0s - loss: 0.0624 - accuracy: 0.9796\n",
      "Epoch 217: saving model to model/keypoint_classifier\\keypoint_classifier.hdf5\n",
      "38/38 [==============================] - 1s 14ms/step - loss: 0.0624 - accuracy: 0.9796 - val_loss: 0.0492 - val_accuracy: 0.9944\n"
     ]
    },
    {
     "name": "stdout",
     "output_type": "stream",
     "text": [
      "Epoch 218/5300\n",
      "35/38 [==========================>...] - ETA: 0s - loss: 0.0589 - accuracy: 0.9821\n",
      "Epoch 218: saving model to model/keypoint_classifier\\keypoint_classifier.hdf5\n",
      "38/38 [==============================] - 1s 15ms/step - loss: 0.0579 - accuracy: 0.9825 - val_loss: 0.0526 - val_accuracy: 0.9919\n",
      "Epoch 219/5300\n",
      "38/38 [==============================] - ETA: 0s - loss: 0.0603 - accuracy: 0.9798\n",
      "Epoch 219: saving model to model/keypoint_classifier\\keypoint_classifier.hdf5\n",
      "38/38 [==============================] - 1s 16ms/step - loss: 0.0603 - accuracy: 0.9798 - val_loss: 0.0499 - val_accuracy: 0.9944\n",
      "Epoch 220/5300\n",
      "31/38 [=======================>......] - ETA: 0s - loss: 0.0499 - accuracy: 0.9831\n",
      "Epoch 220: saving model to model/keypoint_classifier\\keypoint_classifier.hdf5\n",
      "38/38 [==============================] - 0s 9ms/step - loss: 0.0488 - accuracy: 0.9833 - val_loss: 0.0474 - val_accuracy: 0.9950\n",
      "Epoch 221/5300\n",
      "34/38 [=========================>....] - ETA: 0s - loss: 0.0484 - accuracy: 0.9841\n",
      "Epoch 221: saving model to model/keypoint_classifier\\keypoint_classifier.hdf5\n",
      "38/38 [==============================] - 0s 7ms/step - loss: 0.0496 - accuracy: 0.9836 - val_loss: 0.0571 - val_accuracy: 0.9931\n",
      "Epoch 222/5300\n",
      "38/38 [==============================] - ETA: 0s - loss: 0.0513 - accuracy: 0.9840\n",
      "Epoch 222: saving model to model/keypoint_classifier\\keypoint_classifier.hdf5\n",
      "38/38 [==============================] - 0s 7ms/step - loss: 0.0513 - accuracy: 0.9840 - val_loss: 0.0499 - val_accuracy: 0.9950\n",
      "Epoch 223/5300\n",
      "33/38 [=========================>....] - ETA: 0s - loss: 0.0625 - accuracy: 0.9799\n",
      "Epoch 223: saving model to model/keypoint_classifier\\keypoint_classifier.hdf5\n",
      "38/38 [==============================] - 0s 11ms/step - loss: 0.0610 - accuracy: 0.9804 - val_loss: 0.0549 - val_accuracy: 0.9938\n",
      "Epoch 224/5300\n",
      "35/38 [==========================>...] - ETA: 0s - loss: 0.0523 - accuracy: 0.9835\n",
      "Epoch 224: saving model to model/keypoint_classifier\\keypoint_classifier.hdf5\n",
      "38/38 [==============================] - 0s 12ms/step - loss: 0.0522 - accuracy: 0.9838 - val_loss: 0.0512 - val_accuracy: 0.9956\n",
      "Epoch 225/5300\n",
      "25/38 [==================>...........] - ETA: 0s - loss: 0.0645 - accuracy: 0.9819\n",
      "Epoch 225: saving model to model/keypoint_classifier\\keypoint_classifier.hdf5\n",
      "38/38 [==============================] - 0s 7ms/step - loss: 0.0638 - accuracy: 0.9819 - val_loss: 0.0551 - val_accuracy: 0.9913\n",
      "Epoch 226/5300\n",
      "38/38 [==============================] - ETA: 0s - loss: 0.0492 - accuracy: 0.9831\n",
      "Epoch 226: saving model to model/keypoint_classifier\\keypoint_classifier.hdf5\n",
      "38/38 [==============================] - 0s 7ms/step - loss: 0.0492 - accuracy: 0.9831 - val_loss: 0.0490 - val_accuracy: 0.9956\n",
      "Epoch 227/5300\n",
      "28/38 [=====================>........] - ETA: 0s - loss: 0.0521 - accuracy: 0.9830\n",
      "Epoch 227: saving model to model/keypoint_classifier\\keypoint_classifier.hdf5\n",
      "38/38 [==============================] - 0s 7ms/step - loss: 0.0518 - accuracy: 0.9833 - val_loss: 0.0465 - val_accuracy: 0.9950\n",
      "Epoch 227: early stopping\n"
     ]
    },
    {
     "data": {
      "text/plain": [
       "<keras.src.callbacks.History at 0x1a804424400>"
      ]
     },
     "execution_count": 38,
     "metadata": {},
     "output_type": "execute_result"
    }
   ],
   "source": [
    "model.fit(\n",
    "    X_train,\n",
    "    y_train,\n",
    "    epochs=100*NUM_CLASSES,\n",
    "    batch_size=128,\n",
    "    validation_data=(X_test, y_test),\n",
    "    callbacks=[cp_callback, es_callback]\n",
    ")"
   ]
  },
  {
   "cell_type": "code",
   "execution_count": 39,
   "metadata": {
    "colab": {
     "base_uri": "https://localhost:8080/"
    },
    "id": "pxvb2Y299hE3",
    "outputId": "59eb3185-2e37-4b9e-bc9d-ab1b8ac29b7f"
   },
   "outputs": [
    {
     "name": "stdout",
     "output_type": "stream",
     "text": [
      "13/13 [==============================] - 0s 3ms/step - loss: 0.0465 - accuracy: 0.9950\n"
     ]
    }
   ],
   "source": [
    "# Model evaluation\n",
    "val_loss, val_acc = model.evaluate(X_test, y_test, batch_size=128)"
   ]
  },
  {
   "cell_type": "code",
   "execution_count": 40,
   "metadata": {
    "id": "RBkmDeUW9hE4"
   },
   "outputs": [],
   "source": [
    "# Loading the saved model\n",
    "model = tf.keras.models.load_model(model_save_path)"
   ]
  },
  {
   "cell_type": "code",
   "execution_count": 41,
   "metadata": {
    "colab": {
     "base_uri": "https://localhost:8080/"
    },
    "id": "tFz9Tb0I9hE4",
    "outputId": "1c3b3528-54ae-4ee2-ab04-77429211cbef"
   },
   "outputs": [
    {
     "name": "stdout",
     "output_type": "stream",
     "text": [
      "1/1 [==============================] - 0s 128ms/step\n",
      "[2.81111561e-08 6.57454692e-16 1.59260816e-11 4.71201744e-08\n",
      " 8.43407755e-13 1.76920651e-07 1.31149545e-05 5.44740909e-18\n",
      " 8.92398135e-12 1.81575831e-11 6.12879081e-10 2.25658601e-04\n",
      " 2.13704983e-24 2.34126718e-10 1.18597319e-11 4.81067896e-18\n",
      " 1.70377601e-12 2.40330935e-16 1.28691512e-22 6.28015125e-18\n",
      " 9.99756753e-01 6.44549279e-23 2.63258723e-26 2.43634314e-11\n",
      " 4.27837358e-06 2.39294579e-15 1.54267323e-18 1.29566739e-16\n",
      " 7.77724944e-13 2.88693175e-20 6.96402802e-16 1.16697183e-30\n",
      " 2.14666574e-32 1.00174086e-32 2.23300301e-19 9.37652852e-15\n",
      " 2.25173160e-08 5.68310850e-11 1.19527081e-14 2.23860952e-09\n",
      " 5.01253150e-19 6.91176398e-22 2.17524914e-21 1.79383522e-10\n",
      " 6.67151948e-14 2.45494077e-15 2.62941888e-31 3.20176224e-29\n",
      " 9.78459927e-20 4.87545151e-14 2.38930212e-11 3.29893710e-23\n",
      " 3.66742185e-15]\n",
      "20\n"
     ]
    }
   ],
   "source": [
    "# Inference test\n",
    "predict_result = model.predict(np.array([X_test[0]]))\n",
    "print(np.squeeze(predict_result))\n",
    "print(np.argmax(np.squeeze(predict_result)))"
   ]
  },
  {
   "cell_type": "markdown",
   "metadata": {
    "id": "S3U4yNWx9hE4"
   },
   "source": [
    "# Confusion matrix"
   ]
  },
  {
   "cell_type": "code",
   "execution_count": 42,
   "metadata": {
    "colab": {
     "base_uri": "https://localhost:8080/",
     "height": 582
    },
    "id": "AP1V6SCk9hE5",
    "outputId": "08e41a80-7a4a-4619-8125-ecc371368d19"
   },
   "outputs": [
    {
     "name": "stdout",
     "output_type": "stream",
     "text": [
      "51/51 [==============================] - 0s 2ms/step\n"
     ]
    },
    {
     "data": {
      "image/png": "[encoded data removed]",
      "text/plain": [
       "<Figure size 700x600 with 2 Axes>"
      ]
     },
     "metadata": {},
     "output_type": "display_data"
    },
    {
     "name": "stdout",
     "output_type": "stream",
     "text": [
      "Classification Report\n",
      "              precision    recall  f1-score   support\n",
      "\n",
      "           0       1.00      1.00      1.00        30\n",
      "           1       1.00      1.00      1.00        42\n",
      "           2       0.97      1.00      0.99        66\n",
      "           3       0.98      1.00      0.99        44\n",
      "           4       0.98      0.98      0.98        46\n",
      "           5       1.00      1.00      1.00        33\n",
      "           6       0.97      1.00      0.99        33\n",
      "           7       1.00      1.00      1.00        21\n",
      "           8       0.97      1.00      0.98        31\n",
      "           9       1.00      1.00      1.00        34\n",
      "          10       0.96      1.00      0.98        24\n",
      "          11       1.00      1.00      1.00        31\n",
      "          12       1.00      1.00      1.00        31\n",
      "          13       1.00      1.00      1.00        32\n",
      "          14       1.00      0.96      0.98        25\n",
      "          15       1.00      1.00      1.00        40\n",
      "          16       1.00      0.96      0.98        24\n",
      "          17       1.00      1.00      1.00        24\n",
      "          18       1.00      0.96      0.98        23\n",
      "          19       1.00      1.00      1.00        27\n",
      "          20       1.00      1.00      1.00        22\n",
      "          21       1.00      1.00      1.00        33\n",
      "          22       1.00      1.00      1.00        28\n",
      "          23       1.00      1.00      1.00        28\n",
      "          24       1.00      0.97      0.99        36\n",
      "          25       1.00      1.00      1.00        27\n",
      "          26       1.00      1.00      1.00        30\n",
      "          27       1.00      1.00      1.00        26\n",
      "          28       1.00      1.00      1.00        26\n",
      "          29       1.00      1.00      1.00        34\n",
      "          30       1.00      1.00      1.00        22\n",
      "          31       1.00      1.00      1.00        28\n",
      "          32       1.00      1.00      1.00        34\n",
      "          33       1.00      1.00      1.00        26\n",
      "          34       1.00      1.00      1.00        30\n",
      "          35       1.00      1.00      1.00        24\n",
      "          36       1.00      1.00      1.00        35\n",
      "          37       1.00      0.97      0.98        29\n",
      "          38       1.00      1.00      1.00        28\n",
      "          39       1.00      1.00      1.00        33\n",
      "          40       1.00      0.97      0.99        34\n",
      "          41       1.00      1.00      1.00        20\n",
      "          42       1.00      1.00      1.00        32\n",
      "          43       1.00      0.97      0.99        34\n",
      "          44       1.00      1.00      1.00        28\n",
      "          45       1.00      1.00      1.00        29\n",
      "          46       1.00      1.00      1.00        21\n",
      "          47       1.00      1.00      1.00        23\n",
      "          48       1.00      1.00      1.00        30\n",
      "          49       1.00      1.00      1.00        34\n",
      "          50       1.00      1.00      1.00        29\n",
      "          51       1.00      1.00      1.00        23\n",
      "          52       0.96      1.00      0.98        24\n",
      "\n",
      "    accuracy                           1.00      1601\n",
      "   macro avg       1.00      0.99      1.00      1601\n",
      "weighted avg       1.00      1.00      0.99      1601\n",
      "\n"
     ]
    }
   ],
   "source": [
    "import pandas as pd\n",
    "import seaborn as sns\n",
    "import matplotlib.pyplot as plt\n",
    "from sklearn.metrics import confusion_matrix, classification_report\n",
    "\n",
    "def print_confusion_matrix(y_true, y_pred, report=True):\n",
    "    labels = sorted(list(set(y_true)))\n",
    "    cmx_data = confusion_matrix(y_true, y_pred, labels=labels)\n",
    "    \n",
    "    df_cmx = pd.DataFrame(cmx_data, index=labels, columns=labels)\n",
    " \n",
    "    fig, ax = plt.subplots(figsize=(7, 6))\n",
    "    sns.heatmap(df_cmx, annot=True, fmt='g' ,square=False)\n",
    "    ax.set_ylim(len(set(y_true)), 0)\n",
    "    plt.show()\n",
    "    \n",
    "    if report:\n",
    "        print('Classification Report')\n",
    "        print(classification_report(y_test, y_pred))\n",
    "\n",
    "Y_pred = model.predict(X_test)\n",
    "y_pred = np.argmax(Y_pred, axis=1)\n",
    "\n",
    "print_confusion_matrix(y_test, y_pred)"
   ]
  },
  {
   "cell_type": "markdown",
   "metadata": {
    "id": "FNP6aqzc9hE5"
   },
   "source": [
    "# Convert to model for Tensorflow-Lite"
   ]
  },
  {
   "cell_type": "code",
   "execution_count": 43,
   "metadata": {
    "id": "ODjnYyld9hE6"
   },
   "outputs": [
    {
     "name": "stderr",
     "output_type": "stream",
     "text": [
      "C:\\Users\\Sanjay\\AppData\\Local\\Programs\\Python\\Python39\\lib\\site-packages\\keras\\src\\engine\\training.py:3000: UserWarning: You are saving your model as an HDF5 file via `model.save()`. This file format is considered legacy. We recommend using instead the native Keras format, e.g. `model.save('my_model.keras')`.\n",
      "  saving_api.save_model(\n"
     ]
    }
   ],
   "source": [
    "# Save as a model dedicated to inference\n",
    "model.save(model_save_path, include_optimizer=False)"
   ]
  },
  {
   "cell_type": "code",
   "execution_count": 44,
   "metadata": {
    "colab": {
     "base_uri": "https://localhost:8080/"
    },
    "id": "zRfuK8Y59hE6",
    "outputId": "a4ca585c-b5d5-4244-8291-8674063209bb"
   },
   "outputs": [
    {
     "name": "stdout",
     "output_type": "stream",
     "text": [
      "INFO:tensorflow:Assets written to: C:\\Users\\Sanjay\\AppData\\Local\\Temp\\tmpibfp6a42\\assets\n"
     ]
    },
    {
     "name": "stderr",
     "output_type": "stream",
     "text": [
      "INFO:tensorflow:Assets written to: C:\\Users\\Sanjay\\AppData\\Local\\Temp\\tmpibfp6a42\\assets\n"
     ]
    },
    {
     "data": {
      "text/plain": [
       "26392"
      ]
     },
     "execution_count": 44,
     "metadata": {},
     "output_type": "execute_result"
    }
   ],
   "source": [
    "# Transform model (quantization)\n",
    "\n",
    "converter = tf.lite.TFLiteConverter.from_keras_model(model)\n",
    "converter.optimizations = [tf.lite.Optimize.DEFAULT]\n",
    "tflite_quantized_model = converter.convert()\n",
    "\n",
    "open(tflite_save_path, 'wb').write(tflite_quantized_model)"
   ]
  },
  {
   "cell_type": "markdown",
   "metadata": {
    "id": "CHBPBXdx9hE6"
   },
   "source": [
    "# Inference test"
   ]
  },
  {
   "cell_type": "code",
   "execution_count": 45,
   "metadata": {
    "id": "mGAzLocO9hE7"
   },
   "outputs": [],
   "source": [
    "interpreter = tf.lite.Interpreter(model_path=tflite_save_path)\n",
    "interpreter.allocate_tensors()"
   ]
  },
  {
   "cell_type": "code",
   "execution_count": 46,
   "metadata": {
    "id": "oQuDK8YS9hE7"
   },
   "outputs": [],
   "source": [
    "# Get I / O tensor\n",
    "input_details = interpreter.get_input_details()\n",
    "output_details = interpreter.get_output_details()"
   ]
  },
  {
   "cell_type": "code",
   "execution_count": 47,
   "metadata": {
    "id": "2_ixAf_l9hE7"
   },
   "outputs": [],
   "source": [
    "interpreter.set_tensor(input_details[0]['index'], np.array([X_test[0]]))"
   ]
  },
  {
   "cell_type": "code",
   "execution_count": 48,
   "metadata": {
    "colab": {
     "base_uri": "https://localhost:8080/"
    },
    "id": "s4FoAnuc9hE7",
    "outputId": "91f18257-8d8b-4ef3-c558-e9b5f94fabbf",
    "scrolled": true
   },
   "outputs": [
    {
     "name": "stdout",
     "output_type": "stream",
     "text": [
      "CPU times: total: 0 ns\n",
      "Wall time: 0 ns\n"
     ]
    }
   ],
   "source": [
    "%%time\n",
    "# Inference implementation\n",
    "interpreter.invoke()\n",
    "tflite_results = interpreter.get_tensor(output_details[0]['index'])"
   ]
  },
  {
   "cell_type": "code",
   "execution_count": 49,
   "metadata": {
    "colab": {
     "base_uri": "https://localhost:8080/"
    },
    "id": "vONjp19J9hE8",
    "outputId": "77205e24-fd00-42c4-f7b6-e06e527c2cba"
   },
   "outputs": [
    {
     "name": "stdout",
     "output_type": "stream",
     "text": [
      "[2.68529075e-08 3.59149275e-16 1.03326202e-11 4.08950669e-08\n",
      " 6.65255990e-13 1.45215282e-07 1.19939068e-05 3.38122297e-18\n",
      " 7.99869719e-12 1.30979047e-11 7.06207870e-10 2.01408053e-04\n",
      " 1.22811690e-24 1.94268462e-10 1.01093725e-11 3.87447677e-18\n",
      " 1.27445808e-12 1.70686125e-16 6.03544289e-23 4.25492319e-18\n",
      " 9.99782741e-01 3.79131884e-23 1.42892770e-26 2.29743446e-11\n",
      " 3.67188409e-06 1.85023145e-15 9.13288563e-19 9.19245285e-17\n",
      " 7.00314210e-13 1.56342338e-20 6.20192230e-16 7.95984213e-31\n",
      " 1.54803158e-32 5.40796241e-33 1.26875379e-19 5.81475667e-15\n",
      " 1.69924430e-08 5.31674114e-11 7.70718159e-15 1.92162064e-09\n",
      " 3.71272315e-19 5.20742659e-22 1.24458310e-21 1.29150066e-10\n",
      " 3.97208884e-14 1.22411402e-15 1.06444528e-31 1.23863852e-29\n",
      " 7.76846931e-20 4.17746045e-14 1.97693476e-11 1.73257741e-23\n",
      " 2.94109279e-15]\n",
      "20\n"
     ]
    }
   ],
   "source": [
    "print(np.squeeze(tflite_results))\n",
    "print(np.argmax(np.squeeze(tflite_results)))"
   ]
  },
  {
   "cell_type": "code",
   "execution_count": null,
   "metadata": {},
   "outputs": [],
   "source": []
  },
  {
   "cell_type": "code",
   "execution_count": null,
   "metadata": {},
   "outputs": [],
   "source": []
  },
  {
   "cell_type": "code",
   "execution_count": null,
   "metadata": {},
   "outputs": [],
   "source": []
  }
 ],
 "metadata": {
  "accelerator": "GPU",
  "colab": {
   "collapsed_sections": [],
   "name": "keypoint_classification_EN.ipynb",
   "provenance": [],
   "toc_visible": true
  },
  "kernelspec": {
   "display_name": "Python 3 (ipykernel)",
   "language": "python",
   "name": "python3"
  },
  "language_info": {
   "codemirror_mode": {
    "name": "ipython",
    "version": 3
   },
   "file_extension": ".py",
   "mimetype": "text/x-python",
   "name": "python",
   "nbconvert_exporter": "python",
   "pygments_lexer": "ipython3",
   "version": "3.9.7"
  }
 },
 "nbformat": 4,
 "nbformat_minor": 1
}
