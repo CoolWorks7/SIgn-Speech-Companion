{
 "cells": [
  {
   "cell_type": "code",
   "execution_count": 140,
   "metadata": {
    "id": "igMyGnjE9hEp"
   },
   "outputs": [],
   "source": [
    "import csv\n",
    "\n",
    "import numpy as np\n",
    "import tensorflow as tf\n",
    "from sklearn.model_selection import train_test_split\n",
    "\n",
    "RANDOM_SEED = 42"
   ]
  },
  {
   "cell_type": "markdown",
   "metadata": {
    "id": "t2HDvhIu9hEr"
   },
   "source": [
    "# Specify each path"
   ]
  },
  {
   "cell_type": "code",
   "execution_count": 141,
   "metadata": {
    "id": "9NvZP2Zn9hEy"
   },
   "outputs": [],
   "source": [
    "dataset = 'model/keypoint_classifier/keypoint.csv'\n",
    "model_save_path = 'model/keypoint_classifier/keypoint_classifier.hdf5'\n",
    "tflite_save_path = 'model/keypoint_classifier/keypoint_classifier.tflite'"
   ]
  },
  {
   "cell_type": "markdown",
   "metadata": {
    "id": "s5oMH7x19hEz"
   },
   "source": [
    "# Set number of classes"
   ]
  },
  {
   "cell_type": "code",
   "execution_count": 142,
   "metadata": {
    "id": "du4kodXL9hEz"
   },
   "outputs": [],
   "source": [
    "NUM_CLASSES = 2"
   ]
  },
  {
   "cell_type": "markdown",
   "metadata": {
    "id": "XjnL0uso9hEz"
   },
   "source": [
    "# Dataset reading"
   ]
  },
  {
   "cell_type": "code",
   "execution_count": 143,
   "metadata": {
    "id": "QT5ZqtEz9hE0"
   },
   "outputs": [],
   "source": [
    "X_dataset = np.loadtxt(dataset, delimiter=',', dtype='float32', usecols=list(range(1, (21*2 + 21*2 + 2*1) + 1)))"
   ]
  },
  {
   "cell_type": "code",
   "execution_count": 144,
   "metadata": {
    "id": "QmoKFsp49hE0"
   },
   "outputs": [],
   "source": [
    "y_dataset = np.loadtxt(dataset, delimiter=',', dtype='int32', usecols=(0))"
   ]
  },
  {
   "cell_type": "code",
   "execution_count": 145,
   "metadata": {
    "id": "xQU7JTZ_9hE0"
   },
   "outputs": [],
   "source": [
    "X_train, X_test, y_train, y_test = train_test_split(X_dataset, y_dataset, train_size=0.75, random_state=RANDOM_SEED)"
   ]
  },
  {
   "cell_type": "markdown",
   "metadata": {
    "id": "mxK_lETT9hE0"
   },
   "source": [
    "# Model building"
   ]
  },
  {
   "cell_type": "code",
   "execution_count": 146,
   "metadata": {
    "id": "vHBmUf1t9hE1"
   },
   "outputs": [],
   "source": [
    "model = tf.keras.models.Sequential([\n",
    "    tf.keras.layers.Input((21*2 + 21*2 + 2*1, )),\n",
    "    tf.keras.layers.Dropout(0.2),\n",
    "    tf.keras.layers.Dense(20, activation='relu'),\n",
    "    tf.keras.layers.Dropout(0.4),\n",
    "    tf.keras.layers.Dense(10, activation='relu'),\n",
    "    tf.keras.layers.Dense(NUM_CLASSES, activation='softmax')\n",
    "])"
   ]
  },
  {
   "cell_type": "code",
   "execution_count": 147,
   "metadata": {},
   "outputs": [],
   "source": [
    "# model = tf.keras.models.Sequential([\n",
    "#     tf.keras.layers.Input((21*2 + 21*2 + 2*1, )),\n",
    "#     tf.keras.layers.Dropout(0.2),\n",
    "#     tf.keras.layers.Dense(200, activation='relu'),\n",
    "#     tf.keras.layers.Dropout(0.4),\n",
    "#     tf.keras.layers.Dense(76, activation='relu'),\n",
    "#     tf.keras.layers.Dropout(0.4),\n",
    "#     tf.keras.layers.Dense(10, activation='relu'),\n",
    "#     tf.keras.layers.Dense(NUM_CLASSES, activation='softmax')\n",
    "# ])"
   ]
  },
  {
   "cell_type": "code",
   "execution_count": 148,
   "metadata": {
    "colab": {
     "base_uri": "https://localhost:8080/"
    },
    "id": "ypqky9tc9hE1",
    "outputId": "5db082bb-30e3-4110-bf63-a1ee777ecd46"
   },
   "outputs": [
    {
     "name": "stdout",
     "output_type": "stream",
     "text": [
      "Model: \"sequential_6\"\n",
      "_________________________________________________________________\n",
      " Layer (type)                Output Shape              Param #   \n",
      "=================================================================\n",
      " dropout_18 (Dropout)        (None, 86)                0         \n",
      "                                                                 \n",
      " dense_24 (Dense)            (None, 20)                1740      \n",
      "                                                                 \n",
      " dropout_19 (Dropout)        (None, 20)                0         \n",
      "                                                                 \n",
      " dense_25 (Dense)            (None, 10)                210       \n",
      "                                                                 \n",
      " dense_26 (Dense)            (None, 2)                 22        \n",
      "                                                                 \n",
      "=================================================================\n",
      "Total params: 1972 (7.70 KB)\n",
      "Trainable params: 1972 (7.70 KB)\n",
      "Non-trainable params: 0 (0.00 Byte)\n",
      "_________________________________________________________________\n"
     ]
    }
   ],
   "source": [
    "model.summary()  # tf.keras.utils.plot_model(model, show_shapes=True)"
   ]
  },
  {
   "cell_type": "code",
   "execution_count": 149,
   "metadata": {
    "id": "MbMjOflQ9hE1"
   },
   "outputs": [],
   "source": [
    "# Model checkpoint callback\n",
    "cp_callback = tf.keras.callbacks.ModelCheckpoint(\n",
    "    model_save_path, verbose=1, save_weights_only=False)\n",
    "# Callback for early stopping\n",
    "es_callback = tf.keras.callbacks.EarlyStopping(patience=20, verbose=1)"
   ]
  },
  {
   "cell_type": "code",
   "execution_count": 150,
   "metadata": {
    "id": "c3Dac0M_9hE2"
   },
   "outputs": [],
   "source": [
    "# Model compilation\n",
    "model.compile(\n",
    "    optimizer='adam',\n",
    "    loss='sparse_categorical_crossentropy',\n",
    "    metrics=['accuracy']\n",
    ")"
   ]
  },
  {
   "cell_type": "markdown",
   "metadata": {
    "id": "7XI0j1Iu9hE2"
   },
   "source": [
    "# Model training"
   ]
  },
  {
   "cell_type": "code",
   "execution_count": 151,
   "metadata": {
    "colab": {
     "base_uri": "https://localhost:8080/"
    },
    "id": "WirBl-JE9hE3",
    "outputId": "71b30ca2-8294-4d9d-8aa2-800d90d399de",
    "scrolled": true
   },
   "outputs": [
    {
     "name": "stdout",
     "output_type": "stream",
     "text": [
      "Epoch 1/100\n",
      "1/2 [==============>...............] - ETA: 0s - loss: 0.7748 - accuracy: 0.5312\n",
      "Epoch 1: saving model to model/keypoint_classifier\\keypoint_classifier.hdf5\n",
      "2/2 [==============================] - 1s 273ms/step - loss: 0.7901 - accuracy: 0.5069 - val_loss: 0.6753 - val_accuracy: 0.5306\n",
      "Epoch 2/100\n",
      "1/2 [==============>...............] - ETA: 0s - loss: 0.7621 - accuracy: 0.5391\n",
      "Epoch 2: saving model to model/keypoint_classifier\\keypoint_classifier.hdf5\n",
      "2/2 [==============================] - 0s 75ms/step - loss: 0.7630 - accuracy: 0.5278 - val_loss: 0.6696 - val_accuracy: 0.9796\n",
      "Epoch 3/100\n",
      "1/2 [==============>...............] - ETA: 0s - loss: 0.7140 - accuracy: 0.5234\n",
      "Epoch 3: saving model to model/keypoint_classifier\\keypoint_classifier.hdf5\n"
     ]
    },
    {
     "name": "stderr",
     "output_type": "stream",
     "text": [
      "C:\\Users\\Sanjay\\AppData\\Local\\Programs\\Python\\Python39\\lib\\site-packages\\keras\\src\\engine\\training.py:3000: UserWarning: You are saving your model as an HDF5 file via `model.save()`. This file format is considered legacy. We recommend using instead the native Keras format, e.g. `model.save('my_model.keras')`.\n",
      "  saving_api.save_model(\n"
     ]
    },
    {
     "name": "stdout",
     "output_type": "stream",
     "text": [
      "2/2 [==============================] - 0s 75ms/step - loss: 0.7078 - accuracy: 0.5417 - val_loss: 0.6648 - val_accuracy: 0.4898\n",
      "Epoch 4/100\n",
      "1/2 [==============>...............] - ETA: 0s - loss: 0.7381 - accuracy: 0.5547\n",
      "Epoch 4: saving model to model/keypoint_classifier\\keypoint_classifier.hdf5\n",
      "2/2 [==============================] - 0s 74ms/step - loss: 0.7407 - accuracy: 0.5278 - val_loss: 0.6715 - val_accuracy: 0.4694\n",
      "Epoch 5/100\n",
      "1/2 [==============>...............] - ETA: 0s - loss: 0.7018 - accuracy: 0.6328\n",
      "Epoch 5: saving model to model/keypoint_classifier\\keypoint_classifier.hdf5\n",
      "2/2 [==============================] - 0s 64ms/step - loss: 0.6930 - accuracy: 0.6319 - val_loss: 0.6757 - val_accuracy: 0.4694\n",
      "Epoch 6/100\n",
      "1/2 [==============>...............] - ETA: 0s - loss: 0.6945 - accuracy: 0.5312\n",
      "Epoch 6: saving model to model/keypoint_classifier\\keypoint_classifier.hdf5\n",
      "2/2 [==============================] - 0s 75ms/step - loss: 0.6925 - accuracy: 0.5347 - val_loss: 0.6739 - val_accuracy: 0.4694\n",
      "Epoch 7/100\n",
      "1/2 [==============>...............] - ETA: 0s - loss: 0.6793 - accuracy: 0.5391\n",
      "Epoch 7: saving model to model/keypoint_classifier\\keypoint_classifier.hdf5\n",
      "2/2 [==============================] - 0s 93ms/step - loss: 0.6738 - accuracy: 0.5486 - val_loss: 0.6722 - val_accuracy: 0.4694\n",
      "Epoch 8/100\n",
      "1/2 [==============>...............] - ETA: 0s - loss: 0.6675 - accuracy: 0.5547\n",
      "Epoch 8: saving model to model/keypoint_classifier\\keypoint_classifier.hdf5\n",
      "2/2 [==============================] - 0s 69ms/step - loss: 0.6657 - accuracy: 0.5625 - val_loss: 0.6716 - val_accuracy: 0.4694\n",
      "Epoch 9/100\n",
      "1/2 [==============>...............] - ETA: 0s - loss: 0.6700 - accuracy: 0.5547\n",
      "Epoch 9: saving model to model/keypoint_classifier\\keypoint_classifier.hdf5\n",
      "2/2 [==============================] - 0s 69ms/step - loss: 0.6711 - accuracy: 0.5417 - val_loss: 0.6710 - val_accuracy: 0.4694\n",
      "Epoch 10/100\n",
      "1/2 [==============>...............] - ETA: 0s - loss: 0.6437 - accuracy: 0.6641\n",
      "Epoch 10: saving model to model/keypoint_classifier\\keypoint_classifier.hdf5\n",
      "2/2 [==============================] - 0s 74ms/step - loss: 0.6490 - accuracy: 0.6389 - val_loss: 0.6707 - val_accuracy: 0.4694\n",
      "Epoch 11/100\n",
      "1/2 [==============>...............] - ETA: 0s - loss: 0.6789 - accuracy: 0.5469\n",
      "Epoch 11: saving model to model/keypoint_classifier\\keypoint_classifier.hdf5\n",
      "2/2 [==============================] - 0s 64ms/step - loss: 0.6875 - accuracy: 0.5486 - val_loss: 0.6699 - val_accuracy: 0.4694\n",
      "Epoch 12/100\n",
      "1/2 [==============>...............] - ETA: 0s - loss: 0.6649 - accuracy: 0.6250\n",
      "Epoch 12: saving model to model/keypoint_classifier\\keypoint_classifier.hdf5\n",
      "2/2 [==============================] - 0s 73ms/step - loss: 0.6680 - accuracy: 0.6111 - val_loss: 0.6686 - val_accuracy: 0.4694\n",
      "Epoch 13/100\n",
      "1/2 [==============>...............] - ETA: 0s - loss: 0.6582 - accuracy: 0.5781\n",
      "Epoch 13: saving model to model/keypoint_classifier\\keypoint_classifier.hdf5\n",
      "2/2 [==============================] - 0s 68ms/step - loss: 0.6649 - accuracy: 0.5556 - val_loss: 0.6661 - val_accuracy: 0.4694\n",
      "Epoch 14/100\n",
      "1/2 [==============>...............] - ETA: 0s - loss: 0.6777 - accuracy: 0.5469\n",
      "Epoch 14: saving model to model/keypoint_classifier\\keypoint_classifier.hdf5\n",
      "2/2 [==============================] - 0s 67ms/step - loss: 0.6698 - accuracy: 0.5486 - val_loss: 0.6628 - val_accuracy: 0.4694\n",
      "Epoch 15/100\n",
      "1/2 [==============>...............] - ETA: 0s - loss: 0.6531 - accuracy: 0.6016\n",
      "Epoch 15: saving model to model/keypoint_classifier\\keypoint_classifier.hdf5\n",
      "2/2 [==============================] - 0s 63ms/step - loss: 0.6566 - accuracy: 0.5833 - val_loss: 0.6590 - val_accuracy: 0.4694\n",
      "Epoch 16/100\n",
      "1/2 [==============>...............] - ETA: 0s - loss: 0.6461 - accuracy: 0.6094\n",
      "Epoch 16: saving model to model/keypoint_classifier\\keypoint_classifier.hdf5\n",
      "2/2 [==============================] - 0s 81ms/step - loss: 0.6483 - accuracy: 0.6042 - val_loss: 0.6546 - val_accuracy: 0.4694\n",
      "Epoch 17/100\n",
      "1/2 [==============>...............] - ETA: 0s - loss: 0.6505 - accuracy: 0.5938\n",
      "Epoch 17: saving model to model/keypoint_classifier\\keypoint_classifier.hdf5\n",
      "2/2 [==============================] - 0s 85ms/step - loss: 0.6601 - accuracy: 0.5833 - val_loss: 0.6500 - val_accuracy: 0.4694\n",
      "Epoch 18/100\n",
      "1/2 [==============>...............] - ETA: 0s - loss: 0.6447 - accuracy: 0.5938\n",
      "Epoch 18: saving model to model/keypoint_classifier\\keypoint_classifier.hdf5\n",
      "2/2 [==============================] - 0s 63ms/step - loss: 0.6473 - accuracy: 0.6042 - val_loss: 0.6458 - val_accuracy: 0.4694\n",
      "Epoch 19/100\n",
      "1/2 [==============>...............] - ETA: 0s - loss: 0.6213 - accuracy: 0.6562\n",
      "Epoch 19: saving model to model/keypoint_classifier\\keypoint_classifier.hdf5\n",
      "2/2 [==============================] - 0s 58ms/step - loss: 0.6248 - accuracy: 0.6458 - val_loss: 0.6417 - val_accuracy: 0.4898\n",
      "Epoch 20/100\n",
      "1/2 [==============>...............] - ETA: 0s - loss: 0.6346 - accuracy: 0.6875\n",
      "Epoch 20: saving model to model/keypoint_classifier\\keypoint_classifier.hdf5\n",
      "2/2 [==============================] - 0s 68ms/step - loss: 0.6326 - accuracy: 0.6944 - val_loss: 0.6377 - val_accuracy: 0.4898\n",
      "Epoch 21/100\n",
      "1/2 [==============>...............] - ETA: 0s - loss: 0.6591 - accuracy: 0.6172\n",
      "Epoch 21: saving model to model/keypoint_classifier\\keypoint_classifier.hdf5\n",
      "2/2 [==============================] - 0s 63ms/step - loss: 0.6590 - accuracy: 0.6181 - val_loss: 0.6331 - val_accuracy: 0.4898\n",
      "Epoch 22/100\n",
      "1/2 [==============>...............] - ETA: 0s - loss: 0.6373 - accuracy: 0.6484\n",
      "Epoch 22: saving model to model/keypoint_classifier\\keypoint_classifier.hdf5\n",
      "2/2 [==============================] - 0s 66ms/step - loss: 0.6432 - accuracy: 0.6389 - val_loss: 0.6281 - val_accuracy: 0.5102\n",
      "Epoch 23/100\n",
      "1/2 [==============>...............] - ETA: 0s - loss: 0.6566 - accuracy: 0.6484\n",
      "Epoch 23: saving model to model/keypoint_classifier\\keypoint_classifier.hdf5\n",
      "2/2 [==============================] - 0s 75ms/step - loss: 0.6573 - accuracy: 0.6389 - val_loss: 0.6230 - val_accuracy: 0.5714\n",
      "Epoch 24/100\n",
      "1/2 [==============>...............] - ETA: 0s - loss: 0.6387 - accuracy: 0.6719\n",
      "Epoch 24: saving model to model/keypoint_classifier\\keypoint_classifier.hdf5\n",
      "2/2 [==============================] - 0s 65ms/step - loss: 0.6367 - accuracy: 0.6806 - val_loss: 0.6171 - val_accuracy: 0.6531\n",
      "Epoch 25/100\n",
      "1/2 [==============>...............] - ETA: 0s - loss: 0.6515 - accuracy: 0.6172\n",
      "Epoch 25: saving model to model/keypoint_classifier\\keypoint_classifier.hdf5\n",
      "2/2 [==============================] - 0s 65ms/step - loss: 0.6467 - accuracy: 0.6250 - val_loss: 0.6102 - val_accuracy: 0.7347\n",
      "Epoch 26/100\n",
      "1/2 [==============>...............] - ETA: 0s - loss: 0.6383 - accuracy: 0.5938\n",
      "Epoch 26: saving model to model/keypoint_classifier\\keypoint_classifier.hdf5\n",
      "2/2 [==============================] - 0s 69ms/step - loss: 0.6341 - accuracy: 0.6042 - val_loss: 0.6040 - val_accuracy: 0.7551\n",
      "Epoch 27/100\n",
      "1/2 [==============>...............] - ETA: 0s - loss: 0.6265 - accuracy: 0.6953\n",
      "Epoch 27: saving model to model/keypoint_classifier\\keypoint_classifier.hdf5\n",
      "2/2 [==============================] - 0s 77ms/step - loss: 0.6319 - accuracy: 0.6875 - val_loss: 0.5983 - val_accuracy: 0.7959\n",
      "Epoch 28/100\n",
      "1/2 [==============>...............] - ETA: 0s - loss: 0.6059 - accuracy: 0.7266\n",
      "Epoch 28: saving model to model/keypoint_classifier\\keypoint_classifier.hdf5\n",
      "2/2 [==============================] - 0s 69ms/step - loss: 0.6116 - accuracy: 0.7153 - val_loss: 0.5927 - val_accuracy: 0.8367\n",
      "Epoch 29/100\n",
      "1/2 [==============>...............] - ETA: 0s - loss: 0.6143 - accuracy: 0.6875\n",
      "Epoch 29: saving model to model/keypoint_classifier\\keypoint_classifier.hdf5\n",
      "2/2 [==============================] - 0s 59ms/step - loss: 0.6183 - accuracy: 0.6736 - val_loss: 0.5869 - val_accuracy: 0.8980\n",
      "Epoch 30/100\n",
      "1/2 [==============>...............] - ETA: 0s - loss: 0.6012 - accuracy: 0.7031\n",
      "Epoch 30: saving model to model/keypoint_classifier\\keypoint_classifier.hdf5\n",
      "2/2 [==============================] - 0s 51ms/step - loss: 0.6068 - accuracy: 0.6944 - val_loss: 0.5797 - val_accuracy: 0.9184\n",
      "Epoch 31/100\n"
     ]
    },
    {
     "name": "stdout",
     "output_type": "stream",
     "text": [
      "1/2 [==============>...............] - ETA: 0s - loss: 0.5836 - accuracy: 0.7812\n",
      "Epoch 31: saving model to model/keypoint_classifier\\keypoint_classifier.hdf5\n",
      "2/2 [==============================] - 0s 56ms/step - loss: 0.5921 - accuracy: 0.7639 - val_loss: 0.5707 - val_accuracy: 0.9388\n",
      "Epoch 32/100\n",
      "1/2 [==============>...............] - ETA: 0s - loss: 0.5999 - accuracy: 0.7891\n",
      "Epoch 32: saving model to model/keypoint_classifier\\keypoint_classifier.hdf5\n",
      "2/2 [==============================] - 0s 62ms/step - loss: 0.6021 - accuracy: 0.7778 - val_loss: 0.5601 - val_accuracy: 0.8980\n",
      "Epoch 33/100\n",
      "1/2 [==============>...............] - ETA: 0s - loss: 0.5742 - accuracy: 0.7734\n",
      "Epoch 33: saving model to model/keypoint_classifier\\keypoint_classifier.hdf5\n",
      "2/2 [==============================] - 0s 68ms/step - loss: 0.5764 - accuracy: 0.7639 - val_loss: 0.5484 - val_accuracy: 0.9184\n",
      "Epoch 34/100\n",
      "1/2 [==============>...............] - ETA: 0s - loss: 0.5659 - accuracy: 0.7500\n",
      "Epoch 34: saving model to model/keypoint_classifier\\keypoint_classifier.hdf5\n",
      "2/2 [==============================] - 0s 65ms/step - loss: 0.5651 - accuracy: 0.7639 - val_loss: 0.5337 - val_accuracy: 0.9796\n",
      "Epoch 35/100\n",
      "1/2 [==============>...............] - ETA: 0s - loss: 0.5977 - accuracy: 0.7188\n",
      "Epoch 35: saving model to model/keypoint_classifier\\keypoint_classifier.hdf5\n",
      "2/2 [==============================] - 0s 78ms/step - loss: 0.5865 - accuracy: 0.7361 - val_loss: 0.5178 - val_accuracy: 0.9796\n",
      "Epoch 36/100\n",
      "1/2 [==============>...............] - ETA: 0s - loss: 0.5708 - accuracy: 0.7812\n",
      "Epoch 36: saving model to model/keypoint_classifier\\keypoint_classifier.hdf5\n",
      "2/2 [==============================] - 0s 75ms/step - loss: 0.5699 - accuracy: 0.7778 - val_loss: 0.5017 - val_accuracy: 0.9796\n",
      "Epoch 37/100\n",
      "1/2 [==============>...............] - ETA: 0s - loss: 0.5726 - accuracy: 0.7656\n",
      "Epoch 37: saving model to model/keypoint_classifier\\keypoint_classifier.hdf5\n",
      "2/2 [==============================] - 0s 68ms/step - loss: 0.5594 - accuracy: 0.7778 - val_loss: 0.4864 - val_accuracy: 1.0000\n",
      "Epoch 38/100\n",
      "1/2 [==============>...............] - ETA: 0s - loss: 0.5129 - accuracy: 0.8125\n",
      "Epoch 38: saving model to model/keypoint_classifier\\keypoint_classifier.hdf5\n",
      "2/2 [==============================] - 0s 58ms/step - loss: 0.5122 - accuracy: 0.8264 - val_loss: 0.4721 - val_accuracy: 1.0000\n",
      "Epoch 39/100\n",
      "1/2 [==============>...............] - ETA: 0s - loss: 0.5766 - accuracy: 0.7578\n",
      "Epoch 39: saving model to model/keypoint_classifier\\keypoint_classifier.hdf5\n",
      "2/2 [==============================] - 0s 64ms/step - loss: 0.5693 - accuracy: 0.7569 - val_loss: 0.4622 - val_accuracy: 1.0000\n",
      "Epoch 40/100\n",
      "1/2 [==============>...............] - ETA: 0s - loss: 0.5719 - accuracy: 0.7266\n",
      "Epoch 40: saving model to model/keypoint_classifier\\keypoint_classifier.hdf5\n",
      "2/2 [==============================] - 0s 54ms/step - loss: 0.5573 - accuracy: 0.7431 - val_loss: 0.4538 - val_accuracy: 1.0000\n",
      "Epoch 41/100\n",
      "1/2 [==============>...............] - ETA: 0s - loss: 0.5385 - accuracy: 0.7500\n",
      "Epoch 41: saving model to model/keypoint_classifier\\keypoint_classifier.hdf5\n",
      "2/2 [==============================] - 0s 92ms/step - loss: 0.5315 - accuracy: 0.7639 - val_loss: 0.4459 - val_accuracy: 1.0000\n",
      "Epoch 42/100\n",
      "1/2 [==============>...............] - ETA: 0s - loss: 0.5531 - accuracy: 0.7500\n",
      "Epoch 42: saving model to model/keypoint_classifier\\keypoint_classifier.hdf5\n",
      "2/2 [==============================] - 0s 75ms/step - loss: 0.5416 - accuracy: 0.7639 - val_loss: 0.4371 - val_accuracy: 1.0000\n",
      "Epoch 43/100\n",
      "1/2 [==============>...............] - ETA: 0s - loss: 0.4897 - accuracy: 0.8516\n",
      "Epoch 43: saving model to model/keypoint_classifier\\keypoint_classifier.hdf5\n",
      "2/2 [==============================] - 0s 72ms/step - loss: 0.4962 - accuracy: 0.8403 - val_loss: 0.4246 - val_accuracy: 1.0000\n",
      "Epoch 44/100\n",
      "1/2 [==============>...............] - ETA: 0s - loss: 0.5121 - accuracy: 0.8125\n",
      "Epoch 44: saving model to model/keypoint_classifier\\keypoint_classifier.hdf5\n",
      "2/2 [==============================] - 0s 78ms/step - loss: 0.5102 - accuracy: 0.8125 - val_loss: 0.4071 - val_accuracy: 1.0000\n",
      "Epoch 45/100\n",
      "1/2 [==============>...............] - ETA: 0s - loss: 0.4891 - accuracy: 0.7656\n",
      "Epoch 45: saving model to model/keypoint_classifier\\keypoint_classifier.hdf5\n",
      "2/2 [==============================] - 0s 65ms/step - loss: 0.5045 - accuracy: 0.7500 - val_loss: 0.3906 - val_accuracy: 1.0000\n",
      "Epoch 46/100\n",
      "1/2 [==============>...............] - ETA: 0s - loss: 0.5071 - accuracy: 0.7734\n",
      "Epoch 46: saving model to model/keypoint_classifier\\keypoint_classifier.hdf5\n",
      "2/2 [==============================] - 0s 59ms/step - loss: 0.5179 - accuracy: 0.7639 - val_loss: 0.3775 - val_accuracy: 1.0000\n",
      "Epoch 47/100\n",
      "1/2 [==============>...............] - ETA: 0s - loss: 0.5103 - accuracy: 0.7656\n",
      "Epoch 47: saving model to model/keypoint_classifier\\keypoint_classifier.hdf5\n",
      "2/2 [==============================] - 0s 63ms/step - loss: 0.5013 - accuracy: 0.7778 - val_loss: 0.3675 - val_accuracy: 1.0000\n",
      "Epoch 48/100\n",
      "1/2 [==============>...............] - ETA: 0s - loss: 0.5257 - accuracy: 0.7344\n",
      "Epoch 48: saving model to model/keypoint_classifier\\keypoint_classifier.hdf5\n",
      "2/2 [==============================] - 0s 53ms/step - loss: 0.5002 - accuracy: 0.7639 - val_loss: 0.3581 - val_accuracy: 1.0000\n",
      "Epoch 49/100\n",
      "1/2 [==============>...............] - ETA: 0s - loss: 0.5229 - accuracy: 0.7344\n",
      "Epoch 49: saving model to model/keypoint_classifier\\keypoint_classifier.hdf5\n",
      "2/2 [==============================] - 0s 75ms/step - loss: 0.5135 - accuracy: 0.7500 - val_loss: 0.3492 - val_accuracy: 1.0000\n",
      "Epoch 50/100\n",
      "1/2 [==============>...............] - ETA: 0s - loss: 0.5153 - accuracy: 0.7422\n",
      "Epoch 50: saving model to model/keypoint_classifier\\keypoint_classifier.hdf5\n",
      "2/2 [==============================] - 0s 65ms/step - loss: 0.5104 - accuracy: 0.7500 - val_loss: 0.3397 - val_accuracy: 1.0000\n",
      "Epoch 51/100\n",
      "1/2 [==============>...............] - ETA: 0s - loss: 0.4718 - accuracy: 0.8047\n",
      "Epoch 51: saving model to model/keypoint_classifier\\keypoint_classifier.hdf5\n",
      "2/2 [==============================] - 0s 68ms/step - loss: 0.4704 - accuracy: 0.8056 - val_loss: 0.3304 - val_accuracy: 1.0000\n",
      "Epoch 52/100\n",
      "1/2 [==============>...............] - ETA: 0s - loss: 0.5382 - accuracy: 0.7656\n",
      "Epoch 52: saving model to model/keypoint_classifier\\keypoint_classifier.hdf5\n",
      "2/2 [==============================] - 0s 75ms/step - loss: 0.5077 - accuracy: 0.7917 - val_loss: 0.3214 - val_accuracy: 1.0000\n",
      "Epoch 53/100\n",
      "1/2 [==============>...............] - ETA: 0s - loss: 0.4674 - accuracy: 0.8281\n",
      "Epoch 53: saving model to model/keypoint_classifier\\keypoint_classifier.hdf5\n",
      "2/2 [==============================] - 0s 65ms/step - loss: 0.4619 - accuracy: 0.8264 - val_loss: 0.3123 - val_accuracy: 1.0000\n",
      "Epoch 54/100\n",
      "1/2 [==============>...............] - ETA: 0s - loss: 0.4477 - accuracy: 0.8125\n",
      "Epoch 54: saving model to model/keypoint_classifier\\keypoint_classifier.hdf5\n",
      "2/2 [==============================] - 0s 57ms/step - loss: 0.4617 - accuracy: 0.7986 - val_loss: 0.3038 - val_accuracy: 1.0000\n",
      "Epoch 55/100\n",
      "1/2 [==============>...............] - ETA: 0s - loss: 0.4437 - accuracy: 0.7969\n",
      "Epoch 55: saving model to model/keypoint_classifier\\keypoint_classifier.hdf5\n",
      "2/2 [==============================] - 0s 60ms/step - loss: 0.4287 - accuracy: 0.8125 - val_loss: 0.2951 - val_accuracy: 1.0000\n",
      "Epoch 56/100\n",
      "1/2 [==============>...............] - ETA: 0s - loss: 0.4221 - accuracy: 0.8203\n",
      "Epoch 56: saving model to model/keypoint_classifier\\keypoint_classifier.hdf5\n",
      "2/2 [==============================] - 0s 75ms/step - loss: 0.4317 - accuracy: 0.8264 - val_loss: 0.2863 - val_accuracy: 1.0000\n",
      "Epoch 57/100\n",
      "1/2 [==============>...............] - ETA: 0s - loss: 0.3976 - accuracy: 0.8594\n",
      "Epoch 57: saving model to model/keypoint_classifier\\keypoint_classifier.hdf5\n",
      "2/2 [==============================] - 0s 74ms/step - loss: 0.3924 - accuracy: 0.8681 - val_loss: 0.2779 - val_accuracy: 1.0000\n",
      "Epoch 58/100\n",
      "1/2 [==============>...............] - ETA: 0s - loss: 0.4521 - accuracy: 0.8203\n",
      "Epoch 58: saving model to model/keypoint_classifier\\keypoint_classifier.hdf5\n"
     ]
    },
    {
     "name": "stdout",
     "output_type": "stream",
     "text": [
      "2/2 [==============================] - 0s 67ms/step - loss: 0.4456 - accuracy: 0.8264 - val_loss: 0.2705 - val_accuracy: 1.0000\n",
      "Epoch 59/100\n",
      "1/2 [==============>...............] - ETA: 0s - loss: 0.3738 - accuracy: 0.8906\n",
      "Epoch 59: saving model to model/keypoint_classifier\\keypoint_classifier.hdf5\n",
      "2/2 [==============================] - 0s 63ms/step - loss: 0.3647 - accuracy: 0.8889 - val_loss: 0.2646 - val_accuracy: 1.0000\n",
      "Epoch 60/100\n",
      "1/2 [==============>...............] - ETA: 0s - loss: 0.4473 - accuracy: 0.8594\n",
      "Epoch 60: saving model to model/keypoint_classifier\\keypoint_classifier.hdf5\n",
      "2/2 [==============================] - 0s 57ms/step - loss: 0.4446 - accuracy: 0.8542 - val_loss: 0.2592 - val_accuracy: 1.0000\n",
      "Epoch 61/100\n",
      "1/2 [==============>...............] - ETA: 0s - loss: 0.3780 - accuracy: 0.8438\n",
      "Epoch 61: saving model to model/keypoint_classifier\\keypoint_classifier.hdf5\n",
      "2/2 [==============================] - 0s 61ms/step - loss: 0.3814 - accuracy: 0.8403 - val_loss: 0.2531 - val_accuracy: 1.0000\n",
      "Epoch 62/100\n",
      "1/2 [==============>...............] - ETA: 0s - loss: 0.4315 - accuracy: 0.8281\n",
      "Epoch 62: saving model to model/keypoint_classifier\\keypoint_classifier.hdf5\n",
      "2/2 [==============================] - 0s 68ms/step - loss: 0.4368 - accuracy: 0.8194 - val_loss: 0.2450 - val_accuracy: 1.0000\n",
      "Epoch 63/100\n",
      "1/2 [==============>...............] - ETA: 0s - loss: 0.3985 - accuracy: 0.8281\n",
      "Epoch 63: saving model to model/keypoint_classifier\\keypoint_classifier.hdf5\n",
      "2/2 [==============================] - 0s 67ms/step - loss: 0.3924 - accuracy: 0.8333 - val_loss: 0.2347 - val_accuracy: 1.0000\n",
      "Epoch 64/100\n",
      "1/2 [==============>...............] - ETA: 0s - loss: 0.3810 - accuracy: 0.8516\n",
      "Epoch 64: saving model to model/keypoint_classifier\\keypoint_classifier.hdf5\n",
      "2/2 [==============================] - 0s 64ms/step - loss: 0.3787 - accuracy: 0.8611 - val_loss: 0.2238 - val_accuracy: 1.0000\n",
      "Epoch 65/100\n",
      "1/2 [==============>...............] - ETA: 0s - loss: 0.3679 - accuracy: 0.8750\n",
      "Epoch 65: saving model to model/keypoint_classifier\\keypoint_classifier.hdf5\n",
      "2/2 [==============================] - 0s 56ms/step - loss: 0.3761 - accuracy: 0.8681 - val_loss: 0.2132 - val_accuracy: 1.0000\n",
      "Epoch 66/100\n",
      "1/2 [==============>...............] - ETA: 0s - loss: 0.3917 - accuracy: 0.8438\n",
      "Epoch 66: saving model to model/keypoint_classifier\\keypoint_classifier.hdf5\n",
      "2/2 [==============================] - 0s 70ms/step - loss: 0.3997 - accuracy: 0.8472 - val_loss: 0.2032 - val_accuracy: 1.0000\n",
      "Epoch 67/100\n",
      "1/2 [==============>...............] - ETA: 0s - loss: 0.3699 - accuracy: 0.8672\n",
      "Epoch 67: saving model to model/keypoint_classifier\\keypoint_classifier.hdf5\n",
      "2/2 [==============================] - 0s 56ms/step - loss: 0.3780 - accuracy: 0.8542 - val_loss: 0.1952 - val_accuracy: 1.0000\n",
      "Epoch 68/100\n",
      "1/2 [==============>...............] - ETA: 0s - loss: 0.3046 - accuracy: 0.9141\n",
      "Epoch 68: saving model to model/keypoint_classifier\\keypoint_classifier.hdf5\n",
      "2/2 [==============================] - 0s 72ms/step - loss: 0.3121 - accuracy: 0.9097 - val_loss: 0.1878 - val_accuracy: 1.0000\n",
      "Epoch 69/100\n",
      "1/2 [==============>...............] - ETA: 0s - loss: 0.3507 - accuracy: 0.8594\n",
      "Epoch 69: saving model to model/keypoint_classifier\\keypoint_classifier.hdf5\n",
      "2/2 [==============================] - 0s 67ms/step - loss: 0.3490 - accuracy: 0.8611 - val_loss: 0.1802 - val_accuracy: 1.0000\n",
      "Epoch 70/100\n",
      "1/2 [==============>...............] - ETA: 0s - loss: 0.3513 - accuracy: 0.8984\n",
      "Epoch 70: saving model to model/keypoint_classifier\\keypoint_classifier.hdf5\n",
      "2/2 [==============================] - 0s 58ms/step - loss: 0.3544 - accuracy: 0.9028 - val_loss: 0.1722 - val_accuracy: 1.0000\n",
      "Epoch 71/100\n",
      "1/2 [==============>...............] - ETA: 0s - loss: 0.3259 - accuracy: 0.8828\n",
      "Epoch 71: saving model to model/keypoint_classifier\\keypoint_classifier.hdf5\n",
      "2/2 [==============================] - 0s 59ms/step - loss: 0.3189 - accuracy: 0.8958 - val_loss: 0.1636 - val_accuracy: 1.0000\n",
      "Epoch 72/100\n",
      "1/2 [==============>...............] - ETA: 0s - loss: 0.2728 - accuracy: 0.9141\n",
      "Epoch 72: saving model to model/keypoint_classifier\\keypoint_classifier.hdf5\n",
      "2/2 [==============================] - 0s 84ms/step - loss: 0.2771 - accuracy: 0.9097 - val_loss: 0.1562 - val_accuracy: 1.0000\n",
      "Epoch 73/100\n",
      "1/2 [==============>...............] - ETA: 0s - loss: 0.3105 - accuracy: 0.8984\n",
      "Epoch 73: saving model to model/keypoint_classifier\\keypoint_classifier.hdf5\n",
      "2/2 [==============================] - 0s 82ms/step - loss: 0.3279 - accuracy: 0.8958 - val_loss: 0.1550 - val_accuracy: 1.0000\n",
      "Epoch 74/100\n",
      "1/2 [==============>...............] - ETA: 0s - loss: 0.3164 - accuracy: 0.8906\n",
      "Epoch 74: saving model to model/keypoint_classifier\\keypoint_classifier.hdf5\n",
      "2/2 [==============================] - 0s 75ms/step - loss: 0.3115 - accuracy: 0.8889 - val_loss: 0.1590 - val_accuracy: 1.0000\n",
      "Epoch 75/100\n",
      "1/2 [==============>...............] - ETA: 0s - loss: 0.2941 - accuracy: 0.8828\n",
      "Epoch 75: saving model to model/keypoint_classifier\\keypoint_classifier.hdf5\n",
      "2/2 [==============================] - 0s 56ms/step - loss: 0.3038 - accuracy: 0.8819 - val_loss: 0.1585 - val_accuracy: 1.0000\n",
      "Epoch 76/100\n",
      "1/2 [==============>...............] - ETA: 0s - loss: 0.2677 - accuracy: 0.9219\n",
      "Epoch 76: saving model to model/keypoint_classifier\\keypoint_classifier.hdf5\n",
      "2/2 [==============================] - 0s 74ms/step - loss: 0.2791 - accuracy: 0.9167 - val_loss: 0.1491 - val_accuracy: 1.0000\n",
      "Epoch 77/100\n",
      "1/2 [==============>...............] - ETA: 0s - loss: 0.3061 - accuracy: 0.8828\n",
      "Epoch 77: saving model to model/keypoint_classifier\\keypoint_classifier.hdf5\n",
      "2/2 [==============================] - 0s 83ms/step - loss: 0.2985 - accuracy: 0.8958 - val_loss: 0.1370 - val_accuracy: 1.0000\n",
      "Epoch 78/100\n",
      "1/2 [==============>...............] - ETA: 0s - loss: 0.2623 - accuracy: 0.9375\n",
      "Epoch 78: saving model to model/keypoint_classifier\\keypoint_classifier.hdf5\n",
      "2/2 [==============================] - 0s 65ms/step - loss: 0.2699 - accuracy: 0.9236 - val_loss: 0.1265 - val_accuracy: 1.0000\n",
      "Epoch 79/100\n",
      "1/2 [==============>...............] - ETA: 0s - loss: 0.2372 - accuracy: 0.9531\n",
      "Epoch 79: saving model to model/keypoint_classifier\\keypoint_classifier.hdf5\n",
      "2/2 [==============================] - 0s 55ms/step - loss: 0.2629 - accuracy: 0.9375 - val_loss: 0.1184 - val_accuracy: 1.0000\n",
      "Epoch 80/100\n",
      "1/2 [==============>...............] - ETA: 0s - loss: 0.2908 - accuracy: 0.9062\n",
      "Epoch 80: saving model to model/keypoint_classifier\\keypoint_classifier.hdf5\n",
      "2/2 [==============================] - 0s 85ms/step - loss: 0.2955 - accuracy: 0.9028 - val_loss: 0.1134 - val_accuracy: 1.0000\n",
      "Epoch 81/100\n",
      "1/2 [==============>...............] - ETA: 0s - loss: 0.2475 - accuracy: 0.9297\n",
      "Epoch 81: saving model to model/keypoint_classifier\\keypoint_classifier.hdf5\n",
      "2/2 [==============================] - 0s 50ms/step - loss: 0.2507 - accuracy: 0.9306 - val_loss: 0.1095 - val_accuracy: 1.0000\n",
      "Epoch 82/100\n",
      "1/2 [==============>...............] - ETA: 0s - loss: 0.2508 - accuracy: 0.9297\n",
      "Epoch 82: saving model to model/keypoint_classifier\\keypoint_classifier.hdf5\n",
      "2/2 [==============================] - 0s 84ms/step - loss: 0.2477 - accuracy: 0.9306 - val_loss: 0.1051 - val_accuracy: 1.0000\n",
      "Epoch 83/100\n",
      "1/2 [==============>...............] - ETA: 0s - loss: 0.2844 - accuracy: 0.9062\n",
      "Epoch 83: saving model to model/keypoint_classifier\\keypoint_classifier.hdf5\n",
      "2/2 [==============================] - 0s 64ms/step - loss: 0.2913 - accuracy: 0.9028 - val_loss: 0.1010 - val_accuracy: 1.0000\n",
      "Epoch 84/100\n",
      "1/2 [==============>...............] - ETA: 0s - loss: 0.2735 - accuracy: 0.9062\n",
      "Epoch 84: saving model to model/keypoint_classifier\\keypoint_classifier.hdf5\n",
      "2/2 [==============================] - 0s 69ms/step - loss: 0.2726 - accuracy: 0.9097 - val_loss: 0.0985 - val_accuracy: 1.0000\n",
      "Epoch 85/100\n",
      "1/2 [==============>...............] - ETA: 0s - loss: 0.2864 - accuracy: 0.8906\n",
      "Epoch 85: saving model to model/keypoint_classifier\\keypoint_classifier.hdf5\n",
      "2/2 [==============================] - 0s 71ms/step - loss: 0.2788 - accuracy: 0.9028 - val_loss: 0.0972 - val_accuracy: 1.0000\n"
     ]
    },
    {
     "name": "stdout",
     "output_type": "stream",
     "text": [
      "Epoch 86/100\n",
      "1/2 [==============>...............] - ETA: 0s - loss: 0.2454 - accuracy: 0.9062\n",
      "Epoch 86: saving model to model/keypoint_classifier\\keypoint_classifier.hdf5\n",
      "2/2 [==============================] - 0s 96ms/step - loss: 0.2458 - accuracy: 0.9097 - val_loss: 0.0934 - val_accuracy: 1.0000\n",
      "Epoch 87/100\n",
      "1/2 [==============>...............] - ETA: 0s - loss: 0.2452 - accuracy: 0.9297\n",
      "Epoch 87: saving model to model/keypoint_classifier\\keypoint_classifier.hdf5\n",
      "2/2 [==============================] - 0s 90ms/step - loss: 0.2387 - accuracy: 0.9306 - val_loss: 0.0890 - val_accuracy: 1.0000\n",
      "Epoch 88/100\n",
      "1/2 [==============>...............] - ETA: 0s - loss: 0.2529 - accuracy: 0.9219\n",
      "Epoch 88: saving model to model/keypoint_classifier\\keypoint_classifier.hdf5\n",
      "2/2 [==============================] - 0s 85ms/step - loss: 0.2681 - accuracy: 0.9028 - val_loss: 0.0872 - val_accuracy: 1.0000\n",
      "Epoch 89/100\n",
      "1/2 [==============>...............] - ETA: 0s - loss: 0.2033 - accuracy: 0.9375\n",
      "Epoch 89: saving model to model/keypoint_classifier\\keypoint_classifier.hdf5\n",
      "2/2 [==============================] - 0s 72ms/step - loss: 0.2224 - accuracy: 0.9306 - val_loss: 0.0867 - val_accuracy: 1.0000\n",
      "Epoch 90/100\n",
      "1/2 [==============>...............] - ETA: 0s - loss: 0.2329 - accuracy: 0.9141\n",
      "Epoch 90: saving model to model/keypoint_classifier\\keypoint_classifier.hdf5\n",
      "2/2 [==============================] - 0s 61ms/step - loss: 0.2402 - accuracy: 0.9097 - val_loss: 0.0843 - val_accuracy: 1.0000\n",
      "Epoch 91/100\n",
      "1/2 [==============>...............] - ETA: 0s - loss: 0.2035 - accuracy: 0.9375\n",
      "Epoch 91: saving model to model/keypoint_classifier\\keypoint_classifier.hdf5\n",
      "2/2 [==============================] - 0s 61ms/step - loss: 0.2133 - accuracy: 0.9375 - val_loss: 0.0797 - val_accuracy: 1.0000\n",
      "Epoch 92/100\n",
      "1/2 [==============>...............] - ETA: 0s - loss: 0.2400 - accuracy: 0.9297\n",
      "Epoch 92: saving model to model/keypoint_classifier\\keypoint_classifier.hdf5\n",
      "2/2 [==============================] - 0s 66ms/step - loss: 0.2427 - accuracy: 0.9306 - val_loss: 0.0758 - val_accuracy: 1.0000\n",
      "Epoch 93/100\n",
      "1/2 [==============>...............] - ETA: 0s - loss: 0.1811 - accuracy: 0.9688\n",
      "Epoch 93: saving model to model/keypoint_classifier\\keypoint_classifier.hdf5\n",
      "2/2 [==============================] - 0s 77ms/step - loss: 0.1911 - accuracy: 0.9583 - val_loss: 0.0724 - val_accuracy: 1.0000\n",
      "Epoch 94/100\n",
      "1/2 [==============>...............] - ETA: 0s - loss: 0.2365 - accuracy: 0.9141\n",
      "Epoch 94: saving model to model/keypoint_classifier\\keypoint_classifier.hdf5\n",
      "2/2 [==============================] - 0s 72ms/step - loss: 0.2673 - accuracy: 0.9028 - val_loss: 0.0685 - val_accuracy: 1.0000\n",
      "Epoch 95/100\n",
      "1/2 [==============>...............] - ETA: 0s - loss: 0.2101 - accuracy: 0.9375\n",
      "Epoch 95: saving model to model/keypoint_classifier\\keypoint_classifier.hdf5\n",
      "2/2 [==============================] - 0s 82ms/step - loss: 0.2088 - accuracy: 0.9375 - val_loss: 0.0648 - val_accuracy: 1.0000\n",
      "Epoch 96/100\n",
      "1/2 [==============>...............] - ETA: 0s - loss: 0.1924 - accuracy: 0.9375\n",
      "Epoch 96: saving model to model/keypoint_classifier\\keypoint_classifier.hdf5\n",
      "2/2 [==============================] - 0s 67ms/step - loss: 0.1934 - accuracy: 0.9375 - val_loss: 0.0620 - val_accuracy: 1.0000\n",
      "Epoch 97/100\n",
      "1/2 [==============>...............] - ETA: 0s - loss: 0.2284 - accuracy: 0.9375\n",
      "Epoch 97: saving model to model/keypoint_classifier\\keypoint_classifier.hdf5\n",
      "2/2 [==============================] - 0s 67ms/step - loss: 0.2255 - accuracy: 0.9375 - val_loss: 0.0595 - val_accuracy: 1.0000\n",
      "Epoch 98/100\n",
      "1/2 [==============>...............] - ETA: 0s - loss: 0.1561 - accuracy: 0.9609\n",
      "Epoch 98: saving model to model/keypoint_classifier\\keypoint_classifier.hdf5\n",
      "2/2 [==============================] - 0s 82ms/step - loss: 0.1629 - accuracy: 0.9583 - val_loss: 0.0576 - val_accuracy: 1.0000\n",
      "Epoch 99/100\n",
      "1/2 [==============>...............] - ETA: 0s - loss: 0.1956 - accuracy: 0.9531\n",
      "Epoch 99: saving model to model/keypoint_classifier\\keypoint_classifier.hdf5\n",
      "2/2 [==============================] - 0s 73ms/step - loss: 0.1933 - accuracy: 0.9583 - val_loss: 0.0559 - val_accuracy: 1.0000\n",
      "Epoch 100/100\n",
      "1/2 [==============>...............] - ETA: 0s - loss: 0.2247 - accuracy: 0.9219\n",
      "Epoch 100: saving model to model/keypoint_classifier\\keypoint_classifier.hdf5\n",
      "2/2 [==============================] - 0s 76ms/step - loss: 0.2164 - accuracy: 0.9306 - val_loss: 0.0535 - val_accuracy: 1.0000\n"
     ]
    },
    {
     "data": {
      "text/plain": [
       "<keras.src.callbacks.History at 0x2329c1fe910>"
      ]
     },
     "execution_count": 151,
     "metadata": {},
     "output_type": "execute_result"
    }
   ],
   "source": [
    "model.fit(\n",
    "    X_train,\n",
    "    y_train,\n",
    "    epochs=100,\n",
    "    batch_size=128,\n",
    "    validation_data=(X_test, y_test),\n",
    "    callbacks=[cp_callback, es_callback]\n",
    ")"
   ]
  },
  {
   "cell_type": "code",
   "execution_count": 152,
   "metadata": {
    "colab": {
     "base_uri": "https://localhost:8080/"
    },
    "id": "pxvb2Y299hE3",
    "outputId": "59eb3185-2e37-4b9e-bc9d-ab1b8ac29b7f"
   },
   "outputs": [
    {
     "name": "stdout",
     "output_type": "stream",
     "text": [
      "1/1 [==============================] - 0s 27ms/step - loss: 0.0535 - accuracy: 1.0000\n"
     ]
    }
   ],
   "source": [
    "# Model evaluation\n",
    "val_loss, val_acc = model.evaluate(X_test, y_test, batch_size=128)"
   ]
  },
  {
   "cell_type": "code",
   "execution_count": 153,
   "metadata": {
    "id": "RBkmDeUW9hE4"
   },
   "outputs": [],
   "source": [
    "# Loading the saved model\n",
    "model = tf.keras.models.load_model(model_save_path)"
   ]
  },
  {
   "cell_type": "code",
   "execution_count": 154,
   "metadata": {
    "colab": {
     "base_uri": "https://localhost:8080/"
    },
    "id": "tFz9Tb0I9hE4",
    "outputId": "1c3b3528-54ae-4ee2-ab04-77429211cbef"
   },
   "outputs": [
    {
     "name": "stdout",
     "output_type": "stream",
     "text": [
      "1/1 [==============================] - 0s 110ms/step\n",
      "[0.97164404 0.02835593]\n",
      "0\n"
     ]
    }
   ],
   "source": [
    "# Inference test\n",
    "predict_result = model.predict(np.array([X_test[0]]))\n",
    "print(np.squeeze(predict_result))\n",
    "print(np.argmax(np.squeeze(predict_result)))"
   ]
  },
  {
   "cell_type": "markdown",
   "metadata": {
    "id": "S3U4yNWx9hE4"
   },
   "source": [
    "# Confusion matrix"
   ]
  },
  {
   "cell_type": "code",
   "execution_count": 155,
   "metadata": {
    "colab": {
     "base_uri": "https://localhost:8080/",
     "height": 582
    },
    "id": "AP1V6SCk9hE5",
    "outputId": "08e41a80-7a4a-4619-8125-ecc371368d19"
   },
   "outputs": [
    {
     "name": "stdout",
     "output_type": "stream",
     "text": [
      "2/2 [==============================] - 0s 0s/step\n"
     ]
    },
    {
     "data": {
      "image/png": "[encoded data removed]",
      "text/plain": [
       "<Figure size 700x600 with 2 Axes>"
      ]
     },
     "metadata": {},
     "output_type": "display_data"
    },
    {
     "name": "stdout",
     "output_type": "stream",
     "text": [
      "Classification Report\n",
      "              precision    recall  f1-score   support\n",
      "\n",
      "           0       1.00      1.00      1.00        23\n",
      "           1       1.00      1.00      1.00        26\n",
      "\n",
      "    accuracy                           1.00        49\n",
      "   macro avg       1.00      1.00      1.00        49\n",
      "weighted avg       1.00      1.00      1.00        49\n",
      "\n"
     ]
    }
   ],
   "source": [
    "import pandas as pd\n",
    "import seaborn as sns\n",
    "import matplotlib.pyplot as plt\n",
    "from sklearn.metrics import confusion_matrix, classification_report\n",
    "\n",
    "def print_confusion_matrix(y_true, y_pred, report=True):\n",
    "    labels = sorted(list(set(y_true)))\n",
    "    cmx_data = confusion_matrix(y_true, y_pred, labels=labels)\n",
    "    \n",
    "    df_cmx = pd.DataFrame(cmx_data, index=labels, columns=labels)\n",
    " \n",
    "    fig, ax = plt.subplots(figsize=(7, 6))\n",
    "    sns.heatmap(df_cmx, annot=True, fmt='g' ,square=False)\n",
    "    ax.set_ylim(len(set(y_true)), 0)\n",
    "    plt.show()\n",
    "    \n",
    "    if report:\n",
    "        print('Classification Report')\n",
    "        print(classification_report(y_test, y_pred))\n",
    "\n",
    "Y_pred = model.predict(X_test)\n",
    "y_pred = np.argmax(Y_pred, axis=1)\n",
    "\n",
    "print_confusion_matrix(y_test, y_pred)"
   ]
  },
  {
   "cell_type": "markdown",
   "metadata": {
    "id": "FNP6aqzc9hE5"
   },
   "source": [
    "# Convert to model for Tensorflow-Lite"
   ]
  },
  {
   "cell_type": "code",
   "execution_count": 156,
   "metadata": {
    "id": "ODjnYyld9hE6"
   },
   "outputs": [
    {
     "name": "stderr",
     "output_type": "stream",
     "text": [
      "C:\\Users\\Sanjay\\AppData\\Local\\Programs\\Python\\Python39\\lib\\site-packages\\keras\\src\\engine\\training.py:3000: UserWarning: You are saving your model as an HDF5 file via `model.save()`. This file format is considered legacy. We recommend using instead the native Keras format, e.g. `model.save('my_model.keras')`.\n",
      "  saving_api.save_model(\n"
     ]
    }
   ],
   "source": [
    "# Save as a model dedicated to inference\n",
    "model.save(model_save_path, include_optimizer=False)"
   ]
  },
  {
   "cell_type": "code",
   "execution_count": 157,
   "metadata": {
    "colab": {
     "base_uri": "https://localhost:8080/"
    },
    "id": "zRfuK8Y59hE6",
    "outputId": "a4ca585c-b5d5-4244-8291-8674063209bb"
   },
   "outputs": [
    {
     "name": "stdout",
     "output_type": "stream",
     "text": [
      "INFO:tensorflow:Assets written to: C:\\Users\\Sanjay\\AppData\\Local\\Temp\\tmp_gue_uyw\\assets\n"
     ]
    },
    {
     "name": "stderr",
     "output_type": "stream",
     "text": [
      "INFO:tensorflow:Assets written to: C:\\Users\\Sanjay\\AppData\\Local\\Temp\\tmp_gue_uyw\\assets\n"
     ]
    },
    {
     "data": {
      "text/plain": [
       "4984"
      ]
     },
     "execution_count": 157,
     "metadata": {},
     "output_type": "execute_result"
    }
   ],
   "source": [
    "# Transform model (quantization)\n",
    "\n",
    "converter = tf.lite.TFLiteConverter.from_keras_model(model)\n",
    "converter.optimizations = [tf.lite.Optimize.DEFAULT]\n",
    "tflite_quantized_model = converter.convert()\n",
    "\n",
    "open(tflite_save_path, 'wb').write(tflite_quantized_model)"
   ]
  },
  {
   "cell_type": "markdown",
   "metadata": {
    "id": "CHBPBXdx9hE6"
   },
   "source": [
    "# Inference test"
   ]
  },
  {
   "cell_type": "code",
   "execution_count": 158,
   "metadata": {
    "id": "mGAzLocO9hE7"
   },
   "outputs": [],
   "source": [
    "interpreter = tf.lite.Interpreter(model_path=tflite_save_path)\n",
    "interpreter.allocate_tensors()"
   ]
  },
  {
   "cell_type": "code",
   "execution_count": 159,
   "metadata": {
    "id": "oQuDK8YS9hE7"
   },
   "outputs": [],
   "source": [
    "# Get I / O tensor\n",
    "input_details = interpreter.get_input_details()\n",
    "output_details = interpreter.get_output_details()"
   ]
  },
  {
   "cell_type": "code",
   "execution_count": 160,
   "metadata": {
    "id": "2_ixAf_l9hE7"
   },
   "outputs": [],
   "source": [
    "interpreter.set_tensor(input_details[0]['index'], np.array([X_test[0]]))"
   ]
  },
  {
   "cell_type": "code",
   "execution_count": 161,
   "metadata": {
    "colab": {
     "base_uri": "https://localhost:8080/"
    },
    "id": "s4FoAnuc9hE7",
    "outputId": "91f18257-8d8b-4ef3-c558-e9b5f94fabbf",
    "scrolled": true
   },
   "outputs": [
    {
     "name": "stdout",
     "output_type": "stream",
     "text": [
      "CPU times: total: 0 ns\n",
      "Wall time: 0 ns\n"
     ]
    }
   ],
   "source": [
    "%%time\n",
    "# Inference implementation\n",
    "interpreter.invoke()\n",
    "tflite_results = interpreter.get_tensor(output_details[0]['index'])"
   ]
  },
  {
   "cell_type": "code",
   "execution_count": 162,
   "metadata": {
    "colab": {
     "base_uri": "https://localhost:8080/"
    },
    "id": "vONjp19J9hE8",
    "outputId": "77205e24-fd00-42c4-f7b6-e06e527c2cba"
   },
   "outputs": [
    {
     "name": "stdout",
     "output_type": "stream",
     "text": [
      "[0.97171766 0.02828237]\n",
      "0\n"
     ]
    }
   ],
   "source": [
    "print(np.squeeze(tflite_results))\n",
    "print(np.argmax(np.squeeze(tflite_results)))"
   ]
  },
  {
   "cell_type": "code",
   "execution_count": null,
   "metadata": {},
   "outputs": [],
   "source": []
  },
  {
   "cell_type": "code",
   "execution_count": null,
   "metadata": {},
   "outputs": [],
   "source": []
  }
 ],
 "metadata": {
  "accelerator": "GPU",
  "colab": {
   "collapsed_sections": [],
   "name": "keypoint_classification_EN.ipynb",
   "provenance": [],
   "toc_visible": true
  },
  "kernelspec": {
   "display_name": "Python 3 (ipykernel)",
   "language": "python",
   "name": "python3"
  },
  "language_info": {
   "codemirror_mode": {
    "name": "ipython",
    "version": 3
   },
   "file_extension": ".py",
   "mimetype": "text/x-python",
   "name": "python",
   "nbconvert_exporter": "python",
   "pygments_lexer": "ipython3",
   "version": "3.9.7"
  }
 },
 "nbformat": 4,
 "nbformat_minor": 1
}
