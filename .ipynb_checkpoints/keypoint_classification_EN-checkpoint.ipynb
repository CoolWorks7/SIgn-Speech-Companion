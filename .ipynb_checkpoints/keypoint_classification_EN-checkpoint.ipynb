{
 "cells": [
  {
   "cell_type": "code",
   "execution_count": 170,
   "metadata": {
    "id": "igMyGnjE9hEp"
   },
   "outputs": [],
   "source": [
    "import csv\n",
    "\n",
    "import numpy as np\n",
    "import tensorflow as tf\n",
    "from sklearn.model_selection import train_test_split\n",
    "\n",
    "RANDOM_SEED = 42"
   ]
  },
  {
   "cell_type": "markdown",
   "metadata": {
    "id": "t2HDvhIu9hEr"
   },
   "source": [
    "# Specify each path"
   ]
  },
  {
   "cell_type": "code",
   "execution_count": 171,
   "metadata": {
    "id": "9NvZP2Zn9hEy"
   },
   "outputs": [],
   "source": [
    "dataset = 'model/keypoint_classifier/keypoint.csv'\n",
    "model_save_path = 'model/keypoint_classifier/keypoint_classifier.hdf5'\n",
    "tflite_save_path = 'model/keypoint_classifier/keypoint_classifier.tflite'"
   ]
  },
  {
   "cell_type": "markdown",
   "metadata": {
    "id": "s5oMH7x19hEz"
   },
   "source": [
    "# Set number of classes"
   ]
  },
  {
   "cell_type": "code",
   "execution_count": 172,
   "metadata": {
    "id": "du4kodXL9hEz"
   },
   "outputs": [],
   "source": [
    "NUM_CLASSES = 2"
   ]
  },
  {
   "cell_type": "markdown",
   "metadata": {
    "id": "XjnL0uso9hEz"
   },
   "source": [
    "# Dataset reading"
   ]
  },
  {
   "cell_type": "code",
   "execution_count": 173,
   "metadata": {
    "id": "QT5ZqtEz9hE0"
   },
   "outputs": [],
   "source": [
    "X_dataset = np.loadtxt(dataset, delimiter=',', dtype='float32', usecols=list(range(1, (21*2 + 21*2 + 9*2) + 1)))"
   ]
  },
  {
   "cell_type": "code",
   "execution_count": 174,
   "metadata": {
    "id": "QmoKFsp49hE0"
   },
   "outputs": [],
   "source": [
    "y_dataset = np.loadtxt(dataset, delimiter=',', dtype='int32', usecols=(0))"
   ]
  },
  {
   "cell_type": "code",
   "execution_count": 175,
   "metadata": {
    "id": "xQU7JTZ_9hE0"
   },
   "outputs": [],
   "source": [
    "X_train, X_test, y_train, y_test = train_test_split(X_dataset, y_dataset, train_size=0.75, random_state=RANDOM_SEED)"
   ]
  },
  {
   "cell_type": "markdown",
   "metadata": {
    "id": "mxK_lETT9hE0"
   },
   "source": [
    "# Model building"
   ]
  },
  {
   "cell_type": "code",
   "execution_count": 176,
   "metadata": {
    "id": "vHBmUf1t9hE1"
   },
   "outputs": [],
   "source": [
    "# model = tf.keras.models.Sequential([\n",
    "#     tf.keras.layers.Input((21*2 + 21*2 + 9*2, )),\n",
    "#     tf.keras.layers.Dropout(0.2),\n",
    "#     tf.keras.layers.Dense(20, activation='relu'),\n",
    "#     tf.keras.layers.Dropout(0.4),\n",
    "#     tf.keras.layers.Dense(10, activation='relu'),\n",
    "#     tf.keras.layers.Dense(NUM_CLASSES, activation='softmax')\n",
    "# ])"
   ]
  },
  {
   "cell_type": "code",
   "execution_count": 177,
   "metadata": {},
   "outputs": [],
   "source": [
    "model = tf.keras.models.Sequential([\n",
    "    tf.keras.layers.Input((21*2 + 21*2 + 9*2, )),\n",
    "    tf.keras.layers.Dropout(0.2),\n",
    "    tf.keras.layers.Dense(200, activation='relu'),\n",
    "    tf.keras.layers.Dropout(0.4),\n",
    "    tf.keras.layers.Dense(76, activation='relu'),\n",
    "    tf.keras.layers.Dropout(0.4),\n",
    "    tf.keras.layers.Dense(10, activation='relu'),\n",
    "    tf.keras.layers.Dense(NUM_CLASSES, activation='softmax')\n",
    "])"
   ]
  },
  {
   "cell_type": "code",
   "execution_count": 178,
   "metadata": {
    "colab": {
     "base_uri": "https://localhost:8080/"
    },
    "id": "ypqky9tc9hE1",
    "outputId": "5db082bb-30e3-4110-bf63-a1ee777ecd46"
   },
   "outputs": [
    {
     "name": "stdout",
     "output_type": "stream",
     "text": [
      "Model: \"sequential_8\"\n",
      "_________________________________________________________________\n",
      " Layer (type)                Output Shape              Param #   \n",
      "=================================================================\n",
      " dropout_19 (Dropout)        (None, 102)               0         \n",
      "                                                                 \n",
      " dense_27 (Dense)            (None, 20)                2060      \n",
      "                                                                 \n",
      " dropout_20 (Dropout)        (None, 20)                0         \n",
      "                                                                 \n",
      " dense_28 (Dense)            (None, 10)                210       \n",
      "                                                                 \n",
      " dense_29 (Dense)            (None, 2)                 22        \n",
      "                                                                 \n",
      "=================================================================\n",
      "Total params: 2292 (8.95 KB)\n",
      "Trainable params: 2292 (8.95 KB)\n",
      "Non-trainable params: 0 (0.00 Byte)\n",
      "_________________________________________________________________\n"
     ]
    }
   ],
   "source": [
    "model.summary()  # tf.keras.utils.plot_model(model, show_shapes=True)"
   ]
  },
  {
   "cell_type": "code",
   "execution_count": 179,
   "metadata": {
    "id": "MbMjOflQ9hE1"
   },
   "outputs": [],
   "source": [
    "# Model checkpoint callback\n",
    "cp_callback = tf.keras.callbacks.ModelCheckpoint(\n",
    "    model_save_path, verbose=1, save_weights_only=False)\n",
    "# Callback for early stopping\n",
    "es_callback = tf.keras.callbacks.EarlyStopping(patience=20, verbose=1)"
   ]
  },
  {
   "cell_type": "code",
   "execution_count": 180,
   "metadata": {
    "id": "c3Dac0M_9hE2"
   },
   "outputs": [],
   "source": [
    "# Model compilation\n",
    "model.compile(\n",
    "    optimizer='adam',\n",
    "    loss='sparse_categorical_crossentropy',\n",
    "    metrics=['accuracy']\n",
    ")"
   ]
  },
  {
   "cell_type": "markdown",
   "metadata": {
    "id": "7XI0j1Iu9hE2"
   },
   "source": [
    "# Model training"
   ]
  },
  {
   "cell_type": "code",
   "execution_count": 181,
   "metadata": {
    "colab": {
     "base_uri": "https://localhost:8080/"
    },
    "id": "WirBl-JE9hE3",
    "outputId": "71b30ca2-8294-4d9d-8aa2-800d90d399de",
    "scrolled": true
   },
   "outputs": [
    {
     "name": "stdout",
     "output_type": "stream",
     "text": [
      "Epoch 1/30\n",
      "1/1 [==============================] - ETA: 0s - loss: 0.9321 - accuracy: 0.4800\n",
      "Epoch 1: saving model to model/keypoint_classifier\\keypoint_classifier.hdf5\n",
      "1/1 [==============================] - 1s 1s/step - loss: 0.9321 - accuracy: 0.4800 - val_loss: 0.8617 - val_accuracy: 0.4400\n",
      "Epoch 2/30\n",
      "1/1 [==============================] - ETA: 0s - loss: 0.9035 - accuracy: 0.4933\n",
      "Epoch 2: saving model to model/keypoint_classifier\\keypoint_classifier.hdf5\n",
      "1/1 [==============================] - 0s 99ms/step - loss: 0.9035 - accuracy: 0.4933 - val_loss: 0.8241 - val_accuracy: 0.4400\n",
      "Epoch 3/30\n",
      "1/1 [==============================] - ETA: 0s - loss: 0.8566 - accuracy: 0.5467\n",
      "Epoch 3: saving model to model/keypoint_classifier\\keypoint_classifier.hdf5\n"
     ]
    },
    {
     "name": "stderr",
     "output_type": "stream",
     "text": [
      "C:\\Users\\Sanjay\\AppData\\Local\\Programs\\Python\\Python39\\lib\\site-packages\\keras\\src\\engine\\training.py:3000: UserWarning: You are saving your model as an HDF5 file via `model.save()`. This file format is considered legacy. We recommend using instead the native Keras format, e.g. `model.save('my_model.keras')`.\n",
      "  saving_api.save_model(\n"
     ]
    },
    {
     "name": "stdout",
     "output_type": "stream",
     "text": [
      "1/1 [==============================] - 0s 90ms/step - loss: 0.8566 - accuracy: 0.5467 - val_loss: 0.7891 - val_accuracy: 0.4400\n",
      "Epoch 4/30\n",
      "1/1 [==============================] - ETA: 0s - loss: 0.7557 - accuracy: 0.6133\n",
      "Epoch 4: saving model to model/keypoint_classifier\\keypoint_classifier.hdf5\n",
      "1/1 [==============================] - 0s 83ms/step - loss: 0.7557 - accuracy: 0.6133 - val_loss: 0.7580 - val_accuracy: 0.4400\n",
      "Epoch 5/30\n",
      "1/1 [==============================] - ETA: 0s - loss: 0.8429 - accuracy: 0.5200\n",
      "Epoch 5: saving model to model/keypoint_classifier\\keypoint_classifier.hdf5\n",
      "1/1 [==============================] - 0s 59ms/step - loss: 0.8429 - accuracy: 0.5200 - val_loss: 0.7303 - val_accuracy: 0.4400\n",
      "Epoch 6/30\n",
      "1/1 [==============================] - ETA: 0s - loss: 0.8565 - accuracy: 0.4800\n",
      "Epoch 6: saving model to model/keypoint_classifier\\keypoint_classifier.hdf5\n",
      "1/1 [==============================] - 0s 75ms/step - loss: 0.8565 - accuracy: 0.4800 - val_loss: 0.7078 - val_accuracy: 0.4400\n",
      "Epoch 7/30\n",
      "1/1 [==============================] - ETA: 0s - loss: 0.8110 - accuracy: 0.4800\n",
      "Epoch 7: saving model to model/keypoint_classifier\\keypoint_classifier.hdf5\n",
      "1/1 [==============================] - 0s 69ms/step - loss: 0.8110 - accuracy: 0.4800 - val_loss: 0.6892 - val_accuracy: 0.4400\n",
      "Epoch 8/30\n",
      "1/1 [==============================] - ETA: 0s - loss: 0.7365 - accuracy: 0.5067\n",
      "Epoch 8: saving model to model/keypoint_classifier\\keypoint_classifier.hdf5\n",
      "1/1 [==============================] - 0s 71ms/step - loss: 0.7365 - accuracy: 0.5067 - val_loss: 0.6730 - val_accuracy: 0.4400\n",
      "Epoch 9/30\n",
      "1/1 [==============================] - ETA: 0s - loss: 0.8126 - accuracy: 0.4267\n",
      "Epoch 9: saving model to model/keypoint_classifier\\keypoint_classifier.hdf5\n",
      "1/1 [==============================] - 0s 79ms/step - loss: 0.8126 - accuracy: 0.4267 - val_loss: 0.6604 - val_accuracy: 0.3600\n",
      "Epoch 10/30\n",
      "1/1 [==============================] - ETA: 0s - loss: 0.7490 - accuracy: 0.4933\n",
      "Epoch 10: saving model to model/keypoint_classifier\\keypoint_classifier.hdf5\n",
      "1/1 [==============================] - 0s 83ms/step - loss: 0.7490 - accuracy: 0.4933 - val_loss: 0.6502 - val_accuracy: 0.6400\n",
      "Epoch 11/30\n",
      "1/1 [==============================] - ETA: 0s - loss: 0.7656 - accuracy: 0.4933\n",
      "Epoch 11: saving model to model/keypoint_classifier\\keypoint_classifier.hdf5\n",
      "1/1 [==============================] - 0s 67ms/step - loss: 0.7656 - accuracy: 0.4933 - val_loss: 0.6422 - val_accuracy: 0.6800\n",
      "Epoch 12/30\n",
      "1/1 [==============================] - ETA: 0s - loss: 0.7748 - accuracy: 0.5200\n",
      "Epoch 12: saving model to model/keypoint_classifier\\keypoint_classifier.hdf5\n",
      "1/1 [==============================] - 0s 88ms/step - loss: 0.7748 - accuracy: 0.5200 - val_loss: 0.6360 - val_accuracy: 0.6800\n",
      "Epoch 13/30\n",
      "1/1 [==============================] - ETA: 0s - loss: 0.7319 - accuracy: 0.5333\n",
      "Epoch 13: saving model to model/keypoint_classifier\\keypoint_classifier.hdf5\n",
      "1/1 [==============================] - 0s 78ms/step - loss: 0.7319 - accuracy: 0.5333 - val_loss: 0.6309 - val_accuracy: 0.6800\n",
      "Epoch 14/30\n",
      "1/1 [==============================] - ETA: 0s - loss: 0.7624 - accuracy: 0.4267\n",
      "Epoch 14: saving model to model/keypoint_classifier\\keypoint_classifier.hdf5\n",
      "1/1 [==============================] - 0s 67ms/step - loss: 0.7624 - accuracy: 0.4267 - val_loss: 0.6262 - val_accuracy: 0.6800\n",
      "Epoch 15/30\n",
      "1/1 [==============================] - ETA: 0s - loss: 0.7460 - accuracy: 0.5733\n",
      "Epoch 15: saving model to model/keypoint_classifier\\keypoint_classifier.hdf5\n",
      "1/1 [==============================] - 0s 70ms/step - loss: 0.7460 - accuracy: 0.5733 - val_loss: 0.6224 - val_accuracy: 0.6800\n",
      "Epoch 16/30\n",
      "1/1 [==============================] - ETA: 0s - loss: 0.7496 - accuracy: 0.5067\n",
      "Epoch 16: saving model to model/keypoint_classifier\\keypoint_classifier.hdf5\n",
      "1/1 [==============================] - 0s 68ms/step - loss: 0.7496 - accuracy: 0.5067 - val_loss: 0.6188 - val_accuracy: 0.6800\n",
      "Epoch 17/30\n",
      "1/1 [==============================] - ETA: 0s - loss: 0.8010 - accuracy: 0.4933\n",
      "Epoch 17: saving model to model/keypoint_classifier\\keypoint_classifier.hdf5\n",
      "1/1 [==============================] - 0s 81ms/step - loss: 0.8010 - accuracy: 0.4933 - val_loss: 0.6155 - val_accuracy: 0.6800\n",
      "Epoch 18/30\n",
      "1/1 [==============================] - ETA: 0s - loss: 0.7102 - accuracy: 0.5467\n",
      "Epoch 18: saving model to model/keypoint_classifier\\keypoint_classifier.hdf5\n",
      "1/1 [==============================] - 0s 66ms/step - loss: 0.7102 - accuracy: 0.5467 - val_loss: 0.6121 - val_accuracy: 0.6800\n",
      "Epoch 19/30\n",
      "1/1 [==============================] - ETA: 0s - loss: 0.6557 - accuracy: 0.6000\n",
      "Epoch 19: saving model to model/keypoint_classifier\\keypoint_classifier.hdf5\n",
      "1/1 [==============================] - 0s 58ms/step - loss: 0.6557 - accuracy: 0.6000 - val_loss: 0.6084 - val_accuracy: 0.6800\n",
      "Epoch 20/30\n",
      "1/1 [==============================] - ETA: 0s - loss: 0.7420 - accuracy: 0.5200\n",
      "Epoch 20: saving model to model/keypoint_classifier\\keypoint_classifier.hdf5\n",
      "1/1 [==============================] - 0s 90ms/step - loss: 0.7420 - accuracy: 0.5200 - val_loss: 0.6050 - val_accuracy: 0.6800\n",
      "Epoch 21/30\n",
      "1/1 [==============================] - ETA: 0s - loss: 0.7426 - accuracy: 0.6000\n",
      "Epoch 21: saving model to model/keypoint_classifier\\keypoint_classifier.hdf5\n",
      "1/1 [==============================] - 0s 89ms/step - loss: 0.7426 - accuracy: 0.6000 - val_loss: 0.6019 - val_accuracy: 0.6800\n",
      "Epoch 22/30\n",
      "1/1 [==============================] - ETA: 0s - loss: 0.8126 - accuracy: 0.4133\n",
      "Epoch 22: saving model to model/keypoint_classifier\\keypoint_classifier.hdf5\n",
      "1/1 [==============================] - 0s 84ms/step - loss: 0.8126 - accuracy: 0.4133 - val_loss: 0.5990 - val_accuracy: 0.6800\n",
      "Epoch 23/30\n",
      "1/1 [==============================] - ETA: 0s - loss: 0.6806 - accuracy: 0.6133\n",
      "Epoch 23: saving model to model/keypoint_classifier\\keypoint_classifier.hdf5\n",
      "1/1 [==============================] - 0s 65ms/step - loss: 0.6806 - accuracy: 0.6133 - val_loss: 0.5966 - val_accuracy: 0.6800\n",
      "Epoch 24/30\n",
      "1/1 [==============================] - ETA: 0s - loss: 0.6904 - accuracy: 0.5600\n",
      "Epoch 24: saving model to model/keypoint_classifier\\keypoint_classifier.hdf5\n",
      "1/1 [==============================] - 0s 75ms/step - loss: 0.6904 - accuracy: 0.5600 - val_loss: 0.5949 - val_accuracy: 0.6800\n",
      "Epoch 25/30\n",
      "1/1 [==============================] - ETA: 0s - loss: 0.6845 - accuracy: 0.6267\n",
      "Epoch 25: saving model to model/keypoint_classifier\\keypoint_classifier.hdf5\n",
      "1/1 [==============================] - 0s 77ms/step - loss: 0.6845 - accuracy: 0.6267 - val_loss: 0.5928 - val_accuracy: 0.6800\n",
      "Epoch 26/30\n",
      "1/1 [==============================] - ETA: 0s - loss: 0.6810 - accuracy: 0.5733\n",
      "Epoch 26: saving model to model/keypoint_classifier\\keypoint_classifier.hdf5\n",
      "1/1 [==============================] - 0s 110ms/step - loss: 0.6810 - accuracy: 0.5733 - val_loss: 0.5896 - val_accuracy: 0.6800\n",
      "Epoch 27/30\n",
      "1/1 [==============================] - ETA: 0s - loss: 0.7357 - accuracy: 0.5600\n",
      "Epoch 27: saving model to model/keypoint_classifier\\keypoint_classifier.hdf5\n",
      "1/1 [==============================] - 0s 66ms/step - loss: 0.7357 - accuracy: 0.5600 - val_loss: 0.5850 - val_accuracy: 0.6800\n",
      "Epoch 28/30\n",
      "1/1 [==============================] - ETA: 0s - loss: 0.6294 - accuracy: 0.6000\n",
      "Epoch 28: saving model to model/keypoint_classifier\\keypoint_classifier.hdf5\n",
      "1/1 [==============================] - 0s 83ms/step - loss: 0.6294 - accuracy: 0.6000 - val_loss: 0.5791 - val_accuracy: 0.6800\n",
      "Epoch 29/30\n",
      "1/1 [==============================] - ETA: 0s - loss: 0.6697 - accuracy: 0.5867\n",
      "Epoch 29: saving model to model/keypoint_classifier\\keypoint_classifier.hdf5\n",
      "1/1 [==============================] - 0s 101ms/step - loss: 0.6697 - accuracy: 0.5867 - val_loss: 0.5733 - val_accuracy: 0.6800\n",
      "Epoch 30/30\n",
      "1/1 [==============================] - ETA: 0s - loss: 0.6715 - accuracy: 0.6000\n",
      "Epoch 30: saving model to model/keypoint_classifier\\keypoint_classifier.hdf5\n",
      "1/1 [==============================] - 0s 98ms/step - loss: 0.6715 - accuracy: 0.6000 - val_loss: 0.5671 - val_accuracy: 0.6800\n"
     ]
    },
    {
     "data": {
      "text/plain": [
       "<keras.src.callbacks.History at 0x241885db370>"
      ]
     },
     "execution_count": 181,
     "metadata": {},
     "output_type": "execute_result"
    }
   ],
   "source": [
    "model.fit(\n",
    "    X_train,\n",
    "    y_train,\n",
    "    epochs=100,\n",
    "    batch_size=128,\n",
    "    validation_data=(X_test, y_test),\n",
    "    callbacks=[cp_callback, es_callback]\n",
    ")"
   ]
  },
  {
   "cell_type": "code",
   "execution_count": 182,
   "metadata": {
    "colab": {
     "base_uri": "https://localhost:8080/"
    },
    "id": "pxvb2Y299hE3",
    "outputId": "59eb3185-2e37-4b9e-bc9d-ab1b8ac29b7f"
   },
   "outputs": [
    {
     "name": "stdout",
     "output_type": "stream",
     "text": [
      "1/1 [==============================] - 0s 23ms/step - loss: 0.5671 - accuracy: 0.6800\n"
     ]
    }
   ],
   "source": [
    "# Model evaluation\n",
    "val_loss, val_acc = model.evaluate(X_test, y_test, batch_size=128)"
   ]
  },
  {
   "cell_type": "code",
   "execution_count": 183,
   "metadata": {
    "id": "RBkmDeUW9hE4"
   },
   "outputs": [],
   "source": [
    "# Loading the saved model\n",
    "model = tf.keras.models.load_model(model_save_path)"
   ]
  },
  {
   "cell_type": "code",
   "execution_count": 184,
   "metadata": {
    "colab": {
     "base_uri": "https://localhost:8080/"
    },
    "id": "tFz9Tb0I9hE4",
    "outputId": "1c3b3528-54ae-4ee2-ab04-77429211cbef"
   },
   "outputs": [
    {
     "name": "stdout",
     "output_type": "stream",
     "text": [
      "1/1 [==============================] - 0s 86ms/step\n",
      "[0.5296166  0.47038338]\n",
      "0\n"
     ]
    }
   ],
   "source": [
    "# Inference test\n",
    "predict_result = model.predict(np.array([X_test[0]]))\n",
    "print(np.squeeze(predict_result))\n",
    "print(np.argmax(np.squeeze(predict_result)))"
   ]
  },
  {
   "cell_type": "markdown",
   "metadata": {
    "id": "S3U4yNWx9hE4"
   },
   "source": [
    "# Confusion matrix"
   ]
  },
  {
   "cell_type": "code",
   "execution_count": 185,
   "metadata": {
    "colab": {
     "base_uri": "https://localhost:8080/",
     "height": 582
    },
    "id": "AP1V6SCk9hE5",
    "outputId": "08e41a80-7a4a-4619-8125-ecc371368d19"
   },
   "outputs": [
    {
     "name": "stdout",
     "output_type": "stream",
     "text": [
      "1/1 [==============================] - 0s 35ms/step\n"
     ]
    },
    {
     "data": {
      "image/png": "[encoded data removed]",
      "text/plain": [
       "<Figure size 700x600 with 2 Axes>"
      ]
     },
     "metadata": {},
     "output_type": "display_data"
    },
    {
     "name": "stdout",
     "output_type": "stream",
     "text": [
      "Classification Report\n",
      "              precision    recall  f1-score   support\n",
      "\n",
      "           0       0.64      1.00      0.78        14\n",
      "           1       1.00      0.27      0.43        11\n",
      "\n",
      "    accuracy                           0.68        25\n",
      "   macro avg       0.82      0.64      0.60        25\n",
      "weighted avg       0.80      0.68      0.62        25\n",
      "\n"
     ]
    }
   ],
   "source": [
    "import pandas as pd\n",
    "import seaborn as sns\n",
    "import matplotlib.pyplot as plt\n",
    "from sklearn.metrics import confusion_matrix, classification_report\n",
    "\n",
    "def print_confusion_matrix(y_true, y_pred, report=True):\n",
    "    labels = sorted(list(set(y_true)))\n",
    "    cmx_data = confusion_matrix(y_true, y_pred, labels=labels)\n",
    "    \n",
    "    df_cmx = pd.DataFrame(cmx_data, index=labels, columns=labels)\n",
    " \n",
    "    fig, ax = plt.subplots(figsize=(7, 6))\n",
    "    sns.heatmap(df_cmx, annot=True, fmt='g' ,square=False)\n",
    "    ax.set_ylim(len(set(y_true)), 0)\n",
    "    plt.show()\n",
    "    \n",
    "    if report:\n",
    "        print('Classification Report')\n",
    "        print(classification_report(y_test, y_pred))\n",
    "\n",
    "Y_pred = model.predict(X_test)\n",
    "y_pred = np.argmax(Y_pred, axis=1)\n",
    "\n",
    "print_confusion_matrix(y_test, y_pred)"
   ]
  },
  {
   "cell_type": "markdown",
   "metadata": {
    "id": "FNP6aqzc9hE5"
   },
   "source": [
    "# Convert to model for Tensorflow-Lite"
   ]
  },
  {
   "cell_type": "code",
   "execution_count": 186,
   "metadata": {
    "id": "ODjnYyld9hE6"
   },
   "outputs": [
    {
     "name": "stderr",
     "output_type": "stream",
     "text": [
      "C:\\Users\\Sanjay\\AppData\\Local\\Programs\\Python\\Python39\\lib\\site-packages\\keras\\src\\engine\\training.py:3000: UserWarning: You are saving your model as an HDF5 file via `model.save()`. This file format is considered legacy. We recommend using instead the native Keras format, e.g. `model.save('my_model.keras')`.\n",
      "  saving_api.save_model(\n"
     ]
    }
   ],
   "source": [
    "# Save as a model dedicated to inference\n",
    "model.save(model_save_path, include_optimizer=False)"
   ]
  },
  {
   "cell_type": "code",
   "execution_count": 187,
   "metadata": {
    "colab": {
     "base_uri": "https://localhost:8080/"
    },
    "id": "zRfuK8Y59hE6",
    "outputId": "a4ca585c-b5d5-4244-8291-8674063209bb"
   },
   "outputs": [
    {
     "name": "stdout",
     "output_type": "stream",
     "text": [
      "INFO:tensorflow:Assets written to: C:\\Users\\Sanjay\\AppData\\Local\\Temp\\tmp6eh69blu\\assets\n"
     ]
    },
    {
     "name": "stderr",
     "output_type": "stream",
     "text": [
      "INFO:tensorflow:Assets written to: C:\\Users\\Sanjay\\AppData\\Local\\Temp\\tmp6eh69blu\\assets\n"
     ]
    },
    {
     "data": {
      "text/plain": [
       "5304"
      ]
     },
     "execution_count": 187,
     "metadata": {},
     "output_type": "execute_result"
    }
   ],
   "source": [
    "# Transform model (quantization)\n",
    "\n",
    "converter = tf.lite.TFLiteConverter.from_keras_model(model)\n",
    "converter.optimizations = [tf.lite.Optimize.DEFAULT]\n",
    "tflite_quantized_model = converter.convert()\n",
    "\n",
    "open(tflite_save_path, 'wb').write(tflite_quantized_model)"
   ]
  },
  {
   "cell_type": "markdown",
   "metadata": {
    "id": "CHBPBXdx9hE6"
   },
   "source": [
    "# Inference test"
   ]
  },
  {
   "cell_type": "code",
   "execution_count": 188,
   "metadata": {
    "id": "mGAzLocO9hE7"
   },
   "outputs": [],
   "source": [
    "interpreter = tf.lite.Interpreter(model_path=tflite_save_path)\n",
    "interpreter.allocate_tensors()"
   ]
  },
  {
   "cell_type": "code",
   "execution_count": 189,
   "metadata": {
    "id": "oQuDK8YS9hE7"
   },
   "outputs": [],
   "source": [
    "# Get I / O tensor\n",
    "input_details = interpreter.get_input_details()\n",
    "output_details = interpreter.get_output_details()"
   ]
  },
  {
   "cell_type": "code",
   "execution_count": 190,
   "metadata": {
    "id": "2_ixAf_l9hE7"
   },
   "outputs": [],
   "source": [
    "interpreter.set_tensor(input_details[0]['index'], np.array([X_test[0]]))"
   ]
  },
  {
   "cell_type": "code",
   "execution_count": 191,
   "metadata": {
    "colab": {
     "base_uri": "https://localhost:8080/"
    },
    "id": "s4FoAnuc9hE7",
    "outputId": "91f18257-8d8b-4ef3-c558-e9b5f94fabbf",
    "scrolled": true
   },
   "outputs": [
    {
     "name": "stdout",
     "output_type": "stream",
     "text": [
      "CPU times: total: 0 ns\n",
      "Wall time: 0 ns\n"
     ]
    }
   ],
   "source": [
    "%%time\n",
    "# Inference implementation\n",
    "interpreter.invoke()\n",
    "tflite_results = interpreter.get_tensor(output_details[0]['index'])"
   ]
  },
  {
   "cell_type": "code",
   "execution_count": 192,
   "metadata": {
    "colab": {
     "base_uri": "https://localhost:8080/"
    },
    "id": "vONjp19J9hE8",
    "outputId": "77205e24-fd00-42c4-f7b6-e06e527c2cba"
   },
   "outputs": [
    {
     "name": "stdout",
     "output_type": "stream",
     "text": [
      "[0.5309844  0.46901566]\n",
      "0\n"
     ]
    }
   ],
   "source": [
    "print(np.squeeze(tflite_results))\n",
    "print(np.argmax(np.squeeze(tflite_results)))"
   ]
  },
  {
   "cell_type": "code",
   "execution_count": null,
   "metadata": {},
   "outputs": [],
   "source": []
  },
  {
   "cell_type": "code",
   "execution_count": null,
   "metadata": {},
   "outputs": [],
   "source": []
  }
 ],
 "metadata": {
  "accelerator": "GPU",
  "colab": {
   "collapsed_sections": [],
   "name": "keypoint_classification_EN.ipynb",
   "provenance": [],
   "toc_visible": true
  },
  "kernelspec": {
   "display_name": "Python 3 (ipykernel)",
   "language": "python",
   "name": "python3"
  },
  "language_info": {
   "codemirror_mode": {
    "name": "ipython",
    "version": 3
   },
   "file_extension": ".py",
   "mimetype": "text/x-python",
   "name": "python",
   "nbconvert_exporter": "python",
   "pygments_lexer": "ipython3",
   "version": "3.9.7"
  }
 },
 "nbformat": 4,
 "nbformat_minor": 1
}
