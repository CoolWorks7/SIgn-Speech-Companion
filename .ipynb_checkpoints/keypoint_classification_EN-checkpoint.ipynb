{
 "cells": [
  {
   "cell_type": "code",
   "execution_count": 24,
   "metadata": {
    "id": "igMyGnjE9hEp"
   },
   "outputs": [],
   "source": [
    "import csv\n",
    "\n",
    "import numpy as np\n",
    "import tensorflow as tf\n",
    "from sklearn.model_selection import train_test_split\n",
    "\n",
    "RANDOM_SEED = 42"
   ]
  },
  {
   "cell_type": "markdown",
   "metadata": {
    "id": "t2HDvhIu9hEr"
   },
   "source": [
    "# Specify each path"
   ]
  },
  {
   "cell_type": "code",
   "execution_count": 25,
   "metadata": {
    "id": "9NvZP2Zn9hEy"
   },
   "outputs": [],
   "source": [
    "dataset = 'model/keypoint_classifier/keypoint.csv'\n",
    "model_save_path = 'model/keypoint_classifier/keypoint_classifier.hdf5'\n",
    "tflite_save_path = 'model/keypoint_classifier/keypoint_classifier.tflite'"
   ]
  },
  {
   "cell_type": "markdown",
   "metadata": {
    "id": "s5oMH7x19hEz"
   },
   "source": [
    "# Set number of classes"
   ]
  },
  {
   "cell_type": "code",
   "execution_count": 26,
   "metadata": {
    "id": "du4kodXL9hEz"
   },
   "outputs": [],
   "source": [
    "NUM_CLASSES = 2"
   ]
  },
  {
   "cell_type": "markdown",
   "metadata": {
    "id": "XjnL0uso9hEz"
   },
   "source": [
    "# Dataset reading"
   ]
  },
  {
   "cell_type": "code",
   "execution_count": 27,
   "metadata": {
    "id": "QT5ZqtEz9hE0"
   },
   "outputs": [],
   "source": [
    "X_dataset = np.loadtxt(dataset, delimiter=',', dtype='float32', usecols=list(range(1, (21 * 2 * 2) + 1)))"
   ]
  },
  {
   "cell_type": "code",
   "execution_count": 28,
   "metadata": {
    "id": "QmoKFsp49hE0"
   },
   "outputs": [],
   "source": [
    "y_dataset = np.loadtxt(dataset, delimiter=',', dtype='int32', usecols=(0))"
   ]
  },
  {
   "cell_type": "code",
   "execution_count": 29,
   "metadata": {
    "id": "xQU7JTZ_9hE0"
   },
   "outputs": [],
   "source": [
    "X_train, X_test, y_train, y_test = train_test_split(X_dataset, y_dataset, train_size=0.75, random_state=RANDOM_SEED)"
   ]
  },
  {
   "cell_type": "markdown",
   "metadata": {
    "id": "mxK_lETT9hE0"
   },
   "source": [
    "# Model building"
   ]
  },
  {
   "cell_type": "code",
   "execution_count": 30,
   "metadata": {
    "id": "vHBmUf1t9hE1"
   },
   "outputs": [],
   "source": [
    "model = tf.keras.models.Sequential([\n",
    "    tf.keras.layers.Input((21 * 2 * 2, )),\n",
    "    tf.keras.layers.Dropout(0.2),\n",
    "    tf.keras.layers.Dense(20, activation='relu'),\n",
    "    tf.keras.layers.Dropout(0.4),\n",
    "    tf.keras.layers.Dense(10, activation='relu'),\n",
    "    tf.keras.layers.Dense(NUM_CLASSES, activation='softmax')\n",
    "])"
   ]
  },
  {
   "cell_type": "code",
   "execution_count": 31,
   "metadata": {
    "colab": {
     "base_uri": "https://localhost:8080/"
    },
    "id": "ypqky9tc9hE1",
    "outputId": "5db082bb-30e3-4110-bf63-a1ee777ecd46"
   },
   "outputs": [
    {
     "name": "stdout",
     "output_type": "stream",
     "text": [
      "Model: \"sequential_1\"\n",
      "_________________________________________________________________\n",
      " Layer (type)                Output Shape              Param #   \n",
      "=================================================================\n",
      " dropout_2 (Dropout)         (None, 84)                0         \n",
      "                                                                 \n",
      " dense_3 (Dense)             (None, 20)                1700      \n",
      "                                                                 \n",
      " dropout_3 (Dropout)         (None, 20)                0         \n",
      "                                                                 \n",
      " dense_4 (Dense)             (None, 10)                210       \n",
      "                                                                 \n",
      " dense_5 (Dense)             (None, 2)                 22        \n",
      "                                                                 \n",
      "=================================================================\n",
      "Total params: 1932 (7.55 KB)\n",
      "Trainable params: 1932 (7.55 KB)\n",
      "Non-trainable params: 0 (0.00 Byte)\n",
      "_________________________________________________________________\n"
     ]
    }
   ],
   "source": [
    "model.summary()  # tf.keras.utils.plot_model(model, show_shapes=True)"
   ]
  },
  {
   "cell_type": "code",
   "execution_count": 32,
   "metadata": {
    "id": "MbMjOflQ9hE1"
   },
   "outputs": [],
   "source": [
    "# Model checkpoint callback\n",
    "cp_callback = tf.keras.callbacks.ModelCheckpoint(\n",
    "    model_save_path, verbose=1, save_weights_only=False)\n",
    "# Callback for early stopping\n",
    "es_callback = tf.keras.callbacks.EarlyStopping(patience=20, verbose=1)"
   ]
  },
  {
   "cell_type": "code",
   "execution_count": 33,
   "metadata": {
    "id": "c3Dac0M_9hE2"
   },
   "outputs": [],
   "source": [
    "# Model compilation\n",
    "model.compile(\n",
    "    optimizer='adam',\n",
    "    loss='sparse_categorical_crossentropy',\n",
    "    metrics=['accuracy']\n",
    ")"
   ]
  },
  {
   "cell_type": "markdown",
   "metadata": {
    "id": "7XI0j1Iu9hE2"
   },
   "source": [
    "# Model training"
   ]
  },
  {
   "cell_type": "code",
   "execution_count": 34,
   "metadata": {
    "colab": {
     "base_uri": "https://localhost:8080/"
    },
    "id": "WirBl-JE9hE3",
    "outputId": "71b30ca2-8294-4d9d-8aa2-800d90d399de",
    "scrolled": true
   },
   "outputs": [
    {
     "name": "stdout",
     "output_type": "stream",
     "text": [
      "Epoch 1/100\n",
      "1/1 [==============================] - ETA: 0s - loss: 0.6926 - accuracy: 0.5333\n",
      "Epoch 1: saving model to model/keypoint_classifier\\keypoint_classifier.hdf5\n",
      "1/1 [==============================] - 2s 2s/step - loss: 0.6926 - accuracy: 0.5333 - val_loss: 0.5623 - val_accuracy: 0.5600\n",
      "Epoch 2/100\n",
      "1/1 [==============================] - ETA: 0s - loss: 0.7272 - accuracy: 0.5600\n",
      "Epoch 2: saving model to model/keypoint_classifier\\keypoint_classifier.hdf5\n"
     ]
    },
    {
     "name": "stderr",
     "output_type": "stream",
     "text": [
      "C:\\Users\\Sanjay\\AppData\\Local\\Programs\\Python\\Python39\\lib\\site-packages\\keras\\src\\engine\\training.py:3000: UserWarning: You are saving your model as an HDF5 file via `model.save()`. This file format is considered legacy. We recommend using instead the native Keras format, e.g. `model.save('my_model.keras')`.\n",
      "  saving_api.save_model(\n"
     ]
    },
    {
     "name": "stdout",
     "output_type": "stream",
     "text": [
      "1/1 [==============================] - 0s 145ms/step - loss: 0.7272 - accuracy: 0.5600 - val_loss: 0.5299 - val_accuracy: 0.5600\n",
      "Epoch 3/100\n",
      "1/1 [==============================] - ETA: 0s - loss: 0.6730 - accuracy: 0.5867\n",
      "Epoch 3: saving model to model/keypoint_classifier\\keypoint_classifier.hdf5\n",
      "1/1 [==============================] - 0s 150ms/step - loss: 0.6730 - accuracy: 0.5867 - val_loss: 0.5050 - val_accuracy: 0.6800\n",
      "Epoch 4/100\n",
      "1/1 [==============================] - ETA: 0s - loss: 0.6663 - accuracy: 0.6267\n",
      "Epoch 4: saving model to model/keypoint_classifier\\keypoint_classifier.hdf5\n",
      "1/1 [==============================] - 0s 145ms/step - loss: 0.6663 - accuracy: 0.6267 - val_loss: 0.4939 - val_accuracy: 0.8000\n",
      "Epoch 5/100\n",
      "1/1 [==============================] - ETA: 0s - loss: 0.6221 - accuracy: 0.6267\n",
      "Epoch 5: saving model to model/keypoint_classifier\\keypoint_classifier.hdf5\n",
      "1/1 [==============================] - 0s 149ms/step - loss: 0.6221 - accuracy: 0.6267 - val_loss: 0.4924 - val_accuracy: 0.8800\n",
      "Epoch 6/100\n",
      "1/1 [==============================] - ETA: 0s - loss: 0.5841 - accuracy: 0.7200\n",
      "Epoch 6: saving model to model/keypoint_classifier\\keypoint_classifier.hdf5\n",
      "1/1 [==============================] - 0s 148ms/step - loss: 0.5841 - accuracy: 0.7200 - val_loss: 0.4946 - val_accuracy: 0.9600\n",
      "Epoch 7/100\n",
      "1/1 [==============================] - ETA: 0s - loss: 0.5642 - accuracy: 0.7333\n",
      "Epoch 7: saving model to model/keypoint_classifier\\keypoint_classifier.hdf5\n",
      "1/1 [==============================] - 0s 130ms/step - loss: 0.5642 - accuracy: 0.7333 - val_loss: 0.4968 - val_accuracy: 1.0000\n",
      "Epoch 8/100\n",
      "1/1 [==============================] - ETA: 0s - loss: 0.5891 - accuracy: 0.7067\n",
      "Epoch 8: saving model to model/keypoint_classifier\\keypoint_classifier.hdf5\n",
      "1/1 [==============================] - 0s 153ms/step - loss: 0.5891 - accuracy: 0.7067 - val_loss: 0.4987 - val_accuracy: 1.0000\n",
      "Epoch 9/100\n",
      "1/1 [==============================] - ETA: 0s - loss: 0.5421 - accuracy: 0.8000\n",
      "Epoch 9: saving model to model/keypoint_classifier\\keypoint_classifier.hdf5\n",
      "1/1 [==============================] - 0s 154ms/step - loss: 0.5421 - accuracy: 0.8000 - val_loss: 0.4976 - val_accuracy: 1.0000\n",
      "Epoch 10/100\n",
      "1/1 [==============================] - ETA: 0s - loss: 0.5577 - accuracy: 0.7333\n",
      "Epoch 10: saving model to model/keypoint_classifier\\keypoint_classifier.hdf5\n",
      "1/1 [==============================] - 0s 146ms/step - loss: 0.5577 - accuracy: 0.7333 - val_loss: 0.4948 - val_accuracy: 1.0000\n",
      "Epoch 11/100\n",
      "1/1 [==============================] - ETA: 0s - loss: 0.5462 - accuracy: 0.8267\n",
      "Epoch 11: saving model to model/keypoint_classifier\\keypoint_classifier.hdf5\n",
      "1/1 [==============================] - 0s 147ms/step - loss: 0.5462 - accuracy: 0.8267 - val_loss: 0.4905 - val_accuracy: 1.0000\n",
      "Epoch 12/100\n",
      "1/1 [==============================] - ETA: 0s - loss: 0.4866 - accuracy: 0.8267\n",
      "Epoch 12: saving model to model/keypoint_classifier\\keypoint_classifier.hdf5\n",
      "1/1 [==============================] - 0s 142ms/step - loss: 0.4866 - accuracy: 0.8267 - val_loss: 0.4843 - val_accuracy: 1.0000\n",
      "Epoch 13/100\n",
      "1/1 [==============================] - ETA: 0s - loss: 0.5407 - accuracy: 0.8400\n",
      "Epoch 13: saving model to model/keypoint_classifier\\keypoint_classifier.hdf5\n",
      "1/1 [==============================] - 0s 143ms/step - loss: 0.5407 - accuracy: 0.8400 - val_loss: 0.4770 - val_accuracy: 1.0000\n",
      "Epoch 14/100\n",
      "1/1 [==============================] - ETA: 0s - loss: 0.5244 - accuracy: 0.8400\n",
      "Epoch 14: saving model to model/keypoint_classifier\\keypoint_classifier.hdf5\n",
      "1/1 [==============================] - 0s 144ms/step - loss: 0.5244 - accuracy: 0.8400 - val_loss: 0.4685 - val_accuracy: 1.0000\n",
      "Epoch 15/100\n",
      "1/1 [==============================] - ETA: 0s - loss: 0.5249 - accuracy: 0.8000\n",
      "Epoch 15: saving model to model/keypoint_classifier\\keypoint_classifier.hdf5\n",
      "1/1 [==============================] - 0s 154ms/step - loss: 0.5249 - accuracy: 0.8000 - val_loss: 0.4591 - val_accuracy: 1.0000\n",
      "Epoch 16/100\n",
      "1/1 [==============================] - ETA: 0s - loss: 0.4822 - accuracy: 0.8933\n",
      "Epoch 16: saving model to model/keypoint_classifier\\keypoint_classifier.hdf5\n",
      "1/1 [==============================] - 0s 151ms/step - loss: 0.4822 - accuracy: 0.8933 - val_loss: 0.4486 - val_accuracy: 1.0000\n",
      "Epoch 17/100\n",
      "1/1 [==============================] - ETA: 0s - loss: 0.5010 - accuracy: 0.9333\n",
      "Epoch 17: saving model to model/keypoint_classifier\\keypoint_classifier.hdf5\n",
      "1/1 [==============================] - 0s 151ms/step - loss: 0.5010 - accuracy: 0.9333 - val_loss: 0.4367 - val_accuracy: 1.0000\n",
      "Epoch 18/100\n",
      "1/1 [==============================] - ETA: 0s - loss: 0.4511 - accuracy: 0.9200\n",
      "Epoch 18: saving model to model/keypoint_classifier\\keypoint_classifier.hdf5\n",
      "1/1 [==============================] - 0s 151ms/step - loss: 0.4511 - accuracy: 0.9200 - val_loss: 0.4245 - val_accuracy: 1.0000\n",
      "Epoch 19/100\n",
      "1/1 [==============================] - ETA: 0s - loss: 0.4963 - accuracy: 0.8533\n",
      "Epoch 19: saving model to model/keypoint_classifier\\keypoint_classifier.hdf5\n",
      "1/1 [==============================] - 0s 149ms/step - loss: 0.4963 - accuracy: 0.8533 - val_loss: 0.4120 - val_accuracy: 1.0000\n",
      "Epoch 20/100\n",
      "1/1 [==============================] - ETA: 0s - loss: 0.4867 - accuracy: 0.8533\n",
      "Epoch 20: saving model to model/keypoint_classifier\\keypoint_classifier.hdf5\n",
      "1/1 [==============================] - 0s 140ms/step - loss: 0.4867 - accuracy: 0.8533 - val_loss: 0.3994 - val_accuracy: 1.0000\n",
      "Epoch 21/100\n",
      "1/1 [==============================] - ETA: 0s - loss: 0.4550 - accuracy: 0.9067\n",
      "Epoch 21: saving model to model/keypoint_classifier\\keypoint_classifier.hdf5\n",
      "1/1 [==============================] - 0s 148ms/step - loss: 0.4550 - accuracy: 0.9067 - val_loss: 0.3863 - val_accuracy: 1.0000\n",
      "Epoch 22/100\n",
      "1/1 [==============================] - ETA: 0s - loss: 0.4228 - accuracy: 0.8800\n",
      "Epoch 22: saving model to model/keypoint_classifier\\keypoint_classifier.hdf5\n",
      "1/1 [==============================] - 0s 151ms/step - loss: 0.4228 - accuracy: 0.8800 - val_loss: 0.3727 - val_accuracy: 1.0000\n",
      "Epoch 23/100\n",
      "1/1 [==============================] - ETA: 0s - loss: 0.4310 - accuracy: 0.9333\n",
      "Epoch 23: saving model to model/keypoint_classifier\\keypoint_classifier.hdf5\n",
      "1/1 [==============================] - 0s 151ms/step - loss: 0.4310 - accuracy: 0.9333 - val_loss: 0.3594 - val_accuracy: 1.0000\n",
      "Epoch 24/100\n",
      "1/1 [==============================] - ETA: 0s - loss: 0.4235 - accuracy: 0.9067\n",
      "Epoch 24: saving model to model/keypoint_classifier\\keypoint_classifier.hdf5\n",
      "1/1 [==============================] - 0s 149ms/step - loss: 0.4235 - accuracy: 0.9067 - val_loss: 0.3462 - val_accuracy: 1.0000\n",
      "Epoch 25/100\n",
      "1/1 [==============================] - ETA: 0s - loss: 0.4328 - accuracy: 0.8800\n",
      "Epoch 25: saving model to model/keypoint_classifier\\keypoint_classifier.hdf5\n",
      "1/1 [==============================] - 0s 153ms/step - loss: 0.4328 - accuracy: 0.8800 - val_loss: 0.3333 - val_accuracy: 1.0000\n",
      "Epoch 26/100\n",
      "1/1 [==============================] - ETA: 0s - loss: 0.4331 - accuracy: 0.9067\n",
      "Epoch 26: saving model to model/keypoint_classifier\\keypoint_classifier.hdf5\n",
      "1/1 [==============================] - 0s 161ms/step - loss: 0.4331 - accuracy: 0.9067 - val_loss: 0.3200 - val_accuracy: 1.0000\n",
      "Epoch 27/100\n",
      "1/1 [==============================] - ETA: 0s - loss: 0.3964 - accuracy: 0.8800\n",
      "Epoch 27: saving model to model/keypoint_classifier\\keypoint_classifier.hdf5\n",
      "1/1 [==============================] - 0s 150ms/step - loss: 0.3964 - accuracy: 0.8800 - val_loss: 0.3062 - val_accuracy: 1.0000\n",
      "Epoch 28/100\n",
      "1/1 [==============================] - ETA: 0s - loss: 0.3837 - accuracy: 0.8800\n",
      "Epoch 28: saving model to model/keypoint_classifier\\keypoint_classifier.hdf5\n",
      "1/1 [==============================] - 0s 151ms/step - loss: 0.3837 - accuracy: 0.8800 - val_loss: 0.2925 - val_accuracy: 1.0000\n",
      "Epoch 29/100\n",
      "1/1 [==============================] - ETA: 0s - loss: 0.3567 - accuracy: 0.8933\n",
      "Epoch 29: saving model to model/keypoint_classifier\\keypoint_classifier.hdf5\n",
      "1/1 [==============================] - 0s 151ms/step - loss: 0.3567 - accuracy: 0.8933 - val_loss: 0.2789 - val_accuracy: 1.0000\n"
     ]
    },
    {
     "name": "stdout",
     "output_type": "stream",
     "text": [
      "Epoch 30/100\n",
      "1/1 [==============================] - ETA: 0s - loss: 0.3686 - accuracy: 0.8933\n",
      "Epoch 30: saving model to model/keypoint_classifier\\keypoint_classifier.hdf5\n",
      "1/1 [==============================] - 0s 149ms/step - loss: 0.3686 - accuracy: 0.8933 - val_loss: 0.2662 - val_accuracy: 1.0000\n",
      "Epoch 31/100\n",
      "1/1 [==============================] - ETA: 0s - loss: 0.3201 - accuracy: 0.9600\n",
      "Epoch 31: saving model to model/keypoint_classifier\\keypoint_classifier.hdf5\n",
      "1/1 [==============================] - 0s 165ms/step - loss: 0.3201 - accuracy: 0.9600 - val_loss: 0.2536 - val_accuracy: 1.0000\n",
      "Epoch 32/100\n",
      "1/1 [==============================] - ETA: 0s - loss: 0.3105 - accuracy: 0.9600\n",
      "Epoch 32: saving model to model/keypoint_classifier\\keypoint_classifier.hdf5\n",
      "1/1 [==============================] - 0s 151ms/step - loss: 0.3105 - accuracy: 0.9600 - val_loss: 0.2414 - val_accuracy: 1.0000\n",
      "Epoch 33/100\n",
      "1/1 [==============================] - ETA: 0s - loss: 0.3457 - accuracy: 0.8933\n",
      "Epoch 33: saving model to model/keypoint_classifier\\keypoint_classifier.hdf5\n",
      "1/1 [==============================] - 0s 135ms/step - loss: 0.3457 - accuracy: 0.8933 - val_loss: 0.2300 - val_accuracy: 1.0000\n",
      "Epoch 34/100\n",
      "1/1 [==============================] - ETA: 0s - loss: 0.2922 - accuracy: 0.9733\n",
      "Epoch 34: saving model to model/keypoint_classifier\\keypoint_classifier.hdf5\n",
      "1/1 [==============================] - 0s 152ms/step - loss: 0.2922 - accuracy: 0.9733 - val_loss: 0.2191 - val_accuracy: 1.0000\n",
      "Epoch 35/100\n",
      "1/1 [==============================] - ETA: 0s - loss: 0.3029 - accuracy: 0.9600\n",
      "Epoch 35: saving model to model/keypoint_classifier\\keypoint_classifier.hdf5\n",
      "1/1 [==============================] - 0s 150ms/step - loss: 0.3029 - accuracy: 0.9600 - val_loss: 0.2086 - val_accuracy: 1.0000\n",
      "Epoch 36/100\n",
      "1/1 [==============================] - ETA: 0s - loss: 0.3514 - accuracy: 0.8533\n",
      "Epoch 36: saving model to model/keypoint_classifier\\keypoint_classifier.hdf5\n",
      "1/1 [==============================] - 0s 129ms/step - loss: 0.3514 - accuracy: 0.8533 - val_loss: 0.1990 - val_accuracy: 1.0000\n",
      "Epoch 37/100\n",
      "1/1 [==============================] - ETA: 0s - loss: 0.2747 - accuracy: 0.9333\n",
      "Epoch 37: saving model to model/keypoint_classifier\\keypoint_classifier.hdf5\n",
      "1/1 [==============================] - 0s 148ms/step - loss: 0.2747 - accuracy: 0.9333 - val_loss: 0.1898 - val_accuracy: 1.0000\n",
      "Epoch 38/100\n",
      "1/1 [==============================] - ETA: 0s - loss: 0.2813 - accuracy: 0.9333\n",
      "Epoch 38: saving model to model/keypoint_classifier\\keypoint_classifier.hdf5\n",
      "1/1 [==============================] - 0s 143ms/step - loss: 0.2813 - accuracy: 0.9333 - val_loss: 0.1811 - val_accuracy: 1.0000\n",
      "Epoch 39/100\n",
      "1/1 [==============================] - ETA: 0s - loss: 0.2873 - accuracy: 0.9600\n",
      "Epoch 39: saving model to model/keypoint_classifier\\keypoint_classifier.hdf5\n",
      "1/1 [==============================] - 0s 135ms/step - loss: 0.2873 - accuracy: 0.9600 - val_loss: 0.1726 - val_accuracy: 1.0000\n",
      "Epoch 40/100\n",
      "1/1 [==============================] - ETA: 0s - loss: 0.3192 - accuracy: 0.8800\n",
      "Epoch 40: saving model to model/keypoint_classifier\\keypoint_classifier.hdf5\n",
      "1/1 [==============================] - 0s 158ms/step - loss: 0.3192 - accuracy: 0.8800 - val_loss: 0.1642 - val_accuracy: 1.0000\n",
      "Epoch 41/100\n",
      "1/1 [==============================] - ETA: 0s - loss: 0.2768 - accuracy: 0.9200\n",
      "Epoch 41: saving model to model/keypoint_classifier\\keypoint_classifier.hdf5\n",
      "1/1 [==============================] - 0s 194ms/step - loss: 0.2768 - accuracy: 0.9200 - val_loss: 0.1561 - val_accuracy: 1.0000\n",
      "Epoch 42/100\n",
      "1/1 [==============================] - ETA: 0s - loss: 0.2698 - accuracy: 0.9200\n",
      "Epoch 42: saving model to model/keypoint_classifier\\keypoint_classifier.hdf5\n",
      "1/1 [==============================] - 0s 159ms/step - loss: 0.2698 - accuracy: 0.9200 - val_loss: 0.1483 - val_accuracy: 1.0000\n",
      "Epoch 43/100\n",
      "1/1 [==============================] - ETA: 0s - loss: 0.2824 - accuracy: 0.9333\n",
      "Epoch 43: saving model to model/keypoint_classifier\\keypoint_classifier.hdf5\n",
      "1/1 [==============================] - 0s 135ms/step - loss: 0.2824 - accuracy: 0.9333 - val_loss: 0.1410 - val_accuracy: 1.0000\n",
      "Epoch 44/100\n",
      "1/1 [==============================] - ETA: 0s - loss: 0.2748 - accuracy: 0.9467\n",
      "Epoch 44: saving model to model/keypoint_classifier\\keypoint_classifier.hdf5\n",
      "1/1 [==============================] - 0s 129ms/step - loss: 0.2748 - accuracy: 0.9467 - val_loss: 0.1340 - val_accuracy: 1.0000\n",
      "Epoch 45/100\n",
      "1/1 [==============================] - ETA: 0s - loss: 0.2472 - accuracy: 0.9467\n",
      "Epoch 45: saving model to model/keypoint_classifier\\keypoint_classifier.hdf5\n",
      "1/1 [==============================] - 0s 134ms/step - loss: 0.2472 - accuracy: 0.9467 - val_loss: 0.1272 - val_accuracy: 1.0000\n",
      "Epoch 46/100\n",
      "1/1 [==============================] - ETA: 0s - loss: 0.2265 - accuracy: 0.9200\n",
      "Epoch 46: saving model to model/keypoint_classifier\\keypoint_classifier.hdf5\n",
      "1/1 [==============================] - 0s 150ms/step - loss: 0.2265 - accuracy: 0.9200 - val_loss: 0.1208 - val_accuracy: 1.0000\n",
      "Epoch 47/100\n",
      "1/1 [==============================] - ETA: 0s - loss: 0.2364 - accuracy: 0.9467\n",
      "Epoch 47: saving model to model/keypoint_classifier\\keypoint_classifier.hdf5\n",
      "1/1 [==============================] - 0s 141ms/step - loss: 0.2364 - accuracy: 0.9467 - val_loss: 0.1150 - val_accuracy: 1.0000\n",
      "Epoch 48/100\n",
      "1/1 [==============================] - ETA: 0s - loss: 0.2236 - accuracy: 0.9733\n",
      "Epoch 48: saving model to model/keypoint_classifier\\keypoint_classifier.hdf5\n",
      "1/1 [==============================] - 0s 156ms/step - loss: 0.2236 - accuracy: 0.9733 - val_loss: 0.1095 - val_accuracy: 1.0000\n",
      "Epoch 49/100\n",
      "1/1 [==============================] - ETA: 0s - loss: 0.1914 - accuracy: 0.9867\n",
      "Epoch 49: saving model to model/keypoint_classifier\\keypoint_classifier.hdf5\n",
      "1/1 [==============================] - 0s 149ms/step - loss: 0.1914 - accuracy: 0.9867 - val_loss: 0.1041 - val_accuracy: 1.0000\n",
      "Epoch 50/100\n",
      "1/1 [==============================] - ETA: 0s - loss: 0.1761 - accuracy: 0.9600\n",
      "Epoch 50: saving model to model/keypoint_classifier\\keypoint_classifier.hdf5\n",
      "1/1 [==============================] - 0s 145ms/step - loss: 0.1761 - accuracy: 0.9600 - val_loss: 0.0990 - val_accuracy: 1.0000\n",
      "Epoch 51/100\n",
      "1/1 [==============================] - ETA: 0s - loss: 0.1789 - accuracy: 0.9467\n",
      "Epoch 51: saving model to model/keypoint_classifier\\keypoint_classifier.hdf5\n",
      "1/1 [==============================] - 0s 152ms/step - loss: 0.1789 - accuracy: 0.9467 - val_loss: 0.0942 - val_accuracy: 1.0000\n",
      "Epoch 52/100\n",
      "1/1 [==============================] - ETA: 0s - loss: 0.1836 - accuracy: 0.9733\n",
      "Epoch 52: saving model to model/keypoint_classifier\\keypoint_classifier.hdf5\n",
      "1/1 [==============================] - 0s 150ms/step - loss: 0.1836 - accuracy: 0.9733 - val_loss: 0.0898 - val_accuracy: 1.0000\n",
      "Epoch 53/100\n",
      "1/1 [==============================] - ETA: 0s - loss: 0.2127 - accuracy: 0.9200\n",
      "Epoch 53: saving model to model/keypoint_classifier\\keypoint_classifier.hdf5\n",
      "1/1 [==============================] - 0s 143ms/step - loss: 0.2127 - accuracy: 0.9200 - val_loss: 0.0856 - val_accuracy: 1.0000\n",
      "Epoch 54/100\n",
      "1/1 [==============================] - ETA: 0s - loss: 0.1825 - accuracy: 0.9600\n",
      "Epoch 54: saving model to model/keypoint_classifier\\keypoint_classifier.hdf5\n",
      "1/1 [==============================] - 0s 133ms/step - loss: 0.1825 - accuracy: 0.9600 - val_loss: 0.0816 - val_accuracy: 1.0000\n",
      "Epoch 55/100\n",
      "1/1 [==============================] - ETA: 0s - loss: 0.2211 - accuracy: 0.9200\n",
      "Epoch 55: saving model to model/keypoint_classifier\\keypoint_classifier.hdf5\n",
      "1/1 [==============================] - 0s 140ms/step - loss: 0.2211 - accuracy: 0.9200 - val_loss: 0.0778 - val_accuracy: 1.0000\n",
      "Epoch 56/100\n",
      "1/1 [==============================] - ETA: 0s - loss: 0.1388 - accuracy: 0.9867\n",
      "Epoch 56: saving model to model/keypoint_classifier\\keypoint_classifier.hdf5\n",
      "1/1 [==============================] - 0s 149ms/step - loss: 0.1388 - accuracy: 0.9867 - val_loss: 0.0742 - val_accuracy: 1.0000\n",
      "Epoch 57/100\n"
     ]
    },
    {
     "name": "stdout",
     "output_type": "stream",
     "text": [
      "1/1 [==============================] - ETA: 0s - loss: 0.1180 - accuracy: 0.9867\n",
      "Epoch 57: saving model to model/keypoint_classifier\\keypoint_classifier.hdf5\n",
      "1/1 [==============================] - 0s 133ms/step - loss: 0.1180 - accuracy: 0.9867 - val_loss: 0.0707 - val_accuracy: 1.0000\n",
      "Epoch 58/100\n",
      "1/1 [==============================] - ETA: 0s - loss: 0.1928 - accuracy: 0.9467\n",
      "Epoch 58: saving model to model/keypoint_classifier\\keypoint_classifier.hdf5\n",
      "1/1 [==============================] - 0s 153ms/step - loss: 0.1928 - accuracy: 0.9467 - val_loss: 0.0674 - val_accuracy: 1.0000\n",
      "Epoch 59/100\n",
      "1/1 [==============================] - ETA: 0s - loss: 0.1685 - accuracy: 0.9333\n",
      "Epoch 59: saving model to model/keypoint_classifier\\keypoint_classifier.hdf5\n",
      "1/1 [==============================] - 0s 159ms/step - loss: 0.1685 - accuracy: 0.9333 - val_loss: 0.0643 - val_accuracy: 1.0000\n",
      "Epoch 60/100\n",
      "1/1 [==============================] - ETA: 0s - loss: 0.1583 - accuracy: 0.9600\n",
      "Epoch 60: saving model to model/keypoint_classifier\\keypoint_classifier.hdf5\n",
      "1/1 [==============================] - 0s 146ms/step - loss: 0.1583 - accuracy: 0.9600 - val_loss: 0.0612 - val_accuracy: 1.0000\n",
      "Epoch 61/100\n",
      "1/1 [==============================] - ETA: 0s - loss: 0.1198 - accuracy: 1.0000\n",
      "Epoch 61: saving model to model/keypoint_classifier\\keypoint_classifier.hdf5\n",
      "1/1 [==============================] - 0s 150ms/step - loss: 0.1198 - accuracy: 1.0000 - val_loss: 0.0582 - val_accuracy: 1.0000\n",
      "Epoch 62/100\n",
      "1/1 [==============================] - ETA: 0s - loss: 0.1687 - accuracy: 0.9467\n",
      "Epoch 62: saving model to model/keypoint_classifier\\keypoint_classifier.hdf5\n",
      "1/1 [==============================] - 0s 147ms/step - loss: 0.1687 - accuracy: 0.9467 - val_loss: 0.0555 - val_accuracy: 1.0000\n",
      "Epoch 63/100\n",
      "1/1 [==============================] - ETA: 0s - loss: 0.1154 - accuracy: 0.9867\n",
      "Epoch 63: saving model to model/keypoint_classifier\\keypoint_classifier.hdf5\n",
      "1/1 [==============================] - 0s 152ms/step - loss: 0.1154 - accuracy: 0.9867 - val_loss: 0.0529 - val_accuracy: 1.0000\n",
      "Epoch 64/100\n",
      "1/1 [==============================] - ETA: 0s - loss: 0.1017 - accuracy: 0.9867\n",
      "Epoch 64: saving model to model/keypoint_classifier\\keypoint_classifier.hdf5\n",
      "1/1 [==============================] - 0s 166ms/step - loss: 0.1017 - accuracy: 0.9867 - val_loss: 0.0504 - val_accuracy: 1.0000\n",
      "Epoch 65/100\n",
      "1/1 [==============================] - ETA: 0s - loss: 0.1327 - accuracy: 0.9867\n",
      "Epoch 65: saving model to model/keypoint_classifier\\keypoint_classifier.hdf5\n",
      "1/1 [==============================] - 0s 142ms/step - loss: 0.1327 - accuracy: 0.9867 - val_loss: 0.0481 - val_accuracy: 1.0000\n",
      "Epoch 66/100\n",
      "1/1 [==============================] - ETA: 0s - loss: 0.1228 - accuracy: 0.9867\n",
      "Epoch 66: saving model to model/keypoint_classifier\\keypoint_classifier.hdf5\n",
      "1/1 [==============================] - 0s 150ms/step - loss: 0.1228 - accuracy: 0.9867 - val_loss: 0.0459 - val_accuracy: 1.0000\n",
      "Epoch 67/100\n",
      "1/1 [==============================] - ETA: 0s - loss: 0.1481 - accuracy: 0.9733\n",
      "Epoch 67: saving model to model/keypoint_classifier\\keypoint_classifier.hdf5\n",
      "1/1 [==============================] - 0s 147ms/step - loss: 0.1481 - accuracy: 0.9733 - val_loss: 0.0438 - val_accuracy: 1.0000\n",
      "Epoch 68/100\n",
      "1/1 [==============================] - ETA: 0s - loss: 0.1030 - accuracy: 0.9867\n",
      "Epoch 68: saving model to model/keypoint_classifier\\keypoint_classifier.hdf5\n",
      "1/1 [==============================] - 0s 149ms/step - loss: 0.1030 - accuracy: 0.9867 - val_loss: 0.0418 - val_accuracy: 1.0000\n",
      "Epoch 69/100\n",
      "1/1 [==============================] - ETA: 0s - loss: 0.1372 - accuracy: 0.9333\n",
      "Epoch 69: saving model to model/keypoint_classifier\\keypoint_classifier.hdf5\n",
      "1/1 [==============================] - 0s 143ms/step - loss: 0.1372 - accuracy: 0.9333 - val_loss: 0.0399 - val_accuracy: 1.0000\n",
      "Epoch 70/100\n",
      "1/1 [==============================] - ETA: 0s - loss: 0.0992 - accuracy: 0.9867\n",
      "Epoch 70: saving model to model/keypoint_classifier\\keypoint_classifier.hdf5\n",
      "1/1 [==============================] - 0s 143ms/step - loss: 0.0992 - accuracy: 0.9867 - val_loss: 0.0381 - val_accuracy: 1.0000\n",
      "Epoch 71/100\n",
      "1/1 [==============================] - ETA: 0s - loss: 0.1203 - accuracy: 0.9733\n",
      "Epoch 71: saving model to model/keypoint_classifier\\keypoint_classifier.hdf5\n",
      "1/1 [==============================] - 0s 145ms/step - loss: 0.1203 - accuracy: 0.9733 - val_loss: 0.0365 - val_accuracy: 1.0000\n",
      "Epoch 72/100\n",
      "1/1 [==============================] - ETA: 0s - loss: 0.0906 - accuracy: 0.9867\n",
      "Epoch 72: saving model to model/keypoint_classifier\\keypoint_classifier.hdf5\n",
      "1/1 [==============================] - 0s 159ms/step - loss: 0.0906 - accuracy: 0.9867 - val_loss: 0.0349 - val_accuracy: 1.0000\n",
      "Epoch 73/100\n",
      "1/1 [==============================] - ETA: 0s - loss: 0.1082 - accuracy: 0.9733\n",
      "Epoch 73: saving model to model/keypoint_classifier\\keypoint_classifier.hdf5\n",
      "1/1 [==============================] - 0s 138ms/step - loss: 0.1082 - accuracy: 0.9733 - val_loss: 0.0333 - val_accuracy: 1.0000\n",
      "Epoch 74/100\n",
      "1/1 [==============================] - ETA: 0s - loss: 0.0640 - accuracy: 1.0000\n",
      "Epoch 74: saving model to model/keypoint_classifier\\keypoint_classifier.hdf5\n",
      "1/1 [==============================] - 0s 146ms/step - loss: 0.0640 - accuracy: 1.0000 - val_loss: 0.0318 - val_accuracy: 1.0000\n",
      "Epoch 75/100\n",
      "1/1 [==============================] - ETA: 0s - loss: 0.0892 - accuracy: 0.9867\n",
      "Epoch 75: saving model to model/keypoint_classifier\\keypoint_classifier.hdf5\n",
      "1/1 [==============================] - 0s 152ms/step - loss: 0.0892 - accuracy: 0.9867 - val_loss: 0.0304 - val_accuracy: 1.0000\n",
      "Epoch 76/100\n",
      "1/1 [==============================] - ETA: 0s - loss: 0.1078 - accuracy: 0.9867\n",
      "Epoch 76: saving model to model/keypoint_classifier\\keypoint_classifier.hdf5\n",
      "1/1 [==============================] - 0s 163ms/step - loss: 0.1078 - accuracy: 0.9867 - val_loss: 0.0291 - val_accuracy: 1.0000\n",
      "Epoch 77/100\n",
      "1/1 [==============================] - ETA: 0s - loss: 0.0843 - accuracy: 0.9867\n",
      "Epoch 77: saving model to model/keypoint_classifier\\keypoint_classifier.hdf5\n",
      "1/1 [==============================] - 0s 155ms/step - loss: 0.0843 - accuracy: 0.9867 - val_loss: 0.0278 - val_accuracy: 1.0000\n",
      "Epoch 78/100\n",
      "1/1 [==============================] - ETA: 0s - loss: 0.0849 - accuracy: 0.9867\n",
      "Epoch 78: saving model to model/keypoint_classifier\\keypoint_classifier.hdf5\n",
      "1/1 [==============================] - 0s 140ms/step - loss: 0.0849 - accuracy: 0.9867 - val_loss: 0.0265 - val_accuracy: 1.0000\n",
      "Epoch 79/100\n",
      "1/1 [==============================] - ETA: 0s - loss: 0.0791 - accuracy: 0.9867\n",
      "Epoch 79: saving model to model/keypoint_classifier\\keypoint_classifier.hdf5\n",
      "1/1 [==============================] - 0s 141ms/step - loss: 0.0791 - accuracy: 0.9867 - val_loss: 0.0254 - val_accuracy: 1.0000\n",
      "Epoch 80/100\n",
      "1/1 [==============================] - ETA: 0s - loss: 0.0830 - accuracy: 0.9733\n",
      "Epoch 80: saving model to model/keypoint_classifier\\keypoint_classifier.hdf5\n",
      "1/1 [==============================] - 0s 153ms/step - loss: 0.0830 - accuracy: 0.9733 - val_loss: 0.0243 - val_accuracy: 1.0000\n",
      "Epoch 81/100\n",
      "1/1 [==============================] - ETA: 0s - loss: 0.0841 - accuracy: 0.9867\n",
      "Epoch 81: saving model to model/keypoint_classifier\\keypoint_classifier.hdf5\n",
      "1/1 [==============================] - 0s 152ms/step - loss: 0.0841 - accuracy: 0.9867 - val_loss: 0.0232 - val_accuracy: 1.0000\n",
      "Epoch 82/100\n",
      "1/1 [==============================] - ETA: 0s - loss: 0.0985 - accuracy: 0.9867\n",
      "Epoch 82: saving model to model/keypoint_classifier\\keypoint_classifier.hdf5\n",
      "1/1 [==============================] - 0s 149ms/step - loss: 0.0985 - accuracy: 0.9867 - val_loss: 0.0222 - val_accuracy: 1.0000\n",
      "Epoch 83/100\n",
      "1/1 [==============================] - ETA: 0s - loss: 0.0768 - accuracy: 1.0000\n",
      "Epoch 83: saving model to model/keypoint_classifier\\keypoint_classifier.hdf5\n",
      "1/1 [==============================] - 0s 154ms/step - loss: 0.0768 - accuracy: 1.0000 - val_loss: 0.0213 - val_accuracy: 1.0000\n",
      "Epoch 84/100\n",
      "1/1 [==============================] - ETA: 0s - loss: 0.1006 - accuracy: 0.9733\n",
      "Epoch 84: saving model to model/keypoint_classifier\\keypoint_classifier.hdf5\n"
     ]
    },
    {
     "name": "stdout",
     "output_type": "stream",
     "text": [
      "1/1 [==============================] - 0s 155ms/step - loss: 0.1006 - accuracy: 0.9733 - val_loss: 0.0203 - val_accuracy: 1.0000\n",
      "Epoch 85/100\n",
      "1/1 [==============================] - ETA: 0s - loss: 0.1106 - accuracy: 0.9467\n",
      "Epoch 85: saving model to model/keypoint_classifier\\keypoint_classifier.hdf5\n",
      "1/1 [==============================] - 0s 145ms/step - loss: 0.1106 - accuracy: 0.9467 - val_loss: 0.0194 - val_accuracy: 1.0000\n",
      "Epoch 86/100\n",
      "1/1 [==============================] - ETA: 0s - loss: 0.0825 - accuracy: 1.0000\n",
      "Epoch 86: saving model to model/keypoint_classifier\\keypoint_classifier.hdf5\n",
      "1/1 [==============================] - 0s 151ms/step - loss: 0.0825 - accuracy: 1.0000 - val_loss: 0.0186 - val_accuracy: 1.0000\n",
      "Epoch 87/100\n",
      "1/1 [==============================] - ETA: 0s - loss: 0.0797 - accuracy: 0.9867\n",
      "Epoch 87: saving model to model/keypoint_classifier\\keypoint_classifier.hdf5\n",
      "1/1 [==============================] - 0s 151ms/step - loss: 0.0797 - accuracy: 0.9867 - val_loss: 0.0179 - val_accuracy: 1.0000\n",
      "Epoch 88/100\n",
      "1/1 [==============================] - ETA: 0s - loss: 0.0725 - accuracy: 1.0000\n",
      "Epoch 88: saving model to model/keypoint_classifier\\keypoint_classifier.hdf5\n",
      "1/1 [==============================] - 0s 154ms/step - loss: 0.0725 - accuracy: 1.0000 - val_loss: 0.0172 - val_accuracy: 1.0000\n",
      "Epoch 89/100\n",
      "1/1 [==============================] - ETA: 0s - loss: 0.0689 - accuracy: 1.0000\n",
      "Epoch 89: saving model to model/keypoint_classifier\\keypoint_classifier.hdf5\n",
      "1/1 [==============================] - 0s 150ms/step - loss: 0.0689 - accuracy: 1.0000 - val_loss: 0.0165 - val_accuracy: 1.0000\n",
      "Epoch 90/100\n",
      "1/1 [==============================] - ETA: 0s - loss: 0.0615 - accuracy: 0.9867\n",
      "Epoch 90: saving model to model/keypoint_classifier\\keypoint_classifier.hdf5\n",
      "1/1 [==============================] - 0s 124ms/step - loss: 0.0615 - accuracy: 0.9867 - val_loss: 0.0159 - val_accuracy: 1.0000\n",
      "Epoch 91/100\n",
      "1/1 [==============================] - ETA: 0s - loss: 0.0696 - accuracy: 0.9600\n",
      "Epoch 91: saving model to model/keypoint_classifier\\keypoint_classifier.hdf5\n",
      "1/1 [==============================] - 0s 150ms/step - loss: 0.0696 - accuracy: 0.9600 - val_loss: 0.0153 - val_accuracy: 1.0000\n",
      "Epoch 92/100\n",
      "1/1 [==============================] - ETA: 0s - loss: 0.0892 - accuracy: 0.9733\n",
      "Epoch 92: saving model to model/keypoint_classifier\\keypoint_classifier.hdf5\n",
      "1/1 [==============================] - 0s 160ms/step - loss: 0.0892 - accuracy: 0.9733 - val_loss: 0.0148 - val_accuracy: 1.0000\n",
      "Epoch 93/100\n",
      "1/1 [==============================] - ETA: 0s - loss: 0.0926 - accuracy: 0.9867\n",
      "Epoch 93: saving model to model/keypoint_classifier\\keypoint_classifier.hdf5\n",
      "1/1 [==============================] - 0s 160ms/step - loss: 0.0926 - accuracy: 0.9867 - val_loss: 0.0143 - val_accuracy: 1.0000\n",
      "Epoch 94/100\n",
      "1/1 [==============================] - ETA: 0s - loss: 0.0422 - accuracy: 1.0000\n",
      "Epoch 94: saving model to model/keypoint_classifier\\keypoint_classifier.hdf5\n",
      "1/1 [==============================] - 0s 145ms/step - loss: 0.0422 - accuracy: 1.0000 - val_loss: 0.0139 - val_accuracy: 1.0000\n",
      "Epoch 95/100\n",
      "1/1 [==============================] - ETA: 0s - loss: 0.0771 - accuracy: 0.9867\n",
      "Epoch 95: saving model to model/keypoint_classifier\\keypoint_classifier.hdf5\n",
      "1/1 [==============================] - 0s 149ms/step - loss: 0.0771 - accuracy: 0.9867 - val_loss: 0.0134 - val_accuracy: 1.0000\n",
      "Epoch 96/100\n",
      "1/1 [==============================] - ETA: 0s - loss: 0.0710 - accuracy: 0.9733\n",
      "Epoch 96: saving model to model/keypoint_classifier\\keypoint_classifier.hdf5\n",
      "1/1 [==============================] - 0s 158ms/step - loss: 0.0710 - accuracy: 0.9733 - val_loss: 0.0130 - val_accuracy: 1.0000\n",
      "Epoch 97/100\n",
      "1/1 [==============================] - ETA: 0s - loss: 0.0470 - accuracy: 1.0000\n",
      "Epoch 97: saving model to model/keypoint_classifier\\keypoint_classifier.hdf5\n",
      "1/1 [==============================] - 0s 153ms/step - loss: 0.0470 - accuracy: 1.0000 - val_loss: 0.0126 - val_accuracy: 1.0000\n",
      "Epoch 98/100\n",
      "1/1 [==============================] - ETA: 0s - loss: 0.0423 - accuracy: 1.0000\n",
      "Epoch 98: saving model to model/keypoint_classifier\\keypoint_classifier.hdf5\n",
      "1/1 [==============================] - 0s 154ms/step - loss: 0.0423 - accuracy: 1.0000 - val_loss: 0.0121 - val_accuracy: 1.0000\n",
      "Epoch 99/100\n",
      "1/1 [==============================] - ETA: 0s - loss: 0.0333 - accuracy: 1.0000\n",
      "Epoch 99: saving model to model/keypoint_classifier\\keypoint_classifier.hdf5\n",
      "1/1 [==============================] - 0s 129ms/step - loss: 0.0333 - accuracy: 1.0000 - val_loss: 0.0117 - val_accuracy: 1.0000\n",
      "Epoch 100/100\n",
      "1/1 [==============================] - ETA: 0s - loss: 0.0441 - accuracy: 1.0000\n",
      "Epoch 100: saving model to model/keypoint_classifier\\keypoint_classifier.hdf5\n",
      "1/1 [==============================] - 0s 167ms/step - loss: 0.0441 - accuracy: 1.0000 - val_loss: 0.0113 - val_accuracy: 1.0000\n"
     ]
    },
    {
     "data": {
      "text/plain": [
       "<keras.src.callbacks.History at 0x13220ae3280>"
      ]
     },
     "execution_count": 34,
     "metadata": {},
     "output_type": "execute_result"
    }
   ],
   "source": [
    "model.fit(\n",
    "    X_train,\n",
    "    y_train,\n",
    "    epochs=100,\n",
    "    batch_size=128,\n",
    "    validation_data=(X_test, y_test),\n",
    "    callbacks=[cp_callback, es_callback]\n",
    ")"
   ]
  },
  {
   "cell_type": "code",
   "execution_count": 35,
   "metadata": {
    "colab": {
     "base_uri": "https://localhost:8080/"
    },
    "id": "pxvb2Y299hE3",
    "outputId": "59eb3185-2e37-4b9e-bc9d-ab1b8ac29b7f"
   },
   "outputs": [
    {
     "name": "stdout",
     "output_type": "stream",
     "text": [
      "1/1 [==============================] - 0s 76ms/step - loss: 0.0113 - accuracy: 1.0000\n"
     ]
    }
   ],
   "source": [
    "# Model evaluation\n",
    "val_loss, val_acc = model.evaluate(X_test, y_test, batch_size=128)"
   ]
  },
  {
   "cell_type": "code",
   "execution_count": 36,
   "metadata": {
    "id": "RBkmDeUW9hE4"
   },
   "outputs": [],
   "source": [
    "# Loading the saved model\n",
    "model = tf.keras.models.load_model(model_save_path)"
   ]
  },
  {
   "cell_type": "code",
   "execution_count": 37,
   "metadata": {
    "colab": {
     "base_uri": "https://localhost:8080/"
    },
    "id": "tFz9Tb0I9hE4",
    "outputId": "1c3b3528-54ae-4ee2-ab04-77429211cbef"
   },
   "outputs": [
    {
     "name": "stdout",
     "output_type": "stream",
     "text": [
      "1/1 [==============================] - 0s 147ms/step\n",
      "[0.0154902  0.98450977]\n",
      "1\n"
     ]
    }
   ],
   "source": [
    "# Inference test\n",
    "predict_result = model.predict(np.array([X_test[0]]))\n",
    "print(np.squeeze(predict_result))\n",
    "print(np.argmax(np.squeeze(predict_result)))"
   ]
  },
  {
   "cell_type": "markdown",
   "metadata": {
    "id": "S3U4yNWx9hE4"
   },
   "source": [
    "# Confusion matrix"
   ]
  },
  {
   "cell_type": "code",
   "execution_count": 38,
   "metadata": {
    "colab": {
     "base_uri": "https://localhost:8080/",
     "height": 582
    },
    "id": "AP1V6SCk9hE5",
    "outputId": "08e41a80-7a4a-4619-8125-ecc371368d19"
   },
   "outputs": [
    {
     "name": "stdout",
     "output_type": "stream",
     "text": [
      "1/1 [==============================] - 0s 53ms/step\n"
     ]
    },
    {
     "data": {
      "image/png": "[encoded data removed]",
      "text/plain": [
       "<Figure size 700x600 with 2 Axes>"
      ]
     },
     "metadata": {},
     "output_type": "display_data"
    },
    {
     "name": "stdout",
     "output_type": "stream",
     "text": [
      "Classification Report\n",
      "              precision    recall  f1-score   support\n",
      "\n",
      "           0       1.00      1.00      1.00        14\n",
      "           1       1.00      1.00      1.00        11\n",
      "\n",
      "    accuracy                           1.00        25\n",
      "   macro avg       1.00      1.00      1.00        25\n",
      "weighted avg       1.00      1.00      1.00        25\n",
      "\n"
     ]
    }
   ],
   "source": [
    "import pandas as pd\n",
    "import seaborn as sns\n",
    "import matplotlib.pyplot as plt\n",
    "from sklearn.metrics import confusion_matrix, classification_report\n",
    "\n",
    "def print_confusion_matrix(y_true, y_pred, report=True):\n",
    "    labels = sorted(list(set(y_true)))\n",
    "    cmx_data = confusion_matrix(y_true, y_pred, labels=labels)\n",
    "    \n",
    "    df_cmx = pd.DataFrame(cmx_data, index=labels, columns=labels)\n",
    " \n",
    "    fig, ax = plt.subplots(figsize=(7, 6))\n",
    "    sns.heatmap(df_cmx, annot=True, fmt='g' ,square=False)\n",
    "    ax.set_ylim(len(set(y_true)), 0)\n",
    "    plt.show()\n",
    "    \n",
    "    if report:\n",
    "        print('Classification Report')\n",
    "        print(classification_report(y_test, y_pred))\n",
    "\n",
    "Y_pred = model.predict(X_test)\n",
    "y_pred = np.argmax(Y_pred, axis=1)\n",
    "\n",
    "print_confusion_matrix(y_test, y_pred)"
   ]
  },
  {
   "cell_type": "markdown",
   "metadata": {
    "id": "FNP6aqzc9hE5"
   },
   "source": [
    "# Convert to model for Tensorflow-Lite"
   ]
  },
  {
   "cell_type": "code",
   "execution_count": 39,
   "metadata": {
    "id": "ODjnYyld9hE6"
   },
   "outputs": [
    {
     "name": "stderr",
     "output_type": "stream",
     "text": [
      "C:\\Users\\Sanjay\\AppData\\Local\\Programs\\Python\\Python39\\lib\\site-packages\\keras\\src\\engine\\training.py:3000: UserWarning: You are saving your model as an HDF5 file via `model.save()`. This file format is considered legacy. We recommend using instead the native Keras format, e.g. `model.save('my_model.keras')`.\n",
      "  saving_api.save_model(\n"
     ]
    }
   ],
   "source": [
    "# Save as a model dedicated to inference\n",
    "model.save(model_save_path, include_optimizer=False)"
   ]
  },
  {
   "cell_type": "code",
   "execution_count": 40,
   "metadata": {
    "colab": {
     "base_uri": "https://localhost:8080/"
    },
    "id": "zRfuK8Y59hE6",
    "outputId": "a4ca585c-b5d5-4244-8291-8674063209bb"
   },
   "outputs": [
    {
     "name": "stdout",
     "output_type": "stream",
     "text": [
      "INFO:tensorflow:Assets written to: C:\\Users\\Sanjay\\AppData\\Local\\Temp\\tmp8jf_g6iu\\assets\n"
     ]
    },
    {
     "name": "stderr",
     "output_type": "stream",
     "text": [
      "INFO:tensorflow:Assets written to: C:\\Users\\Sanjay\\AppData\\Local\\Temp\\tmp8jf_g6iu\\assets\n"
     ]
    },
    {
     "data": {
      "text/plain": [
       "4904"
      ]
     },
     "execution_count": 40,
     "metadata": {},
     "output_type": "execute_result"
    }
   ],
   "source": [
    "# Transform model (quantization)\n",
    "\n",
    "converter = tf.lite.TFLiteConverter.from_keras_model(model)\n",
    "converter.optimizations = [tf.lite.Optimize.DEFAULT]\n",
    "tflite_quantized_model = converter.convert()\n",
    "\n",
    "open(tflite_save_path, 'wb').write(tflite_quantized_model)"
   ]
  },
  {
   "cell_type": "markdown",
   "metadata": {
    "id": "CHBPBXdx9hE6"
   },
   "source": [
    "# Inference test"
   ]
  },
  {
   "cell_type": "code",
   "execution_count": 41,
   "metadata": {
    "id": "mGAzLocO9hE7"
   },
   "outputs": [],
   "source": [
    "interpreter = tf.lite.Interpreter(model_path=tflite_save_path)\n",
    "interpreter.allocate_tensors()"
   ]
  },
  {
   "cell_type": "code",
   "execution_count": 42,
   "metadata": {
    "id": "oQuDK8YS9hE7"
   },
   "outputs": [],
   "source": [
    "# Get I / O tensor\n",
    "input_details = interpreter.get_input_details()\n",
    "output_details = interpreter.get_output_details()"
   ]
  },
  {
   "cell_type": "code",
   "execution_count": 43,
   "metadata": {
    "id": "2_ixAf_l9hE7"
   },
   "outputs": [],
   "source": [
    "interpreter.set_tensor(input_details[0]['index'], np.array([X_test[0]]))"
   ]
  },
  {
   "cell_type": "code",
   "execution_count": 44,
   "metadata": {
    "colab": {
     "base_uri": "https://localhost:8080/"
    },
    "id": "s4FoAnuc9hE7",
    "outputId": "91f18257-8d8b-4ef3-c558-e9b5f94fabbf",
    "scrolled": true
   },
   "outputs": [
    {
     "name": "stdout",
     "output_type": "stream",
     "text": [
      "CPU times: total: 0 ns\n",
      "Wall time: 0 ns\n"
     ]
    }
   ],
   "source": [
    "%%time\n",
    "# Inference implementation\n",
    "interpreter.invoke()\n",
    "tflite_results = interpreter.get_tensor(output_details[0]['index'])"
   ]
  },
  {
   "cell_type": "code",
   "execution_count": 45,
   "metadata": {
    "colab": {
     "base_uri": "https://localhost:8080/"
    },
    "id": "vONjp19J9hE8",
    "outputId": "77205e24-fd00-42c4-f7b6-e06e527c2cba"
   },
   "outputs": [
    {
     "name": "stdout",
     "output_type": "stream",
     "text": [
      "[0.01549565 0.98450434]\n",
      "1\n"
     ]
    }
   ],
   "source": [
    "print(np.squeeze(tflite_results))\n",
    "print(np.argmax(np.squeeze(tflite_results)))"
   ]
  },
  {
   "cell_type": "code",
   "execution_count": null,
   "metadata": {},
   "outputs": [],
   "source": []
  }
 ],
 "metadata": {
  "accelerator": "GPU",
  "colab": {
   "collapsed_sections": [],
   "name": "keypoint_classification_EN.ipynb",
   "provenance": [],
   "toc_visible": true
  },
  "kernelspec": {
   "display_name": "Python 3 (ipykernel)",
   "language": "python",
   "name": "python3"
  },
  "language_info": {
   "codemirror_mode": {
    "name": "ipython",
    "version": 3
   },
   "file_extension": ".py",
   "mimetype": "text/x-python",
   "name": "python",
   "nbconvert_exporter": "python",
   "pygments_lexer": "ipython3",
   "version": "3.9.7"
  }
 },
 "nbformat": 4,
 "nbformat_minor": 1
}
