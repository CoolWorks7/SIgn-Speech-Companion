{
 "cells": [
  {
   "cell_type": "code",
   "execution_count": 36,
   "metadata": {
    "id": "igMyGnjE9hEp"
   },
   "outputs": [],
   "source": [
    "import csv\n",
    "\n",
    "import numpy as np\n",
    "import tensorflow as tf\n",
    "from sklearn.model_selection import train_test_split\n",
    "\n",
    "RANDOM_SEED = 42"
   ]
  },
  {
   "cell_type": "markdown",
   "metadata": {
    "id": "t2HDvhIu9hEr"
   },
   "source": [
    "# Specify each path"
   ]
  },
  {
   "cell_type": "code",
   "execution_count": 37,
   "metadata": {
    "id": "9NvZP2Zn9hEy"
   },
   "outputs": [],
   "source": [
    "dataset = 'model/keypoint_classifier/keypoint.csv'\n",
    "model_save_path = 'model/keypoint_classifier/keypoint_classifier.hdf5'\n",
    "tflite_save_path = 'model/keypoint_classifier/keypoint_classifier.tflite'"
   ]
  },
  {
   "cell_type": "markdown",
   "metadata": {
    "id": "s5oMH7x19hEz"
   },
   "source": [
    "# Set number of classes"
   ]
  },
  {
   "cell_type": "code",
   "execution_count": 38,
   "metadata": {
    "id": "du4kodXL9hEz"
   },
   "outputs": [],
   "source": [
    "NUM_CLASSES = 4"
   ]
  },
  {
   "cell_type": "markdown",
   "metadata": {
    "id": "XjnL0uso9hEz"
   },
   "source": [
    "# Dataset reading"
   ]
  },
  {
   "cell_type": "code",
   "execution_count": 39,
   "metadata": {
    "id": "QT5ZqtEz9hE0"
   },
   "outputs": [],
   "source": [
    "X_dataset = np.loadtxt(dataset, delimiter=',', dtype='float32', usecols=list(range(1, (21*2 + 21*2 + 2*1) + 1)))"
   ]
  },
  {
   "cell_type": "code",
   "execution_count": 40,
   "metadata": {
    "id": "QmoKFsp49hE0"
   },
   "outputs": [],
   "source": [
    "y_dataset = np.loadtxt(dataset, delimiter=',', dtype='int32', usecols=(0))"
   ]
  },
  {
   "cell_type": "code",
   "execution_count": 41,
   "metadata": {
    "id": "xQU7JTZ_9hE0"
   },
   "outputs": [],
   "source": [
    "X_train, X_test, y_train, y_test = train_test_split(X_dataset, y_dataset, train_size=0.75, random_state=RANDOM_SEED)"
   ]
  },
  {
   "cell_type": "markdown",
   "metadata": {
    "id": "mxK_lETT9hE0"
   },
   "source": [
    "# Model building"
   ]
  },
  {
   "cell_type": "code",
   "execution_count": 42,
   "metadata": {
    "id": "vHBmUf1t9hE1"
   },
   "outputs": [],
   "source": [
    "model = tf.keras.models.Sequential([\n",
    "    tf.keras.layers.Input((21*2 + 21*2 + 2*1 )),\n",
    "    tf.keras.layers.Dropout(0.2),\n",
    "    tf.keras.layers.Dense(20, activation='relu'),\n",
    "    tf.keras.layers.Dropout(0.4),\n",
    "    tf.keras.layers.Dense(10, activation='relu'),\n",
    "    tf.keras.layers.Dense(NUM_CLASSES, activation='softmax')\n",
    "])"
   ]
  },
  {
   "cell_type": "code",
   "execution_count": 43,
   "metadata": {},
   "outputs": [],
   "source": [
    "# model = tf.keras.models.Sequential([\n",
    "#     tf.keras.layers.Input((21*2 + 21*2 + 2*1, )),\n",
    "#     tf.keras.layers.Dropout(0.2),\n",
    "#     tf.keras.layers.Dense(200, activation='relu'),\n",
    "#     tf.keras.layers.Dropout(0.4),\n",
    "#     tf.keras.layers.Dense(76, activation='relu'),\n",
    "#     tf.keras.layers.Dropout(0.4),\n",
    "#     tf.keras.layers.Dense(10, activation='relu'),\n",
    "#     tf.keras.layers.Dense(NUM_CLASSES, activation='softmax')\n",
    "# ])"
   ]
  },
  {
   "cell_type": "code",
   "execution_count": 44,
   "metadata": {
    "colab": {
     "base_uri": "https://localhost:8080/"
    },
    "id": "ypqky9tc9hE1",
    "outputId": "5db082bb-30e3-4110-bf63-a1ee777ecd46"
   },
   "outputs": [
    {
     "name": "stdout",
     "output_type": "stream",
     "text": [
      "Model: \"sequential_2\"\n",
      "_________________________________________________________________\n",
      " Layer (type)                Output Shape              Param #   \n",
      "=================================================================\n",
      " dropout_4 (Dropout)         (None, 86)                0         \n",
      "                                                                 \n",
      " dense_6 (Dense)             (None, 20)                1740      \n",
      "                                                                 \n",
      " dropout_5 (Dropout)         (None, 20)                0         \n",
      "                                                                 \n",
      " dense_7 (Dense)             (None, 10)                210       \n",
      "                                                                 \n",
      " dense_8 (Dense)             (None, 4)                 44        \n",
      "                                                                 \n",
      "=================================================================\n",
      "Total params: 1994 (7.79 KB)\n",
      "Trainable params: 1994 (7.79 KB)\n",
      "Non-trainable params: 0 (0.00 Byte)\n",
      "_________________________________________________________________\n"
     ]
    }
   ],
   "source": [
    "model.summary()  # tf.keras.utils.plot_model(model, show_shapes=True)"
   ]
  },
  {
   "cell_type": "code",
   "execution_count": 45,
   "metadata": {
    "id": "MbMjOflQ9hE1"
   },
   "outputs": [],
   "source": [
    "# Model checkpoint callback\n",
    "cp_callback = tf.keras.callbacks.ModelCheckpoint(\n",
    "    model_save_path, verbose=1, save_weights_only=False)\n",
    "# Callback for early stopping\n",
    "es_callback = tf.keras.callbacks.EarlyStopping(patience=20, verbose=1)"
   ]
  },
  {
   "cell_type": "code",
   "execution_count": 46,
   "metadata": {
    "id": "c3Dac0M_9hE2"
   },
   "outputs": [],
   "source": [
    "# Model compilation\n",
    "model.compile(\n",
    "    optimizer='adam',\n",
    "    loss='sparse_categorical_crossentropy',\n",
    "    metrics=['accuracy']\n",
    ")"
   ]
  },
  {
   "cell_type": "markdown",
   "metadata": {
    "id": "7XI0j1Iu9hE2"
   },
   "source": [
    "# Model training"
   ]
  },
  {
   "cell_type": "code",
   "execution_count": 47,
   "metadata": {
    "colab": {
     "base_uri": "https://localhost:8080/"
    },
    "id": "WirBl-JE9hE3",
    "outputId": "71b30ca2-8294-4d9d-8aa2-800d90d399de",
    "scrolled": true
   },
   "outputs": [
    {
     "name": "stdout",
     "output_type": "stream",
     "text": [
      "Epoch 1/100\n",
      "1/3 [=========>....................] - ETA: 3s - loss: 1.4210 - accuracy: 0.2500\n",
      "Epoch 1: saving model to model/keypoint_classifier\\keypoint_classifier.hdf5\n",
      "3/3 [==============================] - 3s 480ms/step - loss: 1.4053 - accuracy: 0.2456 - val_loss: 1.3897 - val_accuracy: 0.1354\n",
      "Epoch 2/100\n",
      "1/3 [=========>....................] - ETA: 0s - loss: 1.3702 - accuracy: 0.2656\n",
      "Epoch 2: saving model to model/keypoint_classifier\\keypoint_classifier.hdf5\n"
     ]
    },
    {
     "name": "stderr",
     "output_type": "stream",
     "text": [
      "C:\\Users\\Sanjay\\AppData\\Local\\Programs\\Python\\Python39\\lib\\site-packages\\keras\\src\\engine\\training.py:3000: UserWarning: You are saving your model as an HDF5 file via `model.save()`. This file format is considered legacy. We recommend using instead the native Keras format, e.g. `model.save('my_model.keras')`.\n",
      "  saving_api.save_model(\n"
     ]
    },
    {
     "name": "stdout",
     "output_type": "stream",
     "text": [
      "3/3 [==============================] - 0s 70ms/step - loss: 1.3734 - accuracy: 0.2456 - val_loss: 1.3650 - val_accuracy: 0.2812\n",
      "Epoch 3/100\n",
      "1/3 [=========>....................] - ETA: 0s - loss: 1.3310 - accuracy: 0.3359\n",
      "Epoch 3: saving model to model/keypoint_classifier\\keypoint_classifier.hdf5\n",
      "3/3 [==============================] - 0s 75ms/step - loss: 1.3398 - accuracy: 0.3088 - val_loss: 1.3452 - val_accuracy: 0.3229\n",
      "Epoch 4/100\n",
      "1/3 [=========>....................] - ETA: 0s - loss: 1.3307 - accuracy: 0.2578\n",
      "Epoch 4: saving model to model/keypoint_classifier\\keypoint_classifier.hdf5\n",
      "3/3 [==============================] - 0s 75ms/step - loss: 1.3249 - accuracy: 0.2912 - val_loss: 1.3256 - val_accuracy: 0.3750\n",
      "Epoch 5/100\n",
      "1/3 [=========>....................] - ETA: 0s - loss: 1.3280 - accuracy: 0.2656\n",
      "Epoch 5: saving model to model/keypoint_classifier\\keypoint_classifier.hdf5\n",
      "3/3 [==============================] - 0s 79ms/step - loss: 1.3192 - accuracy: 0.3053 - val_loss: 1.3074 - val_accuracy: 0.3646\n",
      "Epoch 6/100\n",
      "1/3 [=========>....................] - ETA: 0s - loss: 1.2900 - accuracy: 0.2812\n",
      "Epoch 6: saving model to model/keypoint_classifier\\keypoint_classifier.hdf5\n",
      "3/3 [==============================] - 0s 82ms/step - loss: 1.2880 - accuracy: 0.2912 - val_loss: 1.2883 - val_accuracy: 0.3646\n",
      "Epoch 7/100\n",
      "1/3 [=========>....................] - ETA: 0s - loss: 1.2854 - accuracy: 0.3203\n",
      "Epoch 7: saving model to model/keypoint_classifier\\keypoint_classifier.hdf5\n",
      "3/3 [==============================] - 0s 80ms/step - loss: 1.2655 - accuracy: 0.3930 - val_loss: 1.2695 - val_accuracy: 0.3646\n",
      "Epoch 8/100\n",
      "1/3 [=========>....................] - ETA: 0s - loss: 1.2774 - accuracy: 0.3047\n",
      "Epoch 8: saving model to model/keypoint_classifier\\keypoint_classifier.hdf5\n",
      "3/3 [==============================] - 0s 78ms/step - loss: 1.2678 - accuracy: 0.3368 - val_loss: 1.2490 - val_accuracy: 0.3646\n",
      "Epoch 9/100\n",
      "1/3 [=========>....................] - ETA: 0s - loss: 1.2266 - accuracy: 0.3906\n",
      "Epoch 9: saving model to model/keypoint_classifier\\keypoint_classifier.hdf5\n",
      "3/3 [==============================] - 0s 75ms/step - loss: 1.2438 - accuracy: 0.3754 - val_loss: 1.2268 - val_accuracy: 0.3854\n",
      "Epoch 10/100\n",
      "1/3 [=========>....................] - ETA: 0s - loss: 1.2323 - accuracy: 0.4141\n",
      "Epoch 10: saving model to model/keypoint_classifier\\keypoint_classifier.hdf5\n",
      "3/3 [==============================] - 0s 76ms/step - loss: 1.2281 - accuracy: 0.4211 - val_loss: 1.2066 - val_accuracy: 0.5417\n",
      "Epoch 11/100\n",
      "1/3 [=========>....................] - ETA: 0s - loss: 1.1954 - accuracy: 0.4531\n",
      "Epoch 11: saving model to model/keypoint_classifier\\keypoint_classifier.hdf5\n",
      "3/3 [==============================] - 0s 80ms/step - loss: 1.2072 - accuracy: 0.4246 - val_loss: 1.1877 - val_accuracy: 0.5521\n",
      "Epoch 12/100\n",
      "1/3 [=========>....................] - ETA: 0s - loss: 1.1576 - accuracy: 0.4297\n",
      "Epoch 12: saving model to model/keypoint_classifier\\keypoint_classifier.hdf5\n",
      "3/3 [==============================] - 0s 72ms/step - loss: 1.1647 - accuracy: 0.5018 - val_loss: 1.1708 - val_accuracy: 0.5521\n",
      "Epoch 13/100\n",
      "1/3 [=========>....................] - ETA: 0s - loss: 1.1717 - accuracy: 0.4453\n",
      "Epoch 13: saving model to model/keypoint_classifier\\keypoint_classifier.hdf5\n",
      "3/3 [==============================] - 0s 75ms/step - loss: 1.1543 - accuracy: 0.4772 - val_loss: 1.1536 - val_accuracy: 0.5521\n",
      "Epoch 14/100\n",
      "1/3 [=========>....................] - ETA: 0s - loss: 1.1292 - accuracy: 0.4453\n",
      "Epoch 14: saving model to model/keypoint_classifier\\keypoint_classifier.hdf5\n",
      "3/3 [==============================] - 0s 75ms/step - loss: 1.1388 - accuracy: 0.4702 - val_loss: 1.1332 - val_accuracy: 0.5521\n",
      "Epoch 15/100\n",
      "1/3 [=========>....................] - ETA: 0s - loss: 1.1406 - accuracy: 0.5469\n",
      "Epoch 15: saving model to model/keypoint_classifier\\keypoint_classifier.hdf5\n",
      "3/3 [==============================] - 0s 75ms/step - loss: 1.1108 - accuracy: 0.5368 - val_loss: 1.1148 - val_accuracy: 0.5521\n",
      "Epoch 16/100\n",
      "1/3 [=========>....................] - ETA: 0s - loss: 1.1248 - accuracy: 0.5234\n",
      "Epoch 16: saving model to model/keypoint_classifier\\keypoint_classifier.hdf5\n",
      "3/3 [==============================] - 0s 73ms/step - loss: 1.0980 - accuracy: 0.5333 - val_loss: 1.0929 - val_accuracy: 0.5208\n",
      "Epoch 17/100\n",
      "1/3 [=========>....................] - ETA: 0s - loss: 1.1080 - accuracy: 0.5078\n",
      "Epoch 17: saving model to model/keypoint_classifier\\keypoint_classifier.hdf5\n",
      "3/3 [==============================] - 0s 75ms/step - loss: 1.0918 - accuracy: 0.5053 - val_loss: 1.0711 - val_accuracy: 0.5208\n",
      "Epoch 18/100\n",
      "1/3 [=========>....................] - ETA: 0s - loss: 1.0806 - accuracy: 0.5000\n",
      "Epoch 18: saving model to model/keypoint_classifier\\keypoint_classifier.hdf5\n",
      "3/3 [==============================] - 0s 74ms/step - loss: 1.0724 - accuracy: 0.5193 - val_loss: 1.0514 - val_accuracy: 0.5208\n",
      "Epoch 19/100\n",
      "1/3 [=========>....................] - ETA: 0s - loss: 1.1057 - accuracy: 0.4609\n",
      "Epoch 19: saving model to model/keypoint_classifier\\keypoint_classifier.hdf5\n",
      "3/3 [==============================] - 0s 72ms/step - loss: 1.0647 - accuracy: 0.4982 - val_loss: 1.0232 - val_accuracy: 0.5208\n",
      "Epoch 20/100\n",
      "1/3 [=========>....................] - ETA: 0s - loss: 1.0331 - accuracy: 0.5312\n",
      "Epoch 20: saving model to model/keypoint_classifier\\keypoint_classifier.hdf5\n",
      "3/3 [==============================] - 0s 78ms/step - loss: 1.0543 - accuracy: 0.5053 - val_loss: 0.9940 - val_accuracy: 0.5417\n",
      "Epoch 21/100\n",
      "1/3 [=========>....................] - ETA: 0s - loss: 1.0174 - accuracy: 0.5938\n",
      "Epoch 21: saving model to model/keypoint_classifier\\keypoint_classifier.hdf5\n",
      "3/3 [==============================] - 0s 76ms/step - loss: 1.0046 - accuracy: 0.5825 - val_loss: 0.9712 - val_accuracy: 0.5625\n",
      "Epoch 22/100\n",
      "1/3 [=========>....................] - ETA: 0s - loss: 0.9927 - accuracy: 0.5703\n",
      "Epoch 22: saving model to model/keypoint_classifier\\keypoint_classifier.hdf5\n",
      "3/3 [==============================] - 0s 79ms/step - loss: 1.0058 - accuracy: 0.5298 - val_loss: 0.9549 - val_accuracy: 0.5521\n",
      "Epoch 23/100\n",
      "1/3 [=========>....................] - ETA: 0s - loss: 1.0077 - accuracy: 0.5312\n",
      "Epoch 23: saving model to model/keypoint_classifier\\keypoint_classifier.hdf5\n",
      "3/3 [==============================] - 0s 106ms/step - loss: 0.9805 - accuracy: 0.5439 - val_loss: 0.9420 - val_accuracy: 0.5625\n",
      "Epoch 24/100\n",
      "1/3 [=========>....................] - ETA: 0s - loss: 1.0218 - accuracy: 0.5312\n",
      "Epoch 24: saving model to model/keypoint_classifier\\keypoint_classifier.hdf5\n",
      "3/3 [==============================] - 0s 82ms/step - loss: 0.9814 - accuracy: 0.5579 - val_loss: 0.9270 - val_accuracy: 0.5625\n",
      "Epoch 25/100\n",
      "1/3 [=========>....................] - ETA: 0s - loss: 0.9360 - accuracy: 0.5391\n",
      "Epoch 25: saving model to model/keypoint_classifier\\keypoint_classifier.hdf5\n",
      "3/3 [==============================] - 0s 80ms/step - loss: 0.9570 - accuracy: 0.5509 - val_loss: 0.9122 - val_accuracy: 0.5625\n",
      "Epoch 26/100\n",
      "1/3 [=========>....................] - ETA: 0s - loss: 0.8981 - accuracy: 0.5703\n",
      "Epoch 26: saving model to model/keypoint_classifier\\keypoint_classifier.hdf5\n",
      "3/3 [==============================] - 0s 78ms/step - loss: 0.9286 - accuracy: 0.5754 - val_loss: 0.8900 - val_accuracy: 0.6042\n",
      "Epoch 27/100\n",
      "1/3 [=========>....................] - ETA: 0s - loss: 0.9072 - accuracy: 0.5781\n",
      "Epoch 27: saving model to model/keypoint_classifier\\keypoint_classifier.hdf5\n",
      "3/3 [==============================] - 0s 76ms/step - loss: 0.9330 - accuracy: 0.5754 - val_loss: 0.8613 - val_accuracy: 0.7188\n",
      "Epoch 28/100\n",
      "1/3 [=========>....................] - ETA: 0s - loss: 0.8763 - accuracy: 0.5938\n",
      "Epoch 28: saving model to model/keypoint_classifier\\keypoint_classifier.hdf5\n",
      "3/3 [==============================] - 0s 77ms/step - loss: 0.9223 - accuracy: 0.5930 - val_loss: 0.8291 - val_accuracy: 0.9167\n",
      "Epoch 29/100\n",
      "1/3 [=========>....................] - ETA: 0s - loss: 0.9141 - accuracy: 0.6250\n",
      "Epoch 29: saving model to model/keypoint_classifier\\keypoint_classifier.hdf5\n",
      "3/3 [==============================] - 0s 80ms/step - loss: 0.9096 - accuracy: 0.6211 - val_loss: 0.8042 - val_accuracy: 0.9479\n",
      "Epoch 30/100\n"
     ]
    },
    {
     "name": "stdout",
     "output_type": "stream",
     "text": [
      "1/3 [=========>....................] - ETA: 0s - loss: 0.9640 - accuracy: 0.5391\n",
      "Epoch 30: saving model to model/keypoint_classifier\\keypoint_classifier.hdf5\n",
      "3/3 [==============================] - 0s 80ms/step - loss: 0.9209 - accuracy: 0.5719 - val_loss: 0.7812 - val_accuracy: 0.9479\n",
      "Epoch 31/100\n",
      "1/3 [=========>....................] - ETA: 0s - loss: 0.9092 - accuracy: 0.5547\n",
      "Epoch 31: saving model to model/keypoint_classifier\\keypoint_classifier.hdf5\n",
      "3/3 [==============================] - 0s 79ms/step - loss: 0.8974 - accuracy: 0.6000 - val_loss: 0.7632 - val_accuracy: 0.9479\n",
      "Epoch 32/100\n",
      "1/3 [=========>....................] - ETA: 0s - loss: 0.9227 - accuracy: 0.6016\n",
      "Epoch 32: saving model to model/keypoint_classifier\\keypoint_classifier.hdf5\n",
      "3/3 [==============================] - 0s 85ms/step - loss: 0.8933 - accuracy: 0.6140 - val_loss: 0.7538 - val_accuracy: 0.9583\n",
      "Epoch 33/100\n",
      "1/3 [=========>....................] - ETA: 0s - loss: 0.8926 - accuracy: 0.5781\n",
      "Epoch 33: saving model to model/keypoint_classifier\\keypoint_classifier.hdf5\n",
      "3/3 [==============================] - 0s 80ms/step - loss: 0.8768 - accuracy: 0.6035 - val_loss: 0.7445 - val_accuracy: 0.9479\n",
      "Epoch 34/100\n",
      "1/3 [=========>....................] - ETA: 0s - loss: 0.9376 - accuracy: 0.5469\n",
      "Epoch 34: saving model to model/keypoint_classifier\\keypoint_classifier.hdf5\n",
      "3/3 [==============================] - 0s 74ms/step - loss: 0.8958 - accuracy: 0.5930 - val_loss: 0.7326 - val_accuracy: 0.9583\n",
      "Epoch 35/100\n",
      "1/3 [=========>....................] - ETA: 0s - loss: 0.8866 - accuracy: 0.6016\n",
      "Epoch 35: saving model to model/keypoint_classifier\\keypoint_classifier.hdf5\n",
      "3/3 [==============================] - 0s 76ms/step - loss: 0.8618 - accuracy: 0.6491 - val_loss: 0.7245 - val_accuracy: 0.9688\n",
      "Epoch 36/100\n",
      "1/3 [=========>....................] - ETA: 0s - loss: 0.9268 - accuracy: 0.5625\n",
      "Epoch 36: saving model to model/keypoint_classifier\\keypoint_classifier.hdf5\n",
      "3/3 [==============================] - 0s 76ms/step - loss: 0.8848 - accuracy: 0.6035 - val_loss: 0.7130 - val_accuracy: 0.9688\n",
      "Epoch 37/100\n",
      "1/3 [=========>....................] - ETA: 0s - loss: 0.8042 - accuracy: 0.6484\n",
      "Epoch 37: saving model to model/keypoint_classifier\\keypoint_classifier.hdf5\n",
      "3/3 [==============================] - 0s 76ms/step - loss: 0.8482 - accuracy: 0.6246 - val_loss: 0.6952 - val_accuracy: 0.9688\n",
      "Epoch 38/100\n",
      "1/3 [=========>....................] - ETA: 0s - loss: 0.8999 - accuracy: 0.6016\n",
      "Epoch 38: saving model to model/keypoint_classifier\\keypoint_classifier.hdf5\n",
      "3/3 [==============================] - 0s 75ms/step - loss: 0.8637 - accuracy: 0.6140 - val_loss: 0.6800 - val_accuracy: 0.9688\n",
      "Epoch 39/100\n",
      "1/3 [=========>....................] - ETA: 0s - loss: 0.8516 - accuracy: 0.6016\n",
      "Epoch 39: saving model to model/keypoint_classifier\\keypoint_classifier.hdf5\n",
      "3/3 [==============================] - 0s 81ms/step - loss: 0.8414 - accuracy: 0.6351 - val_loss: 0.6709 - val_accuracy: 0.9688\n",
      "Epoch 40/100\n",
      "1/3 [=========>....................] - ETA: 0s - loss: 0.8054 - accuracy: 0.6406\n",
      "Epoch 40: saving model to model/keypoint_classifier\\keypoint_classifier.hdf5\n",
      "3/3 [==============================] - 0s 77ms/step - loss: 0.8053 - accuracy: 0.6316 - val_loss: 0.6632 - val_accuracy: 0.9792\n",
      "Epoch 41/100\n",
      "1/3 [=========>....................] - ETA: 0s - loss: 0.7876 - accuracy: 0.7109\n",
      "Epoch 41: saving model to model/keypoint_classifier\\keypoint_classifier.hdf5\n",
      "3/3 [==============================] - 0s 73ms/step - loss: 0.7924 - accuracy: 0.7088 - val_loss: 0.6550 - val_accuracy: 0.9688\n",
      "Epoch 42/100\n",
      "1/3 [=========>....................] - ETA: 0s - loss: 0.7854 - accuracy: 0.6875\n",
      "Epoch 42: saving model to model/keypoint_classifier\\keypoint_classifier.hdf5\n",
      "3/3 [==============================] - 0s 77ms/step - loss: 0.7818 - accuracy: 0.6877 - val_loss: 0.6471 - val_accuracy: 0.9688\n",
      "Epoch 43/100\n",
      "1/3 [=========>....................] - ETA: 0s - loss: 0.7454 - accuracy: 0.7578\n",
      "Epoch 43: saving model to model/keypoint_classifier\\keypoint_classifier.hdf5\n",
      "3/3 [==============================] - 0s 76ms/step - loss: 0.7926 - accuracy: 0.7018 - val_loss: 0.6375 - val_accuracy: 0.9583\n",
      "Epoch 44/100\n",
      "1/3 [=========>....................] - ETA: 0s - loss: 0.8004 - accuracy: 0.6641\n",
      "Epoch 44: saving model to model/keypoint_classifier\\keypoint_classifier.hdf5\n",
      "3/3 [==============================] - 0s 79ms/step - loss: 0.7918 - accuracy: 0.6667 - val_loss: 0.6276 - val_accuracy: 0.9583\n",
      "Epoch 45/100\n",
      "1/3 [=========>....................] - ETA: 0s - loss: 0.8128 - accuracy: 0.7344\n",
      "Epoch 45: saving model to model/keypoint_classifier\\keypoint_classifier.hdf5\n",
      "3/3 [==============================] - 0s 75ms/step - loss: 0.7841 - accuracy: 0.6912 - val_loss: 0.6159 - val_accuracy: 0.9479\n",
      "Epoch 46/100\n",
      "1/3 [=========>....................] - ETA: 0s - loss: 0.7343 - accuracy: 0.7109\n",
      "Epoch 46: saving model to model/keypoint_classifier\\keypoint_classifier.hdf5\n",
      "3/3 [==============================] - 0s 74ms/step - loss: 0.7826 - accuracy: 0.6842 - val_loss: 0.6005 - val_accuracy: 0.9479\n",
      "Epoch 47/100\n",
      "1/3 [=========>....................] - ETA: 0s - loss: 0.7474 - accuracy: 0.7109\n",
      "Epoch 47: saving model to model/keypoint_classifier\\keypoint_classifier.hdf5\n",
      "3/3 [==============================] - 0s 72ms/step - loss: 0.7502 - accuracy: 0.7088 - val_loss: 0.5780 - val_accuracy: 0.9479\n",
      "Epoch 48/100\n",
      "1/3 [=========>....................] - ETA: 0s - loss: 0.7300 - accuracy: 0.6875\n",
      "Epoch 48: saving model to model/keypoint_classifier\\keypoint_classifier.hdf5\n",
      "3/3 [==============================] - 0s 74ms/step - loss: 0.7422 - accuracy: 0.6947 - val_loss: 0.5650 - val_accuracy: 0.9479\n",
      "Epoch 49/100\n",
      "1/3 [=========>....................] - ETA: 0s - loss: 0.7371 - accuracy: 0.7422\n",
      "Epoch 49: saving model to model/keypoint_classifier\\keypoint_classifier.hdf5\n",
      "3/3 [==============================] - 0s 70ms/step - loss: 0.7389 - accuracy: 0.7368 - val_loss: 0.5522 - val_accuracy: 0.9479\n",
      "Epoch 50/100\n",
      "1/3 [=========>....................] - ETA: 0s - loss: 0.7928 - accuracy: 0.6953\n",
      "Epoch 50: saving model to model/keypoint_classifier\\keypoint_classifier.hdf5\n",
      "3/3 [==============================] - 0s 74ms/step - loss: 0.7743 - accuracy: 0.6807 - val_loss: 0.5376 - val_accuracy: 0.9479\n",
      "Epoch 51/100\n",
      "1/3 [=========>....................] - ETA: 0s - loss: 0.7082 - accuracy: 0.7812\n",
      "Epoch 51: saving model to model/keypoint_classifier\\keypoint_classifier.hdf5\n",
      "3/3 [==============================] - 0s 82ms/step - loss: 0.7285 - accuracy: 0.7298 - val_loss: 0.5261 - val_accuracy: 0.9583\n",
      "Epoch 52/100\n",
      "1/3 [=========>....................] - ETA: 0s - loss: 0.7762 - accuracy: 0.6484\n",
      "Epoch 52: saving model to model/keypoint_classifier\\keypoint_classifier.hdf5\n",
      "3/3 [==============================] - 0s 88ms/step - loss: 0.7746 - accuracy: 0.6877 - val_loss: 0.5185 - val_accuracy: 0.9583\n",
      "Epoch 53/100\n",
      "1/3 [=========>....................] - ETA: 0s - loss: 0.7054 - accuracy: 0.7422\n",
      "Epoch 53: saving model to model/keypoint_classifier\\keypoint_classifier.hdf5\n",
      "3/3 [==============================] - 0s 80ms/step - loss: 0.7027 - accuracy: 0.7474 - val_loss: 0.5115 - val_accuracy: 0.9583\n",
      "Epoch 54/100\n",
      "1/3 [=========>....................] - ETA: 0s - loss: 0.7431 - accuracy: 0.7188\n",
      "Epoch 54: saving model to model/keypoint_classifier\\keypoint_classifier.hdf5\n",
      "3/3 [==============================] - 0s 77ms/step - loss: 0.7473 - accuracy: 0.7298 - val_loss: 0.5042 - val_accuracy: 0.9583\n",
      "Epoch 55/100\n",
      "1/3 [=========>....................] - ETA: 0s - loss: 0.7091 - accuracy: 0.7188\n",
      "Epoch 55: saving model to model/keypoint_classifier\\keypoint_classifier.hdf5\n",
      "3/3 [==============================] - 0s 75ms/step - loss: 0.7461 - accuracy: 0.7333 - val_loss: 0.4939 - val_accuracy: 0.9583\n",
      "Epoch 56/100\n",
      "1/3 [=========>....................] - ETA: 0s - loss: 0.7262 - accuracy: 0.7188\n",
      "Epoch 56: saving model to model/keypoint_classifier\\keypoint_classifier.hdf5\n",
      "3/3 [==============================] - 0s 84ms/step - loss: 0.7003 - accuracy: 0.7474 - val_loss: 0.4815 - val_accuracy: 0.9583\n",
      "Epoch 57/100\n",
      "1/3 [=========>....................] - ETA: 0s - loss: 0.7287 - accuracy: 0.7500\n",
      "Epoch 57: saving model to model/keypoint_classifier\\keypoint_classifier.hdf5\n"
     ]
    },
    {
     "name": "stdout",
     "output_type": "stream",
     "text": [
      "3/3 [==============================] - 0s 81ms/step - loss: 0.7027 - accuracy: 0.7544 - val_loss: 0.4684 - val_accuracy: 0.9688\n",
      "Epoch 58/100\n",
      "1/3 [=========>....................] - ETA: 0s - loss: 0.6657 - accuracy: 0.7422\n",
      "Epoch 58: saving model to model/keypoint_classifier\\keypoint_classifier.hdf5\n",
      "3/3 [==============================] - 0s 84ms/step - loss: 0.7116 - accuracy: 0.7123 - val_loss: 0.4589 - val_accuracy: 0.9688\n",
      "Epoch 59/100\n",
      "1/3 [=========>....................] - ETA: 0s - loss: 0.7101 - accuracy: 0.7188\n",
      "Epoch 59: saving model to model/keypoint_classifier\\keypoint_classifier.hdf5\n",
      "3/3 [==============================] - 0s 81ms/step - loss: 0.6957 - accuracy: 0.7579 - val_loss: 0.4507 - val_accuracy: 0.9688\n",
      "Epoch 60/100\n",
      "1/3 [=========>....................] - ETA: 0s - loss: 0.7040 - accuracy: 0.7578\n",
      "Epoch 60: saving model to model/keypoint_classifier\\keypoint_classifier.hdf5\n",
      "3/3 [==============================] - 0s 78ms/step - loss: 0.7013 - accuracy: 0.7368 - val_loss: 0.4429 - val_accuracy: 0.9792\n",
      "Epoch 61/100\n",
      "1/3 [=========>....................] - ETA: 0s - loss: 0.6859 - accuracy: 0.7109\n",
      "Epoch 61: saving model to model/keypoint_classifier\\keypoint_classifier.hdf5\n",
      "3/3 [==============================] - 0s 75ms/step - loss: 0.7029 - accuracy: 0.7123 - val_loss: 0.4355 - val_accuracy: 0.9896\n",
      "Epoch 62/100\n",
      "1/3 [=========>....................] - ETA: 0s - loss: 0.6495 - accuracy: 0.7344\n",
      "Epoch 62: saving model to model/keypoint_classifier\\keypoint_classifier.hdf5\n",
      "3/3 [==============================] - 0s 78ms/step - loss: 0.6749 - accuracy: 0.7368 - val_loss: 0.4281 - val_accuracy: 0.9896\n",
      "Epoch 63/100\n",
      "1/3 [=========>....................] - ETA: 0s - loss: 0.6377 - accuracy: 0.7422\n",
      "Epoch 63: saving model to model/keypoint_classifier\\keypoint_classifier.hdf5\n",
      "3/3 [==============================] - 0s 78ms/step - loss: 0.6561 - accuracy: 0.7404 - val_loss: 0.4216 - val_accuracy: 0.9896\n",
      "Epoch 64/100\n",
      "1/3 [=========>....................] - ETA: 0s - loss: 0.5976 - accuracy: 0.7188\n",
      "Epoch 64: saving model to model/keypoint_classifier\\keypoint_classifier.hdf5\n",
      "3/3 [==============================] - 0s 78ms/step - loss: 0.6416 - accuracy: 0.7509 - val_loss: 0.4143 - val_accuracy: 0.9896\n",
      "Epoch 65/100\n",
      "1/3 [=========>....................] - ETA: 0s - loss: 0.6528 - accuracy: 0.7734\n",
      "Epoch 65: saving model to model/keypoint_classifier\\keypoint_classifier.hdf5\n",
      "3/3 [==============================] - 0s 80ms/step - loss: 0.6654 - accuracy: 0.7789 - val_loss: 0.4087 - val_accuracy: 0.9896\n",
      "Epoch 66/100\n",
      "1/3 [=========>....................] - ETA: 0s - loss: 0.6411 - accuracy: 0.8047\n",
      "Epoch 66: saving model to model/keypoint_classifier\\keypoint_classifier.hdf5\n",
      "3/3 [==============================] - 0s 81ms/step - loss: 0.6420 - accuracy: 0.7860 - val_loss: 0.4030 - val_accuracy: 0.9896\n",
      "Epoch 67/100\n",
      "1/3 [=========>....................] - ETA: 0s - loss: 0.6623 - accuracy: 0.7109\n",
      "Epoch 67: saving model to model/keypoint_classifier\\keypoint_classifier.hdf5\n",
      "3/3 [==============================] - 0s 82ms/step - loss: 0.6565 - accuracy: 0.7368 - val_loss: 0.3984 - val_accuracy: 0.9688\n",
      "Epoch 68/100\n",
      "1/3 [=========>....................] - ETA: 0s - loss: 0.5959 - accuracy: 0.7656\n",
      "Epoch 68: saving model to model/keypoint_classifier\\keypoint_classifier.hdf5\n",
      "3/3 [==============================] - 0s 81ms/step - loss: 0.6062 - accuracy: 0.7825 - val_loss: 0.3897 - val_accuracy: 0.9688\n",
      "Epoch 69/100\n",
      "1/3 [=========>....................] - ETA: 0s - loss: 0.6044 - accuracy: 0.7734\n",
      "Epoch 69: saving model to model/keypoint_classifier\\keypoint_classifier.hdf5\n",
      "3/3 [==============================] - 0s 79ms/step - loss: 0.6003 - accuracy: 0.7825 - val_loss: 0.3793 - val_accuracy: 0.9688\n",
      "Epoch 70/100\n",
      "1/3 [=========>....................] - ETA: 0s - loss: 0.5474 - accuracy: 0.8047\n",
      "Epoch 70: saving model to model/keypoint_classifier\\keypoint_classifier.hdf5\n",
      "3/3 [==============================] - 0s 79ms/step - loss: 0.5933 - accuracy: 0.7895 - val_loss: 0.3700 - val_accuracy: 0.9792\n",
      "Epoch 71/100\n",
      "1/3 [=========>....................] - ETA: 0s - loss: 0.6244 - accuracy: 0.7969\n",
      "Epoch 71: saving model to model/keypoint_classifier\\keypoint_classifier.hdf5\n",
      "3/3 [==============================] - 0s 78ms/step - loss: 0.5898 - accuracy: 0.7930 - val_loss: 0.3581 - val_accuracy: 0.9896\n",
      "Epoch 72/100\n",
      "1/3 [=========>....................] - ETA: 0s - loss: 0.5463 - accuracy: 0.7656\n",
      "Epoch 72: saving model to model/keypoint_classifier\\keypoint_classifier.hdf5\n",
      "3/3 [==============================] - 0s 76ms/step - loss: 0.5842 - accuracy: 0.7614 - val_loss: 0.3426 - val_accuracy: 0.9896\n",
      "Epoch 73/100\n",
      "1/3 [=========>....................] - ETA: 0s - loss: 0.6473 - accuracy: 0.7266\n",
      "Epoch 73: saving model to model/keypoint_classifier\\keypoint_classifier.hdf5\n",
      "3/3 [==============================] - 0s 84ms/step - loss: 0.6468 - accuracy: 0.7368 - val_loss: 0.3330 - val_accuracy: 0.9896\n",
      "Epoch 74/100\n",
      "1/3 [=========>....................] - ETA: 0s - loss: 0.6141 - accuracy: 0.7891\n",
      "Epoch 74: saving model to model/keypoint_classifier\\keypoint_classifier.hdf5\n",
      "3/3 [==============================] - 0s 76ms/step - loss: 0.6214 - accuracy: 0.7684 - val_loss: 0.3311 - val_accuracy: 0.9896\n",
      "Epoch 75/100\n",
      "1/3 [=========>....................] - ETA: 0s - loss: 0.6031 - accuracy: 0.7734\n",
      "Epoch 75: saving model to model/keypoint_classifier\\keypoint_classifier.hdf5\n",
      "3/3 [==============================] - 0s 78ms/step - loss: 0.5667 - accuracy: 0.7754 - val_loss: 0.3285 - val_accuracy: 0.9896\n",
      "Epoch 76/100\n",
      "1/3 [=========>....................] - ETA: 0s - loss: 0.5151 - accuracy: 0.8438\n",
      "Epoch 76: saving model to model/keypoint_classifier\\keypoint_classifier.hdf5\n",
      "3/3 [==============================] - 0s 80ms/step - loss: 0.5699 - accuracy: 0.8211 - val_loss: 0.3255 - val_accuracy: 0.9896\n",
      "Epoch 77/100\n",
      "1/3 [=========>....................] - ETA: 0s - loss: 0.5497 - accuracy: 0.8047\n",
      "Epoch 77: saving model to model/keypoint_classifier\\keypoint_classifier.hdf5\n",
      "3/3 [==============================] - 0s 79ms/step - loss: 0.5649 - accuracy: 0.8070 - val_loss: 0.3215 - val_accuracy: 0.9896\n",
      "Epoch 78/100\n",
      "1/3 [=========>....................] - ETA: 0s - loss: 0.5177 - accuracy: 0.8125\n",
      "Epoch 78: saving model to model/keypoint_classifier\\keypoint_classifier.hdf5\n",
      "3/3 [==============================] - 0s 80ms/step - loss: 0.5252 - accuracy: 0.8211 - val_loss: 0.3183 - val_accuracy: 0.9896\n",
      "Epoch 79/100\n",
      "1/3 [=========>....................] - ETA: 0s - loss: 0.5940 - accuracy: 0.7656\n",
      "Epoch 79: saving model to model/keypoint_classifier\\keypoint_classifier.hdf5\n",
      "3/3 [==============================] - 0s 83ms/step - loss: 0.5620 - accuracy: 0.7789 - val_loss: 0.3103 - val_accuracy: 0.9896\n",
      "Epoch 80/100\n",
      "1/3 [=========>....................] - ETA: 0s - loss: 0.4901 - accuracy: 0.8438\n",
      "Epoch 80: saving model to model/keypoint_classifier\\keypoint_classifier.hdf5\n",
      "3/3 [==============================] - 0s 76ms/step - loss: 0.5669 - accuracy: 0.8105 - val_loss: 0.2984 - val_accuracy: 0.9896\n",
      "Epoch 81/100\n",
      "1/3 [=========>....................] - ETA: 0s - loss: 0.5534 - accuracy: 0.7812\n",
      "Epoch 81: saving model to model/keypoint_classifier\\keypoint_classifier.hdf5\n",
      "3/3 [==============================] - 0s 80ms/step - loss: 0.5085 - accuracy: 0.8211 - val_loss: 0.2881 - val_accuracy: 0.9896\n",
      "Epoch 82/100\n",
      "1/3 [=========>....................] - ETA: 0s - loss: 0.6328 - accuracy: 0.7656\n",
      "Epoch 82: saving model to model/keypoint_classifier\\keypoint_classifier.hdf5\n",
      "3/3 [==============================] - 0s 79ms/step - loss: 0.5901 - accuracy: 0.7684 - val_loss: 0.2798 - val_accuracy: 0.9896\n",
      "Epoch 83/100\n",
      "1/3 [=========>....................] - ETA: 0s - loss: 0.5732 - accuracy: 0.7969\n",
      "Epoch 83: saving model to model/keypoint_classifier\\keypoint_classifier.hdf5\n",
      "3/3 [==============================] - 0s 73ms/step - loss: 0.5283 - accuracy: 0.8175 - val_loss: 0.2752 - val_accuracy: 0.9896\n",
      "Epoch 84/100\n",
      "1/3 [=========>....................] - ETA: 0s - loss: 0.5350 - accuracy: 0.8125\n",
      "Epoch 84: saving model to model/keypoint_classifier\\keypoint_classifier.hdf5\n",
      "3/3 [==============================] - 0s 77ms/step - loss: 0.5346 - accuracy: 0.8000 - val_loss: 0.2696 - val_accuracy: 0.9896\n"
     ]
    },
    {
     "name": "stdout",
     "output_type": "stream",
     "text": [
      "Epoch 85/100\n",
      "1/3 [=========>....................] - ETA: 0s - loss: 0.5358 - accuracy: 0.7969\n",
      "Epoch 85: saving model to model/keypoint_classifier\\keypoint_classifier.hdf5\n",
      "3/3 [==============================] - 0s 80ms/step - loss: 0.5347 - accuracy: 0.7930 - val_loss: 0.2666 - val_accuracy: 0.9896\n",
      "Epoch 86/100\n",
      "1/3 [=========>....................] - ETA: 0s - loss: 0.4338 - accuracy: 0.8594\n",
      "Epoch 86: saving model to model/keypoint_classifier\\keypoint_classifier.hdf5\n",
      "3/3 [==============================] - 0s 85ms/step - loss: 0.4893 - accuracy: 0.8211 - val_loss: 0.2655 - val_accuracy: 0.9896\n",
      "Epoch 87/100\n",
      "1/3 [=========>....................] - ETA: 0s - loss: 0.5132 - accuracy: 0.8047\n",
      "Epoch 87: saving model to model/keypoint_classifier\\keypoint_classifier.hdf5\n",
      "3/3 [==============================] - 0s 86ms/step - loss: 0.5715 - accuracy: 0.7649 - val_loss: 0.2645 - val_accuracy: 0.9896\n",
      "Epoch 88/100\n",
      "1/3 [=========>....................] - ETA: 0s - loss: 0.5156 - accuracy: 0.8359\n",
      "Epoch 88: saving model to model/keypoint_classifier\\keypoint_classifier.hdf5\n",
      "3/3 [==============================] - 0s 85ms/step - loss: 0.5204 - accuracy: 0.8175 - val_loss: 0.2632 - val_accuracy: 0.9896\n",
      "Epoch 89/100\n",
      "1/3 [=========>....................] - ETA: 0s - loss: 0.4771 - accuracy: 0.8438\n",
      "Epoch 89: saving model to model/keypoint_classifier\\keypoint_classifier.hdf5\n",
      "3/3 [==============================] - 0s 83ms/step - loss: 0.5115 - accuracy: 0.8140 - val_loss: 0.2598 - val_accuracy: 0.9896\n",
      "Epoch 90/100\n",
      "1/3 [=========>....................] - ETA: 0s - loss: 0.5043 - accuracy: 0.7812\n",
      "Epoch 90: saving model to model/keypoint_classifier\\keypoint_classifier.hdf5\n",
      "3/3 [==============================] - 0s 78ms/step - loss: 0.5146 - accuracy: 0.7860 - val_loss: 0.2509 - val_accuracy: 0.9896\n",
      "Epoch 91/100\n",
      "1/3 [=========>....................] - ETA: 0s - loss: 0.4436 - accuracy: 0.8672\n",
      "Epoch 91: saving model to model/keypoint_classifier\\keypoint_classifier.hdf5\n",
      "3/3 [==============================] - 0s 81ms/step - loss: 0.4684 - accuracy: 0.8316 - val_loss: 0.2421 - val_accuracy: 0.9896\n",
      "Epoch 92/100\n",
      "1/3 [=========>....................] - ETA: 0s - loss: 0.4401 - accuracy: 0.8516\n",
      "Epoch 92: saving model to model/keypoint_classifier\\keypoint_classifier.hdf5\n",
      "3/3 [==============================] - 0s 76ms/step - loss: 0.5008 - accuracy: 0.8175 - val_loss: 0.2338 - val_accuracy: 0.9896\n",
      "Epoch 93/100\n",
      "1/3 [=========>....................] - ETA: 0s - loss: 0.5604 - accuracy: 0.7969\n",
      "Epoch 93: saving model to model/keypoint_classifier\\keypoint_classifier.hdf5\n",
      "3/3 [==============================] - 0s 84ms/step - loss: 0.5025 - accuracy: 0.8316 - val_loss: 0.2268 - val_accuracy: 0.9896\n",
      "Epoch 94/100\n",
      "1/3 [=========>....................] - ETA: 0s - loss: 0.4616 - accuracy: 0.8828\n",
      "Epoch 94: saving model to model/keypoint_classifier\\keypoint_classifier.hdf5\n",
      "3/3 [==============================] - 0s 80ms/step - loss: 0.4837 - accuracy: 0.8491 - val_loss: 0.2229 - val_accuracy: 0.9896\n",
      "Epoch 95/100\n",
      "1/3 [=========>....................] - ETA: 0s - loss: 0.4830 - accuracy: 0.8203\n",
      "Epoch 95: saving model to model/keypoint_classifier\\keypoint_classifier.hdf5\n",
      "3/3 [==============================] - 0s 79ms/step - loss: 0.4752 - accuracy: 0.8316 - val_loss: 0.2176 - val_accuracy: 0.9896\n",
      "Epoch 96/100\n",
      "1/3 [=========>....................] - ETA: 0s - loss: 0.4582 - accuracy: 0.8281\n",
      "Epoch 96: saving model to model/keypoint_classifier\\keypoint_classifier.hdf5\n",
      "3/3 [==============================] - 0s 83ms/step - loss: 0.5043 - accuracy: 0.8070 - val_loss: 0.2119 - val_accuracy: 0.9896\n",
      "Epoch 97/100\n",
      "1/3 [=========>....................] - ETA: 0s - loss: 0.4353 - accuracy: 0.8672\n",
      "Epoch 97: saving model to model/keypoint_classifier\\keypoint_classifier.hdf5\n",
      "3/3 [==============================] - 0s 80ms/step - loss: 0.4578 - accuracy: 0.8561 - val_loss: 0.2054 - val_accuracy: 0.9896\n",
      "Epoch 98/100\n",
      "1/3 [=========>....................] - ETA: 0s - loss: 0.4516 - accuracy: 0.8047\n",
      "Epoch 98: saving model to model/keypoint_classifier\\keypoint_classifier.hdf5\n",
      "3/3 [==============================] - 0s 79ms/step - loss: 0.4531 - accuracy: 0.8175 - val_loss: 0.1997 - val_accuracy: 0.9896\n",
      "Epoch 99/100\n",
      "1/3 [=========>....................] - ETA: 0s - loss: 0.4177 - accuracy: 0.8750\n",
      "Epoch 99: saving model to model/keypoint_classifier\\keypoint_classifier.hdf5\n",
      "3/3 [==============================] - 0s 83ms/step - loss: 0.4146 - accuracy: 0.8737 - val_loss: 0.1941 - val_accuracy: 0.9896\n",
      "Epoch 100/100\n",
      "1/3 [=========>....................] - ETA: 0s - loss: 0.4884 - accuracy: 0.8281\n",
      "Epoch 100: saving model to model/keypoint_classifier\\keypoint_classifier.hdf5\n",
      "3/3 [==============================] - 0s 77ms/step - loss: 0.4180 - accuracy: 0.8632 - val_loss: 0.1883 - val_accuracy: 0.9896\n"
     ]
    },
    {
     "data": {
      "text/plain": [
       "<keras.src.callbacks.History at 0x201df699f10>"
      ]
     },
     "execution_count": 47,
     "metadata": {},
     "output_type": "execute_result"
    }
   ],
   "source": [
    "model.fit(\n",
    "    X_train,\n",
    "    y_train,\n",
    "    epochs=150,\n",
    "    batch_size=128,\n",
    "    validation_data=(X_test, y_test),\n",
    "    callbacks=[cp_callback, es_callback]\n",
    ")"
   ]
  },
  {
   "cell_type": "code",
   "execution_count": 48,
   "metadata": {
    "colab": {
     "base_uri": "https://localhost:8080/"
    },
    "id": "pxvb2Y299hE3",
    "outputId": "59eb3185-2e37-4b9e-bc9d-ab1b8ac29b7f"
   },
   "outputs": [
    {
     "name": "stdout",
     "output_type": "stream",
     "text": [
      "1/1 [==============================] - 0s 74ms/step - loss: 0.1883 - accuracy: 0.9896\n"
     ]
    }
   ],
   "source": [
    "# Model evaluation\n",
    "val_loss, val_acc = model.evaluate(X_test, y_test, batch_size=128)"
   ]
  },
  {
   "cell_type": "code",
   "execution_count": 49,
   "metadata": {
    "id": "RBkmDeUW9hE4"
   },
   "outputs": [],
   "source": [
    "# Loading the saved model\n",
    "model = tf.keras.models.load_model(model_save_path)"
   ]
  },
  {
   "cell_type": "code",
   "execution_count": 50,
   "metadata": {
    "colab": {
     "base_uri": "https://localhost:8080/"
    },
    "id": "tFz9Tb0I9hE4",
    "outputId": "1c3b3528-54ae-4ee2-ab04-77429211cbef"
   },
   "outputs": [
    {
     "name": "stdout",
     "output_type": "stream",
     "text": [
      "1/1 [==============================] - 0s 150ms/step\n",
      "[0.01828291 0.18684322 0.01331365 0.78156024]\n",
      "3\n"
     ]
    }
   ],
   "source": [
    "# Inference test\n",
    "predict_result = model.predict(np.array([X_test[0]]))\n",
    "print(np.squeeze(predict_result))\n",
    "print(np.argmax(np.squeeze(predict_result)))"
   ]
  },
  {
   "cell_type": "markdown",
   "metadata": {
    "id": "S3U4yNWx9hE4"
   },
   "source": [
    "# Confusion matrix"
   ]
  },
  {
   "cell_type": "code",
   "execution_count": 51,
   "metadata": {
    "colab": {
     "base_uri": "https://localhost:8080/",
     "height": 582
    },
    "id": "AP1V6SCk9hE5",
    "outputId": "08e41a80-7a4a-4619-8125-ecc371368d19"
   },
   "outputs": [
    {
     "name": "stdout",
     "output_type": "stream",
     "text": [
      "3/3 [==============================] - 0s 5ms/step\n"
     ]
    },
    {
     "data": {
      "image/png": "[encoded data removed]",
      "text/plain": [
       "<Figure size 700x600 with 2 Axes>"
      ]
     },
     "metadata": {},
     "output_type": "display_data"
    },
    {
     "name": "stdout",
     "output_type": "stream",
     "text": [
      "Classification Report\n",
      "              precision    recall  f1-score   support\n",
      "\n",
      "           0       1.00      1.00      1.00        34\n",
      "           1       0.95      1.00      0.98        20\n",
      "           2       1.00      0.95      0.97        20\n",
      "           3       1.00      1.00      1.00        22\n",
      "\n",
      "    accuracy                           0.99        96\n",
      "   macro avg       0.99      0.99      0.99        96\n",
      "weighted avg       0.99      0.99      0.99        96\n",
      "\n"
     ]
    }
   ],
   "source": [
    "import pandas as pd\n",
    "import seaborn as sns\n",
    "import matplotlib.pyplot as plt\n",
    "from sklearn.metrics import confusion_matrix, classification_report\n",
    "\n",
    "def print_confusion_matrix(y_true, y_pred, report=True):\n",
    "    labels = sorted(list(set(y_true)))\n",
    "    cmx_data = confusion_matrix(y_true, y_pred, labels=labels)\n",
    "    \n",
    "    df_cmx = pd.DataFrame(cmx_data, index=labels, columns=labels)\n",
    " \n",
    "    fig, ax = plt.subplots(figsize=(7, 6))\n",
    "    sns.heatmap(df_cmx, annot=True, fmt='g' ,square=False)\n",
    "    ax.set_ylim(len(set(y_true)), 0)\n",
    "    plt.show()\n",
    "    \n",
    "    if report:\n",
    "        print('Classification Report')\n",
    "        print(classification_report(y_test, y_pred))\n",
    "\n",
    "Y_pred = model.predict(X_test)\n",
    "y_pred = np.argmax(Y_pred, axis=1)\n",
    "\n",
    "print_confusion_matrix(y_test, y_pred)"
   ]
  },
  {
   "cell_type": "markdown",
   "metadata": {
    "id": "FNP6aqzc9hE5"
   },
   "source": [
    "# Convert to model for Tensorflow-Lite"
   ]
  },
  {
   "cell_type": "code",
   "execution_count": 52,
   "metadata": {
    "id": "ODjnYyld9hE6"
   },
   "outputs": [
    {
     "name": "stderr",
     "output_type": "stream",
     "text": [
      "C:\\Users\\Sanjay\\AppData\\Local\\Programs\\Python\\Python39\\lib\\site-packages\\keras\\src\\engine\\training.py:3000: UserWarning: You are saving your model as an HDF5 file via `model.save()`. This file format is considered legacy. We recommend using instead the native Keras format, e.g. `model.save('my_model.keras')`.\n",
      "  saving_api.save_model(\n"
     ]
    }
   ],
   "source": [
    "# Save as a model dedicated to inference\n",
    "model.save(model_save_path, include_optimizer=False)"
   ]
  },
  {
   "cell_type": "code",
   "execution_count": 53,
   "metadata": {
    "colab": {
     "base_uri": "https://localhost:8080/"
    },
    "id": "zRfuK8Y59hE6",
    "outputId": "a4ca585c-b5d5-4244-8291-8674063209bb"
   },
   "outputs": [
    {
     "name": "stdout",
     "output_type": "stream",
     "text": [
      "INFO:tensorflow:Assets written to: C:\\Users\\Sanjay\\AppData\\Local\\Temp\\tmpap3hrxzh\\assets\n"
     ]
    },
    {
     "name": "stderr",
     "output_type": "stream",
     "text": [
      "INFO:tensorflow:Assets written to: C:\\Users\\Sanjay\\AppData\\Local\\Temp\\tmpap3hrxzh\\assets\n"
     ]
    },
    {
     "data": {
      "text/plain": [
       "5032"
      ]
     },
     "execution_count": 53,
     "metadata": {},
     "output_type": "execute_result"
    }
   ],
   "source": [
    "# Transform model (quantization)\n",
    "\n",
    "converter = tf.lite.TFLiteConverter.from_keras_model(model)\n",
    "converter.optimizations = [tf.lite.Optimize.DEFAULT]\n",
    "tflite_quantized_model = converter.convert()\n",
    "\n",
    "open(tflite_save_path, 'wb').write(tflite_quantized_model)"
   ]
  },
  {
   "cell_type": "markdown",
   "metadata": {
    "id": "CHBPBXdx9hE6"
   },
   "source": [
    "# Inference test"
   ]
  },
  {
   "cell_type": "code",
   "execution_count": 54,
   "metadata": {
    "id": "mGAzLocO9hE7"
   },
   "outputs": [],
   "source": [
    "interpreter = tf.lite.Interpreter(model_path=tflite_save_path)\n",
    "interpreter.allocate_tensors()"
   ]
  },
  {
   "cell_type": "code",
   "execution_count": 55,
   "metadata": {
    "id": "oQuDK8YS9hE7"
   },
   "outputs": [],
   "source": [
    "# Get I / O tensor\n",
    "input_details = interpreter.get_input_details()\n",
    "output_details = interpreter.get_output_details()"
   ]
  },
  {
   "cell_type": "code",
   "execution_count": 56,
   "metadata": {
    "id": "2_ixAf_l9hE7"
   },
   "outputs": [],
   "source": [
    "interpreter.set_tensor(input_details[0]['index'], np.array([X_test[0]]))"
   ]
  },
  {
   "cell_type": "code",
   "execution_count": 57,
   "metadata": {
    "colab": {
     "base_uri": "https://localhost:8080/"
    },
    "id": "s4FoAnuc9hE7",
    "outputId": "91f18257-8d8b-4ef3-c558-e9b5f94fabbf",
    "scrolled": true
   },
   "outputs": [
    {
     "name": "stdout",
     "output_type": "stream",
     "text": [
      "CPU times: total: 0 ns\n",
      "Wall time: 0 ns\n"
     ]
    }
   ],
   "source": [
    "%%time\n",
    "# Inference implementation\n",
    "interpreter.invoke()\n",
    "tflite_results = interpreter.get_tensor(output_details[0]['index'])"
   ]
  },
  {
   "cell_type": "code",
   "execution_count": 58,
   "metadata": {
    "colab": {
     "base_uri": "https://localhost:8080/"
    },
    "id": "vONjp19J9hE8",
    "outputId": "77205e24-fd00-42c4-f7b6-e06e527c2cba"
   },
   "outputs": [
    {
     "name": "stdout",
     "output_type": "stream",
     "text": [
      "[0.01826869 0.18669389 0.01330755 0.7817299 ]\n",
      "3\n"
     ]
    }
   ],
   "source": [
    "print(np.squeeze(tflite_results))\n",
    "print(np.argmax(np.squeeze(tflite_results)))"
   ]
  },
  {
   "cell_type": "code",
   "execution_count": null,
   "metadata": {},
   "outputs": [],
   "source": []
  },
  {
   "cell_type": "code",
   "execution_count": null,
   "metadata": {},
   "outputs": [],
   "source": []
  }
 ],
 "metadata": {
  "accelerator": "GPU",
  "colab": {
   "collapsed_sections": [],
   "name": "keypoint_classification_EN.ipynb",
   "provenance": [],
   "toc_visible": true
  },
  "kernelspec": {
   "display_name": "Python 3 (ipykernel)",
   "language": "python",
   "name": "python3"
  },
  "language_info": {
   "codemirror_mode": {
    "name": "ipython",
    "version": 3
   },
   "file_extension": ".py",
   "mimetype": "text/x-python",
   "name": "python",
   "nbconvert_exporter": "python",
   "pygments_lexer": "ipython3",
   "version": "3.9.7"
  }
 },
 "nbformat": 4,
 "nbformat_minor": 1
}
